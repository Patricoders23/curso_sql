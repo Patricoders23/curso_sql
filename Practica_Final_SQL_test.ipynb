{
    "cells": [
        {
            "attachments": {},
            "cell_type": "markdown",
            "metadata": {
                "azdata_cell_guid": "c6c8bfc7-022e-4a08-9e45-2b86b3fb00c8"
            },
            "source": [
                "# Práctica Final Módulo 4 - SQL"
            ]
        },
        {
            "attachments": {},
            "cell_type": "markdown",
            "metadata": {
                "azdata_cell_guid": "1e9d08c2-c9c2-44f8-a3e8-eed5b31a1738"
            },
            "source": [
                "### Responder, utilizando consultas sql, las preguntas que se te hacen a continuación sobre datos de clientes y transacciones del sector bancario (datos sintéticos). EL primer paso es generar el 'schema' , las tablas y la inserción de los datos sinténticos. En la siguiente celda encontrarás los pasos para crear la base de datos. El código sql está comentado con **/\\*** _código sql_  **\\*/** , de modo que , <u>_antes de ejecutar las celdas_</u>, debes **\"descomentar\"** (borrar **'/\\*'** y **'\\*/'**) las consultas. Es posible que algunas consultas te arrojen tablas vacias."
            ]
        },
        {
            "attachments": {},
            "cell_type": "markdown",
            "metadata": {
                "azdata_cell_guid": "ad2a387c-b90e-4ebf-aa39-1262b6ed33e8"
            },
            "source": [
                "- **Crear esquema**"
            ]
        },
        {
            "cell_type": "code",
            "execution_count": 3,
            "metadata": {
                "azdata_cell_guid": "1bd39abc-5ca9-4bfb-90aa-b3b936295b87",
                "language": "sql"
            },
            "outputs": [
                {
                    "data": {
                        "text/html": [
                            "Commands completed successfully"
                        ]
                    },
                    "metadata": {},
                    "output_type": "display_data"
                },
                {
                    "data": {
                        "text/html": [
                            "Total execution time: 00:00:00.013"
                        ]
                    },
                    "metadata": {},
                    "output_type": "display_data"
                }
            ],
            "source": [
                "\n",
                "CREATE SCHEMA bank; "
            ]
        },
        {
            "attachments": {},
            "cell_type": "markdown",
            "metadata": {
                "azdata_cell_guid": "24ded8ca-b7ea-4700-b2d0-46805d16f8b6",
                "language": "sql"
            },
            "source": [
                "- **Crear tabla Clientes**"
            ]
        },
        {
            "cell_type": "code",
            "execution_count": 4,
            "metadata": {
                "azdata_cell_guid": "08cc0625-9806-4e42-85ad-3c539ffab31c",
                "language": "sql"
            },
            "outputs": [
                {
                    "data": {
                        "text/html": [
                            "Commands completed successfully"
                        ]
                    },
                    "metadata": {},
                    "output_type": "display_data"
                },
                {
                    "data": {
                        "text/html": [
                            "Total execution time: 00:00:00.031"
                        ]
                    },
                    "metadata": {},
                    "output_type": "display_data"
                }
            ],
            "source": [
                "\n",
                "CREATE TABLE bank.Clientes (\n",
                "    ClienteID INT PRIMARY KEY,\n",
                "    Nombre VARCHAR(50),\n",
                "    Apellido VARCHAR(50),\n",
                "    FechaNacimiento DATE,\n",
                "    Genero CHAR(1),\n",
                "    Direccion VARCHAR(100),\n",
                "    Ciudad VARCHAR(50),\n",
                "    CodigoPostal VARCHAR(10)\n",
                ");\n"
            ]
        },
        {
            "attachments": {},
            "cell_type": "markdown",
            "metadata": {
                "azdata_cell_guid": "ae99c0cb-70da-42b0-9abc-df9eab0f0ced",
                "language": "sql"
            },
            "source": [
                "- **Crear tabla Cuentas**"
            ]
        },
        {
            "cell_type": "code",
            "execution_count": 7,
            "metadata": {
                "azdata_cell_guid": "41274da0-23f4-422b-901f-e2cd757e915b",
                "language": "sql"
            },
            "outputs": [
                {
                    "data": {
                        "text/html": [
                            "Commands completed successfully"
                        ]
                    },
                    "metadata": {},
                    "output_type": "display_data"
                },
                {
                    "data": {
                        "text/html": [
                            "Total execution time: 00:00:00.085"
                        ]
                    },
                    "metadata": {},
                    "output_type": "display_data"
                }
            ],
            "source": [
                "CREATE TABLE bank.Cuentas (\n",
                "    CuentaID INT PRIMARY KEY,\n",
                "    ClienteID INT,\n",
                "    TipoCuenta VARCHAR(20),\n",
                "    FechaApertura DATE,\n",
                "    Saldo DECIMAL(12,2),\n",
                "    FOREIGN KEY (ClienteID) REFERENCES bank.Clientes(ClienteID)\n",
                ");\n"
            ]
        },
        {
            "attachments": {},
            "cell_type": "markdown",
            "metadata": {
                "azdata_cell_guid": "720d65f7-746c-4e5c-b16c-bc1356ee83cd",
                "language": "sql"
            },
            "source": [
                "- **Crear tabla Transacciones**"
            ]
        },
        {
            "cell_type": "code",
            "execution_count": 8,
            "metadata": {
                "azdata_cell_guid": "c5c49ae2-f245-44c0-862e-af966a1341b1",
                "language": "sql"
            },
            "outputs": [
                {
                    "data": {
                        "text/html": [
                            "Commands completed successfully"
                        ]
                    },
                    "metadata": {},
                    "output_type": "display_data"
                },
                {
                    "data": {
                        "text/html": [
                            "Total execution time: 00:00:00.069"
                        ]
                    },
                    "metadata": {},
                    "output_type": "display_data"
                }
            ],
            "source": [
                "\n",
                "CREATE TABLE bank.Transacciones (\n",
                "    TransaccionID INT PRIMARY KEY,\n",
                "    CuentaID INT,\n",
                "    Fecha DATE,\n",
                "    Tipo VARCHAR(20),\n",
                "    Monto DECIMAL(12,2),\n",
                "    Descripcion VARCHAR(100),\n",
                "    FOREIGN KEY (CuentaID) REFERENCES bank.Cuentas(CuentaID)\n",
                ");\n"
            ]
        },
        {
            "attachments": {},
            "cell_type": "markdown",
            "metadata": {
                "azdata_cell_guid": "43ec9932-04e2-409f-94f8-facfbaac2d53",
                "language": "sql"
            },
            "source": [
                "- **Insertar los datos en la tabla Clientes**"
            ]
        },
        {
            "cell_type": "code",
            "execution_count": 9,
            "metadata": {
                "azdata_cell_guid": "f61a1d4b-1fef-41bb-b4d2-75037bd7ba5b",
                "language": "sql"
            },
            "outputs": [
                {
                    "data": {
                        "text/html": [
                            "Commands completed successfully"
                        ]
                    },
                    "metadata": {},
                    "output_type": "display_data"
                },
                {
                    "data": {
                        "text/html": [
                            "Total execution time: 00:00:00.015"
                        ]
                    },
                    "metadata": {},
                    "output_type": "display_data"
                }
            ],
            "source": [
                "\n",
                "INSERT INTO bank.Clientes (ClienteID, Nombre, Apellido, FechaNacimiento, Genero, Direccion, Ciudad, CodigoPostal)\n",
                "VALUES\n",
                "    (1, 'Juan', 'Pérez', '1985-03-15', 'M', 'Calle Falsa 123', 'Madrid', '28001'),\n",
                "    (2, 'María', 'García', '1992-11-22', 'F', 'Avenida Siempreviva 456', 'Barcelona', '08001'),\n",
                "    (3, 'Pedro', 'Rodríguez', '1978-07-02', 'M', 'Paseo del Parque 789', 'Sevilla', '41001'),\n",
                "    (4, 'Ana', 'Martínez', '1990-04-18', 'F', 'Calle Mayor 321', 'Valencia', '46001'),\n",
                "    (5, 'Carlos', 'Sánchez', '1982-09-30', 'M', 'Plaza del Ayuntamiento 159', 'Bilbao', '48001'),\n",
                "    (6, 'Laura', 'Fernández', '1995-12-08', 'F', 'Rambla de las Flores 753', 'Málaga', '29001'),\n",
                "    (7, 'Javier', 'Gómez', '1988-06-20', 'M', 'Paseo Marítimo 246', 'Alicante', '03001'),\n",
                "    (8, 'Sofía', 'Torres', '1975-02-10', 'F', 'Avenida del Mar 852', 'Palma de Mallorca', '07001'),\n",
                "    (9, 'Sergio', 'Navarro', '1983-11-05', 'M', 'Calle Real 753', 'Zaragoza', '50001'),\n",
                "    (10, 'Isabel', 'Ramírez', '1991-08-28', 'F', 'Paseo de Gracia 159', 'Barcelona', '08007'),\n",
                "    (11, 'Andrés', 'Herrera', '1979-05-12', 'M', 'Calle del Prado 456', 'Madrid', '28002'),\n",
                "    (12, 'Marta', 'Jiménez', '1987-09-28', 'F', 'Avenida del Puerto 789', 'Valencia', '46002'),\n",
                "    (13, 'Luis', 'Moreno', '1981-03-05', 'M', 'Plaza Mayor 123', 'Sevilla', '41002'),\n",
                "    (14, 'Carla', 'Ruiz', '1993-11-18', 'F', 'Paseo de la Castellana 456', 'Madrid', '28003'),\n",
                "    (15, 'Diego', 'Álvarez', '1977-07-22', 'M', 'Calle Larga 789', 'Málaga', '29002'),\n",
                "    (16, 'Alicia', 'Gutiérrez', '1989-02-03', 'F', 'Rambla de Santa Mónica 123', 'Barcelona', '08004'),\n",
                "    (17, 'Raúl', 'Vázquez', '1984-10-15', 'M', 'Avenida del Mar 456', 'Alicante', '03002'),\n",
                "    (18, 'Lucía', 'Romero', '1991-06-27', 'F', 'Calle San Fermín 789', 'Pamplona', '31001'),\n",
                "    (19, 'Óscar', 'Ramos', '1986-04-09', 'M', 'Plaza del Pilar 123', 'Zaragoza', '50002'),\n",
                "    (20, 'Elena', 'Santos', '1994-12-31', 'F', 'Paseo de la Ribera 456', 'Bilbao', '48002'),\n",
                "    (21, 'Alejandro', 'Flores', '1980-08-17', 'M', 'Calle de la Montera 789', 'Madrid', '28004'),\n",
                "    (22, 'Cristina', 'Molina', '1988-03-10', 'F', 'Avenida de la Palmera 123', 'Sevilla', '41003'),\n",
                "    (23, 'Mario', 'Castillo', '1982-11-25', 'M', 'Paseo Marítimo 456', 'Barcelona', '08005'),\n",
                "    (24, 'Daniela', 'Cabrera', '1996-07-08', 'F', 'Calle de la Reina 789', 'Valencia', '46003'),\n",
                "    (25, 'Pablo', 'Ortega', '1979-02-20', 'M', 'Plaza de las Flores 123', 'Zaragoza', '50003'),\n",
                "    (26, 'Silvia', 'Vargas', '1985-09-03', 'F', 'Avenida de la Constitución 456', 'Sevilla', '41004'),\n",
                "    (27, 'Roberto', 'Sáez', '1991-05-16', 'M', 'Calle Mayor 789', 'Madrid', '28005'),\n",
                "    (28, 'Carolina', 'Pardo', '1993-01-29', 'F', 'Rambla de Cataluña 123', 'Barcelona', '08006'),\n",
                "    (29, 'David', 'Rojas', '1987-10-11', 'M', 'Paseo Marítimo 456', 'Alicante', '03003'),\n",
                "    (30, 'Claudia', 'Suárez', '1995-06-24', 'F', 'Plaza del Ayuntamiento 789', 'Valencia', '46004'),\n",
                "    (31, 'Francisco', 'Ríos', '1983-12-07', 'M', 'Calle de la Paz 123', 'Málaga', '29003'),\n",
                "    (32, 'Adriana', 'Guerrero', '1990-04-30', 'F', 'Avenida del Paralelo 456', 'Barcelona', '08007'),\n",
                "    (33, 'Ernesto', 'Montes', '1978-08-13', 'M', 'Calle Larios 789', 'Málaga', '29004'),\n",
                "    (34, 'Valeria', 'Espinosa', '1997-03-06', 'F', 'Paseo de la Castellana 123', 'Madrid', '28006'),\n",
                "    (35, 'Gustavo', 'Hidalgo', '1984-11-19', 'M', 'Rambla del Prat 456', 'Barcelona', '08008'),\n",
                "    (36, 'Natalia', 'Aguilar', '1992-07-02', 'F', 'Calle San Fernando 789', 'Sevilla', '41005'),\n",
                "    (37, 'Rodrigo', 'Serrano', '1980-05-25', 'M', 'Plaza de la Virgen 123', 'Valencia', '46005'),\n",
                "    (38, 'Gabriela', 'Arias', '1988-02-08', 'F', 'Avenida de la Ilustración 456', 'Zaragoza', '50004'),\n",
                "    (39, 'Mateo', 'Córdoba', '1986-09-21', 'M', 'Calle de las Huertas 789', 'Madrid', '28007'),\n",
                "    (40, 'Camila', 'Acosta', '1994-01-14', 'F', 'Paseo de Gracia 123', 'Barcelona', '08009'),\n",
                "    (41, 'Nicolás', 'Ledesma', '1981-06-27', 'M', 'Calle Larga 456', 'Sevilla', '41006'),\n",
                "    (42, 'Mariana', 'Pizarro', '1989-12-10', 'F', 'Plaza de la Reina 789', 'Valencia', '46006'),\n",
                "    (43, 'Leonardo', 'Escobar', '1983-04-03', 'M', 'Rambla de Cataluña 123', 'Barcelona', '08010'),\n",
                "    (44, 'Valentina', 'Piña', '1996-10-26', 'F', 'Calle Mayor 456', 'Madrid', '28008'),\n",
                "    (45, 'Damián', 'Arce', '1977-07-09', 'M', 'Paseo Marítimo 789', 'Málaga', '29005'),\n",
                "    (46, 'Rebeca', 'Cisneros', '1991-03-22', 'F', 'Avenida del Puerto 123', 'Alicante', '03004'),\n",
                "    (47, 'Samuel', 'Villalobos', '1985-11-05', 'M', 'Calle Colón 456', 'Sevilla', '41007'),\n",
                "    (48, 'Renata', 'Segovia', '1993-08-18', 'F', 'Plaza del Pilar 789', 'Zaragoza', '50005'),\n",
                "    (49, 'Emiliano', 'Salcedo', '1980-02-01', 'M', 'Rambla del Prat 123', 'Barcelona', '08011'),\n",
                "    (50, 'Isabella', 'Quintero', '1997-06-14', 'F', 'Calle de los Olivos 23', 'Madrid', '28019'),\n",
                "    (51, 'Tomás', 'Castañeda', '1982-09-27', 'M', 'Calle Bravo Murillo 456', 'Madrid', '28009'),\n",
                "    (52, 'Sofía', 'Uribe', '1990-05-10', 'F', 'Paseo de la Castellana 789', 'Madrid', '28010'),\n",
                "    (53, 'Martín', 'Salinas', '1986-12-03', 'M', 'Avenida Diagonal 123', 'Barcelona', '08012'),\n",
                "    (54, 'Antonella', 'Rincón', '1995-04-16', 'F', 'Calle Larios 456', 'Málaga', '29006'),\n",
                "    (55, 'Santiago', 'Estrada', '1979-11-29', 'M', 'Plaza de la Reina 789', 'Valencia', '46007'),\n",
                "    (56, 'Catalina', 'Solano', '1988-07-12', 'F', 'Rambla del Prat 123', 'Barcelona', '08013'),\n",
                "    (57, 'Benjamín', 'Carvajal', '1984-03-25', 'M', 'Paseo Marítimo 456', 'Alicante', '03005'),\n",
                "    (58, 'Constanza', 'Avendaño', '1992-10-08', 'F', 'Calle San Fernando 789', 'Sevilla', '41008'),\n",
                "    (59, 'Joaquín', 'Cáceres', '1981-06-21', 'M', 'Plaza del Pilar 123', 'Zaragoza', '50006'),\n",
                "    (60, 'Isadora', 'Echevarría', '1996-01-04', 'F', 'Avenida de la Palmera 456', 'Sevilla', '41009'),\n",
                "    (61, 'Lucas', 'Pizarro', '1979-08-17', 'M', 'Calle de la Montera 789', 'Madrid', '28011'),\n",
                "    (62, 'Antonia', 'Zúñiga', '1987-03-30', 'F', 'Paseo de Gracia 123', 'Barcelona', '08014'),\n",
                "    (63, 'Matías', 'Márquez', '1983-11-13', 'M', 'Rambla de Cataluña 456', 'Barcelona', '08015'),\n",
                "    (64, 'Rafaela', 'Acuña', '1991-07-26', 'F', 'Calle Mayor 789', 'Madrid', '28012'),\n",
                "    (65, 'Maximiliano', 'Yáñez', '1985-02-09', 'M', 'Plaza de las Flores 123', 'Zaragoza', '50007'),\n",
                "    (66, 'Julieta', 'Baeza', '1994-09-22', 'F', 'Avenida del Paralelo 456', 'Barcelona', '08016'),\n",
                "    (67, 'Ezequiel', 'Montero', '1980-05-05', 'M', 'Calle Larios 789', 'Málaga', '29007'),\n",
                "    (68, 'Florencia', 'Quintana', '1988-12-18', 'F', 'Paseo de la Castellana 123', 'Madrid', '28013'),\n",
                "    (69, 'Thiago', 'Olivares', '1986-08-01', 'M', 'Rambla del Prat 456', 'Barcelona', '08017'),\n",
                "    (70, 'Bianca', 'Rendón', '1993-04-14', 'F', 'Calle San Fernando 789', 'Sevilla', '41010'),\n",
                "    (71, 'Cristóbal', 'Palacios', '1979-10-27', 'M', 'Plaza de la Virgen 123', 'Valencia', '46008'),\n",
                "    (72, 'Amanda', 'Parra', '1991-06-09', 'F', 'Avenida de la Ilustración 456', 'Zaragoza', '50008'),\n",
                "    (73, 'Emilio', 'Crespo', '1984-01-22', 'M', 'Calle de las Huertas 789', 'Madrid', '28014'),\n",
                "    (74, 'Ariana', 'Henríquez', '1996-09-05', 'F', 'Paseo de Gracia 123', 'Barcelona', '08018'),\n",
                "    (75, 'Salvador', 'Morales', '1982-05-18', 'M', 'Calle Larga 456', 'Sevilla', '41011'),\n",
                "    (76, 'Fernanda', 'Tapia', '1989-11-01', 'F', 'Plaza de la Reina 789', 'Valencia', '46009'),\n",
                "    (77, 'Emmanuel', 'Concha', '1987-07-14', 'M', 'Rambla de Cataluña 123', 'Barcelona', '08019'),\n",
                "    (78, 'Dulce', 'Quintero', '1995-02-27', 'F', 'Calle Mayor 456', 'Madrid', '28015'),\n",
                "    (79, 'Lisandro', 'Peralta', '1981-09-10', 'M', 'Paseo Marítimo 789', 'Málaga', '29008'),\n",
                "    (80, 'Luana', 'Santamaría', '1993-06-23', 'F', 'Avenida del Puerto 123', 'Alicante', '03006'),\n",
                "    (81, 'Máximo', 'Saldivar', '1986-12-06', 'M', 'Calle Colón 456', 'Sevilla', '41012'),\n",
                "    (82, 'Violeta', 'Ugarte', '1990-04-19', 'F', 'Plaza del Pilar 789', 'Zaragoza', '50009'),\n",
                "    (83, 'Ignacio', 'Solís', '1978-11-02', 'M', 'Rambla del Prat 123', 'Barcelona', '08020'),\n",
                "    (84, 'Avril', 'Olmedo', '1997-07-15', 'F', 'Calle Bravo Murillo 456', 'Madrid', '28016'),\n",
                "    (85, 'Leonel', 'Urrutia', '1984-03-28', 'M', 'Paseo de la Castellana 789', 'Madrid', '28017'),\n",
                "    (86, 'Paloma', 'Espinoza', '1992-10-11', 'F', 'Avenida Diagonal 123', 'Barcelona', '08021'),\n",
                "    (87, 'Fabrizio', 'Mora', '1980-06-24', 'M', 'Calle Larios 456', 'Málaga', '29009'),\n",
                "    (88, 'Maite', 'Heredia', '1988-02-07', 'F', 'Plaza de la Reina 789', 'Valencia', '46010'),\n",
                "    (89, 'Gael', 'Bernal', '1986-09-20', 'M', 'Rambla del Prat 123', 'Barcelona', '08022'),\n",
                "    (90, 'Amelia', 'Polo', '1985-08-19', 'F', 'Calle de los Pintores 12', 'Málaga', '28025'),\n",
                "    (91, 'Amelia', 'Peña', '1994-05-03', 'F', 'Paseo Marítimo 456', 'Alicante', '03007'),\n",
                "    (92, 'Bautista', 'Contreras', '1981-12-16', 'M', 'Calle San Fernando 789', 'Sevilla', '41013'),\n",
                "    (93, 'Luciana', 'Velázquez', '1989-08-29', 'F', 'Plaza del Pilar 123', 'Zaragoza', '50010'),\n",
                "    (94, 'Tristán', 'Sepúlveda', '1987-04-12', 'M', 'Avenida de la Palmera 456', 'Sevilla', '41014'),\n",
                "    (95, 'Jimena', 'Galindo', '1995-11-25', 'F', 'Calle de la Montera 789', 'Madrid', '28018'),\n",
                "    (96, 'Álvaro', 'Leal', '1983-07-08', 'M', 'Paseo de Gracia 123', 'Barcelona', '08023'),\n",
                "    (97, 'Dafne', 'Robles', '1991-03-21', 'F', 'Rambla de Cataluña 456', 'Barcelona', '08024'),\n",
                "    (98, 'Ángel', 'Zepeda', '1979-10-04', 'M', 'Calle Mayor 789', 'Madrid', '28019'),\n",
                "    (99, 'Esmeralda', 'Vigil', '1987-06-17', 'F', 'Plaza de las Flores 123', 'Zaragoza', '50011'),\n",
                "    (100, 'Pascual', 'Betancourt', '1985-01-30', 'M', 'Avenida del Paralelo 456', 'Barcelona', '08025');\n"
            ]
        },
        {
            "attachments": {},
            "cell_type": "markdown",
            "metadata": {
                "azdata_cell_guid": "439606bc-6ef0-4530-897e-e9d1a848163e",
                "language": "sql"
            },
            "source": [
                "- **Insertar los datos en la tabla Cuentas**"
            ]
        },
        {
            "cell_type": "code",
            "execution_count": 10,
            "metadata": {
                "azdata_cell_guid": "f4ad4b4a-c802-45fa-871c-333260f94c75",
                "language": "sql"
            },
            "outputs": [
                {
                    "data": {
                        "text/html": [
                            "Commands completed successfully"
                        ]
                    },
                    "metadata": {},
                    "output_type": "display_data"
                },
                {
                    "data": {
                        "text/html": [
                            "Total execution time: 00:00:00.013"
                        ]
                    },
                    "metadata": {},
                    "output_type": "display_data"
                }
            ],
            "source": [
                "\n",
                "INSERT INTO bank.Cuentas (CuentaID, ClienteID, TipoCuenta, FechaApertura, Saldo)\n",
                "VALUES\n",
                "    (1, 1, 'Ahorros', '2010-05-15', 5678.25),\n",
                "    (2, 1, 'Corriente', '2010-05-15', 2345.67),\n",
                "    (3, 2, 'Ahorros', '2015-03-20', 9876.54),\n",
                "    (4, 3, 'Corriente', '2008-11-01', 1234.56),\n",
                "    (5, 4, 'Ahorros', '2012-07-25', 7890.25),\n",
                "    (6, 5, 'Corriente', '2018-02-10', 3456.78),\n",
                "    (7, 6, 'Ahorros', '2014-09-05', 6789.01),\n",
                "    (8, 7, 'Corriente', '2011-04-18', 2345.67),\n",
                "    (9, 8, 'Ahorros', '2017-12-31', 8765.43),\n",
                "    (10, 9, 'Corriente', '2013-06-07', 4567.89),\n",
                "    (11, 10, 'Ahorros', '2019-01-15', 9012.34),\n",
                "    (12, 11, 'Corriente', '2009-08-22', 5678.90),\n",
                "    (13, 12, 'Ahorros', '2016-05-03', 7890.12),\n",
                "    (14, 13, 'Corriente', '2010-11-28', 3456.78),\n",
                "    (15, 14, 'Ahorros', '2018-07-10', 6789.34),\n",
                "    (16, 15, 'Corriente', '2014-03-15', 2345.67),\n",
                "    (17, 16, 'Ahorros', '2020-02-20', 8765.09),\n",
                "    (18, 17, 'Corriente', '2011-09-01', 4567.23),\n",
                "    (19, 18, 'Ahorros', '2017-04-25', 9012.45),\n",
                "    (20, 19, 'Corriente', '2013-12-08', 5678.67),\n",
                "    (21, 20, 'Ahorros', '2019-06-30', 7890.89),\n",
                "    (22, 21, 'Corriente', '2015-01-12', 3456.01),\n",
                "    (23, 22, 'Ahorros', '2012-08-05', 6789.12),\n",
                "    (24, 23, 'Corriente', '2016-11-18', 2345.34),\n",
                "    (25, 24, 'Ahorros', '2020-04-02', 8765.56),\n",
                "    (26, 25, 'Corriente', '2014-07-27', 4567.78),\n",
                "    (27, 26, 'Ahorros', '2018-03-10', 9012.90),\n",
                "    (28, 27, 'Corriente', '2011-10-15', 5678.12),\n",
                "    (29, 28, 'Ahorros', '2017-06-01', 7890.34),\n",
                "    (30, 29, 'Corriente', '2013-02-25', 3456.56),\n",
                "    (31, 30, 'Ahorros', '2019-09-08', 6789.78),\n",
                "    (32, 31, 'Corriente', '2015-04-20', 2345.90),\n",
                "    (33, 32, 'Ahorros', '2011-11-13', 8765.12),\n",
                "    (34, 33, 'Corriente', '2016-07-05', 4567.34),\n",
                "    (35, 34, 'Ahorros', '2020-02-28', 9012.56),\n",
                "    (36, 35, 'Corriente', '2012-09-22', 5678.78),\n",
                "    (37, 36, 'Ahorros', '2018-05-17', 7890.90),\n",
                "    (38, 37, 'Corriente', '2014-01-03', 3456.12),\n",
                "    (39, 38, 'Ahorros', '2019-10-25', 6789.34),\n",
                "    (40, 39, 'Corriente', '2015-07-11', 2345.56),\n",
                "    (41, 40, 'Ahorros', '2013-04-03', 8765.78),\n",
                "    (42, 41, 'Corriente', '2017-11-18', 4567.90),\n",
                "    (43, 42, 'Ahorros', '2020-06-01', 9012.12),\n",
                "    (44, 43, 'Corriente', '2016-02-14', 5678.34),\n",
                "    (45, 44, 'Ahorros', '2012-08-27', 7890.56),\n",
                "    (46, 45, 'Corriente', '2018-03-10', 3456.78),\n",
                "    (47, 46, 'Ahorros', '2014-10-05', 6789.90),\n",
                "    (48, 47, 'Corriente', '2019-05-22', 2345.12),\n",
                "    (49, 48, 'Ahorros', '2015-01-08', 8765.34),\n",
                "    (50, 49, 'Corriente', '2011-09-30', 4567.56),\n",
                "    (51, 50, 'Ahorros', '2017-06-15', 9012.78),\n",
                "    (52, 51, 'Corriente', '2013-03-01', 5678.90),\n",
                "    (53, 52, 'Ahorros', '2019-11-20', 7890.12),\n",
                "    (54, 53, 'Corriente', '2016-08-07', 3456.34),\n",
                "    (55, 54, 'Ahorros', '2014-04-25', 6789.56),\n",
                "    (56, 55, 'Corriente', '2020-01-10', 2345.78),\n",
                "    (57, 56, 'Ahorros', '2012-07-03', 8765.90),\n",
                "    (58, 57, 'Corriente', '2018-02-18', 4567.12),\n",
                "    (59, 58, 'Ahorros', '2015-09-01', 9012.34),\n",
                "    (60, 59, 'Corriente', '2011-05-27', 5678.56),\n",
                "    (61, 60, 'Ahorros', '2017-12-10', 7890.78),\n",
                "    (62, 61, 'Corriente', '2013-06-23', 3456.90),\n",
                "    (63, 62, 'Ahorros', '2019-03-08', 6789.12),\n",
                "    (64, 63, 'Corriente', '2015-10-31', 2345.34),\n",
                "    (65, 64, 'Ahorros', '2012-04-14', 8765.56),\n",
                "    (66, 65, 'Corriente', '2018-11-01', 4567.78),\n",
                "    (67, 66, 'Ahorros', '2016-06-25', 9012.90),\n",
                "    (68, 67, 'Corriente', '2014-02-09', 5678.12),\n",
                "    (69, 68, 'Ahorros', '2020-09-17', 7890.34),\n",
                "    (70, 69, 'Corriente', '2017-05-03', 3456.56),\n",
                "    (71, 70, 'Ahorros', '2013-12-20', 6789.78),\n",
                "    (72, 71, 'Corriente', '2019-07-15', 2345.90),\n",
                "    (73, 72, 'Ahorros', '2015-03-28', 8765.12),\n",
                "    (74, 73, 'Corriente', '2011-10-11', 4567.34),\n",
                "    (75, 74, 'Ahorros', '2018-04-24', 9012.56),\n",
                "    (76, 75, 'Corriente', '2016-01-07', 5678.78),\n",
                "    (77, 76, 'Ahorros', '2014-08-31', 7890.90),\n",
                "    (78, 77, 'Corriente', '2020-05-16', 3456.12),\n",
                "    (79, 78, 'Ahorros', '2012-11-03', 6789.34),\n",
                "    (80, 79, 'Corriente', '2019-06-29', 2345.56),\n",
                "    (81, 80, 'Ahorros', '2017-02-12', 8765.78),\n",
                "    (82, 81, 'Corriente', '2013-09-05', 4567.90),\n",
                "    (83, 82, 'Ahorros', '2015-04-20', 9012.12),\n",
                "    (84, 83, 'Corriente', '2011-11-14', 5678.34),\n",
                "    (85, 84, 'Ahorros', '2018-07-08', 7890.56),\n",
                "    (86, 85, 'Corriente', '2016-03-01', 3456.78),\n",
                "    (87, 86, 'Ahorros', '2014-10-25', 6789.90),\n",
                "    (88, 87, 'Corriente', '2020-06-18', 2345.12),\n",
                "    (89, 88, 'Ahorros', '2012-02-11', 8765.34),\n",
                "    (90, 89, 'Corriente', '2019-09-04', 4567.56),\n",
                "    (91, 90, 'Ahorros', '2017-05-27', 9012.78),\n",
                "    (92, 91, 'Corriente', '2013-12-10', 5678.90),\n",
                "    (93, 92, 'Ahorros', '2015-07-03', 7890.12),\n",
                "    (94, 93, 'Corriente', '2011-03-26', 3456.34),\n",
                "    (95, 94, 'Ahorros', '2018-10-09', 6789.56),\n",
                "    (96, 95, 'Corriente', '2016-05-22', 2345.78),\n",
                "    (97, 96, 'Ahorros', '2014-01-15', 8765.90),\n",
                "    (98, 97, 'Corriente', '2020-08-29', 4567.12),\n",
                "    (99, 98, 'Ahorros', '2012-04-03', 9012.34),\n",
                "    (100, 99, 'Corriente', '2019-11-17', 5678.56);\n"
            ]
        },
        {
            "attachments": {},
            "cell_type": "markdown",
            "metadata": {
                "azdata_cell_guid": "81fff978-0d85-4713-ac81-5f7c6fa2587d"
            },
            "source": [
                "- **Insertar los datos en la tabla Transacciones**"
            ]
        },
        {
            "cell_type": "code",
            "execution_count": 11,
            "metadata": {
                "azdata_cell_guid": "8656ceac-c260-4ec1-b470-666b6c59da64",
                "language": "sql"
            },
            "outputs": [
                {
                    "data": {
                        "text/html": [
                            "Commands completed successfully"
                        ]
                    },
                    "metadata": {},
                    "output_type": "display_data"
                },
                {
                    "data": {
                        "text/html": [
                            "Total execution time: 00:00:00.014"
                        ]
                    },
                    "metadata": {},
                    "output_type": "display_data"
                }
            ],
            "source": [
                "\n",
                "INSERT INTO bank.Transacciones (TransaccionID, CuentaID, Fecha, Tipo, Monto, Descripcion)\n",
                "VALUES\n",
                "    (1, 1, '2023-04-01', 'Depósito', 500.00, 'Depósito de nómina'),\n",
                "    (2, 2, '2023-04-05', 'Retiro', 200.00, 'Retiro en cajero automático'),\n",
                "    (3, 3, '2023-04-10', 'Transferencia', 1000.00, 'Transferencia desde otra cuenta'),\n",
                "    (4, 4, '2023-04-15', 'Pago', 300.00, 'Pago de servicios públicos'),\n",
                "    (5, 5, '2023-04-20', 'Depósito', 2000.00, 'Depósito de cheque'),\n",
                "    (6, 6, '2023-04-25', 'Retiro', 150.00, 'Retiro en cajero automático'),\n",
                "    (7, 7, '2023-04-30', 'Transferencia', 800.00, 'Transferencia a otra cuenta'),\n",
                "    (8, 8, '2023-05-05', 'Pago', 400.00, 'Pago de tarjeta de crédito'),\n",
                "    (9, 9, '2023-05-10', 'Depósito', 1500.00, 'Depósito de nómina'),\n",
                "    (10, 10, '2023-05-15', 'Retiro', 250.00, 'Retiro en cajero automático'),\n",
                "    (11, 11, '2023-05-20', 'Transferencia', 1200.00, 'Transferencia desde otra cuenta'),\n",
                "    (12, 12, '2023-05-25', 'Pago', 350.00, 'Pago de servicios públicos'),\n",
                "    (13, 13, '2023-05-30', 'Depósito', 2500.00, 'Depósito de cheque'),\n",
                "    (14, 14, '2023-06-04', 'Retiro', 180.00, 'Retiro en cajero automático'),\n",
                "    (15, 15, '2023-06-09', 'Transferencia', 900.00, 'Transferencia a otra cuenta'),\n",
                "    (16, 16, '2023-06-14', 'Pago', 450.00, 'Pago de tarjeta de crédito'),\n",
                "    (17, 17, '2023-06-19', 'Depósito', 1800.00, 'Depósito de nómina'),\n",
                "    (18, 18, '2023-06-24', 'Retiro', 220.00, 'Retiro en cajero automático'),\n",
                "    (19, 19, '2023-06-29', 'Transferencia', 1100.00, 'Transferencia desde otra cuenta'),\n",
                "    (20, 20, '2023-07-04', 'Pago', 380.00, 'Pago de servicios públicos'),\n",
                "    (21, 21, '2023-07-09', 'Depósito', 2200.00, 'Depósito de cheque'),\n",
                "    (22, 22, '2023-07-14', 'Retiro', 160.00, 'Retiro en cajero automático'),\n",
                "    (23, 23, '2023-07-19', 'Transferencia', 850.00, 'Transferencia a otra cuenta'),\n",
                "    (24, 24, '2023-07-24', 'Pago', 420.00, 'Pago de tarjeta de crédito'),\n",
                "    (25, 25, '2023-07-29', 'Depósito', 1900.00, 'Depósito de nómina'),\n",
                "    (26, 26, '2023-08-03', 'Retiro', 240.00, 'Retiro en cajero automático'),\n",
                "    (27, 27, '2023-08-08', 'Transferencia', 1300.00, 'Transferencia desde otra cuenta'),\n",
                "    (28, 28, '2023-08-13', 'Pago', 390.00, 'Pago de servicios públicos'),\n",
                "    (29, 29, '2023-08-18', 'Depósito', 2700.00, 'Depósito de cheque'),\n",
                "    (30, 30, '2023-08-23', 'Retiro', 170.00, 'Retiro en cajero automático'),\n",
                "    (31, 31, '2023-08-28', 'Transferencia', 950.00, 'Transferencia a otra cuenta'),\n",
                "    (32, 32, '2023-09-02', 'Pago', 460.00, 'Pago de tarjeta de crédito'),\n",
                "    (33, 33, '2023-09-07', 'Depósito', 2100.00, 'Depósito de nómina'),\n",
                "    (34, 34, '2023-09-12', 'Retiro', 280.00, 'Retiro en cajero automático'),\n",
                "    (35, 35, '2023-09-17', 'Transferencia', 1400.00, 'Transferencia desde otra cuenta'),\n",
                "    (36, 36, '2023-09-22', 'Pago', 330.00, 'Pago de servicios públicos'),\n",
                "    (37, 37, '2023-09-27', 'Depósito', 2300.00, 'Depósito de cheque'),\n",
                "    (38, 38, '2023-10-02', 'Retiro', 190.00, 'Retiro en cajero automático'),\n",
                "    (39, 39, '2023-10-07', 'Transferencia', 1000.00, 'Transferencia a otra cuenta'),\n",
                "    (40, 40, '2023-10-12', 'Pago', 480.00, 'Pago de tarjeta de crédito'),\n",
                "    (41, 41, '2023-10-17', 'Depósito', 2400.00, 'Depósito de nómina'),\n",
                "    (42, 42, '2023-10-22', 'Retiro', 260.00, 'Retiro en cajero automático'),\n",
                "    (43, 43, '2023-10-27', 'Transferencia', 1500.00, 'Transferencia desde otra cuenta'),\n",
                "    (44, 44, '2023-11-01', 'Pago', 360.00, 'Pago de servicios públicos'),\n",
                "    (45, 45, '2023-11-06', 'Depósito', 2800.00, 'Depósito de cheque'),\n",
                "    (46, 46, '2023-11-11', 'Retiro', 210.00, 'Retiro en cajero automático'),\n",
                "    (47, 47, '2023-11-16', 'Transferencia', 1100.00, 'Transferencia a otra cuenta'),\n",
                "    (48, 48, '2023-11-21', 'Pago', 490.00, 'Pago de tarjeta de crédito'),\n",
                "    (49, 49, '2023-11-26', 'Depósito', 2500.00, 'Depósito de nómina'),\n",
                "    (50, 50, '2023-12-01', 'Retiro', 290.00, 'Retiro en cajero automático'),\n",
                "    (51, 51, '2023-12-06', 'Transferencia', 1600.00, 'Transferencia desde otra cuenta'),\n",
                "    (52, 52, '2023-12-11', 'Pago', 370.00, 'Pago de servicios públicos'),\n",
                "    (53, 53, '2023-12-16', 'Depósito', 3000.00, 'Depósito de cheque'),\n",
                "    (54, 54, '2023-12-21', 'Retiro', 230.00, 'Retiro en cajero automático'),\n",
                "    (55, 55, '2023-12-26', 'Transferencia', 1200.00, 'Transferencia a otra cuenta'),\n",
                "    (56, 56, '2023-12-31', 'Pago', 520.00, 'Pago de tarjeta de crédito'),\n",
                "    (57, 1, '2024-01-05', 'Depósito', 2600.00, 'Depósito de nómina'),\n",
                "    (58, 2, '2024-01-10', 'Retiro', 300.00, 'Retiro en cajero automático'),\n",
                "    (59, 3, '2024-01-15', 'Transferencia', 1700.00, 'Transferencia desde otra cuenta'),\n",
                "    (60, 4, '2024-01-20', 'Pago', 400.00, 'Pago de servicios públicos'),\n",
                "    (61, 5, '2024-01-25', 'Depósito', 3200.00, 'Depósito de cheque'),\n",
                "    (62, 6, '2024-01-30', 'Retiro', 250.00, 'Retiro en cajero automático'),\n",
                "    (63, 7, '2024-02-04', 'Transferencia', 1300.00, 'Transferencia a otra cuenta'),\n",
                "    (64, 8, '2024-02-09', 'Pago', 530.00, 'Pago de tarjeta de crédito'),\n",
                "    (65, 9, '2024-02-14', 'Depósito', 2700.00, 'Depósito de nómina'),\n",
                "    (66, 10, '2024-02-19', 'Retiro', 320.00, 'Retiro en cajero automático'),\n",
                "    (67, 11, '2024-02-24', 'Transferencia', 1800.00, 'Transferencia desde otra cuenta'),\n",
                "    (68, 12, '2024-02-29', 'Pago', 430.00, 'Pago de servicios públicos'),\n",
                "    (69, 13, '2024-03-05', 'Depósito', 3400.00, 'Depósito de cheque'),\n",
                "    (70, 14, '2024-03-10', 'Retiro', 270.00, 'Retiro en cajero automático'),\n",
                "    (71, 15, '2024-03-15', 'Transferencia', 1400.00, 'Transferencia a otra cuenta'),\n",
                "    (72, 16, '2024-03-20', 'Pago', 560.00, 'Pago de tarjeta de crédito'),\n",
                "    (73, 17, '2024-03-25', 'Depósito', 2800.00, 'Depósito de nómina'),\n",
                "    (74, 18, '2024-03-30', 'Retiro', 340.00, 'Retiro en cajero automático'),\n",
                "    (75, 19, '2024-04-04', 'Transferencia', 1900.00, 'Transferencia desde otra cuenta'),\n",
                "    (76, 20, '2024-04-09', 'Pago', 460.00, 'Pago de servicios públicos'),\n",
                "    (77, 21, '2024-04-14', 'Depósito', 3500.00, 'Depósito de cheque'),\n",
                "    (78, 22, '2024-04-19', 'Retiro', 280.00, 'Retiro en cajero automático'),\n",
                "    (79, 23, '2024-04-24', 'Transferencia', 1500.00, 'Transferencia a otra cuenta'),\n",
                "    (80, 24, '2024-04-29', 'Pago', 590.00, 'Pago de tarjeta de crédito'),\n",
                "    (81, 25, '2024-05-04', 'Depósito', 2900.00, 'Depósito de nómina'),\n",
                "    (82, 26, '2024-05-09', 'Retiro', 360.00, 'Retiro en cajero automático'),\n",
                "    (83, 27, '2024-05-14', 'Transferencia', 2000.00, 'Transferencia desde otra cuenta'),\n",
                "    (84, 28, '2024-05-19', 'Pago', 470.00, 'Pago de servicios públicos'),\n",
                "    (85, 29, '2024-05-24', 'Depósito', 3600.00, 'Depósito de cheque'),\n",
                "    (86, 30, '2024-05-29', 'Retiro', 290.00, 'Retiro en cajero automático'),\n",
                "    (87, 31, '2024-06-03', 'Transferencia', 1600.00, 'Transferencia a otra cuenta'),\n",
                "    (88, 32, '2024-06-08', 'Pago', 620.00, 'Pago de tarjeta de crédito'),\n",
                "    (89, 33, '2024-06-13', 'Depósito', 3000.00, 'Depósito de nómina'),\n",
                "    (90, 34, '2024-06-18', 'Retiro', 380.00, 'Retiro en cajero automático'), \n",
                "    (91, 35, '2024-06-23', 'Transferencia', 2100.00, 'Transferencia desde otra cuenta'),\n",
                "    (92, 36, '2024-06-28', 'Pago', 500.00, 'Pago de servicios públicos'),\n",
                "    (93, 37, '2024-07-03', 'Depósito', 3700.00, 'Depósito de cheque'),\n",
                "    (94, 38, '2024-07-08', 'Retiro', 310.00, 'Retiro en cajero automático'),\n",
                "    (95, 39, '2024-07-13', 'Transferencia', 1700.00, 'Transferencia a otra cuenta'),\n",
                "    (96, 40, '2024-07-18', 'Pago', 630.00, 'Pago de tarjeta de crédito'),\n",
                "    (97, 41, '2024-07-23', 'Depósito', 3100.00, 'Depósito de nómina'),\n",
                "    (98, 42, '2024-07-28', 'Retiro', 390.00, 'Retiro en cajero automático'),\n",
                "    (99, 43, '2024-08-02', 'Transferencia', 2200.00, 'Transferencia desde otra cuenta'),\n",
                "    (100, 44, '2024-08-07', 'Pago', 530.00, 'Pago de servicios públicos');\n"
            ]
        },
        {
            "attachments": {},
            "cell_type": "markdown",
            "metadata": {
                "azdata_cell_guid": "3d8ee359-8ab3-4319-92e9-0495b9eca146",
                "language": "sql"
            },
            "source": [
                "## Preguntas"
            ]
        },
        {
            "attachments": {},
            "cell_type": "markdown",
            "metadata": {
                "azdata_cell_guid": "fe71a84c-e7ae-428d-ae6c-039f7780a924"
            },
            "source": [
                "**1\\. ¿Cuántos clientes hay en la base de datos?**"
            ]
        },
        {
            "cell_type": "code",
            "execution_count": 17,
            "metadata": {
                "azdata_cell_guid": "01160802-61d1-49d9-8399-ed91b17d9b0a",
                "language": "sql"
            },
            "outputs": [
                {
                    "data": {
                        "text/html": [
                            "(1 row(s) affected)"
                        ]
                    },
                    "metadata": {},
                    "output_type": "display_data"
                },
                {
                    "data": {
                        "text/html": [
                            "Total execution time: 00:00:01.013"
                        ]
                    },
                    "metadata": {},
                    "output_type": "display_data"
                },
                {
                    "data": {
                        "application/vnd.dataresource+json": {
                            "data": [
                                {
                                    "Numero_total_Clientes": "100"
                                }
                            ],
                            "schema": {
                                "fields": [
                                    {
                                        "name": "Numero_total_Clientes"
                                    }
                                ]
                            }
                        },
                        "text/html": [
                            "<table>\n",
                            "<tr><th>Numero_total_Clientes</th></tr>\n",
                            "<tr><td>100</td></tr>\n",
                            "</table>"
                        ]
                    },
                    "execution_count": 17,
                    "metadata": {},
                    "output_type": "execute_result"
                }
            ],
            "source": [
                "SELECT  COUNT(CLIENTEID) AS Numero_total_Clientes\n",
                "FROM bank.clientes;"
            ]
        },
        {
            "attachments": {},
            "cell_type": "markdown",
            "metadata": {
                "azdata_cell_guid": "61964765-2f28-4a13-8ffa-9dac280baeec",
                "language": "sql"
            },
            "source": [
                "**2. ¿Cuál es el saldo total de todas las cuentas?**"
            ]
        },
        {
            "cell_type": "code",
            "execution_count": 18,
            "metadata": {
                "azdata_cell_guid": "5c5671cd-f5f4-478e-9cda-71ca5ef111c0",
                "language": "sql"
            },
            "outputs": [
                {
                    "data": {
                        "text/html": [
                            "Commands completed successfully"
                        ]
                    },
                    "metadata": {},
                    "output_type": "display_data"
                },
                {
                    "data": {
                        "text/html": [
                            "(1 row(s) affected)"
                        ]
                    },
                    "metadata": {},
                    "output_type": "display_data"
                },
                {
                    "data": {
                        "text/html": [
                            "Total execution time: 00:00:01.018"
                        ]
                    },
                    "metadata": {},
                    "output_type": "display_data"
                },
                {
                    "data": {
                        "application/vnd.dataresource+json": {
                            "data": [
                                {
                                    "Saldo_total_todas_cuentas": "601209.06"
                                }
                            ],
                            "schema": {
                                "fields": [
                                    {
                                        "name": "Saldo_total_todas_cuentas"
                                    }
                                ]
                            }
                        },
                        "text/html": [
                            "<table>\n",
                            "<tr><th>Saldo_total_todas_cuentas</th></tr>\n",
                            "<tr><td>601209.06</td></tr>\n",
                            "</table>"
                        ]
                    },
                    "execution_count": 18,
                    "metadata": {},
                    "output_type": "execute_result"
                }
            ],
            "source": [
                "USE bank;\n",
                "\n",
                "SELECT SUM(SALDO) AS Saldo_total_todas_cuentas\n",
                "FROM cuentas;"
            ]
        },
        {
            "attachments": {},
            "cell_type": "markdown",
            "metadata": {
                "azdata_cell_guid": "5ab6c7f3-a65a-4b3e-9e59-04b1f49371e5",
                "language": "sql"
            },
            "source": [
                "**3. ¿Cuál es el cliente con la cuenta de mayor saldo?**"
            ]
        },
        {
            "cell_type": "code",
            "execution_count": 23,
            "metadata": {
                "azdata_cell_guid": "12cac277-2f2e-4ee6-9414-aee5e089765c",
                "language": "sql"
            },
            "outputs": [
                {
                    "data": {
                        "text/html": [
                            "(1 row(s) affected)"
                        ]
                    },
                    "metadata": {},
                    "output_type": "display_data"
                },
                {
                    "data": {
                        "text/html": [
                            "Total execution time: 00:00:01.018"
                        ]
                    },
                    "metadata": {},
                    "output_type": "display_data"
                },
                {
                    "data": {
                        "application/vnd.dataresource+json": {
                            "data": [
                                {
                                    "APELLIDO": "García",
                                    "CLIENTEID": "2",
                                    "NOMBRE": "María",
                                    "Saldo_maximo": "9876.54"
                                }
                            ],
                            "schema": {
                                "fields": [
                                    {
                                        "name": "CLIENTEID"
                                    },
                                    {
                                        "name": "NOMBRE"
                                    },
                                    {
                                        "name": "APELLIDO"
                                    },
                                    {
                                        "name": "Saldo_maximo"
                                    }
                                ]
                            }
                        },
                        "text/html": [
                            "<table>\n",
                            "<tr><th>CLIENTEID</th><th>NOMBRE</th><th>APELLIDO</th><th>Saldo_maximo</th></tr>\n",
                            "<tr><td>2</td><td>María</td><td>García</td><td>9876.54</td></tr>\n",
                            "</table>"
                        ]
                    },
                    "execution_count": 23,
                    "metadata": {},
                    "output_type": "execute_result"
                }
            ],
            "source": [
                "SELECT C.CLIENTEID, CL.NOMBRE, CL.APELLIDO, C.SALDO AS Saldo_maximo\n",
                "FROM cuentas C  \n",
                "INNER JOIN clientes CL ON C.CLIENTEID = CL.CLIENTEID\n",
                "WHERE C.SALDO = (SELECT MAX(Saldo) FROM cuentas);"
            ]
        },
        {
            "attachments": {},
            "cell_type": "markdown",
            "metadata": {
                "azdata_cell_guid": "9c7cf9a7-f26b-486f-a921-5cbf302fb0de",
                "language": "sql"
            },
            "source": [
                "**4. ¿Cuántas cuentas de ahorros hay en total?**"
            ]
        },
        {
            "cell_type": "code",
            "execution_count": 27,
            "metadata": {
                "azdata_cell_guid": "5fecc4d9-5e72-460c-ad61-83694f532d18",
                "language": "sql"
            },
            "outputs": [
                {
                    "data": {
                        "text/html": [
                            "(1 row(s) affected)"
                        ]
                    },
                    "metadata": {},
                    "output_type": "display_data"
                },
                {
                    "data": {
                        "text/html": [
                            "Total execution time: 00:00:01.012"
                        ]
                    },
                    "metadata": {},
                    "output_type": "display_data"
                },
                {
                    "data": {
                        "application/vnd.dataresource+json": {
                            "data": [
                                {
                                    "Total_cuentas_ahorro": "50"
                                }
                            ],
                            "schema": {
                                "fields": [
                                    {
                                        "name": "Total_cuentas_ahorro"
                                    }
                                ]
                            }
                        },
                        "text/html": [
                            "<table>\n",
                            "<tr><th>Total_cuentas_ahorro</th></tr>\n",
                            "<tr><td>50</td></tr>\n",
                            "</table>"
                        ]
                    },
                    "execution_count": 27,
                    "metadata": {},
                    "output_type": "execute_result"
                }
            ],
            "source": [
                "SELECT COUNT(TipoCuenta)  AS Total_cuentas_ahorro\n",
                "FROM cuentas\n",
                "WHERE TipoCuenta = 'Ahorros';"
            ]
        },
        {
            "attachments": {},
            "cell_type": "markdown",
            "metadata": {
                "azdata_cell_guid": "3c0bfcd9-91c1-4066-8e35-5b1f46d4ccf9",
                "language": "sql"
            },
            "source": [
                "**5. ¿Cuál es el monto total de depósitos realizados?**"
            ]
        },
        {
            "cell_type": "code",
            "execution_count": 28,
            "metadata": {
                "azdata_cell_guid": "a7119ad3-136e-48f1-a672-07b2908817d9",
                "language": "sql"
            },
            "outputs": [
                {
                    "data": {
                        "text/html": [
                            "(1 row(s) affected)"
                        ]
                    },
                    "metadata": {},
                    "output_type": "display_data"
                },
                {
                    "data": {
                        "text/html": [
                            "Total execution time: 00:00:01.007"
                        ]
                    },
                    "metadata": {},
                    "output_type": "display_data"
                },
                {
                    "data": {
                        "application/vnd.dataresource+json": {
                            "data": [
                                {
                                    "Monto_total_depósito": "64700.00",
                                    "Tipo": "Depósito"
                                }
                            ],
                            "schema": {
                                "fields": [
                                    {
                                        "name": "Tipo"
                                    },
                                    {
                                        "name": "Monto_total_depósito"
                                    }
                                ]
                            }
                        },
                        "text/html": [
                            "<table>\n",
                            "<tr><th>Tipo</th><th>Monto_total_depósito</th></tr>\n",
                            "<tr><td>Depósito</td><td>64700.00</td></tr>\n",
                            "</table>"
                        ]
                    },
                    "execution_count": 28,
                    "metadata": {},
                    "output_type": "execute_result"
                }
            ],
            "source": [
                "SELECT Tipo, SUM(MONTO) AS Monto_total_depósito\n",
                "FROM Transacciones\n",
                "WHERE Tipo = 'Depósito';"
            ]
        },
        {
            "attachments": {},
            "cell_type": "markdown",
            "metadata": {
                "azdata_cell_guid": "270047de-c4af-4277-bbdf-2cd42dea41ee",
                "language": "sql"
            },
            "source": [
                "**6. ¿Cuál es el cliente con la mayor cantidad de cuentas?**"
            ]
        },
        {
            "cell_type": "code",
            "execution_count": 29,
            "metadata": {
                "azdata_cell_guid": "0c65c9be-2bed-4a6f-a9b7-a1d28e554e95",
                "language": "sql"
            },
            "outputs": [
                {
                    "data": {
                        "text/html": [
                            "(1 row(s) affected)"
                        ]
                    },
                    "metadata": {},
                    "output_type": "display_data"
                },
                {
                    "data": {
                        "text/html": [
                            "Total execution time: 00:00:01.004"
                        ]
                    },
                    "metadata": {},
                    "output_type": "display_data"
                },
                {
                    "data": {
                        "application/vnd.dataresource+json": {
                            "data": [
                                {
                                    "APELLIDO": "Pérez",
                                    "CLIENTEID": "1",
                                    "NOMBRE": "Juan",
                                    "Num_cuentas": "2"
                                }
                            ],
                            "schema": {
                                "fields": [
                                    {
                                        "name": "CLIENTEID"
                                    },
                                    {
                                        "name": "NOMBRE"
                                    },
                                    {
                                        "name": "APELLIDO"
                                    },
                                    {
                                        "name": "Num_cuentas"
                                    }
                                ]
                            }
                        },
                        "text/html": [
                            "<table>\n",
                            "<tr><th>CLIENTEID</th><th>NOMBRE</th><th>APELLIDO</th><th>Num_cuentas</th></tr>\n",
                            "<tr><td>1</td><td>Juan</td><td>Pérez</td><td>2</td></tr>\n",
                            "</table>"
                        ]
                    },
                    "execution_count": 29,
                    "metadata": {},
                    "output_type": "execute_result"
                }
            ],
            "source": [
                "SELECT C.CLIENTEID, CL.NOMBRE, CL.APELLIDO, COUNT(*) AS Num_cuentas\n",
                "FROM cuentas C  \n",
                "INNER JOIN clientes CL ON C.CLIENTEID= CL.CLIENTEID\n",
                "GROUP BY C.ClienteID\n",
                "ORDER BY Num_cuentas DESC \n",
                "LIMIT 1;"
            ]
        },
        {
            "attachments": {},
            "cell_type": "markdown",
            "metadata": {
                "azdata_cell_guid": "c97d8e7a-052e-4258-830b-7fee292ebac4",
                "language": "sql"
            },
            "source": [
                "**7. ¿Cuál es la ciudad con más clientes?**"
            ]
        },
        {
            "cell_type": "code",
            "execution_count": 31,
            "metadata": {
                "azdata_cell_guid": "f52397f8-d0ea-4a3e-8569-162cde478f8f",
                "language": "sql"
            },
            "outputs": [
                {
                    "data": {
                        "text/html": [
                            "(1 row(s) affected)"
                        ]
                    },
                    "metadata": {},
                    "output_type": "display_data"
                },
                {
                    "data": {
                        "text/html": [
                            "Total execution time: 00:00:01.008"
                        ]
                    },
                    "metadata": {},
                    "output_type": "display_data"
                },
                {
                    "data": {
                        "application/vnd.dataresource+json": {
                            "data": [
                                {
                                    "CIUDAD": "Barcelona",
                                    "Num_clientes": "24"
                                }
                            ],
                            "schema": {
                                "fields": [
                                    {
                                        "name": "CIUDAD"
                                    },
                                    {
                                        "name": "Num_clientes"
                                    }
                                ]
                            }
                        },
                        "text/html": [
                            "<table>\n",
                            "<tr><th>CIUDAD</th><th>Num_clientes</th></tr>\n",
                            "<tr><td>Barcelona</td><td>24</td></tr>\n",
                            "</table>"
                        ]
                    },
                    "execution_count": 31,
                    "metadata": {},
                    "output_type": "execute_result"
                }
            ],
            "source": [
                "SELECT CIUDAD, COUNT(*)  AS Num_clientes\n",
                "FROM clientes\n",
                "GROUP BY Ciudad\n",
                "ORDER BY Num_clientes DESC\n",
                "LIMIT 1;"
            ]
        },
        {
            "attachments": {},
            "cell_type": "markdown",
            "metadata": {
                "azdata_cell_guid": "e03254dc-ce67-4f5f-92f5-e529dcfda25c",
                "language": "sql"
            },
            "source": [
                "**8. ¿Cuál es el monto promedio de los retiros?**"
            ]
        },
        {
            "cell_type": "code",
            "execution_count": 34,
            "metadata": {
                "azdata_cell_guid": "e116d006-560c-4b74-ad56-1c68620b5dd0",
                "language": "sql",
                "tags": []
            },
            "outputs": [
                {
                    "data": {
                        "text/html": [
                            "(1 row(s) affected)"
                        ]
                    },
                    "metadata": {},
                    "output_type": "display_data"
                },
                {
                    "data": {
                        "text/html": [
                            "Total execution time: 00:00:01.016"
                        ]
                    },
                    "metadata": {},
                    "output_type": "display_data"
                },
                {
                    "data": {
                        "application/vnd.dataresource+json": {
                            "data": [
                                {
                                    "Monto_avg_retiros": "260.800000"
                                }
                            ],
                            "schema": {
                                "fields": [
                                    {
                                        "name": "Monto_avg_retiros"
                                    }
                                ]
                            }
                        },
                        "text/html": [
                            "<table>\n",
                            "<tr><th>Monto_avg_retiros</th></tr>\n",
                            "<tr><td>260.800000</td></tr>\n",
                            "</table>"
                        ]
                    },
                    "execution_count": 34,
                    "metadata": {},
                    "output_type": "execute_result"
                }
            ],
            "source": [
                "SELECT AVG(Monto) AS Monto_avg_retiros\n",
                "FROM Transacciones\n",
                "WHERE Tipo = 'Retiro'; "
            ]
        },
        {
            "attachments": {},
            "cell_type": "markdown",
            "metadata": {
                "azdata_cell_guid": "d82115b1-34f9-4cfe-89d9-01b717adfcbe",
                "language": "sql"
            },
            "source": [
                "**9. ¿Cuáles son los clientes que no tienen cuentas?**"
            ]
        },
        {
            "cell_type": "code",
            "execution_count": 37,
            "metadata": {
                "azdata_cell_guid": "521f93a1-e3ba-40af-a524-ca456d97daf8",
                "language": "sql"
            },
            "outputs": [
                {
                    "data": {
                        "text/html": [
                            "(1 row(s) affected)"
                        ]
                    },
                    "metadata": {},
                    "output_type": "display_data"
                },
                {
                    "data": {
                        "text/html": [
                            "Total execution time: 00:00:01.010"
                        ]
                    },
                    "metadata": {},
                    "output_type": "display_data"
                },
                {
                    "data": {
                        "application/vnd.dataresource+json": {
                            "data": [
                                {
                                    "Apellido": "Betancourt",
                                    "Nombre": "Pascual"
                                }
                            ],
                            "schema": {
                                "fields": [
                                    {
                                        "name": "Nombre"
                                    },
                                    {
                                        "name": "Apellido"
                                    }
                                ]
                            }
                        },
                        "text/html": [
                            "<table>\n",
                            "<tr><th>Nombre</th><th>Apellido</th></tr>\n",
                            "<tr><td>Pascual</td><td>Betancourt</td></tr>\n",
                            "</table>"
                        ]
                    },
                    "execution_count": 37,
                    "metadata": {},
                    "output_type": "execute_result"
                }
            ],
            "source": [
                "SELECT Nombre, Apellido\n",
                "FROM clientes\n",
                "WHERE ClienteID NOT IN (SELECT ClienteID FROM cuentas);\n"
            ]
        },
        {
            "attachments": {},
            "cell_type": "markdown",
            "metadata": {
                "azdata_cell_guid": "df08c407-0830-427d-b20b-89fe31f70018",
                "language": "sql"
            },
            "source": [
                "**10. ¿Cuál es la cuenta con la mayor cantidad de transacciones?**"
            ]
        },
        {
            "cell_type": "code",
            "execution_count": 41,
            "metadata": {
                "azdata_cell_guid": "3cc07a7e-5e90-4f46-9bcf-952ab8412cb9",
                "language": "sql"
            },
            "outputs": [
                {
                    "data": {
                        "text/html": [
                            "(1 row(s) affected)"
                        ]
                    },
                    "metadata": {},
                    "output_type": "display_data"
                },
                {
                    "data": {
                        "text/html": [
                            "Total execution time: 00:00:01.016"
                        ]
                    },
                    "metadata": {},
                    "output_type": "display_data"
                },
                {
                    "data": {
                        "application/vnd.dataresource+json": {
                            "data": [
                                {
                                    "CUENTAID": "1",
                                    "num_transacciones": "2"
                                }
                            ],
                            "schema": {
                                "fields": [
                                    {
                                        "name": "CUENTAID"
                                    },
                                    {
                                        "name": "num_transacciones"
                                    }
                                ]
                            }
                        },
                        "text/html": [
                            "<table>\n",
                            "<tr><th>CUENTAID</th><th>num_transacciones</th></tr>\n",
                            "<tr><td>1</td><td>2</td></tr>\n",
                            "</table>"
                        ]
                    },
                    "execution_count": 41,
                    "metadata": {},
                    "output_type": "execute_result"
                }
            ],
            "source": [
                "SELECT CUENTAID, COUNT(*) AS num_transacciones\n",
                "FROM Transacciones\n",
                "GROUP BY CuentaID\n",
                "ORDER BY num_transacciones DESC\n",
                "LIMIT 1;"
            ]
        },
        {
            "attachments": {},
            "cell_type": "markdown",
            "metadata": {
                "azdata_cell_guid": "b723e7a8-8950-4748-946f-3fee3d463f36",
                "language": "sql"
            },
            "source": [
                "<span style=\"color: var(--vscode-foreground);\"><b>11.</b>&nbsp;</span> **¿Cuáles son los clientes que tienen cuentas de ahorros y corrientes?**"
            ]
        },
        {
            "cell_type": "code",
            "execution_count": 42,
            "metadata": {
                "azdata_cell_guid": "86a54f2d-dc93-4065-b22e-35648bc0e4d7",
                "language": "sql",
                "tags": []
            },
            "outputs": [
                {
                    "data": {
                        "text/html": [
                            "(1 row(s) affected)"
                        ]
                    },
                    "metadata": {},
                    "output_type": "display_data"
                },
                {
                    "data": {
                        "text/html": [
                            "Total execution time: 00:00:01.012"
                        ]
                    },
                    "metadata": {},
                    "output_type": "display_data"
                },
                {
                    "data": {
                        "application/vnd.dataresource+json": {
                            "data": [
                                {
                                    "Apellido": "Pérez",
                                    "ClienteID": "1",
                                    "Nombre": "Juan"
                                }
                            ],
                            "schema": {
                                "fields": [
                                    {
                                        "name": "ClienteID"
                                    },
                                    {
                                        "name": "Nombre"
                                    },
                                    {
                                        "name": "Apellido"
                                    }
                                ]
                            }
                        },
                        "text/html": [
                            "<table>\n",
                            "<tr><th>ClienteID</th><th>Nombre</th><th>Apellido</th></tr>\n",
                            "<tr><td>1</td><td>Juan</td><td>Pérez</td></tr>\n",
                            "</table>"
                        ]
                    },
                    "execution_count": 42,
                    "metadata": {},
                    "output_type": "execute_result"
                }
            ],
            "source": [
                "SELECT ClienteID, Nombre, Apellido\n",
                "FROM clientes\n",
                "WHERE ClienteID IN (\n",
                "    SELECT ClienteID\n",
                "    FROM cuentas\n",
                "    WHERE TipoCuenta = 'Ahorros'\n",
                ") \n",
                "AND ClienteID IN (\n",
                "    SELECT ClienteID\n",
                "    FROM cuentas\n",
                "    WHERE TipoCuenta = 'Corriente'\n",
                ");\n"
            ]
        },
        {
            "attachments": {},
            "cell_type": "markdown",
            "metadata": {
                "azdata_cell_guid": "dfc452dc-9452-45cc-8b37-6f1b708b8902",
                "language": "sql"
            },
            "source": [
                "**12\\. ¿Cuál es el monto total de transacciones por tipo (depósito, retiro, transferencia, pago)?**"
            ]
        },
        {
            "cell_type": "code",
            "execution_count": 43,
            "metadata": {
                "azdata_cell_guid": "bd438197-7656-4f4a-a62d-b87d1054451e",
                "language": "sql"
            },
            "outputs": [
                {
                    "data": {
                        "text/html": [
                            "(4 row(s) affected)"
                        ]
                    },
                    "metadata": {},
                    "output_type": "display_data"
                },
                {
                    "data": {
                        "text/html": [
                            "Total execution time: 00:00:01.004"
                        ]
                    },
                    "metadata": {},
                    "output_type": "display_data"
                },
                {
                    "data": {
                        "application/vnd.dataresource+json": {
                            "data": [
                                {
                                    "Monto_Total": "64700.00",
                                    "Tipo": "Depósito"
                                },
                                {
                                    "Monto_Total": "6520.00",
                                    "Tipo": "Retiro"
                                },
                                {
                                    "Monto_Total": "35100.00",
                                    "Tipo": "Transferencia"
                                },
                                {
                                    "Monto_Total": "11420.00",
                                    "Tipo": "Pago"
                                }
                            ],
                            "schema": {
                                "fields": [
                                    {
                                        "name": "Tipo"
                                    },
                                    {
                                        "name": "Monto_Total"
                                    }
                                ]
                            }
                        },
                        "text/html": [
                            "<table>\n",
                            "<tr><th>Tipo</th><th>Monto_Total</th></tr>\n",
                            "<tr><td>Depósito</td><td>64700.00</td></tr>\n",
                            "<tr><td>Retiro</td><td>6520.00</td></tr>\n",
                            "<tr><td>Transferencia</td><td>35100.00</td></tr>\n",
                            "<tr><td>Pago</td><td>11420.00</td></tr>\n",
                            "</table>"
                        ]
                    },
                    "execution_count": 43,
                    "metadata": {},
                    "output_type": "execute_result"
                }
            ],
            "source": [
                "SELECT Tipo, SUM(Monto) AS Monto_Total\n",
                "FROM transacciones\n",
                "GROUP BY Tipo;\n"
            ]
        },
        {
            "attachments": {},
            "cell_type": "markdown",
            "metadata": {
                "azdata_cell_guid": "baddb33c-f50c-4d53-bfab-8b9a6c6f7916",
                "language": "sql"
            },
            "source": [
                "**13. ¿Cuál es la cuenta con el saldo más bajo?**"
            ]
        },
        {
            "cell_type": "code",
            "execution_count": 47,
            "metadata": {
                "azdata_cell_guid": "1b2933fa-5b15-436a-8cac-f81a2ef9ded3",
                "language": "sql"
            },
            "outputs": [
                {
                    "data": {
                        "text/html": [
                            "(1 row(s) affected)"
                        ]
                    },
                    "metadata": {},
                    "output_type": "display_data"
                },
                {
                    "data": {
                        "text/html": [
                            "Total execution time: 00:00:01.007"
                        ]
                    },
                    "metadata": {},
                    "output_type": "display_data"
                },
                {
                    "data": {
                        "application/vnd.dataresource+json": {
                            "data": [
                                {
                                    "CuentaID": "4",
                                    "Saldo": "1234.56"
                                }
                            ],
                            "schema": {
                                "fields": [
                                    {
                                        "name": "CuentaID"
                                    },
                                    {
                                        "name": "Saldo"
                                    }
                                ]
                            }
                        },
                        "text/html": [
                            "<table>\n",
                            "<tr><th>CuentaID</th><th>Saldo</th></tr>\n",
                            "<tr><td>4</td><td>1234.56</td></tr>\n",
                            "</table>"
                        ]
                    },
                    "execution_count": 47,
                    "metadata": {},
                    "output_type": "execute_result"
                }
            ],
            "source": [
                "SELECT CuentaID, Saldo\n",
                "FROM cuentas\n",
                "ORDER BY Saldo\n",
                "LIMIT 1;\n",
                "\n"
            ]
        },
        {
            "attachments": {},
            "cell_type": "markdown",
            "metadata": {
                "azdata_cell_guid": "331cbe62-6a02-4ae5-af91-a091d55268b7",
                "language": "sql"
            },
            "source": [
                "**14. ¿Cuáles son los clientes que no han realizado transacciones?**"
            ]
        },
        {
            "cell_type": "code",
            "execution_count": 51,
            "metadata": {
                "azdata_cell_guid": "9ea1b729-e2e8-4879-8b67-435d01596b24",
                "language": "sql"
            },
            "outputs": [
                {
                    "data": {
                        "text/html": [
                            "Total execution time: 00:00:00"
                        ]
                    },
                    "metadata": {},
                    "output_type": "display_data"
                }
            ],
            "source": []
        },
        {
            "attachments": {},
            "cell_type": "markdown",
            "metadata": {
                "azdata_cell_guid": "fd92c5b3-5a4e-49a9-8304-35c9b0c5c594",
                "language": "sql"
            },
            "source": [
                "**15. ¿Cuál es la fecha de la transacción más antigua?**"
            ]
        },
        {
            "cell_type": "code",
            "execution_count": 52,
            "metadata": {
                "azdata_cell_guid": "e7110075-a2df-4485-b546-dfafb2b1bea3",
                "language": "sql"
            },
            "outputs": [
                {
                    "data": {
                        "text/html": [
                            "(1 row(s) affected)"
                        ]
                    },
                    "metadata": {},
                    "output_type": "display_data"
                },
                {
                    "data": {
                        "text/html": [
                            "Total execution time: 00:00:01.012"
                        ]
                    },
                    "metadata": {},
                    "output_type": "display_data"
                },
                {
                    "data": {
                        "application/vnd.dataresource+json": {
                            "data": [
                                {
                                    "Fecha_transaccion_mas_antigua": "2023-04-01"
                                }
                            ],
                            "schema": {
                                "fields": [
                                    {
                                        "name": "Fecha_transaccion_mas_antigua"
                                    }
                                ]
                            }
                        },
                        "text/html": [
                            "<table>\n",
                            "<tr><th>Fecha_transaccion_mas_antigua</th></tr>\n",
                            "<tr><td>2023-04-01</td></tr>\n",
                            "</table>"
                        ]
                    },
                    "execution_count": 52,
                    "metadata": {},
                    "output_type": "execute_result"
                }
            ],
            "source": [
                "SELECT MIN(Fecha) AS Fecha_transaccion_mas_antigua\n",
                "FROM transacciones;\n"
            ]
        },
        {
            "attachments": {},
            "cell_type": "markdown",
            "metadata": {
                "azdata_cell_guid": "2ac2895d-2287-436f-a353-56ec4ffa01d2",
                "language": "sql"
            },
            "source": [
                "**16. ¿Cuáles son las 10 cuentas con mayor saldo?**"
            ]
        },
        {
            "cell_type": "code",
            "execution_count": 53,
            "metadata": {
                "azdata_cell_guid": "eb290161-22ad-4baf-9956-729c0ac615c4",
                "language": "sql"
            },
            "outputs": [
                {
                    "data": {
                        "text/html": [
                            "(10 row(s) affected)"
                        ]
                    },
                    "metadata": {},
                    "output_type": "display_data"
                },
                {
                    "data": {
                        "text/html": [
                            "Total execution time: 00:00:01.014"
                        ]
                    },
                    "metadata": {},
                    "output_type": "display_data"
                },
                {
                    "data": {
                        "application/vnd.dataresource+json": {
                            "data": [
                                {
                                    "ClienteID": "2",
                                    "CuentaID": "3",
                                    "FechaApertura": "2015-03-20",
                                    "Saldo": "9876.54",
                                    "TipoCuenta": "Ahorros"
                                },
                                {
                                    "ClienteID": "26",
                                    "CuentaID": "27",
                                    "FechaApertura": "2018-03-10",
                                    "Saldo": "9012.90",
                                    "TipoCuenta": "Ahorros"
                                },
                                {
                                    "ClienteID": "66",
                                    "CuentaID": "67",
                                    "FechaApertura": "2016-06-25",
                                    "Saldo": "9012.90",
                                    "TipoCuenta": "Ahorros"
                                },
                                {
                                    "ClienteID": "90",
                                    "CuentaID": "91",
                                    "FechaApertura": "2017-05-27",
                                    "Saldo": "9012.78",
                                    "TipoCuenta": "Ahorros"
                                },
                                {
                                    "ClienteID": "50",
                                    "CuentaID": "51",
                                    "FechaApertura": "2017-06-15",
                                    "Saldo": "9012.78",
                                    "TipoCuenta": "Ahorros"
                                },
                                {
                                    "ClienteID": "74",
                                    "CuentaID": "75",
                                    "FechaApertura": "2018-04-24",
                                    "Saldo": "9012.56",
                                    "TipoCuenta": "Ahorros"
                                },
                                {
                                    "ClienteID": "34",
                                    "CuentaID": "35",
                                    "FechaApertura": "2020-02-28",
                                    "Saldo": "9012.56",
                                    "TipoCuenta": "Ahorros"
                                },
                                {
                                    "ClienteID": "18",
                                    "CuentaID": "19",
                                    "FechaApertura": "2017-04-25",
                                    "Saldo": "9012.45",
                                    "TipoCuenta": "Ahorros"
                                },
                                {
                                    "ClienteID": "58",
                                    "CuentaID": "59",
                                    "FechaApertura": "2015-09-01",
                                    "Saldo": "9012.34",
                                    "TipoCuenta": "Ahorros"
                                },
                                {
                                    "ClienteID": "10",
                                    "CuentaID": "11",
                                    "FechaApertura": "2019-01-15",
                                    "Saldo": "9012.34",
                                    "TipoCuenta": "Ahorros"
                                }
                            ],
                            "schema": {
                                "fields": [
                                    {
                                        "name": "CuentaID"
                                    },
                                    {
                                        "name": "ClienteID"
                                    },
                                    {
                                        "name": "TipoCuenta"
                                    },
                                    {
                                        "name": "FechaApertura"
                                    },
                                    {
                                        "name": "Saldo"
                                    }
                                ]
                            }
                        },
                        "text/html": [
                            "<table>\n",
                            "<tr><th>CuentaID</th><th>ClienteID</th><th>TipoCuenta</th><th>FechaApertura</th><th>Saldo</th></tr>\n",
                            "<tr><td>3</td><td>2</td><td>Ahorros</td><td>2015-03-20</td><td>9876.54</td></tr>\n",
                            "<tr><td>27</td><td>26</td><td>Ahorros</td><td>2018-03-10</td><td>9012.90</td></tr>\n",
                            "<tr><td>67</td><td>66</td><td>Ahorros</td><td>2016-06-25</td><td>9012.90</td></tr>\n",
                            "<tr><td>91</td><td>90</td><td>Ahorros</td><td>2017-05-27</td><td>9012.78</td></tr>\n",
                            "<tr><td>51</td><td>50</td><td>Ahorros</td><td>2017-06-15</td><td>9012.78</td></tr>\n",
                            "<tr><td>75</td><td>74</td><td>Ahorros</td><td>2018-04-24</td><td>9012.56</td></tr>\n",
                            "<tr><td>35</td><td>34</td><td>Ahorros</td><td>2020-02-28</td><td>9012.56</td></tr>\n",
                            "<tr><td>19</td><td>18</td><td>Ahorros</td><td>2017-04-25</td><td>9012.45</td></tr>\n",
                            "<tr><td>59</td><td>58</td><td>Ahorros</td><td>2015-09-01</td><td>9012.34</td></tr>\n",
                            "<tr><td>11</td><td>10</td><td>Ahorros</td><td>2019-01-15</td><td>9012.34</td></tr>\n",
                            "</table>"
                        ]
                    },
                    "execution_count": 53,
                    "metadata": {},
                    "output_type": "execute_result"
                }
            ],
            "source": [
                "SELECT *\n",
                "FROM cuentas\n",
                "ORDER BY Saldo DESC\n",
                "LIMIT 10;\n"
            ]
        },
        {
            "attachments": {},
            "cell_type": "markdown",
            "metadata": {
                "azdata_cell_guid": "59af31f9-17cb-478f-8609-2f32119662b9",
                "language": "sql"
            },
            "source": [
                "**17. ¿Cuál es el cliente con la mayor cantidad de transacciones?**"
            ]
        },
        {
            "cell_type": "code",
            "execution_count": 54,
            "metadata": {
                "azdata_cell_guid": "c2f26b41-e8c8-4a08-87be-590e7887d0fa",
                "language": "sql"
            },
            "outputs": [
                {
                    "data": {
                        "text/html": [
                            "(1 row(s) affected)"
                        ]
                    },
                    "metadata": {},
                    "output_type": "display_data"
                },
                {
                    "data": {
                        "text/html": [
                            "Total execution time: 00:00:01.011"
                        ]
                    },
                    "metadata": {},
                    "output_type": "display_data"
                },
                {
                    "data": {
                        "application/vnd.dataresource+json": {
                            "data": [
                                {
                                    "Apellido": "Pérez",
                                    "ClienteID": "1",
                                    "Nombre": "Juan",
                                    "num_transacciones": "4"
                                }
                            ],
                            "schema": {
                                "fields": [
                                    {
                                        "name": "ClienteID"
                                    },
                                    {
                                        "name": "Nombre"
                                    },
                                    {
                                        "name": "Apellido"
                                    },
                                    {
                                        "name": "num_transacciones"
                                    }
                                ]
                            }
                        },
                        "text/html": [
                            "<table>\n",
                            "<tr><th>ClienteID</th><th>Nombre</th><th>Apellido</th><th>num_transacciones</th></tr>\n",
                            "<tr><td>1</td><td>Juan</td><td>Pérez</td><td>4</td></tr>\n",
                            "</table>"
                        ]
                    },
                    "execution_count": 54,
                    "metadata": {},
                    "output_type": "execute_result"
                }
            ],
            "source": [
                "SELECT c.ClienteID, cl.Nombre, cl.Apellido, COUNT(*) AS num_transacciones\n",
                "FROM transacciones t\n",
                "JOIN cuentas c ON t.CuentaID = c.CuentaID\n",
                "JOIN clientes cl ON c.ClienteID = cl.ClienteID\n",
                "GROUP BY c.ClienteID, cl.Nombre, cl.Apellido\n",
                "ORDER BY num_transacciones DESC\n",
                "LIMIT 1;\n"
            ]
        },
        {
            "attachments": {},
            "cell_type": "markdown",
            "metadata": {
                "azdata_cell_guid": "dcfb06f8-908d-4b25-9b41-23e0b42c2798",
                "language": "sql"
            },
            "source": [
                "**18. ¿Cuáles son las 5 ciudades con más clientes?**"
            ]
        },
        {
            "cell_type": "code",
            "execution_count": 55,
            "metadata": {
                "azdata_cell_guid": "708bbcac-64f7-4ff6-8d2a-8952129d0bb1",
                "language": "sql"
            },
            "outputs": [
                {
                    "data": {
                        "text/html": [
                            "(5 row(s) affected)"
                        ]
                    },
                    "metadata": {},
                    "output_type": "display_data"
                },
                {
                    "data": {
                        "text/html": [
                            "Total execution time: 00:00:01.006"
                        ]
                    },
                    "metadata": {},
                    "output_type": "display_data"
                },
                {
                    "data": {
                        "application/vnd.dataresource+json": {
                            "data": [
                                {
                                    "Ciudad": "Barcelona",
                                    "num_clientes": "24"
                                },
                                {
                                    "Ciudad": "Madrid",
                                    "num_clientes": "20"
                                },
                                {
                                    "Ciudad": "Sevilla",
                                    "num_clientes": "14"
                                },
                                {
                                    "Ciudad": "Zaragoza",
                                    "num_clientes": "11"
                                },
                                {
                                    "Ciudad": "Málaga",
                                    "num_clientes": "10"
                                }
                            ],
                            "schema": {
                                "fields": [
                                    {
                                        "name": "Ciudad"
                                    },
                                    {
                                        "name": "num_clientes"
                                    }
                                ]
                            }
                        },
                        "text/html": [
                            "<table>\n",
                            "<tr><th>Ciudad</th><th>num_clientes</th></tr>\n",
                            "<tr><td>Barcelona</td><td>24</td></tr>\n",
                            "<tr><td>Madrid</td><td>20</td></tr>\n",
                            "<tr><td>Sevilla</td><td>14</td></tr>\n",
                            "<tr><td>Zaragoza</td><td>11</td></tr>\n",
                            "<tr><td>Málaga</td><td>10</td></tr>\n",
                            "</table>"
                        ]
                    },
                    "execution_count": 55,
                    "metadata": {},
                    "output_type": "execute_result"
                }
            ],
            "source": [
                "SELECT Ciudad, COUNT(*) AS num_clientes\n",
                "FROM clientes\n",
                "GROUP BY Ciudad\n",
                "ORDER BY num_clientes DESC\n",
                "LIMIT 5;\n"
            ]
        },
        {
            "attachments": {},
            "cell_type": "markdown",
            "metadata": {
                "azdata_cell_guid": "c210aca2-4a0d-42e7-aaff-33b461151fc1",
                "language": "sql"
            },
            "source": [
                "**19. ¿Cuál es el monto promedio de las transferencias?**"
            ]
        },
        {
            "cell_type": "code",
            "execution_count": 56,
            "metadata": {
                "azdata_cell_guid": "6d252939-2654-430b-afcf-02a41437bb7f",
                "language": "sql"
            },
            "outputs": [
                {
                    "data": {
                        "text/html": [
                            "(1 row(s) affected)"
                        ]
                    },
                    "metadata": {},
                    "output_type": "display_data"
                },
                {
                    "data": {
                        "text/html": [
                            "Total execution time: 00:00:01.011"
                        ]
                    },
                    "metadata": {},
                    "output_type": "display_data"
                },
                {
                    "data": {
                        "application/vnd.dataresource+json": {
                            "data": [
                                {
                                    "monto_promedio_transferencias": "1404.000000"
                                }
                            ],
                            "schema": {
                                "fields": [
                                    {
                                        "name": "monto_promedio_transferencias"
                                    }
                                ]
                            }
                        },
                        "text/html": [
                            "<table>\n",
                            "<tr><th>monto_promedio_transferencias</th></tr>\n",
                            "<tr><td>1404.000000</td></tr>\n",
                            "</table>"
                        ]
                    },
                    "execution_count": 56,
                    "metadata": {},
                    "output_type": "execute_result"
                }
            ],
            "source": [
                "SELECT AVG(Monto) AS monto_promedio_transferencias\n",
                "FROM transacciones\n",
                "WHERE Tipo = 'Transferencia';\n"
            ]
        },
        {
            "attachments": {},
            "cell_type": "markdown",
            "metadata": {
                "azdata_cell_guid": "2df3c828-ee2c-419e-aad0-404ea3c65346",
                "language": "sql"
            },
            "source": [
                "**20. ¿Cuáles son los clientes que tienen cuentas abiertas en los últimos 6 meses?**"
            ]
        },
        {
            "cell_type": "code",
            "execution_count": null,
            "metadata": {
                "azdata_cell_guid": "f8c2211f-e5e9-491a-b142-fdef00c514de",
                "language": "sql"
            },
            "outputs": [],
            "source": []
        },
        {
            "attachments": {},
            "cell_type": "markdown",
            "metadata": {
                "azdata_cell_guid": "7a716ab0-042e-4366-893b-1279b8f614ca",
                "language": "sql"
            },
            "source": [
                "**21. ¿Cuál es el monto total de pagos realizados?**"
            ]
        },
        {
            "cell_type": "code",
            "execution_count": 57,
            "metadata": {
                "azdata_cell_guid": "bab1a125-1c24-49e9-81e5-518bd5c53fde",
                "language": "sql"
            },
            "outputs": [
                {
                    "data": {
                        "text/html": [
                            "(1 row(s) affected)"
                        ]
                    },
                    "metadata": {},
                    "output_type": "display_data"
                },
                {
                    "data": {
                        "text/html": [
                            "Total execution time: 00:00:01.013"
                        ]
                    },
                    "metadata": {},
                    "output_type": "display_data"
                },
                {
                    "data": {
                        "application/vnd.dataresource+json": {
                            "data": [
                                {
                                    "Monto_Total_Pagos": "11420.00"
                                }
                            ],
                            "schema": {
                                "fields": [
                                    {
                                        "name": "Monto_Total_Pagos"
                                    }
                                ]
                            }
                        },
                        "text/html": [
                            "<table>\n",
                            "<tr><th>Monto_Total_Pagos</th></tr>\n",
                            "<tr><td>11420.00</td></tr>\n",
                            "</table>"
                        ]
                    },
                    "execution_count": 57,
                    "metadata": {},
                    "output_type": "execute_result"
                }
            ],
            "source": [
                "SELECT SUM(Monto) AS Monto_Total_Pagos\n",
                "FROM transacciones\n",
                "WHERE Tipo = 'Pago';\n"
            ]
        },
        {
            "attachments": {},
            "cell_type": "markdown",
            "metadata": {
                "azdata_cell_guid": "6cec3b9c-ec0c-4f46-b3bf-62d35c6090c0",
                "language": "sql"
            },
            "source": [
                "**22. ¿Cuáles son los clientes que tienen cuentas inactivas (sin transacciones en los últimos 3 meses)?**"
            ]
        },
        {
            "cell_type": "code",
            "execution_count": 63,
            "metadata": {
                "azdata_cell_guid": "e39afeea-27a0-416b-8cd0-ef53c25a2aae",
                "language": "sql"
            },
            "outputs": [
                {
                    "data": {
                        "text/html": [
                            "(65 row(s) affected)"
                        ]
                    },
                    "metadata": {},
                    "output_type": "display_data"
                },
                {
                    "data": {
                        "text/html": [
                            "Total execution time: 00:00:01.017"
                        ]
                    },
                    "metadata": {},
                    "output_type": "display_data"
                },
                {
                    "data": {
                        "application/vnd.dataresource+json": {
                            "data": [
                                {
                                    "Apellido": "Pérez",
                                    "ClienteID": "1",
                                    "Nombre": "Juan"
                                },
                                {
                                    "Apellido": "García",
                                    "ClienteID": "2",
                                    "Nombre": "María"
                                },
                                {
                                    "Apellido": "Rodríguez",
                                    "ClienteID": "3",
                                    "Nombre": "Pedro"
                                },
                                {
                                    "Apellido": "Martínez",
                                    "ClienteID": "4",
                                    "Nombre": "Ana"
                                },
                                {
                                    "Apellido": "Sánchez",
                                    "ClienteID": "5",
                                    "Nombre": "Carlos"
                                },
                                {
                                    "Apellido": "Fernández",
                                    "ClienteID": "6",
                                    "Nombre": "Laura"
                                },
                                {
                                    "Apellido": "Gómez",
                                    "ClienteID": "7",
                                    "Nombre": "Javier"
                                },
                                {
                                    "Apellido": "Torres",
                                    "ClienteID": "8",
                                    "Nombre": "Sofía"
                                },
                                {
                                    "Apellido": "Piña",
                                    "ClienteID": "44",
                                    "Nombre": "Valentina"
                                },
                                {
                                    "Apellido": "Arce",
                                    "ClienteID": "45",
                                    "Nombre": "Damián"
                                },
                                {
                                    "Apellido": "Cisneros",
                                    "ClienteID": "46",
                                    "Nombre": "Rebeca"
                                },
                                {
                                    "Apellido": "Villalobos",
                                    "ClienteID": "47",
                                    "Nombre": "Samuel"
                                },
                                {
                                    "Apellido": "Segovia",
                                    "ClienteID": "48",
                                    "Nombre": "Renata"
                                },
                                {
                                    "Apellido": "Salcedo",
                                    "ClienteID": "49",
                                    "Nombre": "Emiliano"
                                },
                                {
                                    "Apellido": "Quintero",
                                    "ClienteID": "50",
                                    "Nombre": "Isabella"
                                },
                                {
                                    "Apellido": "Castañeda",
                                    "ClienteID": "51",
                                    "Nombre": "Tomás"
                                },
                                {
                                    "Apellido": "Uribe",
                                    "ClienteID": "52",
                                    "Nombre": "Sofía"
                                },
                                {
                                    "Apellido": "Salinas",
                                    "ClienteID": "53",
                                    "Nombre": "Martín"
                                },
                                {
                                    "Apellido": "Rincón",
                                    "ClienteID": "54",
                                    "Nombre": "Antonella"
                                },
                                {
                                    "Apellido": "Estrada",
                                    "ClienteID": "55",
                                    "Nombre": "Santiago"
                                },
                                {
                                    "Apellido": "Solano",
                                    "ClienteID": "56",
                                    "Nombre": "Catalina"
                                },
                                {
                                    "Apellido": "Carvajal",
                                    "ClienteID": "57",
                                    "Nombre": "Benjamín"
                                },
                                {
                                    "Apellido": "Avendaño",
                                    "ClienteID": "58",
                                    "Nombre": "Constanza"
                                },
                                {
                                    "Apellido": "Cáceres",
                                    "ClienteID": "59",
                                    "Nombre": "Joaquín"
                                },
                                {
                                    "Apellido": "Echevarría",
                                    "ClienteID": "60",
                                    "Nombre": "Isadora"
                                },
                                {
                                    "Apellido": "Pizarro",
                                    "ClienteID": "61",
                                    "Nombre": "Lucas"
                                },
                                {
                                    "Apellido": "Zúñiga",
                                    "ClienteID": "62",
                                    "Nombre": "Antonia"
                                },
                                {
                                    "Apellido": "Márquez",
                                    "ClienteID": "63",
                                    "Nombre": "Matías"
                                },
                                {
                                    "Apellido": "Acuña",
                                    "ClienteID": "64",
                                    "Nombre": "Rafaela"
                                },
                                {
                                    "Apellido": "Yáñez",
                                    "ClienteID": "65",
                                    "Nombre": "Maximiliano"
                                },
                                {
                                    "Apellido": "Baeza",
                                    "ClienteID": "66",
                                    "Nombre": "Julieta"
                                },
                                {
                                    "Apellido": "Montero",
                                    "ClienteID": "67",
                                    "Nombre": "Ezequiel"
                                },
                                {
                                    "Apellido": "Quintana",
                                    "ClienteID": "68",
                                    "Nombre": "Florencia"
                                },
                                {
                                    "Apellido": "Olivares",
                                    "ClienteID": "69",
                                    "Nombre": "Thiago"
                                },
                                {
                                    "Apellido": "Rendón",
                                    "ClienteID": "70",
                                    "Nombre": "Bianca"
                                },
                                {
                                    "Apellido": "Palacios",
                                    "ClienteID": "71",
                                    "Nombre": "Cristóbal"
                                },
                                {
                                    "Apellido": "Parra",
                                    "ClienteID": "72",
                                    "Nombre": "Amanda"
                                },
                                {
                                    "Apellido": "Crespo",
                                    "ClienteID": "73",
                                    "Nombre": "Emilio"
                                },
                                {
                                    "Apellido": "Henríquez",
                                    "ClienteID": "74",
                                    "Nombre": "Ariana"
                                },
                                {
                                    "Apellido": "Morales",
                                    "ClienteID": "75",
                                    "Nombre": "Salvador"
                                },
                                {
                                    "Apellido": "Tapia",
                                    "ClienteID": "76",
                                    "Nombre": "Fernanda"
                                },
                                {
                                    "Apellido": "Concha",
                                    "ClienteID": "77",
                                    "Nombre": "Emmanuel"
                                },
                                {
                                    "Apellido": "Quintero",
                                    "ClienteID": "78",
                                    "Nombre": "Dulce"
                                },
                                {
                                    "Apellido": "Peralta",
                                    "ClienteID": "79",
                                    "Nombre": "Lisandro"
                                },
                                {
                                    "Apellido": "Santamaría",
                                    "ClienteID": "80",
                                    "Nombre": "Luana"
                                },
                                {
                                    "Apellido": "Saldivar",
                                    "ClienteID": "81",
                                    "Nombre": "Máximo"
                                },
                                {
                                    "Apellido": "Ugarte",
                                    "ClienteID": "82",
                                    "Nombre": "Violeta"
                                },
                                {
                                    "Apellido": "Solís",
                                    "ClienteID": "83",
                                    "Nombre": "Ignacio"
                                },
                                {
                                    "Apellido": "Olmedo",
                                    "ClienteID": "84",
                                    "Nombre": "Avril"
                                },
                                {
                                    "Apellido": "Urrutia",
                                    "ClienteID": "85",
                                    "Nombre": "Leonel"
                                },
                                {
                                    "Apellido": "Espinoza",
                                    "ClienteID": "86",
                                    "Nombre": "Paloma"
                                },
                                {
                                    "Apellido": "Mora",
                                    "ClienteID": "87",
                                    "Nombre": "Fabrizio"
                                },
                                {
                                    "Apellido": "Heredia",
                                    "ClienteID": "88",
                                    "Nombre": "Maite"
                                },
                                {
                                    "Apellido": "Bernal",
                                    "ClienteID": "89",
                                    "Nombre": "Gael"
                                },
                                {
                                    "Apellido": "Polo",
                                    "ClienteID": "90",
                                    "Nombre": "Amelia"
                                },
                                {
                                    "Apellido": "Peña",
                                    "ClienteID": "91",
                                    "Nombre": "Amelia"
                                },
                                {
                                    "Apellido": "Contreras",
                                    "ClienteID": "92",
                                    "Nombre": "Bautista"
                                },
                                {
                                    "Apellido": "Velázquez",
                                    "ClienteID": "93",
                                    "Nombre": "Luciana"
                                },
                                {
                                    "Apellido": "Sepúlveda",
                                    "ClienteID": "94",
                                    "Nombre": "Tristán"
                                },
                                {
                                    "Apellido": "Galindo",
                                    "ClienteID": "95",
                                    "Nombre": "Jimena"
                                },
                                {
                                    "Apellido": "Leal",
                                    "ClienteID": "96",
                                    "Nombre": "Álvaro"
                                },
                                {
                                    "Apellido": "Robles",
                                    "ClienteID": "97",
                                    "Nombre": "Dafne"
                                },
                                {
                                    "Apellido": "Zepeda",
                                    "ClienteID": "98",
                                    "Nombre": "Ángel"
                                },
                                {
                                    "Apellido": "Vigil",
                                    "ClienteID": "99",
                                    "Nombre": "Esmeralda"
                                },
                                {
                                    "Apellido": "Betancourt",
                                    "ClienteID": "100",
                                    "Nombre": "Pascual"
                                }
                            ],
                            "schema": {
                                "fields": [
                                    {
                                        "name": "ClienteID"
                                    },
                                    {
                                        "name": "Nombre"
                                    },
                                    {
                                        "name": "Apellido"
                                    }
                                ]
                            }
                        },
                        "text/html": [
                            "<table>\n",
                            "<tr><th>ClienteID</th><th>Nombre</th><th>Apellido</th></tr>\n",
                            "<tr><td>1</td><td>Juan</td><td>Pérez</td></tr>\n",
                            "<tr><td>2</td><td>María</td><td>García</td></tr>\n",
                            "<tr><td>3</td><td>Pedro</td><td>Rodríguez</td></tr>\n",
                            "<tr><td>4</td><td>Ana</td><td>Martínez</td></tr>\n",
                            "<tr><td>5</td><td>Carlos</td><td>Sánchez</td></tr>\n",
                            "<tr><td>6</td><td>Laura</td><td>Fernández</td></tr>\n",
                            "<tr><td>7</td><td>Javier</td><td>Gómez</td></tr>\n",
                            "<tr><td>8</td><td>Sofía</td><td>Torres</td></tr>\n",
                            "<tr><td>44</td><td>Valentina</td><td>Piña</td></tr>\n",
                            "<tr><td>45</td><td>Damián</td><td>Arce</td></tr>\n",
                            "<tr><td>46</td><td>Rebeca</td><td>Cisneros</td></tr>\n",
                            "<tr><td>47</td><td>Samuel</td><td>Villalobos</td></tr>\n",
                            "<tr><td>48</td><td>Renata</td><td>Segovia</td></tr>\n",
                            "<tr><td>49</td><td>Emiliano</td><td>Salcedo</td></tr>\n",
                            "<tr><td>50</td><td>Isabella</td><td>Quintero</td></tr>\n",
                            "<tr><td>51</td><td>Tomás</td><td>Castañeda</td></tr>\n",
                            "<tr><td>52</td><td>Sofía</td><td>Uribe</td></tr>\n",
                            "<tr><td>53</td><td>Martín</td><td>Salinas</td></tr>\n",
                            "<tr><td>54</td><td>Antonella</td><td>Rincón</td></tr>\n",
                            "<tr><td>55</td><td>Santiago</td><td>Estrada</td></tr>\n",
                            "<tr><td>56</td><td>Catalina</td><td>Solano</td></tr>\n",
                            "<tr><td>57</td><td>Benjamín</td><td>Carvajal</td></tr>\n",
                            "<tr><td>58</td><td>Constanza</td><td>Avendaño</td></tr>\n",
                            "<tr><td>59</td><td>Joaquín</td><td>Cáceres</td></tr>\n",
                            "<tr><td>60</td><td>Isadora</td><td>Echevarría</td></tr>\n",
                            "<tr><td>61</td><td>Lucas</td><td>Pizarro</td></tr>\n",
                            "<tr><td>62</td><td>Antonia</td><td>Zúñiga</td></tr>\n",
                            "<tr><td>63</td><td>Matías</td><td>Márquez</td></tr>\n",
                            "<tr><td>64</td><td>Rafaela</td><td>Acuña</td></tr>\n",
                            "<tr><td>65</td><td>Maximiliano</td><td>Yáñez</td></tr>\n",
                            "<tr><td>66</td><td>Julieta</td><td>Baeza</td></tr>\n",
                            "<tr><td>67</td><td>Ezequiel</td><td>Montero</td></tr>\n",
                            "<tr><td>68</td><td>Florencia</td><td>Quintana</td></tr>\n",
                            "<tr><td>69</td><td>Thiago</td><td>Olivares</td></tr>\n",
                            "<tr><td>70</td><td>Bianca</td><td>Rendón</td></tr>\n",
                            "<tr><td>71</td><td>Cristóbal</td><td>Palacios</td></tr>\n",
                            "<tr><td>72</td><td>Amanda</td><td>Parra</td></tr>\n",
                            "<tr><td>73</td><td>Emilio</td><td>Crespo</td></tr>\n",
                            "<tr><td>74</td><td>Ariana</td><td>Henríquez</td></tr>\n",
                            "<tr><td>75</td><td>Salvador</td><td>Morales</td></tr>\n",
                            "<tr><td>76</td><td>Fernanda</td><td>Tapia</td></tr>\n",
                            "<tr><td>77</td><td>Emmanuel</td><td>Concha</td></tr>\n",
                            "<tr><td>78</td><td>Dulce</td><td>Quintero</td></tr>\n",
                            "<tr><td>79</td><td>Lisandro</td><td>Peralta</td></tr>\n",
                            "<tr><td>80</td><td>Luana</td><td>Santamaría</td></tr>\n",
                            "<tr><td>81</td><td>Máximo</td><td>Saldivar</td></tr>\n",
                            "<tr><td>82</td><td>Violeta</td><td>Ugarte</td></tr>\n",
                            "<tr><td>83</td><td>Ignacio</td><td>Solís</td></tr>\n",
                            "<tr><td>84</td><td>Avril</td><td>Olmedo</td></tr>\n",
                            "<tr><td>85</td><td>Leonel</td><td>Urrutia</td></tr>\n",
                            "<tr><td>86</td><td>Paloma</td><td>Espinoza</td></tr>\n",
                            "<tr><td>87</td><td>Fabrizio</td><td>Mora</td></tr>\n",
                            "<tr><td>88</td><td>Maite</td><td>Heredia</td></tr>\n",
                            "<tr><td>89</td><td>Gael</td><td>Bernal</td></tr>\n",
                            "<tr><td>90</td><td>Amelia</td><td>Polo</td></tr>\n",
                            "<tr><td>91</td><td>Amelia</td><td>Peña</td></tr>\n",
                            "<tr><td>92</td><td>Bautista</td><td>Contreras</td></tr>\n",
                            "<tr><td>93</td><td>Luciana</td><td>Velázquez</td></tr>\n",
                            "<tr><td>94</td><td>Tristán</td><td>Sepúlveda</td></tr>\n",
                            "<tr><td>95</td><td>Jimena</td><td>Galindo</td></tr>\n",
                            "<tr><td>96</td><td>Álvaro</td><td>Leal</td></tr>\n",
                            "<tr><td>97</td><td>Dafne</td><td>Robles</td></tr>\n",
                            "<tr><td>98</td><td>Ángel</td><td>Zepeda</td></tr>\n",
                            "<tr><td>99</td><td>Esmeralda</td><td>Vigil</td></tr>\n",
                            "<tr><td>100</td><td>Pascual</td><td>Betancourt</td></tr>\n",
                            "</table>"
                        ]
                    },
                    "execution_count": 63,
                    "metadata": {},
                    "output_type": "execute_result"
                }
            ],
            "source": [
                "\n",
                "\n",
                "\n",
                "\n"
            ]
        },
        {
            "attachments": {},
            "cell_type": "markdown",
            "metadata": {
                "azdata_cell_guid": "05191c35-2c36-438f-90c2-a294db0c4450",
                "language": "sql"
            },
            "source": [
                "**23. ¿Cuál es el monto promedio de depósitos por ciudad?**"
            ]
        },
        {
            "cell_type": "code",
            "execution_count": 64,
            "metadata": {
                "azdata_cell_guid": "abf0cbaa-577c-4528-a010-dcd742fd253a",
                "language": "sql"
            },
            "outputs": [
                {
                    "data": {
                        "text/html": [
                            "(7 row(s) affected)"
                        ]
                    },
                    "metadata": {},
                    "output_type": "display_data"
                },
                {
                    "data": {
                        "text/html": [
                            "Total execution time: 00:00:01.021"
                        ]
                    },
                    "metadata": {},
                    "output_type": "display_data"
                },
                {
                    "data": {
                        "application/vnd.dataresource+json": {
                            "data": [
                                {
                                    "Ciudad": "Madrid",
                                    "Promedio_Depositos": "2225.000000"
                                },
                                {
                                    "Ciudad": "Valencia",
                                    "Promedio_Depositos": "2650.000000"
                                },
                                {
                                    "Ciudad": "Palma de Mallorca",
                                    "Promedio_Depositos": "2100.000000"
                                },
                                {
                                    "Ciudad": "Barcelona",
                                    "Promedio_Depositos": "2687.500000"
                                },
                                {
                                    "Ciudad": "Bilbao",
                                    "Promedio_Depositos": "2850.000000"
                                },
                                {
                                    "Ciudad": "Sevilla",
                                    "Promedio_Depositos": "3000.000000"
                                },
                                {
                                    "Ciudad": "Zaragoza",
                                    "Promedio_Depositos": "2500.000000"
                                }
                            ],
                            "schema": {
                                "fields": [
                                    {
                                        "name": "Ciudad"
                                    },
                                    {
                                        "name": "Promedio_Depositos"
                                    }
                                ]
                            }
                        },
                        "text/html": [
                            "<table>\n",
                            "<tr><th>Ciudad</th><th>Promedio_Depositos</th></tr>\n",
                            "<tr><td>Madrid</td><td>2225.000000</td></tr>\n",
                            "<tr><td>Valencia</td><td>2650.000000</td></tr>\n",
                            "<tr><td>Palma de Mallorca</td><td>2100.000000</td></tr>\n",
                            "<tr><td>Barcelona</td><td>2687.500000</td></tr>\n",
                            "<tr><td>Bilbao</td><td>2850.000000</td></tr>\n",
                            "<tr><td>Sevilla</td><td>3000.000000</td></tr>\n",
                            "<tr><td>Zaragoza</td><td>2500.000000</td></tr>\n",
                            "</table>"
                        ]
                    },
                    "execution_count": 64,
                    "metadata": {},
                    "output_type": "execute_result"
                }
            ],
            "source": [
                "SELECT c.Ciudad, AVG(t.Monto) AS Promedio_Depositos\n",
                "FROM clientes c\n",
                "JOIN cuentas cu ON c.ClienteID = cu.ClienteID\n",
                "JOIN transacciones t ON cu.CuentaID = t.CuentaID\n",
                "WHERE t.Tipo = 'Depósito'\n",
                "GROUP BY c.Ciudad;\n"
            ]
        },
        {
            "attachments": {},
            "cell_type": "markdown",
            "metadata": {
                "azdata_cell_guid": "a345cd99-d06a-4a9a-9c56-4ee1b0e0af9e",
                "language": "sql"
            },
            "source": [
                "**24. ¿Cuáles son las 10 cuentas con más transacciones?**"
            ]
        },
        {
            "cell_type": "code",
            "execution_count": 65,
            "metadata": {
                "azdata_cell_guid": "588e4e8b-35d7-4916-becd-7c2d6609a8c5",
                "language": "sql"
            },
            "outputs": [
                {
                    "data": {
                        "text/html": [
                            "(10 row(s) affected)"
                        ]
                    },
                    "metadata": {},
                    "output_type": "display_data"
                },
                {
                    "data": {
                        "text/html": [
                            "Total execution time: 00:00:01.016"
                        ]
                    },
                    "metadata": {},
                    "output_type": "display_data"
                },
                {
                    "data": {
                        "application/vnd.dataresource+json": {
                            "data": [
                                {
                                    "CuentaID": "1",
                                    "Total_Transacciones": "2"
                                },
                                {
                                    "CuentaID": "2",
                                    "Total_Transacciones": "2"
                                },
                                {
                                    "CuentaID": "3",
                                    "Total_Transacciones": "2"
                                },
                                {
                                    "CuentaID": "4",
                                    "Total_Transacciones": "2"
                                },
                                {
                                    "CuentaID": "5",
                                    "Total_Transacciones": "2"
                                },
                                {
                                    "CuentaID": "6",
                                    "Total_Transacciones": "2"
                                },
                                {
                                    "CuentaID": "7",
                                    "Total_Transacciones": "2"
                                },
                                {
                                    "CuentaID": "8",
                                    "Total_Transacciones": "2"
                                },
                                {
                                    "CuentaID": "9",
                                    "Total_Transacciones": "2"
                                },
                                {
                                    "CuentaID": "10",
                                    "Total_Transacciones": "2"
                                }
                            ],
                            "schema": {
                                "fields": [
                                    {
                                        "name": "CuentaID"
                                    },
                                    {
                                        "name": "Total_Transacciones"
                                    }
                                ]
                            }
                        },
                        "text/html": [
                            "<table>\n",
                            "<tr><th>CuentaID</th><th>Total_Transacciones</th></tr>\n",
                            "<tr><td>1</td><td>2</td></tr>\n",
                            "<tr><td>2</td><td>2</td></tr>\n",
                            "<tr><td>3</td><td>2</td></tr>\n",
                            "<tr><td>4</td><td>2</td></tr>\n",
                            "<tr><td>5</td><td>2</td></tr>\n",
                            "<tr><td>6</td><td>2</td></tr>\n",
                            "<tr><td>7</td><td>2</td></tr>\n",
                            "<tr><td>8</td><td>2</td></tr>\n",
                            "<tr><td>9</td><td>2</td></tr>\n",
                            "<tr><td>10</td><td>2</td></tr>\n",
                            "</table>"
                        ]
                    },
                    "execution_count": 65,
                    "metadata": {},
                    "output_type": "execute_result"
                }
            ],
            "source": [
                "SELECT t.CuentaID, COUNT(*) AS Total_Transacciones\n",
                "FROM transacciones t\n",
                "GROUP BY t.CuentaID\n",
                "ORDER BY Total_Transacciones DESC\n",
                "LIMIT 10;\n"
            ]
        },
        {
            "attachments": {},
            "cell_type": "markdown",
            "metadata": {
                "azdata_cell_guid": "05362bd0-ab76-4bcb-9838-fcc9856b4005",
                "language": "sql"
            },
            "source": [
                "**25. ¿Cuáles son los clientes que tienen un saldo total (sumando todas sus cuentas) superior a $9000?**"
            ]
        },
        {
            "cell_type": "code",
            "execution_count": 67,
            "metadata": {
                "azdata_cell_guid": "ed4d3ddf-e28d-44cc-87ce-e6bbb48e2300",
                "language": "sql"
            },
            "outputs": [
                {
                    "data": {
                        "text/html": [
                            "(13 row(s) affected)"
                        ]
                    },
                    "metadata": {},
                    "output_type": "display_data"
                },
                {
                    "data": {
                        "text/html": [
                            "Total execution time: 00:00:01.011"
                        ]
                    },
                    "metadata": {},
                    "output_type": "display_data"
                },
                {
                    "data": {
                        "application/vnd.dataresource+json": {
                            "data": [
                                {
                                    "Apellido": "García",
                                    "ClienteID": "2",
                                    "Nombre": "María",
                                    "Saldo_Total": "9876.54"
                                },
                                {
                                    "Apellido": "Vargas",
                                    "ClienteID": "26",
                                    "Nombre": "Silvia",
                                    "Saldo_Total": "9012.90"
                                },
                                {
                                    "Apellido": "Baeza",
                                    "ClienteID": "66",
                                    "Nombre": "Julieta",
                                    "Saldo_Total": "9012.90"
                                },
                                {
                                    "Apellido": "Quintero",
                                    "ClienteID": "50",
                                    "Nombre": "Isabella",
                                    "Saldo_Total": "9012.78"
                                },
                                {
                                    "Apellido": "Polo",
                                    "ClienteID": "90",
                                    "Nombre": "Amelia",
                                    "Saldo_Total": "9012.78"
                                },
                                {
                                    "Apellido": "Espinosa",
                                    "ClienteID": "34",
                                    "Nombre": "Valeria",
                                    "Saldo_Total": "9012.56"
                                },
                                {
                                    "Apellido": "Henríquez",
                                    "ClienteID": "74",
                                    "Nombre": "Ariana",
                                    "Saldo_Total": "9012.56"
                                },
                                {
                                    "Apellido": "Romero",
                                    "ClienteID": "18",
                                    "Nombre": "Lucía",
                                    "Saldo_Total": "9012.45"
                                },
                                {
                                    "Apellido": "Ramírez",
                                    "ClienteID": "10",
                                    "Nombre": "Isabel",
                                    "Saldo_Total": "9012.34"
                                },
                                {
                                    "Apellido": "Avendaño",
                                    "ClienteID": "58",
                                    "Nombre": "Constanza",
                                    "Saldo_Total": "9012.34"
                                },
                                {
                                    "Apellido": "Zepeda",
                                    "ClienteID": "98",
                                    "Nombre": "Ángel",
                                    "Saldo_Total": "9012.34"
                                },
                                {
                                    "Apellido": "Pizarro",
                                    "ClienteID": "42",
                                    "Nombre": "Mariana",
                                    "Saldo_Total": "9012.12"
                                },
                                {
                                    "Apellido": "Ugarte",
                                    "ClienteID": "82",
                                    "Nombre": "Violeta",
                                    "Saldo_Total": "9012.12"
                                }
                            ],
                            "schema": {
                                "fields": [
                                    {
                                        "name": "ClienteID"
                                    },
                                    {
                                        "name": "Nombre"
                                    },
                                    {
                                        "name": "Apellido"
                                    },
                                    {
                                        "name": "Saldo_Total"
                                    }
                                ]
                            }
                        },
                        "text/html": [
                            "<table>\n",
                            "<tr><th>ClienteID</th><th>Nombre</th><th>Apellido</th><th>Saldo_Total</th></tr>\n",
                            "<tr><td>2</td><td>María</td><td>García</td><td>9876.54</td></tr>\n",
                            "<tr><td>26</td><td>Silvia</td><td>Vargas</td><td>9012.90</td></tr>\n",
                            "<tr><td>66</td><td>Julieta</td><td>Baeza</td><td>9012.90</td></tr>\n",
                            "<tr><td>50</td><td>Isabella</td><td>Quintero</td><td>9012.78</td></tr>\n",
                            "<tr><td>90</td><td>Amelia</td><td>Polo</td><td>9012.78</td></tr>\n",
                            "<tr><td>34</td><td>Valeria</td><td>Espinosa</td><td>9012.56</td></tr>\n",
                            "<tr><td>74</td><td>Ariana</td><td>Henríquez</td><td>9012.56</td></tr>\n",
                            "<tr><td>18</td><td>Lucía</td><td>Romero</td><td>9012.45</td></tr>\n",
                            "<tr><td>10</td><td>Isabel</td><td>Ramírez</td><td>9012.34</td></tr>\n",
                            "<tr><td>58</td><td>Constanza</td><td>Avendaño</td><td>9012.34</td></tr>\n",
                            "<tr><td>98</td><td>Ángel</td><td>Zepeda</td><td>9012.34</td></tr>\n",
                            "<tr><td>42</td><td>Mariana</td><td>Pizarro</td><td>9012.12</td></tr>\n",
                            "<tr><td>82</td><td>Violeta</td><td>Ugarte</td><td>9012.12</td></tr>\n",
                            "</table>"
                        ]
                    },
                    "execution_count": 67,
                    "metadata": {},
                    "output_type": "execute_result"
                }
            ],
            "source": [
                "SELECT cl.ClienteID, cl.Nombre, cl.Apellido, SUM(c.Saldo) AS Saldo_Total\n",
                "FROM clientes cl\n",
                "INNER JOIN cuentas c ON cl.ClienteID = c.ClienteID\n",
                "GROUP BY cl.ClienteID\n",
                "HAVING Saldo_Total > 9000\n",
                "ORDER BY Saldo_total DESC;\n"
            ]
        },
        {
            "attachments": {},
            "cell_type": "markdown",
            "metadata": {
                "azdata_cell_guid": "60dcae03-40c8-4e6e-83f3-034d09ad5352",
                "language": "sql"
            },
            "source": [
                "**26. ¿Cuáles son las cuentas que han tenido transacciones en todas las fechas del último mes?**"
            ]
        },
        {
            "cell_type": "code",
            "execution_count": null,
            "metadata": {
                "azdata_cell_guid": "d67a96ac-4039-460a-8486-b0456fcc269e",
                "language": "sql"
            },
            "outputs": [],
            "source": []
        },
        {
            "attachments": {},
            "cell_type": "markdown",
            "metadata": {
                "azdata_cell_guid": "60164589-175f-4f7c-81c4-4036e3c44e20",
                "language": "sql"
            },
            "source": [
                "**27. ¿Cuál es el monto promedio de transacciones por tipo de cuenta?**"
            ]
        },
        {
            "cell_type": "code",
            "execution_count": 68,
            "metadata": {
                "azdata_cell_guid": "fba88346-6fe5-4fd9-8778-64df90c4e95a",
                "language": "sql"
            },
            "outputs": [
                {
                    "data": {
                        "text/html": [
                            "(2 row(s) affected)"
                        ]
                    },
                    "metadata": {},
                    "output_type": "display_data"
                },
                {
                    "data": {
                        "text/html": [
                            "Total execution time: 00:00:01.017"
                        ]
                    },
                    "metadata": {},
                    "output_type": "display_data"
                },
                {
                    "data": {
                        "application/vnd.dataresource+json": {
                            "data": [
                                {
                                    "Monto_Promedio": "1996.000000",
                                    "TipoCuenta": "Ahorros"
                                },
                                {
                                    "Monto_Promedio": "358.800000",
                                    "TipoCuenta": "Corriente"
                                }
                            ],
                            "schema": {
                                "fields": [
                                    {
                                        "name": "TipoCuenta"
                                    },
                                    {
                                        "name": "Monto_Promedio"
                                    }
                                ]
                            }
                        },
                        "text/html": [
                            "<table>\n",
                            "<tr><th>TipoCuenta</th><th>Monto_Promedio</th></tr>\n",
                            "<tr><td>Ahorros</td><td>1996.000000</td></tr>\n",
                            "<tr><td>Corriente</td><td>358.800000</td></tr>\n",
                            "</table>"
                        ]
                    },
                    "execution_count": 68,
                    "metadata": {},
                    "output_type": "execute_result"
                }
            ],
            "source": [
                "SELECT c.TipoCuenta, AVG(t.Monto) AS Monto_Promedio\n",
                "FROM cuentas c\n",
                "INNER JOIN transacciones t ON c.CuentaID = t.CuentaID\n",
                "GROUP BY c.TipoCuenta;\n"
            ]
        },
        {
            "attachments": {},
            "cell_type": "markdown",
            "metadata": {
                "azdata_cell_guid": "47eae5bb-7488-4093-84a2-b9c961eef65c",
                "language": "sql"
            },
            "source": [
                "**28. ¿Cuáles son los clientes que tienen cuentas con saldo superior al saldo promedio de todas las cuentas?**"
            ]
        },
        {
            "cell_type": "code",
            "execution_count": 69,
            "metadata": {
                "azdata_cell_guid": "f12076a0-04b8-412f-a5dd-48c68e3dfff1",
                "language": "sql"
            },
            "outputs": [
                {
                    "data": {
                        "text/html": [
                            "(49 row(s) affected)"
                        ]
                    },
                    "metadata": {},
                    "output_type": "display_data"
                },
                {
                    "data": {
                        "text/html": [
                            "Total execution time: 00:00:01.014"
                        ]
                    },
                    "metadata": {},
                    "output_type": "display_data"
                },
                {
                    "data": {
                        "application/vnd.dataresource+json": {
                            "data": [
                                {
                                    "Apellido": "García",
                                    "ClienteID": "2",
                                    "Nombre": "María"
                                },
                                {
                                    "Apellido": "Martínez",
                                    "ClienteID": "4",
                                    "Nombre": "Ana"
                                },
                                {
                                    "Apellido": "Fernández",
                                    "ClienteID": "6",
                                    "Nombre": "Laura"
                                },
                                {
                                    "Apellido": "Torres",
                                    "ClienteID": "8",
                                    "Nombre": "Sofía"
                                },
                                {
                                    "Apellido": "Ramírez",
                                    "ClienteID": "10",
                                    "Nombre": "Isabel"
                                },
                                {
                                    "Apellido": "Jiménez",
                                    "ClienteID": "12",
                                    "Nombre": "Marta"
                                },
                                {
                                    "Apellido": "Ruiz",
                                    "ClienteID": "14",
                                    "Nombre": "Carla"
                                },
                                {
                                    "Apellido": "Gutiérrez",
                                    "ClienteID": "16",
                                    "Nombre": "Alicia"
                                },
                                {
                                    "Apellido": "Romero",
                                    "ClienteID": "18",
                                    "Nombre": "Lucía"
                                },
                                {
                                    "Apellido": "Santos",
                                    "ClienteID": "20",
                                    "Nombre": "Elena"
                                },
                                {
                                    "Apellido": "Molina",
                                    "ClienteID": "22",
                                    "Nombre": "Cristina"
                                },
                                {
                                    "Apellido": "Cabrera",
                                    "ClienteID": "24",
                                    "Nombre": "Daniela"
                                },
                                {
                                    "Apellido": "Vargas",
                                    "ClienteID": "26",
                                    "Nombre": "Silvia"
                                },
                                {
                                    "Apellido": "Pardo",
                                    "ClienteID": "28",
                                    "Nombre": "Carolina"
                                },
                                {
                                    "Apellido": "Suárez",
                                    "ClienteID": "30",
                                    "Nombre": "Claudia"
                                },
                                {
                                    "Apellido": "Guerrero",
                                    "ClienteID": "32",
                                    "Nombre": "Adriana"
                                },
                                {
                                    "Apellido": "Espinosa",
                                    "ClienteID": "34",
                                    "Nombre": "Valeria"
                                },
                                {
                                    "Apellido": "Aguilar",
                                    "ClienteID": "36",
                                    "Nombre": "Natalia"
                                },
                                {
                                    "Apellido": "Arias",
                                    "ClienteID": "38",
                                    "Nombre": "Gabriela"
                                },
                                {
                                    "Apellido": "Acosta",
                                    "ClienteID": "40",
                                    "Nombre": "Camila"
                                },
                                {
                                    "Apellido": "Pizarro",
                                    "ClienteID": "42",
                                    "Nombre": "Mariana"
                                },
                                {
                                    "Apellido": "Piña",
                                    "ClienteID": "44",
                                    "Nombre": "Valentina"
                                },
                                {
                                    "Apellido": "Cisneros",
                                    "ClienteID": "46",
                                    "Nombre": "Rebeca"
                                },
                                {
                                    "Apellido": "Segovia",
                                    "ClienteID": "48",
                                    "Nombre": "Renata"
                                },
                                {
                                    "Apellido": "Quintero",
                                    "ClienteID": "50",
                                    "Nombre": "Isabella"
                                },
                                {
                                    "Apellido": "Uribe",
                                    "ClienteID": "52",
                                    "Nombre": "Sofía"
                                },
                                {
                                    "Apellido": "Rincón",
                                    "ClienteID": "54",
                                    "Nombre": "Antonella"
                                },
                                {
                                    "Apellido": "Solano",
                                    "ClienteID": "56",
                                    "Nombre": "Catalina"
                                },
                                {
                                    "Apellido": "Avendaño",
                                    "ClienteID": "58",
                                    "Nombre": "Constanza"
                                },
                                {
                                    "Apellido": "Echevarría",
                                    "ClienteID": "60",
                                    "Nombre": "Isadora"
                                },
                                {
                                    "Apellido": "Zúñiga",
                                    "ClienteID": "62",
                                    "Nombre": "Antonia"
                                },
                                {
                                    "Apellido": "Acuña",
                                    "ClienteID": "64",
                                    "Nombre": "Rafaela"
                                },
                                {
                                    "Apellido": "Baeza",
                                    "ClienteID": "66",
                                    "Nombre": "Julieta"
                                },
                                {
                                    "Apellido": "Quintana",
                                    "ClienteID": "68",
                                    "Nombre": "Florencia"
                                },
                                {
                                    "Apellido": "Rendón",
                                    "ClienteID": "70",
                                    "Nombre": "Bianca"
                                },
                                {
                                    "Apellido": "Parra",
                                    "ClienteID": "72",
                                    "Nombre": "Amanda"
                                },
                                {
                                    "Apellido": "Henríquez",
                                    "ClienteID": "74",
                                    "Nombre": "Ariana"
                                },
                                {
                                    "Apellido": "Tapia",
                                    "ClienteID": "76",
                                    "Nombre": "Fernanda"
                                },
                                {
                                    "Apellido": "Quintero",
                                    "ClienteID": "78",
                                    "Nombre": "Dulce"
                                },
                                {
                                    "Apellido": "Santamaría",
                                    "ClienteID": "80",
                                    "Nombre": "Luana"
                                },
                                {
                                    "Apellido": "Ugarte",
                                    "ClienteID": "82",
                                    "Nombre": "Violeta"
                                },
                                {
                                    "Apellido": "Olmedo",
                                    "ClienteID": "84",
                                    "Nombre": "Avril"
                                },
                                {
                                    "Apellido": "Espinoza",
                                    "ClienteID": "86",
                                    "Nombre": "Paloma"
                                },
                                {
                                    "Apellido": "Heredia",
                                    "ClienteID": "88",
                                    "Nombre": "Maite"
                                },
                                {
                                    "Apellido": "Polo",
                                    "ClienteID": "90",
                                    "Nombre": "Amelia"
                                },
                                {
                                    "Apellido": "Contreras",
                                    "ClienteID": "92",
                                    "Nombre": "Bautista"
                                },
                                {
                                    "Apellido": "Sepúlveda",
                                    "ClienteID": "94",
                                    "Nombre": "Tristán"
                                },
                                {
                                    "Apellido": "Leal",
                                    "ClienteID": "96",
                                    "Nombre": "Álvaro"
                                },
                                {
                                    "Apellido": "Zepeda",
                                    "ClienteID": "98",
                                    "Nombre": "Ángel"
                                }
                            ],
                            "schema": {
                                "fields": [
                                    {
                                        "name": "ClienteID"
                                    },
                                    {
                                        "name": "Nombre"
                                    },
                                    {
                                        "name": "Apellido"
                                    }
                                ]
                            }
                        },
                        "text/html": [
                            "<table>\n",
                            "<tr><th>ClienteID</th><th>Nombre</th><th>Apellido</th></tr>\n",
                            "<tr><td>2</td><td>María</td><td>García</td></tr>\n",
                            "<tr><td>4</td><td>Ana</td><td>Martínez</td></tr>\n",
                            "<tr><td>6</td><td>Laura</td><td>Fernández</td></tr>\n",
                            "<tr><td>8</td><td>Sofía</td><td>Torres</td></tr>\n",
                            "<tr><td>10</td><td>Isabel</td><td>Ramírez</td></tr>\n",
                            "<tr><td>12</td><td>Marta</td><td>Jiménez</td></tr>\n",
                            "<tr><td>14</td><td>Carla</td><td>Ruiz</td></tr>\n",
                            "<tr><td>16</td><td>Alicia</td><td>Gutiérrez</td></tr>\n",
                            "<tr><td>18</td><td>Lucía</td><td>Romero</td></tr>\n",
                            "<tr><td>20</td><td>Elena</td><td>Santos</td></tr>\n",
                            "<tr><td>22</td><td>Cristina</td><td>Molina</td></tr>\n",
                            "<tr><td>24</td><td>Daniela</td><td>Cabrera</td></tr>\n",
                            "<tr><td>26</td><td>Silvia</td><td>Vargas</td></tr>\n",
                            "<tr><td>28</td><td>Carolina</td><td>Pardo</td></tr>\n",
                            "<tr><td>30</td><td>Claudia</td><td>Suárez</td></tr>\n",
                            "<tr><td>32</td><td>Adriana</td><td>Guerrero</td></tr>\n",
                            "<tr><td>34</td><td>Valeria</td><td>Espinosa</td></tr>\n",
                            "<tr><td>36</td><td>Natalia</td><td>Aguilar</td></tr>\n",
                            "<tr><td>38</td><td>Gabriela</td><td>Arias</td></tr>\n",
                            "<tr><td>40</td><td>Camila</td><td>Acosta</td></tr>\n",
                            "<tr><td>42</td><td>Mariana</td><td>Pizarro</td></tr>\n",
                            "<tr><td>44</td><td>Valentina</td><td>Piña</td></tr>\n",
                            "<tr><td>46</td><td>Rebeca</td><td>Cisneros</td></tr>\n",
                            "<tr><td>48</td><td>Renata</td><td>Segovia</td></tr>\n",
                            "<tr><td>50</td><td>Isabella</td><td>Quintero</td></tr>\n",
                            "<tr><td>52</td><td>Sofía</td><td>Uribe</td></tr>\n",
                            "<tr><td>54</td><td>Antonella</td><td>Rincón</td></tr>\n",
                            "<tr><td>56</td><td>Catalina</td><td>Solano</td></tr>\n",
                            "<tr><td>58</td><td>Constanza</td><td>Avendaño</td></tr>\n",
                            "<tr><td>60</td><td>Isadora</td><td>Echevarría</td></tr>\n",
                            "<tr><td>62</td><td>Antonia</td><td>Zúñiga</td></tr>\n",
                            "<tr><td>64</td><td>Rafaela</td><td>Acuña</td></tr>\n",
                            "<tr><td>66</td><td>Julieta</td><td>Baeza</td></tr>\n",
                            "<tr><td>68</td><td>Florencia</td><td>Quintana</td></tr>\n",
                            "<tr><td>70</td><td>Bianca</td><td>Rendón</td></tr>\n",
                            "<tr><td>72</td><td>Amanda</td><td>Parra</td></tr>\n",
                            "<tr><td>74</td><td>Ariana</td><td>Henríquez</td></tr>\n",
                            "<tr><td>76</td><td>Fernanda</td><td>Tapia</td></tr>\n",
                            "<tr><td>78</td><td>Dulce</td><td>Quintero</td></tr>\n",
                            "<tr><td>80</td><td>Luana</td><td>Santamaría</td></tr>\n",
                            "<tr><td>82</td><td>Violeta</td><td>Ugarte</td></tr>\n",
                            "<tr><td>84</td><td>Avril</td><td>Olmedo</td></tr>\n",
                            "<tr><td>86</td><td>Paloma</td><td>Espinoza</td></tr>\n",
                            "<tr><td>88</td><td>Maite</td><td>Heredia</td></tr>\n",
                            "<tr><td>90</td><td>Amelia</td><td>Polo</td></tr>\n",
                            "<tr><td>92</td><td>Bautista</td><td>Contreras</td></tr>\n",
                            "<tr><td>94</td><td>Tristán</td><td>Sepúlveda</td></tr>\n",
                            "<tr><td>96</td><td>Álvaro</td><td>Leal</td></tr>\n",
                            "<tr><td>98</td><td>Ángel</td><td>Zepeda</td></tr>\n",
                            "</table>"
                        ]
                    },
                    "execution_count": 69,
                    "metadata": {},
                    "output_type": "execute_result"
                }
            ],
            "source": [
                "SELECT cl.ClienteID, cl.Nombre, cl.Apellido\n",
                "FROM clientes cl\n",
                "INNER JOIN cuentas cu ON cl.ClienteID = cu.ClienteID\n",
                "WHERE cu.Saldo > (SELECT AVG(Saldo) FROM cuentas);\n"
            ]
        },
        {
            "attachments": {},
            "cell_type": "markdown",
            "metadata": {
                "azdata_cell_guid": "4a5a3c24-293c-436a-9d3d-f0010430986f",
                "language": "sql"
            },
            "source": [
                "**29. ¿Cuál es el monto total de transacciones por cliente y tipo de transacción?**"
            ]
        },
        {
            "cell_type": "code",
            "execution_count": null,
            "metadata": {
                "azdata_cell_guid": "7e3ac269-f6e1-422d-a5af-1151d246b099",
                "language": "sql"
            },
            "outputs": [],
            "source": []
        },
        {
            "attachments": {},
            "cell_type": "markdown",
            "metadata": {
                "azdata_cell_guid": "8cf2fe81-b3f2-4d18-9b8c-35fa4036635d",
                "language": "sql"
            },
            "source": [
                "**30. ¿Cuáles son las cuentas que no han tenido transacciones en los últimos 6 meses?**"
            ]
        },
        {
            "cell_type": "code",
            "execution_count": null,
            "metadata": {
                "azdata_cell_guid": "cd2b6386-cdac-4218-9529-596e0046d031",
                "language": "sql"
            },
            "outputs": [],
            "source": []
        },
        {
            "attachments": {},
            "cell_type": "markdown",
            "metadata": {
                "azdata_cell_guid": "02fe62cc-829d-4238-a8bf-a593af4be586",
                "language": "sql"
            },
            "source": [
                "**31. ¿Cuál es el monto promedio de transacciones por rango de edad de los clientes?**"
            ]
        },
        {
            "cell_type": "code",
            "execution_count": null,
            "metadata": {
                "azdata_cell_guid": "df75f6d9-a1ca-4fb0-ad91-570e860c90f9",
                "language": "sql"
            },
            "outputs": [],
            "source": []
        },
        {
            "attachments": {},
            "cell_type": "markdown",
            "metadata": {
                "azdata_cell_guid": "400579c4-3dbe-4ee8-ad95-ac92985f2ef9"
            },
            "source": [
                "**32.** **¿Cuáles son los clientes que tienen cuentas con un saldo superior a la mitad del saldo promedio de todas las cuentas?**"
            ]
        },
        {
            "cell_type": "code",
            "execution_count": null,
            "metadata": {
                "azdata_cell_guid": "6d851e99-067a-475a-aa56-2ad3e4f4e752",
                "language": "sql"
            },
            "outputs": [],
            "source": []
        },
        {
            "attachments": {},
            "cell_type": "markdown",
            "metadata": {
                "azdata_cell_guid": "041cd756-fa24-442f-abfb-912f99a9fa5a",
                "language": "sql"
            },
            "source": [
                "**33. ¿Cuál es el monto total de transacciones por mes y año?**"
            ]
        },
        {
            "cell_type": "code",
            "execution_count": null,
            "metadata": {
                "azdata_cell_guid": "13ae24b1-6a41-4a32-a1ea-4049b1fea551",
                "language": "sql"
            },
            "outputs": [],
            "source": []
        },
        {
            "attachments": {},
            "cell_type": "markdown",
            "metadata": {
                "azdata_cell_guid": "7c92ceab-2bed-4cc0-93c7-dce1f309b89d",
                "language": "sql"
            },
            "source": [
                "**34. ¿Cuáles son las cuentas que han tenido transacciones en todas las fechas del último trimestre?**"
            ]
        },
        {
            "cell_type": "code",
            "execution_count": null,
            "metadata": {
                "azdata_cell_guid": "5a3dc969-3f31-49eb-a388-ed9d72df106d",
                "language": "sql"
            },
            "outputs": [],
            "source": []
        },
        {
            "attachments": {},
            "cell_type": "markdown",
            "metadata": {
                "azdata_cell_guid": "4b845cb4-b3d1-461c-963f-ef1ccaa8ca10",
                "language": "sql"
            },
            "source": [
                "**35. ¿Cuál es el monto promedio de depósitos por rango de saldo de las cuentas?**"
            ]
        },
        {
            "cell_type": "code",
            "execution_count": null,
            "metadata": {
                "azdata_cell_guid": "25581a81-0398-41fb-bb81-ed79232bf355",
                "language": "sql"
            },
            "outputs": [],
            "source": []
        },
        {
            "attachments": {},
            "cell_type": "markdown",
            "metadata": {
                "azdata_cell_guid": "7054d970-8fb9-442b-b330-632a93b2bff3",
                "language": "sql"
            },
            "source": [
                "**36. ¿Cuáles son los clientes que tienen cuentas con un saldo superior al saldo máximo de todas las cuentas de ahorros?**"
            ]
        },
        {
            "attachments": {},
            "cell_type": "markdown",
            "metadata": {
                "azdata_cell_guid": "350b365e-7fbf-4309-8918-d74f8d3a8b63",
                "language": "sql"
            },
            "source": [
                "**37. ¿Cuál es el monto total de transacciones por día de la semana?**"
            ]
        },
        {
            "cell_type": "code",
            "execution_count": null,
            "metadata": {
                "azdata_cell_guid": "7cdc4e65-cce1-456b-ad06-b6485aa94697",
                "language": "sql"
            },
            "outputs": [],
            "source": []
        },
        {
            "attachments": {},
            "cell_type": "markdown",
            "metadata": {
                "azdata_cell_guid": "127badba-3f91-4cf8-af10-fd8f2147d5a2",
                "language": "sql"
            },
            "source": [
                "**38. ¿Cuáles son las cuentas que han tenido transacciones en todos los meses del año en curso?**"
            ]
        },
        {
            "cell_type": "code",
            "execution_count": null,
            "metadata": {
                "azdata_cell_guid": "4b2ca473-9476-4f0e-a8bb-8ce869cbd0c8",
                "language": "sql"
            },
            "outputs": [],
            "source": []
        },
        {
            "attachments": {},
            "cell_type": "markdown",
            "metadata": {
                "azdata_cell_guid": "8d8f89b7-1f4e-4d3b-b2ef-435929e6790f",
                "language": "sql"
            },
            "source": [
                "**39. ¿Cuál es el monto promedio de retiros por rango de edad de los clientes?**"
            ]
        },
        {
            "cell_type": "code",
            "execution_count": null,
            "metadata": {
                "azdata_cell_guid": "dab71398-d80d-4749-826c-d5c06c243c00",
                "language": "sql"
            },
            "outputs": [],
            "source": []
        },
        {
            "attachments": {},
            "cell_type": "markdown",
            "metadata": {
                "azdata_cell_guid": "f3fca739-b2f4-4e1c-ab79-8e9c050d5d51",
                "language": "sql"
            },
            "source": [
                "**40. ¿Cuáles son los clientes que tienen cuentas con un saldo inferior al saldo mínimo de todas las cuentas corrientes?**"
            ]
        },
        {
            "cell_type": "code",
            "execution_count": null,
            "metadata": {
                "azdata_cell_guid": "3c9d11df-7135-45ac-a323-18dcf42fafc0",
                "language": "sql"
            },
            "outputs": [],
            "source": []
        },
        {
            "attachments": {},
            "cell_type": "markdown",
            "metadata": {
                "azdata_cell_guid": "869a1914-3b73-4ea0-902e-c13e05c21d23",
                "language": "sql"
            },
            "source": [
                "**41.** **¿Cuál es el monto total de transacciones por cliente, ordenado de mayor a menor?**"
            ]
        },
        {
            "cell_type": "code",
            "execution_count": null,
            "metadata": {
                "azdata_cell_guid": "1d42008a-6eb7-4097-8caf-b839bff7012a",
                "language": "sql"
            },
            "outputs": [],
            "source": []
        },
        {
            "attachments": {},
            "cell_type": "markdown",
            "metadata": {
                "azdata_cell_guid": "d339f813-d44a-4658-bc7c-2a8b2150fde1",
                "language": "sql"
            },
            "source": [
                "**42. ¿Cuáles son las cuentas que han tenido al menos una transacción en cada uno de los últimos 12 meses?**"
            ]
        },
        {
            "cell_type": "code",
            "execution_count": null,
            "metadata": {
                "azdata_cell_guid": "690d10c7-7233-4bde-8b5f-a7ad96d5af28",
                "language": "sql"
            },
            "outputs": [],
            "source": []
        },
        {
            "attachments": {},
            "cell_type": "markdown",
            "metadata": {
                "azdata_cell_guid": "f78ac673-e7e0-479e-b064-198bc43ec8e9",
                "language": "sql"
            },
            "source": [
                "**43. ¿Cuál es el monto promedio de transferencias por ciudad de los clientes?**"
            ]
        },
        {
            "cell_type": "code",
            "execution_count": null,
            "metadata": {
                "azdata_cell_guid": "42bce1a5-0a6e-4701-890e-0272ca883fc7",
                "language": "sql"
            },
            "outputs": [],
            "source": []
        },
        {
            "attachments": {},
            "cell_type": "markdown",
            "metadata": {
                "azdata_cell_guid": "02403e76-42cb-457c-974a-3a0ebfec61ab",
                "language": "sql"
            },
            "source": [
                "**44. ¿Cuáles son los clientes que tienen cuentas con un saldo superior al saldo promedio de todas las cuentas del mismo tipo?**"
            ]
        },
        {
            "cell_type": "code",
            "execution_count": null,
            "metadata": {
                "azdata_cell_guid": "93111dde-6a64-4b31-99ed-005b817b308d",
                "language": "sql"
            },
            "outputs": [],
            "source": []
        },
        {
            "attachments": {},
            "cell_type": "markdown",
            "metadata": {
                "azdata_cell_guid": "e790fcc2-75aa-41ce-92a8-046732a7d789",
                "language": "sql"
            },
            "source": [
                "**45.** **¿Cuál es el monto total de transacciones por trimestre y año?**"
            ]
        },
        {
            "cell_type": "code",
            "execution_count": null,
            "metadata": {
                "azdata_cell_guid": "42573d1e-fdb5-4217-a357-1e401e0739eb",
                "language": "sql"
            },
            "outputs": [],
            "source": []
        },
        {
            "attachments": {},
            "cell_type": "markdown",
            "metadata": {
                "azdata_cell_guid": "cac91ddb-5c31-435e-b544-7873a4284793",
                "language": "sql"
            },
            "source": [
                "**46. ¿Cuáles son las cuentas que han tenido transacciones en todos los años desde su apertura?**"
            ]
        },
        {
            "cell_type": "code",
            "execution_count": null,
            "metadata": {
                "azdata_cell_guid": "c8a9ac4c-71cf-4b2a-a0cb-622d07e09db6",
                "language": "sql"
            },
            "outputs": [],
            "source": []
        },
        {
            "attachments": {},
            "cell_type": "markdown",
            "metadata": {
                "azdata_cell_guid": "2760236e-f35a-44e6-aa0a-78310d254a5b",
                "language": "sql"
            },
            "source": [
                "**47. ¿Cuál es el monto promedio de pagos por rango de saldo de las cuentas?**"
            ]
        },
        {
            "cell_type": "code",
            "execution_count": null,
            "metadata": {
                "azdata_cell_guid": "be08b67b-1fe2-49a0-b8bb-1b22398adc70",
                "language": "sql"
            },
            "outputs": [],
            "source": []
        },
        {
            "attachments": {},
            "cell_type": "markdown",
            "metadata": {
                "azdata_cell_guid": "be60c31f-b27e-4411-accf-fbb3a5bd706d",
                "language": "sql"
            },
            "source": [
                "**48. ¿Cuáles son los clientes que tienen cuentas con un saldo superior al saldo máximo de todas las cuentas corrientes?**"
            ]
        },
        {
            "cell_type": "code",
            "execution_count": null,
            "metadata": {
                "azdata_cell_guid": "2a466210-bf38-4292-88e9-57ebacc69e01",
                "language": "sql"
            },
            "outputs": [],
            "source": []
        },
        {
            "attachments": {},
            "cell_type": "markdown",
            "metadata": {
                "azdata_cell_guid": "9d533856-53c5-4237-af76-663a746d6955",
                "language": "sql"
            },
            "source": [
                "**49\\. ¿Cuál es el monto total de transacciones por semana y año?**"
            ]
        },
        {
            "cell_type": "code",
            "execution_count": null,
            "metadata": {
                "azdata_cell_guid": "870285e4-a7ac-49fa-843b-0353ad837506",
                "language": "sql"
            },
            "outputs": [],
            "source": []
        },
        {
            "attachments": {},
            "cell_type": "markdown",
            "metadata": {
                "azdata_cell_guid": "68fb7ade-cf4f-473a-aa39-4f93a252192c",
                "language": "sql"
            },
            "source": [
                "**50. ¿Cuáles son las cuentas que han tenido transacciones en todas las semanas del año en curso?**"
            ]
        },
        {
            "cell_type": "code",
            "execution_count": null,
            "metadata": {
                "azdata_cell_guid": "07525ba3-3027-42e4-a176-f01670f29045",
                "language": "sql"
            },
            "outputs": [],
            "source": []
        },
        {
            "attachments": {},
            "cell_type": "markdown",
            "metadata": {
                "azdata_cell_guid": "11dddc55-816b-47bc-b821-c5b5fde4b39e",
                "language": "sql"
            },
            "source": [
                "**51. ¿Cuál es la cuenta con el monto máximo de depósito?**"
            ]
        },
        {
            "cell_type": "code",
            "execution_count": null,
            "metadata": {
                "azdata_cell_guid": "1ecdb83e-ab00-4033-9a85-180ef2e42915",
                "language": "sql"
            },
            "outputs": [],
            "source": []
        },
        {
            "attachments": {},
            "cell_type": "markdown",
            "metadata": {
                "azdata_cell_guid": "b005749f-2665-4d3e-9615-59428ce3e52b",
                "language": "sql"
            },
            "source": [
                "**52. ¿Cuál es el cliente con la edad máxima?**"
            ]
        },
        {
            "cell_type": "code",
            "execution_count": null,
            "metadata": {
                "azdata_cell_guid": "394c0ac8-225c-4ab8-9221-29f2b804dad0",
                "language": "sql"
            },
            "outputs": [],
            "source": []
        }
    ],
    "metadata": {
        "kernelspec": {
            "display_name": "SQL",
            "language": "sql",
            "name": "SQL"
        },
        "language_info": {
            "name": "sql",
            "version": ""
        },
        "nteract": {
            "version": "nteract-front-end@1.0.0"
        }
    },
    "nbformat": 4,
    "nbformat_minor": 2
}
