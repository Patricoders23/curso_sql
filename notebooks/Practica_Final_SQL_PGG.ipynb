{
    "metadata": {
        "kernelspec": {
            "name": "SQL",
            "display_name": "SQL",
            "language": "sql"
        },
        "language_info": {
            "name": "sql",
            "version": ""
        },
        "nteract": {
            "version": "nteract-front-end@1.0.0"
        }
    },
    "nbformat_minor": 2,
    "nbformat": 4,
    "cells": [
        {
            "cell_type": "markdown",
            "source": [
                "# Práctica Final Módulo 4 - SQL"
            ],
            "metadata": {
                "azdata_cell_guid": "c6c8bfc7-022e-4a08-9e45-2b86b3fb00c8"
            },
            "attachments": {}
        },
        {
            "cell_type": "markdown",
            "source": [
                "### Responder, utilizando consultas sql, las preguntas que se te hacen a continuación sobre datos de clientes y transacciones del sector bancario (datos sintéticos). EL primer paso es generar el 'schema' , las tablas y la inserción de los datos sinténticos. En la siguiente celda encontrarás los pasos para crear la base de datos. El código sql está comentado con **/\\*** _código sql_  **\\*/** , de modo que , <u>_antes de ejecutar las celdas_</u>, debes **\"descomentar\"** (borrar **'/\\*'** y **'\\*/'**) las consultas. Es posible que algunas consultas te arrojen tablas vacias."
            ],
            "metadata": {
                "azdata_cell_guid": "1e9d08c2-c9c2-44f8-a3e8-eed5b31a1738"
            },
            "attachments": {}
        },
        {
            "cell_type": "markdown",
            "source": [
                "- **Crear esquema**"
            ],
            "metadata": {
                "azdata_cell_guid": "ad2a387c-b90e-4ebf-aa39-1262b6ed33e8"
            },
            "attachments": {}
        },
        {
            "cell_type": "code",
            "source": [
                "\n",
                "CREATE SCHEMA bank; "
            ],
            "metadata": {
                "azdata_cell_guid": "1bd39abc-5ca9-4bfb-90aa-b3b936295b87",
                "language": "sql"
            },
            "outputs": [
                {
                    "output_type": "display_data",
                    "data": {
                        "text/html": "Commands completed successfully"
                    },
                    "metadata": {}
                },
                {
                    "output_type": "display_data",
                    "data": {
                        "text/html": "Total execution time: 00:00:00.013"
                    },
                    "metadata": {}
                }
            ],
            "execution_count": 3
        },
        {
            "cell_type": "markdown",
            "source": [
                "- **Crear tabla Clientes**"
            ],
            "metadata": {
                "azdata_cell_guid": "24ded8ca-b7ea-4700-b2d0-46805d16f8b6",
                "language": "sql"
            },
            "attachments": {}
        },
        {
            "cell_type": "code",
            "source": [
                "\n",
                "CREATE TABLE bank.Clientes (\n",
                "    ClienteID INT PRIMARY KEY,\n",
                "    Nombre VARCHAR(50),\n",
                "    Apellido VARCHAR(50),\n",
                "    FechaNacimiento DATE,\n",
                "    Genero CHAR(1),\n",
                "    Direccion VARCHAR(100),\n",
                "    Ciudad VARCHAR(50),\n",
                "    CodigoPostal VARCHAR(10)\n",
                ");\n",
                ""
            ],
            "metadata": {
                "azdata_cell_guid": "08cc0625-9806-4e42-85ad-3c539ffab31c",
                "language": "sql"
            },
            "outputs": [
                {
                    "output_type": "display_data",
                    "data": {
                        "text/html": "Commands completed successfully"
                    },
                    "metadata": {}
                },
                {
                    "output_type": "display_data",
                    "data": {
                        "text/html": "Total execution time: 00:00:00.031"
                    },
                    "metadata": {}
                }
            ],
            "execution_count": 4
        },
        {
            "cell_type": "markdown",
            "source": [
                "- **Crear tabla Cuentas**"
            ],
            "metadata": {
                "azdata_cell_guid": "ae99c0cb-70da-42b0-9abc-df9eab0f0ced",
                "language": "sql"
            },
            "attachments": {}
        },
        {
            "cell_type": "code",
            "source": [
                "CREATE TABLE bank.Cuentas (\n",
                "    CuentaID INT PRIMARY KEY,\n",
                "    ClienteID INT,\n",
                "    TipoCuenta VARCHAR(20),\n",
                "    FechaApertura DATE,\n",
                "    Saldo DECIMAL(12,2),\n",
                "    FOREIGN KEY (ClienteID) REFERENCES bank.Clientes(ClienteID)\n",
                ");\n",
                ""
            ],
            "metadata": {
                "azdata_cell_guid": "41274da0-23f4-422b-901f-e2cd757e915b",
                "language": "sql"
            },
            "outputs": [
                {
                    "output_type": "display_data",
                    "data": {
                        "text/html": "Commands completed successfully"
                    },
                    "metadata": {}
                },
                {
                    "output_type": "display_data",
                    "data": {
                        "text/html": "Total execution time: 00:00:00.085"
                    },
                    "metadata": {}
                }
            ],
            "execution_count": 7
        },
        {
            "cell_type": "markdown",
            "source": [
                "- **Crear tabla Transacciones**"
            ],
            "metadata": {
                "azdata_cell_guid": "720d65f7-746c-4e5c-b16c-bc1356ee83cd",
                "language": "sql"
            },
            "attachments": {}
        },
        {
            "cell_type": "code",
            "source": [
                "\n",
                "CREATE TABLE bank.Transacciones (\n",
                "    TransaccionID INT PRIMARY KEY,\n",
                "    CuentaID INT,\n",
                "    Fecha DATE,\n",
                "    Tipo VARCHAR(20),\n",
                "    Monto DECIMAL(12,2),\n",
                "    Descripcion VARCHAR(100),\n",
                "    FOREIGN KEY (CuentaID) REFERENCES bank.Cuentas(CuentaID)\n",
                ");\n",
                ""
            ],
            "metadata": {
                "azdata_cell_guid": "c5c49ae2-f245-44c0-862e-af966a1341b1",
                "language": "sql"
            },
            "outputs": [
                {
                    "output_type": "display_data",
                    "data": {
                        "text/html": "Commands completed successfully"
                    },
                    "metadata": {}
                },
                {
                    "output_type": "display_data",
                    "data": {
                        "text/html": "Total execution time: 00:00:00.069"
                    },
                    "metadata": {}
                }
            ],
            "execution_count": 8
        },
        {
            "cell_type": "markdown",
            "source": [
                "- **Insertar los datos en la tabla Clientes**"
            ],
            "metadata": {
                "azdata_cell_guid": "43ec9932-04e2-409f-94f8-facfbaac2d53",
                "language": "sql"
            },
            "attachments": {}
        },
        {
            "cell_type": "code",
            "source": [
                "\n",
                "INSERT INTO bank.Clientes (ClienteID, Nombre, Apellido, FechaNacimiento, Genero, Direccion, Ciudad, CodigoPostal)\n",
                "VALUES\n",
                "    (1, 'Juan', 'Pérez', '1985-03-15', 'M', 'Calle Falsa 123', 'Madrid', '28001'),\n",
                "    (2, 'María', 'García', '1992-11-22', 'F', 'Avenida Siempreviva 456', 'Barcelona', '08001'),\n",
                "    (3, 'Pedro', 'Rodríguez', '1978-07-02', 'M', 'Paseo del Parque 789', 'Sevilla', '41001'),\n",
                "    (4, 'Ana', 'Martínez', '1990-04-18', 'F', 'Calle Mayor 321', 'Valencia', '46001'),\n",
                "    (5, 'Carlos', 'Sánchez', '1982-09-30', 'M', 'Plaza del Ayuntamiento 159', 'Bilbao', '48001'),\n",
                "    (6, 'Laura', 'Fernández', '1995-12-08', 'F', 'Rambla de las Flores 753', 'Málaga', '29001'),\n",
                "    (7, 'Javier', 'Gómez', '1988-06-20', 'M', 'Paseo Marítimo 246', 'Alicante', '03001'),\n",
                "    (8, 'Sofía', 'Torres', '1975-02-10', 'F', 'Avenida del Mar 852', 'Palma de Mallorca', '07001'),\n",
                "    (9, 'Sergio', 'Navarro', '1983-11-05', 'M', 'Calle Real 753', 'Zaragoza', '50001'),\n",
                "    (10, 'Isabel', 'Ramírez', '1991-08-28', 'F', 'Paseo de Gracia 159', 'Barcelona', '08007'),\n",
                "    (11, 'Andrés', 'Herrera', '1979-05-12', 'M', 'Calle del Prado 456', 'Madrid', '28002'),\n",
                "    (12, 'Marta', 'Jiménez', '1987-09-28', 'F', 'Avenida del Puerto 789', 'Valencia', '46002'),\n",
                "    (13, 'Luis', 'Moreno', '1981-03-05', 'M', 'Plaza Mayor 123', 'Sevilla', '41002'),\n",
                "    (14, 'Carla', 'Ruiz', '1993-11-18', 'F', 'Paseo de la Castellana 456', 'Madrid', '28003'),\n",
                "    (15, 'Diego', 'Álvarez', '1977-07-22', 'M', 'Calle Larga 789', 'Málaga', '29002'),\n",
                "    (16, 'Alicia', 'Gutiérrez', '1989-02-03', 'F', 'Rambla de Santa Mónica 123', 'Barcelona', '08004'),\n",
                "    (17, 'Raúl', 'Vázquez', '1984-10-15', 'M', 'Avenida del Mar 456', 'Alicante', '03002'),\n",
                "    (18, 'Lucía', 'Romero', '1991-06-27', 'F', 'Calle San Fermín 789', 'Pamplona', '31001'),\n",
                "    (19, 'Óscar', 'Ramos', '1986-04-09', 'M', 'Plaza del Pilar 123', 'Zaragoza', '50002'),\n",
                "    (20, 'Elena', 'Santos', '1994-12-31', 'F', 'Paseo de la Ribera 456', 'Bilbao', '48002'),\n",
                "    (21, 'Alejandro', 'Flores', '1980-08-17', 'M', 'Calle de la Montera 789', 'Madrid', '28004'),\n",
                "    (22, 'Cristina', 'Molina', '1988-03-10', 'F', 'Avenida de la Palmera 123', 'Sevilla', '41003'),\n",
                "    (23, 'Mario', 'Castillo', '1982-11-25', 'M', 'Paseo Marítimo 456', 'Barcelona', '08005'),\n",
                "    (24, 'Daniela', 'Cabrera', '1996-07-08', 'F', 'Calle de la Reina 789', 'Valencia', '46003'),\n",
                "    (25, 'Pablo', 'Ortega', '1979-02-20', 'M', 'Plaza de las Flores 123', 'Zaragoza', '50003'),\n",
                "    (26, 'Silvia', 'Vargas', '1985-09-03', 'F', 'Avenida de la Constitución 456', 'Sevilla', '41004'),\n",
                "    (27, 'Roberto', 'Sáez', '1991-05-16', 'M', 'Calle Mayor 789', 'Madrid', '28005'),\n",
                "    (28, 'Carolina', 'Pardo', '1993-01-29', 'F', 'Rambla de Cataluña 123', 'Barcelona', '08006'),\n",
                "    (29, 'David', 'Rojas', '1987-10-11', 'M', 'Paseo Marítimo 456', 'Alicante', '03003'),\n",
                "    (30, 'Claudia', 'Suárez', '1995-06-24', 'F', 'Plaza del Ayuntamiento 789', 'Valencia', '46004'),\n",
                "    (31, 'Francisco', 'Ríos', '1983-12-07', 'M', 'Calle de la Paz 123', 'Málaga', '29003'),\n",
                "    (32, 'Adriana', 'Guerrero', '1990-04-30', 'F', 'Avenida del Paralelo 456', 'Barcelona', '08007'),\n",
                "    (33, 'Ernesto', 'Montes', '1978-08-13', 'M', 'Calle Larios 789', 'Málaga', '29004'),\n",
                "    (34, 'Valeria', 'Espinosa', '1997-03-06', 'F', 'Paseo de la Castellana 123', 'Madrid', '28006'),\n",
                "    (35, 'Gustavo', 'Hidalgo', '1984-11-19', 'M', 'Rambla del Prat 456', 'Barcelona', '08008'),\n",
                "    (36, 'Natalia', 'Aguilar', '1992-07-02', 'F', 'Calle San Fernando 789', 'Sevilla', '41005'),\n",
                "    (37, 'Rodrigo', 'Serrano', '1980-05-25', 'M', 'Plaza de la Virgen 123', 'Valencia', '46005'),\n",
                "    (38, 'Gabriela', 'Arias', '1988-02-08', 'F', 'Avenida de la Ilustración 456', 'Zaragoza', '50004'),\n",
                "    (39, 'Mateo', 'Córdoba', '1986-09-21', 'M', 'Calle de las Huertas 789', 'Madrid', '28007'),\n",
                "    (40, 'Camila', 'Acosta', '1994-01-14', 'F', 'Paseo de Gracia 123', 'Barcelona', '08009'),\n",
                "    (41, 'Nicolás', 'Ledesma', '1981-06-27', 'M', 'Calle Larga 456', 'Sevilla', '41006'),\n",
                "    (42, 'Mariana', 'Pizarro', '1989-12-10', 'F', 'Plaza de la Reina 789', 'Valencia', '46006'),\n",
                "    (43, 'Leonardo', 'Escobar', '1983-04-03', 'M', 'Rambla de Cataluña 123', 'Barcelona', '08010'),\n",
                "    (44, 'Valentina', 'Piña', '1996-10-26', 'F', 'Calle Mayor 456', 'Madrid', '28008'),\n",
                "    (45, 'Damián', 'Arce', '1977-07-09', 'M', 'Paseo Marítimo 789', 'Málaga', '29005'),\n",
                "    (46, 'Rebeca', 'Cisneros', '1991-03-22', 'F', 'Avenida del Puerto 123', 'Alicante', '03004'),\n",
                "    (47, 'Samuel', 'Villalobos', '1985-11-05', 'M', 'Calle Colón 456', 'Sevilla', '41007'),\n",
                "    (48, 'Renata', 'Segovia', '1993-08-18', 'F', 'Plaza del Pilar 789', 'Zaragoza', '50005'),\n",
                "    (49, 'Emiliano', 'Salcedo', '1980-02-01', 'M', 'Rambla del Prat 123', 'Barcelona', '08011'),\n",
                "    (50, 'Isabella', 'Quintero', '1997-06-14', 'F', 'Calle de los Olivos 23', 'Madrid', '28019'),\n",
                "    (51, 'Tomás', 'Castañeda', '1982-09-27', 'M', 'Calle Bravo Murillo 456', 'Madrid', '28009'),\n",
                "    (52, 'Sofía', 'Uribe', '1990-05-10', 'F', 'Paseo de la Castellana 789', 'Madrid', '28010'),\n",
                "    (53, 'Martín', 'Salinas', '1986-12-03', 'M', 'Avenida Diagonal 123', 'Barcelona', '08012'),\n",
                "    (54, 'Antonella', 'Rincón', '1995-04-16', 'F', 'Calle Larios 456', 'Málaga', '29006'),\n",
                "    (55, 'Santiago', 'Estrada', '1979-11-29', 'M', 'Plaza de la Reina 789', 'Valencia', '46007'),\n",
                "    (56, 'Catalina', 'Solano', '1988-07-12', 'F', 'Rambla del Prat 123', 'Barcelona', '08013'),\n",
                "    (57, 'Benjamín', 'Carvajal', '1984-03-25', 'M', 'Paseo Marítimo 456', 'Alicante', '03005'),\n",
                "    (58, 'Constanza', 'Avendaño', '1992-10-08', 'F', 'Calle San Fernando 789', 'Sevilla', '41008'),\n",
                "    (59, 'Joaquín', 'Cáceres', '1981-06-21', 'M', 'Plaza del Pilar 123', 'Zaragoza', '50006'),\n",
                "    (60, 'Isadora', 'Echevarría', '1996-01-04', 'F', 'Avenida de la Palmera 456', 'Sevilla', '41009'),\n",
                "    (61, 'Lucas', 'Pizarro', '1979-08-17', 'M', 'Calle de la Montera 789', 'Madrid', '28011'),\n",
                "    (62, 'Antonia', 'Zúñiga', '1987-03-30', 'F', 'Paseo de Gracia 123', 'Barcelona', '08014'),\n",
                "    (63, 'Matías', 'Márquez', '1983-11-13', 'M', 'Rambla de Cataluña 456', 'Barcelona', '08015'),\n",
                "    (64, 'Rafaela', 'Acuña', '1991-07-26', 'F', 'Calle Mayor 789', 'Madrid', '28012'),\n",
                "    (65, 'Maximiliano', 'Yáñez', '1985-02-09', 'M', 'Plaza de las Flores 123', 'Zaragoza', '50007'),\n",
                "    (66, 'Julieta', 'Baeza', '1994-09-22', 'F', 'Avenida del Paralelo 456', 'Barcelona', '08016'),\n",
                "    (67, 'Ezequiel', 'Montero', '1980-05-05', 'M', 'Calle Larios 789', 'Málaga', '29007'),\n",
                "    (68, 'Florencia', 'Quintana', '1988-12-18', 'F', 'Paseo de la Castellana 123', 'Madrid', '28013'),\n",
                "    (69, 'Thiago', 'Olivares', '1986-08-01', 'M', 'Rambla del Prat 456', 'Barcelona', '08017'),\n",
                "    (70, 'Bianca', 'Rendón', '1993-04-14', 'F', 'Calle San Fernando 789', 'Sevilla', '41010'),\n",
                "    (71, 'Cristóbal', 'Palacios', '1979-10-27', 'M', 'Plaza de la Virgen 123', 'Valencia', '46008'),\n",
                "    (72, 'Amanda', 'Parra', '1991-06-09', 'F', 'Avenida de la Ilustración 456', 'Zaragoza', '50008'),\n",
                "    (73, 'Emilio', 'Crespo', '1984-01-22', 'M', 'Calle de las Huertas 789', 'Madrid', '28014'),\n",
                "    (74, 'Ariana', 'Henríquez', '1996-09-05', 'F', 'Paseo de Gracia 123', 'Barcelona', '08018'),\n",
                "    (75, 'Salvador', 'Morales', '1982-05-18', 'M', 'Calle Larga 456', 'Sevilla', '41011'),\n",
                "    (76, 'Fernanda', 'Tapia', '1989-11-01', 'F', 'Plaza de la Reina 789', 'Valencia', '46009'),\n",
                "    (77, 'Emmanuel', 'Concha', '1987-07-14', 'M', 'Rambla de Cataluña 123', 'Barcelona', '08019'),\n",
                "    (78, 'Dulce', 'Quintero', '1995-02-27', 'F', 'Calle Mayor 456', 'Madrid', '28015'),\n",
                "    (79, 'Lisandro', 'Peralta', '1981-09-10', 'M', 'Paseo Marítimo 789', 'Málaga', '29008'),\n",
                "    (80, 'Luana', 'Santamaría', '1993-06-23', 'F', 'Avenida del Puerto 123', 'Alicante', '03006'),\n",
                "    (81, 'Máximo', 'Saldivar', '1986-12-06', 'M', 'Calle Colón 456', 'Sevilla', '41012'),\n",
                "    (82, 'Violeta', 'Ugarte', '1990-04-19', 'F', 'Plaza del Pilar 789', 'Zaragoza', '50009'),\n",
                "    (83, 'Ignacio', 'Solís', '1978-11-02', 'M', 'Rambla del Prat 123', 'Barcelona', '08020'),\n",
                "    (84, 'Avril', 'Olmedo', '1997-07-15', 'F', 'Calle Bravo Murillo 456', 'Madrid', '28016'),\n",
                "    (85, 'Leonel', 'Urrutia', '1984-03-28', 'M', 'Paseo de la Castellana 789', 'Madrid', '28017'),\n",
                "    (86, 'Paloma', 'Espinoza', '1992-10-11', 'F', 'Avenida Diagonal 123', 'Barcelona', '08021'),\n",
                "    (87, 'Fabrizio', 'Mora', '1980-06-24', 'M', 'Calle Larios 456', 'Málaga', '29009'),\n",
                "    (88, 'Maite', 'Heredia', '1988-02-07', 'F', 'Plaza de la Reina 789', 'Valencia', '46010'),\n",
                "    (89, 'Gael', 'Bernal', '1986-09-20', 'M', 'Rambla del Prat 123', 'Barcelona', '08022'),\n",
                "    (90, 'Amelia', 'Polo', '1985-08-19', 'F', 'Calle de los Pintores 12', 'Málaga', '28025'),\n",
                "    (91, 'Amelia', 'Peña', '1994-05-03', 'F', 'Paseo Marítimo 456', 'Alicante', '03007'),\n",
                "    (92, 'Bautista', 'Contreras', '1981-12-16', 'M', 'Calle San Fernando 789', 'Sevilla', '41013'),\n",
                "    (93, 'Luciana', 'Velázquez', '1989-08-29', 'F', 'Plaza del Pilar 123', 'Zaragoza', '50010'),\n",
                "    (94, 'Tristán', 'Sepúlveda', '1987-04-12', 'M', 'Avenida de la Palmera 456', 'Sevilla', '41014'),\n",
                "    (95, 'Jimena', 'Galindo', '1995-11-25', 'F', 'Calle de la Montera 789', 'Madrid', '28018'),\n",
                "    (96, 'Álvaro', 'Leal', '1983-07-08', 'M', 'Paseo de Gracia 123', 'Barcelona', '08023'),\n",
                "    (97, 'Dafne', 'Robles', '1991-03-21', 'F', 'Rambla de Cataluña 456', 'Barcelona', '08024'),\n",
                "    (98, 'Ángel', 'Zepeda', '1979-10-04', 'M', 'Calle Mayor 789', 'Madrid', '28019'),\n",
                "    (99, 'Esmeralda', 'Vigil', '1987-06-17', 'F', 'Plaza de las Flores 123', 'Zaragoza', '50011'),\n",
                "    (100, 'Pascual', 'Betancourt', '1985-01-30', 'M', 'Avenida del Paralelo 456', 'Barcelona', '08025');\n",
                ""
            ],
            "metadata": {
                "azdata_cell_guid": "f61a1d4b-1fef-41bb-b4d2-75037bd7ba5b",
                "language": "sql"
            },
            "outputs": [
                {
                    "output_type": "display_data",
                    "data": {
                        "text/html": "Commands completed successfully"
                    },
                    "metadata": {}
                },
                {
                    "output_type": "display_data",
                    "data": {
                        "text/html": "Total execution time: 00:00:00.015"
                    },
                    "metadata": {}
                }
            ],
            "execution_count": 9
        },
        {
            "cell_type": "markdown",
            "source": [
                "- **Insertar los datos en la tabla Cuentas**"
            ],
            "metadata": {
                "azdata_cell_guid": "439606bc-6ef0-4530-897e-e9d1a848163e",
                "language": "sql"
            },
            "attachments": {}
        },
        {
            "cell_type": "code",
            "source": [
                "\n",
                "INSERT INTO bank.Cuentas (CuentaID, ClienteID, TipoCuenta, FechaApertura, Saldo)\n",
                "VALUES\n",
                "    (1, 1, 'Ahorros', '2010-05-15', 5678.25),\n",
                "    (2, 1, 'Corriente', '2010-05-15', 2345.67),\n",
                "    (3, 2, 'Ahorros', '2015-03-20', 9876.54),\n",
                "    (4, 3, 'Corriente', '2008-11-01', 1234.56),\n",
                "    (5, 4, 'Ahorros', '2012-07-25', 7890.25),\n",
                "    (6, 5, 'Corriente', '2018-02-10', 3456.78),\n",
                "    (7, 6, 'Ahorros', '2014-09-05', 6789.01),\n",
                "    (8, 7, 'Corriente', '2011-04-18', 2345.67),\n",
                "    (9, 8, 'Ahorros', '2017-12-31', 8765.43),\n",
                "    (10, 9, 'Corriente', '2013-06-07', 4567.89),\n",
                "    (11, 10, 'Ahorros', '2019-01-15', 9012.34),\n",
                "    (12, 11, 'Corriente', '2009-08-22', 5678.90),\n",
                "    (13, 12, 'Ahorros', '2016-05-03', 7890.12),\n",
                "    (14, 13, 'Corriente', '2010-11-28', 3456.78),\n",
                "    (15, 14, 'Ahorros', '2018-07-10', 6789.34),\n",
                "    (16, 15, 'Corriente', '2014-03-15', 2345.67),\n",
                "    (17, 16, 'Ahorros', '2020-02-20', 8765.09),\n",
                "    (18, 17, 'Corriente', '2011-09-01', 4567.23),\n",
                "    (19, 18, 'Ahorros', '2017-04-25', 9012.45),\n",
                "    (20, 19, 'Corriente', '2013-12-08', 5678.67),\n",
                "    (21, 20, 'Ahorros', '2019-06-30', 7890.89),\n",
                "    (22, 21, 'Corriente', '2015-01-12', 3456.01),\n",
                "    (23, 22, 'Ahorros', '2012-08-05', 6789.12),\n",
                "    (24, 23, 'Corriente', '2016-11-18', 2345.34),\n",
                "    (25, 24, 'Ahorros', '2020-04-02', 8765.56),\n",
                "    (26, 25, 'Corriente', '2014-07-27', 4567.78),\n",
                "    (27, 26, 'Ahorros', '2018-03-10', 9012.90),\n",
                "    (28, 27, 'Corriente', '2011-10-15', 5678.12),\n",
                "    (29, 28, 'Ahorros', '2017-06-01', 7890.34),\n",
                "    (30, 29, 'Corriente', '2013-02-25', 3456.56),\n",
                "    (31, 30, 'Ahorros', '2019-09-08', 6789.78),\n",
                "    (32, 31, 'Corriente', '2015-04-20', 2345.90),\n",
                "    (33, 32, 'Ahorros', '2011-11-13', 8765.12),\n",
                "    (34, 33, 'Corriente', '2016-07-05', 4567.34),\n",
                "    (35, 34, 'Ahorros', '2020-02-28', 9012.56),\n",
                "    (36, 35, 'Corriente', '2012-09-22', 5678.78),\n",
                "    (37, 36, 'Ahorros', '2018-05-17', 7890.90),\n",
                "    (38, 37, 'Corriente', '2014-01-03', 3456.12),\n",
                "    (39, 38, 'Ahorros', '2019-10-25', 6789.34),\n",
                "    (40, 39, 'Corriente', '2015-07-11', 2345.56),\n",
                "    (41, 40, 'Ahorros', '2013-04-03', 8765.78),\n",
                "    (42, 41, 'Corriente', '2017-11-18', 4567.90),\n",
                "    (43, 42, 'Ahorros', '2020-06-01', 9012.12),\n",
                "    (44, 43, 'Corriente', '2016-02-14', 5678.34),\n",
                "    (45, 44, 'Ahorros', '2012-08-27', 7890.56),\n",
                "    (46, 45, 'Corriente', '2018-03-10', 3456.78),\n",
                "    (47, 46, 'Ahorros', '2014-10-05', 6789.90),\n",
                "    (48, 47, 'Corriente', '2019-05-22', 2345.12),\n",
                "    (49, 48, 'Ahorros', '2015-01-08', 8765.34),\n",
                "    (50, 49, 'Corriente', '2011-09-30', 4567.56),\n",
                "    (51, 50, 'Ahorros', '2017-06-15', 9012.78),\n",
                "    (52, 51, 'Corriente', '2013-03-01', 5678.90),\n",
                "    (53, 52, 'Ahorros', '2019-11-20', 7890.12),\n",
                "    (54, 53, 'Corriente', '2016-08-07', 3456.34),\n",
                "    (55, 54, 'Ahorros', '2014-04-25', 6789.56),\n",
                "    (56, 55, 'Corriente', '2020-01-10', 2345.78),\n",
                "    (57, 56, 'Ahorros', '2012-07-03', 8765.90),\n",
                "    (58, 57, 'Corriente', '2018-02-18', 4567.12),\n",
                "    (59, 58, 'Ahorros', '2015-09-01', 9012.34),\n",
                "    (60, 59, 'Corriente', '2011-05-27', 5678.56),\n",
                "    (61, 60, 'Ahorros', '2017-12-10', 7890.78),\n",
                "    (62, 61, 'Corriente', '2013-06-23', 3456.90),\n",
                "    (63, 62, 'Ahorros', '2019-03-08', 6789.12),\n",
                "    (64, 63, 'Corriente', '2015-10-31', 2345.34),\n",
                "    (65, 64, 'Ahorros', '2012-04-14', 8765.56),\n",
                "    (66, 65, 'Corriente', '2018-11-01', 4567.78),\n",
                "    (67, 66, 'Ahorros', '2016-06-25', 9012.90),\n",
                "    (68, 67, 'Corriente', '2014-02-09', 5678.12),\n",
                "    (69, 68, 'Ahorros', '2020-09-17', 7890.34),\n",
                "    (70, 69, 'Corriente', '2017-05-03', 3456.56),\n",
                "    (71, 70, 'Ahorros', '2013-12-20', 6789.78),\n",
                "    (72, 71, 'Corriente', '2019-07-15', 2345.90),\n",
                "    (73, 72, 'Ahorros', '2015-03-28', 8765.12),\n",
                "    (74, 73, 'Corriente', '2011-10-11', 4567.34),\n",
                "    (75, 74, 'Ahorros', '2018-04-24', 9012.56),\n",
                "    (76, 75, 'Corriente', '2016-01-07', 5678.78),\n",
                "    (77, 76, 'Ahorros', '2014-08-31', 7890.90),\n",
                "    (78, 77, 'Corriente', '2020-05-16', 3456.12),\n",
                "    (79, 78, 'Ahorros', '2012-11-03', 6789.34),\n",
                "    (80, 79, 'Corriente', '2019-06-29', 2345.56),\n",
                "    (81, 80, 'Ahorros', '2017-02-12', 8765.78),\n",
                "    (82, 81, 'Corriente', '2013-09-05', 4567.90),\n",
                "    (83, 82, 'Ahorros', '2015-04-20', 9012.12),\n",
                "    (84, 83, 'Corriente', '2011-11-14', 5678.34),\n",
                "    (85, 84, 'Ahorros', '2018-07-08', 7890.56),\n",
                "    (86, 85, 'Corriente', '2016-03-01', 3456.78),\n",
                "    (87, 86, 'Ahorros', '2014-10-25', 6789.90),\n",
                "    (88, 87, 'Corriente', '2020-06-18', 2345.12),\n",
                "    (89, 88, 'Ahorros', '2012-02-11', 8765.34),\n",
                "    (90, 89, 'Corriente', '2019-09-04', 4567.56),\n",
                "    (91, 90, 'Ahorros', '2017-05-27', 9012.78),\n",
                "    (92, 91, 'Corriente', '2013-12-10', 5678.90),\n",
                "    (93, 92, 'Ahorros', '2015-07-03', 7890.12),\n",
                "    (94, 93, 'Corriente', '2011-03-26', 3456.34),\n",
                "    (95, 94, 'Ahorros', '2018-10-09', 6789.56),\n",
                "    (96, 95, 'Corriente', '2016-05-22', 2345.78),\n",
                "    (97, 96, 'Ahorros', '2014-01-15', 8765.90),\n",
                "    (98, 97, 'Corriente', '2020-08-29', 4567.12),\n",
                "    (99, 98, 'Ahorros', '2012-04-03', 9012.34),\n",
                "    (100, 99, 'Corriente', '2019-11-17', 5678.56);\n",
                ""
            ],
            "metadata": {
                "azdata_cell_guid": "f4ad4b4a-c802-45fa-871c-333260f94c75",
                "language": "sql"
            },
            "outputs": [
                {
                    "output_type": "display_data",
                    "data": {
                        "text/html": "Commands completed successfully"
                    },
                    "metadata": {}
                },
                {
                    "output_type": "display_data",
                    "data": {
                        "text/html": "Total execution time: 00:00:00.013"
                    },
                    "metadata": {}
                }
            ],
            "execution_count": 10
        },
        {
            "cell_type": "markdown",
            "source": [
                "- **Insertar los datos en la tabla Transacciones**"
            ],
            "metadata": {
                "azdata_cell_guid": "81fff978-0d85-4713-ac81-5f7c6fa2587d"
            },
            "attachments": {}
        },
        {
            "cell_type": "code",
            "source": [
                "\n",
                "INSERT INTO bank.Transacciones (TransaccionID, CuentaID, Fecha, Tipo, Monto, Descripcion)\n",
                "VALUES\n",
                "    (1, 1, '2023-04-01', 'Depósito', 500.00, 'Depósito de nómina'),\n",
                "    (2, 2, '2023-04-05', 'Retiro', 200.00, 'Retiro en cajero automático'),\n",
                "    (3, 3, '2023-04-10', 'Transferencia', 1000.00, 'Transferencia desde otra cuenta'),\n",
                "    (4, 4, '2023-04-15', 'Pago', 300.00, 'Pago de servicios públicos'),\n",
                "    (5, 5, '2023-04-20', 'Depósito', 2000.00, 'Depósito de cheque'),\n",
                "    (6, 6, '2023-04-25', 'Retiro', 150.00, 'Retiro en cajero automático'),\n",
                "    (7, 7, '2023-04-30', 'Transferencia', 800.00, 'Transferencia a otra cuenta'),\n",
                "    (8, 8, '2023-05-05', 'Pago', 400.00, 'Pago de tarjeta de crédito'),\n",
                "    (9, 9, '2023-05-10', 'Depósito', 1500.00, 'Depósito de nómina'),\n",
                "    (10, 10, '2023-05-15', 'Retiro', 250.00, 'Retiro en cajero automático'),\n",
                "    (11, 11, '2023-05-20', 'Transferencia', 1200.00, 'Transferencia desde otra cuenta'),\n",
                "    (12, 12, '2023-05-25', 'Pago', 350.00, 'Pago de servicios públicos'),\n",
                "    (13, 13, '2023-05-30', 'Depósito', 2500.00, 'Depósito de cheque'),\n",
                "    (14, 14, '2023-06-04', 'Retiro', 180.00, 'Retiro en cajero automático'),\n",
                "    (15, 15, '2023-06-09', 'Transferencia', 900.00, 'Transferencia a otra cuenta'),\n",
                "    (16, 16, '2023-06-14', 'Pago', 450.00, 'Pago de tarjeta de crédito'),\n",
                "    (17, 17, '2023-06-19', 'Depósito', 1800.00, 'Depósito de nómina'),\n",
                "    (18, 18, '2023-06-24', 'Retiro', 220.00, 'Retiro en cajero automático'),\n",
                "    (19, 19, '2023-06-29', 'Transferencia', 1100.00, 'Transferencia desde otra cuenta'),\n",
                "    (20, 20, '2023-07-04', 'Pago', 380.00, 'Pago de servicios públicos'),\n",
                "    (21, 21, '2023-07-09', 'Depósito', 2200.00, 'Depósito de cheque'),\n",
                "    (22, 22, '2023-07-14', 'Retiro', 160.00, 'Retiro en cajero automático'),\n",
                "    (23, 23, '2023-07-19', 'Transferencia', 850.00, 'Transferencia a otra cuenta'),\n",
                "    (24, 24, '2023-07-24', 'Pago', 420.00, 'Pago de tarjeta de crédito'),\n",
                "    (25, 25, '2023-07-29', 'Depósito', 1900.00, 'Depósito de nómina'),\n",
                "    (26, 26, '2023-08-03', 'Retiro', 240.00, 'Retiro en cajero automático'),\n",
                "    (27, 27, '2023-08-08', 'Transferencia', 1300.00, 'Transferencia desde otra cuenta'),\n",
                "    (28, 28, '2023-08-13', 'Pago', 390.00, 'Pago de servicios públicos'),\n",
                "    (29, 29, '2023-08-18', 'Depósito', 2700.00, 'Depósito de cheque'),\n",
                "    (30, 30, '2023-08-23', 'Retiro', 170.00, 'Retiro en cajero automático'),\n",
                "    (31, 31, '2023-08-28', 'Transferencia', 950.00, 'Transferencia a otra cuenta'),\n",
                "    (32, 32, '2023-09-02', 'Pago', 460.00, 'Pago de tarjeta de crédito'),\n",
                "    (33, 33, '2023-09-07', 'Depósito', 2100.00, 'Depósito de nómina'),\n",
                "    (34, 34, '2023-09-12', 'Retiro', 280.00, 'Retiro en cajero automático'),\n",
                "    (35, 35, '2023-09-17', 'Transferencia', 1400.00, 'Transferencia desde otra cuenta'),\n",
                "    (36, 36, '2023-09-22', 'Pago', 330.00, 'Pago de servicios públicos'),\n",
                "    (37, 37, '2023-09-27', 'Depósito', 2300.00, 'Depósito de cheque'),\n",
                "    (38, 38, '2023-10-02', 'Retiro', 190.00, 'Retiro en cajero automático'),\n",
                "    (39, 39, '2023-10-07', 'Transferencia', 1000.00, 'Transferencia a otra cuenta'),\n",
                "    (40, 40, '2023-10-12', 'Pago', 480.00, 'Pago de tarjeta de crédito'),\n",
                "    (41, 41, '2023-10-17', 'Depósito', 2400.00, 'Depósito de nómina'),\n",
                "    (42, 42, '2023-10-22', 'Retiro', 260.00, 'Retiro en cajero automático'),\n",
                "    (43, 43, '2023-10-27', 'Transferencia', 1500.00, 'Transferencia desde otra cuenta'),\n",
                "    (44, 44, '2023-11-01', 'Pago', 360.00, 'Pago de servicios públicos'),\n",
                "    (45, 45, '2023-11-06', 'Depósito', 2800.00, 'Depósito de cheque'),\n",
                "    (46, 46, '2023-11-11', 'Retiro', 210.00, 'Retiro en cajero automático'),\n",
                "    (47, 47, '2023-11-16', 'Transferencia', 1100.00, 'Transferencia a otra cuenta'),\n",
                "    (48, 48, '2023-11-21', 'Pago', 490.00, 'Pago de tarjeta de crédito'),\n",
                "    (49, 49, '2023-11-26', 'Depósito', 2500.00, 'Depósito de nómina'),\n",
                "    (50, 50, '2023-12-01', 'Retiro', 290.00, 'Retiro en cajero automático'),\n",
                "    (51, 51, '2023-12-06', 'Transferencia', 1600.00, 'Transferencia desde otra cuenta'),\n",
                "    (52, 52, '2023-12-11', 'Pago', 370.00, 'Pago de servicios públicos'),\n",
                "    (53, 53, '2023-12-16', 'Depósito', 3000.00, 'Depósito de cheque'),\n",
                "    (54, 54, '2023-12-21', 'Retiro', 230.00, 'Retiro en cajero automático'),\n",
                "    (55, 55, '2023-12-26', 'Transferencia', 1200.00, 'Transferencia a otra cuenta'),\n",
                "    (56, 56, '2023-12-31', 'Pago', 520.00, 'Pago de tarjeta de crédito'),\n",
                "    (57, 1, '2024-01-05', 'Depósito', 2600.00, 'Depósito de nómina'),\n",
                "    (58, 2, '2024-01-10', 'Retiro', 300.00, 'Retiro en cajero automático'),\n",
                "    (59, 3, '2024-01-15', 'Transferencia', 1700.00, 'Transferencia desde otra cuenta'),\n",
                "    (60, 4, '2024-01-20', 'Pago', 400.00, 'Pago de servicios públicos'),\n",
                "    (61, 5, '2024-01-25', 'Depósito', 3200.00, 'Depósito de cheque'),\n",
                "    (62, 6, '2024-01-30', 'Retiro', 250.00, 'Retiro en cajero automático'),\n",
                "    (63, 7, '2024-02-04', 'Transferencia', 1300.00, 'Transferencia a otra cuenta'),\n",
                "    (64, 8, '2024-02-09', 'Pago', 530.00, 'Pago de tarjeta de crédito'),\n",
                "    (65, 9, '2024-02-14', 'Depósito', 2700.00, 'Depósito de nómina'),\n",
                "    (66, 10, '2024-02-19', 'Retiro', 320.00, 'Retiro en cajero automático'),\n",
                "    (67, 11, '2024-02-24', 'Transferencia', 1800.00, 'Transferencia desde otra cuenta'),\n",
                "    (68, 12, '2024-02-29', 'Pago', 430.00, 'Pago de servicios públicos'),\n",
                "    (69, 13, '2024-03-05', 'Depósito', 3400.00, 'Depósito de cheque'),\n",
                "    (70, 14, '2024-03-10', 'Retiro', 270.00, 'Retiro en cajero automático'),\n",
                "    (71, 15, '2024-03-15', 'Transferencia', 1400.00, 'Transferencia a otra cuenta'),\n",
                "    (72, 16, '2024-03-20', 'Pago', 560.00, 'Pago de tarjeta de crédito'),\n",
                "    (73, 17, '2024-03-25', 'Depósito', 2800.00, 'Depósito de nómina'),\n",
                "    (74, 18, '2024-03-30', 'Retiro', 340.00, 'Retiro en cajero automático'),\n",
                "    (75, 19, '2024-04-04', 'Transferencia', 1900.00, 'Transferencia desde otra cuenta'),\n",
                "    (76, 20, '2024-04-09', 'Pago', 460.00, 'Pago de servicios públicos'),\n",
                "    (77, 21, '2024-04-14', 'Depósito', 3500.00, 'Depósito de cheque'),\n",
                "    (78, 22, '2024-04-19', 'Retiro', 280.00, 'Retiro en cajero automático'),\n",
                "    (79, 23, '2024-04-24', 'Transferencia', 1500.00, 'Transferencia a otra cuenta'),\n",
                "    (80, 24, '2024-04-29', 'Pago', 590.00, 'Pago de tarjeta de crédito'),\n",
                "    (81, 25, '2024-05-04', 'Depósito', 2900.00, 'Depósito de nómina'),\n",
                "    (82, 26, '2024-05-09', 'Retiro', 360.00, 'Retiro en cajero automático'),\n",
                "    (83, 27, '2024-05-14', 'Transferencia', 2000.00, 'Transferencia desde otra cuenta'),\n",
                "    (84, 28, '2024-05-19', 'Pago', 470.00, 'Pago de servicios públicos'),\n",
                "    (85, 29, '2024-05-24', 'Depósito', 3600.00, 'Depósito de cheque'),\n",
                "    (86, 30, '2024-05-29', 'Retiro', 290.00, 'Retiro en cajero automático'),\n",
                "    (87, 31, '2024-06-03', 'Transferencia', 1600.00, 'Transferencia a otra cuenta'),\n",
                "    (88, 32, '2024-06-08', 'Pago', 620.00, 'Pago de tarjeta de crédito'),\n",
                "    (89, 33, '2024-06-13', 'Depósito', 3000.00, 'Depósito de nómina'),\n",
                "    (90, 34, '2024-06-18', 'Retiro', 380.00, 'Retiro en cajero automático'), \n",
                "    (91, 35, '2024-06-23', 'Transferencia', 2100.00, 'Transferencia desde otra cuenta'),\n",
                "    (92, 36, '2024-06-28', 'Pago', 500.00, 'Pago de servicios públicos'),\n",
                "    (93, 37, '2024-07-03', 'Depósito', 3700.00, 'Depósito de cheque'),\n",
                "    (94, 38, '2024-07-08', 'Retiro', 310.00, 'Retiro en cajero automático'),\n",
                "    (95, 39, '2024-07-13', 'Transferencia', 1700.00, 'Transferencia a otra cuenta'),\n",
                "    (96, 40, '2024-07-18', 'Pago', 630.00, 'Pago de tarjeta de crédito'),\n",
                "    (97, 41, '2024-07-23', 'Depósito', 3100.00, 'Depósito de nómina'),\n",
                "    (98, 42, '2024-07-28', 'Retiro', 390.00, 'Retiro en cajero automático'),\n",
                "    (99, 43, '2024-08-02', 'Transferencia', 2200.00, 'Transferencia desde otra cuenta'),\n",
                "    (100, 44, '2024-08-07', 'Pago', 530.00, 'Pago de servicios públicos');\n",
                ""
            ],
            "metadata": {
                "azdata_cell_guid": "8656ceac-c260-4ec1-b470-666b6c59da64",
                "language": "sql"
            },
            "outputs": [
                {
                    "output_type": "display_data",
                    "data": {
                        "text/html": "Commands completed successfully"
                    },
                    "metadata": {}
                },
                {
                    "output_type": "display_data",
                    "data": {
                        "text/html": "Total execution time: 00:00:00.014"
                    },
                    "metadata": {}
                }
            ],
            "execution_count": 11
        },
        {
            "cell_type": "markdown",
            "source": [
                "## Preguntas"
            ],
            "metadata": {
                "azdata_cell_guid": "3d8ee359-8ab3-4319-92e9-0495b9eca146",
                "language": "sql"
            },
            "attachments": {}
        },
        {
            "cell_type": "markdown",
            "source": [
                "**1\\. ¿Cuántos clientes hay en la base de datos?**"
            ],
            "metadata": {
                "azdata_cell_guid": "fe71a84c-e7ae-428d-ae6c-039f7780a924"
            },
            "attachments": {}
        },
        {
            "cell_type": "code",
            "source": [
                "SELECT  COUNT(CLIENTEID) AS Numero_total_Clientes\r\n",
                "FROM bank.clientes;"
            ],
            "metadata": {
                "azdata_cell_guid": "01160802-61d1-49d9-8399-ed91b17d9b0a",
                "language": "sql"
            },
            "outputs": [
                {
                    "output_type": "display_data",
                    "data": {
                        "text/html": "(1 row(s) affected)"
                    },
                    "metadata": {}
                },
                {
                    "output_type": "display_data",
                    "data": {
                        "text/html": "Total execution time: 00:00:01.013"
                    },
                    "metadata": {}
                },
                {
                    "output_type": "execute_result",
                    "execution_count": 17,
                    "data": {
                        "application/vnd.dataresource+json": {
                            "schema": {
                                "fields": [
                                    {
                                        "name": "Numero_total_Clientes"
                                    }
                                ]
                            },
                            "data": [
                                {
                                    "Numero_total_Clientes": "100"
                                }
                            ]
                        },
                        "text/html": "<table><tr><th>Numero_total_Clientes</th></tr><tr><td>100</td></tr></table>"
                    },
                    "metadata": {}
                }
            ],
            "execution_count": 17
        },
        {
            "cell_type": "markdown",
            "source": [
                "**2. ¿Cuál es el saldo total de todas las cuentas?**"
            ],
            "metadata": {
                "azdata_cell_guid": "61964765-2f28-4a13-8ffa-9dac280baeec",
                "language": "sql"
            },
            "attachments": {}
        },
        {
            "cell_type": "code",
            "source": [
                "USE bank;\r\n",
                "\r\n",
                "SELECT SUM(SALDO) AS Saldo_total_todas_cuentas\r\n",
                "FROM cuentas;"
            ],
            "metadata": {
                "azdata_cell_guid": "5c5671cd-f5f4-478e-9cda-71ca5ef111c0",
                "language": "sql"
            },
            "outputs": [
                {
                    "output_type": "display_data",
                    "data": {
                        "text/html": "Commands completed successfully"
                    },
                    "metadata": {}
                },
                {
                    "output_type": "display_data",
                    "data": {
                        "text/html": "(1 row(s) affected)"
                    },
                    "metadata": {}
                },
                {
                    "output_type": "display_data",
                    "data": {
                        "text/html": "Total execution time: 00:00:01.018"
                    },
                    "metadata": {}
                },
                {
                    "output_type": "execute_result",
                    "execution_count": 18,
                    "data": {
                        "application/vnd.dataresource+json": {
                            "schema": {
                                "fields": [
                                    {
                                        "name": "Saldo_total_todas_cuentas"
                                    }
                                ]
                            },
                            "data": [
                                {
                                    "Saldo_total_todas_cuentas": "601209.06"
                                }
                            ]
                        },
                        "text/html": "<table><tr><th>Saldo_total_todas_cuentas</th></tr><tr><td>601209.06</td></tr></table>"
                    },
                    "metadata": {}
                }
            ],
            "execution_count": 18
        },
        {
            "cell_type": "markdown",
            "source": [
                "**3. ¿Cuál es el cliente con la cuenta de mayor saldo?**"
            ],
            "metadata": {
                "azdata_cell_guid": "5ab6c7f3-a65a-4b3e-9e59-04b1f49371e5",
                "language": "sql"
            },
            "attachments": {}
        },
        {
            "cell_type": "code",
            "source": [
                "SELECT C.CLIENTEID, CL.NOMBRE, CL.APELLIDO, C.SALDO AS Saldo_maximo\r\n",
                "FROM cuentas C  \r\n",
                "INNER JOIN clientes CL ON C.CLIENTEID = CL.CLIENTEID\r\n",
                "WHERE C.SALDO = (SELECT MAX(Saldo) FROM cuentas);"
            ],
            "metadata": {
                "azdata_cell_guid": "12cac277-2f2e-4ee6-9414-aee5e089765c",
                "language": "sql"
            },
            "outputs": [
                {
                    "output_type": "display_data",
                    "data": {
                        "text/html": "(1 row(s) affected)"
                    },
                    "metadata": {}
                },
                {
                    "output_type": "display_data",
                    "data": {
                        "text/html": "Total execution time: 00:00:01.018"
                    },
                    "metadata": {}
                },
                {
                    "output_type": "execute_result",
                    "execution_count": 23,
                    "data": {
                        "application/vnd.dataresource+json": {
                            "schema": {
                                "fields": [
                                    {
                                        "name": "CLIENTEID"
                                    },
                                    {
                                        "name": "NOMBRE"
                                    },
                                    {
                                        "name": "APELLIDO"
                                    },
                                    {
                                        "name": "Saldo_maximo"
                                    }
                                ]
                            },
                            "data": [
                                {
                                    "CLIENTEID": "2",
                                    "NOMBRE": "María",
                                    "APELLIDO": "García",
                                    "Saldo_maximo": "9876.54"
                                }
                            ]
                        },
                        "text/html": "<table><tr><th>CLIENTEID</th><th>NOMBRE</th><th>APELLIDO</th><th>Saldo_maximo</th></tr><tr><td>2</td><td>María</td><td>García</td><td>9876.54</td></tr></table>"
                    },
                    "metadata": {}
                }
            ],
            "execution_count": 23
        },
        {
            "cell_type": "markdown",
            "source": [
                "**4. ¿Cuántas cuentas de ahorros hay en total?**"
            ],
            "metadata": {
                "azdata_cell_guid": "9c7cf9a7-f26b-486f-a921-5cbf302fb0de",
                "language": "sql"
            },
            "attachments": {}
        },
        {
            "cell_type": "code",
            "source": [
                "SELECT COUNT(TipoCuenta)  AS Total_cuentas_ahorro\r\n",
                "FROM cuentas\r\n",
                "WHERE TipoCuenta = 'Ahorros';"
            ],
            "metadata": {
                "azdata_cell_guid": "5fecc4d9-5e72-460c-ad61-83694f532d18",
                "language": "sql"
            },
            "outputs": [
                {
                    "output_type": "display_data",
                    "data": {
                        "text/html": "(1 row(s) affected)"
                    },
                    "metadata": {}
                },
                {
                    "output_type": "display_data",
                    "data": {
                        "text/html": "Total execution time: 00:00:01.012"
                    },
                    "metadata": {}
                },
                {
                    "output_type": "execute_result",
                    "execution_count": 27,
                    "data": {
                        "application/vnd.dataresource+json": {
                            "schema": {
                                "fields": [
                                    {
                                        "name": "Total_cuentas_ahorro"
                                    }
                                ]
                            },
                            "data": [
                                {
                                    "Total_cuentas_ahorro": "50"
                                }
                            ]
                        },
                        "text/html": "<table><tr><th>Total_cuentas_ahorro</th></tr><tr><td>50</td></tr></table>"
                    },
                    "metadata": {}
                }
            ],
            "execution_count": 27
        },
        {
            "cell_type": "markdown",
            "source": [
                "**5. ¿Cuál es el monto total de depósitos realizados?**"
            ],
            "metadata": {
                "azdata_cell_guid": "3c0bfcd9-91c1-4066-8e35-5b1f46d4ccf9",
                "language": "sql"
            },
            "attachments": {}
        },
        {
            "cell_type": "code",
            "source": [
                "SELECT Tipo, SUM(MONTO) AS Monto_total_depósito\r\n",
                "FROM Transacciones\r\n",
                "WHERE Tipo = 'Depósito';"
            ],
            "metadata": {
                "azdata_cell_guid": "a7119ad3-136e-48f1-a672-07b2908817d9",
                "language": "sql"
            },
            "outputs": [
                {
                    "output_type": "display_data",
                    "data": {
                        "text/html": "(1 row(s) affected)"
                    },
                    "metadata": {}
                },
                {
                    "output_type": "display_data",
                    "data": {
                        "text/html": "Total execution time: 00:00:01.007"
                    },
                    "metadata": {}
                },
                {
                    "output_type": "execute_result",
                    "execution_count": 28,
                    "data": {
                        "application/vnd.dataresource+json": {
                            "schema": {
                                "fields": [
                                    {
                                        "name": "Tipo"
                                    },
                                    {
                                        "name": "Monto_total_depósito"
                                    }
                                ]
                            },
                            "data": [
                                {
                                    "Tipo": "Depósito",
                                    "Monto_total_depósito": "64700.00"
                                }
                            ]
                        },
                        "text/html": "<table><tr><th>Tipo</th><th>Monto_total_depósito</th></tr><tr><td>Depósito</td><td>64700.00</td></tr></table>"
                    },
                    "metadata": {}
                }
            ],
            "execution_count": 28
        },
        {
            "cell_type": "markdown",
            "source": [
                "**6. ¿Cuál es el cliente con la mayor cantidad de cuentas?**"
            ],
            "metadata": {
                "azdata_cell_guid": "270047de-c4af-4277-bbdf-2cd42dea41ee",
                "language": "sql"
            },
            "attachments": {}
        },
        {
            "cell_type": "code",
            "source": [
                "SELECT C.CLIENTEID, CL.NOMBRE, CL.APELLIDO, COUNT(*) AS Num_cuentas\r\n",
                "FROM cuentas C  \r\n",
                "INNER JOIN clientes CL ON C.CLIENTEID= CL.CLIENTEID\r\n",
                "GROUP BY C.ClienteID\r\n",
                "ORDER BY Num_cuentas DESC \r\n",
                "LIMIT 1;"
            ],
            "metadata": {
                "azdata_cell_guid": "0c65c9be-2bed-4a6f-a9b7-a1d28e554e95",
                "language": "sql"
            },
            "outputs": [
                {
                    "output_type": "display_data",
                    "data": {
                        "text/html": "(1 row(s) affected)"
                    },
                    "metadata": {}
                },
                {
                    "output_type": "display_data",
                    "data": {
                        "text/html": "Total execution time: 00:00:01.004"
                    },
                    "metadata": {}
                },
                {
                    "output_type": "execute_result",
                    "execution_count": 29,
                    "data": {
                        "application/vnd.dataresource+json": {
                            "schema": {
                                "fields": [
                                    {
                                        "name": "CLIENTEID"
                                    },
                                    {
                                        "name": "NOMBRE"
                                    },
                                    {
                                        "name": "APELLIDO"
                                    },
                                    {
                                        "name": "Num_cuentas"
                                    }
                                ]
                            },
                            "data": [
                                {
                                    "CLIENTEID": "1",
                                    "NOMBRE": "Juan",
                                    "APELLIDO": "Pérez",
                                    "Num_cuentas": "2"
                                }
                            ]
                        },
                        "text/html": "<table><tr><th>CLIENTEID</th><th>NOMBRE</th><th>APELLIDO</th><th>Num_cuentas</th></tr><tr><td>1</td><td>Juan</td><td>Pérez</td><td>2</td></tr></table>"
                    },
                    "metadata": {}
                }
            ],
            "execution_count": 29
        },
        {
            "cell_type": "markdown",
            "source": [
                "**7. ¿Cuál es la ciudad con más clientes?**"
            ],
            "metadata": {
                "azdata_cell_guid": "c97d8e7a-052e-4258-830b-7fee292ebac4",
                "language": "sql"
            },
            "attachments": {}
        },
        {
            "cell_type": "code",
            "source": [
                "SELECT CIUDAD, COUNT(*)  AS Num_clientes\r\n",
                "FROM clientes\r\n",
                "GROUP BY Ciudad\r\n",
                "ORDER BY Num_clientes DESC\r\n",
                "LIMIT 1;"
            ],
            "metadata": {
                "azdata_cell_guid": "f52397f8-d0ea-4a3e-8569-162cde478f8f",
                "language": "sql"
            },
            "outputs": [
                {
                    "output_type": "display_data",
                    "data": {
                        "text/html": "(1 row(s) affected)"
                    },
                    "metadata": {}
                },
                {
                    "output_type": "display_data",
                    "data": {
                        "text/html": "Total execution time: 00:00:01.008"
                    },
                    "metadata": {}
                },
                {
                    "output_type": "execute_result",
                    "execution_count": 31,
                    "data": {
                        "application/vnd.dataresource+json": {
                            "schema": {
                                "fields": [
                                    {
                                        "name": "CIUDAD"
                                    },
                                    {
                                        "name": "Num_clientes"
                                    }
                                ]
                            },
                            "data": [
                                {
                                    "CIUDAD": "Barcelona",
                                    "Num_clientes": "24"
                                }
                            ]
                        },
                        "text/html": "<table><tr><th>CIUDAD</th><th>Num_clientes</th></tr><tr><td>Barcelona</td><td>24</td></tr></table>"
                    },
                    "metadata": {}
                }
            ],
            "execution_count": 31
        },
        {
            "cell_type": "markdown",
            "source": [
                "**8. ¿Cuál es el monto promedio de los retiros?**"
            ],
            "metadata": {
                "azdata_cell_guid": "e03254dc-ce67-4f5f-92f5-e529dcfda25c",
                "language": "sql"
            },
            "attachments": {}
        },
        {
            "cell_type": "code",
            "source": [
                "SELECT AVG(Monto) AS Monto_avg_retiros\r\n",
                "FROM Transacciones\r\n",
                "WHERE Tipo = 'Retiro'; "
            ],
            "metadata": {
                "azdata_cell_guid": "e116d006-560c-4b74-ad56-1c68620b5dd0",
                "language": "sql",
                "tags": []
            },
            "outputs": [
                {
                    "output_type": "display_data",
                    "data": {
                        "text/html": "(1 row(s) affected)"
                    },
                    "metadata": {}
                },
                {
                    "output_type": "display_data",
                    "data": {
                        "text/html": "Total execution time: 00:00:01.016"
                    },
                    "metadata": {}
                },
                {
                    "output_type": "execute_result",
                    "execution_count": 34,
                    "data": {
                        "application/vnd.dataresource+json": {
                            "schema": {
                                "fields": [
                                    {
                                        "name": "Monto_avg_retiros"
                                    }
                                ]
                            },
                            "data": [
                                {
                                    "Monto_avg_retiros": "260.800000"
                                }
                            ]
                        },
                        "text/html": "<table><tr><th>Monto_avg_retiros</th></tr><tr><td>260.800000</td></tr></table>"
                    },
                    "metadata": {}
                }
            ],
            "execution_count": 34
        },
        {
            "cell_type": "markdown",
            "source": [
                "**9. ¿Cuáles son los clientes que no tienen cuentas?**"
            ],
            "metadata": {
                "azdata_cell_guid": "d82115b1-34f9-4cfe-89d9-01b717adfcbe",
                "language": "sql"
            },
            "attachments": {}
        },
        {
            "cell_type": "code",
            "source": [
                "SELECT Nombre, Apellido\r\n",
                "FROM clientes\r\n",
                "WHERE ClienteID NOT IN (SELECT ClienteID FROM cuentas);\r\n",
                ""
            ],
            "metadata": {
                "azdata_cell_guid": "521f93a1-e3ba-40af-a524-ca456d97daf8",
                "language": "sql"
            },
            "outputs": [
                {
                    "output_type": "display_data",
                    "data": {
                        "text/html": "(1 row(s) affected)"
                    },
                    "metadata": {}
                },
                {
                    "output_type": "display_data",
                    "data": {
                        "text/html": "Total execution time: 00:00:01.010"
                    },
                    "metadata": {}
                },
                {
                    "output_type": "execute_result",
                    "execution_count": 37,
                    "data": {
                        "application/vnd.dataresource+json": {
                            "schema": {
                                "fields": [
                                    {
                                        "name": "Nombre"
                                    },
                                    {
                                        "name": "Apellido"
                                    }
                                ]
                            },
                            "data": [
                                {
                                    "Nombre": "Pascual",
                                    "Apellido": "Betancourt"
                                }
                            ]
                        },
                        "text/html": "<table><tr><th>Nombre</th><th>Apellido</th></tr><tr><td>Pascual</td><td>Betancourt</td></tr></table>"
                    },
                    "metadata": {}
                }
            ],
            "execution_count": 37
        },
        {
            "cell_type": "markdown",
            "source": [
                "**10. ¿Cuál es la cuenta con la mayor cantidad de transacciones?**"
            ],
            "metadata": {
                "azdata_cell_guid": "df08c407-0830-427d-b20b-89fe31f70018",
                "language": "sql"
            },
            "attachments": {}
        },
        {
            "cell_type": "code",
            "source": [
                "SELECT CUENTAID, COUNT(*) AS num_transacciones\r\n",
                "FROM Transacciones\r\n",
                "GROUP BY CuentaID\r\n",
                "ORDER BY num_transacciones DESC\r\n",
                "LIMIT 1;"
            ],
            "metadata": {
                "azdata_cell_guid": "3cc07a7e-5e90-4f46-9bcf-952ab8412cb9",
                "language": "sql"
            },
            "outputs": [
                {
                    "output_type": "display_data",
                    "data": {
                        "text/html": "(1 row(s) affected)"
                    },
                    "metadata": {}
                },
                {
                    "output_type": "display_data",
                    "data": {
                        "text/html": "Total execution time: 00:00:01.016"
                    },
                    "metadata": {}
                },
                {
                    "output_type": "execute_result",
                    "execution_count": 41,
                    "data": {
                        "application/vnd.dataresource+json": {
                            "schema": {
                                "fields": [
                                    {
                                        "name": "CUENTAID"
                                    },
                                    {
                                        "name": "num_transacciones"
                                    }
                                ]
                            },
                            "data": [
                                {
                                    "CUENTAID": "1",
                                    "num_transacciones": "2"
                                }
                            ]
                        },
                        "text/html": "<table><tr><th>CUENTAID</th><th>num_transacciones</th></tr><tr><td>1</td><td>2</td></tr></table>"
                    },
                    "metadata": {}
                }
            ],
            "execution_count": 41
        },
        {
            "cell_type": "markdown",
            "source": [
                "<span style=\"color: var(--vscode-foreground);\"><b>11.</b>&nbsp;</span> **¿Cuáles son los clientes que tienen cuentas de ahorros y corrientes?**"
            ],
            "metadata": {
                "azdata_cell_guid": "b723e7a8-8950-4748-946f-3fee3d463f36",
                "language": "sql"
            },
            "attachments": {}
        },
        {
            "cell_type": "code",
            "source": [
                "SELECT ClienteID, Nombre, Apellido\r\n",
                "FROM clientes\r\n",
                "WHERE ClienteID IN (\r\n",
                "    SELECT ClienteID\r\n",
                "    FROM cuentas\r\n",
                "    WHERE TipoCuenta = 'Ahorros'\r\n",
                ") \r\n",
                "AND ClienteID IN (\r\n",
                "    SELECT ClienteID\r\n",
                "    FROM cuentas\r\n",
                "    WHERE TipoCuenta = 'Corriente'\r\n",
                ");\r\n",
                ""
            ],
            "metadata": {
                "azdata_cell_guid": "86a54f2d-dc93-4065-b22e-35648bc0e4d7",
                "language": "sql",
                "tags": []
            },
            "outputs": [
                {
                    "output_type": "display_data",
                    "data": {
                        "text/html": "(1 row(s) affected)"
                    },
                    "metadata": {}
                },
                {
                    "output_type": "display_data",
                    "data": {
                        "text/html": "Total execution time: 00:00:01.012"
                    },
                    "metadata": {}
                },
                {
                    "output_type": "execute_result",
                    "execution_count": 42,
                    "data": {
                        "application/vnd.dataresource+json": {
                            "schema": {
                                "fields": [
                                    {
                                        "name": "ClienteID"
                                    },
                                    {
                                        "name": "Nombre"
                                    },
                                    {
                                        "name": "Apellido"
                                    }
                                ]
                            },
                            "data": [
                                {
                                    "ClienteID": "1",
                                    "Nombre": "Juan",
                                    "Apellido": "Pérez"
                                }
                            ]
                        },
                        "text/html": "<table><tr><th>ClienteID</th><th>Nombre</th><th>Apellido</th></tr><tr><td>1</td><td>Juan</td><td>Pérez</td></tr></table>"
                    },
                    "metadata": {}
                }
            ],
            "execution_count": 42
        },
        {
            "cell_type": "markdown",
            "source": [
                "**12\\. ¿Cuál es el monto total de transacciones por tipo (depósito, retiro, transferencia, pago)?**"
            ],
            "metadata": {
                "azdata_cell_guid": "dfc452dc-9452-45cc-8b37-6f1b708b8902",
                "language": "sql"
            },
            "attachments": {}
        },
        {
            "cell_type": "code",
            "source": [
                "SELECT Tipo, SUM(Monto) AS Monto_Total\r\n",
                "FROM transacciones\r\n",
                "GROUP BY Tipo;\r\n",
                ""
            ],
            "metadata": {
                "azdata_cell_guid": "bd438197-7656-4f4a-a62d-b87d1054451e",
                "language": "sql"
            },
            "outputs": [
                {
                    "output_type": "display_data",
                    "data": {
                        "text/html": "(4 row(s) affected)"
                    },
                    "metadata": {}
                },
                {
                    "output_type": "display_data",
                    "data": {
                        "text/html": "Total execution time: 00:00:01.004"
                    },
                    "metadata": {}
                },
                {
                    "output_type": "execute_result",
                    "execution_count": 43,
                    "data": {
                        "application/vnd.dataresource+json": {
                            "schema": {
                                "fields": [
                                    {
                                        "name": "Tipo"
                                    },
                                    {
                                        "name": "Monto_Total"
                                    }
                                ]
                            },
                            "data": [
                                {
                                    "Tipo": "Depósito",
                                    "Monto_Total": "64700.00"
                                },
                                {
                                    "Tipo": "Retiro",
                                    "Monto_Total": "6520.00"
                                },
                                {
                                    "Tipo": "Transferencia",
                                    "Monto_Total": "35100.00"
                                },
                                {
                                    "Tipo": "Pago",
                                    "Monto_Total": "11420.00"
                                }
                            ]
                        },
                        "text/html": "<table><tr><th>Tipo</th><th>Monto_Total</th></tr><tr><td>Depósito</td><td>64700.00</td></tr><tr><td>Retiro</td><td>6520.00</td></tr><tr><td>Transferencia</td><td>35100.00</td></tr><tr><td>Pago</td><td>11420.00</td></tr></table>"
                    },
                    "metadata": {}
                }
            ],
            "execution_count": 43
        },
        {
            "cell_type": "markdown",
            "source": [
                "**13. ¿Cuál es la cuenta con el saldo más bajo?**"
            ],
            "metadata": {
                "azdata_cell_guid": "baddb33c-f50c-4d53-bfab-8b9a6c6f7916",
                "language": "sql"
            },
            "attachments": {}
        },
        {
            "cell_type": "code",
            "source": [
                "SELECT CuentaID, Saldo\r\n",
                "FROM cuentas\r\n",
                "ORDER BY Saldo\r\n",
                "LIMIT 1;\r\n",
                "\r\n",
                ""
            ],
            "metadata": {
                "azdata_cell_guid": "1b2933fa-5b15-436a-8cac-f81a2ef9ded3",
                "language": "sql"
            },
            "outputs": [
                {
                    "output_type": "display_data",
                    "data": {
                        "text/html": "(1 row(s) affected)"
                    },
                    "metadata": {}
                },
                {
                    "output_type": "display_data",
                    "data": {
                        "text/html": "Total execution time: 00:00:01.007"
                    },
                    "metadata": {}
                },
                {
                    "output_type": "execute_result",
                    "execution_count": 47,
                    "data": {
                        "application/vnd.dataresource+json": {
                            "schema": {
                                "fields": [
                                    {
                                        "name": "CuentaID"
                                    },
                                    {
                                        "name": "Saldo"
                                    }
                                ]
                            },
                            "data": [
                                {
                                    "CuentaID": "4",
                                    "Saldo": "1234.56"
                                }
                            ]
                        },
                        "text/html": "<table><tr><th>CuentaID</th><th>Saldo</th></tr><tr><td>4</td><td>1234.56</td></tr></table>"
                    },
                    "metadata": {}
                }
            ],
            "execution_count": 47
        },
        {
            "cell_type": "markdown",
            "source": [
                "**14. ¿Cuáles son los clientes que no han realizado transacciones?**"
            ],
            "metadata": {
                "azdata_cell_guid": "331cbe62-6a02-4ae5-af91-a091d55268b7",
                "language": "sql"
            },
            "attachments": {}
        },
        {
            "cell_type": "code",
            "source": [
                "USE bank;\r\n",
                "\r\n",
                "SELECT c.ClienteID, c.Nombre, c.Apellido\r\n",
                "FROM clientes c\r\n",
                "LEFT JOIN cuentas cu ON c.ClienteID = cu.ClienteID\r\n",
                "WHERE cu.ClienteID IS NULL;\r\n",
                "\r\n",
                ""
            ],
            "metadata": {
                "azdata_cell_guid": "9ea1b729-e2e8-4879-8b67-435d01596b24",
                "language": "sql"
            },
            "outputs": [
                {
                    "output_type": "display_data",
                    "data": {
                        "text/html": "Commands completed successfully"
                    },
                    "metadata": {}
                },
                {
                    "output_type": "display_data",
                    "data": {
                        "text/html": "(1 row(s) affected)"
                    },
                    "metadata": {}
                },
                {
                    "output_type": "display_data",
                    "data": {
                        "text/html": "Total execution time: 00:00:01.007"
                    },
                    "metadata": {}
                },
                {
                    "output_type": "execute_result",
                    "metadata": {},
                    "execution_count": 28,
                    "data": {
                        "application/vnd.dataresource+json": {
                            "schema": {
                                "fields": [
                                    {
                                        "name": "ClienteID"
                                    },
                                    {
                                        "name": "Nombre"
                                    },
                                    {
                                        "name": "Apellido"
                                    }
                                ]
                            },
                            "data": [
                                {
                                    "ClienteID": "100",
                                    "Nombre": "Pascual",
                                    "Apellido": "Betancourt"
                                }
                            ]
                        },
                        "text/html": [
                            "<table>",
                            "<tr><th>ClienteID</th><th>Nombre</th><th>Apellido</th></tr>",
                            "<tr><td>100</td><td>Pascual</td><td>Betancourt</td></tr>",
                            "</table>"
                        ]
                    }
                }
            ],
            "execution_count": 28
        },
        {
            "cell_type": "markdown",
            "source": [
                "**15. ¿Cuál es la fecha de la transacción más antigua?**"
            ],
            "metadata": {
                "azdata_cell_guid": "fd92c5b3-5a4e-49a9-8304-35c9b0c5c594",
                "language": "sql"
            },
            "attachments": {}
        },
        {
            "cell_type": "code",
            "source": [
                "SELECT MIN(Fecha) AS Fecha_transaccion_mas_antigua\r\n",
                "FROM transacciones;\r\n",
                ""
            ],
            "metadata": {
                "azdata_cell_guid": "e7110075-a2df-4485-b546-dfafb2b1bea3",
                "language": "sql"
            },
            "outputs": [
                {
                    "output_type": "display_data",
                    "data": {
                        "text/html": "(1 row(s) affected)"
                    },
                    "metadata": {}
                },
                {
                    "output_type": "display_data",
                    "data": {
                        "text/html": "Total execution time: 00:00:01.012"
                    },
                    "metadata": {}
                },
                {
                    "output_type": "execute_result",
                    "execution_count": 52,
                    "data": {
                        "application/vnd.dataresource+json": {
                            "schema": {
                                "fields": [
                                    {
                                        "name": "Fecha_transaccion_mas_antigua"
                                    }
                                ]
                            },
                            "data": [
                                {
                                    "Fecha_transaccion_mas_antigua": "2023-04-01"
                                }
                            ]
                        },
                        "text/html": "<table><tr><th>Fecha_transaccion_mas_antigua</th></tr><tr><td>2023-04-01</td></tr></table>"
                    },
                    "metadata": {}
                }
            ],
            "execution_count": 52
        },
        {
            "cell_type": "markdown",
            "source": [
                "**16. ¿Cuáles son las 10 cuentas con mayor saldo?**"
            ],
            "metadata": {
                "azdata_cell_guid": "2ac2895d-2287-436f-a353-56ec4ffa01d2",
                "language": "sql"
            },
            "attachments": {}
        },
        {
            "cell_type": "code",
            "source": [
                "SELECT *\r\n",
                "FROM cuentas\r\n",
                "ORDER BY Saldo DESC\r\n",
                "LIMIT 10;\r\n",
                ""
            ],
            "metadata": {
                "azdata_cell_guid": "eb290161-22ad-4baf-9956-729c0ac615c4",
                "language": "sql"
            },
            "outputs": [
                {
                    "output_type": "display_data",
                    "data": {
                        "text/html": "(10 row(s) affected)"
                    },
                    "metadata": {}
                },
                {
                    "output_type": "display_data",
                    "data": {
                        "text/html": "Total execution time: 00:00:01.014"
                    },
                    "metadata": {}
                },
                {
                    "output_type": "execute_result",
                    "execution_count": 53,
                    "data": {
                        "application/vnd.dataresource+json": {
                            "schema": {
                                "fields": [
                                    {
                                        "name": "CuentaID"
                                    },
                                    {
                                        "name": "ClienteID"
                                    },
                                    {
                                        "name": "TipoCuenta"
                                    },
                                    {
                                        "name": "FechaApertura"
                                    },
                                    {
                                        "name": "Saldo"
                                    }
                                ]
                            },
                            "data": [
                                {
                                    "CuentaID": "3",
                                    "ClienteID": "2",
                                    "TipoCuenta": "Ahorros",
                                    "FechaApertura": "2015-03-20",
                                    "Saldo": "9876.54"
                                },
                                {
                                    "CuentaID": "27",
                                    "ClienteID": "26",
                                    "TipoCuenta": "Ahorros",
                                    "FechaApertura": "2018-03-10",
                                    "Saldo": "9012.90"
                                },
                                {
                                    "CuentaID": "67",
                                    "ClienteID": "66",
                                    "TipoCuenta": "Ahorros",
                                    "FechaApertura": "2016-06-25",
                                    "Saldo": "9012.90"
                                },
                                {
                                    "CuentaID": "91",
                                    "ClienteID": "90",
                                    "TipoCuenta": "Ahorros",
                                    "FechaApertura": "2017-05-27",
                                    "Saldo": "9012.78"
                                },
                                {
                                    "CuentaID": "51",
                                    "ClienteID": "50",
                                    "TipoCuenta": "Ahorros",
                                    "FechaApertura": "2017-06-15",
                                    "Saldo": "9012.78"
                                },
                                {
                                    "CuentaID": "75",
                                    "ClienteID": "74",
                                    "TipoCuenta": "Ahorros",
                                    "FechaApertura": "2018-04-24",
                                    "Saldo": "9012.56"
                                },
                                {
                                    "CuentaID": "35",
                                    "ClienteID": "34",
                                    "TipoCuenta": "Ahorros",
                                    "FechaApertura": "2020-02-28",
                                    "Saldo": "9012.56"
                                },
                                {
                                    "CuentaID": "19",
                                    "ClienteID": "18",
                                    "TipoCuenta": "Ahorros",
                                    "FechaApertura": "2017-04-25",
                                    "Saldo": "9012.45"
                                },
                                {
                                    "CuentaID": "59",
                                    "ClienteID": "58",
                                    "TipoCuenta": "Ahorros",
                                    "FechaApertura": "2015-09-01",
                                    "Saldo": "9012.34"
                                },
                                {
                                    "CuentaID": "11",
                                    "ClienteID": "10",
                                    "TipoCuenta": "Ahorros",
                                    "FechaApertura": "2019-01-15",
                                    "Saldo": "9012.34"
                                }
                            ]
                        },
                        "text/html": "<table><tr><th>CuentaID</th><th>ClienteID</th><th>TipoCuenta</th><th>FechaApertura</th><th>Saldo</th></tr><tr><td>3</td><td>2</td><td>Ahorros</td><td>2015-03-20</td><td>9876.54</td></tr><tr><td>27</td><td>26</td><td>Ahorros</td><td>2018-03-10</td><td>9012.90</td></tr><tr><td>67</td><td>66</td><td>Ahorros</td><td>2016-06-25</td><td>9012.90</td></tr><tr><td>91</td><td>90</td><td>Ahorros</td><td>2017-05-27</td><td>9012.78</td></tr><tr><td>51</td><td>50</td><td>Ahorros</td><td>2017-06-15</td><td>9012.78</td></tr><tr><td>75</td><td>74</td><td>Ahorros</td><td>2018-04-24</td><td>9012.56</td></tr><tr><td>35</td><td>34</td><td>Ahorros</td><td>2020-02-28</td><td>9012.56</td></tr><tr><td>19</td><td>18</td><td>Ahorros</td><td>2017-04-25</td><td>9012.45</td></tr><tr><td>59</td><td>58</td><td>Ahorros</td><td>2015-09-01</td><td>9012.34</td></tr><tr><td>11</td><td>10</td><td>Ahorros</td><td>2019-01-15</td><td>9012.34</td></tr></table>"
                    },
                    "metadata": {}
                }
            ],
            "execution_count": 53
        },
        {
            "cell_type": "markdown",
            "source": [
                "**17. ¿Cuál es el cliente con la mayor cantidad de transacciones?**"
            ],
            "metadata": {
                "azdata_cell_guid": "59af31f9-17cb-478f-8609-2f32119662b9",
                "language": "sql"
            },
            "attachments": {}
        },
        {
            "cell_type": "code",
            "source": [
                "SELECT c.ClienteID, cl.Nombre, cl.Apellido, COUNT(*) AS num_transacciones\r\n",
                "FROM transacciones t\r\n",
                "JOIN cuentas c ON t.CuentaID = c.CuentaID\r\n",
                "JOIN clientes cl ON c.ClienteID = cl.ClienteID\r\n",
                "GROUP BY c.ClienteID, cl.Nombre, cl.Apellido\r\n",
                "ORDER BY num_transacciones DESC\r\n",
                "LIMIT 1;\r\n",
                ""
            ],
            "metadata": {
                "azdata_cell_guid": "c2f26b41-e8c8-4a08-87be-590e7887d0fa",
                "language": "sql"
            },
            "outputs": [
                {
                    "output_type": "display_data",
                    "data": {
                        "text/html": "(1 row(s) affected)"
                    },
                    "metadata": {}
                },
                {
                    "output_type": "display_data",
                    "data": {
                        "text/html": "Total execution time: 00:00:01.011"
                    },
                    "metadata": {}
                },
                {
                    "output_type": "execute_result",
                    "execution_count": 54,
                    "data": {
                        "application/vnd.dataresource+json": {
                            "schema": {
                                "fields": [
                                    {
                                        "name": "ClienteID"
                                    },
                                    {
                                        "name": "Nombre"
                                    },
                                    {
                                        "name": "Apellido"
                                    },
                                    {
                                        "name": "num_transacciones"
                                    }
                                ]
                            },
                            "data": [
                                {
                                    "ClienteID": "1",
                                    "Nombre": "Juan",
                                    "Apellido": "Pérez",
                                    "num_transacciones": "4"
                                }
                            ]
                        },
                        "text/html": "<table><tr><th>ClienteID</th><th>Nombre</th><th>Apellido</th><th>num_transacciones</th></tr><tr><td>1</td><td>Juan</td><td>Pérez</td><td>4</td></tr></table>"
                    },
                    "metadata": {}
                }
            ],
            "execution_count": 54
        },
        {
            "cell_type": "markdown",
            "source": [
                "**18. ¿Cuáles son las 5 ciudades con más clientes?**"
            ],
            "metadata": {
                "azdata_cell_guid": "dcfb06f8-908d-4b25-9b41-23e0b42c2798",
                "language": "sql"
            },
            "attachments": {}
        },
        {
            "cell_type": "code",
            "source": [
                "SELECT Ciudad, COUNT(*) AS num_clientes\r\n",
                "FROM clientes\r\n",
                "GROUP BY Ciudad\r\n",
                "ORDER BY num_clientes DESC\r\n",
                "LIMIT 5;\r\n",
                ""
            ],
            "metadata": {
                "azdata_cell_guid": "708bbcac-64f7-4ff6-8d2a-8952129d0bb1",
                "language": "sql"
            },
            "outputs": [
                {
                    "output_type": "display_data",
                    "data": {
                        "text/html": "(5 row(s) affected)"
                    },
                    "metadata": {}
                },
                {
                    "output_type": "display_data",
                    "data": {
                        "text/html": "Total execution time: 00:00:01.006"
                    },
                    "metadata": {}
                },
                {
                    "output_type": "execute_result",
                    "execution_count": 55,
                    "data": {
                        "application/vnd.dataresource+json": {
                            "schema": {
                                "fields": [
                                    {
                                        "name": "Ciudad"
                                    },
                                    {
                                        "name": "num_clientes"
                                    }
                                ]
                            },
                            "data": [
                                {
                                    "Ciudad": "Barcelona",
                                    "num_clientes": "24"
                                },
                                {
                                    "Ciudad": "Madrid",
                                    "num_clientes": "20"
                                },
                                {
                                    "Ciudad": "Sevilla",
                                    "num_clientes": "14"
                                },
                                {
                                    "Ciudad": "Zaragoza",
                                    "num_clientes": "11"
                                },
                                {
                                    "Ciudad": "Málaga",
                                    "num_clientes": "10"
                                }
                            ]
                        },
                        "text/html": "<table><tr><th>Ciudad</th><th>num_clientes</th></tr><tr><td>Barcelona</td><td>24</td></tr><tr><td>Madrid</td><td>20</td></tr><tr><td>Sevilla</td><td>14</td></tr><tr><td>Zaragoza</td><td>11</td></tr><tr><td>Málaga</td><td>10</td></tr></table>"
                    },
                    "metadata": {}
                }
            ],
            "execution_count": 55
        },
        {
            "cell_type": "markdown",
            "source": [
                "**19. ¿Cuál es el monto promedio de las transferencias?**"
            ],
            "metadata": {
                "azdata_cell_guid": "c210aca2-4a0d-42e7-aaff-33b461151fc1",
                "language": "sql"
            },
            "attachments": {}
        },
        {
            "cell_type": "code",
            "source": [
                "SELECT AVG(Monto) AS monto_promedio_transferencias\r\n",
                "FROM transacciones\r\n",
                "WHERE Tipo = 'Transferencia';\r\n",
                ""
            ],
            "metadata": {
                "azdata_cell_guid": "6d252939-2654-430b-afcf-02a41437bb7f",
                "language": "sql"
            },
            "outputs": [
                {
                    "output_type": "display_data",
                    "data": {
                        "text/html": "(1 row(s) affected)"
                    },
                    "metadata": {}
                },
                {
                    "output_type": "display_data",
                    "data": {
                        "text/html": "Total execution time: 00:00:01.011"
                    },
                    "metadata": {}
                },
                {
                    "output_type": "execute_result",
                    "execution_count": 56,
                    "data": {
                        "application/vnd.dataresource+json": {
                            "schema": {
                                "fields": [
                                    {
                                        "name": "monto_promedio_transferencias"
                                    }
                                ]
                            },
                            "data": [
                                {
                                    "monto_promedio_transferencias": "1404.000000"
                                }
                            ]
                        },
                        "text/html": "<table><tr><th>monto_promedio_transferencias</th></tr><tr><td>1404.000000</td></tr></table>"
                    },
                    "metadata": {}
                }
            ],
            "execution_count": 56
        },
        {
            "cell_type": "markdown",
            "source": [
                "**20. ¿Cuáles son los clientes que tienen cuentas abiertas en los últimos 6 meses?**"
            ],
            "metadata": {
                "azdata_cell_guid": "2df3c828-ee2c-419e-aad0-404ea3c65346",
                "language": "sql"
            },
            "attachments": {}
        },
        {
            "cell_type": "code",
            "source": [
                "SELECT DISTINCT c.ClienteID, c.Nombre, c.Apellido\r\n",
                "FROM clientes c\r\n",
                "JOIN cuentas cu ON c.ClienteID = cu.ClienteID\r\n",
                "WHERE cu.FechaApertura >= DATE_SUB(CURDATE(), INTERVAL 6 MONTH);\r\n",
                "\r\n",
                ""
            ],
            "metadata": {
                "azdata_cell_guid": "f8c2211f-e5e9-491a-b142-fdef00c514de",
                "language": "sql"
            },
            "outputs": [
                {
                    "output_type": "display_data",
                    "data": {
                        "text/html": "(0 row(s) affected)"
                    },
                    "metadata": {}
                },
                {
                    "output_type": "display_data",
                    "data": {
                        "text/html": "Total execution time: 00:00:01.011"
                    },
                    "metadata": {}
                },
                {
                    "output_type": "execute_result",
                    "metadata": {},
                    "execution_count": 31,
                    "data": {
                        "application/vnd.dataresource+json": {
                            "schema": {
                                "fields": [
                                    {
                                        "name": "ClienteID"
                                    },
                                    {
                                        "name": "Nombre"
                                    },
                                    {
                                        "name": "Apellido"
                                    }
                                ]
                            },
                            "data": []
                        },
                        "text/html": [
                            "<table>",
                            "<tr><th>ClienteID</th><th>Nombre</th><th>Apellido</th></tr>",
                            "</table>"
                        ]
                    }
                }
            ],
            "execution_count": 31
        },
        {
            "cell_type": "markdown",
            "source": [
                "**21. ¿Cuál es el monto total de pagos realizados?**"
            ],
            "metadata": {
                "azdata_cell_guid": "7a716ab0-042e-4366-893b-1279b8f614ca",
                "language": "sql"
            },
            "attachments": {}
        },
        {
            "cell_type": "code",
            "source": [
                "SELECT SUM(Monto) AS Monto_Total_Pagos\r\n",
                "FROM transacciones\r\n",
                "WHERE Tipo = 'Pago';\r\n",
                ""
            ],
            "metadata": {
                "azdata_cell_guid": "bab1a125-1c24-49e9-81e5-518bd5c53fde",
                "language": "sql"
            },
            "outputs": [
                {
                    "output_type": "display_data",
                    "data": {
                        "text/html": "(1 row(s) affected)"
                    },
                    "metadata": {}
                },
                {
                    "output_type": "display_data",
                    "data": {
                        "text/html": "Total execution time: 00:00:01.013"
                    },
                    "metadata": {}
                },
                {
                    "output_type": "execute_result",
                    "execution_count": 57,
                    "data": {
                        "application/vnd.dataresource+json": {
                            "schema": {
                                "fields": [
                                    {
                                        "name": "Monto_Total_Pagos"
                                    }
                                ]
                            },
                            "data": [
                                {
                                    "Monto_Total_Pagos": "11420.00"
                                }
                            ]
                        },
                        "text/html": "<table><tr><th>Monto_Total_Pagos</th></tr><tr><td>11420.00</td></tr></table>"
                    },
                    "metadata": {}
                }
            ],
            "execution_count": 57
        },
        {
            "cell_type": "markdown",
            "source": [
                "**22. ¿Cuáles son los clientes que tienen cuentas inactivas (sin transacciones en los últimos 3 meses)?**"
            ],
            "metadata": {
                "azdata_cell_guid": "6cec3b9c-ec0c-4f46-b3bf-62d35c6090c0",
                "language": "sql"
            },
            "attachments": {}
        },
        {
            "cell_type": "code",
            "source": [
                "\r\n",
                "\r\n",
                "\r\n",
                "\r\n",
                ""
            ],
            "metadata": {
                "azdata_cell_guid": "e39afeea-27a0-416b-8cd0-ef53c25a2aae",
                "language": "sql"
            },
            "outputs": [
                {
                    "output_type": "display_data",
                    "data": {
                        "text/html": "(65 row(s) affected)"
                    },
                    "metadata": {}
                },
                {
                    "output_type": "display_data",
                    "data": {
                        "text/html": "Total execution time: 00:00:01.017"
                    },
                    "metadata": {}
                },
                {
                    "output_type": "execute_result",
                    "execution_count": 63,
                    "data": {
                        "application/vnd.dataresource+json": {
                            "schema": {
                                "fields": [
                                    {
                                        "name": "ClienteID"
                                    },
                                    {
                                        "name": "Nombre"
                                    },
                                    {
                                        "name": "Apellido"
                                    }
                                ]
                            },
                            "data": [
                                {
                                    "ClienteID": "1",
                                    "Nombre": "Juan",
                                    "Apellido": "Pérez"
                                },
                                {
                                    "ClienteID": "2",
                                    "Nombre": "María",
                                    "Apellido": "García"
                                },
                                {
                                    "ClienteID": "3",
                                    "Nombre": "Pedro",
                                    "Apellido": "Rodríguez"
                                },
                                {
                                    "ClienteID": "4",
                                    "Nombre": "Ana",
                                    "Apellido": "Martínez"
                                },
                                {
                                    "ClienteID": "5",
                                    "Nombre": "Carlos",
                                    "Apellido": "Sánchez"
                                },
                                {
                                    "ClienteID": "6",
                                    "Nombre": "Laura",
                                    "Apellido": "Fernández"
                                },
                                {
                                    "ClienteID": "7",
                                    "Nombre": "Javier",
                                    "Apellido": "Gómez"
                                },
                                {
                                    "ClienteID": "8",
                                    "Nombre": "Sofía",
                                    "Apellido": "Torres"
                                },
                                {
                                    "ClienteID": "44",
                                    "Nombre": "Valentina",
                                    "Apellido": "Piña"
                                },
                                {
                                    "ClienteID": "45",
                                    "Nombre": "Damián",
                                    "Apellido": "Arce"
                                },
                                {
                                    "ClienteID": "46",
                                    "Nombre": "Rebeca",
                                    "Apellido": "Cisneros"
                                },
                                {
                                    "ClienteID": "47",
                                    "Nombre": "Samuel",
                                    "Apellido": "Villalobos"
                                },
                                {
                                    "ClienteID": "48",
                                    "Nombre": "Renata",
                                    "Apellido": "Segovia"
                                },
                                {
                                    "ClienteID": "49",
                                    "Nombre": "Emiliano",
                                    "Apellido": "Salcedo"
                                },
                                {
                                    "ClienteID": "50",
                                    "Nombre": "Isabella",
                                    "Apellido": "Quintero"
                                },
                                {
                                    "ClienteID": "51",
                                    "Nombre": "Tomás",
                                    "Apellido": "Castañeda"
                                },
                                {
                                    "ClienteID": "52",
                                    "Nombre": "Sofía",
                                    "Apellido": "Uribe"
                                },
                                {
                                    "ClienteID": "53",
                                    "Nombre": "Martín",
                                    "Apellido": "Salinas"
                                },
                                {
                                    "ClienteID": "54",
                                    "Nombre": "Antonella",
                                    "Apellido": "Rincón"
                                },
                                {
                                    "ClienteID": "55",
                                    "Nombre": "Santiago",
                                    "Apellido": "Estrada"
                                },
                                {
                                    "ClienteID": "56",
                                    "Nombre": "Catalina",
                                    "Apellido": "Solano"
                                },
                                {
                                    "ClienteID": "57",
                                    "Nombre": "Benjamín",
                                    "Apellido": "Carvajal"
                                },
                                {
                                    "ClienteID": "58",
                                    "Nombre": "Constanza",
                                    "Apellido": "Avendaño"
                                },
                                {
                                    "ClienteID": "59",
                                    "Nombre": "Joaquín",
                                    "Apellido": "Cáceres"
                                },
                                {
                                    "ClienteID": "60",
                                    "Nombre": "Isadora",
                                    "Apellido": "Echevarría"
                                },
                                {
                                    "ClienteID": "61",
                                    "Nombre": "Lucas",
                                    "Apellido": "Pizarro"
                                },
                                {
                                    "ClienteID": "62",
                                    "Nombre": "Antonia",
                                    "Apellido": "Zúñiga"
                                },
                                {
                                    "ClienteID": "63",
                                    "Nombre": "Matías",
                                    "Apellido": "Márquez"
                                },
                                {
                                    "ClienteID": "64",
                                    "Nombre": "Rafaela",
                                    "Apellido": "Acuña"
                                },
                                {
                                    "ClienteID": "65",
                                    "Nombre": "Maximiliano",
                                    "Apellido": "Yáñez"
                                },
                                {
                                    "ClienteID": "66",
                                    "Nombre": "Julieta",
                                    "Apellido": "Baeza"
                                },
                                {
                                    "ClienteID": "67",
                                    "Nombre": "Ezequiel",
                                    "Apellido": "Montero"
                                },
                                {
                                    "ClienteID": "68",
                                    "Nombre": "Florencia",
                                    "Apellido": "Quintana"
                                },
                                {
                                    "ClienteID": "69",
                                    "Nombre": "Thiago",
                                    "Apellido": "Olivares"
                                },
                                {
                                    "ClienteID": "70",
                                    "Nombre": "Bianca",
                                    "Apellido": "Rendón"
                                },
                                {
                                    "ClienteID": "71",
                                    "Nombre": "Cristóbal",
                                    "Apellido": "Palacios"
                                },
                                {
                                    "ClienteID": "72",
                                    "Nombre": "Amanda",
                                    "Apellido": "Parra"
                                },
                                {
                                    "ClienteID": "73",
                                    "Nombre": "Emilio",
                                    "Apellido": "Crespo"
                                },
                                {
                                    "ClienteID": "74",
                                    "Nombre": "Ariana",
                                    "Apellido": "Henríquez"
                                },
                                {
                                    "ClienteID": "75",
                                    "Nombre": "Salvador",
                                    "Apellido": "Morales"
                                },
                                {
                                    "ClienteID": "76",
                                    "Nombre": "Fernanda",
                                    "Apellido": "Tapia"
                                },
                                {
                                    "ClienteID": "77",
                                    "Nombre": "Emmanuel",
                                    "Apellido": "Concha"
                                },
                                {
                                    "ClienteID": "78",
                                    "Nombre": "Dulce",
                                    "Apellido": "Quintero"
                                },
                                {
                                    "ClienteID": "79",
                                    "Nombre": "Lisandro",
                                    "Apellido": "Peralta"
                                },
                                {
                                    "ClienteID": "80",
                                    "Nombre": "Luana",
                                    "Apellido": "Santamaría"
                                },
                                {
                                    "ClienteID": "81",
                                    "Nombre": "Máximo",
                                    "Apellido": "Saldivar"
                                },
                                {
                                    "ClienteID": "82",
                                    "Nombre": "Violeta",
                                    "Apellido": "Ugarte"
                                },
                                {
                                    "ClienteID": "83",
                                    "Nombre": "Ignacio",
                                    "Apellido": "Solís"
                                },
                                {
                                    "ClienteID": "84",
                                    "Nombre": "Avril",
                                    "Apellido": "Olmedo"
                                },
                                {
                                    "ClienteID": "85",
                                    "Nombre": "Leonel",
                                    "Apellido": "Urrutia"
                                },
                                {
                                    "ClienteID": "86",
                                    "Nombre": "Paloma",
                                    "Apellido": "Espinoza"
                                },
                                {
                                    "ClienteID": "87",
                                    "Nombre": "Fabrizio",
                                    "Apellido": "Mora"
                                },
                                {
                                    "ClienteID": "88",
                                    "Nombre": "Maite",
                                    "Apellido": "Heredia"
                                },
                                {
                                    "ClienteID": "89",
                                    "Nombre": "Gael",
                                    "Apellido": "Bernal"
                                },
                                {
                                    "ClienteID": "90",
                                    "Nombre": "Amelia",
                                    "Apellido": "Polo"
                                },
                                {
                                    "ClienteID": "91",
                                    "Nombre": "Amelia",
                                    "Apellido": "Peña"
                                },
                                {
                                    "ClienteID": "92",
                                    "Nombre": "Bautista",
                                    "Apellido": "Contreras"
                                },
                                {
                                    "ClienteID": "93",
                                    "Nombre": "Luciana",
                                    "Apellido": "Velázquez"
                                },
                                {
                                    "ClienteID": "94",
                                    "Nombre": "Tristán",
                                    "Apellido": "Sepúlveda"
                                },
                                {
                                    "ClienteID": "95",
                                    "Nombre": "Jimena",
                                    "Apellido": "Galindo"
                                },
                                {
                                    "ClienteID": "96",
                                    "Nombre": "Álvaro",
                                    "Apellido": "Leal"
                                },
                                {
                                    "ClienteID": "97",
                                    "Nombre": "Dafne",
                                    "Apellido": "Robles"
                                },
                                {
                                    "ClienteID": "98",
                                    "Nombre": "Ángel",
                                    "Apellido": "Zepeda"
                                },
                                {
                                    "ClienteID": "99",
                                    "Nombre": "Esmeralda",
                                    "Apellido": "Vigil"
                                },
                                {
                                    "ClienteID": "100",
                                    "Nombre": "Pascual",
                                    "Apellido": "Betancourt"
                                }
                            ]
                        },
                        "text/html": "<table><tr><th>ClienteID</th><th>Nombre</th><th>Apellido</th></tr><tr><td>1</td><td>Juan</td><td>Pérez</td></tr><tr><td>2</td><td>María</td><td>García</td></tr><tr><td>3</td><td>Pedro</td><td>Rodríguez</td></tr><tr><td>4</td><td>Ana</td><td>Martínez</td></tr><tr><td>5</td><td>Carlos</td><td>Sánchez</td></tr><tr><td>6</td><td>Laura</td><td>Fernández</td></tr><tr><td>7</td><td>Javier</td><td>Gómez</td></tr><tr><td>8</td><td>Sofía</td><td>Torres</td></tr><tr><td>44</td><td>Valentina</td><td>Piña</td></tr><tr><td>45</td><td>Damián</td><td>Arce</td></tr><tr><td>46</td><td>Rebeca</td><td>Cisneros</td></tr><tr><td>47</td><td>Samuel</td><td>Villalobos</td></tr><tr><td>48</td><td>Renata</td><td>Segovia</td></tr><tr><td>49</td><td>Emiliano</td><td>Salcedo</td></tr><tr><td>50</td><td>Isabella</td><td>Quintero</td></tr><tr><td>51</td><td>Tomás</td><td>Castañeda</td></tr><tr><td>52</td><td>Sofía</td><td>Uribe</td></tr><tr><td>53</td><td>Martín</td><td>Salinas</td></tr><tr><td>54</td><td>Antonella</td><td>Rincón</td></tr><tr><td>55</td><td>Santiago</td><td>Estrada</td></tr><tr><td>56</td><td>Catalina</td><td>Solano</td></tr><tr><td>57</td><td>Benjamín</td><td>Carvajal</td></tr><tr><td>58</td><td>Constanza</td><td>Avendaño</td></tr><tr><td>59</td><td>Joaquín</td><td>Cáceres</td></tr><tr><td>60</td><td>Isadora</td><td>Echevarría</td></tr><tr><td>61</td><td>Lucas</td><td>Pizarro</td></tr><tr><td>62</td><td>Antonia</td><td>Zúñiga</td></tr><tr><td>63</td><td>Matías</td><td>Márquez</td></tr><tr><td>64</td><td>Rafaela</td><td>Acuña</td></tr><tr><td>65</td><td>Maximiliano</td><td>Yáñez</td></tr><tr><td>66</td><td>Julieta</td><td>Baeza</td></tr><tr><td>67</td><td>Ezequiel</td><td>Montero</td></tr><tr><td>68</td><td>Florencia</td><td>Quintana</td></tr><tr><td>69</td><td>Thiago</td><td>Olivares</td></tr><tr><td>70</td><td>Bianca</td><td>Rendón</td></tr><tr><td>71</td><td>Cristóbal</td><td>Palacios</td></tr><tr><td>72</td><td>Amanda</td><td>Parra</td></tr><tr><td>73</td><td>Emilio</td><td>Crespo</td></tr><tr><td>74</td><td>Ariana</td><td>Henríquez</td></tr><tr><td>75</td><td>Salvador</td><td>Morales</td></tr><tr><td>76</td><td>Fernanda</td><td>Tapia</td></tr><tr><td>77</td><td>Emmanuel</td><td>Concha</td></tr><tr><td>78</td><td>Dulce</td><td>Quintero</td></tr><tr><td>79</td><td>Lisandro</td><td>Peralta</td></tr><tr><td>80</td><td>Luana</td><td>Santamaría</td></tr><tr><td>81</td><td>Máximo</td><td>Saldivar</td></tr><tr><td>82</td><td>Violeta</td><td>Ugarte</td></tr><tr><td>83</td><td>Ignacio</td><td>Solís</td></tr><tr><td>84</td><td>Avril</td><td>Olmedo</td></tr><tr><td>85</td><td>Leonel</td><td>Urrutia</td></tr><tr><td>86</td><td>Paloma</td><td>Espinoza</td></tr><tr><td>87</td><td>Fabrizio</td><td>Mora</td></tr><tr><td>88</td><td>Maite</td><td>Heredia</td></tr><tr><td>89</td><td>Gael</td><td>Bernal</td></tr><tr><td>90</td><td>Amelia</td><td>Polo</td></tr><tr><td>91</td><td>Amelia</td><td>Peña</td></tr><tr><td>92</td><td>Bautista</td><td>Contreras</td></tr><tr><td>93</td><td>Luciana</td><td>Velázquez</td></tr><tr><td>94</td><td>Tristán</td><td>Sepúlveda</td></tr><tr><td>95</td><td>Jimena</td><td>Galindo</td></tr><tr><td>96</td><td>Álvaro</td><td>Leal</td></tr><tr><td>97</td><td>Dafne</td><td>Robles</td></tr><tr><td>98</td><td>Ángel</td><td>Zepeda</td></tr><tr><td>99</td><td>Esmeralda</td><td>Vigil</td></tr><tr><td>100</td><td>Pascual</td><td>Betancourt</td></tr></table>"
                    },
                    "metadata": {}
                }
            ],
            "execution_count": 63
        },
        {
            "cell_type": "markdown",
            "source": [
                "**23. ¿Cuál es el monto promedio de depósitos por ciudad?**"
            ],
            "metadata": {
                "azdata_cell_guid": "05191c35-2c36-438f-90c2-a294db0c4450",
                "language": "sql"
            },
            "attachments": {}
        },
        {
            "cell_type": "code",
            "source": [
                "SELECT c.Ciudad, AVG(t.Monto) AS Promedio_Depositos\r\n",
                "FROM clientes c\r\n",
                "JOIN cuentas cu ON c.ClienteID = cu.ClienteID\r\n",
                "JOIN transacciones t ON cu.CuentaID = t.CuentaID\r\n",
                "WHERE t.Tipo = 'Depósito'\r\n",
                "GROUP BY c.Ciudad;\r\n",
                ""
            ],
            "metadata": {
                "azdata_cell_guid": "abf0cbaa-577c-4528-a010-dcd742fd253a",
                "language": "sql"
            },
            "outputs": [
                {
                    "output_type": "display_data",
                    "data": {
                        "text/html": "(7 row(s) affected)"
                    },
                    "metadata": {}
                },
                {
                    "output_type": "display_data",
                    "data": {
                        "text/html": "Total execution time: 00:00:01.021"
                    },
                    "metadata": {}
                },
                {
                    "output_type": "execute_result",
                    "execution_count": 64,
                    "data": {
                        "application/vnd.dataresource+json": {
                            "schema": {
                                "fields": [
                                    {
                                        "name": "Ciudad"
                                    },
                                    {
                                        "name": "Promedio_Depositos"
                                    }
                                ]
                            },
                            "data": [
                                {
                                    "Ciudad": "Madrid",
                                    "Promedio_Depositos": "2225.000000"
                                },
                                {
                                    "Ciudad": "Valencia",
                                    "Promedio_Depositos": "2650.000000"
                                },
                                {
                                    "Ciudad": "Palma de Mallorca",
                                    "Promedio_Depositos": "2100.000000"
                                },
                                {
                                    "Ciudad": "Barcelona",
                                    "Promedio_Depositos": "2687.500000"
                                },
                                {
                                    "Ciudad": "Bilbao",
                                    "Promedio_Depositos": "2850.000000"
                                },
                                {
                                    "Ciudad": "Sevilla",
                                    "Promedio_Depositos": "3000.000000"
                                },
                                {
                                    "Ciudad": "Zaragoza",
                                    "Promedio_Depositos": "2500.000000"
                                }
                            ]
                        },
                        "text/html": "<table><tr><th>Ciudad</th><th>Promedio_Depositos</th></tr><tr><td>Madrid</td><td>2225.000000</td></tr><tr><td>Valencia</td><td>2650.000000</td></tr><tr><td>Palma de Mallorca</td><td>2100.000000</td></tr><tr><td>Barcelona</td><td>2687.500000</td></tr><tr><td>Bilbao</td><td>2850.000000</td></tr><tr><td>Sevilla</td><td>3000.000000</td></tr><tr><td>Zaragoza</td><td>2500.000000</td></tr></table>"
                    },
                    "metadata": {}
                }
            ],
            "execution_count": 64
        },
        {
            "cell_type": "markdown",
            "source": [
                "**24. ¿Cuáles son las 10 cuentas con más transacciones?**"
            ],
            "metadata": {
                "azdata_cell_guid": "a345cd99-d06a-4a9a-9c56-4ee1b0e0af9e",
                "language": "sql"
            },
            "attachments": {}
        },
        {
            "cell_type": "code",
            "source": [
                "SELECT t.CuentaID, COUNT(*) AS Total_Transacciones\r\n",
                "FROM transacciones t\r\n",
                "GROUP BY t.CuentaID\r\n",
                "ORDER BY Total_Transacciones DESC\r\n",
                "LIMIT 10;\r\n",
                ""
            ],
            "metadata": {
                "azdata_cell_guid": "588e4e8b-35d7-4916-becd-7c2d6609a8c5",
                "language": "sql"
            },
            "outputs": [
                {
                    "output_type": "display_data",
                    "data": {
                        "text/html": "(10 row(s) affected)"
                    },
                    "metadata": {}
                },
                {
                    "output_type": "display_data",
                    "data": {
                        "text/html": "Total execution time: 00:00:01.016"
                    },
                    "metadata": {}
                },
                {
                    "output_type": "execute_result",
                    "execution_count": 65,
                    "data": {
                        "application/vnd.dataresource+json": {
                            "schema": {
                                "fields": [
                                    {
                                        "name": "CuentaID"
                                    },
                                    {
                                        "name": "Total_Transacciones"
                                    }
                                ]
                            },
                            "data": [
                                {
                                    "CuentaID": "1",
                                    "Total_Transacciones": "2"
                                },
                                {
                                    "CuentaID": "2",
                                    "Total_Transacciones": "2"
                                },
                                {
                                    "CuentaID": "3",
                                    "Total_Transacciones": "2"
                                },
                                {
                                    "CuentaID": "4",
                                    "Total_Transacciones": "2"
                                },
                                {
                                    "CuentaID": "5",
                                    "Total_Transacciones": "2"
                                },
                                {
                                    "CuentaID": "6",
                                    "Total_Transacciones": "2"
                                },
                                {
                                    "CuentaID": "7",
                                    "Total_Transacciones": "2"
                                },
                                {
                                    "CuentaID": "8",
                                    "Total_Transacciones": "2"
                                },
                                {
                                    "CuentaID": "9",
                                    "Total_Transacciones": "2"
                                },
                                {
                                    "CuentaID": "10",
                                    "Total_Transacciones": "2"
                                }
                            ]
                        },
                        "text/html": "<table><tr><th>CuentaID</th><th>Total_Transacciones</th></tr><tr><td>1</td><td>2</td></tr><tr><td>2</td><td>2</td></tr><tr><td>3</td><td>2</td></tr><tr><td>4</td><td>2</td></tr><tr><td>5</td><td>2</td></tr><tr><td>6</td><td>2</td></tr><tr><td>7</td><td>2</td></tr><tr><td>8</td><td>2</td></tr><tr><td>9</td><td>2</td></tr><tr><td>10</td><td>2</td></tr></table>"
                    },
                    "metadata": {}
                }
            ],
            "execution_count": 65
        },
        {
            "cell_type": "markdown",
            "source": [
                "**25. ¿Cuáles son los clientes que tienen un saldo total (sumando todas sus cuentas) superior a $9000?**"
            ],
            "metadata": {
                "azdata_cell_guid": "05362bd0-ab76-4bcb-9838-fcc9856b4005",
                "language": "sql"
            },
            "attachments": {}
        },
        {
            "cell_type": "code",
            "source": [
                "SELECT cl.ClienteID, cl.Nombre, cl.Apellido, SUM(c.Saldo) AS Saldo_Total\r\n",
                "FROM clientes cl\r\n",
                "INNER JOIN cuentas c ON cl.ClienteID = c.ClienteID\r\n",
                "GROUP BY cl.ClienteID\r\n",
                "HAVING Saldo_Total > 9000\r\n",
                "ORDER BY Saldo_total DESC;\r\n",
                ""
            ],
            "metadata": {
                "azdata_cell_guid": "ed4d3ddf-e28d-44cc-87ce-e6bbb48e2300",
                "language": "sql"
            },
            "outputs": [
                {
                    "output_type": "display_data",
                    "data": {
                        "text/html": "(13 row(s) affected)"
                    },
                    "metadata": {}
                },
                {
                    "output_type": "display_data",
                    "data": {
                        "text/html": "Total execution time: 00:00:01.011"
                    },
                    "metadata": {}
                },
                {
                    "output_type": "execute_result",
                    "execution_count": 67,
                    "data": {
                        "application/vnd.dataresource+json": {
                            "schema": {
                                "fields": [
                                    {
                                        "name": "ClienteID"
                                    },
                                    {
                                        "name": "Nombre"
                                    },
                                    {
                                        "name": "Apellido"
                                    },
                                    {
                                        "name": "Saldo_Total"
                                    }
                                ]
                            },
                            "data": [
                                {
                                    "ClienteID": "2",
                                    "Nombre": "María",
                                    "Apellido": "García",
                                    "Saldo_Total": "9876.54"
                                },
                                {
                                    "ClienteID": "26",
                                    "Nombre": "Silvia",
                                    "Apellido": "Vargas",
                                    "Saldo_Total": "9012.90"
                                },
                                {
                                    "ClienteID": "66",
                                    "Nombre": "Julieta",
                                    "Apellido": "Baeza",
                                    "Saldo_Total": "9012.90"
                                },
                                {
                                    "ClienteID": "50",
                                    "Nombre": "Isabella",
                                    "Apellido": "Quintero",
                                    "Saldo_Total": "9012.78"
                                },
                                {
                                    "ClienteID": "90",
                                    "Nombre": "Amelia",
                                    "Apellido": "Polo",
                                    "Saldo_Total": "9012.78"
                                },
                                {
                                    "ClienteID": "34",
                                    "Nombre": "Valeria",
                                    "Apellido": "Espinosa",
                                    "Saldo_Total": "9012.56"
                                },
                                {
                                    "ClienteID": "74",
                                    "Nombre": "Ariana",
                                    "Apellido": "Henríquez",
                                    "Saldo_Total": "9012.56"
                                },
                                {
                                    "ClienteID": "18",
                                    "Nombre": "Lucía",
                                    "Apellido": "Romero",
                                    "Saldo_Total": "9012.45"
                                },
                                {
                                    "ClienteID": "10",
                                    "Nombre": "Isabel",
                                    "Apellido": "Ramírez",
                                    "Saldo_Total": "9012.34"
                                },
                                {
                                    "ClienteID": "58",
                                    "Nombre": "Constanza",
                                    "Apellido": "Avendaño",
                                    "Saldo_Total": "9012.34"
                                },
                                {
                                    "ClienteID": "98",
                                    "Nombre": "Ángel",
                                    "Apellido": "Zepeda",
                                    "Saldo_Total": "9012.34"
                                },
                                {
                                    "ClienteID": "42",
                                    "Nombre": "Mariana",
                                    "Apellido": "Pizarro",
                                    "Saldo_Total": "9012.12"
                                },
                                {
                                    "ClienteID": "82",
                                    "Nombre": "Violeta",
                                    "Apellido": "Ugarte",
                                    "Saldo_Total": "9012.12"
                                }
                            ]
                        },
                        "text/html": "<table><tr><th>ClienteID</th><th>Nombre</th><th>Apellido</th><th>Saldo_Total</th></tr><tr><td>2</td><td>María</td><td>García</td><td>9876.54</td></tr><tr><td>26</td><td>Silvia</td><td>Vargas</td><td>9012.90</td></tr><tr><td>66</td><td>Julieta</td><td>Baeza</td><td>9012.90</td></tr><tr><td>50</td><td>Isabella</td><td>Quintero</td><td>9012.78</td></tr><tr><td>90</td><td>Amelia</td><td>Polo</td><td>9012.78</td></tr><tr><td>34</td><td>Valeria</td><td>Espinosa</td><td>9012.56</td></tr><tr><td>74</td><td>Ariana</td><td>Henríquez</td><td>9012.56</td></tr><tr><td>18</td><td>Lucía</td><td>Romero</td><td>9012.45</td></tr><tr><td>10</td><td>Isabel</td><td>Ramírez</td><td>9012.34</td></tr><tr><td>58</td><td>Constanza</td><td>Avendaño</td><td>9012.34</td></tr><tr><td>98</td><td>Ángel</td><td>Zepeda</td><td>9012.34</td></tr><tr><td>42</td><td>Mariana</td><td>Pizarro</td><td>9012.12</td></tr><tr><td>82</td><td>Violeta</td><td>Ugarte</td><td>9012.12</td></tr></table>"
                    },
                    "metadata": {}
                }
            ],
            "execution_count": 67
        },
        {
            "cell_type": "markdown",
            "source": [
                "**26. ¿Cuáles son las cuentas que han tenido transacciones en todas las fechas del último mes?**"
            ],
            "metadata": {
                "azdata_cell_guid": "60dcae03-40c8-4e6e-83f3-034d09ad5352",
                "language": "sql"
            },
            "attachments": {}
        },
        {
            "cell_type": "code",
            "source": [
                "--ninguna cuanta ha tenido transacciones en todas las fechas del ultimo mes\r\n",
                "SELECT CuentaID\r\n",
                "FROM (\r\n",
                "    SELECT DISTINCT CuentaID, Fecha\r\n",
                "    FROM transacciones\r\n",
                "    WHERE Fecha BETWEEN DATE_SUB(LAST_DAY(CURRENT_DATE), INTERVAL 1 MONTH) AND LAST_DAY(CURRENT_DATE)\r\n",
                ") AS t\r\n",
                "GROUP BY CuentaID\r\n",
                "HAVING COUNT(DISTINCT Fecha) = DAY(LAST_DAY(CURRENT_DATE));\r\n",
                "\r\n",
                "\r\n",
                ""
            ],
            "metadata": {
                "azdata_cell_guid": "d67a96ac-4039-460a-8486-b0456fcc269e",
                "language": "sql"
            },
            "outputs": [
                {
                    "output_type": "display_data",
                    "data": {
                        "text/html": "(0 row(s) affected)"
                    },
                    "metadata": {}
                },
                {
                    "output_type": "display_data",
                    "data": {
                        "text/html": "Total execution time: 00:00:01.012"
                    },
                    "metadata": {}
                },
                {
                    "output_type": "execute_result",
                    "metadata": {},
                    "execution_count": 34,
                    "data": {
                        "application/vnd.dataresource+json": {
                            "schema": {
                                "fields": [
                                    {
                                        "name": "CuentaID"
                                    }
                                ]
                            },
                            "data": []
                        },
                        "text/html": [
                            "<table>",
                            "<tr><th>CuentaID</th></tr>",
                            "</table>"
                        ]
                    }
                }
            ],
            "execution_count": 34
        },
        {
            "cell_type": "markdown",
            "source": [
                "**27. ¿Cuál es el monto promedio de transacciones por tipo de cuenta?**"
            ],
            "metadata": {
                "azdata_cell_guid": "60164589-175f-4f7c-81c4-4036e3c44e20",
                "language": "sql"
            },
            "attachments": {}
        },
        {
            "cell_type": "code",
            "source": [
                "SELECT c.TipoCuenta, AVG(t.Monto) AS Monto_Promedio\r\n",
                "FROM cuentas c\r\n",
                "INNER JOIN transacciones t ON c.CuentaID = t.CuentaID\r\n",
                "GROUP BY c.TipoCuenta;\r\n",
                ""
            ],
            "metadata": {
                "azdata_cell_guid": "fba88346-6fe5-4fd9-8778-64df90c4e95a",
                "language": "sql"
            },
            "outputs": [
                {
                    "output_type": "display_data",
                    "data": {
                        "text/html": "(2 row(s) affected)"
                    },
                    "metadata": {}
                },
                {
                    "output_type": "display_data",
                    "data": {
                        "text/html": "Total execution time: 00:00:01.017"
                    },
                    "metadata": {}
                },
                {
                    "output_type": "execute_result",
                    "execution_count": 68,
                    "data": {
                        "application/vnd.dataresource+json": {
                            "schema": {
                                "fields": [
                                    {
                                        "name": "TipoCuenta"
                                    },
                                    {
                                        "name": "Monto_Promedio"
                                    }
                                ]
                            },
                            "data": [
                                {
                                    "TipoCuenta": "Ahorros",
                                    "Monto_Promedio": "1996.000000"
                                },
                                {
                                    "TipoCuenta": "Corriente",
                                    "Monto_Promedio": "358.800000"
                                }
                            ]
                        },
                        "text/html": "<table><tr><th>TipoCuenta</th><th>Monto_Promedio</th></tr><tr><td>Ahorros</td><td>1996.000000</td></tr><tr><td>Corriente</td><td>358.800000</td></tr></table>"
                    },
                    "metadata": {}
                }
            ],
            "execution_count": 68
        },
        {
            "cell_type": "markdown",
            "source": [
                "**28. ¿Cuáles son los clientes que tienen cuentas con saldo superior al saldo promedio de todas las cuentas?**"
            ],
            "metadata": {
                "azdata_cell_guid": "47eae5bb-7488-4093-84a2-b9c961eef65c",
                "language": "sql"
            },
            "attachments": {}
        },
        {
            "cell_type": "code",
            "source": [
                "USE bank;\r\n",
                "\r\n",
                "SELECT C.CLIENTEID, C.NOMBRE, C.APELLIDO\r\n",
                "FROM clientes C  \r\n",
                "INNER JOIN CUENTAS CU On C.CLIENTEID = CU.CLIENTEID\r\n",
                "WHERE CU.SALDO > (\r\n",
                "    SELECT AVG(SALDO)\r\n",
                "    FROM cuentas\r\n",
                ")\r\n",
                "ORDER BY SALDO DESC;"
            ],
            "metadata": {
                "azdata_cell_guid": "f12076a0-04b8-412f-a5dd-48c68e3dfff1",
                "language": "sql"
            },
            "outputs": [
                {
                    "output_type": "display_data",
                    "data": {
                        "text/html": "Commands completed successfully"
                    },
                    "metadata": {}
                },
                {
                    "output_type": "display_data",
                    "data": {
                        "text/html": "(49 row(s) affected)"
                    },
                    "metadata": {}
                },
                {
                    "output_type": "display_data",
                    "data": {
                        "text/html": "Total execution time: 00:00:01.030"
                    },
                    "metadata": {}
                },
                {
                    "output_type": "execute_result",
                    "metadata": {},
                    "execution_count": 1,
                    "data": {
                        "application/vnd.dataresource+json": {
                            "schema": {
                                "fields": [
                                    {
                                        "name": "CLIENTEID"
                                    },
                                    {
                                        "name": "NOMBRE"
                                    },
                                    {
                                        "name": "APELLIDO"
                                    }
                                ]
                            },
                            "data": [
                                {
                                    "CLIENTEID": "2",
                                    "NOMBRE": "María",
                                    "APELLIDO": "García"
                                },
                                {
                                    "CLIENTEID": "66",
                                    "NOMBRE": "Julieta",
                                    "APELLIDO": "Baeza"
                                },
                                {
                                    "CLIENTEID": "26",
                                    "NOMBRE": "Silvia",
                                    "APELLIDO": "Vargas"
                                },
                                {
                                    "CLIENTEID": "90",
                                    "NOMBRE": "Amelia",
                                    "APELLIDO": "Polo"
                                },
                                {
                                    "CLIENTEID": "50",
                                    "NOMBRE": "Isabella",
                                    "APELLIDO": "Quintero"
                                },
                                {
                                    "CLIENTEID": "74",
                                    "NOMBRE": "Ariana",
                                    "APELLIDO": "Henríquez"
                                },
                                {
                                    "CLIENTEID": "34",
                                    "NOMBRE": "Valeria",
                                    "APELLIDO": "Espinosa"
                                },
                                {
                                    "CLIENTEID": "18",
                                    "NOMBRE": "Lucía",
                                    "APELLIDO": "Romero"
                                },
                                {
                                    "CLIENTEID": "10",
                                    "NOMBRE": "Isabel",
                                    "APELLIDO": "Ramírez"
                                },
                                {
                                    "CLIENTEID": "98",
                                    "NOMBRE": "Ángel",
                                    "APELLIDO": "Zepeda"
                                },
                                {
                                    "CLIENTEID": "58",
                                    "NOMBRE": "Constanza",
                                    "APELLIDO": "Avendaño"
                                },
                                {
                                    "CLIENTEID": "42",
                                    "NOMBRE": "Mariana",
                                    "APELLIDO": "Pizarro"
                                },
                                {
                                    "CLIENTEID": "82",
                                    "NOMBRE": "Violeta",
                                    "APELLIDO": "Ugarte"
                                },
                                {
                                    "CLIENTEID": "56",
                                    "NOMBRE": "Catalina",
                                    "APELLIDO": "Solano"
                                },
                                {
                                    "CLIENTEID": "96",
                                    "NOMBRE": "Álvaro",
                                    "APELLIDO": "Leal"
                                },
                                {
                                    "CLIENTEID": "40",
                                    "NOMBRE": "Camila",
                                    "APELLIDO": "Acosta"
                                },
                                {
                                    "CLIENTEID": "80",
                                    "NOMBRE": "Luana",
                                    "APELLIDO": "Santamaría"
                                },
                                {
                                    "CLIENTEID": "24",
                                    "NOMBRE": "Daniela",
                                    "APELLIDO": "Cabrera"
                                },
                                {
                                    "CLIENTEID": "64",
                                    "NOMBRE": "Rafaela",
                                    "APELLIDO": "Acuña"
                                },
                                {
                                    "CLIENTEID": "8",
                                    "NOMBRE": "Sofía",
                                    "APELLIDO": "Torres"
                                },
                                {
                                    "CLIENTEID": "48",
                                    "NOMBRE": "Renata",
                                    "APELLIDO": "Segovia"
                                },
                                {
                                    "CLIENTEID": "88",
                                    "NOMBRE": "Maite",
                                    "APELLIDO": "Heredia"
                                },
                                {
                                    "CLIENTEID": "72",
                                    "NOMBRE": "Amanda",
                                    "APELLIDO": "Parra"
                                },
                                {
                                    "CLIENTEID": "32",
                                    "NOMBRE": "Adriana",
                                    "APELLIDO": "Guerrero"
                                },
                                {
                                    "CLIENTEID": "16",
                                    "NOMBRE": "Alicia",
                                    "APELLIDO": "Gutiérrez"
                                },
                                {
                                    "CLIENTEID": "76",
                                    "NOMBRE": "Fernanda",
                                    "APELLIDO": "Tapia"
                                },
                                {
                                    "CLIENTEID": "36",
                                    "NOMBRE": "Natalia",
                                    "APELLIDO": "Aguilar"
                                },
                                {
                                    "CLIENTEID": "20",
                                    "NOMBRE": "Elena",
                                    "APELLIDO": "Santos"
                                },
                                {
                                    "CLIENTEID": "60",
                                    "NOMBRE": "Isadora",
                                    "APELLIDO": "Echevarría"
                                },
                                {
                                    "CLIENTEID": "84",
                                    "NOMBRE": "Avril",
                                    "APELLIDO": "Olmedo"
                                },
                                {
                                    "CLIENTEID": "44",
                                    "NOMBRE": "Valentina",
                                    "APELLIDO": "Piña"
                                },
                                {
                                    "CLIENTEID": "68",
                                    "NOMBRE": "Florencia",
                                    "APELLIDO": "Quintana"
                                },
                                {
                                    "CLIENTEID": "28",
                                    "NOMBRE": "Carolina",
                                    "APELLIDO": "Pardo"
                                },
                                {
                                    "CLIENTEID": "4",
                                    "NOMBRE": "Ana",
                                    "APELLIDO": "Martínez"
                                },
                                {
                                    "CLIENTEID": "12",
                                    "NOMBRE": "Marta",
                                    "APELLIDO": "Jiménez"
                                },
                                {
                                    "CLIENTEID": "52",
                                    "NOMBRE": "Sofía",
                                    "APELLIDO": "Uribe"
                                },
                                {
                                    "CLIENTEID": "92",
                                    "NOMBRE": "Bautista",
                                    "APELLIDO": "Contreras"
                                },
                                {
                                    "CLIENTEID": "46",
                                    "NOMBRE": "Rebeca",
                                    "APELLIDO": "Cisneros"
                                },
                                {
                                    "CLIENTEID": "86",
                                    "NOMBRE": "Paloma",
                                    "APELLIDO": "Espinoza"
                                },
                                {
                                    "CLIENTEID": "30",
                                    "NOMBRE": "Claudia",
                                    "APELLIDO": "Suárez"
                                },
                                {
                                    "CLIENTEID": "70",
                                    "NOMBRE": "Bianca",
                                    "APELLIDO": "Rendón"
                                },
                                {
                                    "CLIENTEID": "54",
                                    "NOMBRE": "Antonella",
                                    "APELLIDO": "Rincón"
                                },
                                {
                                    "CLIENTEID": "94",
                                    "NOMBRE": "Tristán",
                                    "APELLIDO": "Sepúlveda"
                                },
                                {
                                    "CLIENTEID": "14",
                                    "NOMBRE": "Carla",
                                    "APELLIDO": "Ruiz"
                                },
                                {
                                    "CLIENTEID": "38",
                                    "NOMBRE": "Gabriela",
                                    "APELLIDO": "Arias"
                                },
                                {
                                    "CLIENTEID": "78",
                                    "NOMBRE": "Dulce",
                                    "APELLIDO": "Quintero"
                                },
                                {
                                    "CLIENTEID": "22",
                                    "NOMBRE": "Cristina",
                                    "APELLIDO": "Molina"
                                },
                                {
                                    "CLIENTEID": "62",
                                    "NOMBRE": "Antonia",
                                    "APELLIDO": "Zúñiga"
                                },
                                {
                                    "CLIENTEID": "6",
                                    "NOMBRE": "Laura",
                                    "APELLIDO": "Fernández"
                                }
                            ]
                        },
                        "text/html": [
                            "<table>",
                            "<tr><th>CLIENTEID</th><th>NOMBRE</th><th>APELLIDO</th></tr>",
                            "<tr><td>2</td><td>María</td><td>García</td></tr>",
                            "<tr><td>66</td><td>Julieta</td><td>Baeza</td></tr>",
                            "<tr><td>26</td><td>Silvia</td><td>Vargas</td></tr>",
                            "<tr><td>90</td><td>Amelia</td><td>Polo</td></tr>",
                            "<tr><td>50</td><td>Isabella</td><td>Quintero</td></tr>",
                            "<tr><td>74</td><td>Ariana</td><td>Henríquez</td></tr>",
                            "<tr><td>34</td><td>Valeria</td><td>Espinosa</td></tr>",
                            "<tr><td>18</td><td>Lucía</td><td>Romero</td></tr>",
                            "<tr><td>10</td><td>Isabel</td><td>Ramírez</td></tr>",
                            "<tr><td>98</td><td>Ángel</td><td>Zepeda</td></tr>",
                            "<tr><td>58</td><td>Constanza</td><td>Avendaño</td></tr>",
                            "<tr><td>42</td><td>Mariana</td><td>Pizarro</td></tr>",
                            "<tr><td>82</td><td>Violeta</td><td>Ugarte</td></tr>",
                            "<tr><td>56</td><td>Catalina</td><td>Solano</td></tr>",
                            "<tr><td>96</td><td>Álvaro</td><td>Leal</td></tr>",
                            "<tr><td>40</td><td>Camila</td><td>Acosta</td></tr>",
                            "<tr><td>80</td><td>Luana</td><td>Santamaría</td></tr>",
                            "<tr><td>24</td><td>Daniela</td><td>Cabrera</td></tr>",
                            "<tr><td>64</td><td>Rafaela</td><td>Acuña</td></tr>",
                            "<tr><td>8</td><td>Sofía</td><td>Torres</td></tr>",
                            "<tr><td>48</td><td>Renata</td><td>Segovia</td></tr>",
                            "<tr><td>88</td><td>Maite</td><td>Heredia</td></tr>",
                            "<tr><td>72</td><td>Amanda</td><td>Parra</td></tr>",
                            "<tr><td>32</td><td>Adriana</td><td>Guerrero</td></tr>",
                            "<tr><td>16</td><td>Alicia</td><td>Gutiérrez</td></tr>",
                            "<tr><td>76</td><td>Fernanda</td><td>Tapia</td></tr>",
                            "<tr><td>36</td><td>Natalia</td><td>Aguilar</td></tr>",
                            "<tr><td>20</td><td>Elena</td><td>Santos</td></tr>",
                            "<tr><td>60</td><td>Isadora</td><td>Echevarría</td></tr>",
                            "<tr><td>84</td><td>Avril</td><td>Olmedo</td></tr>",
                            "<tr><td>44</td><td>Valentina</td><td>Piña</td></tr>",
                            "<tr><td>68</td><td>Florencia</td><td>Quintana</td></tr>",
                            "<tr><td>28</td><td>Carolina</td><td>Pardo</td></tr>",
                            "<tr><td>4</td><td>Ana</td><td>Martínez</td></tr>",
                            "<tr><td>12</td><td>Marta</td><td>Jiménez</td></tr>",
                            "<tr><td>52</td><td>Sofía</td><td>Uribe</td></tr>",
                            "<tr><td>92</td><td>Bautista</td><td>Contreras</td></tr>",
                            "<tr><td>46</td><td>Rebeca</td><td>Cisneros</td></tr>",
                            "<tr><td>86</td><td>Paloma</td><td>Espinoza</td></tr>",
                            "<tr><td>30</td><td>Claudia</td><td>Suárez</td></tr>",
                            "<tr><td>70</td><td>Bianca</td><td>Rendón</td></tr>",
                            "<tr><td>54</td><td>Antonella</td><td>Rincón</td></tr>",
                            "<tr><td>94</td><td>Tristán</td><td>Sepúlveda</td></tr>",
                            "<tr><td>14</td><td>Carla</td><td>Ruiz</td></tr>",
                            "<tr><td>38</td><td>Gabriela</td><td>Arias</td></tr>",
                            "<tr><td>78</td><td>Dulce</td><td>Quintero</td></tr>",
                            "<tr><td>22</td><td>Cristina</td><td>Molina</td></tr>",
                            "<tr><td>62</td><td>Antonia</td><td>Zúñiga</td></tr>",
                            "<tr><td>6</td><td>Laura</td><td>Fernández</td></tr>",
                            "</table>"
                        ]
                    }
                }
            ],
            "execution_count": 1
        },
        {
            "cell_type": "markdown",
            "source": [
                "**29. ¿Cuál es el monto total de transacciones por cliente y tipo de transacción?**"
            ],
            "metadata": {
                "azdata_cell_guid": "4a5a3c24-293c-436a-9d3d-f0010430986f",
                "language": "sql"
            },
            "attachments": {}
        },
        {
            "cell_type": "code",
            "source": [
                "SELECT \r\n",
                "    c.ClienteID, \r\n",
                "    c.Nombre, \r\n",
                "    c.Apellido, \r\n",
                "    SUM(t.Monto) AS MontoTotal\r\n",
                "FROM \r\n",
                "    clientes c\r\n",
                "INNER JOIN \r\n",
                "    cuentas cu ON c.ClienteID = cu.ClienteID\r\n",
                "INNER JOIN \r\n",
                "    transacciones t ON cu.CuentaID = t.CuentaID\r\n",
                "GROUP BY \r\n",
                "    c.ClienteID, \r\n",
                "    c.Nombre, \r\n",
                "    c.Apellido\r\n",
                "ORDER BY MontoTotal DESC;"
            ],
            "metadata": {
                "azdata_cell_guid": "7e3ac269-f6e1-422d-a5af-1151d246b099",
                "language": "sql"
            },
            "outputs": [
                {
                    "output_type": "display_data",
                    "data": {
                        "text/html": "(55 row(s) affected)"
                    },
                    "metadata": {}
                },
                {
                    "output_type": "display_data",
                    "data": {
                        "text/html": "Total execution time: 00:00:01.020"
                    },
                    "metadata": {}
                },
                {
                    "output_type": "execute_result",
                    "metadata": {},
                    "execution_count": 2,
                    "data": {
                        "application/vnd.dataresource+json": {
                            "schema": {
                                "fields": [
                                    {
                                        "name": "ClienteID"
                                    },
                                    {
                                        "name": "Nombre"
                                    },
                                    {
                                        "name": "Apellido"
                                    },
                                    {
                                        "name": "MontoTotal"
                                    }
                                ]
                            },
                            "data": [
                                {
                                    "ClienteID": "28",
                                    "Nombre": "Carolina",
                                    "Apellido": "Pardo",
                                    "MontoTotal": "6300.00"
                                },
                                {
                                    "ClienteID": "36",
                                    "Nombre": "Natalia",
                                    "Apellido": "Aguilar",
                                    "MontoTotal": "6000.00"
                                },
                                {
                                    "ClienteID": "12",
                                    "Nombre": "Marta",
                                    "Apellido": "Jiménez",
                                    "MontoTotal": "5900.00"
                                },
                                {
                                    "ClienteID": "20",
                                    "Nombre": "Elena",
                                    "Apellido": "Santos",
                                    "MontoTotal": "5700.00"
                                },
                                {
                                    "ClienteID": "40",
                                    "Nombre": "Camila",
                                    "Apellido": "Acosta",
                                    "MontoTotal": "5500.00"
                                },
                                {
                                    "ClienteID": "4",
                                    "Nombre": "Ana",
                                    "Apellido": "Martínez",
                                    "MontoTotal": "5200.00"
                                },
                                {
                                    "ClienteID": "32",
                                    "Nombre": "Adriana",
                                    "Apellido": "Guerrero",
                                    "MontoTotal": "5100.00"
                                },
                                {
                                    "ClienteID": "24",
                                    "Nombre": "Daniela",
                                    "Apellido": "Cabrera",
                                    "MontoTotal": "4800.00"
                                },
                                {
                                    "ClienteID": "16",
                                    "Nombre": "Alicia",
                                    "Apellido": "Gutiérrez",
                                    "MontoTotal": "4600.00"
                                },
                                {
                                    "ClienteID": "8",
                                    "Nombre": "Sofía",
                                    "Apellido": "Torres",
                                    "MontoTotal": "4200.00"
                                },
                                {
                                    "ClienteID": "42",
                                    "Nombre": "Mariana",
                                    "Apellido": "Pizarro",
                                    "MontoTotal": "3700.00"
                                },
                                {
                                    "ClienteID": "1",
                                    "Nombre": "Juan",
                                    "Apellido": "Pérez",
                                    "MontoTotal": "3600.00"
                                },
                                {
                                    "ClienteID": "34",
                                    "Nombre": "Valeria",
                                    "Apellido": "Espinosa",
                                    "MontoTotal": "3500.00"
                                },
                                {
                                    "ClienteID": "26",
                                    "Nombre": "Silvia",
                                    "Apellido": "Vargas",
                                    "MontoTotal": "3300.00"
                                },
                                {
                                    "ClienteID": "10",
                                    "Nombre": "Isabel",
                                    "Apellido": "Ramírez",
                                    "MontoTotal": "3000.00"
                                },
                                {
                                    "ClienteID": "18",
                                    "Nombre": "Lucía",
                                    "Apellido": "Romero",
                                    "MontoTotal": "3000.00"
                                },
                                {
                                    "ClienteID": "52",
                                    "Nombre": "Sofía",
                                    "Apellido": "Uribe",
                                    "MontoTotal": "3000.00"
                                },
                                {
                                    "ClienteID": "44",
                                    "Nombre": "Valentina",
                                    "Apellido": "Piña",
                                    "MontoTotal": "2800.00"
                                },
                                {
                                    "ClienteID": "2",
                                    "Nombre": "María",
                                    "Apellido": "García",
                                    "MontoTotal": "2700.00"
                                },
                                {
                                    "ClienteID": "38",
                                    "Nombre": "Gabriela",
                                    "Apellido": "Arias",
                                    "MontoTotal": "2700.00"
                                },
                                {
                                    "ClienteID": "30",
                                    "Nombre": "Claudia",
                                    "Apellido": "Suárez",
                                    "MontoTotal": "2550.00"
                                },
                                {
                                    "ClienteID": "48",
                                    "Nombre": "Renata",
                                    "Apellido": "Segovia",
                                    "MontoTotal": "2500.00"
                                },
                                {
                                    "ClienteID": "22",
                                    "Nombre": "Cristina",
                                    "Apellido": "Molina",
                                    "MontoTotal": "2350.00"
                                },
                                {
                                    "ClienteID": "14",
                                    "Nombre": "Carla",
                                    "Apellido": "Ruiz",
                                    "MontoTotal": "2300.00"
                                },
                                {
                                    "ClienteID": "6",
                                    "Nombre": "Laura",
                                    "Apellido": "Fernández",
                                    "MontoTotal": "2100.00"
                                },
                                {
                                    "ClienteID": "50",
                                    "Nombre": "Isabella",
                                    "Apellido": "Quintero",
                                    "MontoTotal": "1600.00"
                                },
                                {
                                    "ClienteID": "54",
                                    "Nombre": "Antonella",
                                    "Apellido": "Rincón",
                                    "MontoTotal": "1200.00"
                                },
                                {
                                    "ClienteID": "39",
                                    "Nombre": "Mateo",
                                    "Apellido": "Córdoba",
                                    "MontoTotal": "1110.00"
                                },
                                {
                                    "ClienteID": "46",
                                    "Nombre": "Rebeca",
                                    "Apellido": "Cisneros",
                                    "MontoTotal": "1100.00"
                                },
                                {
                                    "ClienteID": "31",
                                    "Nombre": "Francisco",
                                    "Apellido": "Ríos",
                                    "MontoTotal": "1080.00"
                                },
                                {
                                    "ClienteID": "15",
                                    "Nombre": "Diego",
                                    "Apellido": "Álvarez",
                                    "MontoTotal": "1010.00"
                                },
                                {
                                    "ClienteID": "23",
                                    "Nombre": "Mario",
                                    "Apellido": "Castillo",
                                    "MontoTotal": "1010.00"
                                },
                                {
                                    "ClienteID": "7",
                                    "Nombre": "Javier",
                                    "Apellido": "Gómez",
                                    "MontoTotal": "930.00"
                                },
                                {
                                    "ClienteID": "43",
                                    "Nombre": "Leonardo",
                                    "Apellido": "Escobar",
                                    "MontoTotal": "890.00"
                                },
                                {
                                    "ClienteID": "27",
                                    "Nombre": "Roberto",
                                    "Apellido": "Sáez",
                                    "MontoTotal": "860.00"
                                },
                                {
                                    "ClienteID": "19",
                                    "Nombre": "Óscar",
                                    "Apellido": "Ramos",
                                    "MontoTotal": "840.00"
                                },
                                {
                                    "ClienteID": "35",
                                    "Nombre": "Gustavo",
                                    "Apellido": "Hidalgo",
                                    "MontoTotal": "830.00"
                                },
                                {
                                    "ClienteID": "11",
                                    "Nombre": "Andrés",
                                    "Apellido": "Herrera",
                                    "MontoTotal": "780.00"
                                },
                                {
                                    "ClienteID": "3",
                                    "Nombre": "Pedro",
                                    "Apellido": "Rodríguez",
                                    "MontoTotal": "700.00"
                                },
                                {
                                    "ClienteID": "33",
                                    "Nombre": "Ernesto",
                                    "Apellido": "Montes",
                                    "MontoTotal": "660.00"
                                },
                                {
                                    "ClienteID": "41",
                                    "Nombre": "Nicolás",
                                    "Apellido": "Ledesma",
                                    "MontoTotal": "650.00"
                                },
                                {
                                    "ClienteID": "25",
                                    "Nombre": "Pablo",
                                    "Apellido": "Ortega",
                                    "MontoTotal": "600.00"
                                },
                                {
                                    "ClienteID": "9",
                                    "Nombre": "Sergio",
                                    "Apellido": "Navarro",
                                    "MontoTotal": "570.00"
                                },
                                {
                                    "ClienteID": "17",
                                    "Nombre": "Raúl",
                                    "Apellido": "Vázquez",
                                    "MontoTotal": "560.00"
                                },
                                {
                                    "ClienteID": "55",
                                    "Nombre": "Santiago",
                                    "Apellido": "Estrada",
                                    "MontoTotal": "520.00"
                                },
                                {
                                    "ClienteID": "37",
                                    "Nombre": "Rodrigo",
                                    "Apellido": "Serrano",
                                    "MontoTotal": "500.00"
                                },
                                {
                                    "ClienteID": "47",
                                    "Nombre": "Samuel",
                                    "Apellido": "Villalobos",
                                    "MontoTotal": "490.00"
                                },
                                {
                                    "ClienteID": "29",
                                    "Nombre": "David",
                                    "Apellido": "Rojas",
                                    "MontoTotal": "460.00"
                                },
                                {
                                    "ClienteID": "13",
                                    "Nombre": "Luis",
                                    "Apellido": "Moreno",
                                    "MontoTotal": "450.00"
                                },
                                {
                                    "ClienteID": "21",
                                    "Nombre": "Alejandro",
                                    "Apellido": "Flores",
                                    "MontoTotal": "440.00"
                                },
                                {
                                    "ClienteID": "5",
                                    "Nombre": "Carlos",
                                    "Apellido": "Sánchez",
                                    "MontoTotal": "400.00"
                                },
                                {
                                    "ClienteID": "51",
                                    "Nombre": "Tomás",
                                    "Apellido": "Castañeda",
                                    "MontoTotal": "370.00"
                                },
                                {
                                    "ClienteID": "49",
                                    "Nombre": "Emiliano",
                                    "Apellido": "Salcedo",
                                    "MontoTotal": "290.00"
                                },
                                {
                                    "ClienteID": "53",
                                    "Nombre": "Martín",
                                    "Apellido": "Salinas",
                                    "MontoTotal": "230.00"
                                },
                                {
                                    "ClienteID": "45",
                                    "Nombre": "Damián",
                                    "Apellido": "Arce",
                                    "MontoTotal": "210.00"
                                }
                            ]
                        },
                        "text/html": [
                            "<table>",
                            "<tr><th>ClienteID</th><th>Nombre</th><th>Apellido</th><th>MontoTotal</th></tr>",
                            "<tr><td>28</td><td>Carolina</td><td>Pardo</td><td>6300.00</td></tr>",
                            "<tr><td>36</td><td>Natalia</td><td>Aguilar</td><td>6000.00</td></tr>",
                            "<tr><td>12</td><td>Marta</td><td>Jiménez</td><td>5900.00</td></tr>",
                            "<tr><td>20</td><td>Elena</td><td>Santos</td><td>5700.00</td></tr>",
                            "<tr><td>40</td><td>Camila</td><td>Acosta</td><td>5500.00</td></tr>",
                            "<tr><td>4</td><td>Ana</td><td>Martínez</td><td>5200.00</td></tr>",
                            "<tr><td>32</td><td>Adriana</td><td>Guerrero</td><td>5100.00</td></tr>",
                            "<tr><td>24</td><td>Daniela</td><td>Cabrera</td><td>4800.00</td></tr>",
                            "<tr><td>16</td><td>Alicia</td><td>Gutiérrez</td><td>4600.00</td></tr>",
                            "<tr><td>8</td><td>Sofía</td><td>Torres</td><td>4200.00</td></tr>",
                            "<tr><td>42</td><td>Mariana</td><td>Pizarro</td><td>3700.00</td></tr>",
                            "<tr><td>1</td><td>Juan</td><td>Pérez</td><td>3600.00</td></tr>",
                            "<tr><td>34</td><td>Valeria</td><td>Espinosa</td><td>3500.00</td></tr>",
                            "<tr><td>26</td><td>Silvia</td><td>Vargas</td><td>3300.00</td></tr>",
                            "<tr><td>10</td><td>Isabel</td><td>Ramírez</td><td>3000.00</td></tr>",
                            "<tr><td>18</td><td>Lucía</td><td>Romero</td><td>3000.00</td></tr>",
                            "<tr><td>52</td><td>Sofía</td><td>Uribe</td><td>3000.00</td></tr>",
                            "<tr><td>44</td><td>Valentina</td><td>Piña</td><td>2800.00</td></tr>",
                            "<tr><td>2</td><td>María</td><td>García</td><td>2700.00</td></tr>",
                            "<tr><td>38</td><td>Gabriela</td><td>Arias</td><td>2700.00</td></tr>",
                            "<tr><td>30</td><td>Claudia</td><td>Suárez</td><td>2550.00</td></tr>",
                            "<tr><td>48</td><td>Renata</td><td>Segovia</td><td>2500.00</td></tr>",
                            "<tr><td>22</td><td>Cristina</td><td>Molina</td><td>2350.00</td></tr>",
                            "<tr><td>14</td><td>Carla</td><td>Ruiz</td><td>2300.00</td></tr>",
                            "<tr><td>6</td><td>Laura</td><td>Fernández</td><td>2100.00</td></tr>",
                            "<tr><td>50</td><td>Isabella</td><td>Quintero</td><td>1600.00</td></tr>",
                            "<tr><td>54</td><td>Antonella</td><td>Rincón</td><td>1200.00</td></tr>",
                            "<tr><td>39</td><td>Mateo</td><td>Córdoba</td><td>1110.00</td></tr>",
                            "<tr><td>46</td><td>Rebeca</td><td>Cisneros</td><td>1100.00</td></tr>",
                            "<tr><td>31</td><td>Francisco</td><td>Ríos</td><td>1080.00</td></tr>",
                            "<tr><td>15</td><td>Diego</td><td>Álvarez</td><td>1010.00</td></tr>",
                            "<tr><td>23</td><td>Mario</td><td>Castillo</td><td>1010.00</td></tr>",
                            "<tr><td>7</td><td>Javier</td><td>Gómez</td><td>930.00</td></tr>",
                            "<tr><td>43</td><td>Leonardo</td><td>Escobar</td><td>890.00</td></tr>",
                            "<tr><td>27</td><td>Roberto</td><td>Sáez</td><td>860.00</td></tr>",
                            "<tr><td>19</td><td>Óscar</td><td>Ramos</td><td>840.00</td></tr>",
                            "<tr><td>35</td><td>Gustavo</td><td>Hidalgo</td><td>830.00</td></tr>",
                            "<tr><td>11</td><td>Andrés</td><td>Herrera</td><td>780.00</td></tr>",
                            "<tr><td>3</td><td>Pedro</td><td>Rodríguez</td><td>700.00</td></tr>",
                            "<tr><td>33</td><td>Ernesto</td><td>Montes</td><td>660.00</td></tr>",
                            "<tr><td>41</td><td>Nicolás</td><td>Ledesma</td><td>650.00</td></tr>",
                            "<tr><td>25</td><td>Pablo</td><td>Ortega</td><td>600.00</td></tr>",
                            "<tr><td>9</td><td>Sergio</td><td>Navarro</td><td>570.00</td></tr>",
                            "<tr><td>17</td><td>Raúl</td><td>Vázquez</td><td>560.00</td></tr>",
                            "<tr><td>55</td><td>Santiago</td><td>Estrada</td><td>520.00</td></tr>",
                            "<tr><td>37</td><td>Rodrigo</td><td>Serrano</td><td>500.00</td></tr>",
                            "<tr><td>47</td><td>Samuel</td><td>Villalobos</td><td>490.00</td></tr>",
                            "<tr><td>29</td><td>David</td><td>Rojas</td><td>460.00</td></tr>",
                            "<tr><td>13</td><td>Luis</td><td>Moreno</td><td>450.00</td></tr>",
                            "<tr><td>21</td><td>Alejandro</td><td>Flores</td><td>440.00</td></tr>",
                            "<tr><td>5</td><td>Carlos</td><td>Sánchez</td><td>400.00</td></tr>",
                            "<tr><td>51</td><td>Tomás</td><td>Castañeda</td><td>370.00</td></tr>",
                            "<tr><td>49</td><td>Emiliano</td><td>Salcedo</td><td>290.00</td></tr>",
                            "<tr><td>53</td><td>Martín</td><td>Salinas</td><td>230.00</td></tr>",
                            "<tr><td>45</td><td>Damián</td><td>Arce</td><td>210.00</td></tr>",
                            "</table>"
                        ]
                    }
                }
            ],
            "execution_count": 2
        },
        {
            "cell_type": "markdown",
            "source": [
                "**30. ¿Cuáles son las cuentas que no han tenido transacciones en los últimos 6 meses?**"
            ],
            "metadata": {
                "azdata_cell_guid": "8cf2fe81-b3f2-4d18-9b8c-35fa4036635d",
                "language": "sql"
            },
            "attachments": {}
        },
        {
            "cell_type": "code",
            "source": [
                "select max(fecha) as maximof, min(fecha) as minimof \r\n",
                "from transacciones;"
            ],
            "metadata": {
                "azdata_cell_guid": "cd2b6386-cdac-4218-9529-596e0046d031",
                "language": "sql"
            },
            "outputs": [
                {
                    "output_type": "display_data",
                    "data": {
                        "text/html": "(1 row(s) affected)"
                    },
                    "metadata": {}
                },
                {
                    "output_type": "display_data",
                    "data": {
                        "text/html": "Total execution time: 00:00:01.015"
                    },
                    "metadata": {}
                },
                {
                    "output_type": "execute_result",
                    "metadata": {},
                    "execution_count": 3,
                    "data": {
                        "application/vnd.dataresource+json": {
                            "schema": {
                                "fields": [
                                    {
                                        "name": "maximof"
                                    },
                                    {
                                        "name": "minimof"
                                    }
                                ]
                            },
                            "data": [
                                {
                                    "maximof": "2024-08-07",
                                    "minimof": "2023-04-01"
                                }
                            ]
                        },
                        "text/html": [
                            "<table>",
                            "<tr><th>maximof</th><th>minimof</th></tr>",
                            "<tr><td>2024-08-07</td><td>2023-04-01</td></tr>",
                            "</table>"
                        ]
                    }
                }
            ],
            "execution_count": 3
        },
        {
            "cell_type": "code",
            "source": [
                "SELECT \r\n",
                "    CU.CUENTAID, \r\n",
                "    CU.CLIENTEID, \r\n",
                "    CU.TIPOCUENTA, \r\n",
                "    CU.FECHAAPERTURA, \r\n",
                "    CU.SALDO\r\n",
                "FROM cuentas CU \r\n",
                "LEFT JOIN transacciones T \r\n",
                "    ON CU.CUENTAID = T.CUENTAID   \r\n",
                "    AND T.FECHA >= DATE_SUB(CURRENT_DATE(), INTERVAL 6 MONTH)\r\n",
                "WHERE T.CUENTAID IS NULL; "
            ],
            "metadata": {
                "azdata_cell_guid": "6b3415fe-051c-4ee3-a146-ad33907df5a8",
                "language": "sql"
            },
            "outputs": [
                {
                    "output_type": "display_data",
                    "data": {
                        "text/html": "(47 row(s) affected)"
                    },
                    "metadata": {}
                },
                {
                    "output_type": "display_data",
                    "data": {
                        "text/html": "Total execution time: 00:00:01.011"
                    },
                    "metadata": {}
                },
                {
                    "output_type": "execute_result",
                    "metadata": {},
                    "execution_count": 4,
                    "data": {
                        "application/vnd.dataresource+json": {
                            "schema": {
                                "fields": [
                                    {
                                        "name": "CUENTAID"
                                    },
                                    {
                                        "name": "CLIENTEID"
                                    },
                                    {
                                        "name": "TIPOCUENTA"
                                    },
                                    {
                                        "name": "FECHAAPERTURA"
                                    },
                                    {
                                        "name": "SALDO"
                                    }
                                ]
                            },
                            "data": [
                                {
                                    "CUENTAID": "45",
                                    "CLIENTEID": "44",
                                    "TIPOCUENTA": "Ahorros",
                                    "FECHAAPERTURA": "2012-08-27",
                                    "SALDO": "7890.56"
                                },
                                {
                                    "CUENTAID": "46",
                                    "CLIENTEID": "45",
                                    "TIPOCUENTA": "Corriente",
                                    "FECHAAPERTURA": "2018-03-10",
                                    "SALDO": "3456.78"
                                },
                                {
                                    "CUENTAID": "47",
                                    "CLIENTEID": "46",
                                    "TIPOCUENTA": "Ahorros",
                                    "FECHAAPERTURA": "2014-10-05",
                                    "SALDO": "6789.90"
                                },
                                {
                                    "CUENTAID": "57",
                                    "CLIENTEID": "56",
                                    "TIPOCUENTA": "Ahorros",
                                    "FECHAAPERTURA": "2012-07-03",
                                    "SALDO": "8765.90"
                                },
                                {
                                    "CUENTAID": "58",
                                    "CLIENTEID": "57",
                                    "TIPOCUENTA": "Corriente",
                                    "FECHAAPERTURA": "2018-02-18",
                                    "SALDO": "4567.12"
                                },
                                {
                                    "CUENTAID": "59",
                                    "CLIENTEID": "58",
                                    "TIPOCUENTA": "Ahorros",
                                    "FECHAAPERTURA": "2015-09-01",
                                    "SALDO": "9012.34"
                                },
                                {
                                    "CUENTAID": "60",
                                    "CLIENTEID": "59",
                                    "TIPOCUENTA": "Corriente",
                                    "FECHAAPERTURA": "2011-05-27",
                                    "SALDO": "5678.56"
                                },
                                {
                                    "CUENTAID": "61",
                                    "CLIENTEID": "60",
                                    "TIPOCUENTA": "Ahorros",
                                    "FECHAAPERTURA": "2017-12-10",
                                    "SALDO": "7890.78"
                                },
                                {
                                    "CUENTAID": "62",
                                    "CLIENTEID": "61",
                                    "TIPOCUENTA": "Corriente",
                                    "FECHAAPERTURA": "2013-06-23",
                                    "SALDO": "3456.90"
                                },
                                {
                                    "CUENTAID": "63",
                                    "CLIENTEID": "62",
                                    "TIPOCUENTA": "Ahorros",
                                    "FECHAAPERTURA": "2019-03-08",
                                    "SALDO": "6789.12"
                                },
                                {
                                    "CUENTAID": "64",
                                    "CLIENTEID": "63",
                                    "TIPOCUENTA": "Corriente",
                                    "FECHAAPERTURA": "2015-10-31",
                                    "SALDO": "2345.34"
                                },
                                {
                                    "CUENTAID": "65",
                                    "CLIENTEID": "64",
                                    "TIPOCUENTA": "Ahorros",
                                    "FECHAAPERTURA": "2012-04-14",
                                    "SALDO": "8765.56"
                                },
                                {
                                    "CUENTAID": "66",
                                    "CLIENTEID": "65",
                                    "TIPOCUENTA": "Corriente",
                                    "FECHAAPERTURA": "2018-11-01",
                                    "SALDO": "4567.78"
                                },
                                {
                                    "CUENTAID": "67",
                                    "CLIENTEID": "66",
                                    "TIPOCUENTA": "Ahorros",
                                    "FECHAAPERTURA": "2016-06-25",
                                    "SALDO": "9012.90"
                                },
                                {
                                    "CUENTAID": "68",
                                    "CLIENTEID": "67",
                                    "TIPOCUENTA": "Corriente",
                                    "FECHAAPERTURA": "2014-02-09",
                                    "SALDO": "5678.12"
                                },
                                {
                                    "CUENTAID": "69",
                                    "CLIENTEID": "68",
                                    "TIPOCUENTA": "Ahorros",
                                    "FECHAAPERTURA": "2020-09-17",
                                    "SALDO": "7890.34"
                                },
                                {
                                    "CUENTAID": "70",
                                    "CLIENTEID": "69",
                                    "TIPOCUENTA": "Corriente",
                                    "FECHAAPERTURA": "2017-05-03",
                                    "SALDO": "3456.56"
                                },
                                {
                                    "CUENTAID": "71",
                                    "CLIENTEID": "70",
                                    "TIPOCUENTA": "Ahorros",
                                    "FECHAAPERTURA": "2013-12-20",
                                    "SALDO": "6789.78"
                                },
                                {
                                    "CUENTAID": "72",
                                    "CLIENTEID": "71",
                                    "TIPOCUENTA": "Corriente",
                                    "FECHAAPERTURA": "2019-07-15",
                                    "SALDO": "2345.90"
                                },
                                {
                                    "CUENTAID": "73",
                                    "CLIENTEID": "72",
                                    "TIPOCUENTA": "Ahorros",
                                    "FECHAAPERTURA": "2015-03-28",
                                    "SALDO": "8765.12"
                                },
                                {
                                    "CUENTAID": "74",
                                    "CLIENTEID": "73",
                                    "TIPOCUENTA": "Corriente",
                                    "FECHAAPERTURA": "2011-10-11",
                                    "SALDO": "4567.34"
                                },
                                {
                                    "CUENTAID": "75",
                                    "CLIENTEID": "74",
                                    "TIPOCUENTA": "Ahorros",
                                    "FECHAAPERTURA": "2018-04-24",
                                    "SALDO": "9012.56"
                                },
                                {
                                    "CUENTAID": "76",
                                    "CLIENTEID": "75",
                                    "TIPOCUENTA": "Corriente",
                                    "FECHAAPERTURA": "2016-01-07",
                                    "SALDO": "5678.78"
                                },
                                {
                                    "CUENTAID": "77",
                                    "CLIENTEID": "76",
                                    "TIPOCUENTA": "Ahorros",
                                    "FECHAAPERTURA": "2014-08-31",
                                    "SALDO": "7890.90"
                                },
                                {
                                    "CUENTAID": "78",
                                    "CLIENTEID": "77",
                                    "TIPOCUENTA": "Corriente",
                                    "FECHAAPERTURA": "2020-05-16",
                                    "SALDO": "3456.12"
                                },
                                {
                                    "CUENTAID": "79",
                                    "CLIENTEID": "78",
                                    "TIPOCUENTA": "Ahorros",
                                    "FECHAAPERTURA": "2012-11-03",
                                    "SALDO": "6789.34"
                                },
                                {
                                    "CUENTAID": "80",
                                    "CLIENTEID": "79",
                                    "TIPOCUENTA": "Corriente",
                                    "FECHAAPERTURA": "2019-06-29",
                                    "SALDO": "2345.56"
                                },
                                {
                                    "CUENTAID": "81",
                                    "CLIENTEID": "80",
                                    "TIPOCUENTA": "Ahorros",
                                    "FECHAAPERTURA": "2017-02-12",
                                    "SALDO": "8765.78"
                                },
                                {
                                    "CUENTAID": "82",
                                    "CLIENTEID": "81",
                                    "TIPOCUENTA": "Corriente",
                                    "FECHAAPERTURA": "2013-09-05",
                                    "SALDO": "4567.90"
                                },
                                {
                                    "CUENTAID": "83",
                                    "CLIENTEID": "82",
                                    "TIPOCUENTA": "Ahorros",
                                    "FECHAAPERTURA": "2015-04-20",
                                    "SALDO": "9012.12"
                                },
                                {
                                    "CUENTAID": "84",
                                    "CLIENTEID": "83",
                                    "TIPOCUENTA": "Corriente",
                                    "FECHAAPERTURA": "2011-11-14",
                                    "SALDO": "5678.34"
                                },
                                {
                                    "CUENTAID": "85",
                                    "CLIENTEID": "84",
                                    "TIPOCUENTA": "Ahorros",
                                    "FECHAAPERTURA": "2018-07-08",
                                    "SALDO": "7890.56"
                                },
                                {
                                    "CUENTAID": "86",
                                    "CLIENTEID": "85",
                                    "TIPOCUENTA": "Corriente",
                                    "FECHAAPERTURA": "2016-03-01",
                                    "SALDO": "3456.78"
                                },
                                {
                                    "CUENTAID": "87",
                                    "CLIENTEID": "86",
                                    "TIPOCUENTA": "Ahorros",
                                    "FECHAAPERTURA": "2014-10-25",
                                    "SALDO": "6789.90"
                                },
                                {
                                    "CUENTAID": "88",
                                    "CLIENTEID": "87",
                                    "TIPOCUENTA": "Corriente",
                                    "FECHAAPERTURA": "2020-06-18",
                                    "SALDO": "2345.12"
                                },
                                {
                                    "CUENTAID": "89",
                                    "CLIENTEID": "88",
                                    "TIPOCUENTA": "Ahorros",
                                    "FECHAAPERTURA": "2012-02-11",
                                    "SALDO": "8765.34"
                                },
                                {
                                    "CUENTAID": "90",
                                    "CLIENTEID": "89",
                                    "TIPOCUENTA": "Corriente",
                                    "FECHAAPERTURA": "2019-09-04",
                                    "SALDO": "4567.56"
                                },
                                {
                                    "CUENTAID": "91",
                                    "CLIENTEID": "90",
                                    "TIPOCUENTA": "Ahorros",
                                    "FECHAAPERTURA": "2017-05-27",
                                    "SALDO": "9012.78"
                                },
                                {
                                    "CUENTAID": "92",
                                    "CLIENTEID": "91",
                                    "TIPOCUENTA": "Corriente",
                                    "FECHAAPERTURA": "2013-12-10",
                                    "SALDO": "5678.90"
                                },
                                {
                                    "CUENTAID": "93",
                                    "CLIENTEID": "92",
                                    "TIPOCUENTA": "Ahorros",
                                    "FECHAAPERTURA": "2015-07-03",
                                    "SALDO": "7890.12"
                                },
                                {
                                    "CUENTAID": "94",
                                    "CLIENTEID": "93",
                                    "TIPOCUENTA": "Corriente",
                                    "FECHAAPERTURA": "2011-03-26",
                                    "SALDO": "3456.34"
                                },
                                {
                                    "CUENTAID": "95",
                                    "CLIENTEID": "94",
                                    "TIPOCUENTA": "Ahorros",
                                    "FECHAAPERTURA": "2018-10-09",
                                    "SALDO": "6789.56"
                                },
                                {
                                    "CUENTAID": "96",
                                    "CLIENTEID": "95",
                                    "TIPOCUENTA": "Corriente",
                                    "FECHAAPERTURA": "2016-05-22",
                                    "SALDO": "2345.78"
                                },
                                {
                                    "CUENTAID": "97",
                                    "CLIENTEID": "96",
                                    "TIPOCUENTA": "Ahorros",
                                    "FECHAAPERTURA": "2014-01-15",
                                    "SALDO": "8765.90"
                                },
                                {
                                    "CUENTAID": "98",
                                    "CLIENTEID": "97",
                                    "TIPOCUENTA": "Corriente",
                                    "FECHAAPERTURA": "2020-08-29",
                                    "SALDO": "4567.12"
                                },
                                {
                                    "CUENTAID": "99",
                                    "CLIENTEID": "98",
                                    "TIPOCUENTA": "Ahorros",
                                    "FECHAAPERTURA": "2012-04-03",
                                    "SALDO": "9012.34"
                                },
                                {
                                    "CUENTAID": "100",
                                    "CLIENTEID": "99",
                                    "TIPOCUENTA": "Corriente",
                                    "FECHAAPERTURA": "2019-11-17",
                                    "SALDO": "5678.56"
                                }
                            ]
                        },
                        "text/html": [
                            "<table>",
                            "<tr><th>CUENTAID</th><th>CLIENTEID</th><th>TIPOCUENTA</th><th>FECHAAPERTURA</th><th>SALDO</th></tr>",
                            "<tr><td>45</td><td>44</td><td>Ahorros</td><td>2012-08-27</td><td>7890.56</td></tr>",
                            "<tr><td>46</td><td>45</td><td>Corriente</td><td>2018-03-10</td><td>3456.78</td></tr>",
                            "<tr><td>47</td><td>46</td><td>Ahorros</td><td>2014-10-05</td><td>6789.90</td></tr>",
                            "<tr><td>57</td><td>56</td><td>Ahorros</td><td>2012-07-03</td><td>8765.90</td></tr>",
                            "<tr><td>58</td><td>57</td><td>Corriente</td><td>2018-02-18</td><td>4567.12</td></tr>",
                            "<tr><td>59</td><td>58</td><td>Ahorros</td><td>2015-09-01</td><td>9012.34</td></tr>",
                            "<tr><td>60</td><td>59</td><td>Corriente</td><td>2011-05-27</td><td>5678.56</td></tr>",
                            "<tr><td>61</td><td>60</td><td>Ahorros</td><td>2017-12-10</td><td>7890.78</td></tr>",
                            "<tr><td>62</td><td>61</td><td>Corriente</td><td>2013-06-23</td><td>3456.90</td></tr>",
                            "<tr><td>63</td><td>62</td><td>Ahorros</td><td>2019-03-08</td><td>6789.12</td></tr>",
                            "<tr><td>64</td><td>63</td><td>Corriente</td><td>2015-10-31</td><td>2345.34</td></tr>",
                            "<tr><td>65</td><td>64</td><td>Ahorros</td><td>2012-04-14</td><td>8765.56</td></tr>",
                            "<tr><td>66</td><td>65</td><td>Corriente</td><td>2018-11-01</td><td>4567.78</td></tr>",
                            "<tr><td>67</td><td>66</td><td>Ahorros</td><td>2016-06-25</td><td>9012.90</td></tr>",
                            "<tr><td>68</td><td>67</td><td>Corriente</td><td>2014-02-09</td><td>5678.12</td></tr>",
                            "<tr><td>69</td><td>68</td><td>Ahorros</td><td>2020-09-17</td><td>7890.34</td></tr>",
                            "<tr><td>70</td><td>69</td><td>Corriente</td><td>2017-05-03</td><td>3456.56</td></tr>",
                            "<tr><td>71</td><td>70</td><td>Ahorros</td><td>2013-12-20</td><td>6789.78</td></tr>",
                            "<tr><td>72</td><td>71</td><td>Corriente</td><td>2019-07-15</td><td>2345.90</td></tr>",
                            "<tr><td>73</td><td>72</td><td>Ahorros</td><td>2015-03-28</td><td>8765.12</td></tr>",
                            "<tr><td>74</td><td>73</td><td>Corriente</td><td>2011-10-11</td><td>4567.34</td></tr>",
                            "<tr><td>75</td><td>74</td><td>Ahorros</td><td>2018-04-24</td><td>9012.56</td></tr>",
                            "<tr><td>76</td><td>75</td><td>Corriente</td><td>2016-01-07</td><td>5678.78</td></tr>",
                            "<tr><td>77</td><td>76</td><td>Ahorros</td><td>2014-08-31</td><td>7890.90</td></tr>",
                            "<tr><td>78</td><td>77</td><td>Corriente</td><td>2020-05-16</td><td>3456.12</td></tr>",
                            "<tr><td>79</td><td>78</td><td>Ahorros</td><td>2012-11-03</td><td>6789.34</td></tr>",
                            "<tr><td>80</td><td>79</td><td>Corriente</td><td>2019-06-29</td><td>2345.56</td></tr>",
                            "<tr><td>81</td><td>80</td><td>Ahorros</td><td>2017-02-12</td><td>8765.78</td></tr>",
                            "<tr><td>82</td><td>81</td><td>Corriente</td><td>2013-09-05</td><td>4567.90</td></tr>",
                            "<tr><td>83</td><td>82</td><td>Ahorros</td><td>2015-04-20</td><td>9012.12</td></tr>",
                            "<tr><td>84</td><td>83</td><td>Corriente</td><td>2011-11-14</td><td>5678.34</td></tr>",
                            "<tr><td>85</td><td>84</td><td>Ahorros</td><td>2018-07-08</td><td>7890.56</td></tr>",
                            "<tr><td>86</td><td>85</td><td>Corriente</td><td>2016-03-01</td><td>3456.78</td></tr>",
                            "<tr><td>87</td><td>86</td><td>Ahorros</td><td>2014-10-25</td><td>6789.90</td></tr>",
                            "<tr><td>88</td><td>87</td><td>Corriente</td><td>2020-06-18</td><td>2345.12</td></tr>",
                            "<tr><td>89</td><td>88</td><td>Ahorros</td><td>2012-02-11</td><td>8765.34</td></tr>",
                            "<tr><td>90</td><td>89</td><td>Corriente</td><td>2019-09-04</td><td>4567.56</td></tr>",
                            "<tr><td>91</td><td>90</td><td>Ahorros</td><td>2017-05-27</td><td>9012.78</td></tr>",
                            "<tr><td>92</td><td>91</td><td>Corriente</td><td>2013-12-10</td><td>5678.90</td></tr>",
                            "<tr><td>93</td><td>92</td><td>Ahorros</td><td>2015-07-03</td><td>7890.12</td></tr>",
                            "<tr><td>94</td><td>93</td><td>Corriente</td><td>2011-03-26</td><td>3456.34</td></tr>",
                            "<tr><td>95</td><td>94</td><td>Ahorros</td><td>2018-10-09</td><td>6789.56</td></tr>",
                            "<tr><td>96</td><td>95</td><td>Corriente</td><td>2016-05-22</td><td>2345.78</td></tr>",
                            "<tr><td>97</td><td>96</td><td>Ahorros</td><td>2014-01-15</td><td>8765.90</td></tr>",
                            "<tr><td>98</td><td>97</td><td>Corriente</td><td>2020-08-29</td><td>4567.12</td></tr>",
                            "<tr><td>99</td><td>98</td><td>Ahorros</td><td>2012-04-03</td><td>9012.34</td></tr>",
                            "<tr><td>100</td><td>99</td><td>Corriente</td><td>2019-11-17</td><td>5678.56</td></tr>",
                            "</table>"
                        ]
                    }
                }
            ],
            "execution_count": 4
        },
        {
            "cell_type": "markdown",
            "source": [
                "**31. ¿Cuál es el monto promedio de transacciones por rango de edad de los clientes?**"
            ],
            "metadata": {
                "azdata_cell_guid": "02fe62cc-829d-4238-a8bf-a593af4be586",
                "language": "sql"
            },
            "attachments": {}
        },
        {
            "cell_type": "code",
            "source": [
                "SELECT \r\n",
                "    CASE\r\n",
                "        WHEN YEAR(CURRENT_DATE()) - YEAR(FechaNacimiento) BETWEEN 18 AND 30 THEN '18-30'\r\n",
                "        WHEN YEAR(CURRENT_DATE()) - YEAR(FechaNacimiento) BETWEEN 31 AND 40 THEN '31-40'\r\n",
                "        WHEN YEAR(CURRENT_DATE()) - YEAR(FechaNacimiento) BETWEEN 41 AND 50 THEN '41-50'\r\n",
                "        WHEN YEAR(CURRENT_DATE()) - YEAR(FechaNacimiento) BETWEEN 51 AND 60 THEN '51-60'\r\n",
                "        ELSE '60+'\r\n",
                "    END AS RangoEdad,\r\n",
                "    AVG(t.Monto) AS MontoPromedio\r\n",
                "FROM \r\n",
                "    clientes c\r\n",
                "JOIN \r\n",
                "    cuentas cu ON c.ClienteID = cu.ClienteID\r\n",
                "JOIN \r\n",
                "    transacciones t ON cu.CuentaID = t.CuentaID\r\n",
                "GROUP BY \r\n",
                "    RangoEdad;"
            ],
            "metadata": {
                "azdata_cell_guid": "df75f6d9-a1ca-4fb0-ad91-570e860c90f9",
                "language": "sql"
            },
            "outputs": [
                {
                    "output_type": "display_data",
                    "data": {
                        "text/html": "(3 row(s) affected)"
                    },
                    "metadata": {}
                },
                {
                    "output_type": "display_data",
                    "data": {
                        "text/html": "Total execution time: 00:00:01.023"
                    },
                    "metadata": {}
                },
                {
                    "output_type": "execute_result",
                    "metadata": {},
                    "execution_count": 5,
                    "data": {
                        "application/vnd.dataresource+json": {
                            "schema": {
                                "fields": [
                                    {
                                        "name": "RangoEdad"
                                    },
                                    {
                                        "name": "MontoPromedio"
                                    }
                                ]
                            },
                            "data": [
                                {
                                    "RangoEdad": "31-40",
                                    "MontoPromedio": "1424.705882"
                                },
                                {
                                    "RangoEdad": "41-50",
                                    "MontoPromedio": "450.882353"
                                },
                                {
                                    "RangoEdad": "18-30",
                                    "MontoPromedio": "1983.333333"
                                }
                            ]
                        },
                        "text/html": [
                            "<table>",
                            "<tr><th>RangoEdad</th><th>MontoPromedio</th></tr>",
                            "<tr><td>31-40</td><td>1424.705882</td></tr>",
                            "<tr><td>41-50</td><td>450.882353</td></tr>",
                            "<tr><td>18-30</td><td>1983.333333</td></tr>",
                            "</table>"
                        ]
                    }
                }
            ],
            "execution_count": 5
        },
        {
            "cell_type": "markdown",
            "source": [
                "**32.** **¿Cuáles son los clientes que tienen cuentas con un saldo superior a la mitad del saldo promedio de todas las cuentas?**"
            ],
            "metadata": {
                "azdata_cell_guid": "400579c4-3dbe-4ee8-ad95-ac92985f2ef9"
            },
            "attachments": {}
        },
        {
            "cell_type": "code",
            "source": [
                "SELECT DISTINCT c.ClienteID, c.Nombre, c.Apellido\r\n",
                "FROM clientes c\r\n",
                "INNER JOIN cuentas cu ON c.ClienteID = cu.ClienteID\r\n",
                "WHERE cu.Saldo > (SELECT AVG(Saldo) / 2 FROM cuentas);"
            ],
            "metadata": {
                "azdata_cell_guid": "6d851e99-067a-475a-aa56-2ad3e4f4e752",
                "language": "sql"
            },
            "outputs": [
                {
                    "output_type": "display_data",
                    "data": {
                        "text/html": "(86 row(s) affected)"
                    },
                    "metadata": {}
                },
                {
                    "output_type": "display_data",
                    "data": {
                        "text/html": "Total execution time: 00:00:01.009"
                    },
                    "metadata": {}
                },
                {
                    "output_type": "execute_result",
                    "metadata": {},
                    "execution_count": 6,
                    "data": {
                        "application/vnd.dataresource+json": {
                            "schema": {
                                "fields": [
                                    {
                                        "name": "ClienteID"
                                    },
                                    {
                                        "name": "Nombre"
                                    },
                                    {
                                        "name": "Apellido"
                                    }
                                ]
                            },
                            "data": [
                                {
                                    "ClienteID": "1",
                                    "Nombre": "Juan",
                                    "Apellido": "Pérez"
                                },
                                {
                                    "ClienteID": "2",
                                    "Nombre": "María",
                                    "Apellido": "García"
                                },
                                {
                                    "ClienteID": "4",
                                    "Nombre": "Ana",
                                    "Apellido": "Martínez"
                                },
                                {
                                    "ClienteID": "5",
                                    "Nombre": "Carlos",
                                    "Apellido": "Sánchez"
                                },
                                {
                                    "ClienteID": "6",
                                    "Nombre": "Laura",
                                    "Apellido": "Fernández"
                                },
                                {
                                    "ClienteID": "8",
                                    "Nombre": "Sofía",
                                    "Apellido": "Torres"
                                },
                                {
                                    "ClienteID": "9",
                                    "Nombre": "Sergio",
                                    "Apellido": "Navarro"
                                },
                                {
                                    "ClienteID": "10",
                                    "Nombre": "Isabel",
                                    "Apellido": "Ramírez"
                                },
                                {
                                    "ClienteID": "11",
                                    "Nombre": "Andrés",
                                    "Apellido": "Herrera"
                                },
                                {
                                    "ClienteID": "12",
                                    "Nombre": "Marta",
                                    "Apellido": "Jiménez"
                                },
                                {
                                    "ClienteID": "13",
                                    "Nombre": "Luis",
                                    "Apellido": "Moreno"
                                },
                                {
                                    "ClienteID": "14",
                                    "Nombre": "Carla",
                                    "Apellido": "Ruiz"
                                },
                                {
                                    "ClienteID": "16",
                                    "Nombre": "Alicia",
                                    "Apellido": "Gutiérrez"
                                },
                                {
                                    "ClienteID": "17",
                                    "Nombre": "Raúl",
                                    "Apellido": "Vázquez"
                                },
                                {
                                    "ClienteID": "18",
                                    "Nombre": "Lucía",
                                    "Apellido": "Romero"
                                },
                                {
                                    "ClienteID": "19",
                                    "Nombre": "Óscar",
                                    "Apellido": "Ramos"
                                },
                                {
                                    "ClienteID": "20",
                                    "Nombre": "Elena",
                                    "Apellido": "Santos"
                                },
                                {
                                    "ClienteID": "21",
                                    "Nombre": "Alejandro",
                                    "Apellido": "Flores"
                                },
                                {
                                    "ClienteID": "22",
                                    "Nombre": "Cristina",
                                    "Apellido": "Molina"
                                },
                                {
                                    "ClienteID": "24",
                                    "Nombre": "Daniela",
                                    "Apellido": "Cabrera"
                                },
                                {
                                    "ClienteID": "25",
                                    "Nombre": "Pablo",
                                    "Apellido": "Ortega"
                                },
                                {
                                    "ClienteID": "26",
                                    "Nombre": "Silvia",
                                    "Apellido": "Vargas"
                                },
                                {
                                    "ClienteID": "27",
                                    "Nombre": "Roberto",
                                    "Apellido": "Sáez"
                                },
                                {
                                    "ClienteID": "28",
                                    "Nombre": "Carolina",
                                    "Apellido": "Pardo"
                                },
                                {
                                    "ClienteID": "29",
                                    "Nombre": "David",
                                    "Apellido": "Rojas"
                                },
                                {
                                    "ClienteID": "30",
                                    "Nombre": "Claudia",
                                    "Apellido": "Suárez"
                                },
                                {
                                    "ClienteID": "32",
                                    "Nombre": "Adriana",
                                    "Apellido": "Guerrero"
                                },
                                {
                                    "ClienteID": "33",
                                    "Nombre": "Ernesto",
                                    "Apellido": "Montes"
                                },
                                {
                                    "ClienteID": "34",
                                    "Nombre": "Valeria",
                                    "Apellido": "Espinosa"
                                },
                                {
                                    "ClienteID": "35",
                                    "Nombre": "Gustavo",
                                    "Apellido": "Hidalgo"
                                },
                                {
                                    "ClienteID": "36",
                                    "Nombre": "Natalia",
                                    "Apellido": "Aguilar"
                                },
                                {
                                    "ClienteID": "37",
                                    "Nombre": "Rodrigo",
                                    "Apellido": "Serrano"
                                },
                                {
                                    "ClienteID": "38",
                                    "Nombre": "Gabriela",
                                    "Apellido": "Arias"
                                },
                                {
                                    "ClienteID": "40",
                                    "Nombre": "Camila",
                                    "Apellido": "Acosta"
                                },
                                {
                                    "ClienteID": "41",
                                    "Nombre": "Nicolás",
                                    "Apellido": "Ledesma"
                                },
                                {
                                    "ClienteID": "42",
                                    "Nombre": "Mariana",
                                    "Apellido": "Pizarro"
                                },
                                {
                                    "ClienteID": "43",
                                    "Nombre": "Leonardo",
                                    "Apellido": "Escobar"
                                },
                                {
                                    "ClienteID": "44",
                                    "Nombre": "Valentina",
                                    "Apellido": "Piña"
                                },
                                {
                                    "ClienteID": "45",
                                    "Nombre": "Damián",
                                    "Apellido": "Arce"
                                },
                                {
                                    "ClienteID": "46",
                                    "Nombre": "Rebeca",
                                    "Apellido": "Cisneros"
                                },
                                {
                                    "ClienteID": "48",
                                    "Nombre": "Renata",
                                    "Apellido": "Segovia"
                                },
                                {
                                    "ClienteID": "49",
                                    "Nombre": "Emiliano",
                                    "Apellido": "Salcedo"
                                },
                                {
                                    "ClienteID": "50",
                                    "Nombre": "Isabella",
                                    "Apellido": "Quintero"
                                },
                                {
                                    "ClienteID": "51",
                                    "Nombre": "Tomás",
                                    "Apellido": "Castañeda"
                                },
                                {
                                    "ClienteID": "52",
                                    "Nombre": "Sofía",
                                    "Apellido": "Uribe"
                                },
                                {
                                    "ClienteID": "53",
                                    "Nombre": "Martín",
                                    "Apellido": "Salinas"
                                },
                                {
                                    "ClienteID": "54",
                                    "Nombre": "Antonella",
                                    "Apellido": "Rincón"
                                },
                                {
                                    "ClienteID": "56",
                                    "Nombre": "Catalina",
                                    "Apellido": "Solano"
                                },
                                {
                                    "ClienteID": "57",
                                    "Nombre": "Benjamín",
                                    "Apellido": "Carvajal"
                                },
                                {
                                    "ClienteID": "58",
                                    "Nombre": "Constanza",
                                    "Apellido": "Avendaño"
                                },
                                {
                                    "ClienteID": "59",
                                    "Nombre": "Joaquín",
                                    "Apellido": "Cáceres"
                                },
                                {
                                    "ClienteID": "60",
                                    "Nombre": "Isadora",
                                    "Apellido": "Echevarría"
                                },
                                {
                                    "ClienteID": "61",
                                    "Nombre": "Lucas",
                                    "Apellido": "Pizarro"
                                },
                                {
                                    "ClienteID": "62",
                                    "Nombre": "Antonia",
                                    "Apellido": "Zúñiga"
                                },
                                {
                                    "ClienteID": "64",
                                    "Nombre": "Rafaela",
                                    "Apellido": "Acuña"
                                },
                                {
                                    "ClienteID": "65",
                                    "Nombre": "Maximiliano",
                                    "Apellido": "Yáñez"
                                },
                                {
                                    "ClienteID": "66",
                                    "Nombre": "Julieta",
                                    "Apellido": "Baeza"
                                },
                                {
                                    "ClienteID": "67",
                                    "Nombre": "Ezequiel",
                                    "Apellido": "Montero"
                                },
                                {
                                    "ClienteID": "68",
                                    "Nombre": "Florencia",
                                    "Apellido": "Quintana"
                                },
                                {
                                    "ClienteID": "69",
                                    "Nombre": "Thiago",
                                    "Apellido": "Olivares"
                                },
                                {
                                    "ClienteID": "70",
                                    "Nombre": "Bianca",
                                    "Apellido": "Rendón"
                                },
                                {
                                    "ClienteID": "72",
                                    "Nombre": "Amanda",
                                    "Apellido": "Parra"
                                },
                                {
                                    "ClienteID": "73",
                                    "Nombre": "Emilio",
                                    "Apellido": "Crespo"
                                },
                                {
                                    "ClienteID": "74",
                                    "Nombre": "Ariana",
                                    "Apellido": "Henríquez"
                                },
                                {
                                    "ClienteID": "75",
                                    "Nombre": "Salvador",
                                    "Apellido": "Morales"
                                },
                                {
                                    "ClienteID": "76",
                                    "Nombre": "Fernanda",
                                    "Apellido": "Tapia"
                                },
                                {
                                    "ClienteID": "77",
                                    "Nombre": "Emmanuel",
                                    "Apellido": "Concha"
                                },
                                {
                                    "ClienteID": "78",
                                    "Nombre": "Dulce",
                                    "Apellido": "Quintero"
                                },
                                {
                                    "ClienteID": "80",
                                    "Nombre": "Luana",
                                    "Apellido": "Santamaría"
                                },
                                {
                                    "ClienteID": "81",
                                    "Nombre": "Máximo",
                                    "Apellido": "Saldivar"
                                },
                                {
                                    "ClienteID": "82",
                                    "Nombre": "Violeta",
                                    "Apellido": "Ugarte"
                                },
                                {
                                    "ClienteID": "83",
                                    "Nombre": "Ignacio",
                                    "Apellido": "Solís"
                                },
                                {
                                    "ClienteID": "84",
                                    "Nombre": "Avril",
                                    "Apellido": "Olmedo"
                                },
                                {
                                    "ClienteID": "85",
                                    "Nombre": "Leonel",
                                    "Apellido": "Urrutia"
                                },
                                {
                                    "ClienteID": "86",
                                    "Nombre": "Paloma",
                                    "Apellido": "Espinoza"
                                },
                                {
                                    "ClienteID": "88",
                                    "Nombre": "Maite",
                                    "Apellido": "Heredia"
                                },
                                {
                                    "ClienteID": "89",
                                    "Nombre": "Gael",
                                    "Apellido": "Bernal"
                                },
                                {
                                    "ClienteID": "90",
                                    "Nombre": "Amelia",
                                    "Apellido": "Polo"
                                },
                                {
                                    "ClienteID": "91",
                                    "Nombre": "Amelia",
                                    "Apellido": "Peña"
                                },
                                {
                                    "ClienteID": "92",
                                    "Nombre": "Bautista",
                                    "Apellido": "Contreras"
                                },
                                {
                                    "ClienteID": "93",
                                    "Nombre": "Luciana",
                                    "Apellido": "Velázquez"
                                },
                                {
                                    "ClienteID": "94",
                                    "Nombre": "Tristán",
                                    "Apellido": "Sepúlveda"
                                },
                                {
                                    "ClienteID": "96",
                                    "Nombre": "Álvaro",
                                    "Apellido": "Leal"
                                },
                                {
                                    "ClienteID": "97",
                                    "Nombre": "Dafne",
                                    "Apellido": "Robles"
                                },
                                {
                                    "ClienteID": "98",
                                    "Nombre": "Ángel",
                                    "Apellido": "Zepeda"
                                },
                                {
                                    "ClienteID": "99",
                                    "Nombre": "Esmeralda",
                                    "Apellido": "Vigil"
                                }
                            ]
                        },
                        "text/html": [
                            "<table>",
                            "<tr><th>ClienteID</th><th>Nombre</th><th>Apellido</th></tr>",
                            "<tr><td>1</td><td>Juan</td><td>Pérez</td></tr>",
                            "<tr><td>2</td><td>María</td><td>García</td></tr>",
                            "<tr><td>4</td><td>Ana</td><td>Martínez</td></tr>",
                            "<tr><td>5</td><td>Carlos</td><td>Sánchez</td></tr>",
                            "<tr><td>6</td><td>Laura</td><td>Fernández</td></tr>",
                            "<tr><td>8</td><td>Sofía</td><td>Torres</td></tr>",
                            "<tr><td>9</td><td>Sergio</td><td>Navarro</td></tr>",
                            "<tr><td>10</td><td>Isabel</td><td>Ramírez</td></tr>",
                            "<tr><td>11</td><td>Andrés</td><td>Herrera</td></tr>",
                            "<tr><td>12</td><td>Marta</td><td>Jiménez</td></tr>",
                            "<tr><td>13</td><td>Luis</td><td>Moreno</td></tr>",
                            "<tr><td>14</td><td>Carla</td><td>Ruiz</td></tr>",
                            "<tr><td>16</td><td>Alicia</td><td>Gutiérrez</td></tr>",
                            "<tr><td>17</td><td>Raúl</td><td>Vázquez</td></tr>",
                            "<tr><td>18</td><td>Lucía</td><td>Romero</td></tr>",
                            "<tr><td>19</td><td>Óscar</td><td>Ramos</td></tr>",
                            "<tr><td>20</td><td>Elena</td><td>Santos</td></tr>",
                            "<tr><td>21</td><td>Alejandro</td><td>Flores</td></tr>",
                            "<tr><td>22</td><td>Cristina</td><td>Molina</td></tr>",
                            "<tr><td>24</td><td>Daniela</td><td>Cabrera</td></tr>",
                            "<tr><td>25</td><td>Pablo</td><td>Ortega</td></tr>",
                            "<tr><td>26</td><td>Silvia</td><td>Vargas</td></tr>",
                            "<tr><td>27</td><td>Roberto</td><td>Sáez</td></tr>",
                            "<tr><td>28</td><td>Carolina</td><td>Pardo</td></tr>",
                            "<tr><td>29</td><td>David</td><td>Rojas</td></tr>",
                            "<tr><td>30</td><td>Claudia</td><td>Suárez</td></tr>",
                            "<tr><td>32</td><td>Adriana</td><td>Guerrero</td></tr>",
                            "<tr><td>33</td><td>Ernesto</td><td>Montes</td></tr>",
                            "<tr><td>34</td><td>Valeria</td><td>Espinosa</td></tr>",
                            "<tr><td>35</td><td>Gustavo</td><td>Hidalgo</td></tr>",
                            "<tr><td>36</td><td>Natalia</td><td>Aguilar</td></tr>",
                            "<tr><td>37</td><td>Rodrigo</td><td>Serrano</td></tr>",
                            "<tr><td>38</td><td>Gabriela</td><td>Arias</td></tr>",
                            "<tr><td>40</td><td>Camila</td><td>Acosta</td></tr>",
                            "<tr><td>41</td><td>Nicolás</td><td>Ledesma</td></tr>",
                            "<tr><td>42</td><td>Mariana</td><td>Pizarro</td></tr>",
                            "<tr><td>43</td><td>Leonardo</td><td>Escobar</td></tr>",
                            "<tr><td>44</td><td>Valentina</td><td>Piña</td></tr>",
                            "<tr><td>45</td><td>Damián</td><td>Arce</td></tr>",
                            "<tr><td>46</td><td>Rebeca</td><td>Cisneros</td></tr>",
                            "<tr><td>48</td><td>Renata</td><td>Segovia</td></tr>",
                            "<tr><td>49</td><td>Emiliano</td><td>Salcedo</td></tr>",
                            "<tr><td>50</td><td>Isabella</td><td>Quintero</td></tr>",
                            "<tr><td>51</td><td>Tomás</td><td>Castañeda</td></tr>",
                            "<tr><td>52</td><td>Sofía</td><td>Uribe</td></tr>",
                            "<tr><td>53</td><td>Martín</td><td>Salinas</td></tr>",
                            "<tr><td>54</td><td>Antonella</td><td>Rincón</td></tr>",
                            "<tr><td>56</td><td>Catalina</td><td>Solano</td></tr>",
                            "<tr><td>57</td><td>Benjamín</td><td>Carvajal</td></tr>",
                            "<tr><td>58</td><td>Constanza</td><td>Avendaño</td></tr>",
                            "<tr><td>59</td><td>Joaquín</td><td>Cáceres</td></tr>",
                            "<tr><td>60</td><td>Isadora</td><td>Echevarría</td></tr>",
                            "<tr><td>61</td><td>Lucas</td><td>Pizarro</td></tr>",
                            "<tr><td>62</td><td>Antonia</td><td>Zúñiga</td></tr>",
                            "<tr><td>64</td><td>Rafaela</td><td>Acuña</td></tr>",
                            "<tr><td>65</td><td>Maximiliano</td><td>Yáñez</td></tr>",
                            "<tr><td>66</td><td>Julieta</td><td>Baeza</td></tr>",
                            "<tr><td>67</td><td>Ezequiel</td><td>Montero</td></tr>",
                            "<tr><td>68</td><td>Florencia</td><td>Quintana</td></tr>",
                            "<tr><td>69</td><td>Thiago</td><td>Olivares</td></tr>",
                            "<tr><td>70</td><td>Bianca</td><td>Rendón</td></tr>",
                            "<tr><td>72</td><td>Amanda</td><td>Parra</td></tr>",
                            "<tr><td>73</td><td>Emilio</td><td>Crespo</td></tr>",
                            "<tr><td>74</td><td>Ariana</td><td>Henríquez</td></tr>",
                            "<tr><td>75</td><td>Salvador</td><td>Morales</td></tr>",
                            "<tr><td>76</td><td>Fernanda</td><td>Tapia</td></tr>",
                            "<tr><td>77</td><td>Emmanuel</td><td>Concha</td></tr>",
                            "<tr><td>78</td><td>Dulce</td><td>Quintero</td></tr>",
                            "<tr><td>80</td><td>Luana</td><td>Santamaría</td></tr>",
                            "<tr><td>81</td><td>Máximo</td><td>Saldivar</td></tr>",
                            "<tr><td>82</td><td>Violeta</td><td>Ugarte</td></tr>",
                            "<tr><td>83</td><td>Ignacio</td><td>Solís</td></tr>",
                            "<tr><td>84</td><td>Avril</td><td>Olmedo</td></tr>",
                            "<tr><td>85</td><td>Leonel</td><td>Urrutia</td></tr>",
                            "<tr><td>86</td><td>Paloma</td><td>Espinoza</td></tr>",
                            "<tr><td>88</td><td>Maite</td><td>Heredia</td></tr>",
                            "<tr><td>89</td><td>Gael</td><td>Bernal</td></tr>",
                            "<tr><td>90</td><td>Amelia</td><td>Polo</td></tr>",
                            "<tr><td>91</td><td>Amelia</td><td>Peña</td></tr>",
                            "<tr><td>92</td><td>Bautista</td><td>Contreras</td></tr>",
                            "<tr><td>93</td><td>Luciana</td><td>Velázquez</td></tr>",
                            "<tr><td>94</td><td>Tristán</td><td>Sepúlveda</td></tr>",
                            "<tr><td>96</td><td>Álvaro</td><td>Leal</td></tr>",
                            "<tr><td>97</td><td>Dafne</td><td>Robles</td></tr>",
                            "<tr><td>98</td><td>Ángel</td><td>Zepeda</td></tr>",
                            "<tr><td>99</td><td>Esmeralda</td><td>Vigil</td></tr>",
                            "</table>"
                        ]
                    }
                }
            ],
            "execution_count": 6
        },
        {
            "cell_type": "markdown",
            "source": [
                "**33. ¿Cuál es el monto total de transacciones por mes y año?**"
            ],
            "metadata": {
                "azdata_cell_guid": "041cd756-fa24-442f-abfb-912f99a9fa5a",
                "language": "sql"
            },
            "attachments": {}
        },
        {
            "cell_type": "code",
            "source": [
                "SELECT \r\n",
                "    DATE_FORMAT(t.Fecha, '%Y-%m') AS MesAnio,\r\n",
                "    SUM(t.Monto) AS MontoTotal\r\n",
                "FROM \r\n",
                "    transacciones t\r\n",
                "GROUP BY \r\n",
                "    DATE_FORMAT(t.Fecha, '%Y-%m');"
            ],
            "metadata": {
                "azdata_cell_guid": "13ae24b1-6a41-4a32-a1ea-4049b1fea551",
                "language": "sql"
            },
            "outputs": [
                {
                    "output_type": "display_data",
                    "data": {
                        "text/html": "(17 row(s) affected)"
                    },
                    "metadata": {}
                },
                {
                    "output_type": "display_data",
                    "data": {
                        "text/html": "Total execution time: 00:00:01.012"
                    },
                    "metadata": {}
                },
                {
                    "output_type": "execute_result",
                    "metadata": {},
                    "execution_count": 7,
                    "data": {
                        "application/vnd.dataresource+json": {
                            "schema": {
                                "fields": [
                                    {
                                        "name": "MesAnio"
                                    },
                                    {
                                        "name": "MontoTotal"
                                    }
                                ]
                            },
                            "data": [
                                {
                                    "MesAnio": "2023-04",
                                    "MontoTotal": "4950.00"
                                },
                                {
                                    "MesAnio": "2023-05",
                                    "MontoTotal": "6200.00"
                                },
                                {
                                    "MesAnio": "2023-06",
                                    "MontoTotal": "4650.00"
                                },
                                {
                                    "MesAnio": "2023-07",
                                    "MontoTotal": "5910.00"
                                },
                                {
                                    "MesAnio": "2023-08",
                                    "MontoTotal": "5750.00"
                                },
                                {
                                    "MesAnio": "2023-09",
                                    "MontoTotal": "6870.00"
                                },
                                {
                                    "MesAnio": "2023-10",
                                    "MontoTotal": "5830.00"
                                },
                                {
                                    "MesAnio": "2023-11",
                                    "MontoTotal": "7460.00"
                                },
                                {
                                    "MesAnio": "2023-12",
                                    "MontoTotal": "7210.00"
                                },
                                {
                                    "MesAnio": "2024-01",
                                    "MontoTotal": "8450.00"
                                },
                                {
                                    "MesAnio": "2024-02",
                                    "MontoTotal": "7080.00"
                                },
                                {
                                    "MesAnio": "2024-03",
                                    "MontoTotal": "8770.00"
                                },
                                {
                                    "MesAnio": "2024-04",
                                    "MontoTotal": "8230.00"
                                },
                                {
                                    "MesAnio": "2024-05",
                                    "MontoTotal": "9620.00"
                                },
                                {
                                    "MesAnio": "2024-06",
                                    "MontoTotal": "8200.00"
                                },
                                {
                                    "MesAnio": "2024-07",
                                    "MontoTotal": "9830.00"
                                },
                                {
                                    "MesAnio": "2024-08",
                                    "MontoTotal": "2730.00"
                                }
                            ]
                        },
                        "text/html": [
                            "<table>",
                            "<tr><th>MesAnio</th><th>MontoTotal</th></tr>",
                            "<tr><td>2023-04</td><td>4950.00</td></tr>",
                            "<tr><td>2023-05</td><td>6200.00</td></tr>",
                            "<tr><td>2023-06</td><td>4650.00</td></tr>",
                            "<tr><td>2023-07</td><td>5910.00</td></tr>",
                            "<tr><td>2023-08</td><td>5750.00</td></tr>",
                            "<tr><td>2023-09</td><td>6870.00</td></tr>",
                            "<tr><td>2023-10</td><td>5830.00</td></tr>",
                            "<tr><td>2023-11</td><td>7460.00</td></tr>",
                            "<tr><td>2023-12</td><td>7210.00</td></tr>",
                            "<tr><td>2024-01</td><td>8450.00</td></tr>",
                            "<tr><td>2024-02</td><td>7080.00</td></tr>",
                            "<tr><td>2024-03</td><td>8770.00</td></tr>",
                            "<tr><td>2024-04</td><td>8230.00</td></tr>",
                            "<tr><td>2024-05</td><td>9620.00</td></tr>",
                            "<tr><td>2024-06</td><td>8200.00</td></tr>",
                            "<tr><td>2024-07</td><td>9830.00</td></tr>",
                            "<tr><td>2024-08</td><td>2730.00</td></tr>",
                            "</table>"
                        ]
                    }
                }
            ],
            "execution_count": 7
        },
        {
            "cell_type": "markdown",
            "source": [
                "**34. ¿Cuáles son las cuentas que han tenido transacciones en todas las fechas del último trimestre?**"
            ],
            "metadata": {
                "azdata_cell_guid": "7c92ceab-2bed-4cc0-93c7-dce1f309b89d",
                "language": "sql"
            },
            "attachments": {}
        },
        {
            "cell_type": "code",
            "source": [
                "SELECT DISTINCT CuentaID, Fecha\r\n",
                "FROM transacciones\r\n",
                "WHERE Fecha >= DATE_SUB(CURRENT_DATE(), INTERVAL 90 DAY)\r\n",
                "order by fecha desc;"
            ],
            "metadata": {
                "azdata_cell_guid": "5a3dc969-3f31-49eb-a388-ed9d72df106d",
                "language": "sql"
            },
            "outputs": [
                {
                    "output_type": "display_data",
                    "data": {
                        "text/html": "(34 row(s) affected)"
                    },
                    "metadata": {}
                },
                {
                    "output_type": "display_data",
                    "data": {
                        "text/html": "Total execution time: 00:00:01.010"
                    },
                    "metadata": {}
                },
                {
                    "output_type": "execute_result",
                    "metadata": {},
                    "execution_count": 8,
                    "data": {
                        "application/vnd.dataresource+json": {
                            "schema": {
                                "fields": [
                                    {
                                        "name": "CuentaID"
                                    },
                                    {
                                        "name": "Fecha"
                                    }
                                ]
                            },
                            "data": [
                                {
                                    "CuentaID": "44",
                                    "Fecha": "2024-08-07"
                                },
                                {
                                    "CuentaID": "43",
                                    "Fecha": "2024-08-02"
                                },
                                {
                                    "CuentaID": "42",
                                    "Fecha": "2024-07-28"
                                },
                                {
                                    "CuentaID": "41",
                                    "Fecha": "2024-07-23"
                                },
                                {
                                    "CuentaID": "40",
                                    "Fecha": "2024-07-18"
                                },
                                {
                                    "CuentaID": "39",
                                    "Fecha": "2024-07-13"
                                },
                                {
                                    "CuentaID": "38",
                                    "Fecha": "2024-07-08"
                                },
                                {
                                    "CuentaID": "37",
                                    "Fecha": "2024-07-03"
                                },
                                {
                                    "CuentaID": "36",
                                    "Fecha": "2024-06-28"
                                },
                                {
                                    "CuentaID": "35",
                                    "Fecha": "2024-06-23"
                                },
                                {
                                    "CuentaID": "34",
                                    "Fecha": "2024-06-18"
                                },
                                {
                                    "CuentaID": "33",
                                    "Fecha": "2024-06-13"
                                },
                                {
                                    "CuentaID": "32",
                                    "Fecha": "2024-06-08"
                                },
                                {
                                    "CuentaID": "31",
                                    "Fecha": "2024-06-03"
                                },
                                {
                                    "CuentaID": "30",
                                    "Fecha": "2024-05-29"
                                },
                                {
                                    "CuentaID": "29",
                                    "Fecha": "2024-05-24"
                                },
                                {
                                    "CuentaID": "28",
                                    "Fecha": "2024-05-19"
                                },
                                {
                                    "CuentaID": "27",
                                    "Fecha": "2024-05-14"
                                },
                                {
                                    "CuentaID": "26",
                                    "Fecha": "2024-05-09"
                                },
                                {
                                    "CuentaID": "25",
                                    "Fecha": "2024-05-04"
                                },
                                {
                                    "CuentaID": "24",
                                    "Fecha": "2024-04-29"
                                },
                                {
                                    "CuentaID": "23",
                                    "Fecha": "2024-04-24"
                                },
                                {
                                    "CuentaID": "22",
                                    "Fecha": "2024-04-19"
                                },
                                {
                                    "CuentaID": "21",
                                    "Fecha": "2024-04-14"
                                },
                                {
                                    "CuentaID": "20",
                                    "Fecha": "2024-04-09"
                                },
                                {
                                    "CuentaID": "19",
                                    "Fecha": "2024-04-04"
                                },
                                {
                                    "CuentaID": "18",
                                    "Fecha": "2024-03-30"
                                },
                                {
                                    "CuentaID": "17",
                                    "Fecha": "2024-03-25"
                                },
                                {
                                    "CuentaID": "16",
                                    "Fecha": "2024-03-20"
                                },
                                {
                                    "CuentaID": "15",
                                    "Fecha": "2024-03-15"
                                },
                                {
                                    "CuentaID": "14",
                                    "Fecha": "2024-03-10"
                                },
                                {
                                    "CuentaID": "13",
                                    "Fecha": "2024-03-05"
                                },
                                {
                                    "CuentaID": "12",
                                    "Fecha": "2024-02-29"
                                },
                                {
                                    "CuentaID": "11",
                                    "Fecha": "2024-02-24"
                                }
                            ]
                        },
                        "text/html": [
                            "<table>",
                            "<tr><th>CuentaID</th><th>Fecha</th></tr>",
                            "<tr><td>44</td><td>2024-08-07</td></tr>",
                            "<tr><td>43</td><td>2024-08-02</td></tr>",
                            "<tr><td>42</td><td>2024-07-28</td></tr>",
                            "<tr><td>41</td><td>2024-07-23</td></tr>",
                            "<tr><td>40</td><td>2024-07-18</td></tr>",
                            "<tr><td>39</td><td>2024-07-13</td></tr>",
                            "<tr><td>38</td><td>2024-07-08</td></tr>",
                            "<tr><td>37</td><td>2024-07-03</td></tr>",
                            "<tr><td>36</td><td>2024-06-28</td></tr>",
                            "<tr><td>35</td><td>2024-06-23</td></tr>",
                            "<tr><td>34</td><td>2024-06-18</td></tr>",
                            "<tr><td>33</td><td>2024-06-13</td></tr>",
                            "<tr><td>32</td><td>2024-06-08</td></tr>",
                            "<tr><td>31</td><td>2024-06-03</td></tr>",
                            "<tr><td>30</td><td>2024-05-29</td></tr>",
                            "<tr><td>29</td><td>2024-05-24</td></tr>",
                            "<tr><td>28</td><td>2024-05-19</td></tr>",
                            "<tr><td>27</td><td>2024-05-14</td></tr>",
                            "<tr><td>26</td><td>2024-05-09</td></tr>",
                            "<tr><td>25</td><td>2024-05-04</td></tr>",
                            "<tr><td>24</td><td>2024-04-29</td></tr>",
                            "<tr><td>23</td><td>2024-04-24</td></tr>",
                            "<tr><td>22</td><td>2024-04-19</td></tr>",
                            "<tr><td>21</td><td>2024-04-14</td></tr>",
                            "<tr><td>20</td><td>2024-04-09</td></tr>",
                            "<tr><td>19</td><td>2024-04-04</td></tr>",
                            "<tr><td>18</td><td>2024-03-30</td></tr>",
                            "<tr><td>17</td><td>2024-03-25</td></tr>",
                            "<tr><td>16</td><td>2024-03-20</td></tr>",
                            "<tr><td>15</td><td>2024-03-15</td></tr>",
                            "<tr><td>14</td><td>2024-03-10</td></tr>",
                            "<tr><td>13</td><td>2024-03-05</td></tr>",
                            "<tr><td>12</td><td>2024-02-29</td></tr>",
                            "<tr><td>11</td><td>2024-02-24</td></tr>",
                            "</table>"
                        ]
                    }
                }
            ],
            "execution_count": 8
        },
        {
            "cell_type": "markdown",
            "source": [
                "**35. ¿Cuál es el monto promedio de depósitos por rango de saldo de las cuentas?**"
            ],
            "metadata": {
                "azdata_cell_guid": "4b845cb4-b3d1-461c-963f-ef1ccaa8ca10",
                "language": "sql"
            },
            "attachments": {}
        },
        {
            "cell_type": "code",
            "source": [
                "SELECT\r\n",
                "    CASE\r\n",
                "        WHEN Saldo BETWEEN 1100 AND 6000 THEN '1100 - 6000'\r\n",
                "        WHEN Saldo BETWEEN 6001 AND 10000 THEN '6001 - 10000'\r\n",
                "        ELSE 'Más de 10000'\r\n",
                "    END AS RangoSaldo,\r\n",
                "    AVG(CASE WHEN Tipo = 'Depósito' THEN Monto ELSE 0 END) AS MontoPromedioDeposito\r\n",
                "FROM\r\n",
                "    cuentas\r\n",
                "INNER JOIN\r\n",
                "    transacciones ON cuentas.CuentaID = transacciones.CuentaID\r\n",
                "WHERE\r\n",
                "    Saldo >= 1200\r\n",
                "GROUP BY\r\n",
                "    RangoSaldo;"
            ],
            "metadata": {
                "azdata_cell_guid": "25581a81-0398-41fb-bb81-ed79232bf355",
                "language": "sql"
            },
            "outputs": [
                {
                    "output_type": "display_data",
                    "data": {
                        "text/html": "(2 row(s) affected)"
                    },
                    "metadata": {}
                },
                {
                    "output_type": "display_data",
                    "data": {
                        "text/html": "Total execution time: 00:00:01.020"
                    },
                    "metadata": {}
                },
                {
                    "output_type": "execute_result",
                    "metadata": {},
                    "execution_count": 9,
                    "data": {
                        "application/vnd.dataresource+json": {
                            "schema": {
                                "fields": [
                                    {
                                        "name": "RangoSaldo"
                                    },
                                    {
                                        "name": "MontoPromedioDeposito"
                                    }
                                ]
                            },
                            "data": [
                                {
                                    "RangoSaldo": "1100 - 6000",
                                    "MontoPromedioDeposito": "59.615385"
                                },
                                {
                                    "RangoSaldo": "6001 - 10000",
                                    "MontoPromedioDeposito": "1283.333333"
                                }
                            ]
                        },
                        "text/html": [
                            "<table>",
                            "<tr><th>RangoSaldo</th><th>MontoPromedioDeposito</th></tr>",
                            "<tr><td>1100 - 6000</td><td>59.615385</td></tr>",
                            "<tr><td>6001 - 10000</td><td>1283.333333</td></tr>",
                            "</table>"
                        ]
                    }
                }
            ],
            "execution_count": 9
        },
        {
            "cell_type": "markdown",
            "source": [
                "**36. ¿Cuáles son los clientes que tienen cuentas con un saldo superior al saldo máximo de todas las cuentas de ahorros?**"
            ],
            "metadata": {
                "azdata_cell_guid": "7054d970-8fb9-442b-b330-632a93b2bff3",
                "language": "sql"
            },
            "attachments": {}
        },
        {
            "cell_type": "code",
            "source": [
                "--Con esta consulta veo que ningun cliente tiene el saldo superior al saldo máximo de todas las cuentas de ahorros.                     \r\n",
                "SELECT\r\n",
                "    MAX(CASE WHEN TipoCuenta = 'Ahorros' \r\n",
                "    THEN Saldo ELSE NULL END) AS SaldoMaximoAhorros,\r\n",
                "    MAX(CASE WHEN TipoCuenta = 'Corriente' \r\n",
                "    THEN Saldo ELSE NULL END) AS SaldoMaximoCorriente\r\n",
                "FROM\r\n",
                "    cuentas;"
            ],
            "metadata": {
                "azdata_cell_guid": "c74f7478-5086-4162-946b-721cab2cf420",
                "language": "sql"
            },
            "outputs": [
                {
                    "output_type": "display_data",
                    "data": {
                        "text/html": "(1 row(s) affected)"
                    },
                    "metadata": {}
                },
                {
                    "output_type": "display_data",
                    "data": {
                        "text/html": "Total execution time: 00:00:01.008"
                    },
                    "metadata": {}
                },
                {
                    "output_type": "execute_result",
                    "metadata": {},
                    "execution_count": 10,
                    "data": {
                        "application/vnd.dataresource+json": {
                            "schema": {
                                "fields": [
                                    {
                                        "name": "SaldoMaximoAhorros"
                                    },
                                    {
                                        "name": "SaldoMaximoCorriente"
                                    }
                                ]
                            },
                            "data": [
                                {
                                    "SaldoMaximoAhorros": "9876.54",
                                    "SaldoMaximoCorriente": "5678.90"
                                }
                            ]
                        },
                        "text/html": [
                            "<table>",
                            "<tr><th>SaldoMaximoAhorros</th><th>SaldoMaximoCorriente</th></tr>",
                            "<tr><td>9876.54</td><td>5678.90</td></tr>",
                            "</table>"
                        ]
                    }
                }
            ],
            "execution_count": 10
        },
        {
            "cell_type": "markdown",
            "source": [
                "**37. ¿Cuál es el monto total de transacciones por día de la semana?**"
            ],
            "metadata": {
                "azdata_cell_guid": "350b365e-7fbf-4309-8918-d74f8d3a8b63",
                "language": "sql"
            },
            "attachments": {}
        },
        {
            "cell_type": "code",
            "source": [
                "SELECT \r\n",
                "    DAYOFWEEK(Fecha) AS DiaSemana,\r\n",
                "    SUM(Monto) AS MontoTotal\r\n",
                "FROM \r\n",
                "    transacciones\r\n",
                "GROUP BY \r\n",
                "    DiaSemana\r\n",
                "ORDER BY \r\n",
                "    DiaSemana;"
            ],
            "metadata": {
                "azdata_cell_guid": "7cdc4e65-cce1-456b-ad06-b6485aa94697",
                "language": "sql"
            },
            "outputs": [
                {
                    "output_type": "display_data",
                    "data": {
                        "text/html": "(7 row(s) affected)"
                    },
                    "metadata": {}
                },
                {
                    "output_type": "display_data",
                    "data": {
                        "text/html": "Total execution time: 00:00:01.018"
                    },
                    "metadata": {}
                },
                {
                    "output_type": "execute_result",
                    "metadata": {},
                    "execution_count": 11,
                    "data": {
                        "application/vnd.dataresource+json": {
                            "schema": {
                                "fields": [
                                    {
                                        "name": "DiaSemana"
                                    },
                                    {
                                        "name": "MontoTotal"
                                    }
                                ]
                            },
                            "data": [
                                {
                                    "DiaSemana": "1",
                                    "MontoTotal": "16280.00"
                                },
                                {
                                    "DiaSemana": "2",
                                    "MontoTotal": "15100.00"
                                },
                                {
                                    "DiaSemana": "3",
                                    "MontoTotal": "18290.00"
                                },
                                {
                                    "DiaSemana": "4",
                                    "MontoTotal": "17010.00"
                                },
                                {
                                    "DiaSemana": "5",
                                    "MontoTotal": "17120.00"
                                },
                                {
                                    "DiaSemana": "6",
                                    "MontoTotal": "17390.00"
                                },
                                {
                                    "DiaSemana": "7",
                                    "MontoTotal": "16550.00"
                                }
                            ]
                        },
                        "text/html": [
                            "<table>",
                            "<tr><th>DiaSemana</th><th>MontoTotal</th></tr>",
                            "<tr><td>1</td><td>16280.00</td></tr>",
                            "<tr><td>2</td><td>15100.00</td></tr>",
                            "<tr><td>3</td><td>18290.00</td></tr>",
                            "<tr><td>4</td><td>17010.00</td></tr>",
                            "<tr><td>5</td><td>17120.00</td></tr>",
                            "<tr><td>6</td><td>17390.00</td></tr>",
                            "<tr><td>7</td><td>16550.00</td></tr>",
                            "</table>"
                        ]
                    }
                }
            ],
            "execution_count": 11
        },
        {
            "cell_type": "markdown",
            "source": [
                "**38. ¿Cuáles son las cuentas que han tenido transacciones en todos los meses del año en curso?**"
            ],
            "metadata": {
                "azdata_cell_guid": "127badba-3f91-4cf8-af10-fd8f2147d5a2",
                "language": "sql"
            },
            "attachments": {}
        },
        {
            "cell_type": "code",
            "source": [
                "--PRimero observo Cuentas que han tenido transacciones el año 2024 \r\n",
                "--Ninguna cuenta tiene transacciones todos los meses del año \r\n",
                "SELECT DISTINCT CuentaID, Fecha\r\n",
                "FROM transacciones\r\n",
                "WHERE YEAR(Fecha) = 2024;"
            ],
            "metadata": {
                "azdata_cell_guid": "4b2ca473-9476-4f0e-a8bb-8ce869cbd0c8",
                "language": "sql"
            },
            "outputs": [
                {
                    "output_type": "display_data",
                    "data": {
                        "text/html": "(44 row(s) affected)"
                    },
                    "metadata": {}
                },
                {
                    "output_type": "display_data",
                    "data": {
                        "text/html": "Total execution time: 00:00:01.009"
                    },
                    "metadata": {}
                },
                {
                    "output_type": "execute_result",
                    "metadata": {},
                    "execution_count": 12,
                    "data": {
                        "application/vnd.dataresource+json": {
                            "schema": {
                                "fields": [
                                    {
                                        "name": "CuentaID"
                                    },
                                    {
                                        "name": "Fecha"
                                    }
                                ]
                            },
                            "data": [
                                {
                                    "CuentaID": "1",
                                    "Fecha": "2024-01-05"
                                },
                                {
                                    "CuentaID": "2",
                                    "Fecha": "2024-01-10"
                                },
                                {
                                    "CuentaID": "3",
                                    "Fecha": "2024-01-15"
                                },
                                {
                                    "CuentaID": "4",
                                    "Fecha": "2024-01-20"
                                },
                                {
                                    "CuentaID": "5",
                                    "Fecha": "2024-01-25"
                                },
                                {
                                    "CuentaID": "6",
                                    "Fecha": "2024-01-30"
                                },
                                {
                                    "CuentaID": "7",
                                    "Fecha": "2024-02-04"
                                },
                                {
                                    "CuentaID": "8",
                                    "Fecha": "2024-02-09"
                                },
                                {
                                    "CuentaID": "9",
                                    "Fecha": "2024-02-14"
                                },
                                {
                                    "CuentaID": "10",
                                    "Fecha": "2024-02-19"
                                },
                                {
                                    "CuentaID": "11",
                                    "Fecha": "2024-02-24"
                                },
                                {
                                    "CuentaID": "12",
                                    "Fecha": "2024-02-29"
                                },
                                {
                                    "CuentaID": "13",
                                    "Fecha": "2024-03-05"
                                },
                                {
                                    "CuentaID": "14",
                                    "Fecha": "2024-03-10"
                                },
                                {
                                    "CuentaID": "15",
                                    "Fecha": "2024-03-15"
                                },
                                {
                                    "CuentaID": "16",
                                    "Fecha": "2024-03-20"
                                },
                                {
                                    "CuentaID": "17",
                                    "Fecha": "2024-03-25"
                                },
                                {
                                    "CuentaID": "18",
                                    "Fecha": "2024-03-30"
                                },
                                {
                                    "CuentaID": "19",
                                    "Fecha": "2024-04-04"
                                },
                                {
                                    "CuentaID": "20",
                                    "Fecha": "2024-04-09"
                                },
                                {
                                    "CuentaID": "21",
                                    "Fecha": "2024-04-14"
                                },
                                {
                                    "CuentaID": "22",
                                    "Fecha": "2024-04-19"
                                },
                                {
                                    "CuentaID": "23",
                                    "Fecha": "2024-04-24"
                                },
                                {
                                    "CuentaID": "24",
                                    "Fecha": "2024-04-29"
                                },
                                {
                                    "CuentaID": "25",
                                    "Fecha": "2024-05-04"
                                },
                                {
                                    "CuentaID": "26",
                                    "Fecha": "2024-05-09"
                                },
                                {
                                    "CuentaID": "27",
                                    "Fecha": "2024-05-14"
                                },
                                {
                                    "CuentaID": "28",
                                    "Fecha": "2024-05-19"
                                },
                                {
                                    "CuentaID": "29",
                                    "Fecha": "2024-05-24"
                                },
                                {
                                    "CuentaID": "30",
                                    "Fecha": "2024-05-29"
                                },
                                {
                                    "CuentaID": "31",
                                    "Fecha": "2024-06-03"
                                },
                                {
                                    "CuentaID": "32",
                                    "Fecha": "2024-06-08"
                                },
                                {
                                    "CuentaID": "33",
                                    "Fecha": "2024-06-13"
                                },
                                {
                                    "CuentaID": "34",
                                    "Fecha": "2024-06-18"
                                },
                                {
                                    "CuentaID": "35",
                                    "Fecha": "2024-06-23"
                                },
                                {
                                    "CuentaID": "36",
                                    "Fecha": "2024-06-28"
                                },
                                {
                                    "CuentaID": "37",
                                    "Fecha": "2024-07-03"
                                },
                                {
                                    "CuentaID": "38",
                                    "Fecha": "2024-07-08"
                                },
                                {
                                    "CuentaID": "39",
                                    "Fecha": "2024-07-13"
                                },
                                {
                                    "CuentaID": "40",
                                    "Fecha": "2024-07-18"
                                },
                                {
                                    "CuentaID": "41",
                                    "Fecha": "2024-07-23"
                                },
                                {
                                    "CuentaID": "42",
                                    "Fecha": "2024-07-28"
                                },
                                {
                                    "CuentaID": "43",
                                    "Fecha": "2024-08-02"
                                },
                                {
                                    "CuentaID": "44",
                                    "Fecha": "2024-08-07"
                                }
                            ]
                        },
                        "text/html": [
                            "<table>",
                            "<tr><th>CuentaID</th><th>Fecha</th></tr>",
                            "<tr><td>1</td><td>2024-01-05</td></tr>",
                            "<tr><td>2</td><td>2024-01-10</td></tr>",
                            "<tr><td>3</td><td>2024-01-15</td></tr>",
                            "<tr><td>4</td><td>2024-01-20</td></tr>",
                            "<tr><td>5</td><td>2024-01-25</td></tr>",
                            "<tr><td>6</td><td>2024-01-30</td></tr>",
                            "<tr><td>7</td><td>2024-02-04</td></tr>",
                            "<tr><td>8</td><td>2024-02-09</td></tr>",
                            "<tr><td>9</td><td>2024-02-14</td></tr>",
                            "<tr><td>10</td><td>2024-02-19</td></tr>",
                            "<tr><td>11</td><td>2024-02-24</td></tr>",
                            "<tr><td>12</td><td>2024-02-29</td></tr>",
                            "<tr><td>13</td><td>2024-03-05</td></tr>",
                            "<tr><td>14</td><td>2024-03-10</td></tr>",
                            "<tr><td>15</td><td>2024-03-15</td></tr>",
                            "<tr><td>16</td><td>2024-03-20</td></tr>",
                            "<tr><td>17</td><td>2024-03-25</td></tr>",
                            "<tr><td>18</td><td>2024-03-30</td></tr>",
                            "<tr><td>19</td><td>2024-04-04</td></tr>",
                            "<tr><td>20</td><td>2024-04-09</td></tr>",
                            "<tr><td>21</td><td>2024-04-14</td></tr>",
                            "<tr><td>22</td><td>2024-04-19</td></tr>",
                            "<tr><td>23</td><td>2024-04-24</td></tr>",
                            "<tr><td>24</td><td>2024-04-29</td></tr>",
                            "<tr><td>25</td><td>2024-05-04</td></tr>",
                            "<tr><td>26</td><td>2024-05-09</td></tr>",
                            "<tr><td>27</td><td>2024-05-14</td></tr>",
                            "<tr><td>28</td><td>2024-05-19</td></tr>",
                            "<tr><td>29</td><td>2024-05-24</td></tr>",
                            "<tr><td>30</td><td>2024-05-29</td></tr>",
                            "<tr><td>31</td><td>2024-06-03</td></tr>",
                            "<tr><td>32</td><td>2024-06-08</td></tr>",
                            "<tr><td>33</td><td>2024-06-13</td></tr>",
                            "<tr><td>34</td><td>2024-06-18</td></tr>",
                            "<tr><td>35</td><td>2024-06-23</td></tr>",
                            "<tr><td>36</td><td>2024-06-28</td></tr>",
                            "<tr><td>37</td><td>2024-07-03</td></tr>",
                            "<tr><td>38</td><td>2024-07-08</td></tr>",
                            "<tr><td>39</td><td>2024-07-13</td></tr>",
                            "<tr><td>40</td><td>2024-07-18</td></tr>",
                            "<tr><td>41</td><td>2024-07-23</td></tr>",
                            "<tr><td>42</td><td>2024-07-28</td></tr>",
                            "<tr><td>43</td><td>2024-08-02</td></tr>",
                            "<tr><td>44</td><td>2024-08-07</td></tr>",
                            "</table>"
                        ]
                    }
                }
            ],
            "execution_count": 12
        },
        {
            "cell_type": "code",
            "source": [
                "SELECT CuentaID, COUNT(*) AS TotalTransacciones\r\n",
                "FROM transacciones\r\n",
                "WHERE YEAR(Fecha) = 2024\r\n",
                "GROUP BY CuentaID;\r\n",
                ""
            ],
            "metadata": {
                "azdata_cell_guid": "0bb3ffec-3d88-46f5-a0ca-2add13921286",
                "language": "sql"
            },
            "outputs": [
                {
                    "output_type": "display_data",
                    "data": {
                        "text/html": "(44 row(s) affected)"
                    },
                    "metadata": {}
                },
                {
                    "output_type": "display_data",
                    "data": {
                        "text/html": "Total execution time: 00:00:01.014"
                    },
                    "metadata": {}
                },
                {
                    "output_type": "execute_result",
                    "metadata": {},
                    "execution_count": 13,
                    "data": {
                        "application/vnd.dataresource+json": {
                            "schema": {
                                "fields": [
                                    {
                                        "name": "CuentaID"
                                    },
                                    {
                                        "name": "TotalTransacciones"
                                    }
                                ]
                            },
                            "data": [
                                {
                                    "CuentaID": "1",
                                    "TotalTransacciones": "1"
                                },
                                {
                                    "CuentaID": "2",
                                    "TotalTransacciones": "1"
                                },
                                {
                                    "CuentaID": "3",
                                    "TotalTransacciones": "1"
                                },
                                {
                                    "CuentaID": "4",
                                    "TotalTransacciones": "1"
                                },
                                {
                                    "CuentaID": "5",
                                    "TotalTransacciones": "1"
                                },
                                {
                                    "CuentaID": "6",
                                    "TotalTransacciones": "1"
                                },
                                {
                                    "CuentaID": "7",
                                    "TotalTransacciones": "1"
                                },
                                {
                                    "CuentaID": "8",
                                    "TotalTransacciones": "1"
                                },
                                {
                                    "CuentaID": "9",
                                    "TotalTransacciones": "1"
                                },
                                {
                                    "CuentaID": "10",
                                    "TotalTransacciones": "1"
                                },
                                {
                                    "CuentaID": "11",
                                    "TotalTransacciones": "1"
                                },
                                {
                                    "CuentaID": "12",
                                    "TotalTransacciones": "1"
                                },
                                {
                                    "CuentaID": "13",
                                    "TotalTransacciones": "1"
                                },
                                {
                                    "CuentaID": "14",
                                    "TotalTransacciones": "1"
                                },
                                {
                                    "CuentaID": "15",
                                    "TotalTransacciones": "1"
                                },
                                {
                                    "CuentaID": "16",
                                    "TotalTransacciones": "1"
                                },
                                {
                                    "CuentaID": "17",
                                    "TotalTransacciones": "1"
                                },
                                {
                                    "CuentaID": "18",
                                    "TotalTransacciones": "1"
                                },
                                {
                                    "CuentaID": "19",
                                    "TotalTransacciones": "1"
                                },
                                {
                                    "CuentaID": "20",
                                    "TotalTransacciones": "1"
                                },
                                {
                                    "CuentaID": "21",
                                    "TotalTransacciones": "1"
                                },
                                {
                                    "CuentaID": "22",
                                    "TotalTransacciones": "1"
                                },
                                {
                                    "CuentaID": "23",
                                    "TotalTransacciones": "1"
                                },
                                {
                                    "CuentaID": "24",
                                    "TotalTransacciones": "1"
                                },
                                {
                                    "CuentaID": "25",
                                    "TotalTransacciones": "1"
                                },
                                {
                                    "CuentaID": "26",
                                    "TotalTransacciones": "1"
                                },
                                {
                                    "CuentaID": "27",
                                    "TotalTransacciones": "1"
                                },
                                {
                                    "CuentaID": "28",
                                    "TotalTransacciones": "1"
                                },
                                {
                                    "CuentaID": "29",
                                    "TotalTransacciones": "1"
                                },
                                {
                                    "CuentaID": "30",
                                    "TotalTransacciones": "1"
                                },
                                {
                                    "CuentaID": "31",
                                    "TotalTransacciones": "1"
                                },
                                {
                                    "CuentaID": "32",
                                    "TotalTransacciones": "1"
                                },
                                {
                                    "CuentaID": "33",
                                    "TotalTransacciones": "1"
                                },
                                {
                                    "CuentaID": "34",
                                    "TotalTransacciones": "1"
                                },
                                {
                                    "CuentaID": "35",
                                    "TotalTransacciones": "1"
                                },
                                {
                                    "CuentaID": "36",
                                    "TotalTransacciones": "1"
                                },
                                {
                                    "CuentaID": "37",
                                    "TotalTransacciones": "1"
                                },
                                {
                                    "CuentaID": "38",
                                    "TotalTransacciones": "1"
                                },
                                {
                                    "CuentaID": "39",
                                    "TotalTransacciones": "1"
                                },
                                {
                                    "CuentaID": "40",
                                    "TotalTransacciones": "1"
                                },
                                {
                                    "CuentaID": "41",
                                    "TotalTransacciones": "1"
                                },
                                {
                                    "CuentaID": "42",
                                    "TotalTransacciones": "1"
                                },
                                {
                                    "CuentaID": "43",
                                    "TotalTransacciones": "1"
                                },
                                {
                                    "CuentaID": "44",
                                    "TotalTransacciones": "1"
                                }
                            ]
                        },
                        "text/html": [
                            "<table>",
                            "<tr><th>CuentaID</th><th>TotalTransacciones</th></tr>",
                            "<tr><td>1</td><td>1</td></tr>",
                            "<tr><td>2</td><td>1</td></tr>",
                            "<tr><td>3</td><td>1</td></tr>",
                            "<tr><td>4</td><td>1</td></tr>",
                            "<tr><td>5</td><td>1</td></tr>",
                            "<tr><td>6</td><td>1</td></tr>",
                            "<tr><td>7</td><td>1</td></tr>",
                            "<tr><td>8</td><td>1</td></tr>",
                            "<tr><td>9</td><td>1</td></tr>",
                            "<tr><td>10</td><td>1</td></tr>",
                            "<tr><td>11</td><td>1</td></tr>",
                            "<tr><td>12</td><td>1</td></tr>",
                            "<tr><td>13</td><td>1</td></tr>",
                            "<tr><td>14</td><td>1</td></tr>",
                            "<tr><td>15</td><td>1</td></tr>",
                            "<tr><td>16</td><td>1</td></tr>",
                            "<tr><td>17</td><td>1</td></tr>",
                            "<tr><td>18</td><td>1</td></tr>",
                            "<tr><td>19</td><td>1</td></tr>",
                            "<tr><td>20</td><td>1</td></tr>",
                            "<tr><td>21</td><td>1</td></tr>",
                            "<tr><td>22</td><td>1</td></tr>",
                            "<tr><td>23</td><td>1</td></tr>",
                            "<tr><td>24</td><td>1</td></tr>",
                            "<tr><td>25</td><td>1</td></tr>",
                            "<tr><td>26</td><td>1</td></tr>",
                            "<tr><td>27</td><td>1</td></tr>",
                            "<tr><td>28</td><td>1</td></tr>",
                            "<tr><td>29</td><td>1</td></tr>",
                            "<tr><td>30</td><td>1</td></tr>",
                            "<tr><td>31</td><td>1</td></tr>",
                            "<tr><td>32</td><td>1</td></tr>",
                            "<tr><td>33</td><td>1</td></tr>",
                            "<tr><td>34</td><td>1</td></tr>",
                            "<tr><td>35</td><td>1</td></tr>",
                            "<tr><td>36</td><td>1</td></tr>",
                            "<tr><td>37</td><td>1</td></tr>",
                            "<tr><td>38</td><td>1</td></tr>",
                            "<tr><td>39</td><td>1</td></tr>",
                            "<tr><td>40</td><td>1</td></tr>",
                            "<tr><td>41</td><td>1</td></tr>",
                            "<tr><td>42</td><td>1</td></tr>",
                            "<tr><td>43</td><td>1</td></tr>",
                            "<tr><td>44</td><td>1</td></tr>",
                            "</table>"
                        ]
                    }
                }
            ],
            "execution_count": 13
        },
        {
            "cell_type": "markdown",
            "source": [
                "**39. ¿Cuál es el monto promedio de retiros por rango de edad de los clientes?**"
            ],
            "metadata": {
                "azdata_cell_guid": "8d8f89b7-1f4e-4d3b-b2ef-435929e6790f",
                "language": "sql"
            },
            "attachments": {}
        },
        {
            "cell_type": "code",
            "source": [
                "SELECT\r\n",
                "    CASE\r\n",
                "        WHEN YEAR(CURRENT_DATE()) - YEAR(FechaNacimiento) BETWEEN 18 AND 30 THEN '18-30'\r\n",
                "        WHEN YEAR(CURRENT_DATE()) - YEAR(FechaNacimiento) BETWEEN 31 AND 40 THEN '31-40'\r\n",
                "        WHEN YEAR(CURRENT_DATE()) - YEAR(FechaNacimiento) BETWEEN 41 AND 50 THEN '41-50'\r\n",
                "        WHEN YEAR(CURRENT_DATE()) - YEAR(FechaNacimiento) BETWEEN 51 AND 60 THEN '51-60'\r\n",
                "        ELSE '60+'\r\n",
                "    END AS RangoEdad,\r\n",
                "    AVG(t.Monto) AS MontoPromedioRetiro\r\n",
                "FROM\r\n",
                "    clientes c\r\n",
                "JOIN\r\n",
                "    transacciones t ON c.ClienteID = t.CuentaID\r\n",
                "WHERE\r\n",
                "    t.Tipo = 'Retiro'\r\n",
                "GROUP BY\r\n",
                "    RangoEdad;"
            ],
            "metadata": {
                "azdata_cell_guid": "dab71398-d80d-4749-826c-d5c06c243c00",
                "language": "sql"
            },
            "outputs": [
                {
                    "output_type": "display_data",
                    "data": {
                        "text/html": "(2 row(s) affected)"
                    },
                    "metadata": {}
                },
                {
                    "output_type": "display_data",
                    "data": {
                        "text/html": "Total execution time: 00:00:01.008"
                    },
                    "metadata": {}
                },
                {
                    "output_type": "execute_result",
                    "metadata": {},
                    "execution_count": 14,
                    "data": {
                        "application/vnd.dataresource+json": {
                            "schema": {
                                "fields": [
                                    {
                                        "name": "RangoEdad"
                                    },
                                    {
                                        "name": "MontoPromedioRetiro"
                                    }
                                ]
                            },
                            "data": [
                                {
                                    "RangoEdad": "31-40",
                                    "MontoPromedioRetiro": "263.529412"
                                },
                                {
                                    "RangoEdad": "18-30",
                                    "MontoPromedioRetiro": "255.000000"
                                }
                            ]
                        },
                        "text/html": [
                            "<table>",
                            "<tr><th>RangoEdad</th><th>MontoPromedioRetiro</th></tr>",
                            "<tr><td>31-40</td><td>263.529412</td></tr>",
                            "<tr><td>18-30</td><td>255.000000</td></tr>",
                            "</table>"
                        ]
                    }
                }
            ],
            "execution_count": 14
        },
        {
            "cell_type": "markdown",
            "source": [
                "**40. ¿Cuáles son los clientes que tienen cuentas con un saldo inferior al saldo mínimo de todas las cuentas corrientes?**"
            ],
            "metadata": {
                "azdata_cell_guid": "f3fca739-b2f4-4e1c-ab79-8e9c050d5d51",
                "language": "sql"
            },
            "attachments": {}
        },
        {
            "cell_type": "code",
            "source": [
                "SELECT c.Nombre, c.Apellido, cu.Saldo, cu.TipoCuenta\r\n",
                "FROM clientes c\r\n",
                "INNER JOIN cuentas cu ON c.ClienteID = cu.ClienteID\r\n",
                "WHERE cu.Saldo <= (SELECT MIN(Saldo) FROM cuentas WHERE TipoCuenta = 'Corriente');"
            ],
            "metadata": {
                "azdata_cell_guid": "3c9d11df-7135-45ac-a323-18dcf42fafc0",
                "language": "sql"
            },
            "outputs": [
                {
                    "output_type": "display_data",
                    "data": {
                        "text/html": "(1 row(s) affected)"
                    },
                    "metadata": {}
                },
                {
                    "output_type": "display_data",
                    "data": {
                        "text/html": "Total execution time: 00:00:01.009"
                    },
                    "metadata": {}
                },
                {
                    "output_type": "execute_result",
                    "metadata": {},
                    "execution_count": 15,
                    "data": {
                        "application/vnd.dataresource+json": {
                            "schema": {
                                "fields": [
                                    {
                                        "name": "Nombre"
                                    },
                                    {
                                        "name": "Apellido"
                                    },
                                    {
                                        "name": "Saldo"
                                    },
                                    {
                                        "name": "TipoCuenta"
                                    }
                                ]
                            },
                            "data": [
                                {
                                    "Nombre": "Pedro",
                                    "Apellido": "Rodríguez",
                                    "Saldo": "1234.56",
                                    "TipoCuenta": "Corriente"
                                }
                            ]
                        },
                        "text/html": [
                            "<table>",
                            "<tr><th>Nombre</th><th>Apellido</th><th>Saldo</th><th>TipoCuenta</th></tr>",
                            "<tr><td>Pedro</td><td>Rodríguez</td><td>1234.56</td><td>Corriente</td></tr>",
                            "</table>"
                        ]
                    }
                }
            ],
            "execution_count": 15
        },
        {
            "cell_type": "markdown",
            "source": [
                "**41.** **¿Cuál es el monto total de transacciones por cliente, ordenado de mayor a menor?**"
            ],
            "metadata": {
                "azdata_cell_guid": "869a1914-3b73-4ea0-902e-c13e05c21d23",
                "language": "sql"
            },
            "attachments": {}
        },
        {
            "cell_type": "code",
            "source": [
                "SELECT \r\n",
                "    CuentaID,\r\n",
                "    SUM(Monto) AS MontoTotal\r\n",
                "FROM \r\n",
                "    transacciones\r\n",
                "GROUP BY \r\n",
                "    CuentaID\r\n",
                "ORDER BY \r\n",
                "    MontoTotal DESC;"
            ],
            "metadata": {
                "azdata_cell_guid": "1d42008a-6eb7-4097-8caf-b839bff7012a",
                "language": "sql"
            },
            "outputs": [
                {
                    "output_type": "display_data",
                    "data": {
                        "text/html": "(56 row(s) affected)"
                    },
                    "metadata": {}
                },
                {
                    "output_type": "display_data",
                    "data": {
                        "text/html": "Total execution time: 00:00:01.007"
                    },
                    "metadata": {}
                },
                {
                    "output_type": "execute_result",
                    "metadata": {},
                    "execution_count": 16,
                    "data": {
                        "application/vnd.dataresource+json": {
                            "schema": {
                                "fields": [
                                    {
                                        "name": "CuentaID"
                                    },
                                    {
                                        "name": "MontoTotal"
                                    }
                                ]
                            },
                            "data": [
                                {
                                    "CuentaID": "29",
                                    "MontoTotal": "6300.00"
                                },
                                {
                                    "CuentaID": "37",
                                    "MontoTotal": "6000.00"
                                },
                                {
                                    "CuentaID": "13",
                                    "MontoTotal": "5900.00"
                                },
                                {
                                    "CuentaID": "21",
                                    "MontoTotal": "5700.00"
                                },
                                {
                                    "CuentaID": "41",
                                    "MontoTotal": "5500.00"
                                },
                                {
                                    "CuentaID": "5",
                                    "MontoTotal": "5200.00"
                                },
                                {
                                    "CuentaID": "33",
                                    "MontoTotal": "5100.00"
                                },
                                {
                                    "CuentaID": "25",
                                    "MontoTotal": "4800.00"
                                },
                                {
                                    "CuentaID": "17",
                                    "MontoTotal": "4600.00"
                                },
                                {
                                    "CuentaID": "9",
                                    "MontoTotal": "4200.00"
                                },
                                {
                                    "CuentaID": "43",
                                    "MontoTotal": "3700.00"
                                },
                                {
                                    "CuentaID": "35",
                                    "MontoTotal": "3500.00"
                                },
                                {
                                    "CuentaID": "27",
                                    "MontoTotal": "3300.00"
                                },
                                {
                                    "CuentaID": "1",
                                    "MontoTotal": "3100.00"
                                },
                                {
                                    "CuentaID": "11",
                                    "MontoTotal": "3000.00"
                                },
                                {
                                    "CuentaID": "19",
                                    "MontoTotal": "3000.00"
                                },
                                {
                                    "CuentaID": "53",
                                    "MontoTotal": "3000.00"
                                },
                                {
                                    "CuentaID": "45",
                                    "MontoTotal": "2800.00"
                                },
                                {
                                    "CuentaID": "3",
                                    "MontoTotal": "2700.00"
                                },
                                {
                                    "CuentaID": "39",
                                    "MontoTotal": "2700.00"
                                },
                                {
                                    "CuentaID": "31",
                                    "MontoTotal": "2550.00"
                                },
                                {
                                    "CuentaID": "49",
                                    "MontoTotal": "2500.00"
                                },
                                {
                                    "CuentaID": "23",
                                    "MontoTotal": "2350.00"
                                },
                                {
                                    "CuentaID": "15",
                                    "MontoTotal": "2300.00"
                                },
                                {
                                    "CuentaID": "7",
                                    "MontoTotal": "2100.00"
                                },
                                {
                                    "CuentaID": "51",
                                    "MontoTotal": "1600.00"
                                },
                                {
                                    "CuentaID": "55",
                                    "MontoTotal": "1200.00"
                                },
                                {
                                    "CuentaID": "40",
                                    "MontoTotal": "1110.00"
                                },
                                {
                                    "CuentaID": "47",
                                    "MontoTotal": "1100.00"
                                },
                                {
                                    "CuentaID": "32",
                                    "MontoTotal": "1080.00"
                                },
                                {
                                    "CuentaID": "16",
                                    "MontoTotal": "1010.00"
                                },
                                {
                                    "CuentaID": "24",
                                    "MontoTotal": "1010.00"
                                },
                                {
                                    "CuentaID": "8",
                                    "MontoTotal": "930.00"
                                },
                                {
                                    "CuentaID": "44",
                                    "MontoTotal": "890.00"
                                },
                                {
                                    "CuentaID": "28",
                                    "MontoTotal": "860.00"
                                },
                                {
                                    "CuentaID": "20",
                                    "MontoTotal": "840.00"
                                },
                                {
                                    "CuentaID": "36",
                                    "MontoTotal": "830.00"
                                },
                                {
                                    "CuentaID": "12",
                                    "MontoTotal": "780.00"
                                },
                                {
                                    "CuentaID": "4",
                                    "MontoTotal": "700.00"
                                },
                                {
                                    "CuentaID": "34",
                                    "MontoTotal": "660.00"
                                },
                                {
                                    "CuentaID": "42",
                                    "MontoTotal": "650.00"
                                },
                                {
                                    "CuentaID": "26",
                                    "MontoTotal": "600.00"
                                },
                                {
                                    "CuentaID": "10",
                                    "MontoTotal": "570.00"
                                },
                                {
                                    "CuentaID": "18",
                                    "MontoTotal": "560.00"
                                },
                                {
                                    "CuentaID": "56",
                                    "MontoTotal": "520.00"
                                },
                                {
                                    "CuentaID": "38",
                                    "MontoTotal": "500.00"
                                },
                                {
                                    "CuentaID": "2",
                                    "MontoTotal": "500.00"
                                },
                                {
                                    "CuentaID": "48",
                                    "MontoTotal": "490.00"
                                },
                                {
                                    "CuentaID": "30",
                                    "MontoTotal": "460.00"
                                },
                                {
                                    "CuentaID": "14",
                                    "MontoTotal": "450.00"
                                },
                                {
                                    "CuentaID": "22",
                                    "MontoTotal": "440.00"
                                },
                                {
                                    "CuentaID": "6",
                                    "MontoTotal": "400.00"
                                },
                                {
                                    "CuentaID": "52",
                                    "MontoTotal": "370.00"
                                },
                                {
                                    "CuentaID": "50",
                                    "MontoTotal": "290.00"
                                },
                                {
                                    "CuentaID": "54",
                                    "MontoTotal": "230.00"
                                },
                                {
                                    "CuentaID": "46",
                                    "MontoTotal": "210.00"
                                }
                            ]
                        },
                        "text/html": [
                            "<table>",
                            "<tr><th>CuentaID</th><th>MontoTotal</th></tr>",
                            "<tr><td>29</td><td>6300.00</td></tr>",
                            "<tr><td>37</td><td>6000.00</td></tr>",
                            "<tr><td>13</td><td>5900.00</td></tr>",
                            "<tr><td>21</td><td>5700.00</td></tr>",
                            "<tr><td>41</td><td>5500.00</td></tr>",
                            "<tr><td>5</td><td>5200.00</td></tr>",
                            "<tr><td>33</td><td>5100.00</td></tr>",
                            "<tr><td>25</td><td>4800.00</td></tr>",
                            "<tr><td>17</td><td>4600.00</td></tr>",
                            "<tr><td>9</td><td>4200.00</td></tr>",
                            "<tr><td>43</td><td>3700.00</td></tr>",
                            "<tr><td>35</td><td>3500.00</td></tr>",
                            "<tr><td>27</td><td>3300.00</td></tr>",
                            "<tr><td>1</td><td>3100.00</td></tr>",
                            "<tr><td>11</td><td>3000.00</td></tr>",
                            "<tr><td>19</td><td>3000.00</td></tr>",
                            "<tr><td>53</td><td>3000.00</td></tr>",
                            "<tr><td>45</td><td>2800.00</td></tr>",
                            "<tr><td>3</td><td>2700.00</td></tr>",
                            "<tr><td>39</td><td>2700.00</td></tr>",
                            "<tr><td>31</td><td>2550.00</td></tr>",
                            "<tr><td>49</td><td>2500.00</td></tr>",
                            "<tr><td>23</td><td>2350.00</td></tr>",
                            "<tr><td>15</td><td>2300.00</td></tr>",
                            "<tr><td>7</td><td>2100.00</td></tr>",
                            "<tr><td>51</td><td>1600.00</td></tr>",
                            "<tr><td>55</td><td>1200.00</td></tr>",
                            "<tr><td>40</td><td>1110.00</td></tr>",
                            "<tr><td>47</td><td>1100.00</td></tr>",
                            "<tr><td>32</td><td>1080.00</td></tr>",
                            "<tr><td>16</td><td>1010.00</td></tr>",
                            "<tr><td>24</td><td>1010.00</td></tr>",
                            "<tr><td>8</td><td>930.00</td></tr>",
                            "<tr><td>44</td><td>890.00</td></tr>",
                            "<tr><td>28</td><td>860.00</td></tr>",
                            "<tr><td>20</td><td>840.00</td></tr>",
                            "<tr><td>36</td><td>830.00</td></tr>",
                            "<tr><td>12</td><td>780.00</td></tr>",
                            "<tr><td>4</td><td>700.00</td></tr>",
                            "<tr><td>34</td><td>660.00</td></tr>",
                            "<tr><td>42</td><td>650.00</td></tr>",
                            "<tr><td>26</td><td>600.00</td></tr>",
                            "<tr><td>10</td><td>570.00</td></tr>",
                            "<tr><td>18</td><td>560.00</td></tr>",
                            "<tr><td>56</td><td>520.00</td></tr>",
                            "<tr><td>38</td><td>500.00</td></tr>",
                            "<tr><td>2</td><td>500.00</td></tr>",
                            "<tr><td>48</td><td>490.00</td></tr>",
                            "<tr><td>30</td><td>460.00</td></tr>",
                            "<tr><td>14</td><td>450.00</td></tr>",
                            "<tr><td>22</td><td>440.00</td></tr>",
                            "<tr><td>6</td><td>400.00</td></tr>",
                            "<tr><td>52</td><td>370.00</td></tr>",
                            "<tr><td>50</td><td>290.00</td></tr>",
                            "<tr><td>54</td><td>230.00</td></tr>",
                            "<tr><td>46</td><td>210.00</td></tr>",
                            "</table>"
                        ]
                    }
                }
            ],
            "execution_count": 16
        },
        {
            "cell_type": "markdown",
            "source": [
                "**42. ¿Cuáles son las cuentas que han tenido al menos una transacción en cada uno de los últimos 12 meses?**"
            ],
            "metadata": {
                "azdata_cell_guid": "d339f813-d44a-4658-bc7c-2a8b2150fde1",
                "language": "sql"
            },
            "attachments": {}
        },
        {
            "cell_type": "code",
            "source": [
                "SELECT DISTINCT CuentaID, fecha\r\n",
                "FROM transacciones\r\n",
                "WHERE fecha >= DATE_SUB(CURRENT_DATE(), INTERVAL 12 MONTH)\r\n",
                "order by fecha desc;"
            ],
            "metadata": {
                "azdata_cell_guid": "690d10c7-7233-4bde-8b5f-a7ad96d5af28",
                "language": "sql"
            },
            "outputs": [
                {
                    "output_type": "display_data",
                    "data": {
                        "text/html": "(90 row(s) affected)"
                    },
                    "metadata": {}
                },
                {
                    "output_type": "display_data",
                    "data": {
                        "text/html": "Total execution time: 00:00:01.010"
                    },
                    "metadata": {}
                },
                {
                    "output_type": "execute_result",
                    "metadata": {},
                    "execution_count": 17,
                    "data": {
                        "application/vnd.dataresource+json": {
                            "schema": {
                                "fields": [
                                    {
                                        "name": "CuentaID"
                                    },
                                    {
                                        "name": "fecha"
                                    }
                                ]
                            },
                            "data": [
                                {
                                    "CuentaID": "44",
                                    "fecha": "2024-08-07"
                                },
                                {
                                    "CuentaID": "43",
                                    "fecha": "2024-08-02"
                                },
                                {
                                    "CuentaID": "42",
                                    "fecha": "2024-07-28"
                                },
                                {
                                    "CuentaID": "41",
                                    "fecha": "2024-07-23"
                                },
                                {
                                    "CuentaID": "40",
                                    "fecha": "2024-07-18"
                                },
                                {
                                    "CuentaID": "39",
                                    "fecha": "2024-07-13"
                                },
                                {
                                    "CuentaID": "38",
                                    "fecha": "2024-07-08"
                                },
                                {
                                    "CuentaID": "37",
                                    "fecha": "2024-07-03"
                                },
                                {
                                    "CuentaID": "36",
                                    "fecha": "2024-06-28"
                                },
                                {
                                    "CuentaID": "35",
                                    "fecha": "2024-06-23"
                                },
                                {
                                    "CuentaID": "34",
                                    "fecha": "2024-06-18"
                                },
                                {
                                    "CuentaID": "33",
                                    "fecha": "2024-06-13"
                                },
                                {
                                    "CuentaID": "32",
                                    "fecha": "2024-06-08"
                                },
                                {
                                    "CuentaID": "31",
                                    "fecha": "2024-06-03"
                                },
                                {
                                    "CuentaID": "30",
                                    "fecha": "2024-05-29"
                                },
                                {
                                    "CuentaID": "29",
                                    "fecha": "2024-05-24"
                                },
                                {
                                    "CuentaID": "28",
                                    "fecha": "2024-05-19"
                                },
                                {
                                    "CuentaID": "27",
                                    "fecha": "2024-05-14"
                                },
                                {
                                    "CuentaID": "26",
                                    "fecha": "2024-05-09"
                                },
                                {
                                    "CuentaID": "25",
                                    "fecha": "2024-05-04"
                                },
                                {
                                    "CuentaID": "24",
                                    "fecha": "2024-04-29"
                                },
                                {
                                    "CuentaID": "23",
                                    "fecha": "2024-04-24"
                                },
                                {
                                    "CuentaID": "22",
                                    "fecha": "2024-04-19"
                                },
                                {
                                    "CuentaID": "21",
                                    "fecha": "2024-04-14"
                                },
                                {
                                    "CuentaID": "20",
                                    "fecha": "2024-04-09"
                                },
                                {
                                    "CuentaID": "19",
                                    "fecha": "2024-04-04"
                                },
                                {
                                    "CuentaID": "18",
                                    "fecha": "2024-03-30"
                                },
                                {
                                    "CuentaID": "17",
                                    "fecha": "2024-03-25"
                                },
                                {
                                    "CuentaID": "16",
                                    "fecha": "2024-03-20"
                                },
                                {
                                    "CuentaID": "15",
                                    "fecha": "2024-03-15"
                                },
                                {
                                    "CuentaID": "14",
                                    "fecha": "2024-03-10"
                                },
                                {
                                    "CuentaID": "13",
                                    "fecha": "2024-03-05"
                                },
                                {
                                    "CuentaID": "12",
                                    "fecha": "2024-02-29"
                                },
                                {
                                    "CuentaID": "11",
                                    "fecha": "2024-02-24"
                                },
                                {
                                    "CuentaID": "10",
                                    "fecha": "2024-02-19"
                                },
                                {
                                    "CuentaID": "9",
                                    "fecha": "2024-02-14"
                                },
                                {
                                    "CuentaID": "8",
                                    "fecha": "2024-02-09"
                                },
                                {
                                    "CuentaID": "7",
                                    "fecha": "2024-02-04"
                                },
                                {
                                    "CuentaID": "6",
                                    "fecha": "2024-01-30"
                                },
                                {
                                    "CuentaID": "5",
                                    "fecha": "2024-01-25"
                                },
                                {
                                    "CuentaID": "4",
                                    "fecha": "2024-01-20"
                                },
                                {
                                    "CuentaID": "3",
                                    "fecha": "2024-01-15"
                                },
                                {
                                    "CuentaID": "2",
                                    "fecha": "2024-01-10"
                                },
                                {
                                    "CuentaID": "1",
                                    "fecha": "2024-01-05"
                                },
                                {
                                    "CuentaID": "56",
                                    "fecha": "2023-12-31"
                                },
                                {
                                    "CuentaID": "55",
                                    "fecha": "2023-12-26"
                                },
                                {
                                    "CuentaID": "54",
                                    "fecha": "2023-12-21"
                                },
                                {
                                    "CuentaID": "53",
                                    "fecha": "2023-12-16"
                                },
                                {
                                    "CuentaID": "52",
                                    "fecha": "2023-12-11"
                                },
                                {
                                    "CuentaID": "51",
                                    "fecha": "2023-12-06"
                                },
                                {
                                    "CuentaID": "50",
                                    "fecha": "2023-12-01"
                                },
                                {
                                    "CuentaID": "49",
                                    "fecha": "2023-11-26"
                                },
                                {
                                    "CuentaID": "48",
                                    "fecha": "2023-11-21"
                                },
                                {
                                    "CuentaID": "47",
                                    "fecha": "2023-11-16"
                                },
                                {
                                    "CuentaID": "46",
                                    "fecha": "2023-11-11"
                                },
                                {
                                    "CuentaID": "45",
                                    "fecha": "2023-11-06"
                                },
                                {
                                    "CuentaID": "44",
                                    "fecha": "2023-11-01"
                                },
                                {
                                    "CuentaID": "43",
                                    "fecha": "2023-10-27"
                                },
                                {
                                    "CuentaID": "42",
                                    "fecha": "2023-10-22"
                                },
                                {
                                    "CuentaID": "41",
                                    "fecha": "2023-10-17"
                                },
                                {
                                    "CuentaID": "40",
                                    "fecha": "2023-10-12"
                                },
                                {
                                    "CuentaID": "39",
                                    "fecha": "2023-10-07"
                                },
                                {
                                    "CuentaID": "38",
                                    "fecha": "2023-10-02"
                                },
                                {
                                    "CuentaID": "37",
                                    "fecha": "2023-09-27"
                                },
                                {
                                    "CuentaID": "36",
                                    "fecha": "2023-09-22"
                                },
                                {
                                    "CuentaID": "35",
                                    "fecha": "2023-09-17"
                                },
                                {
                                    "CuentaID": "34",
                                    "fecha": "2023-09-12"
                                },
                                {
                                    "CuentaID": "33",
                                    "fecha": "2023-09-07"
                                },
                                {
                                    "CuentaID": "32",
                                    "fecha": "2023-09-02"
                                },
                                {
                                    "CuentaID": "31",
                                    "fecha": "2023-08-28"
                                },
                                {
                                    "CuentaID": "30",
                                    "fecha": "2023-08-23"
                                },
                                {
                                    "CuentaID": "29",
                                    "fecha": "2023-08-18"
                                },
                                {
                                    "CuentaID": "28",
                                    "fecha": "2023-08-13"
                                },
                                {
                                    "CuentaID": "27",
                                    "fecha": "2023-08-08"
                                },
                                {
                                    "CuentaID": "26",
                                    "fecha": "2023-08-03"
                                },
                                {
                                    "CuentaID": "25",
                                    "fecha": "2023-07-29"
                                },
                                {
                                    "CuentaID": "24",
                                    "fecha": "2023-07-24"
                                },
                                {
                                    "CuentaID": "23",
                                    "fecha": "2023-07-19"
                                },
                                {
                                    "CuentaID": "22",
                                    "fecha": "2023-07-14"
                                },
                                {
                                    "CuentaID": "21",
                                    "fecha": "2023-07-09"
                                },
                                {
                                    "CuentaID": "20",
                                    "fecha": "2023-07-04"
                                },
                                {
                                    "CuentaID": "19",
                                    "fecha": "2023-06-29"
                                },
                                {
                                    "CuentaID": "18",
                                    "fecha": "2023-06-24"
                                },
                                {
                                    "CuentaID": "17",
                                    "fecha": "2023-06-19"
                                },
                                {
                                    "CuentaID": "16",
                                    "fecha": "2023-06-14"
                                },
                                {
                                    "CuentaID": "15",
                                    "fecha": "2023-06-09"
                                },
                                {
                                    "CuentaID": "14",
                                    "fecha": "2023-06-04"
                                },
                                {
                                    "CuentaID": "13",
                                    "fecha": "2023-05-30"
                                },
                                {
                                    "CuentaID": "12",
                                    "fecha": "2023-05-25"
                                },
                                {
                                    "CuentaID": "11",
                                    "fecha": "2023-05-20"
                                }
                            ]
                        },
                        "text/html": [
                            "<table>",
                            "<tr><th>CuentaID</th><th>fecha</th></tr>",
                            "<tr><td>44</td><td>2024-08-07</td></tr>",
                            "<tr><td>43</td><td>2024-08-02</td></tr>",
                            "<tr><td>42</td><td>2024-07-28</td></tr>",
                            "<tr><td>41</td><td>2024-07-23</td></tr>",
                            "<tr><td>40</td><td>2024-07-18</td></tr>",
                            "<tr><td>39</td><td>2024-07-13</td></tr>",
                            "<tr><td>38</td><td>2024-07-08</td></tr>",
                            "<tr><td>37</td><td>2024-07-03</td></tr>",
                            "<tr><td>36</td><td>2024-06-28</td></tr>",
                            "<tr><td>35</td><td>2024-06-23</td></tr>",
                            "<tr><td>34</td><td>2024-06-18</td></tr>",
                            "<tr><td>33</td><td>2024-06-13</td></tr>",
                            "<tr><td>32</td><td>2024-06-08</td></tr>",
                            "<tr><td>31</td><td>2024-06-03</td></tr>",
                            "<tr><td>30</td><td>2024-05-29</td></tr>",
                            "<tr><td>29</td><td>2024-05-24</td></tr>",
                            "<tr><td>28</td><td>2024-05-19</td></tr>",
                            "<tr><td>27</td><td>2024-05-14</td></tr>",
                            "<tr><td>26</td><td>2024-05-09</td></tr>",
                            "<tr><td>25</td><td>2024-05-04</td></tr>",
                            "<tr><td>24</td><td>2024-04-29</td></tr>",
                            "<tr><td>23</td><td>2024-04-24</td></tr>",
                            "<tr><td>22</td><td>2024-04-19</td></tr>",
                            "<tr><td>21</td><td>2024-04-14</td></tr>",
                            "<tr><td>20</td><td>2024-04-09</td></tr>",
                            "<tr><td>19</td><td>2024-04-04</td></tr>",
                            "<tr><td>18</td><td>2024-03-30</td></tr>",
                            "<tr><td>17</td><td>2024-03-25</td></tr>",
                            "<tr><td>16</td><td>2024-03-20</td></tr>",
                            "<tr><td>15</td><td>2024-03-15</td></tr>",
                            "<tr><td>14</td><td>2024-03-10</td></tr>",
                            "<tr><td>13</td><td>2024-03-05</td></tr>",
                            "<tr><td>12</td><td>2024-02-29</td></tr>",
                            "<tr><td>11</td><td>2024-02-24</td></tr>",
                            "<tr><td>10</td><td>2024-02-19</td></tr>",
                            "<tr><td>9</td><td>2024-02-14</td></tr>",
                            "<tr><td>8</td><td>2024-02-09</td></tr>",
                            "<tr><td>7</td><td>2024-02-04</td></tr>",
                            "<tr><td>6</td><td>2024-01-30</td></tr>",
                            "<tr><td>5</td><td>2024-01-25</td></tr>",
                            "<tr><td>4</td><td>2024-01-20</td></tr>",
                            "<tr><td>3</td><td>2024-01-15</td></tr>",
                            "<tr><td>2</td><td>2024-01-10</td></tr>",
                            "<tr><td>1</td><td>2024-01-05</td></tr>",
                            "<tr><td>56</td><td>2023-12-31</td></tr>",
                            "<tr><td>55</td><td>2023-12-26</td></tr>",
                            "<tr><td>54</td><td>2023-12-21</td></tr>",
                            "<tr><td>53</td><td>2023-12-16</td></tr>",
                            "<tr><td>52</td><td>2023-12-11</td></tr>",
                            "<tr><td>51</td><td>2023-12-06</td></tr>",
                            "<tr><td>50</td><td>2023-12-01</td></tr>",
                            "<tr><td>49</td><td>2023-11-26</td></tr>",
                            "<tr><td>48</td><td>2023-11-21</td></tr>",
                            "<tr><td>47</td><td>2023-11-16</td></tr>",
                            "<tr><td>46</td><td>2023-11-11</td></tr>",
                            "<tr><td>45</td><td>2023-11-06</td></tr>",
                            "<tr><td>44</td><td>2023-11-01</td></tr>",
                            "<tr><td>43</td><td>2023-10-27</td></tr>",
                            "<tr><td>42</td><td>2023-10-22</td></tr>",
                            "<tr><td>41</td><td>2023-10-17</td></tr>",
                            "<tr><td>40</td><td>2023-10-12</td></tr>",
                            "<tr><td>39</td><td>2023-10-07</td></tr>",
                            "<tr><td>38</td><td>2023-10-02</td></tr>",
                            "<tr><td>37</td><td>2023-09-27</td></tr>",
                            "<tr><td>36</td><td>2023-09-22</td></tr>",
                            "<tr><td>35</td><td>2023-09-17</td></tr>",
                            "<tr><td>34</td><td>2023-09-12</td></tr>",
                            "<tr><td>33</td><td>2023-09-07</td></tr>",
                            "<tr><td>32</td><td>2023-09-02</td></tr>",
                            "<tr><td>31</td><td>2023-08-28</td></tr>",
                            "<tr><td>30</td><td>2023-08-23</td></tr>",
                            "<tr><td>29</td><td>2023-08-18</td></tr>",
                            "<tr><td>28</td><td>2023-08-13</td></tr>",
                            "<tr><td>27</td><td>2023-08-08</td></tr>",
                            "<tr><td>26</td><td>2023-08-03</td></tr>",
                            "<tr><td>25</td><td>2023-07-29</td></tr>",
                            "<tr><td>24</td><td>2023-07-24</td></tr>",
                            "<tr><td>23</td><td>2023-07-19</td></tr>",
                            "<tr><td>22</td><td>2023-07-14</td></tr>",
                            "<tr><td>21</td><td>2023-07-09</td></tr>",
                            "<tr><td>20</td><td>2023-07-04</td></tr>",
                            "<tr><td>19</td><td>2023-06-29</td></tr>",
                            "<tr><td>18</td><td>2023-06-24</td></tr>",
                            "<tr><td>17</td><td>2023-06-19</td></tr>",
                            "<tr><td>16</td><td>2023-06-14</td></tr>",
                            "<tr><td>15</td><td>2023-06-09</td></tr>",
                            "<tr><td>14</td><td>2023-06-04</td></tr>",
                            "<tr><td>13</td><td>2023-05-30</td></tr>",
                            "<tr><td>12</td><td>2023-05-25</td></tr>",
                            "<tr><td>11</td><td>2023-05-20</td></tr>",
                            "</table>"
                        ]
                    }
                }
            ],
            "execution_count": 17
        },
        {
            "cell_type": "markdown",
            "source": [
                "**43. ¿Cuál es el monto promedio de transferencias por ciudad de los clientes?**"
            ],
            "metadata": {
                "azdata_cell_guid": "f78ac673-e7e0-479e-b064-198bc43ec8e9",
                "language": "sql"
            },
            "attachments": {}
        },
        {
            "cell_type": "code",
            "source": [
                "SELECT \r\n",
                "    c.Ciudad,\r\n",
                "    AVG(t.Monto) AS MontoPromedioTransferencias\r\n",
                "FROM \r\n",
                "    clientes c\r\n",
                "JOIN \r\n",
                "    cuentas cu ON c.ClienteID = cu.ClienteID\r\n",
                "JOIN \r\n",
                "    transacciones t ON cu.CuentaID = t.CuentaID\r\n",
                "WHERE \r\n",
                "    t.Tipo = 'Transferencia'\r\n",
                "GROUP BY \r\n",
                "    c.Ciudad;"
            ],
            "metadata": {
                "azdata_cell_guid": "42bce1a5-0a6e-4701-890e-0272ca883fc7",
                "language": "sql"
            },
            "outputs": [
                {
                    "output_type": "display_data",
                    "data": {
                        "text/html": "(8 row(s) affected)"
                    },
                    "metadata": {}
                },
                {
                    "output_type": "display_data",
                    "data": {
                        "text/html": "Total execution time: 00:00:01.008"
                    },
                    "metadata": {}
                },
                {
                    "output_type": "execute_result",
                    "metadata": {},
                    "execution_count": 18,
                    "data": {
                        "application/vnd.dataresource+json": {
                            "schema": {
                                "fields": [
                                    {
                                        "name": "Ciudad"
                                    },
                                    {
                                        "name": "MontoPromedioTransferencias"
                                    }
                                ]
                            },
                            "data": [
                                {
                                    "Ciudad": "Barcelona",
                                    "MontoPromedioTransferencias": "1425.000000"
                                },
                                {
                                    "Ciudad": "Málaga",
                                    "MontoPromedioTransferencias": "1100.000000"
                                },
                                {
                                    "Ciudad": "Madrid",
                                    "MontoPromedioTransferencias": "1480.000000"
                                },
                                {
                                    "Ciudad": "Pamplona",
                                    "MontoPromedioTransferencias": "1500.000000"
                                },
                                {
                                    "Ciudad": "Sevilla",
                                    "MontoPromedioTransferencias": "1412.500000"
                                },
                                {
                                    "Ciudad": "Valencia",
                                    "MontoPromedioTransferencias": "1562.500000"
                                },
                                {
                                    "Ciudad": "Zaragoza",
                                    "MontoPromedioTransferencias": "1350.000000"
                                },
                                {
                                    "Ciudad": "Alicante",
                                    "MontoPromedioTransferencias": "1100.000000"
                                }
                            ]
                        },
                        "text/html": [
                            "<table>",
                            "<tr><th>Ciudad</th><th>MontoPromedioTransferencias</th></tr>",
                            "<tr><td>Barcelona</td><td>1425.000000</td></tr>",
                            "<tr><td>Málaga</td><td>1100.000000</td></tr>",
                            "<tr><td>Madrid</td><td>1480.000000</td></tr>",
                            "<tr><td>Pamplona</td><td>1500.000000</td></tr>",
                            "<tr><td>Sevilla</td><td>1412.500000</td></tr>",
                            "<tr><td>Valencia</td><td>1562.500000</td></tr>",
                            "<tr><td>Zaragoza</td><td>1350.000000</td></tr>",
                            "<tr><td>Alicante</td><td>1100.000000</td></tr>",
                            "</table>"
                        ]
                    }
                }
            ],
            "execution_count": 18
        },
        {
            "cell_type": "markdown",
            "source": [
                "**44. ¿Cuáles son los clientes que tienen cuentas con un saldo superior al saldo promedio de todas las cuentas del mismo tipo?**"
            ],
            "metadata": {
                "azdata_cell_guid": "02403e76-42cb-457c-974a-3a0ebfec61ab",
                "language": "sql"
            },
            "attachments": {}
        },
        {
            "cell_type": "code",
            "source": [
                "SELECT \r\n",
                "    c.Nombre,\r\n",
                "    c.Apellido,\r\n",
                "    cu.Saldo\r\n",
                "FROM \r\n",
                "    clientes c\r\n",
                "JOIN \r\n",
                "    cuentas cu ON c.ClienteID = cu.ClienteID\r\n",
                "JOIN (\r\n",
                "    SELECT \r\n",
                "        TipoCuenta,\r\n",
                "        AVG(Saldo) AS SaldoPromedio\r\n",
                "    FROM \r\n",
                "        cuentas\r\n",
                "    GROUP BY \r\n",
                "        TipoCuenta\r\n",
                ") AS SaldoPromedioPorTipo ON cu.TipoCuenta = SaldoPromedioPorTipo.TipoCuenta\r\n",
                "WHERE \r\n",
                "    cu.Saldo > SaldoPromedioPorTipo.SaldoPromedio \r\n",
                "ORDER BY Saldo DESC;"
            ],
            "metadata": {
                "azdata_cell_guid": "93111dde-6a64-4b31-99ed-005b817b308d",
                "language": "sql"
            },
            "outputs": [
                {
                    "output_type": "display_data",
                    "data": {
                        "text/html": "(49 row(s) affected)"
                    },
                    "metadata": {}
                },
                {
                    "output_type": "display_data",
                    "data": {
                        "text/html": "Total execution time: 00:00:01.013"
                    },
                    "metadata": {}
                },
                {
                    "output_type": "execute_result",
                    "metadata": {},
                    "execution_count": 19,
                    "data": {
                        "application/vnd.dataresource+json": {
                            "schema": {
                                "fields": [
                                    {
                                        "name": "Nombre"
                                    },
                                    {
                                        "name": "Apellido"
                                    },
                                    {
                                        "name": "Saldo"
                                    }
                                ]
                            },
                            "data": [
                                {
                                    "Nombre": "María",
                                    "Apellido": "García",
                                    "Saldo": "9876.54"
                                },
                                {
                                    "Nombre": "Julieta",
                                    "Apellido": "Baeza",
                                    "Saldo": "9012.90"
                                },
                                {
                                    "Nombre": "Silvia",
                                    "Apellido": "Vargas",
                                    "Saldo": "9012.90"
                                },
                                {
                                    "Nombre": "Isabella",
                                    "Apellido": "Quintero",
                                    "Saldo": "9012.78"
                                },
                                {
                                    "Nombre": "Amelia",
                                    "Apellido": "Polo",
                                    "Saldo": "9012.78"
                                },
                                {
                                    "Nombre": "Ariana",
                                    "Apellido": "Henríquez",
                                    "Saldo": "9012.56"
                                },
                                {
                                    "Nombre": "Valeria",
                                    "Apellido": "Espinosa",
                                    "Saldo": "9012.56"
                                },
                                {
                                    "Nombre": "Lucía",
                                    "Apellido": "Romero",
                                    "Saldo": "9012.45"
                                },
                                {
                                    "Nombre": "Ángel",
                                    "Apellido": "Zepeda",
                                    "Saldo": "9012.34"
                                },
                                {
                                    "Nombre": "Isabel",
                                    "Apellido": "Ramírez",
                                    "Saldo": "9012.34"
                                },
                                {
                                    "Nombre": "Constanza",
                                    "Apellido": "Avendaño",
                                    "Saldo": "9012.34"
                                },
                                {
                                    "Nombre": "Mariana",
                                    "Apellido": "Pizarro",
                                    "Saldo": "9012.12"
                                },
                                {
                                    "Nombre": "Violeta",
                                    "Apellido": "Ugarte",
                                    "Saldo": "9012.12"
                                },
                                {
                                    "Nombre": "Catalina",
                                    "Apellido": "Solano",
                                    "Saldo": "8765.90"
                                },
                                {
                                    "Nombre": "Álvaro",
                                    "Apellido": "Leal",
                                    "Saldo": "8765.90"
                                },
                                {
                                    "Nombre": "Luana",
                                    "Apellido": "Santamaría",
                                    "Saldo": "8765.78"
                                },
                                {
                                    "Nombre": "Camila",
                                    "Apellido": "Acosta",
                                    "Saldo": "8765.78"
                                },
                                {
                                    "Nombre": "Daniela",
                                    "Apellido": "Cabrera",
                                    "Saldo": "8765.56"
                                },
                                {
                                    "Nombre": "Rafaela",
                                    "Apellido": "Acuña",
                                    "Saldo": "8765.56"
                                },
                                {
                                    "Nombre": "Sofía",
                                    "Apellido": "Torres",
                                    "Saldo": "8765.43"
                                },
                                {
                                    "Nombre": "Renata",
                                    "Apellido": "Segovia",
                                    "Saldo": "8765.34"
                                },
                                {
                                    "Nombre": "Maite",
                                    "Apellido": "Heredia",
                                    "Saldo": "8765.34"
                                },
                                {
                                    "Nombre": "Amanda",
                                    "Apellido": "Parra",
                                    "Saldo": "8765.12"
                                },
                                {
                                    "Nombre": "Adriana",
                                    "Apellido": "Guerrero",
                                    "Saldo": "8765.12"
                                },
                                {
                                    "Nombre": "Alicia",
                                    "Apellido": "Gutiérrez",
                                    "Saldo": "8765.09"
                                },
                                {
                                    "Nombre": "Andrés",
                                    "Apellido": "Herrera",
                                    "Saldo": "5678.90"
                                },
                                {
                                    "Nombre": "Tomás",
                                    "Apellido": "Castañeda",
                                    "Saldo": "5678.90"
                                },
                                {
                                    "Nombre": "Amelia",
                                    "Apellido": "Peña",
                                    "Saldo": "5678.90"
                                },
                                {
                                    "Nombre": "Gustavo",
                                    "Apellido": "Hidalgo",
                                    "Saldo": "5678.78"
                                },
                                {
                                    "Nombre": "Salvador",
                                    "Apellido": "Morales",
                                    "Saldo": "5678.78"
                                },
                                {
                                    "Nombre": "Óscar",
                                    "Apellido": "Ramos",
                                    "Saldo": "5678.67"
                                },
                                {
                                    "Nombre": "Esmeralda",
                                    "Apellido": "Vigil",
                                    "Saldo": "5678.56"
                                },
                                {
                                    "Nombre": "Joaquín",
                                    "Apellido": "Cáceres",
                                    "Saldo": "5678.56"
                                },
                                {
                                    "Nombre": "Leonardo",
                                    "Apellido": "Escobar",
                                    "Saldo": "5678.34"
                                },
                                {
                                    "Nombre": "Ignacio",
                                    "Apellido": "Solís",
                                    "Saldo": "5678.34"
                                },
                                {
                                    "Nombre": "Ezequiel",
                                    "Apellido": "Montero",
                                    "Saldo": "5678.12"
                                },
                                {
                                    "Nombre": "Roberto",
                                    "Apellido": "Sáez",
                                    "Saldo": "5678.12"
                                },
                                {
                                    "Nombre": "Máximo",
                                    "Apellido": "Saldivar",
                                    "Saldo": "4567.90"
                                },
                                {
                                    "Nombre": "Nicolás",
                                    "Apellido": "Ledesma",
                                    "Saldo": "4567.90"
                                },
                                {
                                    "Nombre": "Sergio",
                                    "Apellido": "Navarro",
                                    "Saldo": "4567.89"
                                },
                                {
                                    "Nombre": "Pablo",
                                    "Apellido": "Ortega",
                                    "Saldo": "4567.78"
                                },
                                {
                                    "Nombre": "Maximiliano",
                                    "Apellido": "Yáñez",
                                    "Saldo": "4567.78"
                                },
                                {
                                    "Nombre": "Emiliano",
                                    "Apellido": "Salcedo",
                                    "Saldo": "4567.56"
                                },
                                {
                                    "Nombre": "Gael",
                                    "Apellido": "Bernal",
                                    "Saldo": "4567.56"
                                },
                                {
                                    "Nombre": "Emilio",
                                    "Apellido": "Crespo",
                                    "Saldo": "4567.34"
                                },
                                {
                                    "Nombre": "Ernesto",
                                    "Apellido": "Montes",
                                    "Saldo": "4567.34"
                                },
                                {
                                    "Nombre": "Raúl",
                                    "Apellido": "Vázquez",
                                    "Saldo": "4567.23"
                                },
                                {
                                    "Nombre": "Benjamín",
                                    "Apellido": "Carvajal",
                                    "Saldo": "4567.12"
                                },
                                {
                                    "Nombre": "Dafne",
                                    "Apellido": "Robles",
                                    "Saldo": "4567.12"
                                }
                            ]
                        },
                        "text/html": [
                            "<table>",
                            "<tr><th>Nombre</th><th>Apellido</th><th>Saldo</th></tr>",
                            "<tr><td>María</td><td>García</td><td>9876.54</td></tr>",
                            "<tr><td>Julieta</td><td>Baeza</td><td>9012.90</td></tr>",
                            "<tr><td>Silvia</td><td>Vargas</td><td>9012.90</td></tr>",
                            "<tr><td>Isabella</td><td>Quintero</td><td>9012.78</td></tr>",
                            "<tr><td>Amelia</td><td>Polo</td><td>9012.78</td></tr>",
                            "<tr><td>Ariana</td><td>Henríquez</td><td>9012.56</td></tr>",
                            "<tr><td>Valeria</td><td>Espinosa</td><td>9012.56</td></tr>",
                            "<tr><td>Lucía</td><td>Romero</td><td>9012.45</td></tr>",
                            "<tr><td>Ángel</td><td>Zepeda</td><td>9012.34</td></tr>",
                            "<tr><td>Isabel</td><td>Ramírez</td><td>9012.34</td></tr>",
                            "<tr><td>Constanza</td><td>Avendaño</td><td>9012.34</td></tr>",
                            "<tr><td>Mariana</td><td>Pizarro</td><td>9012.12</td></tr>",
                            "<tr><td>Violeta</td><td>Ugarte</td><td>9012.12</td></tr>",
                            "<tr><td>Catalina</td><td>Solano</td><td>8765.90</td></tr>",
                            "<tr><td>Álvaro</td><td>Leal</td><td>8765.90</td></tr>",
                            "<tr><td>Luana</td><td>Santamaría</td><td>8765.78</td></tr>",
                            "<tr><td>Camila</td><td>Acosta</td><td>8765.78</td></tr>",
                            "<tr><td>Daniela</td><td>Cabrera</td><td>8765.56</td></tr>",
                            "<tr><td>Rafaela</td><td>Acuña</td><td>8765.56</td></tr>",
                            "<tr><td>Sofía</td><td>Torres</td><td>8765.43</td></tr>",
                            "<tr><td>Renata</td><td>Segovia</td><td>8765.34</td></tr>",
                            "<tr><td>Maite</td><td>Heredia</td><td>8765.34</td></tr>",
                            "<tr><td>Amanda</td><td>Parra</td><td>8765.12</td></tr>",
                            "<tr><td>Adriana</td><td>Guerrero</td><td>8765.12</td></tr>",
                            "<tr><td>Alicia</td><td>Gutiérrez</td><td>8765.09</td></tr>",
                            "<tr><td>Andrés</td><td>Herrera</td><td>5678.90</td></tr>",
                            "<tr><td>Tomás</td><td>Castañeda</td><td>5678.90</td></tr>",
                            "<tr><td>Amelia</td><td>Peña</td><td>5678.90</td></tr>",
                            "<tr><td>Gustavo</td><td>Hidalgo</td><td>5678.78</td></tr>",
                            "<tr><td>Salvador</td><td>Morales</td><td>5678.78</td></tr>",
                            "<tr><td>Óscar</td><td>Ramos</td><td>5678.67</td></tr>",
                            "<tr><td>Esmeralda</td><td>Vigil</td><td>5678.56</td></tr>",
                            "<tr><td>Joaquín</td><td>Cáceres</td><td>5678.56</td></tr>",
                            "<tr><td>Leonardo</td><td>Escobar</td><td>5678.34</td></tr>",
                            "<tr><td>Ignacio</td><td>Solís</td><td>5678.34</td></tr>",
                            "<tr><td>Ezequiel</td><td>Montero</td><td>5678.12</td></tr>",
                            "<tr><td>Roberto</td><td>Sáez</td><td>5678.12</td></tr>",
                            "<tr><td>Máximo</td><td>Saldivar</td><td>4567.90</td></tr>",
                            "<tr><td>Nicolás</td><td>Ledesma</td><td>4567.90</td></tr>",
                            "<tr><td>Sergio</td><td>Navarro</td><td>4567.89</td></tr>",
                            "<tr><td>Pablo</td><td>Ortega</td><td>4567.78</td></tr>",
                            "<tr><td>Maximiliano</td><td>Yáñez</td><td>4567.78</td></tr>",
                            "<tr><td>Emiliano</td><td>Salcedo</td><td>4567.56</td></tr>",
                            "<tr><td>Gael</td><td>Bernal</td><td>4567.56</td></tr>",
                            "<tr><td>Emilio</td><td>Crespo</td><td>4567.34</td></tr>",
                            "<tr><td>Ernesto</td><td>Montes</td><td>4567.34</td></tr>",
                            "<tr><td>Raúl</td><td>Vázquez</td><td>4567.23</td></tr>",
                            "<tr><td>Benjamín</td><td>Carvajal</td><td>4567.12</td></tr>",
                            "<tr><td>Dafne</td><td>Robles</td><td>4567.12</td></tr>",
                            "</table>"
                        ]
                    }
                }
            ],
            "execution_count": 19
        },
        {
            "cell_type": "markdown",
            "source": [
                "**45.** **¿Cuál es el monto total de transacciones por trimestre y año?**"
            ],
            "metadata": {
                "azdata_cell_guid": "e790fcc2-75aa-41ce-92a8-046732a7d789",
                "language": "sql"
            },
            "attachments": {}
        },
        {
            "cell_type": "code",
            "source": [
                "SELECT \r\n",
                "    YEAR(Fecha) AS Anio,\r\n",
                "    QUARTER(Fecha) AS Trimestre,\r\n",
                "    SUM(Monto) AS MontoTotal\r\n",
                "FROM \r\n",
                "    transacciones\r\n",
                "GROUP BY \r\n",
                "    Anio, Trimestre\r\n",
                "ORDER BY \r\n",
                "    Anio;"
            ],
            "metadata": {
                "azdata_cell_guid": "42573d1e-fdb5-4217-a357-1e401e0739eb",
                "language": "sql"
            },
            "outputs": [
                {
                    "output_type": "display_data",
                    "data": {
                        "text/html": "(6 row(s) affected)"
                    },
                    "metadata": {}
                },
                {
                    "output_type": "display_data",
                    "data": {
                        "text/html": "Total execution time: 00:00:01.007"
                    },
                    "metadata": {}
                },
                {
                    "output_type": "execute_result",
                    "metadata": {},
                    "execution_count": 20,
                    "data": {
                        "application/vnd.dataresource+json": {
                            "schema": {
                                "fields": [
                                    {
                                        "name": "Anio"
                                    },
                                    {
                                        "name": "Trimestre"
                                    },
                                    {
                                        "name": "MontoTotal"
                                    }
                                ]
                            },
                            "data": [
                                {
                                    "Anio": "2023",
                                    "Trimestre": "2",
                                    "MontoTotal": "15800.00"
                                },
                                {
                                    "Anio": "2023",
                                    "Trimestre": "3",
                                    "MontoTotal": "18530.00"
                                },
                                {
                                    "Anio": "2023",
                                    "Trimestre": "4",
                                    "MontoTotal": "20500.00"
                                },
                                {
                                    "Anio": "2024",
                                    "Trimestre": "1",
                                    "MontoTotal": "24300.00"
                                },
                                {
                                    "Anio": "2024",
                                    "Trimestre": "2",
                                    "MontoTotal": "26050.00"
                                },
                                {
                                    "Anio": "2024",
                                    "Trimestre": "3",
                                    "MontoTotal": "12560.00"
                                }
                            ]
                        },
                        "text/html": [
                            "<table>",
                            "<tr><th>Anio</th><th>Trimestre</th><th>MontoTotal</th></tr>",
                            "<tr><td>2023</td><td>2</td><td>15800.00</td></tr>",
                            "<tr><td>2023</td><td>3</td><td>18530.00</td></tr>",
                            "<tr><td>2023</td><td>4</td><td>20500.00</td></tr>",
                            "<tr><td>2024</td><td>1</td><td>24300.00</td></tr>",
                            "<tr><td>2024</td><td>2</td><td>26050.00</td></tr>",
                            "<tr><td>2024</td><td>3</td><td>12560.00</td></tr>",
                            "</table>"
                        ]
                    }
                }
            ],
            "execution_count": 20
        },
        {
            "cell_type": "markdown",
            "source": [
                "**46. ¿Cuáles son las cuentas que han tenido transacciones en todos los años desde su apertura?**"
            ],
            "metadata": {
                "azdata_cell_guid": "cac91ddb-5c31-435e-b544-7873a4284793",
                "language": "sql"
            },
            "attachments": {}
        },
        {
            "cell_type": "code",
            "source": [
                "SELECT \r\n",
                "    c.CuentaID,\r\n",
                "    cl.Nombre,\r\n",
                "    cl.Apellido\r\n",
                "FROM \r\n",
                "    (SELECT \r\n",
                "        CuentaID\r\n",
                "     FROM \r\n",
                "        transacciones\r\n",
                "     WHERE \r\n",
                "        YEAR(Fecha) IN (2023, 2024)\r\n",
                "     GROUP BY \r\n",
                "        CuentaID\r\n",
                "     HAVING \r\n",
                "        COUNT(DISTINCT YEAR(Fecha)) = 2) AS c\r\n",
                "JOIN \r\n",
                "    cuentas cu ON c.CuentaID = cu.CuentaID\r\n",
                "JOIN \r\n",
                "    clientes cl ON cu.ClienteID = cl.ClienteID;\r\n",
                ""
            ],
            "metadata": {
                "azdata_cell_guid": "c8a9ac4c-71cf-4b2a-a0cb-622d07e09db6",
                "language": "sql"
            },
            "outputs": [
                {
                    "output_type": "display_data",
                    "data": {
                        "text/html": "(44 row(s) affected)"
                    },
                    "metadata": {}
                },
                {
                    "output_type": "display_data",
                    "data": {
                        "text/html": "Total execution time: 00:00:01.008"
                    },
                    "metadata": {}
                },
                {
                    "output_type": "execute_result",
                    "metadata": {},
                    "execution_count": 21,
                    "data": {
                        "application/vnd.dataresource+json": {
                            "schema": {
                                "fields": [
                                    {
                                        "name": "CuentaID"
                                    },
                                    {
                                        "name": "Nombre"
                                    },
                                    {
                                        "name": "Apellido"
                                    }
                                ]
                            },
                            "data": [
                                {
                                    "CuentaID": "1",
                                    "Nombre": "Juan",
                                    "Apellido": "Pérez"
                                },
                                {
                                    "CuentaID": "2",
                                    "Nombre": "Juan",
                                    "Apellido": "Pérez"
                                },
                                {
                                    "CuentaID": "3",
                                    "Nombre": "María",
                                    "Apellido": "García"
                                },
                                {
                                    "CuentaID": "4",
                                    "Nombre": "Pedro",
                                    "Apellido": "Rodríguez"
                                },
                                {
                                    "CuentaID": "5",
                                    "Nombre": "Ana",
                                    "Apellido": "Martínez"
                                },
                                {
                                    "CuentaID": "6",
                                    "Nombre": "Carlos",
                                    "Apellido": "Sánchez"
                                },
                                {
                                    "CuentaID": "7",
                                    "Nombre": "Laura",
                                    "Apellido": "Fernández"
                                },
                                {
                                    "CuentaID": "8",
                                    "Nombre": "Javier",
                                    "Apellido": "Gómez"
                                },
                                {
                                    "CuentaID": "9",
                                    "Nombre": "Sofía",
                                    "Apellido": "Torres"
                                },
                                {
                                    "CuentaID": "10",
                                    "Nombre": "Sergio",
                                    "Apellido": "Navarro"
                                },
                                {
                                    "CuentaID": "11",
                                    "Nombre": "Isabel",
                                    "Apellido": "Ramírez"
                                },
                                {
                                    "CuentaID": "12",
                                    "Nombre": "Andrés",
                                    "Apellido": "Herrera"
                                },
                                {
                                    "CuentaID": "13",
                                    "Nombre": "Marta",
                                    "Apellido": "Jiménez"
                                },
                                {
                                    "CuentaID": "14",
                                    "Nombre": "Luis",
                                    "Apellido": "Moreno"
                                },
                                {
                                    "CuentaID": "15",
                                    "Nombre": "Carla",
                                    "Apellido": "Ruiz"
                                },
                                {
                                    "CuentaID": "16",
                                    "Nombre": "Diego",
                                    "Apellido": "Álvarez"
                                },
                                {
                                    "CuentaID": "17",
                                    "Nombre": "Alicia",
                                    "Apellido": "Gutiérrez"
                                },
                                {
                                    "CuentaID": "18",
                                    "Nombre": "Raúl",
                                    "Apellido": "Vázquez"
                                },
                                {
                                    "CuentaID": "19",
                                    "Nombre": "Lucía",
                                    "Apellido": "Romero"
                                },
                                {
                                    "CuentaID": "20",
                                    "Nombre": "Óscar",
                                    "Apellido": "Ramos"
                                },
                                {
                                    "CuentaID": "21",
                                    "Nombre": "Elena",
                                    "Apellido": "Santos"
                                },
                                {
                                    "CuentaID": "22",
                                    "Nombre": "Alejandro",
                                    "Apellido": "Flores"
                                },
                                {
                                    "CuentaID": "23",
                                    "Nombre": "Cristina",
                                    "Apellido": "Molina"
                                },
                                {
                                    "CuentaID": "24",
                                    "Nombre": "Mario",
                                    "Apellido": "Castillo"
                                },
                                {
                                    "CuentaID": "25",
                                    "Nombre": "Daniela",
                                    "Apellido": "Cabrera"
                                },
                                {
                                    "CuentaID": "26",
                                    "Nombre": "Pablo",
                                    "Apellido": "Ortega"
                                },
                                {
                                    "CuentaID": "27",
                                    "Nombre": "Silvia",
                                    "Apellido": "Vargas"
                                },
                                {
                                    "CuentaID": "28",
                                    "Nombre": "Roberto",
                                    "Apellido": "Sáez"
                                },
                                {
                                    "CuentaID": "29",
                                    "Nombre": "Carolina",
                                    "Apellido": "Pardo"
                                },
                                {
                                    "CuentaID": "30",
                                    "Nombre": "David",
                                    "Apellido": "Rojas"
                                },
                                {
                                    "CuentaID": "31",
                                    "Nombre": "Claudia",
                                    "Apellido": "Suárez"
                                },
                                {
                                    "CuentaID": "32",
                                    "Nombre": "Francisco",
                                    "Apellido": "Ríos"
                                },
                                {
                                    "CuentaID": "33",
                                    "Nombre": "Adriana",
                                    "Apellido": "Guerrero"
                                },
                                {
                                    "CuentaID": "34",
                                    "Nombre": "Ernesto",
                                    "Apellido": "Montes"
                                },
                                {
                                    "CuentaID": "35",
                                    "Nombre": "Valeria",
                                    "Apellido": "Espinosa"
                                },
                                {
                                    "CuentaID": "36",
                                    "Nombre": "Gustavo",
                                    "Apellido": "Hidalgo"
                                },
                                {
                                    "CuentaID": "37",
                                    "Nombre": "Natalia",
                                    "Apellido": "Aguilar"
                                },
                                {
                                    "CuentaID": "38",
                                    "Nombre": "Rodrigo",
                                    "Apellido": "Serrano"
                                },
                                {
                                    "CuentaID": "39",
                                    "Nombre": "Gabriela",
                                    "Apellido": "Arias"
                                },
                                {
                                    "CuentaID": "40",
                                    "Nombre": "Mateo",
                                    "Apellido": "Córdoba"
                                },
                                {
                                    "CuentaID": "41",
                                    "Nombre": "Camila",
                                    "Apellido": "Acosta"
                                },
                                {
                                    "CuentaID": "42",
                                    "Nombre": "Nicolás",
                                    "Apellido": "Ledesma"
                                },
                                {
                                    "CuentaID": "43",
                                    "Nombre": "Mariana",
                                    "Apellido": "Pizarro"
                                },
                                {
                                    "CuentaID": "44",
                                    "Nombre": "Leonardo",
                                    "Apellido": "Escobar"
                                }
                            ]
                        },
                        "text/html": [
                            "<table>",
                            "<tr><th>CuentaID</th><th>Nombre</th><th>Apellido</th></tr>",
                            "<tr><td>1</td><td>Juan</td><td>Pérez</td></tr>",
                            "<tr><td>2</td><td>Juan</td><td>Pérez</td></tr>",
                            "<tr><td>3</td><td>María</td><td>García</td></tr>",
                            "<tr><td>4</td><td>Pedro</td><td>Rodríguez</td></tr>",
                            "<tr><td>5</td><td>Ana</td><td>Martínez</td></tr>",
                            "<tr><td>6</td><td>Carlos</td><td>Sánchez</td></tr>",
                            "<tr><td>7</td><td>Laura</td><td>Fernández</td></tr>",
                            "<tr><td>8</td><td>Javier</td><td>Gómez</td></tr>",
                            "<tr><td>9</td><td>Sofía</td><td>Torres</td></tr>",
                            "<tr><td>10</td><td>Sergio</td><td>Navarro</td></tr>",
                            "<tr><td>11</td><td>Isabel</td><td>Ramírez</td></tr>",
                            "<tr><td>12</td><td>Andrés</td><td>Herrera</td></tr>",
                            "<tr><td>13</td><td>Marta</td><td>Jiménez</td></tr>",
                            "<tr><td>14</td><td>Luis</td><td>Moreno</td></tr>",
                            "<tr><td>15</td><td>Carla</td><td>Ruiz</td></tr>",
                            "<tr><td>16</td><td>Diego</td><td>Álvarez</td></tr>",
                            "<tr><td>17</td><td>Alicia</td><td>Gutiérrez</td></tr>",
                            "<tr><td>18</td><td>Raúl</td><td>Vázquez</td></tr>",
                            "<tr><td>19</td><td>Lucía</td><td>Romero</td></tr>",
                            "<tr><td>20</td><td>Óscar</td><td>Ramos</td></tr>",
                            "<tr><td>21</td><td>Elena</td><td>Santos</td></tr>",
                            "<tr><td>22</td><td>Alejandro</td><td>Flores</td></tr>",
                            "<tr><td>23</td><td>Cristina</td><td>Molina</td></tr>",
                            "<tr><td>24</td><td>Mario</td><td>Castillo</td></tr>",
                            "<tr><td>25</td><td>Daniela</td><td>Cabrera</td></tr>",
                            "<tr><td>26</td><td>Pablo</td><td>Ortega</td></tr>",
                            "<tr><td>27</td><td>Silvia</td><td>Vargas</td></tr>",
                            "<tr><td>28</td><td>Roberto</td><td>Sáez</td></tr>",
                            "<tr><td>29</td><td>Carolina</td><td>Pardo</td></tr>",
                            "<tr><td>30</td><td>David</td><td>Rojas</td></tr>",
                            "<tr><td>31</td><td>Claudia</td><td>Suárez</td></tr>",
                            "<tr><td>32</td><td>Francisco</td><td>Ríos</td></tr>",
                            "<tr><td>33</td><td>Adriana</td><td>Guerrero</td></tr>",
                            "<tr><td>34</td><td>Ernesto</td><td>Montes</td></tr>",
                            "<tr><td>35</td><td>Valeria</td><td>Espinosa</td></tr>",
                            "<tr><td>36</td><td>Gustavo</td><td>Hidalgo</td></tr>",
                            "<tr><td>37</td><td>Natalia</td><td>Aguilar</td></tr>",
                            "<tr><td>38</td><td>Rodrigo</td><td>Serrano</td></tr>",
                            "<tr><td>39</td><td>Gabriela</td><td>Arias</td></tr>",
                            "<tr><td>40</td><td>Mateo</td><td>Córdoba</td></tr>",
                            "<tr><td>41</td><td>Camila</td><td>Acosta</td></tr>",
                            "<tr><td>42</td><td>Nicolás</td><td>Ledesma</td></tr>",
                            "<tr><td>43</td><td>Mariana</td><td>Pizarro</td></tr>",
                            "<tr><td>44</td><td>Leonardo</td><td>Escobar</td></tr>",
                            "</table>"
                        ]
                    }
                }
            ],
            "execution_count": 21
        },
        {
            "cell_type": "markdown",
            "source": [
                "**47. ¿Cuál es el monto promedio de pagos por rango de saldo de las cuentas?**"
            ],
            "metadata": {
                "azdata_cell_guid": "2760236e-f35a-44e6-aa0a-78310d254a5b",
                "language": "sql"
            },
            "attachments": {}
        },
        {
            "cell_type": "code",
            "source": [
                "SELECT \r\n",
                "    CASE \r\n",
                "        WHEN c.Saldo < 2000 THEN 'Bajo'\r\n",
                "        WHEN c.Saldo >= 2000 AND c.Saldo < 4000 THEN 'Medio'\r\n",
                "        ELSE 'Alto'\r\n",
                "    END AS RangoSaldo,\r\n",
                "    AVG(t.Monto) AS MontoPromedio\r\n",
                "FROM \r\n",
                "    cuentas c\r\n",
                "JOIN \r\n",
                "    transacciones t ON c.CuentaID = t.CuentaID\r\n",
                "WHERE \r\n",
                "    t.Tipo = 'Pago'\r\n",
                "GROUP BY \r\n",
                "    RangoSaldo\r\n",
                "ORDER BY \r\n",
                "    RangoSaldo;"
            ],
            "metadata": {
                "azdata_cell_guid": "be08b67b-1fe2-49a0-b8bb-1b22398adc70",
                "language": "sql"
            },
            "outputs": [
                {
                    "output_type": "display_data",
                    "data": {
                        "text/html": "(3 row(s) affected)"
                    },
                    "metadata": {}
                },
                {
                    "output_type": "display_data",
                    "data": {
                        "text/html": "Total execution time: 00:00:01.008"
                    },
                    "metadata": {}
                },
                {
                    "output_type": "execute_result",
                    "metadata": {},
                    "execution_count": 22,
                    "data": {
                        "application/vnd.dataresource+json": {
                            "schema": {
                                "fields": [
                                    {
                                        "name": "RangoSaldo"
                                    },
                                    {
                                        "name": "MontoPromedio"
                                    }
                                ]
                            },
                            "data": [
                                {
                                    "RangoSaldo": "Alto",
                                    "MontoPromedio": "415.454545"
                                },
                                {
                                    "RangoSaldo": "Bajo",
                                    "MontoPromedio": "350.000000"
                                },
                                {
                                    "RangoSaldo": "Medio",
                                    "MontoPromedio": "512.500000"
                                }
                            ]
                        },
                        "text/html": [
                            "<table>",
                            "<tr><th>RangoSaldo</th><th>MontoPromedio</th></tr>",
                            "<tr><td>Alto</td><td>415.454545</td></tr>",
                            "<tr><td>Bajo</td><td>350.000000</td></tr>",
                            "<tr><td>Medio</td><td>512.500000</td></tr>",
                            "</table>"
                        ]
                    }
                }
            ],
            "execution_count": 22
        },
        {
            "cell_type": "markdown",
            "source": [
                "**48. ¿Cuáles son los clientes que tienen cuentas con un saldo superior al saldo máximo de todas las cuentas corrientes?**"
            ],
            "metadata": {
                "azdata_cell_guid": "be60c31f-b27e-4411-accf-fbb3a5bd706d",
                "language": "sql"
            },
            "attachments": {}
        },
        {
            "cell_type": "code",
            "source": [
                "SELECT \r\n",
                "    cl.Nombre,\r\n",
                "    cl.Apellido,\r\n",
                "    c.CuentaID,\r\n",
                "    c.Saldo\r\n",
                "FROM \r\n",
                "    cuentas c\r\n",
                "JOIN \r\n",
                "    clientes cl ON c.ClienteID = cl.ClienteID\r\n",
                "WHERE \r\n",
                "    c.Saldo > (SELECT MAX(Saldo) FROM cuentas WHERE TipoCuenta = 'Corriente')\r\n",
                "ORDER BY Saldo DESC;\r\n",
                ""
            ],
            "metadata": {
                "azdata_cell_guid": "2a466210-bf38-4292-88e9-57ebacc69e01",
                "language": "sql"
            },
            "outputs": [
                {
                    "output_type": "display_data",
                    "data": {
                        "text/html": "(49 row(s) affected)"
                    },
                    "metadata": {}
                },
                {
                    "output_type": "display_data",
                    "data": {
                        "text/html": "Total execution time: 00:00:01.009"
                    },
                    "metadata": {}
                },
                {
                    "output_type": "execute_result",
                    "metadata": {},
                    "execution_count": 23,
                    "data": {
                        "application/vnd.dataresource+json": {
                            "schema": {
                                "fields": [
                                    {
                                        "name": "Nombre"
                                    },
                                    {
                                        "name": "Apellido"
                                    },
                                    {
                                        "name": "CuentaID"
                                    },
                                    {
                                        "name": "Saldo"
                                    }
                                ]
                            },
                            "data": [
                                {
                                    "Nombre": "María",
                                    "Apellido": "García",
                                    "CuentaID": "3",
                                    "Saldo": "9876.54"
                                },
                                {
                                    "Nombre": "Julieta",
                                    "Apellido": "Baeza",
                                    "CuentaID": "67",
                                    "Saldo": "9012.90"
                                },
                                {
                                    "Nombre": "Silvia",
                                    "Apellido": "Vargas",
                                    "CuentaID": "27",
                                    "Saldo": "9012.90"
                                },
                                {
                                    "Nombre": "Amelia",
                                    "Apellido": "Polo",
                                    "CuentaID": "91",
                                    "Saldo": "9012.78"
                                },
                                {
                                    "Nombre": "Isabella",
                                    "Apellido": "Quintero",
                                    "CuentaID": "51",
                                    "Saldo": "9012.78"
                                },
                                {
                                    "Nombre": "Ariana",
                                    "Apellido": "Henríquez",
                                    "CuentaID": "75",
                                    "Saldo": "9012.56"
                                },
                                {
                                    "Nombre": "Valeria",
                                    "Apellido": "Espinosa",
                                    "CuentaID": "35",
                                    "Saldo": "9012.56"
                                },
                                {
                                    "Nombre": "Lucía",
                                    "Apellido": "Romero",
                                    "CuentaID": "19",
                                    "Saldo": "9012.45"
                                },
                                {
                                    "Nombre": "Isabel",
                                    "Apellido": "Ramírez",
                                    "CuentaID": "11",
                                    "Saldo": "9012.34"
                                },
                                {
                                    "Nombre": "Ángel",
                                    "Apellido": "Zepeda",
                                    "CuentaID": "99",
                                    "Saldo": "9012.34"
                                },
                                {
                                    "Nombre": "Constanza",
                                    "Apellido": "Avendaño",
                                    "CuentaID": "59",
                                    "Saldo": "9012.34"
                                },
                                {
                                    "Nombre": "Mariana",
                                    "Apellido": "Pizarro",
                                    "CuentaID": "43",
                                    "Saldo": "9012.12"
                                },
                                {
                                    "Nombre": "Violeta",
                                    "Apellido": "Ugarte",
                                    "CuentaID": "83",
                                    "Saldo": "9012.12"
                                },
                                {
                                    "Nombre": "Catalina",
                                    "Apellido": "Solano",
                                    "CuentaID": "57",
                                    "Saldo": "8765.90"
                                },
                                {
                                    "Nombre": "Álvaro",
                                    "Apellido": "Leal",
                                    "CuentaID": "97",
                                    "Saldo": "8765.90"
                                },
                                {
                                    "Nombre": "Camila",
                                    "Apellido": "Acosta",
                                    "CuentaID": "41",
                                    "Saldo": "8765.78"
                                },
                                {
                                    "Nombre": "Luana",
                                    "Apellido": "Santamaría",
                                    "CuentaID": "81",
                                    "Saldo": "8765.78"
                                },
                                {
                                    "Nombre": "Daniela",
                                    "Apellido": "Cabrera",
                                    "CuentaID": "25",
                                    "Saldo": "8765.56"
                                },
                                {
                                    "Nombre": "Rafaela",
                                    "Apellido": "Acuña",
                                    "CuentaID": "65",
                                    "Saldo": "8765.56"
                                },
                                {
                                    "Nombre": "Sofía",
                                    "Apellido": "Torres",
                                    "CuentaID": "9",
                                    "Saldo": "8765.43"
                                },
                                {
                                    "Nombre": "Renata",
                                    "Apellido": "Segovia",
                                    "CuentaID": "49",
                                    "Saldo": "8765.34"
                                },
                                {
                                    "Nombre": "Maite",
                                    "Apellido": "Heredia",
                                    "CuentaID": "89",
                                    "Saldo": "8765.34"
                                },
                                {
                                    "Nombre": "Amanda",
                                    "Apellido": "Parra",
                                    "CuentaID": "73",
                                    "Saldo": "8765.12"
                                },
                                {
                                    "Nombre": "Adriana",
                                    "Apellido": "Guerrero",
                                    "CuentaID": "33",
                                    "Saldo": "8765.12"
                                },
                                {
                                    "Nombre": "Alicia",
                                    "Apellido": "Gutiérrez",
                                    "CuentaID": "17",
                                    "Saldo": "8765.09"
                                },
                                {
                                    "Nombre": "Fernanda",
                                    "Apellido": "Tapia",
                                    "CuentaID": "77",
                                    "Saldo": "7890.90"
                                },
                                {
                                    "Nombre": "Natalia",
                                    "Apellido": "Aguilar",
                                    "CuentaID": "37",
                                    "Saldo": "7890.90"
                                },
                                {
                                    "Nombre": "Elena",
                                    "Apellido": "Santos",
                                    "CuentaID": "21",
                                    "Saldo": "7890.89"
                                },
                                {
                                    "Nombre": "Isadora",
                                    "Apellido": "Echevarría",
                                    "CuentaID": "61",
                                    "Saldo": "7890.78"
                                },
                                {
                                    "Nombre": "Avril",
                                    "Apellido": "Olmedo",
                                    "CuentaID": "85",
                                    "Saldo": "7890.56"
                                },
                                {
                                    "Nombre": "Valentina",
                                    "Apellido": "Piña",
                                    "CuentaID": "45",
                                    "Saldo": "7890.56"
                                },
                                {
                                    "Nombre": "Florencia",
                                    "Apellido": "Quintana",
                                    "CuentaID": "69",
                                    "Saldo": "7890.34"
                                },
                                {
                                    "Nombre": "Carolina",
                                    "Apellido": "Pardo",
                                    "CuentaID": "29",
                                    "Saldo": "7890.34"
                                },
                                {
                                    "Nombre": "Ana",
                                    "Apellido": "Martínez",
                                    "CuentaID": "5",
                                    "Saldo": "7890.25"
                                },
                                {
                                    "Nombre": "Marta",
                                    "Apellido": "Jiménez",
                                    "CuentaID": "13",
                                    "Saldo": "7890.12"
                                },
                                {
                                    "Nombre": "Sofía",
                                    "Apellido": "Uribe",
                                    "CuentaID": "53",
                                    "Saldo": "7890.12"
                                },
                                {
                                    "Nombre": "Bautista",
                                    "Apellido": "Contreras",
                                    "CuentaID": "93",
                                    "Saldo": "7890.12"
                                },
                                {
                                    "Nombre": "Rebeca",
                                    "Apellido": "Cisneros",
                                    "CuentaID": "47",
                                    "Saldo": "6789.90"
                                },
                                {
                                    "Nombre": "Paloma",
                                    "Apellido": "Espinoza",
                                    "CuentaID": "87",
                                    "Saldo": "6789.90"
                                },
                                {
                                    "Nombre": "Claudia",
                                    "Apellido": "Suárez",
                                    "CuentaID": "31",
                                    "Saldo": "6789.78"
                                },
                                {
                                    "Nombre": "Bianca",
                                    "Apellido": "Rendón",
                                    "CuentaID": "71",
                                    "Saldo": "6789.78"
                                },
                                {
                                    "Nombre": "Antonella",
                                    "Apellido": "Rincón",
                                    "CuentaID": "55",
                                    "Saldo": "6789.56"
                                },
                                {
                                    "Nombre": "Tristán",
                                    "Apellido": "Sepúlveda",
                                    "CuentaID": "95",
                                    "Saldo": "6789.56"
                                },
                                {
                                    "Nombre": "Carla",
                                    "Apellido": "Ruiz",
                                    "CuentaID": "15",
                                    "Saldo": "6789.34"
                                },
                                {
                                    "Nombre": "Gabriela",
                                    "Apellido": "Arias",
                                    "CuentaID": "39",
                                    "Saldo": "6789.34"
                                },
                                {
                                    "Nombre": "Dulce",
                                    "Apellido": "Quintero",
                                    "CuentaID": "79",
                                    "Saldo": "6789.34"
                                },
                                {
                                    "Nombre": "Cristina",
                                    "Apellido": "Molina",
                                    "CuentaID": "23",
                                    "Saldo": "6789.12"
                                },
                                {
                                    "Nombre": "Antonia",
                                    "Apellido": "Zúñiga",
                                    "CuentaID": "63",
                                    "Saldo": "6789.12"
                                },
                                {
                                    "Nombre": "Laura",
                                    "Apellido": "Fernández",
                                    "CuentaID": "7",
                                    "Saldo": "6789.01"
                                }
                            ]
                        },
                        "text/html": [
                            "<table>",
                            "<tr><th>Nombre</th><th>Apellido</th><th>CuentaID</th><th>Saldo</th></tr>",
                            "<tr><td>María</td><td>García</td><td>3</td><td>9876.54</td></tr>",
                            "<tr><td>Julieta</td><td>Baeza</td><td>67</td><td>9012.90</td></tr>",
                            "<tr><td>Silvia</td><td>Vargas</td><td>27</td><td>9012.90</td></tr>",
                            "<tr><td>Amelia</td><td>Polo</td><td>91</td><td>9012.78</td></tr>",
                            "<tr><td>Isabella</td><td>Quintero</td><td>51</td><td>9012.78</td></tr>",
                            "<tr><td>Ariana</td><td>Henríquez</td><td>75</td><td>9012.56</td></tr>",
                            "<tr><td>Valeria</td><td>Espinosa</td><td>35</td><td>9012.56</td></tr>",
                            "<tr><td>Lucía</td><td>Romero</td><td>19</td><td>9012.45</td></tr>",
                            "<tr><td>Isabel</td><td>Ramírez</td><td>11</td><td>9012.34</td></tr>",
                            "<tr><td>Ángel</td><td>Zepeda</td><td>99</td><td>9012.34</td></tr>",
                            "<tr><td>Constanza</td><td>Avendaño</td><td>59</td><td>9012.34</td></tr>",
                            "<tr><td>Mariana</td><td>Pizarro</td><td>43</td><td>9012.12</td></tr>",
                            "<tr><td>Violeta</td><td>Ugarte</td><td>83</td><td>9012.12</td></tr>",
                            "<tr><td>Catalina</td><td>Solano</td><td>57</td><td>8765.90</td></tr>",
                            "<tr><td>Álvaro</td><td>Leal</td><td>97</td><td>8765.90</td></tr>",
                            "<tr><td>Camila</td><td>Acosta</td><td>41</td><td>8765.78</td></tr>",
                            "<tr><td>Luana</td><td>Santamaría</td><td>81</td><td>8765.78</td></tr>",
                            "<tr><td>Daniela</td><td>Cabrera</td><td>25</td><td>8765.56</td></tr>",
                            "<tr><td>Rafaela</td><td>Acuña</td><td>65</td><td>8765.56</td></tr>",
                            "<tr><td>Sofía</td><td>Torres</td><td>9</td><td>8765.43</td></tr>",
                            "<tr><td>Renata</td><td>Segovia</td><td>49</td><td>8765.34</td></tr>",
                            "<tr><td>Maite</td><td>Heredia</td><td>89</td><td>8765.34</td></tr>",
                            "<tr><td>Amanda</td><td>Parra</td><td>73</td><td>8765.12</td></tr>",
                            "<tr><td>Adriana</td><td>Guerrero</td><td>33</td><td>8765.12</td></tr>",
                            "<tr><td>Alicia</td><td>Gutiérrez</td><td>17</td><td>8765.09</td></tr>",
                            "<tr><td>Fernanda</td><td>Tapia</td><td>77</td><td>7890.90</td></tr>",
                            "<tr><td>Natalia</td><td>Aguilar</td><td>37</td><td>7890.90</td></tr>",
                            "<tr><td>Elena</td><td>Santos</td><td>21</td><td>7890.89</td></tr>",
                            "<tr><td>Isadora</td><td>Echevarría</td><td>61</td><td>7890.78</td></tr>",
                            "<tr><td>Avril</td><td>Olmedo</td><td>85</td><td>7890.56</td></tr>",
                            "<tr><td>Valentina</td><td>Piña</td><td>45</td><td>7890.56</td></tr>",
                            "<tr><td>Florencia</td><td>Quintana</td><td>69</td><td>7890.34</td></tr>",
                            "<tr><td>Carolina</td><td>Pardo</td><td>29</td><td>7890.34</td></tr>",
                            "<tr><td>Ana</td><td>Martínez</td><td>5</td><td>7890.25</td></tr>",
                            "<tr><td>Marta</td><td>Jiménez</td><td>13</td><td>7890.12</td></tr>",
                            "<tr><td>Sofía</td><td>Uribe</td><td>53</td><td>7890.12</td></tr>",
                            "<tr><td>Bautista</td><td>Contreras</td><td>93</td><td>7890.12</td></tr>",
                            "<tr><td>Rebeca</td><td>Cisneros</td><td>47</td><td>6789.90</td></tr>",
                            "<tr><td>Paloma</td><td>Espinoza</td><td>87</td><td>6789.90</td></tr>",
                            "<tr><td>Claudia</td><td>Suárez</td><td>31</td><td>6789.78</td></tr>",
                            "<tr><td>Bianca</td><td>Rendón</td><td>71</td><td>6789.78</td></tr>",
                            "<tr><td>Antonella</td><td>Rincón</td><td>55</td><td>6789.56</td></tr>",
                            "<tr><td>Tristán</td><td>Sepúlveda</td><td>95</td><td>6789.56</td></tr>",
                            "<tr><td>Carla</td><td>Ruiz</td><td>15</td><td>6789.34</td></tr>",
                            "<tr><td>Gabriela</td><td>Arias</td><td>39</td><td>6789.34</td></tr>",
                            "<tr><td>Dulce</td><td>Quintero</td><td>79</td><td>6789.34</td></tr>",
                            "<tr><td>Cristina</td><td>Molina</td><td>23</td><td>6789.12</td></tr>",
                            "<tr><td>Antonia</td><td>Zúñiga</td><td>63</td><td>6789.12</td></tr>",
                            "<tr><td>Laura</td><td>Fernández</td><td>7</td><td>6789.01</td></tr>",
                            "</table>"
                        ]
                    }
                }
            ],
            "execution_count": 23
        },
        {
            "cell_type": "markdown",
            "source": [
                "**49\\. ¿Cuál es el monto total de transacciones por semana y año?**"
            ],
            "metadata": {
                "azdata_cell_guid": "9d533856-53c5-4237-af76-663a746d6955",
                "language": "sql"
            },
            "attachments": {}
        },
        {
            "cell_type": "code",
            "source": [
                "SELECT \r\n",
                "    YEAR(Fecha) AS Anio,\r\n",
                "    WEEK(Fecha) AS Semana,\r\n",
                "    SUM(Monto) AS MontoTotal\r\n",
                "FROM \r\n",
                "    transacciones\r\n",
                "GROUP BY \r\n",
                "    YEAR(Fecha),\r\n",
                "    WEEK(Fecha)\r\n",
                "ORDER BY \r\n",
                "    YEAR(Fecha);"
            ],
            "metadata": {
                "azdata_cell_guid": "870285e4-a7ac-49fa-843b-0353ad837506",
                "language": "sql"
            },
            "outputs": [
                {
                    "output_type": "display_data",
                    "data": {
                        "text/html": "(73 row(s) affected)"
                    },
                    "metadata": {}
                },
                {
                    "output_type": "display_data",
                    "data": {
                        "text/html": "Total execution time: 00:00:01.027"
                    },
                    "metadata": {}
                },
                {
                    "output_type": "execute_result",
                    "metadata": {},
                    "execution_count": 24,
                    "data": {
                        "application/vnd.dataresource+json": {
                            "schema": {
                                "fields": [
                                    {
                                        "name": "Anio"
                                    },
                                    {
                                        "name": "Semana"
                                    },
                                    {
                                        "name": "MontoTotal"
                                    }
                                ]
                            },
                            "data": [
                                {
                                    "Anio": "2023",
                                    "Semana": "13",
                                    "MontoTotal": "500.00"
                                },
                                {
                                    "Anio": "2023",
                                    "Semana": "14",
                                    "MontoTotal": "200.00"
                                },
                                {
                                    "Anio": "2023",
                                    "Semana": "15",
                                    "MontoTotal": "1300.00"
                                },
                                {
                                    "Anio": "2023",
                                    "Semana": "16",
                                    "MontoTotal": "2000.00"
                                },
                                {
                                    "Anio": "2023",
                                    "Semana": "17",
                                    "MontoTotal": "150.00"
                                },
                                {
                                    "Anio": "2023",
                                    "Semana": "18",
                                    "MontoTotal": "1200.00"
                                },
                                {
                                    "Anio": "2023",
                                    "Semana": "19",
                                    "MontoTotal": "1500.00"
                                },
                                {
                                    "Anio": "2023",
                                    "Semana": "20",
                                    "MontoTotal": "1450.00"
                                },
                                {
                                    "Anio": "2023",
                                    "Semana": "21",
                                    "MontoTotal": "350.00"
                                },
                                {
                                    "Anio": "2023",
                                    "Semana": "22",
                                    "MontoTotal": "2500.00"
                                },
                                {
                                    "Anio": "2023",
                                    "Semana": "23",
                                    "MontoTotal": "1080.00"
                                },
                                {
                                    "Anio": "2023",
                                    "Semana": "24",
                                    "MontoTotal": "450.00"
                                },
                                {
                                    "Anio": "2023",
                                    "Semana": "25",
                                    "MontoTotal": "2020.00"
                                },
                                {
                                    "Anio": "2023",
                                    "Semana": "26",
                                    "MontoTotal": "1100.00"
                                },
                                {
                                    "Anio": "2023",
                                    "Semana": "27",
                                    "MontoTotal": "380.00"
                                },
                                {
                                    "Anio": "2023",
                                    "Semana": "28",
                                    "MontoTotal": "2360.00"
                                },
                                {
                                    "Anio": "2023",
                                    "Semana": "29",
                                    "MontoTotal": "850.00"
                                },
                                {
                                    "Anio": "2023",
                                    "Semana": "30",
                                    "MontoTotal": "2320.00"
                                },
                                {
                                    "Anio": "2023",
                                    "Semana": "31",
                                    "MontoTotal": "240.00"
                                },
                                {
                                    "Anio": "2023",
                                    "Semana": "32",
                                    "MontoTotal": "1300.00"
                                },
                                {
                                    "Anio": "2023",
                                    "Semana": "33",
                                    "MontoTotal": "3090.00"
                                },
                                {
                                    "Anio": "2023",
                                    "Semana": "34",
                                    "MontoTotal": "170.00"
                                },
                                {
                                    "Anio": "2023",
                                    "Semana": "35",
                                    "MontoTotal": "1410.00"
                                },
                                {
                                    "Anio": "2023",
                                    "Semana": "36",
                                    "MontoTotal": "2100.00"
                                },
                                {
                                    "Anio": "2023",
                                    "Semana": "37",
                                    "MontoTotal": "280.00"
                                },
                                {
                                    "Anio": "2023",
                                    "Semana": "38",
                                    "MontoTotal": "1730.00"
                                },
                                {
                                    "Anio": "2023",
                                    "Semana": "39",
                                    "MontoTotal": "2300.00"
                                },
                                {
                                    "Anio": "2023",
                                    "Semana": "40",
                                    "MontoTotal": "1190.00"
                                },
                                {
                                    "Anio": "2023",
                                    "Semana": "41",
                                    "MontoTotal": "480.00"
                                },
                                {
                                    "Anio": "2023",
                                    "Semana": "42",
                                    "MontoTotal": "2400.00"
                                },
                                {
                                    "Anio": "2023",
                                    "Semana": "43",
                                    "MontoTotal": "1760.00"
                                },
                                {
                                    "Anio": "2023",
                                    "Semana": "44",
                                    "MontoTotal": "360.00"
                                },
                                {
                                    "Anio": "2023",
                                    "Semana": "45",
                                    "MontoTotal": "3010.00"
                                },
                                {
                                    "Anio": "2023",
                                    "Semana": "46",
                                    "MontoTotal": "1100.00"
                                },
                                {
                                    "Anio": "2023",
                                    "Semana": "47",
                                    "MontoTotal": "490.00"
                                },
                                {
                                    "Anio": "2023",
                                    "Semana": "48",
                                    "MontoTotal": "2790.00"
                                },
                                {
                                    "Anio": "2023",
                                    "Semana": "49",
                                    "MontoTotal": "1600.00"
                                },
                                {
                                    "Anio": "2023",
                                    "Semana": "50",
                                    "MontoTotal": "3370.00"
                                },
                                {
                                    "Anio": "2023",
                                    "Semana": "51",
                                    "MontoTotal": "230.00"
                                },
                                {
                                    "Anio": "2023",
                                    "Semana": "52",
                                    "MontoTotal": "1200.00"
                                },
                                {
                                    "Anio": "2023",
                                    "Semana": "53",
                                    "MontoTotal": "520.00"
                                },
                                {
                                    "Anio": "2024",
                                    "Semana": "0",
                                    "MontoTotal": "2600.00"
                                },
                                {
                                    "Anio": "2024",
                                    "Semana": "1",
                                    "MontoTotal": "300.00"
                                },
                                {
                                    "Anio": "2024",
                                    "Semana": "2",
                                    "MontoTotal": "2100.00"
                                },
                                {
                                    "Anio": "2024",
                                    "Semana": "3",
                                    "MontoTotal": "3200.00"
                                },
                                {
                                    "Anio": "2024",
                                    "Semana": "4",
                                    "MontoTotal": "250.00"
                                },
                                {
                                    "Anio": "2024",
                                    "Semana": "5",
                                    "MontoTotal": "1830.00"
                                },
                                {
                                    "Anio": "2024",
                                    "Semana": "6",
                                    "MontoTotal": "2700.00"
                                },
                                {
                                    "Anio": "2024",
                                    "Semana": "7",
                                    "MontoTotal": "2120.00"
                                },
                                {
                                    "Anio": "2024",
                                    "Semana": "8",
                                    "MontoTotal": "430.00"
                                },
                                {
                                    "Anio": "2024",
                                    "Semana": "9",
                                    "MontoTotal": "3400.00"
                                },
                                {
                                    "Anio": "2024",
                                    "Semana": "10",
                                    "MontoTotal": "1670.00"
                                },
                                {
                                    "Anio": "2024",
                                    "Semana": "11",
                                    "MontoTotal": "560.00"
                                },
                                {
                                    "Anio": "2024",
                                    "Semana": "12",
                                    "MontoTotal": "3140.00"
                                },
                                {
                                    "Anio": "2024",
                                    "Semana": "13",
                                    "MontoTotal": "1900.00"
                                },
                                {
                                    "Anio": "2024",
                                    "Semana": "14",
                                    "MontoTotal": "460.00"
                                },
                                {
                                    "Anio": "2024",
                                    "Semana": "15",
                                    "MontoTotal": "3780.00"
                                },
                                {
                                    "Anio": "2024",
                                    "Semana": "16",
                                    "MontoTotal": "1500.00"
                                },
                                {
                                    "Anio": "2024",
                                    "Semana": "17",
                                    "MontoTotal": "3490.00"
                                },
                                {
                                    "Anio": "2024",
                                    "Semana": "18",
                                    "MontoTotal": "360.00"
                                },
                                {
                                    "Anio": "2024",
                                    "Semana": "19",
                                    "MontoTotal": "2000.00"
                                },
                                {
                                    "Anio": "2024",
                                    "Semana": "20",
                                    "MontoTotal": "4070.00"
                                },
                                {
                                    "Anio": "2024",
                                    "Semana": "21",
                                    "MontoTotal": "290.00"
                                },
                                {
                                    "Anio": "2024",
                                    "Semana": "22",
                                    "MontoTotal": "2220.00"
                                },
                                {
                                    "Anio": "2024",
                                    "Semana": "23",
                                    "MontoTotal": "3000.00"
                                },
                                {
                                    "Anio": "2024",
                                    "Semana": "24",
                                    "MontoTotal": "380.00"
                                },
                                {
                                    "Anio": "2024",
                                    "Semana": "25",
                                    "MontoTotal": "2600.00"
                                },
                                {
                                    "Anio": "2024",
                                    "Semana": "26",
                                    "MontoTotal": "3700.00"
                                },
                                {
                                    "Anio": "2024",
                                    "Semana": "27",
                                    "MontoTotal": "2010.00"
                                },
                                {
                                    "Anio": "2024",
                                    "Semana": "28",
                                    "MontoTotal": "630.00"
                                },
                                {
                                    "Anio": "2024",
                                    "Semana": "29",
                                    "MontoTotal": "3100.00"
                                },
                                {
                                    "Anio": "2024",
                                    "Semana": "30",
                                    "MontoTotal": "2590.00"
                                },
                                {
                                    "Anio": "2024",
                                    "Semana": "31",
                                    "MontoTotal": "530.00"
                                }
                            ]
                        },
                        "text/html": [
                            "<table>",
                            "<tr><th>Anio</th><th>Semana</th><th>MontoTotal</th></tr>",
                            "<tr><td>2023</td><td>13</td><td>500.00</td></tr>",
                            "<tr><td>2023</td><td>14</td><td>200.00</td></tr>",
                            "<tr><td>2023</td><td>15</td><td>1300.00</td></tr>",
                            "<tr><td>2023</td><td>16</td><td>2000.00</td></tr>",
                            "<tr><td>2023</td><td>17</td><td>150.00</td></tr>",
                            "<tr><td>2023</td><td>18</td><td>1200.00</td></tr>",
                            "<tr><td>2023</td><td>19</td><td>1500.00</td></tr>",
                            "<tr><td>2023</td><td>20</td><td>1450.00</td></tr>",
                            "<tr><td>2023</td><td>21</td><td>350.00</td></tr>",
                            "<tr><td>2023</td><td>22</td><td>2500.00</td></tr>",
                            "<tr><td>2023</td><td>23</td><td>1080.00</td></tr>",
                            "<tr><td>2023</td><td>24</td><td>450.00</td></tr>",
                            "<tr><td>2023</td><td>25</td><td>2020.00</td></tr>",
                            "<tr><td>2023</td><td>26</td><td>1100.00</td></tr>",
                            "<tr><td>2023</td><td>27</td><td>380.00</td></tr>",
                            "<tr><td>2023</td><td>28</td><td>2360.00</td></tr>",
                            "<tr><td>2023</td><td>29</td><td>850.00</td></tr>",
                            "<tr><td>2023</td><td>30</td><td>2320.00</td></tr>",
                            "<tr><td>2023</td><td>31</td><td>240.00</td></tr>",
                            "<tr><td>2023</td><td>32</td><td>1300.00</td></tr>",
                            "<tr><td>2023</td><td>33</td><td>3090.00</td></tr>",
                            "<tr><td>2023</td><td>34</td><td>170.00</td></tr>",
                            "<tr><td>2023</td><td>35</td><td>1410.00</td></tr>",
                            "<tr><td>2023</td><td>36</td><td>2100.00</td></tr>",
                            "<tr><td>2023</td><td>37</td><td>280.00</td></tr>",
                            "<tr><td>2023</td><td>38</td><td>1730.00</td></tr>",
                            "<tr><td>2023</td><td>39</td><td>2300.00</td></tr>",
                            "<tr><td>2023</td><td>40</td><td>1190.00</td></tr>",
                            "<tr><td>2023</td><td>41</td><td>480.00</td></tr>",
                            "<tr><td>2023</td><td>42</td><td>2400.00</td></tr>",
                            "<tr><td>2023</td><td>43</td><td>1760.00</td></tr>",
                            "<tr><td>2023</td><td>44</td><td>360.00</td></tr>",
                            "<tr><td>2023</td><td>45</td><td>3010.00</td></tr>",
                            "<tr><td>2023</td><td>46</td><td>1100.00</td></tr>",
                            "<tr><td>2023</td><td>47</td><td>490.00</td></tr>",
                            "<tr><td>2023</td><td>48</td><td>2790.00</td></tr>",
                            "<tr><td>2023</td><td>49</td><td>1600.00</td></tr>",
                            "<tr><td>2023</td><td>50</td><td>3370.00</td></tr>",
                            "<tr><td>2023</td><td>51</td><td>230.00</td></tr>",
                            "<tr><td>2023</td><td>52</td><td>1200.00</td></tr>",
                            "<tr><td>2023</td><td>53</td><td>520.00</td></tr>",
                            "<tr><td>2024</td><td>0</td><td>2600.00</td></tr>",
                            "<tr><td>2024</td><td>1</td><td>300.00</td></tr>",
                            "<tr><td>2024</td><td>2</td><td>2100.00</td></tr>",
                            "<tr><td>2024</td><td>3</td><td>3200.00</td></tr>",
                            "<tr><td>2024</td><td>4</td><td>250.00</td></tr>",
                            "<tr><td>2024</td><td>5</td><td>1830.00</td></tr>",
                            "<tr><td>2024</td><td>6</td><td>2700.00</td></tr>",
                            "<tr><td>2024</td><td>7</td><td>2120.00</td></tr>",
                            "<tr><td>2024</td><td>8</td><td>430.00</td></tr>",
                            "<tr><td>2024</td><td>9</td><td>3400.00</td></tr>",
                            "<tr><td>2024</td><td>10</td><td>1670.00</td></tr>",
                            "<tr><td>2024</td><td>11</td><td>560.00</td></tr>",
                            "<tr><td>2024</td><td>12</td><td>3140.00</td></tr>",
                            "<tr><td>2024</td><td>13</td><td>1900.00</td></tr>",
                            "<tr><td>2024</td><td>14</td><td>460.00</td></tr>",
                            "<tr><td>2024</td><td>15</td><td>3780.00</td></tr>",
                            "<tr><td>2024</td><td>16</td><td>1500.00</td></tr>",
                            "<tr><td>2024</td><td>17</td><td>3490.00</td></tr>",
                            "<tr><td>2024</td><td>18</td><td>360.00</td></tr>",
                            "<tr><td>2024</td><td>19</td><td>2000.00</td></tr>",
                            "<tr><td>2024</td><td>20</td><td>4070.00</td></tr>",
                            "<tr><td>2024</td><td>21</td><td>290.00</td></tr>",
                            "<tr><td>2024</td><td>22</td><td>2220.00</td></tr>",
                            "<tr><td>2024</td><td>23</td><td>3000.00</td></tr>",
                            "<tr><td>2024</td><td>24</td><td>380.00</td></tr>",
                            "<tr><td>2024</td><td>25</td><td>2600.00</td></tr>",
                            "<tr><td>2024</td><td>26</td><td>3700.00</td></tr>",
                            "<tr><td>2024</td><td>27</td><td>2010.00</td></tr>",
                            "<tr><td>2024</td><td>28</td><td>630.00</td></tr>",
                            "<tr><td>2024</td><td>29</td><td>3100.00</td></tr>",
                            "<tr><td>2024</td><td>30</td><td>2590.00</td></tr>",
                            "<tr><td>2024</td><td>31</td><td>530.00</td></tr>",
                            "</table>"
                        ]
                    }
                }
            ],
            "execution_count": 24
        },
        {
            "cell_type": "markdown",
            "source": [
                "**50. ¿Cuáles son las cuentas que han tenido transacciones en todas las semanas del año en curso?**"
            ],
            "metadata": {
                "azdata_cell_guid": "68fb7ade-cf4f-473a-aa39-4f93a252192c",
                "language": "sql"
            },
            "attachments": {}
        },
        {
            "cell_type": "code",
            "source": [
                "SELECT \r\n",
                "    CuentaID\r\n",
                "FROM \r\n",
                "    transacciones\r\n",
                "WHERE \r\n",
                "    YEAR(Fecha) = 2024\r\n",
                "GROUP BY \r\n",
                "    CuentaID\r\n",
                "HAVING \r\n",
                "    COUNT(DISTINCT WEEK(Fecha)) = (\r\n",
                "        SELECT \r\n",
                "            COUNT(DISTINCT WEEK(Fecha))\r\n",
                "        FROM \r\n",
                "            transacciones\r\n",
                "        WHERE \r\n",
                "            YEAR(Fecha) = 2024\r\n",
                "    );"
            ],
            "metadata": {
                "azdata_cell_guid": "07525ba3-3027-42e4-a176-f01670f29045",
                "language": "sql"
            },
            "outputs": [
                {
                    "output_type": "display_data",
                    "data": {
                        "text/html": "(0 row(s) affected)"
                    },
                    "metadata": {}
                },
                {
                    "output_type": "display_data",
                    "data": {
                        "text/html": "Total execution time: 00:00:01.026"
                    },
                    "metadata": {}
                },
                {
                    "output_type": "execute_result",
                    "metadata": {},
                    "execution_count": 25,
                    "data": {
                        "application/vnd.dataresource+json": {
                            "schema": {
                                "fields": [
                                    {
                                        "name": "CuentaID"
                                    }
                                ]
                            },
                            "data": []
                        },
                        "text/html": [
                            "<table>",
                            "<tr><th>CuentaID</th></tr>",
                            "</table>"
                        ]
                    }
                }
            ],
            "execution_count": 25
        },
        {
            "cell_type": "markdown",
            "source": [
                "**51. ¿Cuál es la cuenta con el monto máximo de depósito?**"
            ],
            "metadata": {
                "azdata_cell_guid": "11dddc55-816b-47bc-b821-c5b5fde4b39e",
                "language": "sql"
            },
            "attachments": {}
        },
        {
            "cell_type": "code",
            "source": [
                "SELECT \r\n",
                "    t.CuentaID,\r\n",
                "    MAX(t.Monto) AS MontoMaximoDeposito\r\n",
                "FROM \r\n",
                "    transacciones t\r\n",
                "WHERE \r\n",
                "    t.Tipo = 'Depósito'\r\n",
                "GROUP BY \r\n",
                "    t.CuentaID\r\n",
                "ORDER BY \r\n",
                "    MontoMaximoDeposito DESC\r\n",
                "LIMIT 1;"
            ],
            "metadata": {
                "azdata_cell_guid": "1ecdb83e-ab00-4033-9a85-180ef2e42915",
                "language": "sql"
            },
            "outputs": [
                {
                    "output_type": "display_data",
                    "data": {
                        "text/html": "(1 row(s) affected)"
                    },
                    "metadata": {}
                },
                {
                    "output_type": "display_data",
                    "data": {
                        "text/html": "Total execution time: 00:00:01.006"
                    },
                    "metadata": {}
                },
                {
                    "output_type": "execute_result",
                    "metadata": {},
                    "execution_count": 26,
                    "data": {
                        "application/vnd.dataresource+json": {
                            "schema": {
                                "fields": [
                                    {
                                        "name": "CuentaID"
                                    },
                                    {
                                        "name": "MontoMaximoDeposito"
                                    }
                                ]
                            },
                            "data": [
                                {
                                    "CuentaID": "37",
                                    "MontoMaximoDeposito": "3700.00"
                                }
                            ]
                        },
                        "text/html": [
                            "<table>",
                            "<tr><th>CuentaID</th><th>MontoMaximoDeposito</th></tr>",
                            "<tr><td>37</td><td>3700.00</td></tr>",
                            "</table>"
                        ]
                    }
                }
            ],
            "execution_count": 26
        },
        {
            "cell_type": "markdown",
            "source": [
                "**52. ¿Cuál es el cliente con la edad máxima?**"
            ],
            "metadata": {
                "azdata_cell_guid": "b005749f-2665-4d3e-9615-59428ce3e52b",
                "language": "sql"
            },
            "attachments": {}
        },
        {
            "cell_type": "code",
            "source": [
                "SELECT \r\n",
                "    Nombre,\r\n",
                "    Apellido,\r\n",
                "    FechaNacimiento,\r\n",
                "    DATEDIFF(CURRENT_DATE(), FechaNacimiento) / 365 AS Edad\r\n",
                "FROM \r\n",
                "    clientes\r\n",
                "ORDER BY \r\n",
                "    FechaNacimiento ASC \r\n",
                "LIMIT 1;"
            ],
            "metadata": {
                "azdata_cell_guid": "394c0ac8-225c-4ab8-9221-29f2b804dad0",
                "language": "sql"
            },
            "outputs": [
                {
                    "output_type": "display_data",
                    "data": {
                        "text/html": "(1 row(s) affected)"
                    },
                    "metadata": {}
                },
                {
                    "output_type": "display_data",
                    "data": {
                        "text/html": "Total execution time: 00:00:01.029"
                    },
                    "metadata": {}
                },
                {
                    "output_type": "execute_result",
                    "metadata": {},
                    "execution_count": 27,
                    "data": {
                        "application/vnd.dataresource+json": {
                            "schema": {
                                "fields": [
                                    {
                                        "name": "Nombre"
                                    },
                                    {
                                        "name": "Apellido"
                                    },
                                    {
                                        "name": "FechaNacimiento"
                                    },
                                    {
                                        "name": "Edad"
                                    }
                                ]
                            },
                            "data": [
                                {
                                    "Nombre": "Sofía",
                                    "Apellido": "Torres",
                                    "FechaNacimiento": "1975-02-10",
                                    "Edad": "49.3096"
                                }
                            ]
                        },
                        "text/html": [
                            "<table>",
                            "<tr><th>Nombre</th><th>Apellido</th><th>FechaNacimiento</th><th>Edad</th></tr>",
                            "<tr><td>Sofía</td><td>Torres</td><td>1975-02-10</td><td>49.3096</td></tr>",
                            "</table>"
                        ]
                    }
                }
            ],
            "execution_count": 27
        }
    ]
}