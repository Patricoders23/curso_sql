{
    "metadata": {
        "kernelspec": {
            "name": "SQL",
            "display_name": "SQL",
            "language": "sql"
        },
        "language_info": {
            "name": "sql",
            "version": ""
        }
    },
    "nbformat_minor": 2,
    "nbformat": 4,
    "cells": [
        {
            "cell_type": "markdown",
            "source": [
                "# Practica 5 - Consultas en sobre una tabla"
            ],
            "metadata": {
                "azdata_cell_guid": "d015962e-9236-48c7-9e27-71b407d8be22"
            },
            "attachments": {}
        },
        {
            "cell_type": "markdown",
            "source": [
                "1. Conectarse a MySQL Workbench (suele aparecer como **localhost, \\<default\\> (root)**<span style=\"font-size:14px;\">)</span>\n",
                "2. Verificar desde Azure Data Studio (conectado a MySQL) que la base de datos: **empleadoss\\_departamentoss** aparece en <mark>Databases</mark>.\n",
                "3. Empezar a resolver las 'querys' (consultas) que se te plantean mas abajo.\n",
                "4. Las respuestas de cada consulta se encuentran al final de este Notebook.\n",
                "5. Una vez terminada la practica, guardar los cambios en tu repo local y en remoto. \n",
                "6. Realizar la entrega de tu notebook en un archivo comprimido en .zip"
            ],
            "metadata": {
                "azdata_cell_guid": "5d2b0223-2a5b-4202-8a90-e4589c19462c"
            },
            "attachments": {}
        },
        {
            "cell_type": "markdown",
            "source": [
                "## **Preguntas:**"
            ],
            "metadata": {
                "azdata_cell_guid": "4da0a939-e568-42ae-824e-db6c183338b1"
            },
            "attachments": {}
        },
        {
            "cell_type": "markdown",
            "source": [
                "### \n",
                "\n",
                "1. <span style=\"color: rgb(102, 102, 102); font-family: Poppins; font-size: 15px; background-color: rgb(255, 255, 255);\">Obtener los datos completos de los empleados.</span>"
            ],
            "metadata": {
                "azdata_cell_guid": "aa984013-bea9-47bc-bc3e-f81c332e182c"
            },
            "attachments": {}
        },
        {
            "cell_type": "code",
            "source": [
                "USE empleados;\r\n",
                "SELECT *\r\n",
                "FROM empleados;"
            ],
            "metadata": {
                "azdata_cell_guid": "c408c09d-d498-421f-9cae-03cfc9d09a06",
                "language": "sql",
                "tags": []
            },
            "outputs": [
                {
                    "output_type": "display_data",
                    "data": {
                        "text/html": "Commands completed successfully"
                    },
                    "metadata": {}
                },
                {
                    "output_type": "display_data",
                    "data": {
                        "text/html": "(26 row(s) affected)"
                    },
                    "metadata": {}
                },
                {
                    "output_type": "display_data",
                    "data": {
                        "text/html": "Total execution time: 00:00:01.009"
                    },
                    "metadata": {}
                },
                {
                    "output_type": "execute_result",
                    "metadata": {},
                    "execution_count": 2,
                    "data": {
                        "application/vnd.dataresource+json": {
                            "schema": {
                                "fields": [
                                    {
                                        "name": "nDIEmp"
                                    },
                                    {
                                        "name": "nomEmp"
                                    },
                                    {
                                        "name": "sexEmp"
                                    },
                                    {
                                        "name": "fecNac"
                                    },
                                    {
                                        "name": "fecIncorporacion"
                                    },
                                    {
                                        "name": "salEmp"
                                    },
                                    {
                                        "name": "comisionE"
                                    },
                                    {
                                        "name": "cargoE"
                                    },
                                    {
                                        "name": "jefeID"
                                    },
                                    {
                                        "name": "codDepto"
                                    }
                                ]
                            },
                            "data": [
                                {
                                    "nDIEmp": "1.130.222",
                                    "nomEmp": "José Giraldo",
                                    "sexEmp": "M",
                                    "fecNac": "1985-01-20",
                                    "fecIncorporacion": "2000-11-01",
                                    "salEmp": "1200000.0",
                                    "comisionE": "400000.0",
                                    "cargoE": "Asesor",
                                    "jefeID": "22.222.222",
                                    "codDepto": "3500"
                                },
                                {
                                    "nDIEmp": "1.130.333",
                                    "nomEmp": "Pedro Blanco",
                                    "sexEmp": "M",
                                    "fecNac": "1987-10-28",
                                    "fecIncorporacion": "2000-10-01",
                                    "salEmp": "800000.0",
                                    "comisionE": "3000000.0",
                                    "cargoE": "Vendedor",
                                    "jefeID": "31.178.144",
                                    "codDepto": "2000"
                                },
                                {
                                    "nDIEmp": "1.130.444",
                                    "nomEmp": "Jesús Alfonso",
                                    "sexEmp": "M",
                                    "fecNac": "1988-03-14",
                                    "fecIncorporacion": "2000-10-01",
                                    "salEmp": "800000.0",
                                    "comisionE": "3500000.0",
                                    "cargoE": "Vendedor",
                                    "jefeID": "31.178.144",
                                    "codDepto": "2000"
                                },
                                {
                                    "nDIEmp": "1.130.555",
                                    "nomEmp": "Julián Mora",
                                    "sexEmp": "M",
                                    "fecNac": "1989-07-03",
                                    "fecIncorporacion": "2000-10-01",
                                    "salEmp": "800000.0",
                                    "comisionE": "3100000.0",
                                    "cargoE": "Vendedor",
                                    "jefeID": "31.178.144",
                                    "codDepto": "2200"
                                },
                                {
                                    "nDIEmp": "1.130.666",
                                    "nomEmp": "Manuel Millán",
                                    "sexEmp": "M",
                                    "fecNac": "1990-12-08",
                                    "fecIncorporacion": "2004-06-01",
                                    "salEmp": "800000.0",
                                    "comisionE": "3700000.0",
                                    "cargoE": "Vendedor",
                                    "jefeID": "31.178.144",
                                    "codDepto": "2300"
                                },
                                {
                                    "nDIEmp": "1.130.777",
                                    "nomEmp": "Marcos Cortez",
                                    "sexEmp": "M",
                                    "fecNac": "1986-06-23",
                                    "fecIncorporacion": "2000-04-16",
                                    "salEmp": "2550000.0",
                                    "comisionE": "500000.0",
                                    "cargoE": "Mecánico",
                                    "jefeID": "333.333.333",
                                    "codDepto": "4000"
                                },
                                {
                                    "nDIEmp": "1.130.782",
                                    "nomEmp": "Antonio Gil",
                                    "sexEmp": "M",
                                    "fecNac": "1980-01-23",
                                    "fecIncorporacion": "2010-04-16",
                                    "salEmp": "850000.0",
                                    "comisionE": "1500000.0",
                                    "cargoE": "Técnico",
                                    "jefeID": "16.211.383",
                                    "codDepto": "1500"
                                },
                                {
                                    "nDIEmp": "1.751.219",
                                    "nomEmp": "Melissa Roa",
                                    "sexEmp": "F",
                                    "fecNac": "1960-06-19",
                                    "fecIncorporacion": "2001-03-16",
                                    "salEmp": "2250000.0",
                                    "comisionE": "2500000.0",
                                    "cargoE": "Vendedor",
                                    "jefeID": "31.178.144",
                                    "codDepto": "2100"
                                },
                                {
                                    "nDIEmp": "11.111.111",
                                    "nomEmp": "Irene Díaz",
                                    "sexEmp": "F",
                                    "fecNac": "1979-09-28",
                                    "fecIncorporacion": "2004-06-01",
                                    "salEmp": "1050000.0",
                                    "comisionE": "200000.0",
                                    "cargoE": "Mecánico",
                                    "jefeID": "333.333.333",
                                    "codDepto": "4200"
                                },
                                {
                                    "nDIEmp": "16.211.383",
                                    "nomEmp": "Luis Pérez",
                                    "sexEmp": "M",
                                    "fecNac": "1956-02-25",
                                    "fecIncorporacion": "2000-01-01",
                                    "salEmp": "5050000.0",
                                    "comisionE": "0.0",
                                    "cargoE": "Director",
                                    "jefeID": "31.840.269",
                                    "codDepto": "1500"
                                },
                                {
                                    "nDIEmp": "16.759.060",
                                    "nomEmp": "Darío Casas",
                                    "sexEmp": "M",
                                    "fecNac": "1960-04-05",
                                    "fecIncorporacion": "1992-11-01",
                                    "salEmp": "4500000.0",
                                    "comisionE": "500000.0",
                                    "cargoE": "Investigador",
                                    "jefeID": "31.840.269",
                                    "codDepto": "3000"
                                },
                                {
                                    "nDIEmp": "19.709.802",
                                    "nomEmp": "William Daza",
                                    "sexEmp": "M",
                                    "fecNac": "1982-10-09",
                                    "fecIncorporacion": "1999-12-16",
                                    "salEmp": "2250000.0",
                                    "comisionE": "1000000.0",
                                    "cargoE": "Investigador",
                                    "jefeID": "16.759.060",
                                    "codDepto": "3000"
                                },
                                {
                                    "nDIEmp": "22.222.222",
                                    "nomEmp": "Carla López",
                                    "sexEmp": "F",
                                    "fecNac": "1975-05-11",
                                    "fecIncorporacion": "2005-07-16",
                                    "salEmp": "4500000.0",
                                    "comisionE": "500000.0",
                                    "cargoE": "Jefe Mercadeo",
                                    "jefeID": "31.840.269",
                                    "codDepto": "3500"
                                },
                                {
                                    "nDIEmp": "22.222.333",
                                    "nomEmp": "Carlos Rozo",
                                    "sexEmp": "M",
                                    "fecNac": "1975-05-11",
                                    "fecIncorporacion": "2001-09-16",
                                    "salEmp": "750000.0",
                                    "comisionE": "500000.0",
                                    "cargoE": "Vigilante",
                                    "jefeID": "31.840.269",
                                    "codDepto": "3500"
                                },
                                {
                                    "nDIEmp": "31.174.099",
                                    "nomEmp": "Diana Solarte",
                                    "sexEmp": "F",
                                    "fecNac": "1957-11-19",
                                    "fecIncorporacion": "1990-05-16",
                                    "salEmp": "1250000.0",
                                    "comisionE": "500000.0",
                                    "cargoE": "Secretaria",
                                    "jefeID": "31.840.269",
                                    "codDepto": "1000"
                                },
                                {
                                    "nDIEmp": "31.178.144",
                                    "nomEmp": "Rosa Angulo",
                                    "sexEmp": "F",
                                    "fecNac": "1957-03-15",
                                    "fecIncorporacion": "1998-08-16",
                                    "salEmp": "3250000.0",
                                    "comisionE": "3500000.0",
                                    "cargoE": "Jefe Ventas",
                                    "jefeID": "31.840.269",
                                    "codDepto": "2000"
                                },
                                {
                                    "nDIEmp": "31.840.269",
                                    "nomEmp": "María Rojas",
                                    "sexEmp": "F",
                                    "fecNac": "1959-01-15",
                                    "fecIncorporacion": "1990-05-16",
                                    "salEmp": "6250000.0",
                                    "comisionE": "1500000.0",
                                    "cargoE": "Gerente",
                                    "jefeID": "NULL",
                                    "codDepto": "1000"
                                },
                                {
                                    "nDIEmp": "333.333.333",
                                    "nomEmp": "Elisa Rojas",
                                    "sexEmp": "F",
                                    "fecNac": "1979-09-28",
                                    "fecIncorporacion": "2004-06-01",
                                    "salEmp": "3000000.0",
                                    "comisionE": "1000000.0",
                                    "cargoE": "Jefe Mecánicos",
                                    "jefeID": "31.840.269",
                                    "codDepto": "4000"
                                },
                                {
                                    "nDIEmp": "333.333.334",
                                    "nomEmp": "Marisol Pulido",
                                    "sexEmp": "F",
                                    "fecNac": "1979-10-01",
                                    "fecIncorporacion": "1990-05-16",
                                    "salEmp": "3250000.0",
                                    "comisionE": "1000000.0",
                                    "cargoE": "Investigador",
                                    "jefeID": "16.759.060",
                                    "codDepto": "3000"
                                },
                                {
                                    "nDIEmp": "333.333.335",
                                    "nomEmp": "Ana Moreno",
                                    "sexEmp": "F",
                                    "fecNac": "1992-01-05",
                                    "fecIncorporacion": "2004-06-01",
                                    "salEmp": "1200000.0",
                                    "comisionE": "400000.0",
                                    "cargoE": "Secretaria",
                                    "jefeID": "16.759.060",
                                    "codDepto": "3000"
                                },
                                {
                                    "nDIEmp": "333.333.336",
                                    "nomEmp": "Carolina Ríos",
                                    "sexEmp": "F",
                                    "fecNac": "1992-02-15",
                                    "fecIncorporacion": "2000-10-01",
                                    "salEmp": "1250000.0",
                                    "comisionE": "500000.0",
                                    "cargoE": "Secretaria",
                                    "jefeID": "16.211.383",
                                    "codDepto": "1500"
                                },
                                {
                                    "nDIEmp": "333.333.337",
                                    "nomEmp": "Edith Muñoz",
                                    "sexEmp": "F",
                                    "fecNac": "1992-03-31",
                                    "fecIncorporacion": "2000-10-01",
                                    "salEmp": "800000.0",
                                    "comisionE": "3600000.0",
                                    "cargoE": "Vendedor",
                                    "jefeID": "31.178.144",
                                    "codDepto": "2100"
                                },
                                {
                                    "nDIEmp": "444.444",
                                    "nomEmp": "Abel Gómez",
                                    "sexEmp": "M",
                                    "fecNac": "1939-12-24",
                                    "fecIncorporacion": "2000-10-01",
                                    "salEmp": "1050000.0",
                                    "comisionE": "200000.0",
                                    "cargoE": "Mecánico",
                                    "jefeID": "333.333.333",
                                    "codDepto": "4300"
                                },
                                {
                                    "nDIEmp": "737.689",
                                    "nomEmp": "Mario Llano",
                                    "sexEmp": "M",
                                    "fecNac": "1945-08-30",
                                    "fecIncorporacion": "1990-05-16",
                                    "salEmp": "2250000.0",
                                    "comisionE": "2500000.0",
                                    "cargoE": "Vendedor",
                                    "jefeID": "31.178.144",
                                    "codDepto": "2300"
                                },
                                {
                                    "nDIEmp": "768.782",
                                    "nomEmp": "Joaquín Rosas",
                                    "sexEmp": "M",
                                    "fecNac": "1947-07-07",
                                    "fecIncorporacion": "1990-05-16",
                                    "salEmp": "2250000.0",
                                    "comisionE": "2500000.0",
                                    "cargoE": "Vendedor",
                                    "jefeID": "31.178.144",
                                    "codDepto": "2200"
                                },
                                {
                                    "nDIEmp": "888.888",
                                    "nomEmp": "Iván Duarte",
                                    "sexEmp": "M",
                                    "fecNac": "1955-08-12",
                                    "fecIncorporacion": "1998-05-16",
                                    "salEmp": "1050000.0",
                                    "comisionE": "200000.0",
                                    "cargoE": "Mecánico",
                                    "jefeID": "333.333.333",
                                    "codDepto": "4100"
                                }
                            ]
                        },
                        "text/html": [
                            "<table>",
                            "<tr><th>nDIEmp</th><th>nomEmp</th><th>sexEmp</th><th>fecNac</th><th>fecIncorporacion</th><th>salEmp</th><th>comisionE</th><th>cargoE</th><th>jefeID</th><th>codDepto</th></tr>",
                            "<tr><td>1.130.222</td><td>José Giraldo</td><td>M</td><td>1985-01-20</td><td>2000-11-01</td><td>1200000.0</td><td>400000.0</td><td>Asesor</td><td>22.222.222</td><td>3500</td></tr>",
                            "<tr><td>1.130.333</td><td>Pedro Blanco</td><td>M</td><td>1987-10-28</td><td>2000-10-01</td><td>800000.0</td><td>3000000.0</td><td>Vendedor</td><td>31.178.144</td><td>2000</td></tr>",
                            "<tr><td>1.130.444</td><td>Jesús Alfonso</td><td>M</td><td>1988-03-14</td><td>2000-10-01</td><td>800000.0</td><td>3500000.0</td><td>Vendedor</td><td>31.178.144</td><td>2000</td></tr>",
                            "<tr><td>1.130.555</td><td>Julián Mora</td><td>M</td><td>1989-07-03</td><td>2000-10-01</td><td>800000.0</td><td>3100000.0</td><td>Vendedor</td><td>31.178.144</td><td>2200</td></tr>",
                            "<tr><td>1.130.666</td><td>Manuel Millán</td><td>M</td><td>1990-12-08</td><td>2004-06-01</td><td>800000.0</td><td>3700000.0</td><td>Vendedor</td><td>31.178.144</td><td>2300</td></tr>",
                            "<tr><td>1.130.777</td><td>Marcos Cortez</td><td>M</td><td>1986-06-23</td><td>2000-04-16</td><td>2550000.0</td><td>500000.0</td><td>Mecánico</td><td>333.333.333</td><td>4000</td></tr>",
                            "<tr><td>1.130.782</td><td>Antonio Gil</td><td>M</td><td>1980-01-23</td><td>2010-04-16</td><td>850000.0</td><td>1500000.0</td><td>Técnico</td><td>16.211.383</td><td>1500</td></tr>",
                            "<tr><td>1.751.219</td><td>Melissa Roa</td><td>F</td><td>1960-06-19</td><td>2001-03-16</td><td>2250000.0</td><td>2500000.0</td><td>Vendedor</td><td>31.178.144</td><td>2100</td></tr>",
                            "<tr><td>11.111.111</td><td>Irene Díaz</td><td>F</td><td>1979-09-28</td><td>2004-06-01</td><td>1050000.0</td><td>200000.0</td><td>Mecánico</td><td>333.333.333</td><td>4200</td></tr>",
                            "<tr><td>16.211.383</td><td>Luis Pérez</td><td>M</td><td>1956-02-25</td><td>2000-01-01</td><td>5050000.0</td><td>0.0</td><td>Director</td><td>31.840.269</td><td>1500</td></tr>",
                            "<tr><td>16.759.060</td><td>Darío Casas</td><td>M</td><td>1960-04-05</td><td>1992-11-01</td><td>4500000.0</td><td>500000.0</td><td>Investigador</td><td>31.840.269</td><td>3000</td></tr>",
                            "<tr><td>19.709.802</td><td>William Daza</td><td>M</td><td>1982-10-09</td><td>1999-12-16</td><td>2250000.0</td><td>1000000.0</td><td>Investigador</td><td>16.759.060</td><td>3000</td></tr>",
                            "<tr><td>22.222.222</td><td>Carla López</td><td>F</td><td>1975-05-11</td><td>2005-07-16</td><td>4500000.0</td><td>500000.0</td><td>Jefe Mercadeo</td><td>31.840.269</td><td>3500</td></tr>",
                            "<tr><td>22.222.333</td><td>Carlos Rozo</td><td>M</td><td>1975-05-11</td><td>2001-09-16</td><td>750000.0</td><td>500000.0</td><td>Vigilante</td><td>31.840.269</td><td>3500</td></tr>",
                            "<tr><td>31.174.099</td><td>Diana Solarte</td><td>F</td><td>1957-11-19</td><td>1990-05-16</td><td>1250000.0</td><td>500000.0</td><td>Secretaria</td><td>31.840.269</td><td>1000</td></tr>",
                            "<tr><td>31.178.144</td><td>Rosa Angulo</td><td>F</td><td>1957-03-15</td><td>1998-08-16</td><td>3250000.0</td><td>3500000.0</td><td>Jefe Ventas</td><td>31.840.269</td><td>2000</td></tr>",
                            "<tr><td>31.840.269</td><td>María Rojas</td><td>F</td><td>1959-01-15</td><td>1990-05-16</td><td>6250000.0</td><td>1500000.0</td><td>Gerente</td><td>NULL</td><td>1000</td></tr>",
                            "<tr><td>333.333.333</td><td>Elisa Rojas</td><td>F</td><td>1979-09-28</td><td>2004-06-01</td><td>3000000.0</td><td>1000000.0</td><td>Jefe Mecánicos</td><td>31.840.269</td><td>4000</td></tr>",
                            "<tr><td>333.333.334</td><td>Marisol Pulido</td><td>F</td><td>1979-10-01</td><td>1990-05-16</td><td>3250000.0</td><td>1000000.0</td><td>Investigador</td><td>16.759.060</td><td>3000</td></tr>",
                            "<tr><td>333.333.335</td><td>Ana Moreno</td><td>F</td><td>1992-01-05</td><td>2004-06-01</td><td>1200000.0</td><td>400000.0</td><td>Secretaria</td><td>16.759.060</td><td>3000</td></tr>",
                            "<tr><td>333.333.336</td><td>Carolina Ríos</td><td>F</td><td>1992-02-15</td><td>2000-10-01</td><td>1250000.0</td><td>500000.0</td><td>Secretaria</td><td>16.211.383</td><td>1500</td></tr>",
                            "<tr><td>333.333.337</td><td>Edith Muñoz</td><td>F</td><td>1992-03-31</td><td>2000-10-01</td><td>800000.0</td><td>3600000.0</td><td>Vendedor</td><td>31.178.144</td><td>2100</td></tr>",
                            "<tr><td>444.444</td><td>Abel Gómez</td><td>M</td><td>1939-12-24</td><td>2000-10-01</td><td>1050000.0</td><td>200000.0</td><td>Mecánico</td><td>333.333.333</td><td>4300</td></tr>",
                            "<tr><td>737.689</td><td>Mario Llano</td><td>M</td><td>1945-08-30</td><td>1990-05-16</td><td>2250000.0</td><td>2500000.0</td><td>Vendedor</td><td>31.178.144</td><td>2300</td></tr>",
                            "<tr><td>768.782</td><td>Joaquín Rosas</td><td>M</td><td>1947-07-07</td><td>1990-05-16</td><td>2250000.0</td><td>2500000.0</td><td>Vendedor</td><td>31.178.144</td><td>2200</td></tr>",
                            "<tr><td>888.888</td><td>Iván Duarte</td><td>M</td><td>1955-08-12</td><td>1998-05-16</td><td>1050000.0</td><td>200000.0</td><td>Mecánico</td><td>333.333.333</td><td>4100</td></tr>",
                            "</table>"
                        ]
                    }
                }
            ],
            "execution_count": 2
        },
        {
            "cell_type": "markdown",
            "source": [
                "### 2\\. Obtener los datos completos de los departamentos."
            ],
            "metadata": {
                "azdata_cell_guid": "abf9c7e2-52bf-424d-a89e-6328102ad7a0"
            },
            "attachments": {}
        },
        {
            "cell_type": "code",
            "source": [
                "SELECT *\r\n",
                "FROM departamentos; "
            ],
            "metadata": {
                "azdata_cell_guid": "25a78000-9a23-45dc-a4e6-bf901d3033c4",
                "language": "sql"
            },
            "outputs": [
                {
                    "output_type": "display_data",
                    "data": {
                        "text/html": "(12 row(s) affected)"
                    },
                    "metadata": {}
                },
                {
                    "output_type": "display_data",
                    "data": {
                        "text/html": "Total execution time: 00:00:01.016"
                    },
                    "metadata": {}
                },
                {
                    "output_type": "execute_result",
                    "metadata": {},
                    "execution_count": 3,
                    "data": {
                        "application/vnd.dataresource+json": {
                            "schema": {
                                "fields": [
                                    {
                                        "name": "codDepto"
                                    },
                                    {
                                        "name": "nombreDpto"
                                    },
                                    {
                                        "name": "ciudad"
                                    },
                                    {
                                        "name": "codDirector"
                                    }
                                ]
                            },
                            "data": [
                                {
                                    "codDepto": "1000",
                                    "nombreDpto": "GERENCIA",
                                    "ciudad": "CIUDAD REAL",
                                    "codDirector": "31.840.269"
                                },
                                {
                                    "codDepto": "1500",
                                    "nombreDpto": "PRODUCCIÓN",
                                    "ciudad": "CIUDAD REAL",
                                    "codDirector": "16.211.383"
                                },
                                {
                                    "codDepto": "2000",
                                    "nombreDpto": "VENTAS",
                                    "ciudad": "CIUDAD REAL",
                                    "codDirector": "31.178.144"
                                },
                                {
                                    "codDepto": "2100",
                                    "nombreDpto": "VENTAS",
                                    "ciudad": "BARCELONA",
                                    "codDirector": "16.211.383"
                                },
                                {
                                    "codDepto": "2200",
                                    "nombreDpto": "VENTAS",
                                    "ciudad": "VALENCIA",
                                    "codDirector": "16.211.383"
                                },
                                {
                                    "codDepto": "2300",
                                    "nombreDpto": "VENTAS",
                                    "ciudad": "MADRID",
                                    "codDirector": "16.759.060"
                                },
                                {
                                    "codDepto": "3000",
                                    "nombreDpto": "INVESTIGACIÓN",
                                    "ciudad": "CIUDAD REAL",
                                    "codDirector": "16.759.060"
                                },
                                {
                                    "codDepto": "3500",
                                    "nombreDpto": "MERCADEO",
                                    "ciudad": "CIUDAD REAL",
                                    "codDirector": "22.222.222"
                                },
                                {
                                    "codDepto": "4000",
                                    "nombreDpto": "MANTENIMIENTO",
                                    "ciudad": "CIUDAD REAL",
                                    "codDirector": "333.333.333"
                                },
                                {
                                    "codDepto": "4100",
                                    "nombreDpto": "MANTENIMIENTO",
                                    "ciudad": "BARCELONA",
                                    "codDirector": "16.759.060"
                                },
                                {
                                    "codDepto": "4200",
                                    "nombreDpto": "MANTENIMIENTO",
                                    "ciudad": "VALENCIA",
                                    "codDirector": "16.759.060"
                                },
                                {
                                    "codDepto": "4300",
                                    "nombreDpto": "MANTENIMIENTO",
                                    "ciudad": "MADRID",
                                    "codDirector": "16.759.060"
                                }
                            ]
                        },
                        "text/html": [
                            "<table>",
                            "<tr><th>codDepto</th><th>nombreDpto</th><th>ciudad</th><th>codDirector</th></tr>",
                            "<tr><td>1000</td><td>GERENCIA</td><td>CIUDAD REAL</td><td>31.840.269</td></tr>",
                            "<tr><td>1500</td><td>PRODUCCIÓN</td><td>CIUDAD REAL</td><td>16.211.383</td></tr>",
                            "<tr><td>2000</td><td>VENTAS</td><td>CIUDAD REAL</td><td>31.178.144</td></tr>",
                            "<tr><td>2100</td><td>VENTAS</td><td>BARCELONA</td><td>16.211.383</td></tr>",
                            "<tr><td>2200</td><td>VENTAS</td><td>VALENCIA</td><td>16.211.383</td></tr>",
                            "<tr><td>2300</td><td>VENTAS</td><td>MADRID</td><td>16.759.060</td></tr>",
                            "<tr><td>3000</td><td>INVESTIGACIÓN</td><td>CIUDAD REAL</td><td>16.759.060</td></tr>",
                            "<tr><td>3500</td><td>MERCADEO</td><td>CIUDAD REAL</td><td>22.222.222</td></tr>",
                            "<tr><td>4000</td><td>MANTENIMIENTO</td><td>CIUDAD REAL</td><td>333.333.333</td></tr>",
                            "<tr><td>4100</td><td>MANTENIMIENTO</td><td>BARCELONA</td><td>16.759.060</td></tr>",
                            "<tr><td>4200</td><td>MANTENIMIENTO</td><td>VALENCIA</td><td>16.759.060</td></tr>",
                            "<tr><td>4300</td><td>MANTENIMIENTO</td><td>MADRID</td><td>16.759.060</td></tr>",
                            "</table>"
                        ]
                    }
                }
            ],
            "execution_count": 3
        },
        {
            "cell_type": "markdown",
            "source": [
                "3. <span style=\"color: rgb(102, 102, 102); font-family: Poppins; font-size: 15px; background-color: rgb(255, 255, 255);\">Obtener los datos de los empleados con cargo ‘Secretaria’.</span>"
            ],
            "metadata": {
                "language": "sql",
                "azdata_cell_guid": "d4c45a72-c626-4a98-a5b1-c7dc94193cbc"
            },
            "attachments": {}
        },
        {
            "cell_type": "code",
            "source": [
                "SELECT *\r\n",
                "FROM empleados \r\n",
                "WHERE lower(cargoE)='secretaria';"
            ],
            "metadata": {
                "language": "sql",
                "azdata_cell_guid": "102420fb-b617-4793-b27f-27439f0826af"
            },
            "outputs": [
                {
                    "output_type": "display_data",
                    "data": {
                        "text/html": "(3 row(s) affected)"
                    },
                    "metadata": {}
                },
                {
                    "output_type": "display_data",
                    "data": {
                        "text/html": "Total execution time: 00:00:01.017"
                    },
                    "metadata": {}
                },
                {
                    "output_type": "execute_result",
                    "metadata": {},
                    "execution_count": 4,
                    "data": {
                        "application/vnd.dataresource+json": {
                            "schema": {
                                "fields": [
                                    {
                                        "name": "nDIEmp"
                                    },
                                    {
                                        "name": "nomEmp"
                                    },
                                    {
                                        "name": "sexEmp"
                                    },
                                    {
                                        "name": "fecNac"
                                    },
                                    {
                                        "name": "fecIncorporacion"
                                    },
                                    {
                                        "name": "salEmp"
                                    },
                                    {
                                        "name": "comisionE"
                                    },
                                    {
                                        "name": "cargoE"
                                    },
                                    {
                                        "name": "jefeID"
                                    },
                                    {
                                        "name": "codDepto"
                                    }
                                ]
                            },
                            "data": [
                                {
                                    "nDIEmp": "31.174.099",
                                    "nomEmp": "Diana Solarte",
                                    "sexEmp": "F",
                                    "fecNac": "1957-11-19",
                                    "fecIncorporacion": "1990-05-16",
                                    "salEmp": "1250000.0",
                                    "comisionE": "500000.0",
                                    "cargoE": "Secretaria",
                                    "jefeID": "31.840.269",
                                    "codDepto": "1000"
                                },
                                {
                                    "nDIEmp": "333.333.335",
                                    "nomEmp": "Ana Moreno",
                                    "sexEmp": "F",
                                    "fecNac": "1992-01-05",
                                    "fecIncorporacion": "2004-06-01",
                                    "salEmp": "1200000.0",
                                    "comisionE": "400000.0",
                                    "cargoE": "Secretaria",
                                    "jefeID": "16.759.060",
                                    "codDepto": "3000"
                                },
                                {
                                    "nDIEmp": "333.333.336",
                                    "nomEmp": "Carolina Ríos",
                                    "sexEmp": "F",
                                    "fecNac": "1992-02-15",
                                    "fecIncorporacion": "2000-10-01",
                                    "salEmp": "1250000.0",
                                    "comisionE": "500000.0",
                                    "cargoE": "Secretaria",
                                    "jefeID": "16.211.383",
                                    "codDepto": "1500"
                                }
                            ]
                        },
                        "text/html": [
                            "<table>",
                            "<tr><th>nDIEmp</th><th>nomEmp</th><th>sexEmp</th><th>fecNac</th><th>fecIncorporacion</th><th>salEmp</th><th>comisionE</th><th>cargoE</th><th>jefeID</th><th>codDepto</th></tr>",
                            "<tr><td>31.174.099</td><td>Diana Solarte</td><td>F</td><td>1957-11-19</td><td>1990-05-16</td><td>1250000.0</td><td>500000.0</td><td>Secretaria</td><td>31.840.269</td><td>1000</td></tr>",
                            "<tr><td>333.333.335</td><td>Ana Moreno</td><td>F</td><td>1992-01-05</td><td>2004-06-01</td><td>1200000.0</td><td>400000.0</td><td>Secretaria</td><td>16.759.060</td><td>3000</td></tr>",
                            "<tr><td>333.333.336</td><td>Carolina Ríos</td><td>F</td><td>1992-02-15</td><td>2000-10-01</td><td>1250000.0</td><td>500000.0</td><td>Secretaria</td><td>16.211.383</td><td>1500</td></tr>",
                            "</table>"
                        ]
                    }
                }
            ],
            "execution_count": 4
        },
        {
            "cell_type": "markdown",
            "source": [
                "4. <span style=\"color: rgb(102, 102, 102); font-family: Poppins; font-size: 15px; background-color: rgb(255, 255, 255);\">Obtener el nombre y salario de los empleados.</span>"
            ],
            "metadata": {
                "language": "sql",
                "azdata_cell_guid": "707ad5e9-b047-4973-9db1-d7f8e2c80b5d"
            },
            "attachments": {}
        },
        {
            "cell_type": "code",
            "source": [
                "SELECT nomemp as Nombre, salemp as Salario\r\n",
                "FROM empleados;"
            ],
            "metadata": {
                "language": "sql",
                "azdata_cell_guid": "2d3330e4-e4a5-4cf9-b929-2d33b3540fd0"
            },
            "outputs": [
                {
                    "output_type": "display_data",
                    "data": {
                        "text/html": "(26 row(s) affected)"
                    },
                    "metadata": {}
                },
                {
                    "output_type": "display_data",
                    "data": {
                        "text/html": "Total execution time: 00:00:01.016"
                    },
                    "metadata": {}
                },
                {
                    "output_type": "execute_result",
                    "metadata": {},
                    "execution_count": 5,
                    "data": {
                        "application/vnd.dataresource+json": {
                            "schema": {
                                "fields": [
                                    {
                                        "name": "Nombre"
                                    },
                                    {
                                        "name": "Salario"
                                    }
                                ]
                            },
                            "data": [
                                {
                                    "Nombre": "José Giraldo",
                                    "Salario": "1200000.0"
                                },
                                {
                                    "Nombre": "Pedro Blanco",
                                    "Salario": "800000.0"
                                },
                                {
                                    "Nombre": "Jesús Alfonso",
                                    "Salario": "800000.0"
                                },
                                {
                                    "Nombre": "Julián Mora",
                                    "Salario": "800000.0"
                                },
                                {
                                    "Nombre": "Manuel Millán",
                                    "Salario": "800000.0"
                                },
                                {
                                    "Nombre": "Marcos Cortez",
                                    "Salario": "2550000.0"
                                },
                                {
                                    "Nombre": "Antonio Gil",
                                    "Salario": "850000.0"
                                },
                                {
                                    "Nombre": "Melissa Roa",
                                    "Salario": "2250000.0"
                                },
                                {
                                    "Nombre": "Irene Díaz",
                                    "Salario": "1050000.0"
                                },
                                {
                                    "Nombre": "Luis Pérez",
                                    "Salario": "5050000.0"
                                },
                                {
                                    "Nombre": "Darío Casas",
                                    "Salario": "4500000.0"
                                },
                                {
                                    "Nombre": "William Daza",
                                    "Salario": "2250000.0"
                                },
                                {
                                    "Nombre": "Carla López",
                                    "Salario": "4500000.0"
                                },
                                {
                                    "Nombre": "Carlos Rozo",
                                    "Salario": "750000.0"
                                },
                                {
                                    "Nombre": "Diana Solarte",
                                    "Salario": "1250000.0"
                                },
                                {
                                    "Nombre": "Rosa Angulo",
                                    "Salario": "3250000.0"
                                },
                                {
                                    "Nombre": "María Rojas",
                                    "Salario": "6250000.0"
                                },
                                {
                                    "Nombre": "Elisa Rojas",
                                    "Salario": "3000000.0"
                                },
                                {
                                    "Nombre": "Marisol Pulido",
                                    "Salario": "3250000.0"
                                },
                                {
                                    "Nombre": "Ana Moreno",
                                    "Salario": "1200000.0"
                                },
                                {
                                    "Nombre": "Carolina Ríos",
                                    "Salario": "1250000.0"
                                },
                                {
                                    "Nombre": "Edith Muñoz",
                                    "Salario": "800000.0"
                                },
                                {
                                    "Nombre": "Abel Gómez",
                                    "Salario": "1050000.0"
                                },
                                {
                                    "Nombre": "Mario Llano",
                                    "Salario": "2250000.0"
                                },
                                {
                                    "Nombre": "Joaquín Rosas",
                                    "Salario": "2250000.0"
                                },
                                {
                                    "Nombre": "Iván Duarte",
                                    "Salario": "1050000.0"
                                }
                            ]
                        },
                        "text/html": [
                            "<table>",
                            "<tr><th>Nombre</th><th>Salario</th></tr>",
                            "<tr><td>José Giraldo</td><td>1200000.0</td></tr>",
                            "<tr><td>Pedro Blanco</td><td>800000.0</td></tr>",
                            "<tr><td>Jesús Alfonso</td><td>800000.0</td></tr>",
                            "<tr><td>Julián Mora</td><td>800000.0</td></tr>",
                            "<tr><td>Manuel Millán</td><td>800000.0</td></tr>",
                            "<tr><td>Marcos Cortez</td><td>2550000.0</td></tr>",
                            "<tr><td>Antonio Gil</td><td>850000.0</td></tr>",
                            "<tr><td>Melissa Roa</td><td>2250000.0</td></tr>",
                            "<tr><td>Irene Díaz</td><td>1050000.0</td></tr>",
                            "<tr><td>Luis Pérez</td><td>5050000.0</td></tr>",
                            "<tr><td>Darío Casas</td><td>4500000.0</td></tr>",
                            "<tr><td>William Daza</td><td>2250000.0</td></tr>",
                            "<tr><td>Carla López</td><td>4500000.0</td></tr>",
                            "<tr><td>Carlos Rozo</td><td>750000.0</td></tr>",
                            "<tr><td>Diana Solarte</td><td>1250000.0</td></tr>",
                            "<tr><td>Rosa Angulo</td><td>3250000.0</td></tr>",
                            "<tr><td>María Rojas</td><td>6250000.0</td></tr>",
                            "<tr><td>Elisa Rojas</td><td>3000000.0</td></tr>",
                            "<tr><td>Marisol Pulido</td><td>3250000.0</td></tr>",
                            "<tr><td>Ana Moreno</td><td>1200000.0</td></tr>",
                            "<tr><td>Carolina Ríos</td><td>1250000.0</td></tr>",
                            "<tr><td>Edith Muñoz</td><td>800000.0</td></tr>",
                            "<tr><td>Abel Gómez</td><td>1050000.0</td></tr>",
                            "<tr><td>Mario Llano</td><td>2250000.0</td></tr>",
                            "<tr><td>Joaquín Rosas</td><td>2250000.0</td></tr>",
                            "<tr><td>Iván Duarte</td><td>1050000.0</td></tr>",
                            "</table>"
                        ]
                    }
                }
            ],
            "execution_count": 5
        },
        {
            "cell_type": "markdown",
            "source": [
                "5. <span style=\"color: rgb(102, 102, 102); font-family: Poppins; font-size: 15px; background-color: rgb(255, 255, 255);\">Obtener los datos de los empleados vendedores, ordenado por nombre.</span>"
            ],
            "metadata": {
                "language": "sql",
                "azdata_cell_guid": "5f863e0d-42f0-40d2-bd9f-3f544cf6bc3e"
            },
            "attachments": {}
        },
        {
            "cell_type": "code",
            "source": [
                "SELECT *\r\n",
                "FROM empleados \r\n",
                "WHERE lower(cargoE) = 'vendedor'\r\n",
                "order by nomEmp asc; "
            ],
            "metadata": {
                "language": "sql",
                "azdata_cell_guid": "a437028f-e539-4fdc-ab8c-a9181e3fd81f"
            },
            "outputs": [
                {
                    "output_type": "display_data",
                    "data": {
                        "text/html": "(8 row(s) affected)"
                    },
                    "metadata": {}
                },
                {
                    "output_type": "display_data",
                    "data": {
                        "text/html": "Total execution time: 00:00:01.017"
                    },
                    "metadata": {}
                },
                {
                    "output_type": "execute_result",
                    "metadata": {},
                    "execution_count": 6,
                    "data": {
                        "application/vnd.dataresource+json": {
                            "schema": {
                                "fields": [
                                    {
                                        "name": "nDIEmp"
                                    },
                                    {
                                        "name": "nomEmp"
                                    },
                                    {
                                        "name": "sexEmp"
                                    },
                                    {
                                        "name": "fecNac"
                                    },
                                    {
                                        "name": "fecIncorporacion"
                                    },
                                    {
                                        "name": "salEmp"
                                    },
                                    {
                                        "name": "comisionE"
                                    },
                                    {
                                        "name": "cargoE"
                                    },
                                    {
                                        "name": "jefeID"
                                    },
                                    {
                                        "name": "codDepto"
                                    }
                                ]
                            },
                            "data": [
                                {
                                    "nDIEmp": "333.333.337",
                                    "nomEmp": "Edith Muñoz",
                                    "sexEmp": "F",
                                    "fecNac": "1992-03-31",
                                    "fecIncorporacion": "2000-10-01",
                                    "salEmp": "800000.0",
                                    "comisionE": "3600000.0",
                                    "cargoE": "Vendedor",
                                    "jefeID": "31.178.144",
                                    "codDepto": "2100"
                                },
                                {
                                    "nDIEmp": "1.130.444",
                                    "nomEmp": "Jesús Alfonso",
                                    "sexEmp": "M",
                                    "fecNac": "1988-03-14",
                                    "fecIncorporacion": "2000-10-01",
                                    "salEmp": "800000.0",
                                    "comisionE": "3500000.0",
                                    "cargoE": "Vendedor",
                                    "jefeID": "31.178.144",
                                    "codDepto": "2000"
                                },
                                {
                                    "nDIEmp": "768.782",
                                    "nomEmp": "Joaquín Rosas",
                                    "sexEmp": "M",
                                    "fecNac": "1947-07-07",
                                    "fecIncorporacion": "1990-05-16",
                                    "salEmp": "2250000.0",
                                    "comisionE": "2500000.0",
                                    "cargoE": "Vendedor",
                                    "jefeID": "31.178.144",
                                    "codDepto": "2200"
                                },
                                {
                                    "nDIEmp": "1.130.555",
                                    "nomEmp": "Julián Mora",
                                    "sexEmp": "M",
                                    "fecNac": "1989-07-03",
                                    "fecIncorporacion": "2000-10-01",
                                    "salEmp": "800000.0",
                                    "comisionE": "3100000.0",
                                    "cargoE": "Vendedor",
                                    "jefeID": "31.178.144",
                                    "codDepto": "2200"
                                },
                                {
                                    "nDIEmp": "1.130.666",
                                    "nomEmp": "Manuel Millán",
                                    "sexEmp": "M",
                                    "fecNac": "1990-12-08",
                                    "fecIncorporacion": "2004-06-01",
                                    "salEmp": "800000.0",
                                    "comisionE": "3700000.0",
                                    "cargoE": "Vendedor",
                                    "jefeID": "31.178.144",
                                    "codDepto": "2300"
                                },
                                {
                                    "nDIEmp": "737.689",
                                    "nomEmp": "Mario Llano",
                                    "sexEmp": "M",
                                    "fecNac": "1945-08-30",
                                    "fecIncorporacion": "1990-05-16",
                                    "salEmp": "2250000.0",
                                    "comisionE": "2500000.0",
                                    "cargoE": "Vendedor",
                                    "jefeID": "31.178.144",
                                    "codDepto": "2300"
                                },
                                {
                                    "nDIEmp": "1.751.219",
                                    "nomEmp": "Melissa Roa",
                                    "sexEmp": "F",
                                    "fecNac": "1960-06-19",
                                    "fecIncorporacion": "2001-03-16",
                                    "salEmp": "2250000.0",
                                    "comisionE": "2500000.0",
                                    "cargoE": "Vendedor",
                                    "jefeID": "31.178.144",
                                    "codDepto": "2100"
                                },
                                {
                                    "nDIEmp": "1.130.333",
                                    "nomEmp": "Pedro Blanco",
                                    "sexEmp": "M",
                                    "fecNac": "1987-10-28",
                                    "fecIncorporacion": "2000-10-01",
                                    "salEmp": "800000.0",
                                    "comisionE": "3000000.0",
                                    "cargoE": "Vendedor",
                                    "jefeID": "31.178.144",
                                    "codDepto": "2000"
                                }
                            ]
                        },
                        "text/html": [
                            "<table>",
                            "<tr><th>nDIEmp</th><th>nomEmp</th><th>sexEmp</th><th>fecNac</th><th>fecIncorporacion</th><th>salEmp</th><th>comisionE</th><th>cargoE</th><th>jefeID</th><th>codDepto</th></tr>",
                            "<tr><td>333.333.337</td><td>Edith Muñoz</td><td>F</td><td>1992-03-31</td><td>2000-10-01</td><td>800000.0</td><td>3600000.0</td><td>Vendedor</td><td>31.178.144</td><td>2100</td></tr>",
                            "<tr><td>1.130.444</td><td>Jesús Alfonso</td><td>M</td><td>1988-03-14</td><td>2000-10-01</td><td>800000.0</td><td>3500000.0</td><td>Vendedor</td><td>31.178.144</td><td>2000</td></tr>",
                            "<tr><td>768.782</td><td>Joaquín Rosas</td><td>M</td><td>1947-07-07</td><td>1990-05-16</td><td>2250000.0</td><td>2500000.0</td><td>Vendedor</td><td>31.178.144</td><td>2200</td></tr>",
                            "<tr><td>1.130.555</td><td>Julián Mora</td><td>M</td><td>1989-07-03</td><td>2000-10-01</td><td>800000.0</td><td>3100000.0</td><td>Vendedor</td><td>31.178.144</td><td>2200</td></tr>",
                            "<tr><td>1.130.666</td><td>Manuel Millán</td><td>M</td><td>1990-12-08</td><td>2004-06-01</td><td>800000.0</td><td>3700000.0</td><td>Vendedor</td><td>31.178.144</td><td>2300</td></tr>",
                            "<tr><td>737.689</td><td>Mario Llano</td><td>M</td><td>1945-08-30</td><td>1990-05-16</td><td>2250000.0</td><td>2500000.0</td><td>Vendedor</td><td>31.178.144</td><td>2300</td></tr>",
                            "<tr><td>1.751.219</td><td>Melissa Roa</td><td>F</td><td>1960-06-19</td><td>2001-03-16</td><td>2250000.0</td><td>2500000.0</td><td>Vendedor</td><td>31.178.144</td><td>2100</td></tr>",
                            "<tr><td>1.130.333</td><td>Pedro Blanco</td><td>M</td><td>1987-10-28</td><td>2000-10-01</td><td>800000.0</td><td>3000000.0</td><td>Vendedor</td><td>31.178.144</td><td>2000</td></tr>",
                            "</table>"
                        ]
                    }
                }
            ],
            "execution_count": 6
        },
        {
            "cell_type": "markdown",
            "source": [
                "6. <span style=\"color: rgb(102, 102, 102); font-family: Poppins; font-size: 15px; background-color: rgb(255, 255, 255);\">Listar el nombre de los departamentos.</span>"
            ],
            "metadata": {
                "language": "sql",
                "azdata_cell_guid": "9881e817-6a8d-4190-a6a9-a5eaeb318174"
            },
            "attachments": {}
        },
        {
            "cell_type": "code",
            "source": [
                "SELECT DISTINCT nombreDPto as Nombre_Departamentos\r\n",
                "FROM departamentos; "
            ],
            "metadata": {
                "language": "sql",
                "azdata_cell_guid": "128baf46-2b53-4308-91b4-dd51f762d575"
            },
            "outputs": [
                {
                    "output_type": "display_data",
                    "data": {
                        "text/html": "(6 row(s) affected)"
                    },
                    "metadata": {}
                },
                {
                    "output_type": "display_data",
                    "data": {
                        "text/html": "Total execution time: 00:00:01.004"
                    },
                    "metadata": {}
                },
                {
                    "output_type": "execute_result",
                    "metadata": {},
                    "execution_count": 7,
                    "data": {
                        "application/vnd.dataresource+json": {
                            "schema": {
                                "fields": [
                                    {
                                        "name": "Nombre_Departamentos"
                                    }
                                ]
                            },
                            "data": [
                                {
                                    "Nombre_Departamentos": "GERENCIA"
                                },
                                {
                                    "Nombre_Departamentos": "PRODUCCIÓN"
                                },
                                {
                                    "Nombre_Departamentos": "VENTAS"
                                },
                                {
                                    "Nombre_Departamentos": "INVESTIGACIÓN"
                                },
                                {
                                    "Nombre_Departamentos": "MERCADEO"
                                },
                                {
                                    "Nombre_Departamentos": "MANTENIMIENTO"
                                }
                            ]
                        },
                        "text/html": [
                            "<table>",
                            "<tr><th>Nombre_Departamentos</th></tr>",
                            "<tr><td>GERENCIA</td></tr>",
                            "<tr><td>PRODUCCIÓN</td></tr>",
                            "<tr><td>VENTAS</td></tr>",
                            "<tr><td>INVESTIGACIÓN</td></tr>",
                            "<tr><td>MERCADEO</td></tr>",
                            "<tr><td>MANTENIMIENTO</td></tr>",
                            "</table>"
                        ]
                    }
                }
            ],
            "execution_count": 7
        },
        {
            "cell_type": "markdown",
            "source": [
                "7. <span style=\"color: rgb(102, 102, 102); font-family: Poppins; font-size: 15px; background-color: rgb(255, 255, 255);\">Obtener el nombre y cargo de todos los empleados, ordenado por salario.</span>"
            ],
            "metadata": {
                "language": "sql",
                "azdata_cell_guid": "73cf48f0-f411-433d-a1f9-3a56b425c1fa"
            },
            "attachments": {}
        },
        {
            "cell_type": "code",
            "source": [
                "select nomEmp, cargoE, salemp \r\n",
                "from empleados \r\n",
                "order by salemp;"
            ],
            "metadata": {
                "language": "sql",
                "azdata_cell_guid": "c53e20bd-02f4-4e26-b6ce-4a1d02ea7334"
            },
            "outputs": [
                {
                    "output_type": "display_data",
                    "data": {
                        "text/html": "(26 row(s) affected)"
                    },
                    "metadata": {}
                },
                {
                    "output_type": "display_data",
                    "data": {
                        "text/html": "Total execution time: 00:00:01.011"
                    },
                    "metadata": {}
                },
                {
                    "output_type": "execute_result",
                    "metadata": {},
                    "execution_count": 8,
                    "data": {
                        "application/vnd.dataresource+json": {
                            "schema": {
                                "fields": [
                                    {
                                        "name": "nomEmp"
                                    },
                                    {
                                        "name": "cargoE"
                                    },
                                    {
                                        "name": "salemp"
                                    }
                                ]
                            },
                            "data": [
                                {
                                    "nomEmp": "Carlos Rozo",
                                    "cargoE": "Vigilante",
                                    "salemp": "750000.0"
                                },
                                {
                                    "nomEmp": "Pedro Blanco",
                                    "cargoE": "Vendedor",
                                    "salemp": "800000.0"
                                },
                                {
                                    "nomEmp": "Jesús Alfonso",
                                    "cargoE": "Vendedor",
                                    "salemp": "800000.0"
                                },
                                {
                                    "nomEmp": "Julián Mora",
                                    "cargoE": "Vendedor",
                                    "salemp": "800000.0"
                                },
                                {
                                    "nomEmp": "Manuel Millán",
                                    "cargoE": "Vendedor",
                                    "salemp": "800000.0"
                                },
                                {
                                    "nomEmp": "Edith Muñoz",
                                    "cargoE": "Vendedor",
                                    "salemp": "800000.0"
                                },
                                {
                                    "nomEmp": "Antonio Gil",
                                    "cargoE": "Técnico",
                                    "salemp": "850000.0"
                                },
                                {
                                    "nomEmp": "Irene Díaz",
                                    "cargoE": "Mecánico",
                                    "salemp": "1050000.0"
                                },
                                {
                                    "nomEmp": "Abel Gómez",
                                    "cargoE": "Mecánico",
                                    "salemp": "1050000.0"
                                },
                                {
                                    "nomEmp": "Iván Duarte",
                                    "cargoE": "Mecánico",
                                    "salemp": "1050000.0"
                                },
                                {
                                    "nomEmp": "José Giraldo",
                                    "cargoE": "Asesor",
                                    "salemp": "1200000.0"
                                },
                                {
                                    "nomEmp": "Ana Moreno",
                                    "cargoE": "Secretaria",
                                    "salemp": "1200000.0"
                                },
                                {
                                    "nomEmp": "Diana Solarte",
                                    "cargoE": "Secretaria",
                                    "salemp": "1250000.0"
                                },
                                {
                                    "nomEmp": "Carolina Ríos",
                                    "cargoE": "Secretaria",
                                    "salemp": "1250000.0"
                                },
                                {
                                    "nomEmp": "Melissa Roa",
                                    "cargoE": "Vendedor",
                                    "salemp": "2250000.0"
                                },
                                {
                                    "nomEmp": "William Daza",
                                    "cargoE": "Investigador",
                                    "salemp": "2250000.0"
                                },
                                {
                                    "nomEmp": "Mario Llano",
                                    "cargoE": "Vendedor",
                                    "salemp": "2250000.0"
                                },
                                {
                                    "nomEmp": "Joaquín Rosas",
                                    "cargoE": "Vendedor",
                                    "salemp": "2250000.0"
                                },
                                {
                                    "nomEmp": "Marcos Cortez",
                                    "cargoE": "Mecánico",
                                    "salemp": "2550000.0"
                                },
                                {
                                    "nomEmp": "Elisa Rojas",
                                    "cargoE": "Jefe Mecánicos",
                                    "salemp": "3000000.0"
                                },
                                {
                                    "nomEmp": "Rosa Angulo",
                                    "cargoE": "Jefe Ventas",
                                    "salemp": "3250000.0"
                                },
                                {
                                    "nomEmp": "Marisol Pulido",
                                    "cargoE": "Investigador",
                                    "salemp": "3250000.0"
                                },
                                {
                                    "nomEmp": "Darío Casas",
                                    "cargoE": "Investigador",
                                    "salemp": "4500000.0"
                                },
                                {
                                    "nomEmp": "Carla López",
                                    "cargoE": "Jefe Mercadeo",
                                    "salemp": "4500000.0"
                                },
                                {
                                    "nomEmp": "Luis Pérez",
                                    "cargoE": "Director",
                                    "salemp": "5050000.0"
                                },
                                {
                                    "nomEmp": "María Rojas",
                                    "cargoE": "Gerente",
                                    "salemp": "6250000.0"
                                }
                            ]
                        },
                        "text/html": [
                            "<table>",
                            "<tr><th>nomEmp</th><th>cargoE</th><th>salemp</th></tr>",
                            "<tr><td>Carlos Rozo</td><td>Vigilante</td><td>750000.0</td></tr>",
                            "<tr><td>Pedro Blanco</td><td>Vendedor</td><td>800000.0</td></tr>",
                            "<tr><td>Jesús Alfonso</td><td>Vendedor</td><td>800000.0</td></tr>",
                            "<tr><td>Julián Mora</td><td>Vendedor</td><td>800000.0</td></tr>",
                            "<tr><td>Manuel Millán</td><td>Vendedor</td><td>800000.0</td></tr>",
                            "<tr><td>Edith Muñoz</td><td>Vendedor</td><td>800000.0</td></tr>",
                            "<tr><td>Antonio Gil</td><td>Técnico</td><td>850000.0</td></tr>",
                            "<tr><td>Irene Díaz</td><td>Mecánico</td><td>1050000.0</td></tr>",
                            "<tr><td>Abel Gómez</td><td>Mecánico</td><td>1050000.0</td></tr>",
                            "<tr><td>Iván Duarte</td><td>Mecánico</td><td>1050000.0</td></tr>",
                            "<tr><td>José Giraldo</td><td>Asesor</td><td>1200000.0</td></tr>",
                            "<tr><td>Ana Moreno</td><td>Secretaria</td><td>1200000.0</td></tr>",
                            "<tr><td>Diana Solarte</td><td>Secretaria</td><td>1250000.0</td></tr>",
                            "<tr><td>Carolina Ríos</td><td>Secretaria</td><td>1250000.0</td></tr>",
                            "<tr><td>Melissa Roa</td><td>Vendedor</td><td>2250000.0</td></tr>",
                            "<tr><td>William Daza</td><td>Investigador</td><td>2250000.0</td></tr>",
                            "<tr><td>Mario Llano</td><td>Vendedor</td><td>2250000.0</td></tr>",
                            "<tr><td>Joaquín Rosas</td><td>Vendedor</td><td>2250000.0</td></tr>",
                            "<tr><td>Marcos Cortez</td><td>Mecánico</td><td>2550000.0</td></tr>",
                            "<tr><td>Elisa Rojas</td><td>Jefe Mecánicos</td><td>3000000.0</td></tr>",
                            "<tr><td>Rosa Angulo</td><td>Jefe Ventas</td><td>3250000.0</td></tr>",
                            "<tr><td>Marisol Pulido</td><td>Investigador</td><td>3250000.0</td></tr>",
                            "<tr><td>Darío Casas</td><td>Investigador</td><td>4500000.0</td></tr>",
                            "<tr><td>Carla López</td><td>Jefe Mercadeo</td><td>4500000.0</td></tr>",
                            "<tr><td>Luis Pérez</td><td>Director</td><td>5050000.0</td></tr>",
                            "<tr><td>María Rojas</td><td>Gerente</td><td>6250000.0</td></tr>",
                            "</table>"
                        ]
                    }
                }
            ],
            "execution_count": 8
        },
        {
            "cell_type": "markdown",
            "source": [
                "8. <span style=\"color: rgb(102, 102, 102); font-family: Poppins; font-size: 15px; background-color: rgb(255, 255, 255);\">Listar los salarios y comisiones de los empleados del departamento 2000, ordenado por comisión.</span>"
            ],
            "metadata": {
                "language": "sql",
                "azdata_cell_guid": "c0365b63-4550-40eb-9f62-0329523ae4d2"
            },
            "attachments": {}
        },
        {
            "cell_type": "code",
            "source": [
                "SELECT salemp as Salario, comisione as Comisiones\r\n",
                "FROM empleados\r\n",
                "ORDER BY Comisiones;"
            ],
            "metadata": {
                "language": "sql",
                "azdata_cell_guid": "3cad710a-d193-4596-bf5f-09d5317e93fe"
            },
            "outputs": [
                {
                    "output_type": "display_data",
                    "data": {
                        "text/html": "(26 row(s) affected)"
                    },
                    "metadata": {}
                },
                {
                    "output_type": "display_data",
                    "data": {
                        "text/html": "Total execution time: 00:00:01.004"
                    },
                    "metadata": {}
                },
                {
                    "output_type": "execute_result",
                    "metadata": {},
                    "execution_count": 9,
                    "data": {
                        "application/vnd.dataresource+json": {
                            "schema": {
                                "fields": [
                                    {
                                        "name": "Salario"
                                    },
                                    {
                                        "name": "Comisiones"
                                    }
                                ]
                            },
                            "data": [
                                {
                                    "Salario": "5050000.0",
                                    "Comisiones": "0.0"
                                },
                                {
                                    "Salario": "1050000.0",
                                    "Comisiones": "200000.0"
                                },
                                {
                                    "Salario": "1050000.0",
                                    "Comisiones": "200000.0"
                                },
                                {
                                    "Salario": "1050000.0",
                                    "Comisiones": "200000.0"
                                },
                                {
                                    "Salario": "1200000.0",
                                    "Comisiones": "400000.0"
                                },
                                {
                                    "Salario": "1200000.0",
                                    "Comisiones": "400000.0"
                                },
                                {
                                    "Salario": "2550000.0",
                                    "Comisiones": "500000.0"
                                },
                                {
                                    "Salario": "4500000.0",
                                    "Comisiones": "500000.0"
                                },
                                {
                                    "Salario": "4500000.0",
                                    "Comisiones": "500000.0"
                                },
                                {
                                    "Salario": "750000.0",
                                    "Comisiones": "500000.0"
                                },
                                {
                                    "Salario": "1250000.0",
                                    "Comisiones": "500000.0"
                                },
                                {
                                    "Salario": "1250000.0",
                                    "Comisiones": "500000.0"
                                },
                                {
                                    "Salario": "2250000.0",
                                    "Comisiones": "1000000.0"
                                },
                                {
                                    "Salario": "3000000.0",
                                    "Comisiones": "1000000.0"
                                },
                                {
                                    "Salario": "3250000.0",
                                    "Comisiones": "1000000.0"
                                },
                                {
                                    "Salario": "850000.0",
                                    "Comisiones": "1500000.0"
                                },
                                {
                                    "Salario": "6250000.0",
                                    "Comisiones": "1500000.0"
                                },
                                {
                                    "Salario": "2250000.0",
                                    "Comisiones": "2500000.0"
                                },
                                {
                                    "Salario": "2250000.0",
                                    "Comisiones": "2500000.0"
                                },
                                {
                                    "Salario": "2250000.0",
                                    "Comisiones": "2500000.0"
                                },
                                {
                                    "Salario": "800000.0",
                                    "Comisiones": "3000000.0"
                                },
                                {
                                    "Salario": "800000.0",
                                    "Comisiones": "3100000.0"
                                },
                                {
                                    "Salario": "800000.0",
                                    "Comisiones": "3500000.0"
                                },
                                {
                                    "Salario": "3250000.0",
                                    "Comisiones": "3500000.0"
                                },
                                {
                                    "Salario": "800000.0",
                                    "Comisiones": "3600000.0"
                                },
                                {
                                    "Salario": "800000.0",
                                    "Comisiones": "3700000.0"
                                }
                            ]
                        },
                        "text/html": [
                            "<table>",
                            "<tr><th>Salario</th><th>Comisiones</th></tr>",
                            "<tr><td>5050000.0</td><td>0.0</td></tr>",
                            "<tr><td>1050000.0</td><td>200000.0</td></tr>",
                            "<tr><td>1050000.0</td><td>200000.0</td></tr>",
                            "<tr><td>1050000.0</td><td>200000.0</td></tr>",
                            "<tr><td>1200000.0</td><td>400000.0</td></tr>",
                            "<tr><td>1200000.0</td><td>400000.0</td></tr>",
                            "<tr><td>2550000.0</td><td>500000.0</td></tr>",
                            "<tr><td>4500000.0</td><td>500000.0</td></tr>",
                            "<tr><td>4500000.0</td><td>500000.0</td></tr>",
                            "<tr><td>750000.0</td><td>500000.0</td></tr>",
                            "<tr><td>1250000.0</td><td>500000.0</td></tr>",
                            "<tr><td>1250000.0</td><td>500000.0</td></tr>",
                            "<tr><td>2250000.0</td><td>1000000.0</td></tr>",
                            "<tr><td>3000000.0</td><td>1000000.0</td></tr>",
                            "<tr><td>3250000.0</td><td>1000000.0</td></tr>",
                            "<tr><td>850000.0</td><td>1500000.0</td></tr>",
                            "<tr><td>6250000.0</td><td>1500000.0</td></tr>",
                            "<tr><td>2250000.0</td><td>2500000.0</td></tr>",
                            "<tr><td>2250000.0</td><td>2500000.0</td></tr>",
                            "<tr><td>2250000.0</td><td>2500000.0</td></tr>",
                            "<tr><td>800000.0</td><td>3000000.0</td></tr>",
                            "<tr><td>800000.0</td><td>3100000.0</td></tr>",
                            "<tr><td>800000.0</td><td>3500000.0</td></tr>",
                            "<tr><td>3250000.0</td><td>3500000.0</td></tr>",
                            "<tr><td>800000.0</td><td>3600000.0</td></tr>",
                            "<tr><td>800000.0</td><td>3700000.0</td></tr>",
                            "</table>"
                        ]
                    }
                }
            ],
            "execution_count": 9
        },
        {
            "cell_type": "markdown",
            "source": [
                "9. <span style=\"color: rgb(102, 102, 102); font-family: Poppins; font-size: 15px; background-color: rgb(255, 255, 255);\">Listar todas las comisiones.</span>"
            ],
            "metadata": {
                "language": "sql",
                "azdata_cell_guid": "b9fbeee4-7a17-4241-ab10-dca4c95d7098"
            },
            "attachments": {}
        },
        {
            "cell_type": "code",
            "source": [
                "SELECT DISTINCT comisione as Comisiones\r\n",
                "FROM empleados;"
            ],
            "metadata": {
                "language": "sql",
                "azdata_cell_guid": "468a3c0c-5312-49a9-aca6-f09780c114df"
            },
            "outputs": [
                {
                    "output_type": "display_data",
                    "data": {
                        "text/html": "(12 row(s) affected)"
                    },
                    "metadata": {}
                },
                {
                    "output_type": "display_data",
                    "data": {
                        "text/html": "Total execution time: 00:00:01.012"
                    },
                    "metadata": {}
                },
                {
                    "output_type": "execute_result",
                    "metadata": {},
                    "execution_count": 10,
                    "data": {
                        "application/vnd.dataresource+json": {
                            "schema": {
                                "fields": [
                                    {
                                        "name": "Comisiones"
                                    }
                                ]
                            },
                            "data": [
                                {
                                    "Comisiones": "400000.0"
                                },
                                {
                                    "Comisiones": "3000000.0"
                                },
                                {
                                    "Comisiones": "3500000.0"
                                },
                                {
                                    "Comisiones": "3100000.0"
                                },
                                {
                                    "Comisiones": "3700000.0"
                                },
                                {
                                    "Comisiones": "500000.0"
                                },
                                {
                                    "Comisiones": "1500000.0"
                                },
                                {
                                    "Comisiones": "2500000.0"
                                },
                                {
                                    "Comisiones": "200000.0"
                                },
                                {
                                    "Comisiones": "0.0"
                                },
                                {
                                    "Comisiones": "1000000.0"
                                },
                                {
                                    "Comisiones": "3600000.0"
                                }
                            ]
                        },
                        "text/html": [
                            "<table>",
                            "<tr><th>Comisiones</th></tr>",
                            "<tr><td>400000.0</td></tr>",
                            "<tr><td>3000000.0</td></tr>",
                            "<tr><td>3500000.0</td></tr>",
                            "<tr><td>3100000.0</td></tr>",
                            "<tr><td>3700000.0</td></tr>",
                            "<tr><td>500000.0</td></tr>",
                            "<tr><td>1500000.0</td></tr>",
                            "<tr><td>2500000.0</td></tr>",
                            "<tr><td>200000.0</td></tr>",
                            "<tr><td>0.0</td></tr>",
                            "<tr><td>1000000.0</td></tr>",
                            "<tr><td>3600000.0</td></tr>",
                            "</table>"
                        ]
                    }
                }
            ],
            "execution_count": 10
        },
        {
            "cell_type": "markdown",
            "source": [
                "10. <span style=\"color: rgb(102, 102, 102); font-family: Poppins; font-size: 15px; background-color: rgb(255, 255, 255);\">Obtener el valor total a pagar que resulta de sumar a los empleados del departamento 3000 una bonificación de 500.000, en orden alfabético del empleado</span>"
            ],
            "metadata": {
                "language": "sql",
                "azdata_cell_guid": "6deeeb74-f453-49fa-9af3-546ebf4ac062"
            },
            "attachments": {}
        },
        {
            "cell_type": "code",
            "source": [
                "SELECT nomemp, codDepto, salemp, (salemp+500000) as 'Pago estimado'\r\n",
                "FROM empleados\r\n",
                "WHERE codDepto = '3000'\r\n",
                "ORDER BY nomemp;"
            ],
            "metadata": {
                "language": "sql",
                "azdata_cell_guid": "df8d4b62-4a3e-4887-bc89-f3e0f10c7d96"
            },
            "outputs": [
                {
                    "output_type": "display_data",
                    "data": {
                        "text/html": "(4 row(s) affected)"
                    },
                    "metadata": {}
                },
                {
                    "output_type": "display_data",
                    "data": {
                        "text/html": "Total execution time: 00:00:01.005"
                    },
                    "metadata": {}
                },
                {
                    "output_type": "execute_result",
                    "metadata": {},
                    "execution_count": 11,
                    "data": {
                        "application/vnd.dataresource+json": {
                            "schema": {
                                "fields": [
                                    {
                                        "name": "nomemp"
                                    },
                                    {
                                        "name": "codDepto"
                                    },
                                    {
                                        "name": "salemp"
                                    },
                                    {
                                        "name": "Pago estimado"
                                    }
                                ]
                            },
                            "data": [
                                {
                                    "nomemp": "Ana Moreno",
                                    "codDepto": "3000",
                                    "salemp": "1200000.0",
                                    "Pago estimado": "1700000.0"
                                },
                                {
                                    "nomemp": "Darío Casas",
                                    "codDepto": "3000",
                                    "salemp": "4500000.0",
                                    "Pago estimado": "5000000.0"
                                },
                                {
                                    "nomemp": "Marisol Pulido",
                                    "codDepto": "3000",
                                    "salemp": "3250000.0",
                                    "Pago estimado": "3750000.0"
                                },
                                {
                                    "nomemp": "William Daza",
                                    "codDepto": "3000",
                                    "salemp": "2250000.0",
                                    "Pago estimado": "2750000.0"
                                }
                            ]
                        },
                        "text/html": [
                            "<table>",
                            "<tr><th>nomemp</th><th>codDepto</th><th>salemp</th><th>Pago estimado</th></tr>",
                            "<tr><td>Ana Moreno</td><td>3000</td><td>1200000.0</td><td>1700000.0</td></tr>",
                            "<tr><td>Darío Casas</td><td>3000</td><td>4500000.0</td><td>5000000.0</td></tr>",
                            "<tr><td>Marisol Pulido</td><td>3000</td><td>3250000.0</td><td>3750000.0</td></tr>",
                            "<tr><td>William Daza</td><td>3000</td><td>2250000.0</td><td>2750000.0</td></tr>",
                            "</table>"
                        ]
                    }
                }
            ],
            "execution_count": 11
        },
        {
            "cell_type": "markdown",
            "source": [
                "11. <span style=\"color: rgb(102, 102, 102); font-family: Poppins; font-size: 15px; background-color: rgb(255, 255, 255);\">Obtener la lista de los empleados que ganan una comisión superior a su sueldo.</span>"
            ],
            "metadata": {
                "language": "sql",
                "azdata_cell_guid": "998a16a6-45fa-47eb-98ae-4d41b005ce6a"
            },
            "attachments": {}
        },
        {
            "cell_type": "code",
            "source": [
                "SELECT nomemp as Nombre, salemp as Sueldo, comisione as Comision\r\n",
                "FROM empleados\r\n",
                "WHERE comisionE > salEmp;"
            ],
            "metadata": {
                "language": "sql",
                "azdata_cell_guid": "c159a6aa-56fc-4d9e-8f7b-a071ca435ddf"
            },
            "outputs": [
                {
                    "output_type": "display_data",
                    "data": {
                        "text/html": "(10 row(s) affected)"
                    },
                    "metadata": {}
                },
                {
                    "output_type": "display_data",
                    "data": {
                        "text/html": "Total execution time: 00:00:01.003"
                    },
                    "metadata": {}
                },
                {
                    "output_type": "execute_result",
                    "metadata": {},
                    "execution_count": 12,
                    "data": {
                        "application/vnd.dataresource+json": {
                            "schema": {
                                "fields": [
                                    {
                                        "name": "Nombre"
                                    },
                                    {
                                        "name": "Sueldo"
                                    },
                                    {
                                        "name": "Comision"
                                    }
                                ]
                            },
                            "data": [
                                {
                                    "Nombre": "Pedro Blanco",
                                    "Sueldo": "800000.0",
                                    "Comision": "3000000.0"
                                },
                                {
                                    "Nombre": "Jesús Alfonso",
                                    "Sueldo": "800000.0",
                                    "Comision": "3500000.0"
                                },
                                {
                                    "Nombre": "Julián Mora",
                                    "Sueldo": "800000.0",
                                    "Comision": "3100000.0"
                                },
                                {
                                    "Nombre": "Manuel Millán",
                                    "Sueldo": "800000.0",
                                    "Comision": "3700000.0"
                                },
                                {
                                    "Nombre": "Antonio Gil",
                                    "Sueldo": "850000.0",
                                    "Comision": "1500000.0"
                                },
                                {
                                    "Nombre": "Melissa Roa",
                                    "Sueldo": "2250000.0",
                                    "Comision": "2500000.0"
                                },
                                {
                                    "Nombre": "Rosa Angulo",
                                    "Sueldo": "3250000.0",
                                    "Comision": "3500000.0"
                                },
                                {
                                    "Nombre": "Edith Muñoz",
                                    "Sueldo": "800000.0",
                                    "Comision": "3600000.0"
                                },
                                {
                                    "Nombre": "Mario Llano",
                                    "Sueldo": "2250000.0",
                                    "Comision": "2500000.0"
                                },
                                {
                                    "Nombre": "Joaquín Rosas",
                                    "Sueldo": "2250000.0",
                                    "Comision": "2500000.0"
                                }
                            ]
                        },
                        "text/html": [
                            "<table>",
                            "<tr><th>Nombre</th><th>Sueldo</th><th>Comision</th></tr>",
                            "<tr><td>Pedro Blanco</td><td>800000.0</td><td>3000000.0</td></tr>",
                            "<tr><td>Jesús Alfonso</td><td>800000.0</td><td>3500000.0</td></tr>",
                            "<tr><td>Julián Mora</td><td>800000.0</td><td>3100000.0</td></tr>",
                            "<tr><td>Manuel Millán</td><td>800000.0</td><td>3700000.0</td></tr>",
                            "<tr><td>Antonio Gil</td><td>850000.0</td><td>1500000.0</td></tr>",
                            "<tr><td>Melissa Roa</td><td>2250000.0</td><td>2500000.0</td></tr>",
                            "<tr><td>Rosa Angulo</td><td>3250000.0</td><td>3500000.0</td></tr>",
                            "<tr><td>Edith Muñoz</td><td>800000.0</td><td>3600000.0</td></tr>",
                            "<tr><td>Mario Llano</td><td>2250000.0</td><td>2500000.0</td></tr>",
                            "<tr><td>Joaquín Rosas</td><td>2250000.0</td><td>2500000.0</td></tr>",
                            "</table>"
                        ]
                    }
                }
            ],
            "execution_count": 12
        },
        {
            "cell_type": "markdown",
            "source": [
                "12.  <span style=\"color: rgb(102, 102, 102); font-family: Poppins; font-size: 15px; background-color: rgb(255, 255, 255);\">&nbsp;Listar los empleados cuya comisión es menor o igual que el 30% de su sueldo.</span>"
            ],
            "metadata": {
                "language": "sql",
                "azdata_cell_guid": "3d14af06-4aee-4851-bc32-a7aa75594afc"
            },
            "attachments": {}
        },
        {
            "cell_type": "code",
            "source": [
                "SELECT nomemp, salemp, comisione as Comision\r\n",
                "FROM empleados\r\n",
                "WHERE comisione <= (salEmp*0.3);"
            ],
            "metadata": {
                "language": "sql",
                "azdata_cell_guid": "9c4460d8-ba5a-40cf-b65e-fc0b3f73c410"
            },
            "outputs": [
                {
                    "output_type": "display_data",
                    "data": {
                        "text/html": "(8 row(s) affected)"
                    },
                    "metadata": {}
                },
                {
                    "output_type": "display_data",
                    "data": {
                        "text/html": "Total execution time: 00:00:01.014"
                    },
                    "metadata": {}
                },
                {
                    "output_type": "execute_result",
                    "metadata": {},
                    "execution_count": 13,
                    "data": {
                        "application/vnd.dataresource+json": {
                            "schema": {
                                "fields": [
                                    {
                                        "name": "nomemp"
                                    },
                                    {
                                        "name": "salemp"
                                    },
                                    {
                                        "name": "Comision"
                                    }
                                ]
                            },
                            "data": [
                                {
                                    "nomemp": "Marcos Cortez",
                                    "salemp": "2550000.0",
                                    "Comision": "500000.0"
                                },
                                {
                                    "nomemp": "Irene Díaz",
                                    "salemp": "1050000.0",
                                    "Comision": "200000.0"
                                },
                                {
                                    "nomemp": "Luis Pérez",
                                    "salemp": "5050000.0",
                                    "Comision": "0.0"
                                },
                                {
                                    "nomemp": "Darío Casas",
                                    "salemp": "4500000.0",
                                    "Comision": "500000.0"
                                },
                                {
                                    "nomemp": "Carla López",
                                    "salemp": "4500000.0",
                                    "Comision": "500000.0"
                                },
                                {
                                    "nomemp": "María Rojas",
                                    "salemp": "6250000.0",
                                    "Comision": "1500000.0"
                                },
                                {
                                    "nomemp": "Abel Gómez",
                                    "salemp": "1050000.0",
                                    "Comision": "200000.0"
                                },
                                {
                                    "nomemp": "Iván Duarte",
                                    "salemp": "1050000.0",
                                    "Comision": "200000.0"
                                }
                            ]
                        },
                        "text/html": [
                            "<table>",
                            "<tr><th>nomemp</th><th>salemp</th><th>Comision</th></tr>",
                            "<tr><td>Marcos Cortez</td><td>2550000.0</td><td>500000.0</td></tr>",
                            "<tr><td>Irene Díaz</td><td>1050000.0</td><td>200000.0</td></tr>",
                            "<tr><td>Luis Pérez</td><td>5050000.0</td><td>0.0</td></tr>",
                            "<tr><td>Darío Casas</td><td>4500000.0</td><td>500000.0</td></tr>",
                            "<tr><td>Carla López</td><td>4500000.0</td><td>500000.0</td></tr>",
                            "<tr><td>María Rojas</td><td>6250000.0</td><td>1500000.0</td></tr>",
                            "<tr><td>Abel Gómez</td><td>1050000.0</td><td>200000.0</td></tr>",
                            "<tr><td>Iván Duarte</td><td>1050000.0</td><td>200000.0</td></tr>",
                            "</table>"
                        ]
                    }
                }
            ],
            "execution_count": 13
        },
        {
            "cell_type": "markdown",
            "source": [
                "13. <span style=\"color: rgb(102, 102, 102); font-family: Poppins; font-size: 15px; background-color: rgb(255, 255, 255);\">Elabore un listado donde para cada fila, figure ‘Nombre’ y ‘Cargo’ antes del valor respectivo para cada empleado.</span>"
            ],
            "metadata": {
                "language": "sql",
                "azdata_cell_guid": "432e0691-03f8-4397-9060-8ce9d84d7283"
            },
            "attachments": {}
        },
        {
            "cell_type": "code",
            "source": [
                "SELECT nomemp as 'Nombre', cargoe as 'Cargo'\r\n",
                "FROM empleados;"
            ],
            "metadata": {
                "language": "sql",
                "azdata_cell_guid": "e1739c5d-2d02-4dc8-8226-c3c664352b75"
            },
            "outputs": [
                {
                    "output_type": "display_data",
                    "data": {
                        "text/html": "(26 row(s) affected)"
                    },
                    "metadata": {}
                },
                {
                    "output_type": "display_data",
                    "data": {
                        "text/html": "Total execution time: 00:00:01.017"
                    },
                    "metadata": {}
                },
                {
                    "output_type": "execute_result",
                    "metadata": {},
                    "execution_count": 14,
                    "data": {
                        "application/vnd.dataresource+json": {
                            "schema": {
                                "fields": [
                                    {
                                        "name": "Nombre"
                                    },
                                    {
                                        "name": "Cargo"
                                    }
                                ]
                            },
                            "data": [
                                {
                                    "Nombre": "José Giraldo",
                                    "Cargo": "Asesor"
                                },
                                {
                                    "Nombre": "Pedro Blanco",
                                    "Cargo": "Vendedor"
                                },
                                {
                                    "Nombre": "Jesús Alfonso",
                                    "Cargo": "Vendedor"
                                },
                                {
                                    "Nombre": "Julián Mora",
                                    "Cargo": "Vendedor"
                                },
                                {
                                    "Nombre": "Manuel Millán",
                                    "Cargo": "Vendedor"
                                },
                                {
                                    "Nombre": "Marcos Cortez",
                                    "Cargo": "Mecánico"
                                },
                                {
                                    "Nombre": "Antonio Gil",
                                    "Cargo": "Técnico"
                                },
                                {
                                    "Nombre": "Melissa Roa",
                                    "Cargo": "Vendedor"
                                },
                                {
                                    "Nombre": "Irene Díaz",
                                    "Cargo": "Mecánico"
                                },
                                {
                                    "Nombre": "Luis Pérez",
                                    "Cargo": "Director"
                                },
                                {
                                    "Nombre": "Darío Casas",
                                    "Cargo": "Investigador"
                                },
                                {
                                    "Nombre": "William Daza",
                                    "Cargo": "Investigador"
                                },
                                {
                                    "Nombre": "Carla López",
                                    "Cargo": "Jefe Mercadeo"
                                },
                                {
                                    "Nombre": "Carlos Rozo",
                                    "Cargo": "Vigilante"
                                },
                                {
                                    "Nombre": "Diana Solarte",
                                    "Cargo": "Secretaria"
                                },
                                {
                                    "Nombre": "Rosa Angulo",
                                    "Cargo": "Jefe Ventas"
                                },
                                {
                                    "Nombre": "María Rojas",
                                    "Cargo": "Gerente"
                                },
                                {
                                    "Nombre": "Elisa Rojas",
                                    "Cargo": "Jefe Mecánicos"
                                },
                                {
                                    "Nombre": "Marisol Pulido",
                                    "Cargo": "Investigador"
                                },
                                {
                                    "Nombre": "Ana Moreno",
                                    "Cargo": "Secretaria"
                                },
                                {
                                    "Nombre": "Carolina Ríos",
                                    "Cargo": "Secretaria"
                                },
                                {
                                    "Nombre": "Edith Muñoz",
                                    "Cargo": "Vendedor"
                                },
                                {
                                    "Nombre": "Abel Gómez",
                                    "Cargo": "Mecánico"
                                },
                                {
                                    "Nombre": "Mario Llano",
                                    "Cargo": "Vendedor"
                                },
                                {
                                    "Nombre": "Joaquín Rosas",
                                    "Cargo": "Vendedor"
                                },
                                {
                                    "Nombre": "Iván Duarte",
                                    "Cargo": "Mecánico"
                                }
                            ]
                        },
                        "text/html": [
                            "<table>",
                            "<tr><th>Nombre</th><th>Cargo</th></tr>",
                            "<tr><td>José Giraldo</td><td>Asesor</td></tr>",
                            "<tr><td>Pedro Blanco</td><td>Vendedor</td></tr>",
                            "<tr><td>Jesús Alfonso</td><td>Vendedor</td></tr>",
                            "<tr><td>Julián Mora</td><td>Vendedor</td></tr>",
                            "<tr><td>Manuel Millán</td><td>Vendedor</td></tr>",
                            "<tr><td>Marcos Cortez</td><td>Mecánico</td></tr>",
                            "<tr><td>Antonio Gil</td><td>Técnico</td></tr>",
                            "<tr><td>Melissa Roa</td><td>Vendedor</td></tr>",
                            "<tr><td>Irene Díaz</td><td>Mecánico</td></tr>",
                            "<tr><td>Luis Pérez</td><td>Director</td></tr>",
                            "<tr><td>Darío Casas</td><td>Investigador</td></tr>",
                            "<tr><td>William Daza</td><td>Investigador</td></tr>",
                            "<tr><td>Carla López</td><td>Jefe Mercadeo</td></tr>",
                            "<tr><td>Carlos Rozo</td><td>Vigilante</td></tr>",
                            "<tr><td>Diana Solarte</td><td>Secretaria</td></tr>",
                            "<tr><td>Rosa Angulo</td><td>Jefe Ventas</td></tr>",
                            "<tr><td>María Rojas</td><td>Gerente</td></tr>",
                            "<tr><td>Elisa Rojas</td><td>Jefe Mecánicos</td></tr>",
                            "<tr><td>Marisol Pulido</td><td>Investigador</td></tr>",
                            "<tr><td>Ana Moreno</td><td>Secretaria</td></tr>",
                            "<tr><td>Carolina Ríos</td><td>Secretaria</td></tr>",
                            "<tr><td>Edith Muñoz</td><td>Vendedor</td></tr>",
                            "<tr><td>Abel Gómez</td><td>Mecánico</td></tr>",
                            "<tr><td>Mario Llano</td><td>Vendedor</td></tr>",
                            "<tr><td>Joaquín Rosas</td><td>Vendedor</td></tr>",
                            "<tr><td>Iván Duarte</td><td>Mecánico</td></tr>",
                            "</table>"
                        ]
                    }
                }
            ],
            "execution_count": 14
        },
        {
            "cell_type": "markdown",
            "source": [
                "14. <span style=\"color: rgb(102, 102, 102); font-family: Poppins; font-size: 15px; background-color: rgb(255, 255, 255);\">Hallar el salario y la comisión de aquellos empleados cuyo número de documento de identidad es superior al ‘19.709.802’.</span>"
            ],
            "metadata": {
                "language": "sql",
                "azdata_cell_guid": "f1a30612-8e12-4787-a12e-172eb3981200"
            },
            "attachments": {}
        },
        {
            "cell_type": "code",
            "source": [
                "SELECT nDIEmp as Documento_Identidad, salemp as Salario, comisione as Comisión\r\n",
                "FROM empleados\r\n",
                "WHERE nDIEmp > '19.709.802'"
            ],
            "metadata": {
                "language": "sql",
                "azdata_cell_guid": "5fbb1c45-9e0f-4793-8bf7-2de34c6dcbf2"
            },
            "outputs": [
                {
                    "output_type": "display_data",
                    "data": {
                        "text/html": "(14 row(s) affected)"
                    },
                    "metadata": {}
                },
                {
                    "output_type": "display_data",
                    "data": {
                        "text/html": "Total execution time: 00:00:01.005"
                    },
                    "metadata": {}
                },
                {
                    "output_type": "execute_result",
                    "metadata": {},
                    "execution_count": 15,
                    "data": {
                        "application/vnd.dataresource+json": {
                            "schema": {
                                "fields": [
                                    {
                                        "name": "Documento_Identidad"
                                    },
                                    {
                                        "name": "Salario"
                                    },
                                    {
                                        "name": "Comisión"
                                    }
                                ]
                            },
                            "data": [
                                {
                                    "Documento_Identidad": "22.222.222",
                                    "Salario": "4500000.0",
                                    "Comisión": "500000.0"
                                },
                                {
                                    "Documento_Identidad": "22.222.333",
                                    "Salario": "750000.0",
                                    "Comisión": "500000.0"
                                },
                                {
                                    "Documento_Identidad": "31.174.099",
                                    "Salario": "1250000.0",
                                    "Comisión": "500000.0"
                                },
                                {
                                    "Documento_Identidad": "31.178.144",
                                    "Salario": "3250000.0",
                                    "Comisión": "3500000.0"
                                },
                                {
                                    "Documento_Identidad": "31.840.269",
                                    "Salario": "6250000.0",
                                    "Comisión": "1500000.0"
                                },
                                {
                                    "Documento_Identidad": "333.333.333",
                                    "Salario": "3000000.0",
                                    "Comisión": "1000000.0"
                                },
                                {
                                    "Documento_Identidad": "333.333.334",
                                    "Salario": "3250000.0",
                                    "Comisión": "1000000.0"
                                },
                                {
                                    "Documento_Identidad": "333.333.335",
                                    "Salario": "1200000.0",
                                    "Comisión": "400000.0"
                                },
                                {
                                    "Documento_Identidad": "333.333.336",
                                    "Salario": "1250000.0",
                                    "Comisión": "500000.0"
                                },
                                {
                                    "Documento_Identidad": "333.333.337",
                                    "Salario": "800000.0",
                                    "Comisión": "3600000.0"
                                },
                                {
                                    "Documento_Identidad": "444.444",
                                    "Salario": "1050000.0",
                                    "Comisión": "200000.0"
                                },
                                {
                                    "Documento_Identidad": "737.689",
                                    "Salario": "2250000.0",
                                    "Comisión": "2500000.0"
                                },
                                {
                                    "Documento_Identidad": "768.782",
                                    "Salario": "2250000.0",
                                    "Comisión": "2500000.0"
                                },
                                {
                                    "Documento_Identidad": "888.888",
                                    "Salario": "1050000.0",
                                    "Comisión": "200000.0"
                                }
                            ]
                        },
                        "text/html": [
                            "<table>",
                            "<tr><th>Documento_Identidad</th><th>Salario</th><th>Comisión</th></tr>",
                            "<tr><td>22.222.222</td><td>4500000.0</td><td>500000.0</td></tr>",
                            "<tr><td>22.222.333</td><td>750000.0</td><td>500000.0</td></tr>",
                            "<tr><td>31.174.099</td><td>1250000.0</td><td>500000.0</td></tr>",
                            "<tr><td>31.178.144</td><td>3250000.0</td><td>3500000.0</td></tr>",
                            "<tr><td>31.840.269</td><td>6250000.0</td><td>1500000.0</td></tr>",
                            "<tr><td>333.333.333</td><td>3000000.0</td><td>1000000.0</td></tr>",
                            "<tr><td>333.333.334</td><td>3250000.0</td><td>1000000.0</td></tr>",
                            "<tr><td>333.333.335</td><td>1200000.0</td><td>400000.0</td></tr>",
                            "<tr><td>333.333.336</td><td>1250000.0</td><td>500000.0</td></tr>",
                            "<tr><td>333.333.337</td><td>800000.0</td><td>3600000.0</td></tr>",
                            "<tr><td>444.444</td><td>1050000.0</td><td>200000.0</td></tr>",
                            "<tr><td>737.689</td><td>2250000.0</td><td>2500000.0</td></tr>",
                            "<tr><td>768.782</td><td>2250000.0</td><td>2500000.0</td></tr>",
                            "<tr><td>888.888</td><td>1050000.0</td><td>200000.0</td></tr>",
                            "</table>"
                        ]
                    }
                }
            ],
            "execution_count": 15
        },
        {
            "cell_type": "markdown",
            "source": [
                "15. <span style=\"color: rgb(102, 102, 102); font-family: Poppins; font-size: 15px; background-color: rgb(255, 255, 255);\">Muestra los empleados cuyo nombre empiece entre las letras J y Z (rango).</span>  \n",
                "<span style=\"color: rgb(102, 102, 102); font-family: Poppins; font-size: 15px; background-color: rgb(255, 255, 255);\">Liste estos empleados y su cargo por orden alfabético.</span>"
            ],
            "metadata": {
                "language": "sql",
                "azdata_cell_guid": "92201b5b-db29-4491-b991-35d5abf578f8"
            },
            "attachments": {}
        },
        {
            "cell_type": "code",
            "source": [
                "SELECT nomemp as Nombre, cargoe as Cargo\r\n",
                "FROM empleados\r\n",
                "WHERE lower(nomemp) > 'j' AND lower(nomemp) < 'z'\r\n",
                "ORDER BY Nombre;"
            ],
            "metadata": {
                "language": "sql",
                "azdata_cell_guid": "52c57bf1-12df-45f9-ab38-b2b8f5415df6"
            },
            "outputs": [
                {
                    "output_type": "display_data",
                    "data": {
                        "text/html": "(14 row(s) affected)"
                    },
                    "metadata": {}
                },
                {
                    "output_type": "display_data",
                    "data": {
                        "text/html": "Total execution time: 00:00:01.005"
                    },
                    "metadata": {}
                },
                {
                    "output_type": "execute_result",
                    "metadata": {},
                    "execution_count": 16,
                    "data": {
                        "application/vnd.dataresource+json": {
                            "schema": {
                                "fields": [
                                    {
                                        "name": "Nombre"
                                    },
                                    {
                                        "name": "Cargo"
                                    }
                                ]
                            },
                            "data": [
                                {
                                    "Nombre": "Jesús Alfonso",
                                    "Cargo": "Vendedor"
                                },
                                {
                                    "Nombre": "Joaquín Rosas",
                                    "Cargo": "Vendedor"
                                },
                                {
                                    "Nombre": "José Giraldo",
                                    "Cargo": "Asesor"
                                },
                                {
                                    "Nombre": "Julián Mora",
                                    "Cargo": "Vendedor"
                                },
                                {
                                    "Nombre": "Luis Pérez",
                                    "Cargo": "Director"
                                },
                                {
                                    "Nombre": "Manuel Millán",
                                    "Cargo": "Vendedor"
                                },
                                {
                                    "Nombre": "Marcos Cortez",
                                    "Cargo": "Mecánico"
                                },
                                {
                                    "Nombre": "Mario Llano",
                                    "Cargo": "Vendedor"
                                },
                                {
                                    "Nombre": "Marisol Pulido",
                                    "Cargo": "Investigador"
                                },
                                {
                                    "Nombre": "María Rojas",
                                    "Cargo": "Gerente"
                                },
                                {
                                    "Nombre": "Melissa Roa",
                                    "Cargo": "Vendedor"
                                },
                                {
                                    "Nombre": "Pedro Blanco",
                                    "Cargo": "Vendedor"
                                },
                                {
                                    "Nombre": "Rosa Angulo",
                                    "Cargo": "Jefe Ventas"
                                },
                                {
                                    "Nombre": "William Daza",
                                    "Cargo": "Investigador"
                                }
                            ]
                        },
                        "text/html": [
                            "<table>",
                            "<tr><th>Nombre</th><th>Cargo</th></tr>",
                            "<tr><td>Jesús Alfonso</td><td>Vendedor</td></tr>",
                            "<tr><td>Joaquín Rosas</td><td>Vendedor</td></tr>",
                            "<tr><td>José Giraldo</td><td>Asesor</td></tr>",
                            "<tr><td>Julián Mora</td><td>Vendedor</td></tr>",
                            "<tr><td>Luis Pérez</td><td>Director</td></tr>",
                            "<tr><td>Manuel Millán</td><td>Vendedor</td></tr>",
                            "<tr><td>Marcos Cortez</td><td>Mecánico</td></tr>",
                            "<tr><td>Mario Llano</td><td>Vendedor</td></tr>",
                            "<tr><td>Marisol Pulido</td><td>Investigador</td></tr>",
                            "<tr><td>María Rojas</td><td>Gerente</td></tr>",
                            "<tr><td>Melissa Roa</td><td>Vendedor</td></tr>",
                            "<tr><td>Pedro Blanco</td><td>Vendedor</td></tr>",
                            "<tr><td>Rosa Angulo</td><td>Jefe Ventas</td></tr>",
                            "<tr><td>William Daza</td><td>Investigador</td></tr>",
                            "</table>"
                        ]
                    }
                }
            ],
            "execution_count": 16
        },
        {
            "cell_type": "markdown",
            "source": [
                "<span style=\"color: rgb(102, 102, 102); font-family: Poppins; font-size: 15px; background-color: rgb(255, 255, 255);\">16. Listar el salario, la comisión, el salario total (salario + comisión), documento de identidad del empleado y nombre, de aquellos empleados que tienen comisión superior a 1.000.000, ordenar el informe por el número del documento de identidad</span>"
            ],
            "metadata": {
                "language": "sql",
                "azdata_cell_guid": "9dcbd6e9-d5b2-4ba5-9fd1-89b7324fd795"
            },
            "attachments": {}
        },
        {
            "cell_type": "code",
            "source": [
                "SELECT salemp as Salario, comisione as Comison,\r\n",
                "        (salemp + comisione) as 'Salario Total',\r\n",
                "        ndiemp as Documento_Identidad\r\n",
                "FROM empleados\r\n",
                "WHERE comisione > 1000000\r\n",
                "ORDER BY ndiemp;"
            ],
            "metadata": {
                "language": "sql",
                "azdata_cell_guid": "3d24b08b-f3e3-4cdc-9bf1-15202dff79a2"
            },
            "outputs": [
                {
                    "output_type": "display_data",
                    "data": {
                        "text/html": "(11 row(s) affected)"
                    },
                    "metadata": {}
                },
                {
                    "output_type": "display_data",
                    "data": {
                        "text/html": "Total execution time: 00:00:01.016"
                    },
                    "metadata": {}
                },
                {
                    "output_type": "execute_result",
                    "metadata": {},
                    "execution_count": 17,
                    "data": {
                        "application/vnd.dataresource+json": {
                            "schema": {
                                "fields": [
                                    {
                                        "name": "Salario"
                                    },
                                    {
                                        "name": "Comison"
                                    },
                                    {
                                        "name": "Salario Total"
                                    },
                                    {
                                        "name": "Documento_Identidad"
                                    }
                                ]
                            },
                            "data": [
                                {
                                    "Salario": "800000.0",
                                    "Comison": "3000000.0",
                                    "Salario Total": "3800000.0",
                                    "Documento_Identidad": "1.130.333"
                                },
                                {
                                    "Salario": "800000.0",
                                    "Comison": "3500000.0",
                                    "Salario Total": "4300000.0",
                                    "Documento_Identidad": "1.130.444"
                                },
                                {
                                    "Salario": "800000.0",
                                    "Comison": "3100000.0",
                                    "Salario Total": "3900000.0",
                                    "Documento_Identidad": "1.130.555"
                                },
                                {
                                    "Salario": "800000.0",
                                    "Comison": "3700000.0",
                                    "Salario Total": "4500000.0",
                                    "Documento_Identidad": "1.130.666"
                                },
                                {
                                    "Salario": "850000.0",
                                    "Comison": "1500000.0",
                                    "Salario Total": "2350000.0",
                                    "Documento_Identidad": "1.130.782"
                                },
                                {
                                    "Salario": "2250000.0",
                                    "Comison": "2500000.0",
                                    "Salario Total": "4750000.0",
                                    "Documento_Identidad": "1.751.219"
                                },
                                {
                                    "Salario": "3250000.0",
                                    "Comison": "3500000.0",
                                    "Salario Total": "6750000.0",
                                    "Documento_Identidad": "31.178.144"
                                },
                                {
                                    "Salario": "6250000.0",
                                    "Comison": "1500000.0",
                                    "Salario Total": "7750000.0",
                                    "Documento_Identidad": "31.840.269"
                                },
                                {
                                    "Salario": "800000.0",
                                    "Comison": "3600000.0",
                                    "Salario Total": "4400000.0",
                                    "Documento_Identidad": "333.333.337"
                                },
                                {
                                    "Salario": "2250000.0",
                                    "Comison": "2500000.0",
                                    "Salario Total": "4750000.0",
                                    "Documento_Identidad": "737.689"
                                },
                                {
                                    "Salario": "2250000.0",
                                    "Comison": "2500000.0",
                                    "Salario Total": "4750000.0",
                                    "Documento_Identidad": "768.782"
                                }
                            ]
                        },
                        "text/html": [
                            "<table>",
                            "<tr><th>Salario</th><th>Comison</th><th>Salario Total</th><th>Documento_Identidad</th></tr>",
                            "<tr><td>800000.0</td><td>3000000.0</td><td>3800000.0</td><td>1.130.333</td></tr>",
                            "<tr><td>800000.0</td><td>3500000.0</td><td>4300000.0</td><td>1.130.444</td></tr>",
                            "<tr><td>800000.0</td><td>3100000.0</td><td>3900000.0</td><td>1.130.555</td></tr>",
                            "<tr><td>800000.0</td><td>3700000.0</td><td>4500000.0</td><td>1.130.666</td></tr>",
                            "<tr><td>850000.0</td><td>1500000.0</td><td>2350000.0</td><td>1.130.782</td></tr>",
                            "<tr><td>2250000.0</td><td>2500000.0</td><td>4750000.0</td><td>1.751.219</td></tr>",
                            "<tr><td>3250000.0</td><td>3500000.0</td><td>6750000.0</td><td>31.178.144</td></tr>",
                            "<tr><td>6250000.0</td><td>1500000.0</td><td>7750000.0</td><td>31.840.269</td></tr>",
                            "<tr><td>800000.0</td><td>3600000.0</td><td>4400000.0</td><td>333.333.337</td></tr>",
                            "<tr><td>2250000.0</td><td>2500000.0</td><td>4750000.0</td><td>737.689</td></tr>",
                            "<tr><td>2250000.0</td><td>2500000.0</td><td>4750000.0</td><td>768.782</td></tr>",
                            "</table>"
                        ]
                    }
                }
            ],
            "execution_count": 17
        },
        {
            "cell_type": "markdown",
            "source": [
                "<span style=\"color: rgb(102, 102, 102); font-family: Poppins; font-size: 15px; background-color: rgb(255, 255, 255);\">17. Obtener un listado similar al anterior, pero de aquellos empleados que NO tienen comisión</span>"
            ],
            "metadata": {
                "language": "sql",
                "azdata_cell_guid": "f2a958b2-7bb9-4a2f-a603-50d391b11c8f"
            },
            "attachments": {}
        },
        {
            "cell_type": "code",
            "source": [
                "SELECT salemp AS Salario, comisione AS Comision,\r\n",
                "        (salemp + comisione) as 'Salario Total',\r\n",
                "        ndiemp AS Doc_Identidad\r\n",
                "FROM empleados\r\n",
                "WHERE comisione = 0 \r\n",
                "ORDER BY ndiemp;"
            ],
            "metadata": {
                "language": "sql",
                "azdata_cell_guid": "0ddd1e57-2c3d-4ef3-b2ed-33122c07de8e"
            },
            "outputs": [
                {
                    "output_type": "display_data",
                    "data": {
                        "text/html": "(1 row(s) affected)"
                    },
                    "metadata": {}
                },
                {
                    "output_type": "display_data",
                    "data": {
                        "text/html": "Total execution time: 00:00:01.011"
                    },
                    "metadata": {}
                },
                {
                    "output_type": "execute_result",
                    "metadata": {},
                    "execution_count": 18,
                    "data": {
                        "application/vnd.dataresource+json": {
                            "schema": {
                                "fields": [
                                    {
                                        "name": "Salario"
                                    },
                                    {
                                        "name": "Comision"
                                    },
                                    {
                                        "name": "Salario Total"
                                    },
                                    {
                                        "name": "Doc_Identidad"
                                    }
                                ]
                            },
                            "data": [
                                {
                                    "Salario": "5050000.0",
                                    "Comision": "0.0",
                                    "Salario Total": "5050000.0",
                                    "Doc_Identidad": "16.211.383"
                                }
                            ]
                        },
                        "text/html": [
                            "<table>",
                            "<tr><th>Salario</th><th>Comision</th><th>Salario Total</th><th>Doc_Identidad</th></tr>",
                            "<tr><td>5050000.0</td><td>0.0</td><td>5050000.0</td><td>16.211.383</td></tr>",
                            "</table>"
                        ]
                    }
                }
            ],
            "execution_count": 18
        },
        {
            "cell_type": "markdown",
            "source": [
                "18. <span style=\"color: rgb(102, 102, 102); font-family: Poppins; font-size: 15px; background-color: rgb(255, 255, 255);\">Hallar los empleados cuyo nombre no contiene la cadena «MA»</span>"
            ],
            "metadata": {
                "language": "sql",
                "azdata_cell_guid": "f9b9259b-8336-4147-9301-bb44be9819d9"
            },
            "attachments": {}
        },
        {
            "cell_type": "code",
            "source": [
                "SELECT nomEmp AS Nombre_empleados\r\n",
                "FROM empleados\r\n",
                "WHERE lower(nomEmp) not like '%ma%';"
            ],
            "metadata": {
                "language": "sql",
                "azdata_cell_guid": "92cbd71b-97ef-43e7-80ec-9256d6ab85c2"
            },
            "outputs": [
                {
                    "output_type": "display_data",
                    "data": {
                        "text/html": "(21 row(s) affected)"
                    },
                    "metadata": {}
                },
                {
                    "output_type": "display_data",
                    "data": {
                        "text/html": "Total execution time: 00:00:01.017"
                    },
                    "metadata": {}
                },
                {
                    "output_type": "execute_result",
                    "metadata": {},
                    "execution_count": 19,
                    "data": {
                        "application/vnd.dataresource+json": {
                            "schema": {
                                "fields": [
                                    {
                                        "name": "Nombre_empleados"
                                    }
                                ]
                            },
                            "data": [
                                {
                                    "Nombre_empleados": "José Giraldo"
                                },
                                {
                                    "Nombre_empleados": "Pedro Blanco"
                                },
                                {
                                    "Nombre_empleados": "Jesús Alfonso"
                                },
                                {
                                    "Nombre_empleados": "Julián Mora"
                                },
                                {
                                    "Nombre_empleados": "Antonio Gil"
                                },
                                {
                                    "Nombre_empleados": "Melissa Roa"
                                },
                                {
                                    "Nombre_empleados": "Irene Díaz"
                                },
                                {
                                    "Nombre_empleados": "Luis Pérez"
                                },
                                {
                                    "Nombre_empleados": "Darío Casas"
                                },
                                {
                                    "Nombre_empleados": "William Daza"
                                },
                                {
                                    "Nombre_empleados": "Carla López"
                                },
                                {
                                    "Nombre_empleados": "Carlos Rozo"
                                },
                                {
                                    "Nombre_empleados": "Diana Solarte"
                                },
                                {
                                    "Nombre_empleados": "Rosa Angulo"
                                },
                                {
                                    "Nombre_empleados": "Elisa Rojas"
                                },
                                {
                                    "Nombre_empleados": "Ana Moreno"
                                },
                                {
                                    "Nombre_empleados": "Carolina Ríos"
                                },
                                {
                                    "Nombre_empleados": "Edith Muñoz"
                                },
                                {
                                    "Nombre_empleados": "Abel Gómez"
                                },
                                {
                                    "Nombre_empleados": "Joaquín Rosas"
                                },
                                {
                                    "Nombre_empleados": "Iván Duarte"
                                }
                            ]
                        },
                        "text/html": [
                            "<table>",
                            "<tr><th>Nombre_empleados</th></tr>",
                            "<tr><td>José Giraldo</td></tr>",
                            "<tr><td>Pedro Blanco</td></tr>",
                            "<tr><td>Jesús Alfonso</td></tr>",
                            "<tr><td>Julián Mora</td></tr>",
                            "<tr><td>Antonio Gil</td></tr>",
                            "<tr><td>Melissa Roa</td></tr>",
                            "<tr><td>Irene Díaz</td></tr>",
                            "<tr><td>Luis Pérez</td></tr>",
                            "<tr><td>Darío Casas</td></tr>",
                            "<tr><td>William Daza</td></tr>",
                            "<tr><td>Carla López</td></tr>",
                            "<tr><td>Carlos Rozo</td></tr>",
                            "<tr><td>Diana Solarte</td></tr>",
                            "<tr><td>Rosa Angulo</td></tr>",
                            "<tr><td>Elisa Rojas</td></tr>",
                            "<tr><td>Ana Moreno</td></tr>",
                            "<tr><td>Carolina Ríos</td></tr>",
                            "<tr><td>Edith Muñoz</td></tr>",
                            "<tr><td>Abel Gómez</td></tr>",
                            "<tr><td>Joaquín Rosas</td></tr>",
                            "<tr><td>Iván Duarte</td></tr>",
                            "</table>"
                        ]
                    }
                }
            ],
            "execution_count": 19
        },
        {
            "cell_type": "markdown",
            "source": [
                "19. <span style=\"color: rgb(102, 102, 102); font-family: Poppins; font-size: 15px; background-color: rgb(255, 255, 255);\">Obtener los nombres de los departamentos que no sean “Ventas” ni “Investigación” NI</span>  \n",
                "<span style=\"color: rgb(102, 102, 102); font-family: Poppins; font-size: 15px; background-color: rgb(255, 255, 255);\">‘MANTENIMIENTO’.</span>"
            ],
            "metadata": {
                "language": "sql",
                "azdata_cell_guid": "d3b142ff-45b4-4e67-a143-66925325e21a"
            },
            "attachments": {}
        },
        {
            "cell_type": "code",
            "source": [
                "USE empleados;"
            ],
            "metadata": {
                "azdata_cell_guid": "7a7e7bb5-9290-4249-8966-5f06be2db339",
                "language": "sql"
            },
            "outputs": [
                {
                    "output_type": "display_data",
                    "data": {
                        "text/html": "Commands completed successfully"
                    },
                    "metadata": {}
                },
                {
                    "output_type": "display_data",
                    "data": {
                        "text/html": "Total execution time: 00:00:00"
                    },
                    "metadata": {}
                }
            ],
            "execution_count": 20
        },
        {
            "cell_type": "code",
            "source": [
                "\r\n",
                "SELECT nombreDpto as Nombre_departamento\r\n",
                "FROM departamentos\r\n",
                "WHERE lower(nombreDpto) not in ('ventas', 'investigación', 'mantenimiento');"
            ],
            "metadata": {
                "language": "sql",
                "azdata_cell_guid": "30bc8db0-b322-4c5a-9132-fbdfb2c7f964"
            },
            "outputs": [
                {
                    "output_type": "display_data",
                    "data": {
                        "text/html": "(3 row(s) affected)"
                    },
                    "metadata": {}
                },
                {
                    "output_type": "display_data",
                    "data": {
                        "text/html": "Total execution time: 00:00:01.003"
                    },
                    "metadata": {}
                },
                {
                    "output_type": "execute_result",
                    "metadata": {},
                    "execution_count": 21,
                    "data": {
                        "application/vnd.dataresource+json": {
                            "schema": {
                                "fields": [
                                    {
                                        "name": "Nombre_departamento"
                                    }
                                ]
                            },
                            "data": [
                                {
                                    "Nombre_departamento": "GERENCIA"
                                },
                                {
                                    "Nombre_departamento": "PRODUCCIÓN"
                                },
                                {
                                    "Nombre_departamento": "MERCADEO"
                                }
                            ]
                        },
                        "text/html": [
                            "<table>",
                            "<tr><th>Nombre_departamento</th></tr>",
                            "<tr><td>GERENCIA</td></tr>",
                            "<tr><td>PRODUCCIÓN</td></tr>",
                            "<tr><td>MERCADEO</td></tr>",
                            "</table>"
                        ]
                    }
                }
            ],
            "execution_count": 21
        },
        {
            "cell_type": "markdown",
            "source": [
                "20. <span style=\"color: rgb(102, 102, 102); font-family: Poppins; font-size: 15px; background-color: rgb(255, 255, 255);\">Obtener el nombre y el departamento de los empleados con cargo ‘Secretaria’ o ‘Vendedor’, que no trabajan en el departamento de “PRODUCCION”, cuyo salario es superior a $1.000.000, ordenados por fecha de incorporación.</span>"
            ],
            "metadata": {
                "language": "sql",
                "azdata_cell_guid": "01e2128b-b677-4693-aad9-db8581aff2d7"
            },
            "attachments": {}
        },
        {
            "cell_type": "code",
            "source": [
                "SELECT e.nomEmp, e.codDepto, e.CargoE, d.nombreDpto, d.codDepto \r\n",
                "FROM empleados e, departamentos d    \r\n",
                "WHERE e.codDepto=d.codDepto AND lower(e.cargoE)='Secretaria' OR lower(e.cargoE)='vendedor'\r\n",
                "AND lower(d.nombreDpto) <> 'Produccion' AND e.salEmp > 1000000\r\n",
                "ORDER BY e.fecIncorporacion;\r\n",
                ""
            ],
            "metadata": {
                "language": "sql",
                "azdata_cell_guid": "14d7e73e-cd71-45c2-8508-f431dcb7be82"
            },
            "outputs": [
                {
                    "output_type": "display_data",
                    "data": {
                        "text/html": "(36 row(s) affected)"
                    },
                    "metadata": {}
                },
                {
                    "output_type": "display_data",
                    "data": {
                        "text/html": "Total execution time: 00:00:01.003"
                    },
                    "metadata": {}
                },
                {
                    "output_type": "execute_result",
                    "metadata": {},
                    "execution_count": 22,
                    "data": {
                        "application/vnd.dataresource+json": {
                            "schema": {
                                "fields": [
                                    {
                                        "name": "nomEmp"
                                    },
                                    {
                                        "name": "codDepto"
                                    },
                                    {
                                        "name": "CargoE"
                                    },
                                    {
                                        "name": "nombreDpto"
                                    },
                                    {
                                        "name": "codDepto"
                                    }
                                ]
                            },
                            "data": [
                                {
                                    "nomEmp": "Mario Llano",
                                    "codDepto": "2300",
                                    "CargoE": "Vendedor",
                                    "nombreDpto": "VENTAS"
                                },
                                {
                                    "nomEmp": "Joaquín Rosas",
                                    "codDepto": "4300",
                                    "CargoE": "Vendedor",
                                    "nombreDpto": "MANTENIMIENTO"
                                },
                                {
                                    "nomEmp": "Joaquín Rosas",
                                    "codDepto": "4200",
                                    "CargoE": "Vendedor",
                                    "nombreDpto": "MANTENIMIENTO"
                                },
                                {
                                    "nomEmp": "Joaquín Rosas",
                                    "codDepto": "4100",
                                    "CargoE": "Vendedor",
                                    "nombreDpto": "MANTENIMIENTO"
                                },
                                {
                                    "nomEmp": "Joaquín Rosas",
                                    "codDepto": "4000",
                                    "CargoE": "Vendedor",
                                    "nombreDpto": "MANTENIMIENTO"
                                },
                                {
                                    "nomEmp": "Joaquín Rosas",
                                    "codDepto": "3500",
                                    "CargoE": "Vendedor",
                                    "nombreDpto": "MERCADEO"
                                },
                                {
                                    "nomEmp": "Joaquín Rosas",
                                    "codDepto": "3000",
                                    "CargoE": "Vendedor",
                                    "nombreDpto": "INVESTIGACIÓN"
                                },
                                {
                                    "nomEmp": "Joaquín Rosas",
                                    "codDepto": "2300",
                                    "CargoE": "Vendedor",
                                    "nombreDpto": "VENTAS"
                                },
                                {
                                    "nomEmp": "Joaquín Rosas",
                                    "codDepto": "2200",
                                    "CargoE": "Vendedor",
                                    "nombreDpto": "VENTAS"
                                },
                                {
                                    "nomEmp": "Joaquín Rosas",
                                    "codDepto": "2100",
                                    "CargoE": "Vendedor",
                                    "nombreDpto": "VENTAS"
                                },
                                {
                                    "nomEmp": "Joaquín Rosas",
                                    "codDepto": "2000",
                                    "CargoE": "Vendedor",
                                    "nombreDpto": "VENTAS"
                                },
                                {
                                    "nomEmp": "Joaquín Rosas",
                                    "codDepto": "1500",
                                    "CargoE": "Vendedor",
                                    "nombreDpto": "PRODUCCIÓN"
                                },
                                {
                                    "nomEmp": "Mario Llano",
                                    "codDepto": "4300",
                                    "CargoE": "Vendedor",
                                    "nombreDpto": "MANTENIMIENTO"
                                },
                                {
                                    "nomEmp": "Mario Llano",
                                    "codDepto": "4200",
                                    "CargoE": "Vendedor",
                                    "nombreDpto": "MANTENIMIENTO"
                                },
                                {
                                    "nomEmp": "Mario Llano",
                                    "codDepto": "4100",
                                    "CargoE": "Vendedor",
                                    "nombreDpto": "MANTENIMIENTO"
                                },
                                {
                                    "nomEmp": "Mario Llano",
                                    "codDepto": "4000",
                                    "CargoE": "Vendedor",
                                    "nombreDpto": "MANTENIMIENTO"
                                },
                                {
                                    "nomEmp": "Mario Llano",
                                    "codDepto": "3500",
                                    "CargoE": "Vendedor",
                                    "nombreDpto": "MERCADEO"
                                },
                                {
                                    "nomEmp": "Mario Llano",
                                    "codDepto": "3000",
                                    "CargoE": "Vendedor",
                                    "nombreDpto": "INVESTIGACIÓN"
                                },
                                {
                                    "nomEmp": "Joaquín Rosas",
                                    "codDepto": "1000",
                                    "CargoE": "Vendedor",
                                    "nombreDpto": "GERENCIA"
                                },
                                {
                                    "nomEmp": "Mario Llano",
                                    "codDepto": "2200",
                                    "CargoE": "Vendedor",
                                    "nombreDpto": "VENTAS"
                                },
                                {
                                    "nomEmp": "Mario Llano",
                                    "codDepto": "2100",
                                    "CargoE": "Vendedor",
                                    "nombreDpto": "VENTAS"
                                },
                                {
                                    "nomEmp": "Mario Llano",
                                    "codDepto": "2000",
                                    "CargoE": "Vendedor",
                                    "nombreDpto": "VENTAS"
                                },
                                {
                                    "nomEmp": "Mario Llano",
                                    "codDepto": "1500",
                                    "CargoE": "Vendedor",
                                    "nombreDpto": "PRODUCCIÓN"
                                },
                                {
                                    "nomEmp": "Mario Llano",
                                    "codDepto": "1000",
                                    "CargoE": "Vendedor",
                                    "nombreDpto": "GERENCIA"
                                },
                                {
                                    "nomEmp": "Melissa Roa",
                                    "codDepto": "4200",
                                    "CargoE": "Vendedor",
                                    "nombreDpto": "MANTENIMIENTO"
                                },
                                {
                                    "nomEmp": "Melissa Roa",
                                    "codDepto": "4100",
                                    "CargoE": "Vendedor",
                                    "nombreDpto": "MANTENIMIENTO"
                                },
                                {
                                    "nomEmp": "Melissa Roa",
                                    "codDepto": "4000",
                                    "CargoE": "Vendedor",
                                    "nombreDpto": "MANTENIMIENTO"
                                },
                                {
                                    "nomEmp": "Melissa Roa",
                                    "codDepto": "3500",
                                    "CargoE": "Vendedor",
                                    "nombreDpto": "MERCADEO"
                                },
                                {
                                    "nomEmp": "Melissa Roa",
                                    "codDepto": "3000",
                                    "CargoE": "Vendedor",
                                    "nombreDpto": "INVESTIGACIÓN"
                                },
                                {
                                    "nomEmp": "Melissa Roa",
                                    "codDepto": "2300",
                                    "CargoE": "Vendedor",
                                    "nombreDpto": "VENTAS"
                                },
                                {
                                    "nomEmp": "Melissa Roa",
                                    "codDepto": "2200",
                                    "CargoE": "Vendedor",
                                    "nombreDpto": "VENTAS"
                                },
                                {
                                    "nomEmp": "Melissa Roa",
                                    "codDepto": "2100",
                                    "CargoE": "Vendedor",
                                    "nombreDpto": "VENTAS"
                                },
                                {
                                    "nomEmp": "Melissa Roa",
                                    "codDepto": "2000",
                                    "CargoE": "Vendedor",
                                    "nombreDpto": "VENTAS"
                                },
                                {
                                    "nomEmp": "Melissa Roa",
                                    "codDepto": "1500",
                                    "CargoE": "Vendedor",
                                    "nombreDpto": "PRODUCCIÓN"
                                },
                                {
                                    "nomEmp": "Melissa Roa",
                                    "codDepto": "1000",
                                    "CargoE": "Vendedor",
                                    "nombreDpto": "GERENCIA"
                                },
                                {
                                    "nomEmp": "Melissa Roa",
                                    "codDepto": "4300",
                                    "CargoE": "Vendedor",
                                    "nombreDpto": "MANTENIMIENTO"
                                }
                            ]
                        },
                        "text/html": [
                            "<table>",
                            "<tr><th>nomEmp</th><th>codDepto</th><th>CargoE</th><th>nombreDpto</th><th>codDepto</th></tr>",
                            "<tr><td>Mario Llano</td><td>2300</td><td>Vendedor</td><td>VENTAS</td><td>2300</td></tr>",
                            "<tr><td>Joaquín Rosas</td><td>2200</td><td>Vendedor</td><td>MANTENIMIENTO</td><td>4300</td></tr>",
                            "<tr><td>Joaquín Rosas</td><td>2200</td><td>Vendedor</td><td>MANTENIMIENTO</td><td>4200</td></tr>",
                            "<tr><td>Joaquín Rosas</td><td>2200</td><td>Vendedor</td><td>MANTENIMIENTO</td><td>4100</td></tr>",
                            "<tr><td>Joaquín Rosas</td><td>2200</td><td>Vendedor</td><td>MANTENIMIENTO</td><td>4000</td></tr>",
                            "<tr><td>Joaquín Rosas</td><td>2200</td><td>Vendedor</td><td>MERCADEO</td><td>3500</td></tr>",
                            "<tr><td>Joaquín Rosas</td><td>2200</td><td>Vendedor</td><td>INVESTIGACIÓN</td><td>3000</td></tr>",
                            "<tr><td>Joaquín Rosas</td><td>2200</td><td>Vendedor</td><td>VENTAS</td><td>2300</td></tr>",
                            "<tr><td>Joaquín Rosas</td><td>2200</td><td>Vendedor</td><td>VENTAS</td><td>2200</td></tr>",
                            "<tr><td>Joaquín Rosas</td><td>2200</td><td>Vendedor</td><td>VENTAS</td><td>2100</td></tr>",
                            "<tr><td>Joaquín Rosas</td><td>2200</td><td>Vendedor</td><td>VENTAS</td><td>2000</td></tr>",
                            "<tr><td>Joaquín Rosas</td><td>2200</td><td>Vendedor</td><td>PRODUCCIÓN</td><td>1500</td></tr>",
                            "<tr><td>Mario Llano</td><td>2300</td><td>Vendedor</td><td>MANTENIMIENTO</td><td>4300</td></tr>",
                            "<tr><td>Mario Llano</td><td>2300</td><td>Vendedor</td><td>MANTENIMIENTO</td><td>4200</td></tr>",
                            "<tr><td>Mario Llano</td><td>2300</td><td>Vendedor</td><td>MANTENIMIENTO</td><td>4100</td></tr>",
                            "<tr><td>Mario Llano</td><td>2300</td><td>Vendedor</td><td>MANTENIMIENTO</td><td>4000</td></tr>",
                            "<tr><td>Mario Llano</td><td>2300</td><td>Vendedor</td><td>MERCADEO</td><td>3500</td></tr>",
                            "<tr><td>Mario Llano</td><td>2300</td><td>Vendedor</td><td>INVESTIGACIÓN</td><td>3000</td></tr>",
                            "<tr><td>Joaquín Rosas</td><td>2200</td><td>Vendedor</td><td>GERENCIA</td><td>1000</td></tr>",
                            "<tr><td>Mario Llano</td><td>2300</td><td>Vendedor</td><td>VENTAS</td><td>2200</td></tr>",
                            "<tr><td>Mario Llano</td><td>2300</td><td>Vendedor</td><td>VENTAS</td><td>2100</td></tr>",
                            "<tr><td>Mario Llano</td><td>2300</td><td>Vendedor</td><td>VENTAS</td><td>2000</td></tr>",
                            "<tr><td>Mario Llano</td><td>2300</td><td>Vendedor</td><td>PRODUCCIÓN</td><td>1500</td></tr>",
                            "<tr><td>Mario Llano</td><td>2300</td><td>Vendedor</td><td>GERENCIA</td><td>1000</td></tr>",
                            "<tr><td>Melissa Roa</td><td>2100</td><td>Vendedor</td><td>MANTENIMIENTO</td><td>4200</td></tr>",
                            "<tr><td>Melissa Roa</td><td>2100</td><td>Vendedor</td><td>MANTENIMIENTO</td><td>4100</td></tr>",
                            "<tr><td>Melissa Roa</td><td>2100</td><td>Vendedor</td><td>MANTENIMIENTO</td><td>4000</td></tr>",
                            "<tr><td>Melissa Roa</td><td>2100</td><td>Vendedor</td><td>MERCADEO</td><td>3500</td></tr>",
                            "<tr><td>Melissa Roa</td><td>2100</td><td>Vendedor</td><td>INVESTIGACIÓN</td><td>3000</td></tr>",
                            "<tr><td>Melissa Roa</td><td>2100</td><td>Vendedor</td><td>VENTAS</td><td>2300</td></tr>",
                            "<tr><td>Melissa Roa</td><td>2100</td><td>Vendedor</td><td>VENTAS</td><td>2200</td></tr>",
                            "<tr><td>Melissa Roa</td><td>2100</td><td>Vendedor</td><td>VENTAS</td><td>2100</td></tr>",
                            "<tr><td>Melissa Roa</td><td>2100</td><td>Vendedor</td><td>VENTAS</td><td>2000</td></tr>",
                            "<tr><td>Melissa Roa</td><td>2100</td><td>Vendedor</td><td>PRODUCCIÓN</td><td>1500</td></tr>",
                            "<tr><td>Melissa Roa</td><td>2100</td><td>Vendedor</td><td>GERENCIA</td><td>1000</td></tr>",
                            "<tr><td>Melissa Roa</td><td>2100</td><td>Vendedor</td><td>MANTENIMIENTO</td><td>4300</td></tr>",
                            "</table>"
                        ]
                    }
                }
            ],
            "execution_count": 22
        },
        {
            "cell_type": "markdown",
            "source": [
                "<span style=\"color: rgb(102, 102, 102); font-family: Poppins; font-size: 15px; background-color: rgb(255, 255, 255);\">21. Obtener información de los empleados cuyo nombre tiene exactamente 11 caracteres</span>"
            ],
            "metadata": {
                "language": "sql",
                "azdata_cell_guid": "230d3dea-dbec-4d5b-8ab8-61b7ee045bee"
            },
            "attachments": {}
        },
        {
            "cell_type": "code",
            "source": [
                "USE empleados;\r\n",
                "SELECT * \r\n",
                "FROM empleados\r\n",
                "WHERE char_length(nomemp) = 11;"
            ],
            "metadata": {
                "language": "sql",
                "azdata_cell_guid": "e05ae140-a453-47a2-b543-5b95930c0a4b"
            },
            "outputs": [
                {
                    "output_type": "display_data",
                    "data": {
                        "text/html": "Commands completed successfully"
                    },
                    "metadata": {}
                },
                {
                    "output_type": "display_data",
                    "data": {
                        "text/html": "(12 row(s) affected)"
                    },
                    "metadata": {}
                },
                {
                    "output_type": "display_data",
                    "data": {
                        "text/html": "Total execution time: 00:00:01.017"
                    },
                    "metadata": {}
                },
                {
                    "output_type": "execute_result",
                    "metadata": {},
                    "execution_count": 23,
                    "data": {
                        "application/vnd.dataresource+json": {
                            "schema": {
                                "fields": [
                                    {
                                        "name": "nDIEmp"
                                    },
                                    {
                                        "name": "nomEmp"
                                    },
                                    {
                                        "name": "sexEmp"
                                    },
                                    {
                                        "name": "fecNac"
                                    },
                                    {
                                        "name": "fecIncorporacion"
                                    },
                                    {
                                        "name": "salEmp"
                                    },
                                    {
                                        "name": "comisionE"
                                    },
                                    {
                                        "name": "cargoE"
                                    },
                                    {
                                        "name": "jefeID"
                                    },
                                    {
                                        "name": "codDepto"
                                    }
                                ]
                            },
                            "data": [
                                {
                                    "nDIEmp": "1.130.555",
                                    "nomEmp": "Julián Mora",
                                    "sexEmp": "M",
                                    "fecNac": "1989-07-03",
                                    "fecIncorporacion": "2000-10-01",
                                    "salEmp": "800000.0",
                                    "comisionE": "3100000.0",
                                    "cargoE": "Vendedor",
                                    "jefeID": "31.178.144",
                                    "codDepto": "2200"
                                },
                                {
                                    "nDIEmp": "1.130.782",
                                    "nomEmp": "Antonio Gil",
                                    "sexEmp": "M",
                                    "fecNac": "1980-01-23",
                                    "fecIncorporacion": "2010-04-16",
                                    "salEmp": "850000.0",
                                    "comisionE": "1500000.0",
                                    "cargoE": "Técnico",
                                    "jefeID": "16.211.383",
                                    "codDepto": "1500"
                                },
                                {
                                    "nDIEmp": "1.751.219",
                                    "nomEmp": "Melissa Roa",
                                    "sexEmp": "F",
                                    "fecNac": "1960-06-19",
                                    "fecIncorporacion": "2001-03-16",
                                    "salEmp": "2250000.0",
                                    "comisionE": "2500000.0",
                                    "cargoE": "Vendedor",
                                    "jefeID": "31.178.144",
                                    "codDepto": "2100"
                                },
                                {
                                    "nDIEmp": "16.759.060",
                                    "nomEmp": "Darío Casas",
                                    "sexEmp": "M",
                                    "fecNac": "1960-04-05",
                                    "fecIncorporacion": "1992-11-01",
                                    "salEmp": "4500000.0",
                                    "comisionE": "500000.0",
                                    "cargoE": "Investigador",
                                    "jefeID": "31.840.269",
                                    "codDepto": "3000"
                                },
                                {
                                    "nDIEmp": "22.222.222",
                                    "nomEmp": "Carla López",
                                    "sexEmp": "F",
                                    "fecNac": "1975-05-11",
                                    "fecIncorporacion": "2005-07-16",
                                    "salEmp": "4500000.0",
                                    "comisionE": "500000.0",
                                    "cargoE": "Jefe Mercadeo",
                                    "jefeID": "31.840.269",
                                    "codDepto": "3500"
                                },
                                {
                                    "nDIEmp": "22.222.333",
                                    "nomEmp": "Carlos Rozo",
                                    "sexEmp": "M",
                                    "fecNac": "1975-05-11",
                                    "fecIncorporacion": "2001-09-16",
                                    "salEmp": "750000.0",
                                    "comisionE": "500000.0",
                                    "cargoE": "Vigilante",
                                    "jefeID": "31.840.269",
                                    "codDepto": "3500"
                                },
                                {
                                    "nDIEmp": "31.178.144",
                                    "nomEmp": "Rosa Angulo",
                                    "sexEmp": "F",
                                    "fecNac": "1957-03-15",
                                    "fecIncorporacion": "1998-08-16",
                                    "salEmp": "3250000.0",
                                    "comisionE": "3500000.0",
                                    "cargoE": "Jefe Ventas",
                                    "jefeID": "31.840.269",
                                    "codDepto": "2000"
                                },
                                {
                                    "nDIEmp": "31.840.269",
                                    "nomEmp": "María Rojas",
                                    "sexEmp": "F",
                                    "fecNac": "1959-01-15",
                                    "fecIncorporacion": "1990-05-16",
                                    "salEmp": "6250000.0",
                                    "comisionE": "1500000.0",
                                    "cargoE": "Gerente",
                                    "jefeID": "NULL",
                                    "codDepto": "1000"
                                },
                                {
                                    "nDIEmp": "333.333.333",
                                    "nomEmp": "Elisa Rojas",
                                    "sexEmp": "F",
                                    "fecNac": "1979-09-28",
                                    "fecIncorporacion": "2004-06-01",
                                    "salEmp": "3000000.0",
                                    "comisionE": "1000000.0",
                                    "cargoE": "Jefe Mecánicos",
                                    "jefeID": "31.840.269",
                                    "codDepto": "4000"
                                },
                                {
                                    "nDIEmp": "333.333.337",
                                    "nomEmp": "Edith Muñoz",
                                    "sexEmp": "F",
                                    "fecNac": "1992-03-31",
                                    "fecIncorporacion": "2000-10-01",
                                    "salEmp": "800000.0",
                                    "comisionE": "3600000.0",
                                    "cargoE": "Vendedor",
                                    "jefeID": "31.178.144",
                                    "codDepto": "2100"
                                },
                                {
                                    "nDIEmp": "737.689",
                                    "nomEmp": "Mario Llano",
                                    "sexEmp": "M",
                                    "fecNac": "1945-08-30",
                                    "fecIncorporacion": "1990-05-16",
                                    "salEmp": "2250000.0",
                                    "comisionE": "2500000.0",
                                    "cargoE": "Vendedor",
                                    "jefeID": "31.178.144",
                                    "codDepto": "2300"
                                },
                                {
                                    "nDIEmp": "888.888",
                                    "nomEmp": "Iván Duarte",
                                    "sexEmp": "M",
                                    "fecNac": "1955-08-12",
                                    "fecIncorporacion": "1998-05-16",
                                    "salEmp": "1050000.0",
                                    "comisionE": "200000.0",
                                    "cargoE": "Mecánico",
                                    "jefeID": "333.333.333",
                                    "codDepto": "4100"
                                }
                            ]
                        },
                        "text/html": [
                            "<table>",
                            "<tr><th>nDIEmp</th><th>nomEmp</th><th>sexEmp</th><th>fecNac</th><th>fecIncorporacion</th><th>salEmp</th><th>comisionE</th><th>cargoE</th><th>jefeID</th><th>codDepto</th></tr>",
                            "<tr><td>1.130.555</td><td>Julián Mora</td><td>M</td><td>1989-07-03</td><td>2000-10-01</td><td>800000.0</td><td>3100000.0</td><td>Vendedor</td><td>31.178.144</td><td>2200</td></tr>",
                            "<tr><td>1.130.782</td><td>Antonio Gil</td><td>M</td><td>1980-01-23</td><td>2010-04-16</td><td>850000.0</td><td>1500000.0</td><td>Técnico</td><td>16.211.383</td><td>1500</td></tr>",
                            "<tr><td>1.751.219</td><td>Melissa Roa</td><td>F</td><td>1960-06-19</td><td>2001-03-16</td><td>2250000.0</td><td>2500000.0</td><td>Vendedor</td><td>31.178.144</td><td>2100</td></tr>",
                            "<tr><td>16.759.060</td><td>Darío Casas</td><td>M</td><td>1960-04-05</td><td>1992-11-01</td><td>4500000.0</td><td>500000.0</td><td>Investigador</td><td>31.840.269</td><td>3000</td></tr>",
                            "<tr><td>22.222.222</td><td>Carla López</td><td>F</td><td>1975-05-11</td><td>2005-07-16</td><td>4500000.0</td><td>500000.0</td><td>Jefe Mercadeo</td><td>31.840.269</td><td>3500</td></tr>",
                            "<tr><td>22.222.333</td><td>Carlos Rozo</td><td>M</td><td>1975-05-11</td><td>2001-09-16</td><td>750000.0</td><td>500000.0</td><td>Vigilante</td><td>31.840.269</td><td>3500</td></tr>",
                            "<tr><td>31.178.144</td><td>Rosa Angulo</td><td>F</td><td>1957-03-15</td><td>1998-08-16</td><td>3250000.0</td><td>3500000.0</td><td>Jefe Ventas</td><td>31.840.269</td><td>2000</td></tr>",
                            "<tr><td>31.840.269</td><td>María Rojas</td><td>F</td><td>1959-01-15</td><td>1990-05-16</td><td>6250000.0</td><td>1500000.0</td><td>Gerente</td><td>NULL</td><td>1000</td></tr>",
                            "<tr><td>333.333.333</td><td>Elisa Rojas</td><td>F</td><td>1979-09-28</td><td>2004-06-01</td><td>3000000.0</td><td>1000000.0</td><td>Jefe Mecánicos</td><td>31.840.269</td><td>4000</td></tr>",
                            "<tr><td>333.333.337</td><td>Edith Muñoz</td><td>F</td><td>1992-03-31</td><td>2000-10-01</td><td>800000.0</td><td>3600000.0</td><td>Vendedor</td><td>31.178.144</td><td>2100</td></tr>",
                            "<tr><td>737.689</td><td>Mario Llano</td><td>M</td><td>1945-08-30</td><td>1990-05-16</td><td>2250000.0</td><td>2500000.0</td><td>Vendedor</td><td>31.178.144</td><td>2300</td></tr>",
                            "<tr><td>888.888</td><td>Iván Duarte</td><td>M</td><td>1955-08-12</td><td>1998-05-16</td><td>1050000.0</td><td>200000.0</td><td>Mecánico</td><td>333.333.333</td><td>4100</td></tr>",
                            "</table>"
                        ]
                    }
                }
            ],
            "execution_count": 23
        },
        {
            "cell_type": "markdown",
            "source": [
                "22. <span style=\"color: rgb(102, 102, 102); font-family: Poppins; font-size: 15px; background-color: rgb(255, 255, 255);\">Obtener información de los empleados cuyo nombre tiene al menos 11 caracteres</span>"
            ],
            "metadata": {
                "language": "sql",
                "azdata_cell_guid": "44d12830-7728-45aa-b88e-e325b8b0c290"
            },
            "attachments": {}
        },
        {
            "cell_type": "code",
            "source": [
                "SELECT nomEmp AS Nombre_empleado \r\n",
                "FROM empleados\r\n",
                "WHERE char_length(nomemp) < 11;"
            ],
            "metadata": {
                "language": "sql",
                "azdata_cell_guid": "cf69ef24-c50b-4a2e-ad6b-09dc727204cf",
                "tags": []
            },
            "outputs": [
                {
                    "output_type": "display_data",
                    "data": {
                        "text/html": "(4 row(s) affected)"
                    },
                    "metadata": {}
                },
                {
                    "output_type": "display_data",
                    "data": {
                        "text/html": "Total execution time: 00:00:01.014"
                    },
                    "metadata": {}
                },
                {
                    "output_type": "execute_result",
                    "metadata": {},
                    "execution_count": 28,
                    "data": {
                        "application/vnd.dataresource+json": {
                            "schema": {
                                "fields": [
                                    {
                                        "name": "Nombre_empleado"
                                    }
                                ]
                            },
                            "data": [
                                {
                                    "Nombre_empleado": "Irene Díaz"
                                },
                                {
                                    "Nombre_empleado": "Luis Pérez"
                                },
                                {
                                    "Nombre_empleado": "Ana Moreno"
                                },
                                {
                                    "Nombre_empleado": "Abel Gómez"
                                }
                            ]
                        },
                        "text/html": [
                            "<table>",
                            "<tr><th>Nombre_empleado</th></tr>",
                            "<tr><td>Irene Díaz</td></tr>",
                            "<tr><td>Luis Pérez</td></tr>",
                            "<tr><td>Ana Moreno</td></tr>",
                            "<tr><td>Abel Gómez</td></tr>",
                            "</table>"
                        ]
                    }
                }
            ],
            "execution_count": 28
        },
        {
            "cell_type": "markdown",
            "source": [
                "23. <span style=\"color: rgb(102, 102, 102); font-family: Poppins; font-size: 15px; background-color: rgb(255, 255, 255);\">Listar los datos de los empleados cuyo nombre inicia por la letra ‘M’, su salario es mayor a $800.000 o reciben comisión y trabajan para el departamento de ‘VENTAS’</span>"
            ],
            "metadata": {
                "language": "sql",
                "azdata_cell_guid": "f616e573-d59c-4316-b5e5-bb354f40105e"
            },
            "attachments": {}
        },
        {
            "cell_type": "code",
            "source": [
                "SELECT e.nomEmp, d.nombreDpto, e.salEmp\r\n",
                "FROM empleados e, departamentos d \r\n",
                "WHERE e.codDepto=d.codDepto AND lower(e.nomEmp) LIKE 'm%' AND (e.salEmp > 800000 OR e.comisionE>0 ) "
            ],
            "metadata": {
                "language": "sql",
                "azdata_cell_guid": "f5a99f2b-baa2-4321-b3ec-f749a6d1d36d"
            },
            "outputs": [
                {
                    "output_type": "error",
                    "evalue": "1305 (42000): FUNCTION empleados.char_lenght does not exist",
                    "ename": "",
                    "traceback": []
                },
                {
                    "output_type": "display_data",
                    "data": {
                        "text/html": "(6 row(s) affected)"
                    },
                    "metadata": {}
                },
                {
                    "output_type": "display_data",
                    "data": {
                        "text/html": "Total execution time: 00:00:01.015"
                    },
                    "metadata": {}
                },
                {
                    "output_type": "execute_result",
                    "metadata": {},
                    "execution_count": 25,
                    "data": {
                        "application/vnd.dataresource+json": {
                            "schema": {
                                "fields": [
                                    {
                                        "name": "nomEmp"
                                    },
                                    {
                                        "name": "nombreDpto"
                                    },
                                    {
                                        "name": "salEmp"
                                    }
                                ]
                            },
                            "data": [
                                {
                                    "nomEmp": "Manuel Millán",
                                    "nombreDpto": "VENTAS",
                                    "salEmp": "800000.0"
                                },
                                {
                                    "nomEmp": "Marcos Cortez",
                                    "nombreDpto": "MANTENIMIENTO",
                                    "salEmp": "2550000.0"
                                },
                                {
                                    "nomEmp": "Melissa Roa",
                                    "nombreDpto": "VENTAS",
                                    "salEmp": "2250000.0"
                                },
                                {
                                    "nomEmp": "María Rojas",
                                    "nombreDpto": "GERENCIA",
                                    "salEmp": "6250000.0"
                                },
                                {
                                    "nomEmp": "Marisol Pulido",
                                    "nombreDpto": "INVESTIGACIÓN",
                                    "salEmp": "3250000.0"
                                },
                                {
                                    "nomEmp": "Mario Llano",
                                    "nombreDpto": "VENTAS",
                                    "salEmp": "2250000.0"
                                }
                            ]
                        },
                        "text/html": [
                            "<table>",
                            "<tr><th>nomEmp</th><th>nombreDpto</th><th>salEmp</th></tr>",
                            "<tr><td>Manuel Millán</td><td>VENTAS</td><td>800000.0</td></tr>",
                            "<tr><td>Marcos Cortez</td><td>MANTENIMIENTO</td><td>2550000.0</td></tr>",
                            "<tr><td>Melissa Roa</td><td>VENTAS</td><td>2250000.0</td></tr>",
                            "<tr><td>María Rojas</td><td>GERENCIA</td><td>6250000.0</td></tr>",
                            "<tr><td>Marisol Pulido</td><td>INVESTIGACIÓN</td><td>3250000.0</td></tr>",
                            "<tr><td>Mario Llano</td><td>VENTAS</td><td>2250000.0</td></tr>",
                            "</table>"
                        ]
                    }
                }
            ],
            "execution_count": 25
        },
        {
            "cell_type": "markdown",
            "source": [
                "24. <span style=\"color: rgb(102, 102, 102); font-family: Poppins; font-size: 15px; background-color: rgb(255, 255, 255);\">Obtener los nombres, salarios y comisiones de los empleados que reciben un salario situado entre la mitad de la comisión la propia comisión.</span>"
            ],
            "metadata": {
                "language": "sql",
                "azdata_cell_guid": "8c41a9d8-8697-4767-9d1f-bce7d0c06d0f"
            },
            "attachments": {}
        },
        {
            "cell_type": "code",
            "source": [
                "SELECT nomEmp as Nombre, salEmp as Salario_empleado, comisionE as Comisiones\r\n",
                "FROM empleados\r\n",
                "WHERE salEmp BETWEEN (comisionE/2) AND comisionE;"
            ],
            "metadata": {
                "language": "sql",
                "azdata_cell_guid": "54965c9c-1fc3-4747-a4b7-9a76dda98d97"
            },
            "outputs": [
                {
                    "output_type": "display_data",
                    "data": {
                        "text/html": "(5 row(s) affected)"
                    },
                    "metadata": {}
                },
                {
                    "output_type": "display_data",
                    "data": {
                        "text/html": "Total execution time: 00:00:01.013"
                    },
                    "metadata": {}
                },
                {
                    "output_type": "execute_result",
                    "metadata": {},
                    "execution_count": 29,
                    "data": {
                        "application/vnd.dataresource+json": {
                            "schema": {
                                "fields": [
                                    {
                                        "name": "Nombre"
                                    },
                                    {
                                        "name": "Salario_empleado"
                                    },
                                    {
                                        "name": "Comisiones"
                                    }
                                ]
                            },
                            "data": [
                                {
                                    "Nombre": "Antonio Gil",
                                    "Salario_empleado": "850000.0",
                                    "Comisiones": "1500000.0"
                                },
                                {
                                    "Nombre": "Melissa Roa",
                                    "Salario_empleado": "2250000.0",
                                    "Comisiones": "2500000.0"
                                },
                                {
                                    "Nombre": "Rosa Angulo",
                                    "Salario_empleado": "3250000.0",
                                    "Comisiones": "3500000.0"
                                },
                                {
                                    "Nombre": "Mario Llano",
                                    "Salario_empleado": "2250000.0",
                                    "Comisiones": "2500000.0"
                                },
                                {
                                    "Nombre": "Joaquín Rosas",
                                    "Salario_empleado": "2250000.0",
                                    "Comisiones": "2500000.0"
                                }
                            ]
                        },
                        "text/html": [
                            "<table>",
                            "<tr><th>Nombre</th><th>Salario_empleado</th><th>Comisiones</th></tr>",
                            "<tr><td>Antonio Gil</td><td>850000.0</td><td>1500000.0</td></tr>",
                            "<tr><td>Melissa Roa</td><td>2250000.0</td><td>2500000.0</td></tr>",
                            "<tr><td>Rosa Angulo</td><td>3250000.0</td><td>3500000.0</td></tr>",
                            "<tr><td>Mario Llano</td><td>2250000.0</td><td>2500000.0</td></tr>",
                            "<tr><td>Joaquín Rosas</td><td>2250000.0</td><td>2500000.0</td></tr>",
                            "</table>"
                        ]
                    }
                }
            ],
            "execution_count": 29
        },
        {
            "cell_type": "markdown",
            "source": [
                "25. <span style=\"color: rgb(102, 102, 102); font-family: Poppins; font-size: 15px; background-color: rgb(255, 255, 255);\">Mostrar el salario más alto de la empresa.</span>"
            ],
            "metadata": {
                "language": "sql",
                "azdata_cell_guid": "58ed971f-f3d2-447e-a42c-98298384ad54"
            },
            "attachments": {}
        },
        {
            "cell_type": "code",
            "source": [
                "SELECT nomemp AS Nombre_empleado, salEmp AS 'Salario mayor'\r\n",
                "FROM empleados;\r\n",
                "WHERE salEmp = (SELECT MAX(salEmp) FROM empleados)\r\n",
                "ORDER BY salEmp ASC;"
            ],
            "metadata": {
                "language": "sql",
                "azdata_cell_guid": "b6098d2f-8f76-4043-a6eb-f3a8ca3bce6b"
            },
            "outputs": [
                {
                    "output_type": "display_data",
                    "data": {
                        "text/html": "(26 row(s) affected)"
                    },
                    "metadata": {}
                },
                {
                    "output_type": "display_data",
                    "data": {
                        "text/html": "Total execution time: 00:00:01.010"
                    },
                    "metadata": {}
                },
                {
                    "output_type": "execute_result",
                    "metadata": {},
                    "execution_count": 33,
                    "data": {
                        "application/vnd.dataresource+json": {
                            "schema": {
                                "fields": [
                                    {
                                        "name": "Nombre_empleado"
                                    },
                                    {
                                        "name": "Salario mayor"
                                    }
                                ]
                            },
                            "data": [
                                {
                                    "Nombre_empleado": "José Giraldo",
                                    "Salario mayor": "1200000.0"
                                },
                                {
                                    "Nombre_empleado": "Pedro Blanco",
                                    "Salario mayor": "800000.0"
                                },
                                {
                                    "Nombre_empleado": "Jesús Alfonso",
                                    "Salario mayor": "800000.0"
                                },
                                {
                                    "Nombre_empleado": "Julián Mora",
                                    "Salario mayor": "800000.0"
                                },
                                {
                                    "Nombre_empleado": "Manuel Millán",
                                    "Salario mayor": "800000.0"
                                },
                                {
                                    "Nombre_empleado": "Marcos Cortez",
                                    "Salario mayor": "2550000.0"
                                },
                                {
                                    "Nombre_empleado": "Antonio Gil",
                                    "Salario mayor": "850000.0"
                                },
                                {
                                    "Nombre_empleado": "Melissa Roa",
                                    "Salario mayor": "2250000.0"
                                },
                                {
                                    "Nombre_empleado": "Irene Díaz",
                                    "Salario mayor": "1050000.0"
                                },
                                {
                                    "Nombre_empleado": "Luis Pérez",
                                    "Salario mayor": "5050000.0"
                                },
                                {
                                    "Nombre_empleado": "Darío Casas",
                                    "Salario mayor": "4500000.0"
                                },
                                {
                                    "Nombre_empleado": "William Daza",
                                    "Salario mayor": "2250000.0"
                                },
                                {
                                    "Nombre_empleado": "Carla López",
                                    "Salario mayor": "4500000.0"
                                },
                                {
                                    "Nombre_empleado": "Carlos Rozo",
                                    "Salario mayor": "750000.0"
                                },
                                {
                                    "Nombre_empleado": "Diana Solarte",
                                    "Salario mayor": "1250000.0"
                                },
                                {
                                    "Nombre_empleado": "Rosa Angulo",
                                    "Salario mayor": "3250000.0"
                                },
                                {
                                    "Nombre_empleado": "María Rojas",
                                    "Salario mayor": "6250000.0"
                                },
                                {
                                    "Nombre_empleado": "Elisa Rojas",
                                    "Salario mayor": "3000000.0"
                                },
                                {
                                    "Nombre_empleado": "Marisol Pulido",
                                    "Salario mayor": "3250000.0"
                                },
                                {
                                    "Nombre_empleado": "Ana Moreno",
                                    "Salario mayor": "1200000.0"
                                },
                                {
                                    "Nombre_empleado": "Carolina Ríos",
                                    "Salario mayor": "1250000.0"
                                },
                                {
                                    "Nombre_empleado": "Edith Muñoz",
                                    "Salario mayor": "800000.0"
                                },
                                {
                                    "Nombre_empleado": "Abel Gómez",
                                    "Salario mayor": "1050000.0"
                                },
                                {
                                    "Nombre_empleado": "Mario Llano",
                                    "Salario mayor": "2250000.0"
                                },
                                {
                                    "Nombre_empleado": "Joaquín Rosas",
                                    "Salario mayor": "2250000.0"
                                },
                                {
                                    "Nombre_empleado": "Iván Duarte",
                                    "Salario mayor": "1050000.0"
                                }
                            ]
                        },
                        "text/html": [
                            "<table>",
                            "<tr><th>Nombre_empleado</th><th>Salario mayor</th></tr>",
                            "<tr><td>José Giraldo</td><td>1200000.0</td></tr>",
                            "<tr><td>Pedro Blanco</td><td>800000.0</td></tr>",
                            "<tr><td>Jesús Alfonso</td><td>800000.0</td></tr>",
                            "<tr><td>Julián Mora</td><td>800000.0</td></tr>",
                            "<tr><td>Manuel Millán</td><td>800000.0</td></tr>",
                            "<tr><td>Marcos Cortez</td><td>2550000.0</td></tr>",
                            "<tr><td>Antonio Gil</td><td>850000.0</td></tr>",
                            "<tr><td>Melissa Roa</td><td>2250000.0</td></tr>",
                            "<tr><td>Irene Díaz</td><td>1050000.0</td></tr>",
                            "<tr><td>Luis Pérez</td><td>5050000.0</td></tr>",
                            "<tr><td>Darío Casas</td><td>4500000.0</td></tr>",
                            "<tr><td>William Daza</td><td>2250000.0</td></tr>",
                            "<tr><td>Carla López</td><td>4500000.0</td></tr>",
                            "<tr><td>Carlos Rozo</td><td>750000.0</td></tr>",
                            "<tr><td>Diana Solarte</td><td>1250000.0</td></tr>",
                            "<tr><td>Rosa Angulo</td><td>3250000.0</td></tr>",
                            "<tr><td>María Rojas</td><td>6250000.0</td></tr>",
                            "<tr><td>Elisa Rojas</td><td>3000000.0</td></tr>",
                            "<tr><td>Marisol Pulido</td><td>3250000.0</td></tr>",
                            "<tr><td>Ana Moreno</td><td>1200000.0</td></tr>",
                            "<tr><td>Carolina Ríos</td><td>1250000.0</td></tr>",
                            "<tr><td>Edith Muñoz</td><td>800000.0</td></tr>",
                            "<tr><td>Abel Gómez</td><td>1050000.0</td></tr>",
                            "<tr><td>Mario Llano</td><td>2250000.0</td></tr>",
                            "<tr><td>Joaquín Rosas</td><td>2250000.0</td></tr>",
                            "<tr><td>Iván Duarte</td><td>1050000.0</td></tr>",
                            "</table>"
                        ]
                    }
                },
                {
                    "output_type": "error",
                    "evalue": "1064 (42000): You have an error in your SQL syntax; check the manual that corresponds to your MySQL server version for the right syntax to use near 'WHERE salEmp = (SELECT MAX(salEmp) FROM empleados)\nORDER BY salEmp ASC' at line 1",
                    "ename": "",
                    "traceback": []
                }
            ],
            "execution_count": 33
        },
        {
            "cell_type": "markdown",
            "source": [
                "26. <span style=\"color: rgb(102, 102, 102); font-family: Poppins; font-size: 15px; background-color: rgb(255, 255, 255);\">Mostrar cada una de las comisiones y el número de empleados que las reciben. Solo si tiene comisión.</span>"
            ],
            "metadata": {
                "language": "sql",
                "azdata_cell_guid": "b2d0f268-27c5-49dc-ae37-940eaddd817e"
            },
            "attachments": {}
        },
        {
            "cell_type": "code",
            "source": [
                "SELECT comisionE, count(*) AS Num_empleados\r\n",
                "FROM empleados GROUP BY comisionE HAVING comisionE > 0;"
            ],
            "metadata": {
                "language": "sql",
                "azdata_cell_guid": "fde19d8c-1f94-4b1a-813f-700f9fffe9d5"
            },
            "outputs": [
                {
                    "output_type": "display_data",
                    "data": {
                        "text/html": "(11 row(s) affected)"
                    },
                    "metadata": {}
                },
                {
                    "output_type": "display_data",
                    "data": {
                        "text/html": "Total execution time: 00:00:01.014"
                    },
                    "metadata": {}
                },
                {
                    "output_type": "execute_result",
                    "metadata": {},
                    "execution_count": 35,
                    "data": {
                        "application/vnd.dataresource+json": {
                            "schema": {
                                "fields": [
                                    {
                                        "name": "comisionE"
                                    },
                                    {
                                        "name": "Num_empleados"
                                    }
                                ]
                            },
                            "data": [
                                {
                                    "comisionE": "400000.0",
                                    "Num_empleados": "2"
                                },
                                {
                                    "comisionE": "3000000.0",
                                    "Num_empleados": "1"
                                },
                                {
                                    "comisionE": "3500000.0",
                                    "Num_empleados": "2"
                                },
                                {
                                    "comisionE": "3100000.0",
                                    "Num_empleados": "1"
                                },
                                {
                                    "comisionE": "3700000.0",
                                    "Num_empleados": "1"
                                },
                                {
                                    "comisionE": "500000.0",
                                    "Num_empleados": "6"
                                },
                                {
                                    "comisionE": "1500000.0",
                                    "Num_empleados": "2"
                                },
                                {
                                    "comisionE": "2500000.0",
                                    "Num_empleados": "3"
                                },
                                {
                                    "comisionE": "200000.0",
                                    "Num_empleados": "3"
                                },
                                {
                                    "comisionE": "1000000.0",
                                    "Num_empleados": "3"
                                },
                                {
                                    "comisionE": "3600000.0",
                                    "Num_empleados": "1"
                                }
                            ]
                        },
                        "text/html": [
                            "<table>",
                            "<tr><th>comisionE</th><th>Num_empleados</th></tr>",
                            "<tr><td>400000.0</td><td>2</td></tr>",
                            "<tr><td>3000000.0</td><td>1</td></tr>",
                            "<tr><td>3500000.0</td><td>2</td></tr>",
                            "<tr><td>3100000.0</td><td>1</td></tr>",
                            "<tr><td>3700000.0</td><td>1</td></tr>",
                            "<tr><td>500000.0</td><td>6</td></tr>",
                            "<tr><td>1500000.0</td><td>2</td></tr>",
                            "<tr><td>2500000.0</td><td>3</td></tr>",
                            "<tr><td>200000.0</td><td>3</td></tr>",
                            "<tr><td>1000000.0</td><td>3</td></tr>",
                            "<tr><td>3600000.0</td><td>1</td></tr>",
                            "</table>"
                        ]
                    }
                }
            ],
            "execution_count": 35
        },
        {
            "cell_type": "markdown",
            "source": [
                "27. <span style=\"color: rgb(102, 102, 102); font-family: Poppins; font-size: 15px; background-color: rgb(255, 255, 255);\">Mostrar el nombre del último empleado de la lista por orden alfabético.</span>"
            ],
            "metadata": {
                "language": "sql",
                "azdata_cell_guid": "53356ef7-70f7-4390-b383-7302b27c20cf"
            },
            "attachments": {}
        },
        {
            "cell_type": "code",
            "source": [
                "SELECT MAX(nomemp) AS 'Mayor alfabeticamente'\r\n",
                "FROM empleados; "
            ],
            "metadata": {
                "language": "sql",
                "azdata_cell_guid": "845a2f5a-f5c4-445f-8a22-34cf6a73fe56"
            },
            "outputs": [
                {
                    "output_type": "display_data",
                    "data": {
                        "text/html": "(1 row(s) affected)"
                    },
                    "metadata": {}
                },
                {
                    "output_type": "display_data",
                    "data": {
                        "text/html": "Total execution time: 00:00:01.013"
                    },
                    "metadata": {}
                },
                {
                    "output_type": "execute_result",
                    "metadata": {},
                    "execution_count": 36,
                    "data": {
                        "application/vnd.dataresource+json": {
                            "schema": {
                                "fields": [
                                    {
                                        "name": "Mayor alfabeticamente"
                                    }
                                ]
                            },
                            "data": [
                                {
                                    "Mayor alfabeticamente": "William Daza"
                                }
                            ]
                        },
                        "text/html": [
                            "<table>",
                            "<tr><th>Mayor alfabeticamente</th></tr>",
                            "<tr><td>William Daza</td></tr>",
                            "</table>"
                        ]
                    }
                }
            ],
            "execution_count": 36
        },
        {
            "cell_type": "markdown",
            "source": [
                "28. <span style=\"color: rgb(102, 102, 102); font-family: Poppins; font-size: 15px; background-color: rgb(255, 255, 255);\">Hallar el salario más alto, el más bajo y la diferencia entre ellos.</span>"
            ],
            "metadata": {
                "language": "sql",
                "azdata_cell_guid": "0841e441-565a-41c1-90d2-dee4a9ebb5da"
            },
            "attachments": {}
        },
        {
            "cell_type": "code",
            "source": [
                "SELECT max(salEmp) AS 'Salario mayor', \r\n",
                "            min(salEmp) as 'Salario menor', \r\n",
                "            max(salEmp) - min(salEmp) as 'Diferencia_salarios'\r\n",
                "FROM empleados;"
            ],
            "metadata": {
                "language": "sql",
                "azdata_cell_guid": "ad96c6ba-5db0-43ee-8e89-669dbf7ca237",
                "tags": []
            },
            "outputs": [
                {
                    "output_type": "display_data",
                    "data": {
                        "text/html": "(1 row(s) affected)"
                    },
                    "metadata": {}
                },
                {
                    "output_type": "display_data",
                    "data": {
                        "text/html": "Total execution time: 00:00:01.008"
                    },
                    "metadata": {}
                },
                {
                    "output_type": "execute_result",
                    "metadata": {},
                    "execution_count": 47,
                    "data": {
                        "application/vnd.dataresource+json": {
                            "schema": {
                                "fields": [
                                    {
                                        "name": "Salario mayor"
                                    },
                                    {
                                        "name": "Salario menor"
                                    },
                                    {
                                        "name": "Diferencia_salarios"
                                    }
                                ]
                            },
                            "data": [
                                {
                                    "Salario mayor": "6250000.0",
                                    "Salario menor": "750000.0",
                                    "Diferencia_salarios": "5500000.0"
                                }
                            ]
                        },
                        "text/html": [
                            "<table>",
                            "<tr><th>Salario mayor</th><th>Salario menor</th><th>Diferencia_salarios</th></tr>",
                            "<tr><td>6250000.0</td><td>750000.0</td><td>5500000.0</td></tr>",
                            "</table>"
                        ]
                    }
                }
            ],
            "execution_count": 47
        },
        {
            "cell_type": "markdown",
            "source": [
                "<span style=\"color: rgb(102, 102, 102); font-family: Poppins; font-size: 15px; background-color: rgb(255, 255, 255);\">29. Mostrar el número de empleados de sexo femenino y de sexo masculino, por departamento.</span>"
            ],
            "metadata": {
                "language": "sql",
                "azdata_cell_guid": "8dd99be7-fed3-4c41-9092-5b548a73adf4"
            },
            "attachments": {}
        },
        {
            "cell_type": "code",
            "source": [
                "SELECT codDepto, sexemp, count(*)\r\n",
                "FROM empleados \r\n",
                "GROUP BY codDepto, sexemp;"
            ],
            "metadata": {
                "language": "sql",
                "azdata_cell_guid": "8d3a99d4-ae65-4774-b2e2-05d690cf8917"
            },
            "outputs": [
                {
                    "output_type": "display_data",
                    "data": {
                        "text/html": "(17 row(s) affected)"
                    },
                    "metadata": {}
                },
                {
                    "output_type": "display_data",
                    "data": {
                        "text/html": "Total execution time: 00:00:01.005"
                    },
                    "metadata": {}
                },
                {
                    "output_type": "execute_result",
                    "metadata": {},
                    "execution_count": 44,
                    "data": {
                        "application/vnd.dataresource+json": {
                            "schema": {
                                "fields": [
                                    {
                                        "name": "codDepto"
                                    },
                                    {
                                        "name": "sexemp"
                                    },
                                    {
                                        "name": "count(*)"
                                    }
                                ]
                            },
                            "data": [
                                {
                                    "codDepto": "3500",
                                    "sexemp": "M",
                                    "count(*)": "2"
                                },
                                {
                                    "codDepto": "2000",
                                    "sexemp": "M",
                                    "count(*)": "2"
                                },
                                {
                                    "codDepto": "2200",
                                    "sexemp": "M",
                                    "count(*)": "2"
                                },
                                {
                                    "codDepto": "2300",
                                    "sexemp": "M",
                                    "count(*)": "2"
                                },
                                {
                                    "codDepto": "4000",
                                    "sexemp": "M",
                                    "count(*)": "1"
                                },
                                {
                                    "codDepto": "1500",
                                    "sexemp": "M",
                                    "count(*)": "2"
                                },
                                {
                                    "codDepto": "2100",
                                    "sexemp": "F",
                                    "count(*)": "2"
                                },
                                {
                                    "codDepto": "4200",
                                    "sexemp": "F",
                                    "count(*)": "1"
                                },
                                {
                                    "codDepto": "3000",
                                    "sexemp": "M",
                                    "count(*)": "2"
                                },
                                {
                                    "codDepto": "3500",
                                    "sexemp": "F",
                                    "count(*)": "1"
                                },
                                {
                                    "codDepto": "1000",
                                    "sexemp": "F",
                                    "count(*)": "2"
                                },
                                {
                                    "codDepto": "2000",
                                    "sexemp": "F",
                                    "count(*)": "1"
                                },
                                {
                                    "codDepto": "4000",
                                    "sexemp": "F",
                                    "count(*)": "1"
                                },
                                {
                                    "codDepto": "3000",
                                    "sexemp": "F",
                                    "count(*)": "2"
                                },
                                {
                                    "codDepto": "1500",
                                    "sexemp": "F",
                                    "count(*)": "1"
                                },
                                {
                                    "codDepto": "4300",
                                    "sexemp": "M",
                                    "count(*)": "1"
                                },
                                {
                                    "codDepto": "4100",
                                    "sexemp": "M",
                                    "count(*)": "1"
                                }
                            ]
                        },
                        "text/html": [
                            "<table>",
                            "<tr><th>codDepto</th><th>sexemp</th><th>count(*)</th></tr>",
                            "<tr><td>3500</td><td>M</td><td>2</td></tr>",
                            "<tr><td>2000</td><td>M</td><td>2</td></tr>",
                            "<tr><td>2200</td><td>M</td><td>2</td></tr>",
                            "<tr><td>2300</td><td>M</td><td>2</td></tr>",
                            "<tr><td>4000</td><td>M</td><td>1</td></tr>",
                            "<tr><td>1500</td><td>M</td><td>2</td></tr>",
                            "<tr><td>2100</td><td>F</td><td>2</td></tr>",
                            "<tr><td>4200</td><td>F</td><td>1</td></tr>",
                            "<tr><td>3000</td><td>M</td><td>2</td></tr>",
                            "<tr><td>3500</td><td>F</td><td>1</td></tr>",
                            "<tr><td>1000</td><td>F</td><td>2</td></tr>",
                            "<tr><td>2000</td><td>F</td><td>1</td></tr>",
                            "<tr><td>4000</td><td>F</td><td>1</td></tr>",
                            "<tr><td>3000</td><td>F</td><td>2</td></tr>",
                            "<tr><td>1500</td><td>F</td><td>1</td></tr>",
                            "<tr><td>4300</td><td>M</td><td>1</td></tr>",
                            "<tr><td>4100</td><td>M</td><td>1</td></tr>",
                            "</table>"
                        ]
                    }
                }
            ],
            "execution_count": 44
        },
        {
            "cell_type": "markdown",
            "source": [
                "30. <span style=\"color: rgb(102, 102, 102); font-family: Poppins; font-size: 15px; background-color: rgb(255, 255, 255);\">Hallar el salario promedio por departamento.</span>"
            ],
            "metadata": {
                "language": "sql",
                "azdata_cell_guid": "38a73d7c-3aea-472c-a2ee-da51d45f5f4a"
            },
            "attachments": {}
        },
        {
            "cell_type": "code",
            "source": [
                "SELECT codDepto, avg(salemp)\r\n",
                "FROM empleados\r\n",
                "GROUP BY codDepto\r\n",
                "ORDER BY avg(salemp) ASC;"
            ],
            "metadata": {
                "language": "sql",
                "azdata_cell_guid": "36788e88-d8ad-4e0d-a4b5-ae267d4b85c9"
            },
            "outputs": [
                {
                    "output_type": "display_data",
                    "data": {
                        "text/html": "(12 row(s) affected)"
                    },
                    "metadata": {}
                },
                {
                    "output_type": "display_data",
                    "data": {
                        "text/html": "Total execution time: 00:00:01.010"
                    },
                    "metadata": {}
                },
                {
                    "output_type": "execute_result",
                    "metadata": {},
                    "execution_count": 46,
                    "data": {
                        "application/vnd.dataresource+json": {
                            "schema": {
                                "fields": [
                                    {
                                        "name": "codDepto"
                                    },
                                    {
                                        "name": "avg(salemp)"
                                    }
                                ]
                            },
                            "data": [
                                {
                                    "codDepto": "4100",
                                    "avg(salemp)": "1050000.0"
                                },
                                {
                                    "codDepto": "4200",
                                    "avg(salemp)": "1050000.0"
                                },
                                {
                                    "codDepto": "4300",
                                    "avg(salemp)": "1050000.0"
                                },
                                {
                                    "codDepto": "2100",
                                    "avg(salemp)": "1525000.0"
                                },
                                {
                                    "codDepto": "2200",
                                    "avg(salemp)": "1525000.0"
                                },
                                {
                                    "codDepto": "2300",
                                    "avg(salemp)": "1525000.0"
                                },
                                {
                                    "codDepto": "2000",
                                    "avg(salemp)": "1616666.6666666667"
                                },
                                {
                                    "codDepto": "3500",
                                    "avg(salemp)": "2150000.0"
                                },
                                {
                                    "codDepto": "1500",
                                    "avg(salemp)": "2383333.3333333335"
                                },
                                {
                                    "codDepto": "4000",
                                    "avg(salemp)": "2775000.0"
                                },
                                {
                                    "codDepto": "3000",
                                    "avg(salemp)": "2800000.0"
                                },
                                {
                                    "codDepto": "1000",
                                    "avg(salemp)": "3750000.0"
                                }
                            ]
                        },
                        "text/html": [
                            "<table>",
                            "<tr><th>codDepto</th><th>avg(salemp)</th></tr>",
                            "<tr><td>4100</td><td>1050000.0</td></tr>",
                            "<tr><td>4200</td><td>1050000.0</td></tr>",
                            "<tr><td>4300</td><td>1050000.0</td></tr>",
                            "<tr><td>2100</td><td>1525000.0</td></tr>",
                            "<tr><td>2200</td><td>1525000.0</td></tr>",
                            "<tr><td>2300</td><td>1525000.0</td></tr>",
                            "<tr><td>2000</td><td>1616666.6666666667</td></tr>",
                            "<tr><td>3500</td><td>2150000.0</td></tr>",
                            "<tr><td>1500</td><td>2383333.3333333335</td></tr>",
                            "<tr><td>4000</td><td>2775000.0</td></tr>",
                            "<tr><td>3000</td><td>2800000.0</td></tr>",
                            "<tr><td>1000</td><td>3750000.0</td></tr>",
                            "</table>"
                        ]
                    }
                }
            ],
            "execution_count": 46
        },
        {
            "cell_type": "markdown",
            "source": [
                "31. <span style=\"color: rgb(102, 102, 102); font-family: Poppins; font-size: 15px; background-color: rgb(255, 255, 255);\">Mostrar la lista de los empleados cuyo salario es mayor o igual que el promedio de la empresa. Ordenarlo por departamento.</span>"
            ],
            "metadata": {
                "language": "sql",
                "azdata_cell_guid": "6438cadd-0b2e-4516-952c-d462613c441c"
            },
            "attachments": {}
        },
        {
            "cell_type": "code",
            "source": [
                "SELECT nomEmp as Nombre_empleados, salEmp as Salario_empleados, codDepto AS Departamento\r\n",
                "FROM empleados \r\n",
                "WHERE salEmp >= (\r\n",
                "    SELECT avg(salEmp)\r\n",
                "    FROM empleados\r\n",
                ")\r\n",
                "ORDER by codDepto;"
            ],
            "metadata": {
                "language": "sql",
                "azdata_cell_guid": "0507a712-c93f-4630-b908-e683acab280b"
            },
            "outputs": [
                {
                    "output_type": "display_data",
                    "data": {
                        "text/html": "(12 row(s) affected)"
                    },
                    "metadata": {}
                },
                {
                    "output_type": "display_data",
                    "data": {
                        "text/html": "Total execution time: 00:00:01.004"
                    },
                    "metadata": {}
                },
                {
                    "output_type": "execute_result",
                    "metadata": {},
                    "execution_count": 49,
                    "data": {
                        "application/vnd.dataresource+json": {
                            "schema": {
                                "fields": [
                                    {
                                        "name": "Nombre_empleados"
                                    },
                                    {
                                        "name": "Salario_empleados"
                                    },
                                    {
                                        "name": "Departamento"
                                    }
                                ]
                            },
                            "data": [
                                {
                                    "Nombre_empleados": "María Rojas",
                                    "Salario_empleados": "6250000.0",
                                    "Departamento": "1000"
                                },
                                {
                                    "Nombre_empleados": "Luis Pérez",
                                    "Salario_empleados": "5050000.0",
                                    "Departamento": "1500"
                                },
                                {
                                    "Nombre_empleados": "Rosa Angulo",
                                    "Salario_empleados": "3250000.0",
                                    "Departamento": "2000"
                                },
                                {
                                    "Nombre_empleados": "Melissa Roa",
                                    "Salario_empleados": "2250000.0",
                                    "Departamento": "2100"
                                },
                                {
                                    "Nombre_empleados": "Joaquín Rosas",
                                    "Salario_empleados": "2250000.0",
                                    "Departamento": "2200"
                                },
                                {
                                    "Nombre_empleados": "Mario Llano",
                                    "Salario_empleados": "2250000.0",
                                    "Departamento": "2300"
                                },
                                {
                                    "Nombre_empleados": "Darío Casas",
                                    "Salario_empleados": "4500000.0",
                                    "Departamento": "3000"
                                },
                                {
                                    "Nombre_empleados": "William Daza",
                                    "Salario_empleados": "2250000.0",
                                    "Departamento": "3000"
                                },
                                {
                                    "Nombre_empleados": "Marisol Pulido",
                                    "Salario_empleados": "3250000.0",
                                    "Departamento": "3000"
                                },
                                {
                                    "Nombre_empleados": "Carla López",
                                    "Salario_empleados": "4500000.0",
                                    "Departamento": "3500"
                                },
                                {
                                    "Nombre_empleados": "Marcos Cortez",
                                    "Salario_empleados": "2550000.0",
                                    "Departamento": "4000"
                                },
                                {
                                    "Nombre_empleados": "Elisa Rojas",
                                    "Salario_empleados": "3000000.0",
                                    "Departamento": "4000"
                                }
                            ]
                        },
                        "text/html": [
                            "<table>",
                            "<tr><th>Nombre_empleados</th><th>Salario_empleados</th><th>Departamento</th></tr>",
                            "<tr><td>María Rojas</td><td>6250000.0</td><td>1000</td></tr>",
                            "<tr><td>Luis Pérez</td><td>5050000.0</td><td>1500</td></tr>",
                            "<tr><td>Rosa Angulo</td><td>3250000.0</td><td>2000</td></tr>",
                            "<tr><td>Melissa Roa</td><td>2250000.0</td><td>2100</td></tr>",
                            "<tr><td>Joaquín Rosas</td><td>2250000.0</td><td>2200</td></tr>",
                            "<tr><td>Mario Llano</td><td>2250000.0</td><td>2300</td></tr>",
                            "<tr><td>Darío Casas</td><td>4500000.0</td><td>3000</td></tr>",
                            "<tr><td>William Daza</td><td>2250000.0</td><td>3000</td></tr>",
                            "<tr><td>Marisol Pulido</td><td>3250000.0</td><td>3000</td></tr>",
                            "<tr><td>Carla López</td><td>4500000.0</td><td>3500</td></tr>",
                            "<tr><td>Marcos Cortez</td><td>2550000.0</td><td>4000</td></tr>",
                            "<tr><td>Elisa Rojas</td><td>3000000.0</td><td>4000</td></tr>",
                            "</table>"
                        ]
                    }
                }
            ],
            "execution_count": 49
        },
        {
            "cell_type": "markdown",
            "source": [
                "32. <span style=\"color: rgb(102, 102, 102); font-family: Poppins; font-size: 15px; background-color: rgb(255, 255, 255);\">Hallar los departamentos que tienen más de tres empleados. Mostrar el número de empleados de esos departamentos.</span>"
            ],
            "metadata": {
                "language": "sql",
                "azdata_cell_guid": "53e1a930-a6d9-4f18-b5eb-4c8f8b4521d8"
            },
            "attachments": {}
        },
        {
            "cell_type": "code",
            "source": [
                "SELECT d.codDepto, d.nombreDpto, count(*) as 'Num empleados'\r\n",
                "FROM departamentos d, empleados e\r\n",
                "WHERE d.codDepto=e.codDepto\r\n",
                "GROUP BY d.codDepto\r\n",
                "HAVING count(*) >=3;"
            ],
            "metadata": {
                "language": "sql",
                "azdata_cell_guid": "bbc4cd63-1a1c-4178-9172-1ecd09f8f903"
            },
            "outputs": [
                {
                    "output_type": "display_data",
                    "data": {
                        "text/html": "(4 row(s) affected)"
                    },
                    "metadata": {}
                },
                {
                    "output_type": "display_data",
                    "data": {
                        "text/html": "Total execution time: 00:00:01.016"
                    },
                    "metadata": {}
                },
                {
                    "output_type": "execute_result",
                    "metadata": {},
                    "execution_count": 51,
                    "data": {
                        "application/vnd.dataresource+json": {
                            "schema": {
                                "fields": [
                                    {
                                        "name": "codDepto"
                                    },
                                    {
                                        "name": "nombreDpto"
                                    },
                                    {
                                        "name": "Num empleados"
                                    }
                                ]
                            },
                            "data": [
                                {
                                    "codDepto": "1500",
                                    "nombreDpto": "PRODUCCIÓN",
                                    "Num empleados": "3"
                                },
                                {
                                    "codDepto": "2000",
                                    "nombreDpto": "VENTAS",
                                    "Num empleados": "3"
                                },
                                {
                                    "codDepto": "3000",
                                    "nombreDpto": "INVESTIGACIÓN",
                                    "Num empleados": "4"
                                },
                                {
                                    "codDepto": "3500",
                                    "nombreDpto": "MERCADEO",
                                    "Num empleados": "3"
                                }
                            ]
                        },
                        "text/html": [
                            "<table>",
                            "<tr><th>codDepto</th><th>nombreDpto</th><th>Num empleados</th></tr>",
                            "<tr><td>1500</td><td>PRODUCCIÓN</td><td>3</td></tr>",
                            "<tr><td>2000</td><td>VENTAS</td><td>3</td></tr>",
                            "<tr><td>3000</td><td>INVESTIGACIÓN</td><td>4</td></tr>",
                            "<tr><td>3500</td><td>MERCADEO</td><td>3</td></tr>",
                            "</table>"
                        ]
                    }
                }
            ],
            "execution_count": 51
        },
        {
            "cell_type": "markdown",
            "source": [
                "33. <span style=\"color: rgb(102, 102, 102); font-family: Poppins; font-size: 15px; background-color: rgb(255, 255, 255);\">Mostrar el código y nombre de cada jefe, junto al número de empleados que dirige. Solo los que tengan mas de dos empleados (2 incluido).</span>"
            ],
            "metadata": {
                "language": "sql",
                "azdata_cell_guid": "f0f4f87c-30a2-4980-ab4d-e5b78b3ef0af"
            },
            "attachments": {}
        },
        {
            "cell_type": "code",
            "source": [
                "SELECT j.nDIEmp, j.nomEmp, COUNT(*) AS 'Num Empleados'\r\n",
                "FROM empleados e\r\n",
                "JOIN empleados j ON e.jefeID = j.nDIEmp\r\n",
                "GROUP BY j.nDIEmp, j.nomEmp\r\n",
                "HAVING COUNT(*) >= 2\r\n",
                "ORDER BY COUNT(*) DESC;"
            ],
            "metadata": {
                "language": "sql",
                "azdata_cell_guid": "206fe4f9-3510-4527-919b-840d0cd88dbb"
            },
            "outputs": [
                {
                    "output_type": "display_data",
                    "data": {
                        "text/html": "(5 row(s) affected)"
                    },
                    "metadata": {}
                },
                {
                    "output_type": "display_data",
                    "data": {
                        "text/html": "Total execution time: 00:00:01.017"
                    },
                    "metadata": {}
                },
                {
                    "output_type": "execute_result",
                    "metadata": {},
                    "execution_count": 53,
                    "data": {
                        "application/vnd.dataresource+json": {
                            "schema": {
                                "fields": [
                                    {
                                        "name": "nDIEmp"
                                    },
                                    {
                                        "name": "nomEmp"
                                    },
                                    {
                                        "name": "Num Empleados"
                                    }
                                ]
                            },
                            "data": [
                                {
                                    "nDIEmp": "31.178.144",
                                    "nomEmp": "Rosa Angulo",
                                    "Num Empleados": "8"
                                },
                                {
                                    "nDIEmp": "31.840.269",
                                    "nomEmp": "María Rojas",
                                    "Num Empleados": "7"
                                },
                                {
                                    "nDIEmp": "333.333.333",
                                    "nomEmp": "Elisa Rojas",
                                    "Num Empleados": "4"
                                },
                                {
                                    "nDIEmp": "16.759.060",
                                    "nomEmp": "Darío Casas",
                                    "Num Empleados": "3"
                                },
                                {
                                    "nDIEmp": "16.211.383",
                                    "nomEmp": "Luis Pérez",
                                    "Num Empleados": "2"
                                }
                            ]
                        },
                        "text/html": [
                            "<table>",
                            "<tr><th>nDIEmp</th><th>nomEmp</th><th>Num Empleados</th></tr>",
                            "<tr><td>31.178.144</td><td>Rosa Angulo</td><td>8</td></tr>",
                            "<tr><td>31.840.269</td><td>María Rojas</td><td>7</td></tr>",
                            "<tr><td>333.333.333</td><td>Elisa Rojas</td><td>4</td></tr>",
                            "<tr><td>16.759.060</td><td>Darío Casas</td><td>3</td></tr>",
                            "<tr><td>16.211.383</td><td>Luis Pérez</td><td>2</td></tr>",
                            "</table>"
                        ]
                    }
                }
            ],
            "execution_count": 53
        },
        {
            "cell_type": "markdown",
            "source": [
                "34.  <span style=\"color: rgb(102, 102, 102); font-family: Poppins; font-size: 15px; background-color: rgb(255, 255, 255);\">&nbsp;Hallar los departamentos que no tienen empleados</span>"
            ],
            "metadata": {
                "language": "sql",
                "azdata_cell_guid": "91714e2d-a6b2-4116-98da-b4be66217eb0"
            },
            "attachments": {}
        },
        {
            "cell_type": "code",
            "source": [
                "SELECT d.codDepto, d.nombreDpto\r\n",
                "FROM departamentos d, empleados e  \r\n",
                "WHERE d.codDepto=e.codDepto\r\n",
                "GROUP BY d.codDepto\r\n",
                "having count(*) = 0; "
            ],
            "metadata": {
                "language": "sql",
                "azdata_cell_guid": "78fdf24b-4370-456e-a6aa-f430fcfc3157"
            },
            "outputs": [
                {
                    "output_type": "display_data",
                    "data": {
                        "text/html": "(0 row(s) affected)"
                    },
                    "metadata": {}
                },
                {
                    "output_type": "display_data",
                    "data": {
                        "text/html": "Total execution time: 00:00:01.007"
                    },
                    "metadata": {}
                },
                {
                    "output_type": "execute_result",
                    "metadata": {},
                    "execution_count": 54,
                    "data": {
                        "application/vnd.dataresource+json": {
                            "schema": {
                                "fields": [
                                    {
                                        "name": "codDepto"
                                    },
                                    {
                                        "name": "nombreDpto"
                                    }
                                ]
                            },
                            "data": []
                        },
                        "text/html": [
                            "<table>",
                            "<tr><th>codDepto</th><th>nombreDpto</th></tr>",
                            "</table>"
                        ]
                    }
                }
            ],
            "execution_count": 54
        },
        {
            "cell_type": "markdown",
            "source": [
                "35.  <span style=\"color: rgb(102, 102, 102); font-family: Poppins; font-size: 15px; background-color: rgb(255, 255, 255);\">&nbsp;Mostrar el nombre del departamento cuya suma de salarios sea la más alta, indicando el valor de la suma.</span>"
            ],
            "metadata": {
                "language": "sql",
                "azdata_cell_guid": "76208a8a-3351-4b7b-8871-3dcf6de9c0c9"
            },
            "attachments": {}
        },
        {
            "cell_type": "code",
            "source": [
                "SELECT d.nombreDpto, sum(e.salEmp)\r\n",
                "FROM departamentos d, empleados e  \r\n",
                "WHERE d.codDepto=e.codDepto \r\n",
                "GROUP BY d.nombreDpto\r\n",
                "ORDER BY sum(e.salEmp) desc  \r\n",
                "limit 1; "
            ],
            "metadata": {
                "language": "sql",
                "azdata_cell_guid": "00f91bd3-3ddc-4817-b87d-7c282ac10759"
            },
            "outputs": [
                {
                    "output_type": "display_data",
                    "data": {
                        "text/html": "(1 row(s) affected)"
                    },
                    "metadata": {}
                },
                {
                    "output_type": "display_data",
                    "data": {
                        "text/html": "Total execution time: 00:00:01.004"
                    },
                    "metadata": {}
                },
                {
                    "output_type": "execute_result",
                    "metadata": {},
                    "execution_count": 55,
                    "data": {
                        "application/vnd.dataresource+json": {
                            "schema": {
                                "fields": [
                                    {
                                        "name": "nombreDpto"
                                    },
                                    {
                                        "name": "sum(e.salEmp)"
                                    }
                                ]
                            },
                            "data": [
                                {
                                    "nombreDpto": "VENTAS",
                                    "sum(e.salEmp)": "14000000.0"
                                }
                            ]
                        },
                        "text/html": [
                            "<table>",
                            "<tr><th>nombreDpto</th><th>sum(e.salEmp)</th></tr>",
                            "<tr><td>VENTAS</td><td>14000000.0</td></tr>",
                            "</table>"
                        ]
                    }
                }
            ],
            "execution_count": 55
        },
        {
            "cell_type": "markdown",
            "source": [
                "36. <span style=\"color: rgb(102, 102, 102); font-family: Poppins; font-size: 15px; background-color: rgb(255, 255, 255);\">Mostrar el nombre del departamento cuya suma de salarios sea la más alta, indicando el valor de la suma.</span>"
            ],
            "metadata": {
                "language": "sql",
                "azdata_cell_guid": "144d57f0-8cba-4058-9d44-554a8a50ac7b"
            },
            "attachments": {}
        },
        {
            "cell_type": "code",
            "source": [
                "SELECT d.nombreDpto, sum(e.salEmp)\r\n",
                "FROM departamentos d, empleados e  \r\n",
                "WHERE d.codDepto=e.codDepto \r\n",
                "GROUP BY d.nombreDpto\r\n",
                "ORDER BY sum(e.salEmp) desc  \r\n",
                "limit 1; "
            ],
            "metadata": {
                "language": "sql",
                "azdata_cell_guid": "46e2c704-00ca-4ce1-a22f-ee655db8b77c"
            },
            "outputs": [
                {
                    "output_type": "display_data",
                    "data": {
                        "text/html": "(1 row(s) affected)"
                    },
                    "metadata": {}
                },
                {
                    "output_type": "display_data",
                    "data": {
                        "text/html": "Total execution time: 00:00:01.014"
                    },
                    "metadata": {}
                },
                {
                    "output_type": "execute_result",
                    "metadata": {},
                    "execution_count": 56,
                    "data": {
                        "application/vnd.dataresource+json": {
                            "schema": {
                                "fields": [
                                    {
                                        "name": "nombreDpto"
                                    },
                                    {
                                        "name": "sum(e.salEmp)"
                                    }
                                ]
                            },
                            "data": [
                                {
                                    "nombreDpto": "VENTAS",
                                    "sum(e.salEmp)": "14000000.0"
                                }
                            ]
                        },
                        "text/html": [
                            "<table>",
                            "<tr><th>nombreDpto</th><th>sum(e.salEmp)</th></tr>",
                            "<tr><td>VENTAS</td><td>14000000.0</td></tr>",
                            "</table>"
                        ]
                    }
                }
            ],
            "execution_count": 56
        },
        {
            "cell_type": "markdown",
            "source": [
                "### _Las soluciones las puedes encontrar [aqui](https:\\www.discoduroderoer.es\\ejercicios-propuestos-y-resueltos-de-consultas-mysql-empleados-y-departamentos\\)_"
            ],
            "metadata": {
                "language": "sql",
                "azdata_cell_guid": "8f8670cd-26d4-4de2-b6d3-809a0d99ebfc"
            },
            "attachments": {}
        }
    ]
}