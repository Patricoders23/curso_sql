{
    "metadata": {
        "kernelspec": {
            "name": "SQL",
            "display_name": "SQL",
            "language": "sql"
        },
        "language_info": {
            "name": "sql",
            "version": ""
        }
    },
    "nbformat_minor": 2,
    "nbformat": 4,
    "cells": [
        {
            "cell_type": "markdown",
            "source": [
                "# Practica 12 - Funciones esenciales en SQL"
            ],
            "metadata": {
                "azdata_cell_guid": "340994e9-49a9-469b-ae0b-edbfb84e7052"
            },
            "attachments": {}
        },
        {
            "cell_type": "markdown",
            "source": [
                "## Parte 1. Responder utilizando el schema **base.sql**"
            ],
            "metadata": {
                "azdata_cell_guid": "7d5c20f0-61e7-4846-94db-5bb6c9154d1a"
            },
            "attachments": {}
        },
        {
            "cell_type": "markdown",
            "source": [
                "## Funciones String & Fecha"
            ],
            "metadata": {
                "azdata_cell_guid": "6ed64a62-e15f-43ed-b81b-3a159413d8de"
            },
            "attachments": {}
        },
        {
            "cell_type": "markdown",
            "source": [
                "**1\\. ¿Cuál es el nombre y apellido más largo de nuestros vendedores?**"
            ],
            "metadata": {
                "azdata_cell_guid": "d1a88cf2-a322-4ebe-a9b9-decc60f2cdda"
            },
            "attachments": {}
        },
        {
            "cell_type": "code",
            "source": [
                "USE base7;\r\n",
                "\r\n",
                "SELECT \r\n",
                "    Nombre, \r\n",
                "    Apellido, \r\n",
                "    CONCAT(Nombre, ' ', Apellido) AS Nombre_Completo,\r\n",
                "    LENGTH(Nombre) + LENGTH(Apellido) AS Recuento_letras\r\n",
                "FROM vendedor\r\n",
                "ORDER BY LENGTH(Nombre) + LENGTH(Apellido) DESC\r\n",
                "LIMIT 8;\r\n",
                ""
            ],
            "metadata": {
                "azdata_cell_guid": "dd12b97c-e864-42de-82cb-d8666dae007d",
                "language": "sql"
            },
            "outputs": [
                {
                    "output_type": "display_data",
                    "data": {
                        "text/html": "Commands completed successfully"
                    },
                    "metadata": {}
                },
                {
                    "output_type": "display_data",
                    "data": {
                        "text/html": "(8 row(s) affected)"
                    },
                    "metadata": {}
                },
                {
                    "output_type": "display_data",
                    "data": {
                        "text/html": "Total execution time: 00:00:01.007"
                    },
                    "metadata": {}
                },
                {
                    "output_type": "execute_result",
                    "metadata": {},
                    "execution_count": 5,
                    "data": {
                        "application/vnd.dataresource+json": {
                            "schema": {
                                "fields": [
                                    {
                                        "name": "Nombre"
                                    },
                                    {
                                        "name": "Apellido"
                                    },
                                    {
                                        "name": "Nombre_Completo"
                                    },
                                    {
                                        "name": "Recuento_letras"
                                    }
                                ]
                            },
                            "data": [
                                {
                                    "Nombre": "FRANCISCO JAVIER",
                                    "Apellido": "GARCIA",
                                    "Nombre_Completo": "FRANCISCO JAVIER GARCIA",
                                    "Recuento_letras": "22"
                                },
                                {
                                    "Nombre": "MARIA VICTORIA",
                                    "Apellido": "IBANEZ",
                                    "Nombre_Completo": "MARIA VICTORIA IBANEZ",
                                    "Recuento_letras": "20"
                                },
                                {
                                    "Nombre": "ANA BELEN",
                                    "Apellido": "SANTAMARIA",
                                    "Nombre_Completo": "ANA BELEN SANTAMARIA",
                                    "Recuento_letras": "19"
                                },
                                {
                                    "Nombre": "MARIA ANGELES",
                                    "Apellido": "ALONSO",
                                    "Nombre_Completo": "MARIA ANGELES ALONSO",
                                    "Recuento_letras": "19"
                                },
                                {
                                    "Nombre": "JOSE ANTONIO",
                                    "Apellido": "MADERO",
                                    "Nombre_Completo": "JOSE ANTONIO MADERO",
                                    "Recuento_letras": "18"
                                },
                                {
                                    "Nombre": "JUAN MANUEL",
                                    "Apellido": "RAMIREZ",
                                    "Nombre_Completo": "JUAN MANUEL RAMIREZ",
                                    "Recuento_letras": "18"
                                },
                                {
                                    "Nombre": "MARIA DOLORES",
                                    "Apellido": "SAENZ",
                                    "Nombre_Completo": "MARIA DOLORES SAENZ",
                                    "Recuento_letras": "18"
                                },
                                {
                                    "Nombre": "MARIA ELENA",
                                    "Apellido": "BENITO",
                                    "Nombre_Completo": "MARIA ELENA BENITO",
                                    "Recuento_letras": "17"
                                }
                            ]
                        },
                        "text/html": [
                            "<table>",
                            "<tr><th>Nombre</th><th>Apellido</th><th>Nombre_Completo</th><th>Recuento_letras</th></tr>",
                            "<tr><td>FRANCISCO JAVIER</td><td>GARCIA</td><td>FRANCISCO JAVIER GARCIA</td><td>22</td></tr>",
                            "<tr><td>MARIA VICTORIA</td><td>IBANEZ</td><td>MARIA VICTORIA IBANEZ</td><td>20</td></tr>",
                            "<tr><td>ANA BELEN</td><td>SANTAMARIA</td><td>ANA BELEN SANTAMARIA</td><td>19</td></tr>",
                            "<tr><td>MARIA ANGELES</td><td>ALONSO</td><td>MARIA ANGELES ALONSO</td><td>19</td></tr>",
                            "<tr><td>JOSE ANTONIO</td><td>MADERO</td><td>JOSE ANTONIO MADERO</td><td>18</td></tr>",
                            "<tr><td>JUAN MANUEL</td><td>RAMIREZ</td><td>JUAN MANUEL RAMIREZ</td><td>18</td></tr>",
                            "<tr><td>MARIA DOLORES</td><td>SAENZ</td><td>MARIA DOLORES SAENZ</td><td>18</td></tr>",
                            "<tr><td>MARIA ELENA</td><td>BENITO</td><td>MARIA ELENA BENITO</td><td>17</td></tr>",
                            "</table>"
                        ]
                    }
                }
            ],
            "execution_count": 5
        },
        {
            "cell_type": "markdown",
            "source": [
                "**2\\. Obtener las ventas totales para los últimos 3 años**"
            ],
            "metadata": {
                "language": "sql",
                "azdata_cell_guid": "945251e9-3b9a-4ca3-b879-85741d25ea5b"
            },
            "attachments": {}
        },
        {
            "cell_type": "code",
            "source": [
                "SELECT SUM(Venta) AS Ventas_Totales\r\n",
                "FROM ventas\r\n",
                "WHERE Fecha_venta >= DATE_SUB('2018-09-09', INTERVAL 3 YEAR);\r\n",
                "\r\n",
                ""
            ],
            "metadata": {
                "language": "sql",
                "azdata_cell_guid": "7c0804ce-0af2-4d6d-88c0-dac7bd100847"
            },
            "outputs": [
                {
                    "output_type": "display_data",
                    "data": {
                        "text/html": "(1 row(s) affected)"
                    },
                    "metadata": {}
                },
                {
                    "output_type": "display_data",
                    "data": {
                        "text/html": "Total execution time: 00:00:01.017"
                    },
                    "metadata": {}
                },
                {
                    "output_type": "execute_result",
                    "execution_count": 28,
                    "data": {
                        "application/vnd.dataresource+json": {
                            "schema": {
                                "fields": [
                                    {
                                        "name": "Ventas_Totales"
                                    }
                                ]
                            },
                            "data": [
                                {
                                    "Ventas_Totales": "2273958057"
                                }
                            ]
                        },
                        "text/html": "<table><tr><th>Ventas_Totales</th></tr><tr><td>2273958057</td></tr></table>"
                    },
                    "metadata": {}
                }
            ],
            "execution_count": 28
        },
        {
            "cell_type": "code",
            "source": [
                "USE market; \r\n",
                "\r\n",
                "select * \r\n",
                "FROM ventas;"
            ],
            "metadata": {
                "azdata_cell_guid": "f20fd72b-bc0f-4991-a1bb-8bab1d32e05c",
                "language": "sql"
            },
            "outputs": [
                {
                    "output_type": "display_data",
                    "data": {
                        "text/html": "Commands completed successfully"
                    },
                    "metadata": {}
                },
                {
                    "output_type": "display_data",
                    "data": {
                        "text/html": "(10 row(s) affected)"
                    },
                    "metadata": {}
                },
                {
                    "output_type": "display_data",
                    "data": {
                        "text/html": "Total execution time: 00:00:01.018"
                    },
                    "metadata": {}
                },
                {
                    "output_type": "execute_result",
                    "metadata": {},
                    "execution_count": 1,
                    "data": {
                        "application/vnd.dataresource+json": {
                            "schema": {
                                "fields": [
                                    {
                                        "name": "ID"
                                    },
                                    {
                                        "name": "Producto"
                                    },
                                    {
                                        "name": "Cantidad"
                                    },
                                    {
                                        "name": "Precio"
                                    },
                                    {
                                        "name": "Descuento"
                                    }
                                ]
                            },
                            "data": [
                                {
                                    "ID": "1",
                                    "Producto": "Laptop",
                                    "Cantidad": "1",
                                    "Precio": "1200.00",
                                    "Descuento": "0.00"
                                },
                                {
                                    "ID": "2",
                                    "Producto": "Smartphone",
                                    "Cantidad": "2",
                                    "Precio": "300.00",
                                    "Descuento": "15.00"
                                },
                                {
                                    "ID": "3",
                                    "Producto": "Teclado",
                                    "Cantidad": "5",
                                    "Precio": "50.00",
                                    "Descuento": "5.00"
                                },
                                {
                                    "ID": "4",
                                    "Producto": "Monitor",
                                    "Cantidad": "2",
                                    "Precio": "200.00",
                                    "Descuento": "10.00"
                                },
                                {
                                    "ID": "5",
                                    "Producto": "Mouse",
                                    "Cantidad": "10",
                                    "Precio": "20.00",
                                    "Descuento": "2.00"
                                },
                                {
                                    "ID": "6",
                                    "Producto": "Cámara Web",
                                    "Cantidad": "3",
                                    "Precio": "70.00",
                                    "Descuento": "5.00"
                                },
                                {
                                    "ID": "7",
                                    "Producto": "Altavoces",
                                    "Cantidad": "4",
                                    "Precio": "35.00",
                                    "Descuento": "3.50"
                                },
                                {
                                    "ID": "8",
                                    "Producto": "Impresora",
                                    "Cantidad": "1",
                                    "Precio": "85.00",
                                    "Descuento": "0.00"
                                },
                                {
                                    "ID": "9",
                                    "Producto": "Router",
                                    "Cantidad": "2",
                                    "Precio": "60.00",
                                    "Descuento": "0.00"
                                },
                                {
                                    "ID": "10",
                                    "Producto": "Tablet",
                                    "Cantidad": "5",
                                    "Precio": "250.00",
                                    "Descuento": "12.50"
                                }
                            ]
                        },
                        "text/html": [
                            "<table>",
                            "<tr><th>ID</th><th>Producto</th><th>Cantidad</th><th>Precio</th><th>Descuento</th></tr>",
                            "<tr><td>1</td><td>Laptop</td><td>1</td><td>1200.00</td><td>0.00</td></tr>",
                            "<tr><td>2</td><td>Smartphone</td><td>2</td><td>300.00</td><td>15.00</td></tr>",
                            "<tr><td>3</td><td>Teclado</td><td>5</td><td>50.00</td><td>5.00</td></tr>",
                            "<tr><td>4</td><td>Monitor</td><td>2</td><td>200.00</td><td>10.00</td></tr>",
                            "<tr><td>5</td><td>Mouse</td><td>10</td><td>20.00</td><td>2.00</td></tr>",
                            "<tr><td>6</td><td>Cámara Web</td><td>3</td><td>70.00</td><td>5.00</td></tr>",
                            "<tr><td>7</td><td>Altavoces</td><td>4</td><td>35.00</td><td>3.50</td></tr>",
                            "<tr><td>8</td><td>Impresora</td><td>1</td><td>85.00</td><td>0.00</td></tr>",
                            "<tr><td>9</td><td>Router</td><td>2</td><td>60.00</td><td>0.00</td></tr>",
                            "<tr><td>10</td><td>Tablet</td><td>5</td><td>250.00</td><td>12.50</td></tr>",
                            "</table>"
                        ]
                    }
                }
            ],
            "execution_count": 1
        },
        {
            "cell_type": "markdown",
            "source": [
                "## Condicional IF"
            ],
            "metadata": {
                "language": "sql",
                "azdata_cell_guid": "58b9ed6b-9884-4c56-a813-8d731646fb70"
            },
            "attachments": {}
        },
        {
            "cell_type": "markdown",
            "source": [
                "**3\\. Genera una lista para dar seguimiento a las ventas mayores a $ 2.9 M en 2019**"
            ],
            "metadata": {
                "language": "sql",
                "azdata_cell_guid": "11763f1c-809f-4847-9b31-5ff0d0d8d177"
            },
            "attachments": {}
        },
        {
            "cell_type": "code",
            "source": [
                "SELECT *\r\n",
                "FROM ventas\r\n",
                "WHERE IF(YEAR(STR_TO_DATE(Fecha_venta, '%d-%b-%y')) = 2019 AND Venta > 2900000, 1, 0) = 1\r\n",
                "ORDER BY Venta DESC;\r\n",
                ""
            ],
            "metadata": {
                "language": "sql",
                "azdata_cell_guid": "28e3062e-2fcd-4f84-bf36-601d7c70f178"
            },
            "outputs": [
                {
                    "output_type": "display_data",
                    "data": {
                        "text/html": "(3 row(s) affected)"
                    },
                    "metadata": {}
                },
                {
                    "output_type": "display_data",
                    "data": {
                        "text/html": "Total execution time: 00:00:01.015"
                    },
                    "metadata": {}
                },
                {
                    "output_type": "execute_result",
                    "execution_count": 36,
                    "data": {
                        "application/vnd.dataresource+json": {
                            "schema": {
                                "fields": [
                                    {
                                        "name": "ID_Venta"
                                    },
                                    {
                                        "name": "Fecha_venta"
                                    },
                                    {
                                        "name": "ID_producto"
                                    },
                                    {
                                        "name": "ID_Zona"
                                    },
                                    {
                                        "name": "Venta"
                                    },
                                    {
                                        "name": "ID_Vendedor"
                                    },
                                    {
                                        "name": "ID_Cliente"
                                    }
                                ]
                            },
                            "data": [
                                {
                                    "ID_Venta": "3289",
                                    "Fecha_venta": "4-Jun-19",
                                    "ID_producto": "1",
                                    "ID_Zona": "1",
                                    "Venta": "2914416",
                                    "ID_Vendedor": "13",
                                    "ID_Cliente": "8"
                                },
                                {
                                    "ID_Venta": "3268",
                                    "Fecha_venta": "29-Mar-19",
                                    "ID_producto": "5",
                                    "ID_Zona": "4",
                                    "Venta": "2908500",
                                    "ID_Vendedor": "43",
                                    "ID_Cliente": "10"
                                },
                                {
                                    "ID_Venta": "3126",
                                    "Fecha_venta": "2-Jul-19",
                                    "ID_producto": "3",
                                    "ID_Zona": "3",
                                    "Venta": "2902284",
                                    "ID_Vendedor": "27",
                                    "ID_Cliente": "6"
                                }
                            ]
                        },
                        "text/html": "<table><tr><th>ID_Venta</th><th>Fecha_venta</th><th>ID_producto</th><th>ID_Zona</th><th>Venta</th><th>ID_Vendedor</th><th>ID_Cliente</th></tr><tr><td>3289</td><td>4-Jun-19</td><td>1</td><td>1</td><td>2914416</td><td>13</td><td>8</td></tr><tr><td>3268</td><td>29-Mar-19</td><td>5</td><td>4</td><td>2908500</td><td>43</td><td>10</td></tr><tr><td>3126</td><td>2-Jul-19</td><td>3</td><td>3</td><td>2902284</td><td>27</td><td>6</td></tr></table>"
                    },
                    "metadata": {}
                }
            ],
            "execution_count": 36
        },
        {
            "cell_type": "code",
            "source": [
                ""
            ],
            "metadata": {
                "azdata_cell_guid": "43cbfad5-17b1-4d80-9921-76323d20fbf6",
                "language": "sql"
            },
            "outputs": [],
            "execution_count": null
        },
        {
            "cell_type": "markdown",
            "source": [
                "## Parte 2. Uso de IF y CASE. Responder usando otra base de datos que se creará a continuación:"
            ],
            "metadata": {
                "language": "sql",
                "azdata_cell_guid": "7fcc3630-8bc0-4383-be50-70a2a1239de7"
            },
            "attachments": {}
        },
        {
            "cell_type": "markdown",
            "source": [
                "-  <span style=\"color: var(--cib-color-syntax-gray); font-family: Menlo, Monaco, Consolas, &quot;Droid Sans Mono&quot;, &quot;Courier New&quot;, monospace, &quot;Droid Sans Fallback&quot;; font-size: var(--cib-type-body1-font-size); font-weight: var(--cib-type-body1-font-weight); white-space-collapse: preserve;\">Crear la base de datos 'market' si no existe:</span>"
            ],
            "metadata": {
                "language": "sql",
                "azdata_cell_guid": "9368c130-8b6d-4705-8d7a-7680025d47d6"
            },
            "attachments": {}
        },
        {
            "cell_type": "code",
            "source": [
                "CREATE DATABASE IF NOT EXISTS market;\r\n",
                "USE market;"
            ],
            "metadata": {
                "language": "sql",
                "azdata_cell_guid": "45580aeb-3fe8-401c-9328-9621da5e71f6",
                "tags": [
                    "hide_input"
                ]
            },
            "outputs": [
                {
                    "output_type": "display_data",
                    "data": {
                        "text/html": "Commands completed successfully"
                    },
                    "metadata": {}
                },
                {
                    "output_type": "display_data",
                    "data": {
                        "text/html": "Commands completed successfully"
                    },
                    "metadata": {}
                },
                {
                    "output_type": "display_data",
                    "data": {
                        "text/html": "Total execution time: 00:00:00.016"
                    },
                    "metadata": {}
                }
            ],
            "execution_count": 37
        },
        {
            "cell_type": "markdown",
            "source": [
                "- Crear la tabla 'Ventas'"
            ],
            "metadata": {
                "language": "sql",
                "azdata_cell_guid": "0cf1937c-a5cc-4c6b-b9ef-cdb8252eeea0"
            },
            "attachments": {}
        },
        {
            "cell_type": "code",
            "source": [
                "CREATE TABLE Ventas (\r\n",
                "    ID INT AUTO_INCREMENT PRIMARY KEY,\r\n",
                "    Producto VARCHAR(100),\r\n",
                "    Cantidad INT,\r\n",
                "    Precio DECIMAL(10,2),\r\n",
                "    Descuento DECIMAL(5,2)\r\n",
                ");"
            ],
            "metadata": {
                "language": "sql",
                "azdata_cell_guid": "dcdfd2ab-9822-41b5-90d0-6e374e3f055b"
            },
            "outputs": [
                {
                    "output_type": "display_data",
                    "data": {
                        "text/html": "Commands completed successfully"
                    },
                    "metadata": {}
                },
                {
                    "output_type": "display_data",
                    "data": {
                        "text/html": "Total execution time: 00:00:00.053"
                    },
                    "metadata": {}
                }
            ],
            "execution_count": 38
        },
        {
            "cell_type": "markdown",
            "source": [
                "- Insertar 10 registros en 'Ventas'"
            ],
            "metadata": {
                "language": "sql",
                "azdata_cell_guid": "4f96d700-ff32-49b5-9da1-3ec376cfc611"
            },
            "attachments": {}
        },
        {
            "cell_type": "code",
            "source": [
                "INSERT INTO Ventas (Producto, Cantidad, Precio, Descuento) VALUES\r\n",
                "('Laptop', 1, 1200.00, 0),\r\n",
                "('Smartphone', 2, 300.00, 15.00),\r\n",
                "('Teclado', 5, 50.00, 5.00),\r\n",
                "('Monitor', 2, 200.00, 10.00),\r\n",
                "('Mouse', 10, 20.00, 2.00),\r\n",
                "('Cámara Web', 3, 70.00, 5.00),\r\n",
                "('Altavoces', 4, 35.00, 3.50),\r\n",
                "('Impresora', 1, 85.00, 0),\r\n",
                "('Router', 2, 60.00, 0),\r\n",
                "('Tablet', 5, 250.00, 12.50);"
            ],
            "metadata": {
                "language": "sql",
                "azdata_cell_guid": "9a9722ea-eb80-4751-91d9-de0c8c186ce8"
            },
            "outputs": [
                {
                    "output_type": "display_data",
                    "data": {
                        "text/html": "Commands completed successfully"
                    },
                    "metadata": {}
                },
                {
                    "output_type": "display_data",
                    "data": {
                        "text/html": "Total execution time: 00:00:00.016"
                    },
                    "metadata": {}
                }
            ],
            "execution_count": 39
        },
        {
            "cell_type": "markdown",
            "source": [
                "### _Una vez creada la base de datos y la tabla responder las siguientes preguntas usando IF y/o CASE_"
            ],
            "metadata": {
                "language": "sql",
                "azdata_cell_guid": "0c960f01-2b69-4e63-8692-b673f89ae3f9"
            },
            "attachments": {}
        },
        {
            "cell_type": "markdown",
            "source": [
                "**4.**  <span style=\"color: var(--cib-color-syntax-gray); font-family: Menlo, Monaco, Consolas, &quot;Droid Sans Mono&quot;, &quot;Courier New&quot;, monospace, &quot;Droid Sans Fallback&quot;; font-size: var(--cib-type-body1-font-size); white-space-collapse: preserve;\"><b>Aplicar descuento si la cantidad es mayor a 3</b></span>"
            ],
            "metadata": {
                "language": "sql",
                "azdata_cell_guid": "79da35c0-46e3-4a33-a24f-62d4883fbe3f"
            },
            "attachments": {}
        },
        {
            "cell_type": "code",
            "source": [
                "USE market;\r\n",
                "\r\n",
                "SELECT * \r\n",
                "FROM ventas;"
            ],
            "metadata": {
                "azdata_cell_guid": "73099347-23d2-4522-aca8-084049422fc4",
                "language": "sql"
            },
            "outputs": [
                {
                    "output_type": "display_data",
                    "data": {
                        "text/html": "Commands completed successfully"
                    },
                    "metadata": {}
                },
                {
                    "output_type": "display_data",
                    "data": {
                        "text/html": "(10 row(s) affected)"
                    },
                    "metadata": {}
                },
                {
                    "output_type": "display_data",
                    "data": {
                        "text/html": "Total execution time: 00:00:01.014"
                    },
                    "metadata": {}
                },
                {
                    "output_type": "execute_result",
                    "execution_count": 46,
                    "data": {
                        "application/vnd.dataresource+json": {
                            "schema": {
                                "fields": [
                                    {
                                        "name": "ID"
                                    },
                                    {
                                        "name": "Producto"
                                    },
                                    {
                                        "name": "Cantidad"
                                    },
                                    {
                                        "name": "Precio"
                                    },
                                    {
                                        "name": "Descuento"
                                    }
                                ]
                            },
                            "data": [
                                {
                                    "ID": "1",
                                    "Producto": "Laptop",
                                    "Cantidad": "1",
                                    "Precio": "1200.00",
                                    "Descuento": "0.00"
                                },
                                {
                                    "ID": "2",
                                    "Producto": "Smartphone",
                                    "Cantidad": "2",
                                    "Precio": "300.00",
                                    "Descuento": "15.00"
                                },
                                {
                                    "ID": "3",
                                    "Producto": "Teclado",
                                    "Cantidad": "5",
                                    "Precio": "50.00",
                                    "Descuento": "5.00"
                                },
                                {
                                    "ID": "4",
                                    "Producto": "Monitor",
                                    "Cantidad": "2",
                                    "Precio": "200.00",
                                    "Descuento": "10.00"
                                },
                                {
                                    "ID": "5",
                                    "Producto": "Mouse",
                                    "Cantidad": "10",
                                    "Precio": "20.00",
                                    "Descuento": "2.00"
                                },
                                {
                                    "ID": "6",
                                    "Producto": "Cámara Web",
                                    "Cantidad": "3",
                                    "Precio": "70.00",
                                    "Descuento": "5.00"
                                },
                                {
                                    "ID": "7",
                                    "Producto": "Altavoces",
                                    "Cantidad": "4",
                                    "Precio": "35.00",
                                    "Descuento": "3.50"
                                },
                                {
                                    "ID": "8",
                                    "Producto": "Impresora",
                                    "Cantidad": "1",
                                    "Precio": "85.00",
                                    "Descuento": "0.00"
                                },
                                {
                                    "ID": "9",
                                    "Producto": "Router",
                                    "Cantidad": "2",
                                    "Precio": "60.00",
                                    "Descuento": "0.00"
                                },
                                {
                                    "ID": "10",
                                    "Producto": "Tablet",
                                    "Cantidad": "5",
                                    "Precio": "250.00",
                                    "Descuento": "12.50"
                                }
                            ]
                        },
                        "text/html": "<table><tr><th>ID</th><th>Producto</th><th>Cantidad</th><th>Precio</th><th>Descuento</th></tr><tr><td>1</td><td>Laptop</td><td>1</td><td>1200.00</td><td>0.00</td></tr><tr><td>2</td><td>Smartphone</td><td>2</td><td>300.00</td><td>15.00</td></tr><tr><td>3</td><td>Teclado</td><td>5</td><td>50.00</td><td>5.00</td></tr><tr><td>4</td><td>Monitor</td><td>2</td><td>200.00</td><td>10.00</td></tr><tr><td>5</td><td>Mouse</td><td>10</td><td>20.00</td><td>2.00</td></tr><tr><td>6</td><td>Cámara Web</td><td>3</td><td>70.00</td><td>5.00</td></tr><tr><td>7</td><td>Altavoces</td><td>4</td><td>35.00</td><td>3.50</td></tr><tr><td>8</td><td>Impresora</td><td>1</td><td>85.00</td><td>0.00</td></tr><tr><td>9</td><td>Router</td><td>2</td><td>60.00</td><td>0.00</td></tr><tr><td>10</td><td>Tablet</td><td>5</td><td>250.00</td><td>12.50</td></tr></table>"
                    },
                    "metadata": {}
                }
            ],
            "execution_count": 46
        },
        {
            "cell_type": "code",
            "source": [
                "SELECT *,\r\n",
                "    IF(Cantidad > 3, Precio - (Precio * Descuento / 100), Precio) AS Precio_Final\r\n",
                "FROM ventas;\r\n",
                ""
            ],
            "metadata": {
                "language": "sql",
                "azdata_cell_guid": "24b4f8c8-9c50-45f6-b754-df5d54cf4bb9",
                "tags": []
            },
            "outputs": [
                {
                    "output_type": "display_data",
                    "data": {
                        "text/html": "(10 row(s) affected)"
                    },
                    "metadata": {}
                },
                {
                    "output_type": "display_data",
                    "data": {
                        "text/html": "Total execution time: 00:00:01.014"
                    },
                    "metadata": {}
                },
                {
                    "output_type": "execute_result",
                    "execution_count": 51,
                    "data": {
                        "application/vnd.dataresource+json": {
                            "schema": {
                                "fields": [
                                    {
                                        "name": "ID"
                                    },
                                    {
                                        "name": "Producto"
                                    },
                                    {
                                        "name": "Cantidad"
                                    },
                                    {
                                        "name": "Precio"
                                    },
                                    {
                                        "name": "Descuento"
                                    },
                                    {
                                        "name": "Precio_Final"
                                    }
                                ]
                            },
                            "data": [
                                {
                                    "ID": "1",
                                    "Producto": "Laptop",
                                    "Cantidad": "1",
                                    "Precio": "1200.00",
                                    "Descuento": "0.00",
                                    "Precio_Final": "1200.00"
                                },
                                {
                                    "ID": "2",
                                    "Producto": "Smartphone",
                                    "Cantidad": "2",
                                    "Precio": "300.00",
                                    "Descuento": "15.00",
                                    "Precio_Final": "300.00"
                                },
                                {
                                    "ID": "3",
                                    "Producto": "Teclado",
                                    "Cantidad": "5",
                                    "Precio": "50.00",
                                    "Descuento": "5.00",
                                    "Precio_Final": "47.50000000"
                                },
                                {
                                    "ID": "4",
                                    "Producto": "Monitor",
                                    "Cantidad": "2",
                                    "Precio": "200.00",
                                    "Descuento": "10.00",
                                    "Precio_Final": "200.00"
                                },
                                {
                                    "ID": "5",
                                    "Producto": "Mouse",
                                    "Cantidad": "10",
                                    "Precio": "20.00",
                                    "Descuento": "2.00",
                                    "Precio_Final": "19.60000000"
                                },
                                {
                                    "ID": "6",
                                    "Producto": "Cámara Web",
                                    "Cantidad": "3",
                                    "Precio": "70.00",
                                    "Descuento": "5.00",
                                    "Precio_Final": "70.00"
                                },
                                {
                                    "ID": "7",
                                    "Producto": "Altavoces",
                                    "Cantidad": "4",
                                    "Precio": "35.00",
                                    "Descuento": "3.50",
                                    "Precio_Final": "33.77500000"
                                },
                                {
                                    "ID": "8",
                                    "Producto": "Impresora",
                                    "Cantidad": "1",
                                    "Precio": "85.00",
                                    "Descuento": "0.00",
                                    "Precio_Final": "85.00"
                                },
                                {
                                    "ID": "9",
                                    "Producto": "Router",
                                    "Cantidad": "2",
                                    "Precio": "60.00",
                                    "Descuento": "0.00",
                                    "Precio_Final": "60.00"
                                },
                                {
                                    "ID": "10",
                                    "Producto": "Tablet",
                                    "Cantidad": "5",
                                    "Precio": "250.00",
                                    "Descuento": "12.50",
                                    "Precio_Final": "218.75000000"
                                }
                            ]
                        },
                        "text/html": "<table><tr><th>ID</th><th>Producto</th><th>Cantidad</th><th>Precio</th><th>Descuento</th><th>Precio_Final</th></tr><tr><td>1</td><td>Laptop</td><td>1</td><td>1200.00</td><td>0.00</td><td>1200.00</td></tr><tr><td>2</td><td>Smartphone</td><td>2</td><td>300.00</td><td>15.00</td><td>300.00</td></tr><tr><td>3</td><td>Teclado</td><td>5</td><td>50.00</td><td>5.00</td><td>47.50000000</td></tr><tr><td>4</td><td>Monitor</td><td>2</td><td>200.00</td><td>10.00</td><td>200.00</td></tr><tr><td>5</td><td>Mouse</td><td>10</td><td>20.00</td><td>2.00</td><td>19.60000000</td></tr><tr><td>6</td><td>Cámara Web</td><td>3</td><td>70.00</td><td>5.00</td><td>70.00</td></tr><tr><td>7</td><td>Altavoces</td><td>4</td><td>35.00</td><td>3.50</td><td>33.77500000</td></tr><tr><td>8</td><td>Impresora</td><td>1</td><td>85.00</td><td>0.00</td><td>85.00</td></tr><tr><td>9</td><td>Router</td><td>2</td><td>60.00</td><td>0.00</td><td>60.00</td></tr><tr><td>10</td><td>Tablet</td><td>5</td><td>250.00</td><td>12.50</td><td>218.75000000</td></tr></table>"
                    },
                    "metadata": {}
                }
            ],
            "execution_count": 51
        },
        {
            "cell_type": "markdown",
            "source": [
                "**5.** <span style=\"color: var(--cib-color-syntax-gray); font-family: Menlo, Monaco, Consolas, &quot;Droid Sans Mono&quot;, &quot;Courier New&quot;, monospace, &quot;Droid Sans Fallback&quot;; font-size: var(--cib-type-body1-font-size); white-space-collapse: preserve;\"><b>Clasificar productos como 'Caro' o 'Barato' basado en el precio. Establezca usted mismo el criterio de 'Caro' y 'Barato'</b></span>"
            ],
            "metadata": {
                "language": "sql",
                "azdata_cell_guid": "e7ad562d-09a6-4417-9b17-a2bd5a6f06cc"
            },
            "attachments": {}
        },
        {
            "cell_type": "code",
            "source": [
                "SELECT Producto,\r\n",
                "       Precio, \r\n",
                "       CASE \r\n",
                "            WHEN Precio > (SELECT AVG(Precio) \r\n",
                "            FROM ventas)\r\n",
                "        THEN 'Caro'\r\n",
                "        ELSE 'Barato'\r\n",
                "        END AS Clasificacion\r\n",
                "FROM ventas;"
            ],
            "metadata": {
                "language": "sql",
                "azdata_cell_guid": "5f0bd861-67c4-4688-8451-1cf5ce09b673"
            },
            "outputs": [
                {
                    "output_type": "display_data",
                    "data": {
                        "text/html": "(10 row(s) affected)"
                    },
                    "metadata": {}
                },
                {
                    "output_type": "display_data",
                    "data": {
                        "text/html": "Total execution time: 00:00:01.017"
                    },
                    "metadata": {}
                },
                {
                    "output_type": "execute_result",
                    "execution_count": 53,
                    "data": {
                        "application/vnd.dataresource+json": {
                            "schema": {
                                "fields": [
                                    {
                                        "name": "Producto"
                                    },
                                    {
                                        "name": "Precio"
                                    },
                                    {
                                        "name": "Clasificacion"
                                    }
                                ]
                            },
                            "data": [
                                {
                                    "Producto": "Laptop",
                                    "Precio": "1200.00",
                                    "Clasificacion": "Caro"
                                },
                                {
                                    "Producto": "Smartphone",
                                    "Precio": "300.00",
                                    "Clasificacion": "Caro"
                                },
                                {
                                    "Producto": "Teclado",
                                    "Precio": "50.00",
                                    "Clasificacion": "Barato"
                                },
                                {
                                    "Producto": "Monitor",
                                    "Precio": "200.00",
                                    "Clasificacion": "Barato"
                                },
                                {
                                    "Producto": "Mouse",
                                    "Precio": "20.00",
                                    "Clasificacion": "Barato"
                                },
                                {
                                    "Producto": "Cámara Web",
                                    "Precio": "70.00",
                                    "Clasificacion": "Barato"
                                },
                                {
                                    "Producto": "Altavoces",
                                    "Precio": "35.00",
                                    "Clasificacion": "Barato"
                                },
                                {
                                    "Producto": "Impresora",
                                    "Precio": "85.00",
                                    "Clasificacion": "Barato"
                                },
                                {
                                    "Producto": "Router",
                                    "Precio": "60.00",
                                    "Clasificacion": "Barato"
                                },
                                {
                                    "Producto": "Tablet",
                                    "Precio": "250.00",
                                    "Clasificacion": "Caro"
                                }
                            ]
                        },
                        "text/html": "<table><tr><th>Producto</th><th>Precio</th><th>Clasificacion</th></tr><tr><td>Laptop</td><td>1200.00</td><td>Caro</td></tr><tr><td>Smartphone</td><td>300.00</td><td>Caro</td></tr><tr><td>Teclado</td><td>50.00</td><td>Barato</td></tr><tr><td>Monitor</td><td>200.00</td><td>Barato</td></tr><tr><td>Mouse</td><td>20.00</td><td>Barato</td></tr><tr><td>Cámara Web</td><td>70.00</td><td>Barato</td></tr><tr><td>Altavoces</td><td>35.00</td><td>Barato</td></tr><tr><td>Impresora</td><td>85.00</td><td>Barato</td></tr><tr><td>Router</td><td>60.00</td><td>Barato</td></tr><tr><td>Tablet</td><td>250.00</td><td>Caro</td></tr></table>"
                    },
                    "metadata": {}
                }
            ],
            "execution_count": 53
        },
        {
            "cell_type": "markdown",
            "source": [
                "**6.** <span style=\"color: var(--cib-color-syntax-gray); font-family: Menlo, Monaco, Consolas, &quot;Droid Sans Mono&quot;, &quot;Courier New&quot;, monospace, &quot;Droid Sans Fallback&quot;; font-size: var(--cib-type-body1-font-size); white-space-collapse: preserve;\"><b>Calcular el total de ventas con y sin descuento</b></span>"
            ],
            "metadata": {
                "language": "sql",
                "azdata_cell_guid": "8f064a70-41a5-449e-8a46-052a2627d897"
            },
            "attachments": {}
        },
        {
            "cell_type": "code",
            "source": [
                "SELECT \r\n",
                "    SUM(IF(Descuento > 0, Cantidad * (Precio - (Precio * Descuento / 100)), Cantidad * Precio)) AS Total_con_descuento,\r\n",
                "    SUM(IF(Descuento = 0, Cantidad * Precio, 0)) AS Total_sin_descuento\r\n",
                "FROM ventas;\r\n",
                ""
            ],
            "metadata": {
                "language": "sql",
                "azdata_cell_guid": "e8bd708c-dfad-460e-845a-0d41bba21746"
            },
            "outputs": [
                {
                    "output_type": "display_data",
                    "data": {
                        "text/html": "(1 row(s) affected)"
                    },
                    "metadata": {}
                },
                {
                    "output_type": "display_data",
                    "data": {
                        "text/html": "Total execution time: 00:00:01.012"
                    },
                    "metadata": {}
                },
                {
                    "output_type": "execute_result",
                    "execution_count": 57,
                    "data": {
                        "application/vnd.dataresource+json": {
                            "schema": {
                                "fields": [
                                    {
                                        "name": "Total_con_descuento"
                                    },
                                    {
                                        "name": "Total_sin_descuento"
                                    }
                                ]
                            },
                            "data": [
                                {
                                    "Total_con_descuento": "4136.85000000",
                                    "Total_sin_descuento": "1405.00"
                                }
                            ]
                        },
                        "text/html": "<table><tr><th>Total_con_descuento</th><th>Total_sin_descuento</th></tr><tr><td>4136.85000000</td><td>1405.00</td></tr></table>"
                    },
                    "metadata": {}
                }
            ],
            "execution_count": 57
        },
        {
            "cell_type": "markdown",
            "source": [
                "**7.** <span style=\"color: var(--cib-color-syntax-gray); font-family: Menlo, Monaco, Consolas, &quot;Droid Sans Mono&quot;, &quot;Courier New&quot;, monospace, &quot;Droid Sans Fallback&quot;; font-size: var(--cib-type-body1-font-size); white-space-collapse: preserve;\"><b>Aplicar un descuento adicional del 10% a los productos que ya tienen descuento</b></span>"
            ],
            "metadata": {
                "language": "sql",
                "azdata_cell_guid": "7164efcb-8e88-4310-9408-e9bee7fdaf79"
            },
            "attachments": {}
        },
        {
            "cell_type": "code",
            "source": [
                "SELECT \r\n",
                "Producto,\r\n",
                "Precio,\r\n",
                "Descuento, \r\n",
                "IF (Descuento >0,\r\n",
                "    ROUND (Precio * (1-(Descuento / 100)) * 0.9, 2),\r\n",
                "    Precio) AS Precio_con_descuento_adicional\r\n",
                "FROM ventas;"
            ],
            "metadata": {
                "language": "sql",
                "azdata_cell_guid": "4373f678-0f79-4490-917d-76a7ffc410d8"
            },
            "outputs": [
                {
                    "output_type": "display_data",
                    "data": {
                        "text/html": "(10 row(s) affected)"
                    },
                    "metadata": {}
                },
                {
                    "output_type": "display_data",
                    "data": {
                        "text/html": "Total execution time: 00:00:01.035"
                    },
                    "metadata": {}
                },
                {
                    "output_type": "execute_result",
                    "execution_count": 60,
                    "data": {
                        "application/vnd.dataresource+json": {
                            "schema": {
                                "fields": [
                                    {
                                        "name": "Producto"
                                    },
                                    {
                                        "name": "Precio"
                                    },
                                    {
                                        "name": "Descuento"
                                    },
                                    {
                                        "name": "Precio_con_descuento_adicional"
                                    }
                                ]
                            },
                            "data": [
                                {
                                    "Producto": "Laptop",
                                    "Precio": "1200.00",
                                    "Descuento": "0.00",
                                    "Precio_con_descuento_adicional": "1200.00"
                                },
                                {
                                    "Producto": "Smartphone",
                                    "Precio": "300.00",
                                    "Descuento": "15.00",
                                    "Precio_con_descuento_adicional": "229.50"
                                },
                                {
                                    "Producto": "Teclado",
                                    "Precio": "50.00",
                                    "Descuento": "5.00",
                                    "Precio_con_descuento_adicional": "42.75"
                                },
                                {
                                    "Producto": "Monitor",
                                    "Precio": "200.00",
                                    "Descuento": "10.00",
                                    "Precio_con_descuento_adicional": "162.00"
                                },
                                {
                                    "Producto": "Mouse",
                                    "Precio": "20.00",
                                    "Descuento": "2.00",
                                    "Precio_con_descuento_adicional": "17.64"
                                },
                                {
                                    "Producto": "Cámara Web",
                                    "Precio": "70.00",
                                    "Descuento": "5.00",
                                    "Precio_con_descuento_adicional": "59.85"
                                },
                                {
                                    "Producto": "Altavoces",
                                    "Precio": "35.00",
                                    "Descuento": "3.50",
                                    "Precio_con_descuento_adicional": "30.40"
                                },
                                {
                                    "Producto": "Impresora",
                                    "Precio": "85.00",
                                    "Descuento": "0.00",
                                    "Precio_con_descuento_adicional": "85.00"
                                },
                                {
                                    "Producto": "Router",
                                    "Precio": "60.00",
                                    "Descuento": "0.00",
                                    "Precio_con_descuento_adicional": "60.00"
                                },
                                {
                                    "Producto": "Tablet",
                                    "Precio": "250.00",
                                    "Descuento": "12.50",
                                    "Precio_con_descuento_adicional": "196.88"
                                }
                            ]
                        },
                        "text/html": "<table><tr><th>Producto</th><th>Precio</th><th>Descuento</th><th>Precio_con_descuento_adicional</th></tr><tr><td>Laptop</td><td>1200.00</td><td>0.00</td><td>1200.00</td></tr><tr><td>Smartphone</td><td>300.00</td><td>15.00</td><td>229.50</td></tr><tr><td>Teclado</td><td>50.00</td><td>5.00</td><td>42.75</td></tr><tr><td>Monitor</td><td>200.00</td><td>10.00</td><td>162.00</td></tr><tr><td>Mouse</td><td>20.00</td><td>2.00</td><td>17.64</td></tr><tr><td>Cámara Web</td><td>70.00</td><td>5.00</td><td>59.85</td></tr><tr><td>Altavoces</td><td>35.00</td><td>3.50</td><td>30.40</td></tr><tr><td>Impresora</td><td>85.00</td><td>0.00</td><td>85.00</td></tr><tr><td>Router</td><td>60.00</td><td>0.00</td><td>60.00</td></tr><tr><td>Tablet</td><td>250.00</td><td>12.50</td><td>196.88</td></tr></table>"
                    },
                    "metadata": {}
                }
            ],
            "execution_count": 60
        },
        {
            "cell_type": "markdown",
            "source": [
                "**8.** <span style=\"color: var(--cib-color-syntax-gray); font-family: Menlo, Monaco, Consolas, &quot;Droid Sans Mono&quot;, &quot;Courier New&quot;, monospace, &quot;Droid Sans Fallback&quot;; font-size: var(--cib-type-body1-font-size); white-space-collapse: preserve;\"><b>Aumentar el precio de los productos en un 20% si se venden menos de 3 unidades</b></span>"
            ],
            "metadata": {
                "language": "sql",
                "azdata_cell_guid": "5bfac967-7f23-46f1-b9cb-771848bf797f"
            },
            "attachments": {}
        },
        {
            "cell_type": "code",
            "source": [
                "SELECT \r\n",
                "    Producto,\r\n",
                "    Precio,\r\n",
                "    Cantidad,\r\n",
                "    CASE \r\n",
                "        WHEN Cantidad < 3 THEN Precio * 1.20\r\n",
                "        ELSE Precio\r\n",
                "    END AS Precio_final\r\n",
                "FROM ventas;\r\n",
                ""
            ],
            "metadata": {
                "language": "sql",
                "azdata_cell_guid": "df0d953a-dac0-43c5-9258-ef9f4e8a1f02",
                "tags": []
            },
            "outputs": [
                {
                    "output_type": "display_data",
                    "data": {
                        "text/html": "(10 row(s) affected)"
                    },
                    "metadata": {}
                },
                {
                    "output_type": "display_data",
                    "data": {
                        "text/html": "Total execution time: 00:00:01.017"
                    },
                    "metadata": {}
                },
                {
                    "output_type": "execute_result",
                    "execution_count": 3,
                    "data": {
                        "application/vnd.dataresource+json": {
                            "schema": {
                                "fields": [
                                    {
                                        "name": "Producto"
                                    },
                                    {
                                        "name": "Precio"
                                    },
                                    {
                                        "name": "Cantidad"
                                    },
                                    {
                                        "name": "Precio_final"
                                    }
                                ]
                            },
                            "data": [
                                {
                                    "Producto": "Laptop",
                                    "Precio": "1200.00",
                                    "Cantidad": "1",
                                    "Precio_final": "1440.0000"
                                },
                                {
                                    "Producto": "Smartphone",
                                    "Precio": "300.00",
                                    "Cantidad": "2",
                                    "Precio_final": "360.0000"
                                },
                                {
                                    "Producto": "Teclado",
                                    "Precio": "50.00",
                                    "Cantidad": "5",
                                    "Precio_final": "50.00"
                                },
                                {
                                    "Producto": "Monitor",
                                    "Precio": "200.00",
                                    "Cantidad": "2",
                                    "Precio_final": "240.0000"
                                },
                                {
                                    "Producto": "Mouse",
                                    "Precio": "20.00",
                                    "Cantidad": "10",
                                    "Precio_final": "20.00"
                                },
                                {
                                    "Producto": "Cámara Web",
                                    "Precio": "70.00",
                                    "Cantidad": "3",
                                    "Precio_final": "70.00"
                                },
                                {
                                    "Producto": "Altavoces",
                                    "Precio": "35.00",
                                    "Cantidad": "4",
                                    "Precio_final": "35.00"
                                },
                                {
                                    "Producto": "Impresora",
                                    "Precio": "85.00",
                                    "Cantidad": "1",
                                    "Precio_final": "102.0000"
                                },
                                {
                                    "Producto": "Router",
                                    "Precio": "60.00",
                                    "Cantidad": "2",
                                    "Precio_final": "72.0000"
                                },
                                {
                                    "Producto": "Tablet",
                                    "Precio": "250.00",
                                    "Cantidad": "5",
                                    "Precio_final": "250.00"
                                }
                            ]
                        },
                        "text/html": "<table><tr><th>Producto</th><th>Precio</th><th>Cantidad</th><th>Precio_final</th></tr><tr><td>Laptop</td><td>1200.00</td><td>1</td><td>1440.0000</td></tr><tr><td>Smartphone</td><td>300.00</td><td>2</td><td>360.0000</td></tr><tr><td>Teclado</td><td>50.00</td><td>5</td><td>50.00</td></tr><tr><td>Monitor</td><td>200.00</td><td>2</td><td>240.0000</td></tr><tr><td>Mouse</td><td>20.00</td><td>10</td><td>20.00</td></tr><tr><td>Cámara Web</td><td>70.00</td><td>3</td><td>70.00</td></tr><tr><td>Altavoces</td><td>35.00</td><td>4</td><td>35.00</td></tr><tr><td>Impresora</td><td>85.00</td><td>1</td><td>102.0000</td></tr><tr><td>Router</td><td>60.00</td><td>2</td><td>72.0000</td></tr><tr><td>Tablet</td><td>250.00</td><td>5</td><td>250.00</td></tr></table>"
                    },
                    "metadata": {}
                }
            ],
            "execution_count": 3
        },
        {
            "cell_type": "markdown",
            "source": [
                "**9. <span style=\"color: var(--cib-color-syntax-gray); font-family: Menlo, Monaco, Consolas, &quot;Droid Sans Mono&quot;, &quot;Courier New&quot;, monospace, &quot;Droid Sans Fallback&quot;; font-size: var(--cib-type-body1-font-size); white-space-collapse: preserve;\">Asignar un rango de ventas basado en la cantidad vendida. Establezca usted mismo los criterios, por ejemplo: ALTO, MEDIO o BAJO según en valor que consideres.</span>**"
            ],
            "metadata": {
                "language": "sql",
                "azdata_cell_guid": "36319839-fff7-450e-b1dc-717faebe2db0"
            },
            "attachments": {}
        },
        {
            "cell_type": "code",
            "source": [
                "SELECT \r\n",
                "    Producto,\r\n",
                "    Cantidad,\r\n",
                "    CASE \r\n",
                "        WHEN Cantidad > 5 THEN 'ALTO'\r\n",
                "        WHEN Cantidad >= 3 AND Cantidad <= 5 THEN 'MEDIO'\r\n",
                "        ELSE 'BAJO'\r\n",
                "    END AS Rango_de_ventas\r\n",
                "FROM ventas;\r\n",
                "\r\n",
                ""
            ],
            "metadata": {
                "language": "sql",
                "azdata_cell_guid": "b39682cb-6ae2-4a51-a354-73431fb87ee1",
                "tags": []
            },
            "outputs": [
                {
                    "output_type": "display_data",
                    "data": {
                        "text/html": "(10 row(s) affected)"
                    },
                    "metadata": {}
                },
                {
                    "output_type": "display_data",
                    "data": {
                        "text/html": "Total execution time: 00:00:01.018"
                    },
                    "metadata": {}
                },
                {
                    "output_type": "execute_result",
                    "execution_count": 8,
                    "data": {
                        "application/vnd.dataresource+json": {
                            "schema": {
                                "fields": [
                                    {
                                        "name": "Producto"
                                    },
                                    {
                                        "name": "Cantidad"
                                    },
                                    {
                                        "name": "Rango_de_ventas"
                                    }
                                ]
                            },
                            "data": [
                                {
                                    "Producto": "Laptop",
                                    "Cantidad": "1",
                                    "Rango_de_ventas": "BAJO"
                                },
                                {
                                    "Producto": "Smartphone",
                                    "Cantidad": "2",
                                    "Rango_de_ventas": "BAJO"
                                },
                                {
                                    "Producto": "Teclado",
                                    "Cantidad": "5",
                                    "Rango_de_ventas": "MEDIO"
                                },
                                {
                                    "Producto": "Monitor",
                                    "Cantidad": "2",
                                    "Rango_de_ventas": "BAJO"
                                },
                                {
                                    "Producto": "Mouse",
                                    "Cantidad": "10",
                                    "Rango_de_ventas": "ALTO"
                                },
                                {
                                    "Producto": "Cámara Web",
                                    "Cantidad": "3",
                                    "Rango_de_ventas": "MEDIO"
                                },
                                {
                                    "Producto": "Altavoces",
                                    "Cantidad": "4",
                                    "Rango_de_ventas": "MEDIO"
                                },
                                {
                                    "Producto": "Impresora",
                                    "Cantidad": "1",
                                    "Rango_de_ventas": "BAJO"
                                },
                                {
                                    "Producto": "Router",
                                    "Cantidad": "2",
                                    "Rango_de_ventas": "BAJO"
                                },
                                {
                                    "Producto": "Tablet",
                                    "Cantidad": "5",
                                    "Rango_de_ventas": "MEDIO"
                                }
                            ]
                        },
                        "text/html": "<table><tr><th>Producto</th><th>Cantidad</th><th>Rango_de_ventas</th></tr><tr><td>Laptop</td><td>1</td><td>BAJO</td></tr><tr><td>Smartphone</td><td>2</td><td>BAJO</td></tr><tr><td>Teclado</td><td>5</td><td>MEDIO</td></tr><tr><td>Monitor</td><td>2</td><td>BAJO</td></tr><tr><td>Mouse</td><td>10</td><td>ALTO</td></tr><tr><td>Cámara Web</td><td>3</td><td>MEDIO</td></tr><tr><td>Altavoces</td><td>4</td><td>MEDIO</td></tr><tr><td>Impresora</td><td>1</td><td>BAJO</td></tr><tr><td>Router</td><td>2</td><td>BAJO</td></tr><tr><td>Tablet</td><td>5</td><td>MEDIO</td></tr></table>"
                    },
                    "metadata": {}
                }
            ],
            "execution_count": 8
        },
        {
            "cell_type": "markdown",
            "source": [
                "**10.** <span style=\"color: var(--cib-color-syntax-gray); font-family: Menlo, Monaco, Consolas, &quot;Droid Sans Mono&quot;, &quot;Courier New&quot;, monospace, &quot;Droid Sans Fallback&quot;; font-size: var(--cib-type-body1-font-size); white-space-collapse: preserve;\"><b>Determinar la categoría del producto basado en el precio</b></span>"
            ],
            "metadata": {
                "language": "sql",
                "azdata_cell_guid": "521ef5f6-5b1d-423f-b6ca-ab1db1c5a6ca"
            },
            "attachments": {}
        },
        {
            "cell_type": "code",
            "source": [
                "SELECT  MIN(Precio) as precio_minimo, max(Precio) as precio_maximo\r\n",
                "FROM ventas;"
            ],
            "metadata": {
                "language": "sql",
                "azdata_cell_guid": "e6183f4d-d35d-437f-8027-0fad1e857e38"
            },
            "outputs": [
                {
                    "output_type": "display_data",
                    "data": {
                        "text/html": "(1 row(s) affected)"
                    },
                    "metadata": {}
                },
                {
                    "output_type": "display_data",
                    "data": {
                        "text/html": "Total execution time: 00:00:01.011"
                    },
                    "metadata": {}
                },
                {
                    "output_type": "execute_result",
                    "execution_count": 10,
                    "data": {
                        "application/vnd.dataresource+json": {
                            "schema": {
                                "fields": [
                                    {
                                        "name": "precio_minimo"
                                    },
                                    {
                                        "name": "precio_maximo"
                                    }
                                ]
                            },
                            "data": [
                                {
                                    "precio_minimo": "20.00",
                                    "precio_maximo": "1200.00"
                                }
                            ]
                        },
                        "text/html": "<table><tr><th>precio_minimo</th><th>precio_maximo</th></tr><tr><td>20.00</td><td>1200.00</td></tr></table>"
                    },
                    "metadata": {}
                }
            ],
            "execution_count": 10
        },
        {
            "cell_type": "code",
            "source": [
                "SELECT \r\n",
                "    Producto,\r\n",
                "    Precio,\r\n",
                "    CASE \r\n",
                "        WHEN Precio < 100 THEN 'Categoría Baja'\r\n",
                "        WHEN Precio >= 100 AND Precio <= 500 THEN 'Categoría Media'\r\n",
                "        WHEN Precio > 500 THEN 'Categoría Alta'\r\n",
                "        ELSE 'Precio Inválido'\r\n",
                "    END AS Categoria\r\n",
                "FROM ventas;\r\n",
                ""
            ],
            "metadata": {
                "azdata_cell_guid": "b52b73ca-fe1d-4ced-b54f-cb1dacec6455",
                "language": "sql"
            },
            "outputs": [
                {
                    "output_type": "display_data",
                    "data": {
                        "text/html": "(10 row(s) affected)"
                    },
                    "metadata": {}
                },
                {
                    "output_type": "display_data",
                    "data": {
                        "text/html": "Total execution time: 00:00:01.007"
                    },
                    "metadata": {}
                },
                {
                    "output_type": "execute_result",
                    "execution_count": 11,
                    "data": {
                        "application/vnd.dataresource+json": {
                            "schema": {
                                "fields": [
                                    {
                                        "name": "Producto"
                                    },
                                    {
                                        "name": "Precio"
                                    },
                                    {
                                        "name": "Categoria"
                                    }
                                ]
                            },
                            "data": [
                                {
                                    "Producto": "Laptop",
                                    "Precio": "1200.00",
                                    "Categoria": "Categoría Alta"
                                },
                                {
                                    "Producto": "Smartphone",
                                    "Precio": "300.00",
                                    "Categoria": "Categoría Media"
                                },
                                {
                                    "Producto": "Teclado",
                                    "Precio": "50.00",
                                    "Categoria": "Categoría Baja"
                                },
                                {
                                    "Producto": "Monitor",
                                    "Precio": "200.00",
                                    "Categoria": "Categoría Media"
                                },
                                {
                                    "Producto": "Mouse",
                                    "Precio": "20.00",
                                    "Categoria": "Categoría Baja"
                                },
                                {
                                    "Producto": "Cámara Web",
                                    "Precio": "70.00",
                                    "Categoria": "Categoría Baja"
                                },
                                {
                                    "Producto": "Altavoces",
                                    "Precio": "35.00",
                                    "Categoria": "Categoría Baja"
                                },
                                {
                                    "Producto": "Impresora",
                                    "Precio": "85.00",
                                    "Categoria": "Categoría Baja"
                                },
                                {
                                    "Producto": "Router",
                                    "Precio": "60.00",
                                    "Categoria": "Categoría Baja"
                                },
                                {
                                    "Producto": "Tablet",
                                    "Precio": "250.00",
                                    "Categoria": "Categoría Media"
                                }
                            ]
                        },
                        "text/html": "<table><tr><th>Producto</th><th>Precio</th><th>Categoria</th></tr><tr><td>Laptop</td><td>1200.00</td><td>Categoría Alta</td></tr><tr><td>Smartphone</td><td>300.00</td><td>Categoría Media</td></tr><tr><td>Teclado</td><td>50.00</td><td>Categoría Baja</td></tr><tr><td>Monitor</td><td>200.00</td><td>Categoría Media</td></tr><tr><td>Mouse</td><td>20.00</td><td>Categoría Baja</td></tr><tr><td>Cámara Web</td><td>70.00</td><td>Categoría Baja</td></tr><tr><td>Altavoces</td><td>35.00</td><td>Categoría Baja</td></tr><tr><td>Impresora</td><td>85.00</td><td>Categoría Baja</td></tr><tr><td>Router</td><td>60.00</td><td>Categoría Baja</td></tr><tr><td>Tablet</td><td>250.00</td><td>Categoría Media</td></tr></table>"
                    },
                    "metadata": {}
                }
            ],
            "execution_count": 11
        },
        {
            "cell_type": "markdown",
            "source": [
                "**11.**  <span style=\"color: var(--cib-color-syntax-gray); font-family: Menlo, Monaco, Consolas, &quot;Droid Sans Mono&quot;, &quot;Courier New&quot;, monospace, &quot;Droid Sans Fallback&quot;; font-size: var(--cib-type-body1-font-size); white-space-collapse: preserve;\"><b>Aplicar un impuesto adicional para productos caros</b></span>"
            ],
            "metadata": {
                "language": "sql",
                "azdata_cell_guid": "d40e15dc-862c-4116-8e01-19b00438c775"
            },
            "attachments": {}
        },
        {
            "cell_type": "code",
            "source": [
                "SELECT \r\n",
                "    Producto,\r\n",
                "    Precio,\r\n",
                "    CASE \r\n",
                "        WHEN Precio >= 500 THEN Precio * 1.30  -- Aplicar un impuesto adicional del 30% para productos caros\r\n",
                "        ELSE Precio\r\n",
                "    END AS Precio_con_impuesto\r\n",
                "FROM ventas;\r\n",
                ""
            ],
            "metadata": {
                "language": "sql",
                "azdata_cell_guid": "b88e4243-79dc-4c96-9ff7-5a0c5c3e80e4"
            },
            "outputs": [
                {
                    "output_type": "display_data",
                    "data": {
                        "text/html": "(10 row(s) affected)"
                    },
                    "metadata": {}
                },
                {
                    "output_type": "display_data",
                    "data": {
                        "text/html": "Total execution time: 00:00:01.017"
                    },
                    "metadata": {}
                },
                {
                    "output_type": "execute_result",
                    "execution_count": 13,
                    "data": {
                        "application/vnd.dataresource+json": {
                            "schema": {
                                "fields": [
                                    {
                                        "name": "Producto"
                                    },
                                    {
                                        "name": "Precio"
                                    },
                                    {
                                        "name": "Precio_con_impuesto"
                                    }
                                ]
                            },
                            "data": [
                                {
                                    "Producto": "Laptop",
                                    "Precio": "1200.00",
                                    "Precio_con_impuesto": "1560.0000"
                                },
                                {
                                    "Producto": "Smartphone",
                                    "Precio": "300.00",
                                    "Precio_con_impuesto": "300.00"
                                },
                                {
                                    "Producto": "Teclado",
                                    "Precio": "50.00",
                                    "Precio_con_impuesto": "50.00"
                                },
                                {
                                    "Producto": "Monitor",
                                    "Precio": "200.00",
                                    "Precio_con_impuesto": "200.00"
                                },
                                {
                                    "Producto": "Mouse",
                                    "Precio": "20.00",
                                    "Precio_con_impuesto": "20.00"
                                },
                                {
                                    "Producto": "Cámara Web",
                                    "Precio": "70.00",
                                    "Precio_con_impuesto": "70.00"
                                },
                                {
                                    "Producto": "Altavoces",
                                    "Precio": "35.00",
                                    "Precio_con_impuesto": "35.00"
                                },
                                {
                                    "Producto": "Impresora",
                                    "Precio": "85.00",
                                    "Precio_con_impuesto": "85.00"
                                },
                                {
                                    "Producto": "Router",
                                    "Precio": "60.00",
                                    "Precio_con_impuesto": "60.00"
                                },
                                {
                                    "Producto": "Tablet",
                                    "Precio": "250.00",
                                    "Precio_con_impuesto": "250.00"
                                }
                            ]
                        },
                        "text/html": "<table><tr><th>Producto</th><th>Precio</th><th>Precio_con_impuesto</th></tr><tr><td>Laptop</td><td>1200.00</td><td>1560.0000</td></tr><tr><td>Smartphone</td><td>300.00</td><td>300.00</td></tr><tr><td>Teclado</td><td>50.00</td><td>50.00</td></tr><tr><td>Monitor</td><td>200.00</td><td>200.00</td></tr><tr><td>Mouse</td><td>20.00</td><td>20.00</td></tr><tr><td>Cámara Web</td><td>70.00</td><td>70.00</td></tr><tr><td>Altavoces</td><td>35.00</td><td>35.00</td></tr><tr><td>Impresora</td><td>85.00</td><td>85.00</td></tr><tr><td>Router</td><td>60.00</td><td>60.00</td></tr><tr><td>Tablet</td><td>250.00</td><td>250.00</td></tr></table>"
                    },
                    "metadata": {}
                }
            ],
            "execution_count": 13
        },
        {
            "cell_type": "markdown",
            "source": [
                "**12.** <span style=\"color: var(--cib-color-syntax-gray); font-family: Menlo, Monaco, Consolas, &quot;Droid Sans Mono&quot;, &quot;Courier New&quot;, monospace, &quot;Droid Sans Fallback&quot;; font-size: var(--cib-type-body1-font-size); white-space-collapse: preserve;\"><b>Asignar un nivel de stock basado en la cantidad. Establece tu mismo los criterios, por ejemplo: Sobrestock, stock adecuado, bajo stock.</b></span>"
            ],
            "metadata": {
                "language": "sql",
                "azdata_cell_guid": "fc74d4b7-9e5d-44bf-bb47-81eecf095707"
            },
            "attachments": {}
        },
        {
            "cell_type": "code",
            "source": [
                "select min(cantidad) as min_cantidad, avg(cantidad) as promedio_cantidad, max(cantidad) as max_cantidad\r\n",
                "FROM ventas;"
            ],
            "metadata": {
                "language": "sql",
                "azdata_cell_guid": "d15ff687-2124-4e8d-969a-fa9455a68cd7"
            },
            "outputs": [
                {
                    "output_type": "display_data",
                    "data": {
                        "text/html": "(1 row(s) affected)"
                    },
                    "metadata": {}
                },
                {
                    "output_type": "display_data",
                    "data": {
                        "text/html": "Total execution time: 00:00:01.016"
                    },
                    "metadata": {}
                },
                {
                    "output_type": "execute_result",
                    "execution_count": 14,
                    "data": {
                        "application/vnd.dataresource+json": {
                            "schema": {
                                "fields": [
                                    {
                                        "name": "min_cantidad"
                                    },
                                    {
                                        "name": "promedio_cantidad"
                                    },
                                    {
                                        "name": "max_cantidad"
                                    }
                                ]
                            },
                            "data": [
                                {
                                    "min_cantidad": "1",
                                    "promedio_cantidad": "3.5000",
                                    "max_cantidad": "10"
                                }
                            ]
                        },
                        "text/html": "<table><tr><th>min_cantidad</th><th>promedio_cantidad</th><th>max_cantidad</th></tr><tr><td>1</td><td>3.5000</td><td>10</td></tr></table>"
                    },
                    "metadata": {}
                }
            ],
            "execution_count": 14
        },
        {
            "cell_type": "code",
            "source": [
                "SELECT \r\n",
                "    Producto,\r\n",
                "    Cantidad,\r\n",
                "    CASE \r\n",
                "        WHEN Cantidad > 5 THEN 'Sobrestock'\r\n",
                "        WHEN Cantidad >= 3 AND Cantidad <= 5 THEN 'Stock adecuado'\r\n",
                "        ELSE 'Bajo stock'\r\n",
                "    END AS Nivel_de_stock\r\n",
                "FROM ventas;\r\n",
                ""
            ],
            "metadata": {
                "azdata_cell_guid": "9efb5900-5ad3-475d-bfe0-5b775492b414",
                "language": "sql"
            },
            "outputs": [
                {
                    "output_type": "display_data",
                    "data": {
                        "text/html": "(10 row(s) affected)"
                    },
                    "metadata": {}
                },
                {
                    "output_type": "display_data",
                    "data": {
                        "text/html": "Total execution time: 00:00:01.007"
                    },
                    "metadata": {}
                },
                {
                    "output_type": "execute_result",
                    "execution_count": 15,
                    "data": {
                        "application/vnd.dataresource+json": {
                            "schema": {
                                "fields": [
                                    {
                                        "name": "Producto"
                                    },
                                    {
                                        "name": "Cantidad"
                                    },
                                    {
                                        "name": "Nivel_de_stock"
                                    }
                                ]
                            },
                            "data": [
                                {
                                    "Producto": "Laptop",
                                    "Cantidad": "1",
                                    "Nivel_de_stock": "Bajo stock"
                                },
                                {
                                    "Producto": "Smartphone",
                                    "Cantidad": "2",
                                    "Nivel_de_stock": "Bajo stock"
                                },
                                {
                                    "Producto": "Teclado",
                                    "Cantidad": "5",
                                    "Nivel_de_stock": "Stock adecuado"
                                },
                                {
                                    "Producto": "Monitor",
                                    "Cantidad": "2",
                                    "Nivel_de_stock": "Bajo stock"
                                },
                                {
                                    "Producto": "Mouse",
                                    "Cantidad": "10",
                                    "Nivel_de_stock": "Sobrestock"
                                },
                                {
                                    "Producto": "Cámara Web",
                                    "Cantidad": "3",
                                    "Nivel_de_stock": "Stock adecuado"
                                },
                                {
                                    "Producto": "Altavoces",
                                    "Cantidad": "4",
                                    "Nivel_de_stock": "Stock adecuado"
                                },
                                {
                                    "Producto": "Impresora",
                                    "Cantidad": "1",
                                    "Nivel_de_stock": "Bajo stock"
                                },
                                {
                                    "Producto": "Router",
                                    "Cantidad": "2",
                                    "Nivel_de_stock": "Bajo stock"
                                },
                                {
                                    "Producto": "Tablet",
                                    "Cantidad": "5",
                                    "Nivel_de_stock": "Stock adecuado"
                                }
                            ]
                        },
                        "text/html": "<table><tr><th>Producto</th><th>Cantidad</th><th>Nivel_de_stock</th></tr><tr><td>Laptop</td><td>1</td><td>Bajo stock</td></tr><tr><td>Smartphone</td><td>2</td><td>Bajo stock</td></tr><tr><td>Teclado</td><td>5</td><td>Stock adecuado</td></tr><tr><td>Monitor</td><td>2</td><td>Bajo stock</td></tr><tr><td>Mouse</td><td>10</td><td>Sobrestock</td></tr><tr><td>Cámara Web</td><td>3</td><td>Stock adecuado</td></tr><tr><td>Altavoces</td><td>4</td><td>Stock adecuado</td></tr><tr><td>Impresora</td><td>1</td><td>Bajo stock</td></tr><tr><td>Router</td><td>2</td><td>Bajo stock</td></tr><tr><td>Tablet</td><td>5</td><td>Stock adecuado</td></tr></table>"
                    },
                    "metadata": {}
                }
            ],
            "execution_count": 15
        }
    ]
}