{
    "metadata": {
        "kernelspec": {
            "name": "SQL",
            "display_name": "SQL",
            "language": "sql"
        },
        "language_info": {
            "name": "sql",
            "version": ""
        }
    },
    "nbformat_minor": 2,
    "nbformat": 4,
    "cells": [
        {
            "cell_type": "markdown",
            "source": [
                "# Time Series"
            ],
            "metadata": {
                "azdata_cell_guid": "48ca358a-6cdc-4524-b5c2-0bf31c52bf1d"
            },
            "attachments": {}
        },
        {
            "cell_type": "code",
            "source": [
                ""
            ],
            "metadata": {
                "azdata_cell_guid": "c69f6f61-9440-45f1-96d0-ef1185aaf998",
                "language": "sql"
            },
            "outputs": [],
            "execution_count": null
        }
    ]
}