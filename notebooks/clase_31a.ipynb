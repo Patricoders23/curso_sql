{
    "metadata": {
        "kernelspec": {
            "name": "SQL",
            "display_name": "SQL",
            "language": "sql"
        },
        "language_info": {
            "name": "sql",
            "version": ""
        }
    },
    "nbformat_minor": 2,
    "nbformat": 4,
    "cells": [
        {
            "cell_type": "markdown",
            "source": [
                "Uso 'AND'  -----\\> datos que cumplan con dos o mas condiciones"
            ],
            "metadata": {
                "azdata_cell_guid": "354a5259-8d6d-48c2-a61f-76f7045d0ee4"
            },
            "attachments": {}
        },
        {
            "cell_type": "code",
            "source": [
                "USE datos;\r\n",
                "\r\n",
                "SELECT * FROM ventas\r\n",
                "WHERE ID_local=2 AND clave_producto = 'pzz';"
            ],
            "metadata": {
                "azdata_cell_guid": "0e2d3b6b-ee0f-4ef5-81f7-b2b54200e133",
                "language": "sql"
            },
            "outputs": [
                {
                    "output_type": "display_data",
                    "data": {
                        "text/html": "Commands completed successfully"
                    },
                    "metadata": {}
                },
                {
                    "output_type": "display_data",
                    "data": {
                        "text/html": "(1 row(s) affected)"
                    },
                    "metadata": {}
                },
                {
                    "output_type": "display_data",
                    "data": {
                        "text/html": "Total execution time: 00:00:01.011"
                    },
                    "metadata": {}
                },
                {
                    "output_type": "execute_result",
                    "metadata": {},
                    "execution_count": 4,
                    "data": {
                        "application/vnd.dataresource+json": {
                            "schema": {
                                "fields": [
                                    {
                                        "name": "ventas_id"
                                    },
                                    {
                                        "name": "Fecha"
                                    },
                                    {
                                        "name": "ID_local"
                                    },
                                    {
                                        "name": "clave_producto"
                                    },
                                    {
                                        "name": "venta"
                                    },
                                    {
                                        "name": "venta_empleado"
                                    }
                                ]
                            },
                            "data": [
                                {
                                    "ventas_id": "1",
                                    "Fecha": "2018-11-18 00:00:00",
                                    "ID_local": "2",
                                    "clave_producto": "pzz",
                                    "venta": "1302",
                                    "venta_empleado": "2630867"
                                }
                            ]
                        },
                        "text/html": [
                            "<table>",
                            "<tr><th>ventas_id</th><th>Fecha</th><th>ID_local</th><th>clave_producto</th><th>venta</th><th>venta_empleado</th></tr>",
                            "<tr><td>1</td><td>2018-11-18 00:00:00</td><td>2</td><td>pzz</td><td>1302</td><td>2630867</td></tr>",
                            "</table>"
                        ]
                    }
                }
            ],
            "execution_count": 4
        },
        {
            "cell_type": "markdown",
            "source": [
                "Uso 'OR'  -----\\> datos que cumplan con cualquiera de las condiciones"
            ],
            "metadata": {
                "azdata_cell_guid": "d9c2323e-7123-49bf-9644-1bc8e4bf76dc"
            },
            "attachments": {}
        },
        {
            "cell_type": "code",
            "source": [
                "SELECT * FROM ventas\r\n",
                "WHERE ID_local=2 OR ID_local=4;"
            ],
            "metadata": {
                "azdata_cell_guid": "6b9554a6-be83-4672-8cca-30071be53653",
                "language": "sql"
            },
            "outputs": [
                {
                    "output_type": "display_data",
                    "data": {
                        "text/html": "(6 row(s) affected)"
                    },
                    "metadata": {}
                },
                {
                    "output_type": "display_data",
                    "data": {
                        "text/html": "Total execution time: 00:00:01.011"
                    },
                    "metadata": {}
                },
                {
                    "output_type": "execute_result",
                    "metadata": {},
                    "execution_count": 5,
                    "data": {
                        "application/vnd.dataresource+json": {
                            "schema": {
                                "fields": [
                                    {
                                        "name": "ventas_id"
                                    },
                                    {
                                        "name": "Fecha"
                                    },
                                    {
                                        "name": "ID_local"
                                    },
                                    {
                                        "name": "clave_producto"
                                    },
                                    {
                                        "name": "venta"
                                    },
                                    {
                                        "name": "venta_empleado"
                                    }
                                ]
                            },
                            "data": [
                                {
                                    "ventas_id": "1",
                                    "Fecha": "2018-11-18 00:00:00",
                                    "ID_local": "2",
                                    "clave_producto": "pzz",
                                    "venta": "1302",
                                    "venta_empleado": "2630867"
                                },
                                {
                                    "ventas_id": "2",
                                    "Fecha": "2018-09-17 00:00:00",
                                    "ID_local": "2",
                                    "clave_producto": "clz",
                                    "venta": "953",
                                    "venta_empleado": "2310967"
                                },
                                {
                                    "ventas_id": "19",
                                    "Fecha": "2019-08-14 00:00:00",
                                    "ID_local": "2",
                                    "clave_producto": "clz",
                                    "venta": "972",
                                    "venta_empleado": "2310967"
                                },
                                {
                                    "ventas_id": "3",
                                    "Fecha": "2018-10-18 00:00:00",
                                    "ID_local": "4",
                                    "clave_producto": "brr",
                                    "venta": "1286",
                                    "venta_empleado": "6931035"
                                },
                                {
                                    "ventas_id": "7",
                                    "Fecha": "2018-07-28 00:00:00",
                                    "ID_local": "4",
                                    "clave_producto": "pzz",
                                    "venta": "1444",
                                    "venta_empleado": "6332756"
                                },
                                {
                                    "ventas_id": "21",
                                    "Fecha": "2019-06-08 00:00:00",
                                    "ID_local": "4",
                                    "clave_producto": "qsd",
                                    "venta": "497",
                                    "venta_empleado": "5728566"
                                }
                            ]
                        },
                        "text/html": [
                            "<table>",
                            "<tr><th>ventas_id</th><th>Fecha</th><th>ID_local</th><th>clave_producto</th><th>venta</th><th>venta_empleado</th></tr>",
                            "<tr><td>1</td><td>2018-11-18 00:00:00</td><td>2</td><td>pzz</td><td>1302</td><td>2630867</td></tr>",
                            "<tr><td>2</td><td>2018-09-17 00:00:00</td><td>2</td><td>clz</td><td>953</td><td>2310967</td></tr>",
                            "<tr><td>19</td><td>2019-08-14 00:00:00</td><td>2</td><td>clz</td><td>972</td><td>2310967</td></tr>",
                            "<tr><td>3</td><td>2018-10-18 00:00:00</td><td>4</td><td>brr</td><td>1286</td><td>6931035</td></tr>",
                            "<tr><td>7</td><td>2018-07-28 00:00:00</td><td>4</td><td>pzz</td><td>1444</td><td>6332756</td></tr>",
                            "<tr><td>21</td><td>2019-06-08 00:00:00</td><td>4</td><td>qsd</td><td>497</td><td>5728566</td></tr>",
                            "</table>"
                        ]
                    }
                }
            ],
            "execution_count": 5
        },
        {
            "cell_type": "markdown",
            "source": [
                "Uso ' ! = '  -----\\> no es igual"
            ],
            "metadata": {
                "azdata_cell_guid": "503458e8-b5ea-4018-84b3-c2f9a52408bf"
            },
            "attachments": {}
        },
        {
            "cell_type": "code",
            "source": [
                "SELECT *\r\n",
                "FROM ventas\r\n",
                "WHERE clave_producto != 'pzz';"
            ],
            "metadata": {
                "azdata_cell_guid": "c76cc20d-d23c-4bdf-9dba-bc4aa18e7dd5",
                "language": "sql"
            },
            "outputs": [
                {
                    "output_type": "display_data",
                    "data": {
                        "text/html": "(14 row(s) affected)"
                    },
                    "metadata": {}
                },
                {
                    "output_type": "display_data",
                    "data": {
                        "text/html": "Total execution time: 00:00:01.004"
                    },
                    "metadata": {}
                },
                {
                    "output_type": "execute_result",
                    "metadata": {},
                    "execution_count": 6,
                    "data": {
                        "application/vnd.dataresource+json": {
                            "schema": {
                                "fields": [
                                    {
                                        "name": "ventas_id"
                                    },
                                    {
                                        "name": "Fecha"
                                    },
                                    {
                                        "name": "ID_local"
                                    },
                                    {
                                        "name": "clave_producto"
                                    },
                                    {
                                        "name": "venta"
                                    },
                                    {
                                        "name": "venta_empleado"
                                    }
                                ]
                            },
                            "data": [
                                {
                                    "ventas_id": "2",
                                    "Fecha": "2018-09-17 00:00:00",
                                    "ID_local": "2",
                                    "clave_producto": "clz",
                                    "venta": "953",
                                    "venta_empleado": "2310967"
                                },
                                {
                                    "ventas_id": "3",
                                    "Fecha": "2018-10-18 00:00:00",
                                    "ID_local": "4",
                                    "clave_producto": "brr",
                                    "venta": "1286",
                                    "venta_empleado": "6931035"
                                },
                                {
                                    "ventas_id": "4",
                                    "Fecha": "2018-10-30 00:00:00",
                                    "ID_local": "1",
                                    "clave_producto": "brr",
                                    "venta": "889",
                                    "venta_empleado": "9922377"
                                },
                                {
                                    "ventas_id": "5",
                                    "Fecha": "2018-05-16 00:00:00",
                                    "ID_local": "1",
                                    "clave_producto": "qsd",
                                    "venta": "495",
                                    "venta_empleado": "2520477"
                                },
                                {
                                    "ventas_id": "9",
                                    "Fecha": "2018-04-20 00:00:00",
                                    "ID_local": "1",
                                    "clave_producto": "qsd",
                                    "venta": "1203",
                                    "venta_empleado": "9922377"
                                },
                                {
                                    "ventas_id": "10",
                                    "Fecha": "2018-06-08 00:00:00",
                                    "ID_local": "1",
                                    "clave_producto": "brr",
                                    "venta": "1038",
                                    "venta_empleado": "6332756"
                                },
                                {
                                    "ventas_id": "11",
                                    "Fecha": "2018-08-22 00:00:00",
                                    "ID_local": "1",
                                    "clave_producto": "brr",
                                    "venta": "404",
                                    "venta_empleado": "3833745"
                                },
                                {
                                    "ventas_id": "13",
                                    "Fecha": "2019-07-16 00:00:00",
                                    "ID_local": "3",
                                    "clave_producto": "qsd",
                                    "venta": "1054",
                                    "venta_empleado": "2310967"
                                },
                                {
                                    "ventas_id": "14",
                                    "Fecha": "2019-08-27 00:00:00",
                                    "ID_local": "3",
                                    "clave_producto": "clz",
                                    "venta": "303",
                                    "venta_empleado": "3833745"
                                },
                                {
                                    "ventas_id": "15",
                                    "Fecha": "2019-12-15 00:00:00",
                                    "ID_local": "1",
                                    "clave_producto": "brr",
                                    "venta": "871",
                                    "venta_empleado": "2520477"
                                },
                                {
                                    "ventas_id": "16",
                                    "Fecha": "2019-07-30 00:00:00",
                                    "ID_local": "3",
                                    "clave_producto": "brr",
                                    "venta": "1062",
                                    "venta_empleado": "5728566"
                                },
                                {
                                    "ventas_id": "19",
                                    "Fecha": "2019-08-14 00:00:00",
                                    "ID_local": "2",
                                    "clave_producto": "clz",
                                    "venta": "972",
                                    "venta_empleado": "2310967"
                                },
                                {
                                    "ventas_id": "21",
                                    "Fecha": "2019-06-08 00:00:00",
                                    "ID_local": "4",
                                    "clave_producto": "qsd",
                                    "venta": "497",
                                    "venta_empleado": "5728566"
                                },
                                {
                                    "ventas_id": "22",
                                    "Fecha": "2019-07-25 00:00:00",
                                    "ID_local": "3",
                                    "clave_producto": "clz",
                                    "venta": "1179",
                                    "venta_empleado": "2310967"
                                }
                            ]
                        },
                        "text/html": [
                            "<table>",
                            "<tr><th>ventas_id</th><th>Fecha</th><th>ID_local</th><th>clave_producto</th><th>venta</th><th>venta_empleado</th></tr>",
                            "<tr><td>2</td><td>2018-09-17 00:00:00</td><td>2</td><td>clz</td><td>953</td><td>2310967</td></tr>",
                            "<tr><td>3</td><td>2018-10-18 00:00:00</td><td>4</td><td>brr</td><td>1286</td><td>6931035</td></tr>",
                            "<tr><td>4</td><td>2018-10-30 00:00:00</td><td>1</td><td>brr</td><td>889</td><td>9922377</td></tr>",
                            "<tr><td>5</td><td>2018-05-16 00:00:00</td><td>1</td><td>qsd</td><td>495</td><td>2520477</td></tr>",
                            "<tr><td>9</td><td>2018-04-20 00:00:00</td><td>1</td><td>qsd</td><td>1203</td><td>9922377</td></tr>",
                            "<tr><td>10</td><td>2018-06-08 00:00:00</td><td>1</td><td>brr</td><td>1038</td><td>6332756</td></tr>",
                            "<tr><td>11</td><td>2018-08-22 00:00:00</td><td>1</td><td>brr</td><td>404</td><td>3833745</td></tr>",
                            "<tr><td>13</td><td>2019-07-16 00:00:00</td><td>3</td><td>qsd</td><td>1054</td><td>2310967</td></tr>",
                            "<tr><td>14</td><td>2019-08-27 00:00:00</td><td>3</td><td>clz</td><td>303</td><td>3833745</td></tr>",
                            "<tr><td>15</td><td>2019-12-15 00:00:00</td><td>1</td><td>brr</td><td>871</td><td>2520477</td></tr>",
                            "<tr><td>16</td><td>2019-07-30 00:00:00</td><td>3</td><td>brr</td><td>1062</td><td>5728566</td></tr>",
                            "<tr><td>19</td><td>2019-08-14 00:00:00</td><td>2</td><td>clz</td><td>972</td><td>2310967</td></tr>",
                            "<tr><td>21</td><td>2019-06-08 00:00:00</td><td>4</td><td>qsd</td><td>497</td><td>5728566</td></tr>",
                            "<tr><td>22</td><td>2019-07-25 00:00:00</td><td>3</td><td>clz</td><td>1179</td><td>2310967</td></tr>",
                            "</table>"
                        ]
                    }
                }
            ],
            "execution_count": 6
        },
        {
            "cell_type": "code",
            "source": [
                "SELECT *\r\n",
                "FROM ventas\r\n",
                "WHERE NOT clave_producto = 'pzz';"
            ],
            "metadata": {
                "azdata_cell_guid": "5a449faa-072a-4e3d-a493-e42f64b17106",
                "language": "sql"
            },
            "outputs": [
                {
                    "output_type": "display_data",
                    "data": {
                        "text/html": "(14 row(s) affected)"
                    },
                    "metadata": {}
                },
                {
                    "output_type": "display_data",
                    "data": {
                        "text/html": "Total execution time: 00:00:01.014"
                    },
                    "metadata": {}
                },
                {
                    "output_type": "execute_result",
                    "metadata": {},
                    "execution_count": 7,
                    "data": {
                        "application/vnd.dataresource+json": {
                            "schema": {
                                "fields": [
                                    {
                                        "name": "ventas_id"
                                    },
                                    {
                                        "name": "Fecha"
                                    },
                                    {
                                        "name": "ID_local"
                                    },
                                    {
                                        "name": "clave_producto"
                                    },
                                    {
                                        "name": "venta"
                                    },
                                    {
                                        "name": "venta_empleado"
                                    }
                                ]
                            },
                            "data": [
                                {
                                    "ventas_id": "2",
                                    "Fecha": "2018-09-17 00:00:00",
                                    "ID_local": "2",
                                    "clave_producto": "clz",
                                    "venta": "953",
                                    "venta_empleado": "2310967"
                                },
                                {
                                    "ventas_id": "3",
                                    "Fecha": "2018-10-18 00:00:00",
                                    "ID_local": "4",
                                    "clave_producto": "brr",
                                    "venta": "1286",
                                    "venta_empleado": "6931035"
                                },
                                {
                                    "ventas_id": "4",
                                    "Fecha": "2018-10-30 00:00:00",
                                    "ID_local": "1",
                                    "clave_producto": "brr",
                                    "venta": "889",
                                    "venta_empleado": "9922377"
                                },
                                {
                                    "ventas_id": "5",
                                    "Fecha": "2018-05-16 00:00:00",
                                    "ID_local": "1",
                                    "clave_producto": "qsd",
                                    "venta": "495",
                                    "venta_empleado": "2520477"
                                },
                                {
                                    "ventas_id": "9",
                                    "Fecha": "2018-04-20 00:00:00",
                                    "ID_local": "1",
                                    "clave_producto": "qsd",
                                    "venta": "1203",
                                    "venta_empleado": "9922377"
                                },
                                {
                                    "ventas_id": "10",
                                    "Fecha": "2018-06-08 00:00:00",
                                    "ID_local": "1",
                                    "clave_producto": "brr",
                                    "venta": "1038",
                                    "venta_empleado": "6332756"
                                },
                                {
                                    "ventas_id": "11",
                                    "Fecha": "2018-08-22 00:00:00",
                                    "ID_local": "1",
                                    "clave_producto": "brr",
                                    "venta": "404",
                                    "venta_empleado": "3833745"
                                },
                                {
                                    "ventas_id": "13",
                                    "Fecha": "2019-07-16 00:00:00",
                                    "ID_local": "3",
                                    "clave_producto": "qsd",
                                    "venta": "1054",
                                    "venta_empleado": "2310967"
                                },
                                {
                                    "ventas_id": "14",
                                    "Fecha": "2019-08-27 00:00:00",
                                    "ID_local": "3",
                                    "clave_producto": "clz",
                                    "venta": "303",
                                    "venta_empleado": "3833745"
                                },
                                {
                                    "ventas_id": "15",
                                    "Fecha": "2019-12-15 00:00:00",
                                    "ID_local": "1",
                                    "clave_producto": "brr",
                                    "venta": "871",
                                    "venta_empleado": "2520477"
                                },
                                {
                                    "ventas_id": "16",
                                    "Fecha": "2019-07-30 00:00:00",
                                    "ID_local": "3",
                                    "clave_producto": "brr",
                                    "venta": "1062",
                                    "venta_empleado": "5728566"
                                },
                                {
                                    "ventas_id": "19",
                                    "Fecha": "2019-08-14 00:00:00",
                                    "ID_local": "2",
                                    "clave_producto": "clz",
                                    "venta": "972",
                                    "venta_empleado": "2310967"
                                },
                                {
                                    "ventas_id": "21",
                                    "Fecha": "2019-06-08 00:00:00",
                                    "ID_local": "4",
                                    "clave_producto": "qsd",
                                    "venta": "497",
                                    "venta_empleado": "5728566"
                                },
                                {
                                    "ventas_id": "22",
                                    "Fecha": "2019-07-25 00:00:00",
                                    "ID_local": "3",
                                    "clave_producto": "clz",
                                    "venta": "1179",
                                    "venta_empleado": "2310967"
                                }
                            ]
                        },
                        "text/html": [
                            "<table>",
                            "<tr><th>ventas_id</th><th>Fecha</th><th>ID_local</th><th>clave_producto</th><th>venta</th><th>venta_empleado</th></tr>",
                            "<tr><td>2</td><td>2018-09-17 00:00:00</td><td>2</td><td>clz</td><td>953</td><td>2310967</td></tr>",
                            "<tr><td>3</td><td>2018-10-18 00:00:00</td><td>4</td><td>brr</td><td>1286</td><td>6931035</td></tr>",
                            "<tr><td>4</td><td>2018-10-30 00:00:00</td><td>1</td><td>brr</td><td>889</td><td>9922377</td></tr>",
                            "<tr><td>5</td><td>2018-05-16 00:00:00</td><td>1</td><td>qsd</td><td>495</td><td>2520477</td></tr>",
                            "<tr><td>9</td><td>2018-04-20 00:00:00</td><td>1</td><td>qsd</td><td>1203</td><td>9922377</td></tr>",
                            "<tr><td>10</td><td>2018-06-08 00:00:00</td><td>1</td><td>brr</td><td>1038</td><td>6332756</td></tr>",
                            "<tr><td>11</td><td>2018-08-22 00:00:00</td><td>1</td><td>brr</td><td>404</td><td>3833745</td></tr>",
                            "<tr><td>13</td><td>2019-07-16 00:00:00</td><td>3</td><td>qsd</td><td>1054</td><td>2310967</td></tr>",
                            "<tr><td>14</td><td>2019-08-27 00:00:00</td><td>3</td><td>clz</td><td>303</td><td>3833745</td></tr>",
                            "<tr><td>15</td><td>2019-12-15 00:00:00</td><td>1</td><td>brr</td><td>871</td><td>2520477</td></tr>",
                            "<tr><td>16</td><td>2019-07-30 00:00:00</td><td>3</td><td>brr</td><td>1062</td><td>5728566</td></tr>",
                            "<tr><td>19</td><td>2019-08-14 00:00:00</td><td>2</td><td>clz</td><td>972</td><td>2310967</td></tr>",
                            "<tr><td>21</td><td>2019-06-08 00:00:00</td><td>4</td><td>qsd</td><td>497</td><td>5728566</td></tr>",
                            "<tr><td>22</td><td>2019-07-25 00:00:00</td><td>3</td><td>clz</td><td>1179</td><td>2310967</td></tr>",
                            "</table>"
                        ]
                    }
                }
            ],
            "execution_count": 7
        },
        {
            "cell_type": "code",
            "source": [
                "SELECT *\r\n",
                "FROM ventas\r\n",
                "WHERE NOT clave_producto = 'pzz' AND ID_local=2;"
            ],
            "metadata": {
                "azdata_cell_guid": "2da0c10b-380e-49ce-b7dc-9c953849d6d6",
                "language": "sql"
            },
            "outputs": [
                {
                    "output_type": "display_data",
                    "data": {
                        "text/html": "(2 row(s) affected)"
                    },
                    "metadata": {}
                },
                {
                    "output_type": "display_data",
                    "data": {
                        "text/html": "Total execution time: 00:00:01.009"
                    },
                    "metadata": {}
                },
                {
                    "output_type": "execute_result",
                    "metadata": {},
                    "execution_count": 8,
                    "data": {
                        "application/vnd.dataresource+json": {
                            "schema": {
                                "fields": [
                                    {
                                        "name": "ventas_id"
                                    },
                                    {
                                        "name": "Fecha"
                                    },
                                    {
                                        "name": "ID_local"
                                    },
                                    {
                                        "name": "clave_producto"
                                    },
                                    {
                                        "name": "venta"
                                    },
                                    {
                                        "name": "venta_empleado"
                                    }
                                ]
                            },
                            "data": [
                                {
                                    "ventas_id": "2",
                                    "Fecha": "2018-09-17 00:00:00",
                                    "ID_local": "2",
                                    "clave_producto": "clz",
                                    "venta": "953",
                                    "venta_empleado": "2310967"
                                },
                                {
                                    "ventas_id": "19",
                                    "Fecha": "2019-08-14 00:00:00",
                                    "ID_local": "2",
                                    "clave_producto": "clz",
                                    "venta": "972",
                                    "venta_empleado": "2310967"
                                }
                            ]
                        },
                        "text/html": [
                            "<table>",
                            "<tr><th>ventas_id</th><th>Fecha</th><th>ID_local</th><th>clave_producto</th><th>venta</th><th>venta_empleado</th></tr>",
                            "<tr><td>2</td><td>2018-09-17 00:00:00</td><td>2</td><td>clz</td><td>953</td><td>2310967</td></tr>",
                            "<tr><td>19</td><td>2019-08-14 00:00:00</td><td>2</td><td>clz</td><td>972</td><td>2310967</td></tr>",
                            "</table>"
                        ]
                    }
                }
            ],
            "execution_count": 8
        },
        {
            "cell_type": "code",
            "source": [
                "SELECT *\r\n",
                "FROM ventas\r\n",
                "WHERE NOT clave_producto = 'pzz' AND NOT ID_local=2;"
            ],
            "metadata": {
                "azdata_cell_guid": "1c30991c-2ef8-4781-a5df-1b536c7bde66",
                "language": "sql"
            },
            "outputs": [
                {
                    "output_type": "display_data",
                    "data": {
                        "text/html": "(12 row(s) affected)"
                    },
                    "metadata": {}
                },
                {
                    "output_type": "display_data",
                    "data": {
                        "text/html": "Total execution time: 00:00:01.014"
                    },
                    "metadata": {}
                },
                {
                    "output_type": "execute_result",
                    "metadata": {},
                    "execution_count": 9,
                    "data": {
                        "application/vnd.dataresource+json": {
                            "schema": {
                                "fields": [
                                    {
                                        "name": "ventas_id"
                                    },
                                    {
                                        "name": "Fecha"
                                    },
                                    {
                                        "name": "ID_local"
                                    },
                                    {
                                        "name": "clave_producto"
                                    },
                                    {
                                        "name": "venta"
                                    },
                                    {
                                        "name": "venta_empleado"
                                    }
                                ]
                            },
                            "data": [
                                {
                                    "ventas_id": "3",
                                    "Fecha": "2018-10-18 00:00:00",
                                    "ID_local": "4",
                                    "clave_producto": "brr",
                                    "venta": "1286",
                                    "venta_empleado": "6931035"
                                },
                                {
                                    "ventas_id": "4",
                                    "Fecha": "2018-10-30 00:00:00",
                                    "ID_local": "1",
                                    "clave_producto": "brr",
                                    "venta": "889",
                                    "venta_empleado": "9922377"
                                },
                                {
                                    "ventas_id": "5",
                                    "Fecha": "2018-05-16 00:00:00",
                                    "ID_local": "1",
                                    "clave_producto": "qsd",
                                    "venta": "495",
                                    "venta_empleado": "2520477"
                                },
                                {
                                    "ventas_id": "9",
                                    "Fecha": "2018-04-20 00:00:00",
                                    "ID_local": "1",
                                    "clave_producto": "qsd",
                                    "venta": "1203",
                                    "venta_empleado": "9922377"
                                },
                                {
                                    "ventas_id": "10",
                                    "Fecha": "2018-06-08 00:00:00",
                                    "ID_local": "1",
                                    "clave_producto": "brr",
                                    "venta": "1038",
                                    "venta_empleado": "6332756"
                                },
                                {
                                    "ventas_id": "11",
                                    "Fecha": "2018-08-22 00:00:00",
                                    "ID_local": "1",
                                    "clave_producto": "brr",
                                    "venta": "404",
                                    "venta_empleado": "3833745"
                                },
                                {
                                    "ventas_id": "13",
                                    "Fecha": "2019-07-16 00:00:00",
                                    "ID_local": "3",
                                    "clave_producto": "qsd",
                                    "venta": "1054",
                                    "venta_empleado": "2310967"
                                },
                                {
                                    "ventas_id": "14",
                                    "Fecha": "2019-08-27 00:00:00",
                                    "ID_local": "3",
                                    "clave_producto": "clz",
                                    "venta": "303",
                                    "venta_empleado": "3833745"
                                },
                                {
                                    "ventas_id": "15",
                                    "Fecha": "2019-12-15 00:00:00",
                                    "ID_local": "1",
                                    "clave_producto": "brr",
                                    "venta": "871",
                                    "venta_empleado": "2520477"
                                },
                                {
                                    "ventas_id": "16",
                                    "Fecha": "2019-07-30 00:00:00",
                                    "ID_local": "3",
                                    "clave_producto": "brr",
                                    "venta": "1062",
                                    "venta_empleado": "5728566"
                                },
                                {
                                    "ventas_id": "21",
                                    "Fecha": "2019-06-08 00:00:00",
                                    "ID_local": "4",
                                    "clave_producto": "qsd",
                                    "venta": "497",
                                    "venta_empleado": "5728566"
                                },
                                {
                                    "ventas_id": "22",
                                    "Fecha": "2019-07-25 00:00:00",
                                    "ID_local": "3",
                                    "clave_producto": "clz",
                                    "venta": "1179",
                                    "venta_empleado": "2310967"
                                }
                            ]
                        },
                        "text/html": [
                            "<table>",
                            "<tr><th>ventas_id</th><th>Fecha</th><th>ID_local</th><th>clave_producto</th><th>venta</th><th>venta_empleado</th></tr>",
                            "<tr><td>3</td><td>2018-10-18 00:00:00</td><td>4</td><td>brr</td><td>1286</td><td>6931035</td></tr>",
                            "<tr><td>4</td><td>2018-10-30 00:00:00</td><td>1</td><td>brr</td><td>889</td><td>9922377</td></tr>",
                            "<tr><td>5</td><td>2018-05-16 00:00:00</td><td>1</td><td>qsd</td><td>495</td><td>2520477</td></tr>",
                            "<tr><td>9</td><td>2018-04-20 00:00:00</td><td>1</td><td>qsd</td><td>1203</td><td>9922377</td></tr>",
                            "<tr><td>10</td><td>2018-06-08 00:00:00</td><td>1</td><td>brr</td><td>1038</td><td>6332756</td></tr>",
                            "<tr><td>11</td><td>2018-08-22 00:00:00</td><td>1</td><td>brr</td><td>404</td><td>3833745</td></tr>",
                            "<tr><td>13</td><td>2019-07-16 00:00:00</td><td>3</td><td>qsd</td><td>1054</td><td>2310967</td></tr>",
                            "<tr><td>14</td><td>2019-08-27 00:00:00</td><td>3</td><td>clz</td><td>303</td><td>3833745</td></tr>",
                            "<tr><td>15</td><td>2019-12-15 00:00:00</td><td>1</td><td>brr</td><td>871</td><td>2520477</td></tr>",
                            "<tr><td>16</td><td>2019-07-30 00:00:00</td><td>3</td><td>brr</td><td>1062</td><td>5728566</td></tr>",
                            "<tr><td>21</td><td>2019-06-08 00:00:00</td><td>4</td><td>qsd</td><td>497</td><td>5728566</td></tr>",
                            "<tr><td>22</td><td>2019-07-25 00:00:00</td><td>3</td><td>clz</td><td>1179</td><td>2310967</td></tr>",
                            "</table>"
                        ]
                    }
                }
            ],
            "execution_count": 9
        },
        {
            "cell_type": "code",
            "source": [
                "SELECT *\r\n",
                "FROM ventas\r\n",
                "WHERE clave_producto = 'clz' OR clave_producto='pzz' OR clave_producto='qsd';"
            ],
            "metadata": {
                "azdata_cell_guid": "808f8159-c5d3-4868-bca8-bc48e74e4978",
                "language": "sql"
            },
            "outputs": [
                {
                    "output_type": "display_data",
                    "data": {
                        "text/html": "(16 row(s) affected)"
                    },
                    "metadata": {}
                },
                {
                    "output_type": "display_data",
                    "data": {
                        "text/html": "Total execution time: 00:00:01.010"
                    },
                    "metadata": {}
                },
                {
                    "output_type": "execute_result",
                    "metadata": {},
                    "execution_count": 11,
                    "data": {
                        "application/vnd.dataresource+json": {
                            "schema": {
                                "fields": [
                                    {
                                        "name": "ventas_id"
                                    },
                                    {
                                        "name": "Fecha"
                                    },
                                    {
                                        "name": "ID_local"
                                    },
                                    {
                                        "name": "clave_producto"
                                    },
                                    {
                                        "name": "venta"
                                    },
                                    {
                                        "name": "venta_empleado"
                                    }
                                ]
                            },
                            "data": [
                                {
                                    "ventas_id": "1",
                                    "Fecha": "2018-11-18 00:00:00",
                                    "ID_local": "2",
                                    "clave_producto": "pzz",
                                    "venta": "1302",
                                    "venta_empleado": "2630867"
                                },
                                {
                                    "ventas_id": "2",
                                    "Fecha": "2018-09-17 00:00:00",
                                    "ID_local": "2",
                                    "clave_producto": "clz",
                                    "venta": "953",
                                    "venta_empleado": "2310967"
                                },
                                {
                                    "ventas_id": "5",
                                    "Fecha": "2018-05-16 00:00:00",
                                    "ID_local": "1",
                                    "clave_producto": "qsd",
                                    "venta": "495",
                                    "venta_empleado": "2520477"
                                },
                                {
                                    "ventas_id": "6",
                                    "Fecha": "2018-12-15 00:00:00",
                                    "ID_local": "3",
                                    "clave_producto": "pzz",
                                    "venta": "544",
                                    "venta_empleado": "9611338"
                                },
                                {
                                    "ventas_id": "7",
                                    "Fecha": "2018-07-28 00:00:00",
                                    "ID_local": "4",
                                    "clave_producto": "pzz",
                                    "venta": "1444",
                                    "venta_empleado": "6332756"
                                },
                                {
                                    "ventas_id": "8",
                                    "Fecha": "2018-10-05 00:00:00",
                                    "ID_local": "1",
                                    "clave_producto": "pzz",
                                    "venta": "435",
                                    "venta_empleado": "2520477"
                                },
                                {
                                    "ventas_id": "9",
                                    "Fecha": "2018-04-20 00:00:00",
                                    "ID_local": "1",
                                    "clave_producto": "qsd",
                                    "venta": "1203",
                                    "venta_empleado": "9922377"
                                },
                                {
                                    "ventas_id": "12",
                                    "Fecha": "2019-09-03 00:00:00",
                                    "ID_local": "1",
                                    "clave_producto": "pzz",
                                    "venta": "1362",
                                    "venta_empleado": "5728566"
                                },
                                {
                                    "ventas_id": "13",
                                    "Fecha": "2019-07-16 00:00:00",
                                    "ID_local": "3",
                                    "clave_producto": "qsd",
                                    "venta": "1054",
                                    "venta_empleado": "2310967"
                                },
                                {
                                    "ventas_id": "14",
                                    "Fecha": "2019-08-27 00:00:00",
                                    "ID_local": "3",
                                    "clave_producto": "clz",
                                    "venta": "303",
                                    "venta_empleado": "3833745"
                                },
                                {
                                    "ventas_id": "17",
                                    "Fecha": "2019-10-25 00:00:00",
                                    "ID_local": "1",
                                    "clave_producto": "pzz",
                                    "venta": "1376",
                                    "venta_empleado": "6332756"
                                },
                                {
                                    "ventas_id": "18",
                                    "Fecha": "2019-12-14 00:00:00",
                                    "ID_local": "3",
                                    "clave_producto": "pzz",
                                    "venta": "957",
                                    "venta_empleado": "2310967"
                                },
                                {
                                    "ventas_id": "19",
                                    "Fecha": "2019-08-14 00:00:00",
                                    "ID_local": "2",
                                    "clave_producto": "clz",
                                    "venta": "972",
                                    "venta_empleado": "2310967"
                                },
                                {
                                    "ventas_id": "20",
                                    "Fecha": "2019-12-01 00:00:00",
                                    "ID_local": "1",
                                    "clave_producto": "pzz",
                                    "venta": "1455",
                                    "venta_empleado": "2310967"
                                },
                                {
                                    "ventas_id": "21",
                                    "Fecha": "2019-06-08 00:00:00",
                                    "ID_local": "4",
                                    "clave_producto": "qsd",
                                    "venta": "497",
                                    "venta_empleado": "5728566"
                                },
                                {
                                    "ventas_id": "22",
                                    "Fecha": "2019-07-25 00:00:00",
                                    "ID_local": "3",
                                    "clave_producto": "clz",
                                    "venta": "1179",
                                    "venta_empleado": "2310967"
                                }
                            ]
                        },
                        "text/html": [
                            "<table>",
                            "<tr><th>ventas_id</th><th>Fecha</th><th>ID_local</th><th>clave_producto</th><th>venta</th><th>venta_empleado</th></tr>",
                            "<tr><td>1</td><td>2018-11-18 00:00:00</td><td>2</td><td>pzz</td><td>1302</td><td>2630867</td></tr>",
                            "<tr><td>2</td><td>2018-09-17 00:00:00</td><td>2</td><td>clz</td><td>953</td><td>2310967</td></tr>",
                            "<tr><td>5</td><td>2018-05-16 00:00:00</td><td>1</td><td>qsd</td><td>495</td><td>2520477</td></tr>",
                            "<tr><td>6</td><td>2018-12-15 00:00:00</td><td>3</td><td>pzz</td><td>544</td><td>9611338</td></tr>",
                            "<tr><td>7</td><td>2018-07-28 00:00:00</td><td>4</td><td>pzz</td><td>1444</td><td>6332756</td></tr>",
                            "<tr><td>8</td><td>2018-10-05 00:00:00</td><td>1</td><td>pzz</td><td>435</td><td>2520477</td></tr>",
                            "<tr><td>9</td><td>2018-04-20 00:00:00</td><td>1</td><td>qsd</td><td>1203</td><td>9922377</td></tr>",
                            "<tr><td>12</td><td>2019-09-03 00:00:00</td><td>1</td><td>pzz</td><td>1362</td><td>5728566</td></tr>",
                            "<tr><td>13</td><td>2019-07-16 00:00:00</td><td>3</td><td>qsd</td><td>1054</td><td>2310967</td></tr>",
                            "<tr><td>14</td><td>2019-08-27 00:00:00</td><td>3</td><td>clz</td><td>303</td><td>3833745</td></tr>",
                            "<tr><td>17</td><td>2019-10-25 00:00:00</td><td>1</td><td>pzz</td><td>1376</td><td>6332756</td></tr>",
                            "<tr><td>18</td><td>2019-12-14 00:00:00</td><td>3</td><td>pzz</td><td>957</td><td>2310967</td></tr>",
                            "<tr><td>19</td><td>2019-08-14 00:00:00</td><td>2</td><td>clz</td><td>972</td><td>2310967</td></tr>",
                            "<tr><td>20</td><td>2019-12-01 00:00:00</td><td>1</td><td>pzz</td><td>1455</td><td>2310967</td></tr>",
                            "<tr><td>21</td><td>2019-06-08 00:00:00</td><td>4</td><td>qsd</td><td>497</td><td>5728566</td></tr>",
                            "<tr><td>22</td><td>2019-07-25 00:00:00</td><td>3</td><td>clz</td><td>1179</td><td>2310967</td></tr>",
                            "</table>"
                        ]
                    }
                }
            ],
            "execution_count": 11
        },
        {
            "cell_type": "code",
            "source": [
                "SELECT * \r\n",
                "FROM ventas \r\n",
                "WHERE clave_producto IN ('clz', 'pzz', 'qsd')"
            ],
            "metadata": {
                "azdata_cell_guid": "9aea3403-4315-41b4-bb23-23ae8c61ddda",
                "language": "sql"
            },
            "outputs": [
                {
                    "output_type": "display_data",
                    "data": {
                        "text/html": "(16 row(s) affected)"
                    },
                    "metadata": {}
                },
                {
                    "output_type": "display_data",
                    "data": {
                        "text/html": "Total execution time: 00:00:01.010"
                    },
                    "metadata": {}
                },
                {
                    "output_type": "execute_result",
                    "metadata": {},
                    "execution_count": 12,
                    "data": {
                        "application/vnd.dataresource+json": {
                            "schema": {
                                "fields": [
                                    {
                                        "name": "ventas_id"
                                    },
                                    {
                                        "name": "Fecha"
                                    },
                                    {
                                        "name": "ID_local"
                                    },
                                    {
                                        "name": "clave_producto"
                                    },
                                    {
                                        "name": "venta"
                                    },
                                    {
                                        "name": "venta_empleado"
                                    }
                                ]
                            },
                            "data": [
                                {
                                    "ventas_id": "1",
                                    "Fecha": "2018-11-18 00:00:00",
                                    "ID_local": "2",
                                    "clave_producto": "pzz",
                                    "venta": "1302",
                                    "venta_empleado": "2630867"
                                },
                                {
                                    "ventas_id": "2",
                                    "Fecha": "2018-09-17 00:00:00",
                                    "ID_local": "2",
                                    "clave_producto": "clz",
                                    "venta": "953",
                                    "venta_empleado": "2310967"
                                },
                                {
                                    "ventas_id": "5",
                                    "Fecha": "2018-05-16 00:00:00",
                                    "ID_local": "1",
                                    "clave_producto": "qsd",
                                    "venta": "495",
                                    "venta_empleado": "2520477"
                                },
                                {
                                    "ventas_id": "6",
                                    "Fecha": "2018-12-15 00:00:00",
                                    "ID_local": "3",
                                    "clave_producto": "pzz",
                                    "venta": "544",
                                    "venta_empleado": "9611338"
                                },
                                {
                                    "ventas_id": "7",
                                    "Fecha": "2018-07-28 00:00:00",
                                    "ID_local": "4",
                                    "clave_producto": "pzz",
                                    "venta": "1444",
                                    "venta_empleado": "6332756"
                                },
                                {
                                    "ventas_id": "8",
                                    "Fecha": "2018-10-05 00:00:00",
                                    "ID_local": "1",
                                    "clave_producto": "pzz",
                                    "venta": "435",
                                    "venta_empleado": "2520477"
                                },
                                {
                                    "ventas_id": "9",
                                    "Fecha": "2018-04-20 00:00:00",
                                    "ID_local": "1",
                                    "clave_producto": "qsd",
                                    "venta": "1203",
                                    "venta_empleado": "9922377"
                                },
                                {
                                    "ventas_id": "12",
                                    "Fecha": "2019-09-03 00:00:00",
                                    "ID_local": "1",
                                    "clave_producto": "pzz",
                                    "venta": "1362",
                                    "venta_empleado": "5728566"
                                },
                                {
                                    "ventas_id": "13",
                                    "Fecha": "2019-07-16 00:00:00",
                                    "ID_local": "3",
                                    "clave_producto": "qsd",
                                    "venta": "1054",
                                    "venta_empleado": "2310967"
                                },
                                {
                                    "ventas_id": "14",
                                    "Fecha": "2019-08-27 00:00:00",
                                    "ID_local": "3",
                                    "clave_producto": "clz",
                                    "venta": "303",
                                    "venta_empleado": "3833745"
                                },
                                {
                                    "ventas_id": "17",
                                    "Fecha": "2019-10-25 00:00:00",
                                    "ID_local": "1",
                                    "clave_producto": "pzz",
                                    "venta": "1376",
                                    "venta_empleado": "6332756"
                                },
                                {
                                    "ventas_id": "18",
                                    "Fecha": "2019-12-14 00:00:00",
                                    "ID_local": "3",
                                    "clave_producto": "pzz",
                                    "venta": "957",
                                    "venta_empleado": "2310967"
                                },
                                {
                                    "ventas_id": "19",
                                    "Fecha": "2019-08-14 00:00:00",
                                    "ID_local": "2",
                                    "clave_producto": "clz",
                                    "venta": "972",
                                    "venta_empleado": "2310967"
                                },
                                {
                                    "ventas_id": "20",
                                    "Fecha": "2019-12-01 00:00:00",
                                    "ID_local": "1",
                                    "clave_producto": "pzz",
                                    "venta": "1455",
                                    "venta_empleado": "2310967"
                                },
                                {
                                    "ventas_id": "21",
                                    "Fecha": "2019-06-08 00:00:00",
                                    "ID_local": "4",
                                    "clave_producto": "qsd",
                                    "venta": "497",
                                    "venta_empleado": "5728566"
                                },
                                {
                                    "ventas_id": "22",
                                    "Fecha": "2019-07-25 00:00:00",
                                    "ID_local": "3",
                                    "clave_producto": "clz",
                                    "venta": "1179",
                                    "venta_empleado": "2310967"
                                }
                            ]
                        },
                        "text/html": [
                            "<table>",
                            "<tr><th>ventas_id</th><th>Fecha</th><th>ID_local</th><th>clave_producto</th><th>venta</th><th>venta_empleado</th></tr>",
                            "<tr><td>1</td><td>2018-11-18 00:00:00</td><td>2</td><td>pzz</td><td>1302</td><td>2630867</td></tr>",
                            "<tr><td>2</td><td>2018-09-17 00:00:00</td><td>2</td><td>clz</td><td>953</td><td>2310967</td></tr>",
                            "<tr><td>5</td><td>2018-05-16 00:00:00</td><td>1</td><td>qsd</td><td>495</td><td>2520477</td></tr>",
                            "<tr><td>6</td><td>2018-12-15 00:00:00</td><td>3</td><td>pzz</td><td>544</td><td>9611338</td></tr>",
                            "<tr><td>7</td><td>2018-07-28 00:00:00</td><td>4</td><td>pzz</td><td>1444</td><td>6332756</td></tr>",
                            "<tr><td>8</td><td>2018-10-05 00:00:00</td><td>1</td><td>pzz</td><td>435</td><td>2520477</td></tr>",
                            "<tr><td>9</td><td>2018-04-20 00:00:00</td><td>1</td><td>qsd</td><td>1203</td><td>9922377</td></tr>",
                            "<tr><td>12</td><td>2019-09-03 00:00:00</td><td>1</td><td>pzz</td><td>1362</td><td>5728566</td></tr>",
                            "<tr><td>13</td><td>2019-07-16 00:00:00</td><td>3</td><td>qsd</td><td>1054</td><td>2310967</td></tr>",
                            "<tr><td>14</td><td>2019-08-27 00:00:00</td><td>3</td><td>clz</td><td>303</td><td>3833745</td></tr>",
                            "<tr><td>17</td><td>2019-10-25 00:00:00</td><td>1</td><td>pzz</td><td>1376</td><td>6332756</td></tr>",
                            "<tr><td>18</td><td>2019-12-14 00:00:00</td><td>3</td><td>pzz</td><td>957</td><td>2310967</td></tr>",
                            "<tr><td>19</td><td>2019-08-14 00:00:00</td><td>2</td><td>clz</td><td>972</td><td>2310967</td></tr>",
                            "<tr><td>20</td><td>2019-12-01 00:00:00</td><td>1</td><td>pzz</td><td>1455</td><td>2310967</td></tr>",
                            "<tr><td>21</td><td>2019-06-08 00:00:00</td><td>4</td><td>qsd</td><td>497</td><td>5728566</td></tr>",
                            "<tr><td>22</td><td>2019-07-25 00:00:00</td><td>3</td><td>clz</td><td>1179</td><td>2310967</td></tr>",
                            "</table>"
                        ]
                    }
                }
            ],
            "execution_count": 12
        },
        {
            "cell_type": "code",
            "source": [
                "SELECT * \r\n",
                "FROM ventas \r\n",
                "WHERE ID_local IN(1,2,3)"
            ],
            "metadata": {
                "azdata_cell_guid": "e3dbd3c2-ddbc-437e-854a-98c2e63852bf",
                "language": "sql"
            },
            "outputs": [
                {
                    "output_type": "display_data",
                    "data": {
                        "text/html": "(19 row(s) affected)"
                    },
                    "metadata": {}
                },
                {
                    "output_type": "display_data",
                    "data": {
                        "text/html": "Total execution time: 00:00:01.010"
                    },
                    "metadata": {}
                },
                {
                    "output_type": "execute_result",
                    "metadata": {},
                    "execution_count": 13,
                    "data": {
                        "application/vnd.dataresource+json": {
                            "schema": {
                                "fields": [
                                    {
                                        "name": "ventas_id"
                                    },
                                    {
                                        "name": "Fecha"
                                    },
                                    {
                                        "name": "ID_local"
                                    },
                                    {
                                        "name": "clave_producto"
                                    },
                                    {
                                        "name": "venta"
                                    },
                                    {
                                        "name": "venta_empleado"
                                    }
                                ]
                            },
                            "data": [
                                {
                                    "ventas_id": "1",
                                    "Fecha": "2018-11-18 00:00:00",
                                    "ID_local": "2",
                                    "clave_producto": "pzz",
                                    "venta": "1302",
                                    "venta_empleado": "2630867"
                                },
                                {
                                    "ventas_id": "2",
                                    "Fecha": "2018-09-17 00:00:00",
                                    "ID_local": "2",
                                    "clave_producto": "clz",
                                    "venta": "953",
                                    "venta_empleado": "2310967"
                                },
                                {
                                    "ventas_id": "4",
                                    "Fecha": "2018-10-30 00:00:00",
                                    "ID_local": "1",
                                    "clave_producto": "brr",
                                    "venta": "889",
                                    "venta_empleado": "9922377"
                                },
                                {
                                    "ventas_id": "5",
                                    "Fecha": "2018-05-16 00:00:00",
                                    "ID_local": "1",
                                    "clave_producto": "qsd",
                                    "venta": "495",
                                    "venta_empleado": "2520477"
                                },
                                {
                                    "ventas_id": "6",
                                    "Fecha": "2018-12-15 00:00:00",
                                    "ID_local": "3",
                                    "clave_producto": "pzz",
                                    "venta": "544",
                                    "venta_empleado": "9611338"
                                },
                                {
                                    "ventas_id": "8",
                                    "Fecha": "2018-10-05 00:00:00",
                                    "ID_local": "1",
                                    "clave_producto": "pzz",
                                    "venta": "435",
                                    "venta_empleado": "2520477"
                                },
                                {
                                    "ventas_id": "9",
                                    "Fecha": "2018-04-20 00:00:00",
                                    "ID_local": "1",
                                    "clave_producto": "qsd",
                                    "venta": "1203",
                                    "venta_empleado": "9922377"
                                },
                                {
                                    "ventas_id": "10",
                                    "Fecha": "2018-06-08 00:00:00",
                                    "ID_local": "1",
                                    "clave_producto": "brr",
                                    "venta": "1038",
                                    "venta_empleado": "6332756"
                                },
                                {
                                    "ventas_id": "11",
                                    "Fecha": "2018-08-22 00:00:00",
                                    "ID_local": "1",
                                    "clave_producto": "brr",
                                    "venta": "404",
                                    "venta_empleado": "3833745"
                                },
                                {
                                    "ventas_id": "12",
                                    "Fecha": "2019-09-03 00:00:00",
                                    "ID_local": "1",
                                    "clave_producto": "pzz",
                                    "venta": "1362",
                                    "venta_empleado": "5728566"
                                },
                                {
                                    "ventas_id": "13",
                                    "Fecha": "2019-07-16 00:00:00",
                                    "ID_local": "3",
                                    "clave_producto": "qsd",
                                    "venta": "1054",
                                    "venta_empleado": "2310967"
                                },
                                {
                                    "ventas_id": "14",
                                    "Fecha": "2019-08-27 00:00:00",
                                    "ID_local": "3",
                                    "clave_producto": "clz",
                                    "venta": "303",
                                    "venta_empleado": "3833745"
                                },
                                {
                                    "ventas_id": "15",
                                    "Fecha": "2019-12-15 00:00:00",
                                    "ID_local": "1",
                                    "clave_producto": "brr",
                                    "venta": "871",
                                    "venta_empleado": "2520477"
                                },
                                {
                                    "ventas_id": "16",
                                    "Fecha": "2019-07-30 00:00:00",
                                    "ID_local": "3",
                                    "clave_producto": "brr",
                                    "venta": "1062",
                                    "venta_empleado": "5728566"
                                },
                                {
                                    "ventas_id": "17",
                                    "Fecha": "2019-10-25 00:00:00",
                                    "ID_local": "1",
                                    "clave_producto": "pzz",
                                    "venta": "1376",
                                    "venta_empleado": "6332756"
                                },
                                {
                                    "ventas_id": "18",
                                    "Fecha": "2019-12-14 00:00:00",
                                    "ID_local": "3",
                                    "clave_producto": "pzz",
                                    "venta": "957",
                                    "venta_empleado": "2310967"
                                },
                                {
                                    "ventas_id": "19",
                                    "Fecha": "2019-08-14 00:00:00",
                                    "ID_local": "2",
                                    "clave_producto": "clz",
                                    "venta": "972",
                                    "venta_empleado": "2310967"
                                },
                                {
                                    "ventas_id": "20",
                                    "Fecha": "2019-12-01 00:00:00",
                                    "ID_local": "1",
                                    "clave_producto": "pzz",
                                    "venta": "1455",
                                    "venta_empleado": "2310967"
                                },
                                {
                                    "ventas_id": "22",
                                    "Fecha": "2019-07-25 00:00:00",
                                    "ID_local": "3",
                                    "clave_producto": "clz",
                                    "venta": "1179",
                                    "venta_empleado": "2310967"
                                }
                            ]
                        },
                        "text/html": [
                            "<table>",
                            "<tr><th>ventas_id</th><th>Fecha</th><th>ID_local</th><th>clave_producto</th><th>venta</th><th>venta_empleado</th></tr>",
                            "<tr><td>1</td><td>2018-11-18 00:00:00</td><td>2</td><td>pzz</td><td>1302</td><td>2630867</td></tr>",
                            "<tr><td>2</td><td>2018-09-17 00:00:00</td><td>2</td><td>clz</td><td>953</td><td>2310967</td></tr>",
                            "<tr><td>4</td><td>2018-10-30 00:00:00</td><td>1</td><td>brr</td><td>889</td><td>9922377</td></tr>",
                            "<tr><td>5</td><td>2018-05-16 00:00:00</td><td>1</td><td>qsd</td><td>495</td><td>2520477</td></tr>",
                            "<tr><td>6</td><td>2018-12-15 00:00:00</td><td>3</td><td>pzz</td><td>544</td><td>9611338</td></tr>",
                            "<tr><td>8</td><td>2018-10-05 00:00:00</td><td>1</td><td>pzz</td><td>435</td><td>2520477</td></tr>",
                            "<tr><td>9</td><td>2018-04-20 00:00:00</td><td>1</td><td>qsd</td><td>1203</td><td>9922377</td></tr>",
                            "<tr><td>10</td><td>2018-06-08 00:00:00</td><td>1</td><td>brr</td><td>1038</td><td>6332756</td></tr>",
                            "<tr><td>11</td><td>2018-08-22 00:00:00</td><td>1</td><td>brr</td><td>404</td><td>3833745</td></tr>",
                            "<tr><td>12</td><td>2019-09-03 00:00:00</td><td>1</td><td>pzz</td><td>1362</td><td>5728566</td></tr>",
                            "<tr><td>13</td><td>2019-07-16 00:00:00</td><td>3</td><td>qsd</td><td>1054</td><td>2310967</td></tr>",
                            "<tr><td>14</td><td>2019-08-27 00:00:00</td><td>3</td><td>clz</td><td>303</td><td>3833745</td></tr>",
                            "<tr><td>15</td><td>2019-12-15 00:00:00</td><td>1</td><td>brr</td><td>871</td><td>2520477</td></tr>",
                            "<tr><td>16</td><td>2019-07-30 00:00:00</td><td>3</td><td>brr</td><td>1062</td><td>5728566</td></tr>",
                            "<tr><td>17</td><td>2019-10-25 00:00:00</td><td>1</td><td>pzz</td><td>1376</td><td>6332756</td></tr>",
                            "<tr><td>18</td><td>2019-12-14 00:00:00</td><td>3</td><td>pzz</td><td>957</td><td>2310967</td></tr>",
                            "<tr><td>19</td><td>2019-08-14 00:00:00</td><td>2</td><td>clz</td><td>972</td><td>2310967</td></tr>",
                            "<tr><td>20</td><td>2019-12-01 00:00:00</td><td>1</td><td>pzz</td><td>1455</td><td>2310967</td></tr>",
                            "<tr><td>22</td><td>2019-07-25 00:00:00</td><td>3</td><td>clz</td><td>1179</td><td>2310967</td></tr>",
                            "</table>"
                        ]
                    }
                }
            ],
            "execution_count": 13
        },
        {
            "cell_type": "code",
            "source": [
                "SELECT * \r\n",
                "FROM ventas \r\n",
                "WHERE ID_local IN(1,2,3) AND clave_producto IN('clz', 'pzz');"
            ],
            "metadata": {
                "azdata_cell_guid": "07060a6c-75d7-4b9a-8b08-4ac941f75a16",
                "language": "sql"
            },
            "outputs": [
                {
                    "output_type": "display_data",
                    "data": {
                        "text/html": "(11 row(s) affected)"
                    },
                    "metadata": {}
                },
                {
                    "output_type": "display_data",
                    "data": {
                        "text/html": "Total execution time: 00:00:01.006"
                    },
                    "metadata": {}
                },
                {
                    "output_type": "execute_result",
                    "metadata": {},
                    "execution_count": 14,
                    "data": {
                        "application/vnd.dataresource+json": {
                            "schema": {
                                "fields": [
                                    {
                                        "name": "ventas_id"
                                    },
                                    {
                                        "name": "Fecha"
                                    },
                                    {
                                        "name": "ID_local"
                                    },
                                    {
                                        "name": "clave_producto"
                                    },
                                    {
                                        "name": "venta"
                                    },
                                    {
                                        "name": "venta_empleado"
                                    }
                                ]
                            },
                            "data": [
                                {
                                    "ventas_id": "1",
                                    "Fecha": "2018-11-18 00:00:00",
                                    "ID_local": "2",
                                    "clave_producto": "pzz",
                                    "venta": "1302",
                                    "venta_empleado": "2630867"
                                },
                                {
                                    "ventas_id": "2",
                                    "Fecha": "2018-09-17 00:00:00",
                                    "ID_local": "2",
                                    "clave_producto": "clz",
                                    "venta": "953",
                                    "venta_empleado": "2310967"
                                },
                                {
                                    "ventas_id": "6",
                                    "Fecha": "2018-12-15 00:00:00",
                                    "ID_local": "3",
                                    "clave_producto": "pzz",
                                    "venta": "544",
                                    "venta_empleado": "9611338"
                                },
                                {
                                    "ventas_id": "8",
                                    "Fecha": "2018-10-05 00:00:00",
                                    "ID_local": "1",
                                    "clave_producto": "pzz",
                                    "venta": "435",
                                    "venta_empleado": "2520477"
                                },
                                {
                                    "ventas_id": "12",
                                    "Fecha": "2019-09-03 00:00:00",
                                    "ID_local": "1",
                                    "clave_producto": "pzz",
                                    "venta": "1362",
                                    "venta_empleado": "5728566"
                                },
                                {
                                    "ventas_id": "14",
                                    "Fecha": "2019-08-27 00:00:00",
                                    "ID_local": "3",
                                    "clave_producto": "clz",
                                    "venta": "303",
                                    "venta_empleado": "3833745"
                                },
                                {
                                    "ventas_id": "17",
                                    "Fecha": "2019-10-25 00:00:00",
                                    "ID_local": "1",
                                    "clave_producto": "pzz",
                                    "venta": "1376",
                                    "venta_empleado": "6332756"
                                },
                                {
                                    "ventas_id": "18",
                                    "Fecha": "2019-12-14 00:00:00",
                                    "ID_local": "3",
                                    "clave_producto": "pzz",
                                    "venta": "957",
                                    "venta_empleado": "2310967"
                                },
                                {
                                    "ventas_id": "19",
                                    "Fecha": "2019-08-14 00:00:00",
                                    "ID_local": "2",
                                    "clave_producto": "clz",
                                    "venta": "972",
                                    "venta_empleado": "2310967"
                                },
                                {
                                    "ventas_id": "20",
                                    "Fecha": "2019-12-01 00:00:00",
                                    "ID_local": "1",
                                    "clave_producto": "pzz",
                                    "venta": "1455",
                                    "venta_empleado": "2310967"
                                },
                                {
                                    "ventas_id": "22",
                                    "Fecha": "2019-07-25 00:00:00",
                                    "ID_local": "3",
                                    "clave_producto": "clz",
                                    "venta": "1179",
                                    "venta_empleado": "2310967"
                                }
                            ]
                        },
                        "text/html": [
                            "<table>",
                            "<tr><th>ventas_id</th><th>Fecha</th><th>ID_local</th><th>clave_producto</th><th>venta</th><th>venta_empleado</th></tr>",
                            "<tr><td>1</td><td>2018-11-18 00:00:00</td><td>2</td><td>pzz</td><td>1302</td><td>2630867</td></tr>",
                            "<tr><td>2</td><td>2018-09-17 00:00:00</td><td>2</td><td>clz</td><td>953</td><td>2310967</td></tr>",
                            "<tr><td>6</td><td>2018-12-15 00:00:00</td><td>3</td><td>pzz</td><td>544</td><td>9611338</td></tr>",
                            "<tr><td>8</td><td>2018-10-05 00:00:00</td><td>1</td><td>pzz</td><td>435</td><td>2520477</td></tr>",
                            "<tr><td>12</td><td>2019-09-03 00:00:00</td><td>1</td><td>pzz</td><td>1362</td><td>5728566</td></tr>",
                            "<tr><td>14</td><td>2019-08-27 00:00:00</td><td>3</td><td>clz</td><td>303</td><td>3833745</td></tr>",
                            "<tr><td>17</td><td>2019-10-25 00:00:00</td><td>1</td><td>pzz</td><td>1376</td><td>6332756</td></tr>",
                            "<tr><td>18</td><td>2019-12-14 00:00:00</td><td>3</td><td>pzz</td><td>957</td><td>2310967</td></tr>",
                            "<tr><td>19</td><td>2019-08-14 00:00:00</td><td>2</td><td>clz</td><td>972</td><td>2310967</td></tr>",
                            "<tr><td>20</td><td>2019-12-01 00:00:00</td><td>1</td><td>pzz</td><td>1455</td><td>2310967</td></tr>",
                            "<tr><td>22</td><td>2019-07-25 00:00:00</td><td>3</td><td>clz</td><td>1179</td><td>2310967</td></tr>",
                            "</table>"
                        ]
                    }
                }
            ],
            "execution_count": 14
        },
        {
            "cell_type": "code",
            "source": [
                "SELECT * \r\n",
                "FROM ventas \r\n",
                "WHERE venta>=500 AND venta<1000;"
            ],
            "metadata": {
                "azdata_cell_guid": "432cd920-19a3-4705-b2ab-222e1f420dbe",
                "language": "sql"
            },
            "outputs": [
                {
                    "output_type": "display_data",
                    "data": {
                        "text/html": "(6 row(s) affected)"
                    },
                    "metadata": {}
                },
                {
                    "output_type": "display_data",
                    "data": {
                        "text/html": "Total execution time: 00:00:01.008"
                    },
                    "metadata": {}
                },
                {
                    "output_type": "execute_result",
                    "metadata": {},
                    "execution_count": 15,
                    "data": {
                        "application/vnd.dataresource+json": {
                            "schema": {
                                "fields": [
                                    {
                                        "name": "ventas_id"
                                    },
                                    {
                                        "name": "Fecha"
                                    },
                                    {
                                        "name": "ID_local"
                                    },
                                    {
                                        "name": "clave_producto"
                                    },
                                    {
                                        "name": "venta"
                                    },
                                    {
                                        "name": "venta_empleado"
                                    }
                                ]
                            },
                            "data": [
                                {
                                    "ventas_id": "6",
                                    "Fecha": "2018-12-15 00:00:00",
                                    "ID_local": "3",
                                    "clave_producto": "pzz",
                                    "venta": "544",
                                    "venta_empleado": "9611338"
                                },
                                {
                                    "ventas_id": "15",
                                    "Fecha": "2019-12-15 00:00:00",
                                    "ID_local": "1",
                                    "clave_producto": "brr",
                                    "venta": "871",
                                    "venta_empleado": "2520477"
                                },
                                {
                                    "ventas_id": "4",
                                    "Fecha": "2018-10-30 00:00:00",
                                    "ID_local": "1",
                                    "clave_producto": "brr",
                                    "venta": "889",
                                    "venta_empleado": "9922377"
                                },
                                {
                                    "ventas_id": "2",
                                    "Fecha": "2018-09-17 00:00:00",
                                    "ID_local": "2",
                                    "clave_producto": "clz",
                                    "venta": "953",
                                    "venta_empleado": "2310967"
                                },
                                {
                                    "ventas_id": "18",
                                    "Fecha": "2019-12-14 00:00:00",
                                    "ID_local": "3",
                                    "clave_producto": "pzz",
                                    "venta": "957",
                                    "venta_empleado": "2310967"
                                },
                                {
                                    "ventas_id": "19",
                                    "Fecha": "2019-08-14 00:00:00",
                                    "ID_local": "2",
                                    "clave_producto": "clz",
                                    "venta": "972",
                                    "venta_empleado": "2310967"
                                }
                            ]
                        },
                        "text/html": [
                            "<table>",
                            "<tr><th>ventas_id</th><th>Fecha</th><th>ID_local</th><th>clave_producto</th><th>venta</th><th>venta_empleado</th></tr>",
                            "<tr><td>6</td><td>2018-12-15 00:00:00</td><td>3</td><td>pzz</td><td>544</td><td>9611338</td></tr>",
                            "<tr><td>15</td><td>2019-12-15 00:00:00</td><td>1</td><td>brr</td><td>871</td><td>2520477</td></tr>",
                            "<tr><td>4</td><td>2018-10-30 00:00:00</td><td>1</td><td>brr</td><td>889</td><td>9922377</td></tr>",
                            "<tr><td>2</td><td>2018-09-17 00:00:00</td><td>2</td><td>clz</td><td>953</td><td>2310967</td></tr>",
                            "<tr><td>18</td><td>2019-12-14 00:00:00</td><td>3</td><td>pzz</td><td>957</td><td>2310967</td></tr>",
                            "<tr><td>19</td><td>2019-08-14 00:00:00</td><td>2</td><td>clz</td><td>972</td><td>2310967</td></tr>",
                            "</table>"
                        ]
                    }
                }
            ],
            "execution_count": 15
        },
        {
            "cell_type": "markdown",
            "source": [
                "Between ----\\> filtra los datos en un rango específico"
            ],
            "metadata": {
                "azdata_cell_guid": "93389125-f2f3-4874-807b-3265cd89b364"
            },
            "attachments": {}
        },
        {
            "cell_type": "code",
            "source": [
                "SELECT * \r\n",
                "FROM ventas \r\n",
                "WHERE venta BETWEEN 500 AND 1000;"
            ],
            "metadata": {
                "azdata_cell_guid": "fe6a7252-f12b-43ad-942d-c6b761fbb850",
                "language": "sql"
            },
            "outputs": [
                {
                    "output_type": "display_data",
                    "data": {
                        "text/html": "(6 row(s) affected)"
                    },
                    "metadata": {}
                },
                {
                    "output_type": "display_data",
                    "data": {
                        "text/html": "Total execution time: 00:00:01.014"
                    },
                    "metadata": {}
                },
                {
                    "output_type": "execute_result",
                    "metadata": {},
                    "execution_count": 16,
                    "data": {
                        "application/vnd.dataresource+json": {
                            "schema": {
                                "fields": [
                                    {
                                        "name": "ventas_id"
                                    },
                                    {
                                        "name": "Fecha"
                                    },
                                    {
                                        "name": "ID_local"
                                    },
                                    {
                                        "name": "clave_producto"
                                    },
                                    {
                                        "name": "venta"
                                    },
                                    {
                                        "name": "venta_empleado"
                                    }
                                ]
                            },
                            "data": [
                                {
                                    "ventas_id": "6",
                                    "Fecha": "2018-12-15 00:00:00",
                                    "ID_local": "3",
                                    "clave_producto": "pzz",
                                    "venta": "544",
                                    "venta_empleado": "9611338"
                                },
                                {
                                    "ventas_id": "15",
                                    "Fecha": "2019-12-15 00:00:00",
                                    "ID_local": "1",
                                    "clave_producto": "brr",
                                    "venta": "871",
                                    "venta_empleado": "2520477"
                                },
                                {
                                    "ventas_id": "4",
                                    "Fecha": "2018-10-30 00:00:00",
                                    "ID_local": "1",
                                    "clave_producto": "brr",
                                    "venta": "889",
                                    "venta_empleado": "9922377"
                                },
                                {
                                    "ventas_id": "2",
                                    "Fecha": "2018-09-17 00:00:00",
                                    "ID_local": "2",
                                    "clave_producto": "clz",
                                    "venta": "953",
                                    "venta_empleado": "2310967"
                                },
                                {
                                    "ventas_id": "18",
                                    "Fecha": "2019-12-14 00:00:00",
                                    "ID_local": "3",
                                    "clave_producto": "pzz",
                                    "venta": "957",
                                    "venta_empleado": "2310967"
                                },
                                {
                                    "ventas_id": "19",
                                    "Fecha": "2019-08-14 00:00:00",
                                    "ID_local": "2",
                                    "clave_producto": "clz",
                                    "venta": "972",
                                    "venta_empleado": "2310967"
                                }
                            ]
                        },
                        "text/html": [
                            "<table>",
                            "<tr><th>ventas_id</th><th>Fecha</th><th>ID_local</th><th>clave_producto</th><th>venta</th><th>venta_empleado</th></tr>",
                            "<tr><td>6</td><td>2018-12-15 00:00:00</td><td>3</td><td>pzz</td><td>544</td><td>9611338</td></tr>",
                            "<tr><td>15</td><td>2019-12-15 00:00:00</td><td>1</td><td>brr</td><td>871</td><td>2520477</td></tr>",
                            "<tr><td>4</td><td>2018-10-30 00:00:00</td><td>1</td><td>brr</td><td>889</td><td>9922377</td></tr>",
                            "<tr><td>2</td><td>2018-09-17 00:00:00</td><td>2</td><td>clz</td><td>953</td><td>2310967</td></tr>",
                            "<tr><td>18</td><td>2019-12-14 00:00:00</td><td>3</td><td>pzz</td><td>957</td><td>2310967</td></tr>",
                            "<tr><td>19</td><td>2019-08-14 00:00:00</td><td>2</td><td>clz</td><td>972</td><td>2310967</td></tr>",
                            "</table>"
                        ]
                    }
                }
            ],
            "execution_count": 16
        },
        {
            "cell_type": "code",
            "source": [
                "SELECT * \r\n",
                "FROM ventas \r\n",
                "WHERE clave_producto = 'z';"
            ],
            "metadata": {
                "azdata_cell_guid": "7fa8a7ed-e51a-4901-973f-9cd57a2d36a2",
                "language": "sql"
            },
            "outputs": [
{
    "output_type": "display_data",
    "data": {
        "text/html": "(0 row(s) affected)"
    },
    "metadata": {}
}, {
    "output_type": "display_data",
    "data": {
        "text/html": "Total execution time: 00:00:01.017"
    },
    "metadata": {}
}, {
    "output_type": "execute_result",
    "metadata": {},
    "execution_count": 17,
    "data": {
        "application/vnd.dataresource+json": {
            "schema": {
                "fields": [
                    {
                        "name": "ventas_id"
                    },
                    {
                        "name": "Fecha"
                    },
                    {
                        "name": "ID_local"
                    },
                    {
                        "name": "clave_producto"
                    },
                    {
                        "name": "venta"
                    },
                    {
                        "name": "venta_empleado"
                    }
                ]
            },
            "data": []
        },
        "text/html": [
            "<table>",
            "<tr><th>ventas_id</th><th>Fecha</th><th>ID_local</th><th>clave_producto</th><th>venta</th><th>venta_empleado</th></tr>",
            "</table>"
        ]
    }
}
],
            "execution_count": 17
        }
    ]
}