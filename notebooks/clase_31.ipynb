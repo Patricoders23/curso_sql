{
    "metadata": {
        "kernelspec": {
            "name": "SQL",
            "display_name": "SQL",
            "language": "sql"
        },
        "language_info": {
            "name": "sql",
            "version": ""
        }
    },
    "nbformat_minor": 2,
    "nbformat": 4,
    "cells": [
        {
            "cell_type": "markdown",
            "source": [
                "#  CONSULTAS DE SQL"
            ],
            "metadata": {
                "azdata_cell_guid": "bcb28214-b41b-4a7a-901e-b1e36c4f5b46"
            },
            "attachments": {}
        },
        {
            "cell_type": "markdown",
            "source": [
                "## Las consultas se realizan en AZURE DATA STUDIO con la conexión desde MySQL Workbench"
            ],
            "metadata": {
                "azdata_cell_guid": "d47ea055-01f7-437e-a5d3-16a06ab56041"
            },
            "attachments": {}
        },
        {
            "cell_type": "code",
            "source": [
                "USE datos;\r\n",
                "\r\n",
                "SELECT * \r\n",
                "FROM empleados;"
            ],
            "metadata": {
                "azdata_cell_guid": "e5e66f92-c336-412a-ac4e-319f9cb738bf",
                "language": "sql",
                "tags": []
            },
            "outputs": [
                {
                    "output_type": "display_data",
                    "data": {
                        "text/html": "Commands completed successfully"
                    },
                    "metadata": {}
                },
                {
                    "output_type": "display_data",
                    "data": {
                        "text/html": "(11 row(s) affected)"
                    },
                    "metadata": {}
                },
                {
                    "output_type": "display_data",
                    "data": {
                        "text/html": "Total execution time: 00:00:01.009"
                    },
                    "metadata": {}
                },
                {
                    "output_type": "execute_result",
                    "execution_count": 1,
                    "data": {
                        "application/vnd.dataresource+json": {
                            "schema": {
                                "fields": [
                                    {
                                        "name": "ID_empleado"
                                    },
                                    {
                                        "name": "Nombre"
                                    },
                                    {
                                        "name": "Apellido"
                                    },
                                    {
                                        "name": "Telefono"
                                    },
                                    {
                                        "name": "Edad"
                                    },
                                    {
                                        "name": "Domicilio"
                                    },
                                    {
                                        "name": "ID_Gerente"
                                    }
                                ]
                            },
                            "data": [
                                {
                                    "ID_empleado": "1111222",
                                    "Nombre": "Alberto",
                                    "Apellido": "Barrientos",
                                    "Telefono": "34766613",
                                    "Edad": "26",
                                    "Domicilio": "Federal 233",
                                    "ID_Gerente": "5942572"
                                },
                                {
                                    "ID_empleado": "2310967",
                                    "Nombre": "Jairo",
                                    "Apellido": "Mira",
                                    "Telefono": "36403810",
                                    "Edad": "29",
                                    "Domicilio": "Calle 25 interior 2",
                                    "ID_Gerente": "5942572"
                                },
                                {
                                    "ID_empleado": "2520477",
                                    "Nombre": "Egidio",
                                    "Apellido": "Lopez",
                                    "Telefono": "33444383",
                                    "Edad": "24",
                                    "Domicilio": "Rosas 996",
                                    "ID_Gerente": "5942572"
                                },
                                {
                                    "ID_empleado": "2630867",
                                    "Nombre": "Elena",
                                    "Apellido": "Atehortua",
                                    "Telefono": "35581732",
                                    "Edad": "37",
                                    "Domicilio": "Sierra del tigre 299",
                                    "ID_Gerente": "5942572"
                                },
                                {
                                    "ID_empleado": "3833745",
                                    "Nombre": "Maria",
                                    "Apellido": "Zapata",
                                    "Telefono": "35354455",
                                    "Edad": "34",
                                    "Domicilio": "Boulevard 85",
                                    "ID_Gerente": "5942572"
                                },
                                {
                                    "ID_empleado": "4245367",
                                    "Nombre": "Alexandra",
                                    "Apellido": "Zapata",
                                    "Telefono": "33467136",
                                    "Edad": "31",
                                    "Domicilio": "Ingenieros 234",
                                    "ID_Gerente": "5942572"
                                },
                                {
                                    "ID_empleado": "5942572",
                                    "Nombre": "Jesus",
                                    "Apellido": "Agudelo",
                                    "Telefono": "34616222",
                                    "Edad": "35",
                                    "Domicilio": "NULL",
                                    "ID_Gerente": "NULL"
                                },
                                {
                                    "ID_empleado": "6332756",
                                    "Nombre": "Reinaldo",
                                    "Apellido": "Gonzalez",
                                    "Telefono": "36642727",
                                    "Edad": "43",
                                    "Domicilio": "Vallarta 711",
                                    "ID_Gerente": "5942572"
                                },
                                {
                                    "ID_empleado": "6931035",
                                    "Nombre": "Albeiro",
                                    "Apellido": "Villa",
                                    "Telefono": "33631010",
                                    "Edad": "39",
                                    "Domicilio": "Carniceros 233",
                                    "ID_Gerente": "5942572"
                                },
                                {
                                    "ID_empleado": "9611338",
                                    "Nombre": "Haygnes",
                                    "Apellido": "Ortiz",
                                    "Telefono": "35400189",
                                    "Edad": "27",
                                    "Domicilio": "General Diaz 343",
                                    "ID_Gerente": "5942572"
                                },
                                {
                                    "ID_empleado": "9922377",
                                    "Nombre": "Alexander",
                                    "Apellido": "Martinez",
                                    "Telefono": "36554872",
                                    "Edad": "28",
                                    "Domicilio": "Camino viejo 123",
                                    "ID_Gerente": "5942572"
                                }
                            ]
                        },
                        "text/html": "<table><tr><th>ID_empleado</th><th>Nombre</th><th>Apellido</th><th>Telefono</th><th>Edad</th><th>Domicilio</th><th>ID_Gerente</th></tr><tr><td>1111222</td><td>Alberto</td><td>Barrientos</td><td>34766613</td><td>26</td><td>Federal 233</td><td>5942572</td></tr><tr><td>2310967</td><td>Jairo</td><td>Mira</td><td>36403810</td><td>29</td><td>Calle 25 interior 2</td><td>5942572</td></tr><tr><td>2520477</td><td>Egidio</td><td>Lopez</td><td>33444383</td><td>24</td><td>Rosas 996</td><td>5942572</td></tr><tr><td>2630867</td><td>Elena</td><td>Atehortua</td><td>35581732</td><td>37</td><td>Sierra del tigre 299</td><td>5942572</td></tr><tr><td>3833745</td><td>Maria</td><td>Zapata</td><td>35354455</td><td>34</td><td>Boulevard 85</td><td>5942572</td></tr><tr><td>4245367</td><td>Alexandra</td><td>Zapata</td><td>33467136</td><td>31</td><td>Ingenieros 234</td><td>5942572</td></tr><tr><td>5942572</td><td>Jesus</td><td>Agudelo</td><td>34616222</td><td>35</td><td>NULL</td><td>NULL</td></tr><tr><td>6332756</td><td>Reinaldo</td><td>Gonzalez</td><td>36642727</td><td>43</td><td>Vallarta 711</td><td>5942572</td></tr><tr><td>6931035</td><td>Albeiro</td><td>Villa</td><td>33631010</td><td>39</td><td>Carniceros 233</td><td>5942572</td></tr><tr><td>9611338</td><td>Haygnes</td><td>Ortiz</td><td>35400189</td><td>27</td><td>General Diaz 343</td><td>5942572</td></tr><tr><td>9922377</td><td>Alexander</td><td>Martinez</td><td>36554872</td><td>28</td><td>Camino viejo 123</td><td>5942572</td></tr></table>"
                    },
                    "metadata": {}
                }
            ],
            "execution_count": 1
        },
        {
            "cell_type": "code",
            "source": [
                "#De mi base de datos 'datos' selecciono toda la tabla 'ventas'\r\n",
                "SELECT * FROM datos.ventas;"
            ],
            "metadata": {
                "azdata_cell_guid": "daa4d50f-1b89-4c89-9bf2-1baaf7021a72",
                "language": "sql"
            },
            "outputs": [
                {
                    "output_type": "display_data",
                    "data": {
                        "text/html": "(22 row(s) affected)"
                    },
                    "metadata": {}
                },
                {
                    "output_type": "display_data",
                    "data": {
                        "text/html": "Total execution time: 00:00:01.003"
                    },
                    "metadata": {}
                },
                {
                    "output_type": "execute_result",
                    "execution_count": 4,
                    "data": {
                        "application/vnd.dataresource+json": {
                            "schema": {
                                "fields": [
                                    {
                                        "name": "ventas_id"
                                    },
                                    {
                                        "name": "Fecha"
                                    },
                                    {
                                        "name": "ID_local"
                                    },
                                    {
                                        "name": "clave_producto"
                                    },
                                    {
                                        "name": "venta"
                                    },
                                    {
                                        "name": "venta_empleado"
                                    }
                                ]
                            },
                            "data": [
                                {
                                    "ventas_id": "1",
                                    "Fecha": "2018-11-18 00:00:00",
                                    "ID_local": "2",
                                    "clave_producto": "pzz",
                                    "venta": "1302",
                                    "venta_empleado": "2630867"
                                },
                                {
                                    "ventas_id": "2",
                                    "Fecha": "2018-09-17 00:00:00",
                                    "ID_local": "2",
                                    "clave_producto": "clz",
                                    "venta": "953",
                                    "venta_empleado": "2310967"
                                },
                                {
                                    "ventas_id": "3",
                                    "Fecha": "2018-10-18 00:00:00",
                                    "ID_local": "4",
                                    "clave_producto": "brr",
                                    "venta": "1286",
                                    "venta_empleado": "6931035"
                                },
                                {
                                    "ventas_id": "4",
                                    "Fecha": "2018-10-30 00:00:00",
                                    "ID_local": "1",
                                    "clave_producto": "brr",
                                    "venta": "889",
                                    "venta_empleado": "9922377"
                                },
                                {
                                    "ventas_id": "5",
                                    "Fecha": "2018-05-16 00:00:00",
                                    "ID_local": "1",
                                    "clave_producto": "qsd",
                                    "venta": "495",
                                    "venta_empleado": "2520477"
                                },
                                {
                                    "ventas_id": "6",
                                    "Fecha": "2018-12-15 00:00:00",
                                    "ID_local": "3",
                                    "clave_producto": "pzz",
                                    "venta": "544",
                                    "venta_empleado": "9611338"
                                },
                                {
                                    "ventas_id": "7",
                                    "Fecha": "2018-07-28 00:00:00",
                                    "ID_local": "4",
                                    "clave_producto": "pzz",
                                    "venta": "1444",
                                    "venta_empleado": "6332756"
                                },
                                {
                                    "ventas_id": "8",
                                    "Fecha": "2018-10-05 00:00:00",
                                    "ID_local": "1",
                                    "clave_producto": "pzz",
                                    "venta": "435",
                                    "venta_empleado": "2520477"
                                },
                                {
                                    "ventas_id": "9",
                                    "Fecha": "2018-04-20 00:00:00",
                                    "ID_local": "1",
                                    "clave_producto": "qsd",
                                    "venta": "1203",
                                    "venta_empleado": "9922377"
                                },
                                {
                                    "ventas_id": "10",
                                    "Fecha": "2018-06-08 00:00:00",
                                    "ID_local": "1",
                                    "clave_producto": "brr",
                                    "venta": "1038",
                                    "venta_empleado": "6332756"
                                },
                                {
                                    "ventas_id": "11",
                                    "Fecha": "2018-08-22 00:00:00",
                                    "ID_local": "1",
                                    "clave_producto": "brr",
                                    "venta": "404",
                                    "venta_empleado": "3833745"
                                },
                                {
                                    "ventas_id": "12",
                                    "Fecha": "2019-09-03 00:00:00",
                                    "ID_local": "1",
                                    "clave_producto": "pzz",
                                    "venta": "1362",
                                    "venta_empleado": "5728566"
                                },
                                {
                                    "ventas_id": "13",
                                    "Fecha": "2019-07-16 00:00:00",
                                    "ID_local": "3",
                                    "clave_producto": "qsd",
                                    "venta": "1054",
                                    "venta_empleado": "2310967"
                                },
                                {
                                    "ventas_id": "14",
                                    "Fecha": "2019-08-27 00:00:00",
                                    "ID_local": "3",
                                    "clave_producto": "clz",
                                    "venta": "303",
                                    "venta_empleado": "3833745"
                                },
                                {
                                    "ventas_id": "15",
                                    "Fecha": "2019-12-15 00:00:00",
                                    "ID_local": "1",
                                    "clave_producto": "brr",
                                    "venta": "871",
                                    "venta_empleado": "2520477"
                                },
                                {
                                    "ventas_id": "16",
                                    "Fecha": "2019-07-30 00:00:00",
                                    "ID_local": "3",
                                    "clave_producto": "brr",
                                    "venta": "1062",
                                    "venta_empleado": "5728566"
                                },
                                {
                                    "ventas_id": "17",
                                    "Fecha": "2019-10-25 00:00:00",
                                    "ID_local": "1",
                                    "clave_producto": "pzz",
                                    "venta": "1376",
                                    "venta_empleado": "6332756"
                                },
                                {
                                    "ventas_id": "18",
                                    "Fecha": "2019-12-14 00:00:00",
                                    "ID_local": "3",
                                    "clave_producto": "pzz",
                                    "venta": "957",
                                    "venta_empleado": "2310967"
                                },
                                {
                                    "ventas_id": "19",
                                    "Fecha": "2019-08-14 00:00:00",
                                    "ID_local": "2",
                                    "clave_producto": "clz",
                                    "venta": "972",
                                    "venta_empleado": "2310967"
                                },
                                {
                                    "ventas_id": "20",
                                    "Fecha": "2019-12-01 00:00:00",
                                    "ID_local": "1",
                                    "clave_producto": "pzz",
                                    "venta": "1455",
                                    "venta_empleado": "2310967"
                                },
                                {
                                    "ventas_id": "21",
                                    "Fecha": "2019-06-08 00:00:00",
                                    "ID_local": "4",
                                    "clave_producto": "qsd",
                                    "venta": "497",
                                    "venta_empleado": "5728566"
                                },
                                {
                                    "ventas_id": "22",
                                    "Fecha": "2019-07-25 00:00:00",
                                    "ID_local": "3",
                                    "clave_producto": "clz",
                                    "venta": "1179",
                                    "venta_empleado": "2310967"
                                }
                            ]
                        },
                        "text/html": "<table><tr><th>ventas_id</th><th>Fecha</th><th>ID_local</th><th>clave_producto</th><th>venta</th><th>venta_empleado</th></tr><tr><td>1</td><td>2018-11-18 00:00:00</td><td>2</td><td>pzz</td><td>1302</td><td>2630867</td></tr><tr><td>2</td><td>2018-09-17 00:00:00</td><td>2</td><td>clz</td><td>953</td><td>2310967</td></tr><tr><td>3</td><td>2018-10-18 00:00:00</td><td>4</td><td>brr</td><td>1286</td><td>6931035</td></tr><tr><td>4</td><td>2018-10-30 00:00:00</td><td>1</td><td>brr</td><td>889</td><td>9922377</td></tr><tr><td>5</td><td>2018-05-16 00:00:00</td><td>1</td><td>qsd</td><td>495</td><td>2520477</td></tr><tr><td>6</td><td>2018-12-15 00:00:00</td><td>3</td><td>pzz</td><td>544</td><td>9611338</td></tr><tr><td>7</td><td>2018-07-28 00:00:00</td><td>4</td><td>pzz</td><td>1444</td><td>6332756</td></tr><tr><td>8</td><td>2018-10-05 00:00:00</td><td>1</td><td>pzz</td><td>435</td><td>2520477</td></tr><tr><td>9</td><td>2018-04-20 00:00:00</td><td>1</td><td>qsd</td><td>1203</td><td>9922377</td></tr><tr><td>10</td><td>2018-06-08 00:00:00</td><td>1</td><td>brr</td><td>1038</td><td>6332756</td></tr><tr><td>11</td><td>2018-08-22 00:00:00</td><td>1</td><td>brr</td><td>404</td><td>3833745</td></tr><tr><td>12</td><td>2019-09-03 00:00:00</td><td>1</td><td>pzz</td><td>1362</td><td>5728566</td></tr><tr><td>13</td><td>2019-07-16 00:00:00</td><td>3</td><td>qsd</td><td>1054</td><td>2310967</td></tr><tr><td>14</td><td>2019-08-27 00:00:00</td><td>3</td><td>clz</td><td>303</td><td>3833745</td></tr><tr><td>15</td><td>2019-12-15 00:00:00</td><td>1</td><td>brr</td><td>871</td><td>2520477</td></tr><tr><td>16</td><td>2019-07-30 00:00:00</td><td>3</td><td>brr</td><td>1062</td><td>5728566</td></tr><tr><td>17</td><td>2019-10-25 00:00:00</td><td>1</td><td>pzz</td><td>1376</td><td>6332756</td></tr><tr><td>18</td><td>2019-12-14 00:00:00</td><td>3</td><td>pzz</td><td>957</td><td>2310967</td></tr><tr><td>19</td><td>2019-08-14 00:00:00</td><td>2</td><td>clz</td><td>972</td><td>2310967</td></tr><tr><td>20</td><td>2019-12-01 00:00:00</td><td>1</td><td>pzz</td><td>1455</td><td>2310967</td></tr><tr><td>21</td><td>2019-06-08 00:00:00</td><td>4</td><td>qsd</td><td>497</td><td>5728566</td></tr><tr><td>22</td><td>2019-07-25 00:00:00</td><td>3</td><td>clz</td><td>1179</td><td>2310967</td></tr></table>"
                    },
                    "metadata": {}
                }
            ],
            "execution_count": 4
        },
        {
            "cell_type": "code",
            "source": [
                "USE datos;\r\n",
                "SELECT * \r\n",
                "FROM ventas;"
            ],
            "metadata": {
                "azdata_cell_guid": "5d2e8719-e0f1-4f8e-904f-f497fb7109a6",
                "language": "sql"
            },
            "outputs": [
                {
                    "output_type": "display_data",
                    "data": {
                        "text/html": "Commands completed successfully"
                    },
                    "metadata": {}
                },
                {
                    "output_type": "display_data",
                    "data": {
                        "text/html": "(22 row(s) affected)"
                    },
                    "metadata": {}
                },
                {
                    "output_type": "display_data",
                    "data": {
                        "text/html": "Total execution time: 00:00:01.012"
                    },
                    "metadata": {}
                },
                {
                    "output_type": "execute_result",
                    "execution_count": 6,
                    "data": {
                        "application/vnd.dataresource+json": {
                            "schema": {
                                "fields": [
                                    {
                                        "name": "ventas_id"
                                    },
                                    {
                                        "name": "Fecha"
                                    },
                                    {
                                        "name": "ID_local"
                                    },
                                    {
                                        "name": "clave_producto"
                                    },
                                    {
                                        "name": "venta"
                                    },
                                    {
                                        "name": "venta_empleado"
                                    }
                                ]
                            },
                            "data": [
                                {
                                    "ventas_id": "1",
                                    "Fecha": "2018-11-18 00:00:00",
                                    "ID_local": "2",
                                    "clave_producto": "pzz",
                                    "venta": "1302",
                                    "venta_empleado": "2630867"
                                },
                                {
                                    "ventas_id": "2",
                                    "Fecha": "2018-09-17 00:00:00",
                                    "ID_local": "2",
                                    "clave_producto": "clz",
                                    "venta": "953",
                                    "venta_empleado": "2310967"
                                },
                                {
                                    "ventas_id": "3",
                                    "Fecha": "2018-10-18 00:00:00",
                                    "ID_local": "4",
                                    "clave_producto": "brr",
                                    "venta": "1286",
                                    "venta_empleado": "6931035"
                                },
                                {
                                    "ventas_id": "4",
                                    "Fecha": "2018-10-30 00:00:00",
                                    "ID_local": "1",
                                    "clave_producto": "brr",
                                    "venta": "889",
                                    "venta_empleado": "9922377"
                                },
                                {
                                    "ventas_id": "5",
                                    "Fecha": "2018-05-16 00:00:00",
                                    "ID_local": "1",
                                    "clave_producto": "qsd",
                                    "venta": "495",
                                    "venta_empleado": "2520477"
                                },
                                {
                                    "ventas_id": "6",
                                    "Fecha": "2018-12-15 00:00:00",
                                    "ID_local": "3",
                                    "clave_producto": "pzz",
                                    "venta": "544",
                                    "venta_empleado": "9611338"
                                },
                                {
                                    "ventas_id": "7",
                                    "Fecha": "2018-07-28 00:00:00",
                                    "ID_local": "4",
                                    "clave_producto": "pzz",
                                    "venta": "1444",
                                    "venta_empleado": "6332756"
                                },
                                {
                                    "ventas_id": "8",
                                    "Fecha": "2018-10-05 00:00:00",
                                    "ID_local": "1",
                                    "clave_producto": "pzz",
                                    "venta": "435",
                                    "venta_empleado": "2520477"
                                },
                                {
                                    "ventas_id": "9",
                                    "Fecha": "2018-04-20 00:00:00",
                                    "ID_local": "1",
                                    "clave_producto": "qsd",
                                    "venta": "1203",
                                    "venta_empleado": "9922377"
                                },
                                {
                                    "ventas_id": "10",
                                    "Fecha": "2018-06-08 00:00:00",
                                    "ID_local": "1",
                                    "clave_producto": "brr",
                                    "venta": "1038",
                                    "venta_empleado": "6332756"
                                },
                                {
                                    "ventas_id": "11",
                                    "Fecha": "2018-08-22 00:00:00",
                                    "ID_local": "1",
                                    "clave_producto": "brr",
                                    "venta": "404",
                                    "venta_empleado": "3833745"
                                },
                                {
                                    "ventas_id": "12",
                                    "Fecha": "2019-09-03 00:00:00",
                                    "ID_local": "1",
                                    "clave_producto": "pzz",
                                    "venta": "1362",
                                    "venta_empleado": "5728566"
                                },
                                {
                                    "ventas_id": "13",
                                    "Fecha": "2019-07-16 00:00:00",
                                    "ID_local": "3",
                                    "clave_producto": "qsd",
                                    "venta": "1054",
                                    "venta_empleado": "2310967"
                                },
                                {
                                    "ventas_id": "14",
                                    "Fecha": "2019-08-27 00:00:00",
                                    "ID_local": "3",
                                    "clave_producto": "clz",
                                    "venta": "303",
                                    "venta_empleado": "3833745"
                                },
                                {
                                    "ventas_id": "15",
                                    "Fecha": "2019-12-15 00:00:00",
                                    "ID_local": "1",
                                    "clave_producto": "brr",
                                    "venta": "871",
                                    "venta_empleado": "2520477"
                                },
                                {
                                    "ventas_id": "16",
                                    "Fecha": "2019-07-30 00:00:00",
                                    "ID_local": "3",
                                    "clave_producto": "brr",
                                    "venta": "1062",
                                    "venta_empleado": "5728566"
                                },
                                {
                                    "ventas_id": "17",
                                    "Fecha": "2019-10-25 00:00:00",
                                    "ID_local": "1",
                                    "clave_producto": "pzz",
                                    "venta": "1376",
                                    "venta_empleado": "6332756"
                                },
                                {
                                    "ventas_id": "18",
                                    "Fecha": "2019-12-14 00:00:00",
                                    "ID_local": "3",
                                    "clave_producto": "pzz",
                                    "venta": "957",
                                    "venta_empleado": "2310967"
                                },
                                {
                                    "ventas_id": "19",
                                    "Fecha": "2019-08-14 00:00:00",
                                    "ID_local": "2",
                                    "clave_producto": "clz",
                                    "venta": "972",
                                    "venta_empleado": "2310967"
                                },
                                {
                                    "ventas_id": "20",
                                    "Fecha": "2019-12-01 00:00:00",
                                    "ID_local": "1",
                                    "clave_producto": "pzz",
                                    "venta": "1455",
                                    "venta_empleado": "2310967"
                                },
                                {
                                    "ventas_id": "21",
                                    "Fecha": "2019-06-08 00:00:00",
                                    "ID_local": "4",
                                    "clave_producto": "qsd",
                                    "venta": "497",
                                    "venta_empleado": "5728566"
                                },
                                {
                                    "ventas_id": "22",
                                    "Fecha": "2019-07-25 00:00:00",
                                    "ID_local": "3",
                                    "clave_producto": "clz",
                                    "venta": "1179",
                                    "venta_empleado": "2310967"
                                }
                            ]
                        },
                        "text/html": "<table><tr><th>ventas_id</th><th>Fecha</th><th>ID_local</th><th>clave_producto</th><th>venta</th><th>venta_empleado</th></tr><tr><td>1</td><td>2018-11-18 00:00:00</td><td>2</td><td>pzz</td><td>1302</td><td>2630867</td></tr><tr><td>2</td><td>2018-09-17 00:00:00</td><td>2</td><td>clz</td><td>953</td><td>2310967</td></tr><tr><td>3</td><td>2018-10-18 00:00:00</td><td>4</td><td>brr</td><td>1286</td><td>6931035</td></tr><tr><td>4</td><td>2018-10-30 00:00:00</td><td>1</td><td>brr</td><td>889</td><td>9922377</td></tr><tr><td>5</td><td>2018-05-16 00:00:00</td><td>1</td><td>qsd</td><td>495</td><td>2520477</td></tr><tr><td>6</td><td>2018-12-15 00:00:00</td><td>3</td><td>pzz</td><td>544</td><td>9611338</td></tr><tr><td>7</td><td>2018-07-28 00:00:00</td><td>4</td><td>pzz</td><td>1444</td><td>6332756</td></tr><tr><td>8</td><td>2018-10-05 00:00:00</td><td>1</td><td>pzz</td><td>435</td><td>2520477</td></tr><tr><td>9</td><td>2018-04-20 00:00:00</td><td>1</td><td>qsd</td><td>1203</td><td>9922377</td></tr><tr><td>10</td><td>2018-06-08 00:00:00</td><td>1</td><td>brr</td><td>1038</td><td>6332756</td></tr><tr><td>11</td><td>2018-08-22 00:00:00</td><td>1</td><td>brr</td><td>404</td><td>3833745</td></tr><tr><td>12</td><td>2019-09-03 00:00:00</td><td>1</td><td>pzz</td><td>1362</td><td>5728566</td></tr><tr><td>13</td><td>2019-07-16 00:00:00</td><td>3</td><td>qsd</td><td>1054</td><td>2310967</td></tr><tr><td>14</td><td>2019-08-27 00:00:00</td><td>3</td><td>clz</td><td>303</td><td>3833745</td></tr><tr><td>15</td><td>2019-12-15 00:00:00</td><td>1</td><td>brr</td><td>871</td><td>2520477</td></tr><tr><td>16</td><td>2019-07-30 00:00:00</td><td>3</td><td>brr</td><td>1062</td><td>5728566</td></tr><tr><td>17</td><td>2019-10-25 00:00:00</td><td>1</td><td>pzz</td><td>1376</td><td>6332756</td></tr><tr><td>18</td><td>2019-12-14 00:00:00</td><td>3</td><td>pzz</td><td>957</td><td>2310967</td></tr><tr><td>19</td><td>2019-08-14 00:00:00</td><td>2</td><td>clz</td><td>972</td><td>2310967</td></tr><tr><td>20</td><td>2019-12-01 00:00:00</td><td>1</td><td>pzz</td><td>1455</td><td>2310967</td></tr><tr><td>21</td><td>2019-06-08 00:00:00</td><td>4</td><td>qsd</td><td>497</td><td>5728566</td></tr><tr><td>22</td><td>2019-07-25 00:00:00</td><td>3</td><td>clz</td><td>1179</td><td>2310967</td></tr></table>"
                    },
                    "metadata": {}
                }
            ],
            "execution_count": 6
        },
        {
            "cell_type": "markdown",
            "source": [
                "De latabla 'ventas' selecciono la columna 'venta'"
            ],
            "metadata": {
                "azdata_cell_guid": "3f011ca5-c759-49a2-89f6-7b4b62f589e7"
            },
            "attachments": {}
        },
        {
            "cell_type": "code",
            "source": [
                "SELECT venta \r\n",
                "FROM ventas;"
            ],
            "metadata": {
                "azdata_cell_guid": "e1779602-68c3-4fee-82fc-2d3393392e7a",
                "language": "sql"
            },
            "outputs": [
                {
                    "output_type": "display_data",
                    "data": {
                        "text/html": "(22 row(s) affected)"
                    },
                    "metadata": {}
                },
                {
                    "output_type": "display_data",
                    "data": {
                        "text/html": "Total execution time: 00:00:01.005"
                    },
                    "metadata": {}
                },
                {
                    "output_type": "execute_result",
                    "execution_count": 7,
                    "data": {
                        "application/vnd.dataresource+json": {
                            "schema": {
                                "fields": [
                                    {
                                        "name": "venta"
                                    }
                                ]
                            },
                            "data": [
                                {
                                    "venta": "303"
                                },
                                {
                                    "venta": "404"
                                },
                                {
                                    "venta": "435"
                                },
                                {
                                    "venta": "495"
                                },
                                {
                                    "venta": "497"
                                },
                                {
                                    "venta": "544"
                                },
                                {
                                    "venta": "871"
                                },
                                {
                                    "venta": "889"
                                },
                                {
                                    "venta": "953"
                                },
                                {
                                    "venta": "957"
                                },
                                {
                                    "venta": "972"
                                },
                                {
                                    "venta": "1038"
                                },
                                {
                                    "venta": "1054"
                                },
                                {
                                    "venta": "1062"
                                },
                                {
                                    "venta": "1179"
                                },
                                {
                                    "venta": "1203"
                                },
                                {
                                    "venta": "1286"
                                },
                                {
                                    "venta": "1302"
                                },
                                {
                                    "venta": "1362"
                                },
                                {
                                    "venta": "1376"
                                },
                                {
                                    "venta": "1444"
                                },
                                {
                                    "venta": "1455"
                                }
                            ]
                        },
                        "text/html": "<table><tr><th>venta</th></tr><tr><td>303</td></tr><tr><td>404</td></tr><tr><td>435</td></tr><tr><td>495</td></tr><tr><td>497</td></tr><tr><td>544</td></tr><tr><td>871</td></tr><tr><td>889</td></tr><tr><td>953</td></tr><tr><td>957</td></tr><tr><td>972</td></tr><tr><td>1038</td></tr><tr><td>1054</td></tr><tr><td>1062</td></tr><tr><td>1179</td></tr><tr><td>1203</td></tr><tr><td>1286</td></tr><tr><td>1302</td></tr><tr><td>1362</td></tr><tr><td>1376</td></tr><tr><td>1444</td></tr><tr><td>1455</td></tr></table>"
                    },
                    "metadata": {}
                }
            ],
            "execution_count": 7
        },
        {
            "cell_type": "markdown",
            "source": [
                "De la tabla <span style=\"color: #a31515;\">'ventas'</span> selecciono la columna <span style=\"color: #a31515;\">'venta'</span> y <span style=\"color: #a31515;\">'fecha'</span>"
            ],
            "metadata": {
                "azdata_cell_guid": "6d63ca1c-735c-4a7d-8050-c63b84d96d62"
            },
            "attachments": {}
        },
        {
            "cell_type": "code",
            "source": [
                "SELECT venta, fecha\r\n",
                "FROM ventas;"
            ],
            "metadata": {
                "azdata_cell_guid": "7171c470-a75a-407e-bf84-8aa5e144914b",
                "language": "sql"
            },
            "outputs": [
                {
                    "output_type": "display_data",
                    "data": {
                        "text/html": "(22 row(s) affected)"
                    },
                    "metadata": {}
                },
                {
                    "output_type": "display_data",
                    "data": {
                        "text/html": "Total execution time: 00:00:01.013"
                    },
                    "metadata": {}
                },
                {
                    "output_type": "execute_result",
                    "execution_count": 8,
                    "data": {
                        "application/vnd.dataresource+json": {
                            "schema": {
                                "fields": [
                                    {
                                        "name": "venta"
                                    },
                                    {
                                        "name": "fecha"
                                    }
                                ]
                            },
                            "data": [
                                {
                                    "venta": "1302",
                                    "fecha": "2018-11-18 00:00:00"
                                },
                                {
                                    "venta": "953",
                                    "fecha": "2018-09-17 00:00:00"
                                },
                                {
                                    "venta": "1286",
                                    "fecha": "2018-10-18 00:00:00"
                                },
                                {
                                    "venta": "889",
                                    "fecha": "2018-10-30 00:00:00"
                                },
                                {
                                    "venta": "495",
                                    "fecha": "2018-05-16 00:00:00"
                                },
                                {
                                    "venta": "544",
                                    "fecha": "2018-12-15 00:00:00"
                                },
                                {
                                    "venta": "1444",
                                    "fecha": "2018-07-28 00:00:00"
                                },
                                {
                                    "venta": "435",
                                    "fecha": "2018-10-05 00:00:00"
                                },
                                {
                                    "venta": "1203",
                                    "fecha": "2018-04-20 00:00:00"
                                },
                                {
                                    "venta": "1038",
                                    "fecha": "2018-06-08 00:00:00"
                                },
                                {
                                    "venta": "404",
                                    "fecha": "2018-08-22 00:00:00"
                                },
                                {
                                    "venta": "1362",
                                    "fecha": "2019-09-03 00:00:00"
                                },
                                {
                                    "venta": "1054",
                                    "fecha": "2019-07-16 00:00:00"
                                },
                                {
                                    "venta": "303",
                                    "fecha": "2019-08-27 00:00:00"
                                },
                                {
                                    "venta": "871",
                                    "fecha": "2019-12-15 00:00:00"
                                },
                                {
                                    "venta": "1062",
                                    "fecha": "2019-07-30 00:00:00"
                                },
                                {
                                    "venta": "1376",
                                    "fecha": "2019-10-25 00:00:00"
                                },
                                {
                                    "venta": "957",
                                    "fecha": "2019-12-14 00:00:00"
                                },
                                {
                                    "venta": "972",
                                    "fecha": "2019-08-14 00:00:00"
                                },
                                {
                                    "venta": "1455",
                                    "fecha": "2019-12-01 00:00:00"
                                },
                                {
                                    "venta": "497",
                                    "fecha": "2019-06-08 00:00:00"
                                },
                                {
                                    "venta": "1179",
                                    "fecha": "2019-07-25 00:00:00"
                                }
                            ]
                        },
                        "text/html": "<table><tr><th>venta</th><th>fecha</th></tr><tr><td>1302</td><td>2018-11-18 00:00:00</td></tr><tr><td>953</td><td>2018-09-17 00:00:00</td></tr><tr><td>1286</td><td>2018-10-18 00:00:00</td></tr><tr><td>889</td><td>2018-10-30 00:00:00</td></tr><tr><td>495</td><td>2018-05-16 00:00:00</td></tr><tr><td>544</td><td>2018-12-15 00:00:00</td></tr><tr><td>1444</td><td>2018-07-28 00:00:00</td></tr><tr><td>435</td><td>2018-10-05 00:00:00</td></tr><tr><td>1203</td><td>2018-04-20 00:00:00</td></tr><tr><td>1038</td><td>2018-06-08 00:00:00</td></tr><tr><td>404</td><td>2018-08-22 00:00:00</td></tr><tr><td>1362</td><td>2019-09-03 00:00:00</td></tr><tr><td>1054</td><td>2019-07-16 00:00:00</td></tr><tr><td>303</td><td>2019-08-27 00:00:00</td></tr><tr><td>871</td><td>2019-12-15 00:00:00</td></tr><tr><td>1062</td><td>2019-07-30 00:00:00</td></tr><tr><td>1376</td><td>2019-10-25 00:00:00</td></tr><tr><td>957</td><td>2019-12-14 00:00:00</td></tr><tr><td>972</td><td>2019-08-14 00:00:00</td></tr><tr><td>1455</td><td>2019-12-01 00:00:00</td></tr><tr><td>497</td><td>2019-06-08 00:00:00</td></tr><tr><td>1179</td><td>2019-07-25 00:00:00</td></tr></table>"
                    },
                    "metadata": {}
                }
            ],
            "execution_count": 8
        },
        {
            "cell_type": "markdown",
            "source": [
                "Creo una nueva columna, 'venta\\*0,16' de la tabla 'ventas'"
            ],
            "metadata": {
                "azdata_cell_guid": "71de72eb-808e-4613-ae4b-4dc4b7739e49"
            },
            "attachments": {}
        },
        {
            "cell_type": "code",
            "source": [
                "SELECT venta, fecha, venta*0.16\r\n",
                "FROM ventas;"
            ],
            "metadata": {
                "azdata_cell_guid": "250f578c-edb2-439b-8d59-9b80553d67ff",
                "language": "sql"
            },
            "outputs": [
                {
                    "output_type": "display_data",
                    "data": {
                        "text/html": "(22 row(s) affected)"
                    },
                    "metadata": {}
                },
                {
                    "output_type": "display_data",
                    "data": {
                        "text/html": "Total execution time: 00:00:01.004"
                    },
                    "metadata": {}
                },
                {
                    "output_type": "execute_result",
                    "execution_count": 10,
                    "data": {
                        "application/vnd.dataresource+json": {
                            "schema": {
                                "fields": [
                                    {
                                        "name": "venta"
                                    },
                                    {
                                        "name": "fecha"
                                    },
                                    {
                                        "name": "venta*0.16"
                                    }
                                ]
                            },
                            "data": [
                                {
                                    "venta": "1302",
                                    "fecha": "2018-11-18 00:00:00",
                                    "venta*0.16": "208.32"
                                },
                                {
                                    "venta": "953",
                                    "fecha": "2018-09-17 00:00:00",
                                    "venta*0.16": "152.48"
                                },
                                {
                                    "venta": "1286",
                                    "fecha": "2018-10-18 00:00:00",
                                    "venta*0.16": "205.76"
                                },
                                {
                                    "venta": "889",
                                    "fecha": "2018-10-30 00:00:00",
                                    "venta*0.16": "142.24"
                                },
                                {
                                    "venta": "495",
                                    "fecha": "2018-05-16 00:00:00",
                                    "venta*0.16": "79.20"
                                },
                                {
                                    "venta": "544",
                                    "fecha": "2018-12-15 00:00:00",
                                    "venta*0.16": "87.04"
                                },
                                {
                                    "venta": "1444",
                                    "fecha": "2018-07-28 00:00:00",
                                    "venta*0.16": "231.04"
                                },
                                {
                                    "venta": "435",
                                    "fecha": "2018-10-05 00:00:00",
                                    "venta*0.16": "69.60"
                                },
                                {
                                    "venta": "1203",
                                    "fecha": "2018-04-20 00:00:00",
                                    "venta*0.16": "192.48"
                                },
                                {
                                    "venta": "1038",
                                    "fecha": "2018-06-08 00:00:00",
                                    "venta*0.16": "166.08"
                                },
                                {
                                    "venta": "404",
                                    "fecha": "2018-08-22 00:00:00",
                                    "venta*0.16": "64.64"
                                },
                                {
                                    "venta": "1362",
                                    "fecha": "2019-09-03 00:00:00",
                                    "venta*0.16": "217.92"
                                },
                                {
                                    "venta": "1054",
                                    "fecha": "2019-07-16 00:00:00",
                                    "venta*0.16": "168.64"
                                },
                                {
                                    "venta": "303",
                                    "fecha": "2019-08-27 00:00:00",
                                    "venta*0.16": "48.48"
                                },
                                {
                                    "venta": "871",
                                    "fecha": "2019-12-15 00:00:00",
                                    "venta*0.16": "139.36"
                                },
                                {
                                    "venta": "1062",
                                    "fecha": "2019-07-30 00:00:00",
                                    "venta*0.16": "169.92"
                                },
                                {
                                    "venta": "1376",
                                    "fecha": "2019-10-25 00:00:00",
                                    "venta*0.16": "220.16"
                                },
                                {
                                    "venta": "957",
                                    "fecha": "2019-12-14 00:00:00",
                                    "venta*0.16": "153.12"
                                },
                                {
                                    "venta": "972",
                                    "fecha": "2019-08-14 00:00:00",
                                    "venta*0.16": "155.52"
                                },
                                {
                                    "venta": "1455",
                                    "fecha": "2019-12-01 00:00:00",
                                    "venta*0.16": "232.80"
                                },
                                {
                                    "venta": "497",
                                    "fecha": "2019-06-08 00:00:00",
                                    "venta*0.16": "79.52"
                                },
                                {
                                    "venta": "1179",
                                    "fecha": "2019-07-25 00:00:00",
                                    "venta*0.16": "188.64"
                                }
                            ]
                        },
                        "text/html": "<table><tr><th>venta</th><th>fecha</th><th>venta*0.16</th></tr><tr><td>1302</td><td>2018-11-18 00:00:00</td><td>208.32</td></tr><tr><td>953</td><td>2018-09-17 00:00:00</td><td>152.48</td></tr><tr><td>1286</td><td>2018-10-18 00:00:00</td><td>205.76</td></tr><tr><td>889</td><td>2018-10-30 00:00:00</td><td>142.24</td></tr><tr><td>495</td><td>2018-05-16 00:00:00</td><td>79.20</td></tr><tr><td>544</td><td>2018-12-15 00:00:00</td><td>87.04</td></tr><tr><td>1444</td><td>2018-07-28 00:00:00</td><td>231.04</td></tr><tr><td>435</td><td>2018-10-05 00:00:00</td><td>69.60</td></tr><tr><td>1203</td><td>2018-04-20 00:00:00</td><td>192.48</td></tr><tr><td>1038</td><td>2018-06-08 00:00:00</td><td>166.08</td></tr><tr><td>404</td><td>2018-08-22 00:00:00</td><td>64.64</td></tr><tr><td>1362</td><td>2019-09-03 00:00:00</td><td>217.92</td></tr><tr><td>1054</td><td>2019-07-16 00:00:00</td><td>168.64</td></tr><tr><td>303</td><td>2019-08-27 00:00:00</td><td>48.48</td></tr><tr><td>871</td><td>2019-12-15 00:00:00</td><td>139.36</td></tr><tr><td>1062</td><td>2019-07-30 00:00:00</td><td>169.92</td></tr><tr><td>1376</td><td>2019-10-25 00:00:00</td><td>220.16</td></tr><tr><td>957</td><td>2019-12-14 00:00:00</td><td>153.12</td></tr><tr><td>972</td><td>2019-08-14 00:00:00</td><td>155.52</td></tr><tr><td>1455</td><td>2019-12-01 00:00:00</td><td>232.80</td></tr><tr><td>497</td><td>2019-06-08 00:00:00</td><td>79.52</td></tr><tr><td>1179</td><td>2019-07-25 00:00:00</td><td>188.64</td></tr></table>"
                    },
                    "metadata": {}
                }
            ],
            "execution_count": 10
        },
        {
            "cell_type": "markdown",
            "source": [
                "Renombro a la nueva columna 'venta\\*0,16', de la tabla 'ventas', como 'IVA\\_cobrado' usando 'AS' que es un alias"
            ],
            "metadata": {
                "azdata_cell_guid": "07313ae1-fab0-4548-adc1-bffa8741582b"
            },
            "attachments": {}
        },
        {
            "cell_type": "code",
            "source": [
                "SELECT venta, fecha, venta*0.16 AS IVA_cobrado\r\n",
                "FROM ventas;"
            ],
            "metadata": {
                "azdata_cell_guid": "a9a96933-c5f4-4c98-9a3f-a8e0b14a2182",
                "language": "sql"
            },
            "outputs": [
                {
                    "output_type": "display_data",
                    "data": {
                        "text/html": "(22 row(s) affected)"
                    },
                    "metadata": {}
                },
                {
                    "output_type": "display_data",
                    "data": {
                        "text/html": "Total execution time: 00:00:01.012"
                    },
                    "metadata": {}
                },
                {
                    "output_type": "execute_result",
                    "execution_count": 11,
                    "data": {
                        "application/vnd.dataresource+json": {
                            "schema": {
                                "fields": [
                                    {
                                        "name": "venta"
                                    },
                                    {
                                        "name": "fecha"
                                    },
                                    {
                                        "name": "IVA_cobrado"
                                    }
                                ]
                            },
                            "data": [
                                {
                                    "venta": "1302",
                                    "fecha": "2018-11-18 00:00:00",
                                    "IVA_cobrado": "208.32"
                                },
                                {
                                    "venta": "953",
                                    "fecha": "2018-09-17 00:00:00",
                                    "IVA_cobrado": "152.48"
                                },
                                {
                                    "venta": "1286",
                                    "fecha": "2018-10-18 00:00:00",
                                    "IVA_cobrado": "205.76"
                                },
                                {
                                    "venta": "889",
                                    "fecha": "2018-10-30 00:00:00",
                                    "IVA_cobrado": "142.24"
                                },
                                {
                                    "venta": "495",
                                    "fecha": "2018-05-16 00:00:00",
                                    "IVA_cobrado": "79.20"
                                },
                                {
                                    "venta": "544",
                                    "fecha": "2018-12-15 00:00:00",
                                    "IVA_cobrado": "87.04"
                                },
                                {
                                    "venta": "1444",
                                    "fecha": "2018-07-28 00:00:00",
                                    "IVA_cobrado": "231.04"
                                },
                                {
                                    "venta": "435",
                                    "fecha": "2018-10-05 00:00:00",
                                    "IVA_cobrado": "69.60"
                                },
                                {
                                    "venta": "1203",
                                    "fecha": "2018-04-20 00:00:00",
                                    "IVA_cobrado": "192.48"
                                },
                                {
                                    "venta": "1038",
                                    "fecha": "2018-06-08 00:00:00",
                                    "IVA_cobrado": "166.08"
                                },
                                {
                                    "venta": "404",
                                    "fecha": "2018-08-22 00:00:00",
                                    "IVA_cobrado": "64.64"
                                },
                                {
                                    "venta": "1362",
                                    "fecha": "2019-09-03 00:00:00",
                                    "IVA_cobrado": "217.92"
                                },
                                {
                                    "venta": "1054",
                                    "fecha": "2019-07-16 00:00:00",
                                    "IVA_cobrado": "168.64"
                                },
                                {
                                    "venta": "303",
                                    "fecha": "2019-08-27 00:00:00",
                                    "IVA_cobrado": "48.48"
                                },
                                {
                                    "venta": "871",
                                    "fecha": "2019-12-15 00:00:00",
                                    "IVA_cobrado": "139.36"
                                },
                                {
                                    "venta": "1062",
                                    "fecha": "2019-07-30 00:00:00",
                                    "IVA_cobrado": "169.92"
                                },
                                {
                                    "venta": "1376",
                                    "fecha": "2019-10-25 00:00:00",
                                    "IVA_cobrado": "220.16"
                                },
                                {
                                    "venta": "957",
                                    "fecha": "2019-12-14 00:00:00",
                                    "IVA_cobrado": "153.12"
                                },
                                {
                                    "venta": "972",
                                    "fecha": "2019-08-14 00:00:00",
                                    "IVA_cobrado": "155.52"
                                },
                                {
                                    "venta": "1455",
                                    "fecha": "2019-12-01 00:00:00",
                                    "IVA_cobrado": "232.80"
                                },
                                {
                                    "venta": "497",
                                    "fecha": "2019-06-08 00:00:00",
                                    "IVA_cobrado": "79.52"
                                },
                                {
                                    "venta": "1179",
                                    "fecha": "2019-07-25 00:00:00",
                                    "IVA_cobrado": "188.64"
                                }
                            ]
                        },
                        "text/html": "<table><tr><th>venta</th><th>fecha</th><th>IVA_cobrado</th></tr><tr><td>1302</td><td>2018-11-18 00:00:00</td><td>208.32</td></tr><tr><td>953</td><td>2018-09-17 00:00:00</td><td>152.48</td></tr><tr><td>1286</td><td>2018-10-18 00:00:00</td><td>205.76</td></tr><tr><td>889</td><td>2018-10-30 00:00:00</td><td>142.24</td></tr><tr><td>495</td><td>2018-05-16 00:00:00</td><td>79.20</td></tr><tr><td>544</td><td>2018-12-15 00:00:00</td><td>87.04</td></tr><tr><td>1444</td><td>2018-07-28 00:00:00</td><td>231.04</td></tr><tr><td>435</td><td>2018-10-05 00:00:00</td><td>69.60</td></tr><tr><td>1203</td><td>2018-04-20 00:00:00</td><td>192.48</td></tr><tr><td>1038</td><td>2018-06-08 00:00:00</td><td>166.08</td></tr><tr><td>404</td><td>2018-08-22 00:00:00</td><td>64.64</td></tr><tr><td>1362</td><td>2019-09-03 00:00:00</td><td>217.92</td></tr><tr><td>1054</td><td>2019-07-16 00:00:00</td><td>168.64</td></tr><tr><td>303</td><td>2019-08-27 00:00:00</td><td>48.48</td></tr><tr><td>871</td><td>2019-12-15 00:00:00</td><td>139.36</td></tr><tr><td>1062</td><td>2019-07-30 00:00:00</td><td>169.92</td></tr><tr><td>1376</td><td>2019-10-25 00:00:00</td><td>220.16</td></tr><tr><td>957</td><td>2019-12-14 00:00:00</td><td>153.12</td></tr><tr><td>972</td><td>2019-08-14 00:00:00</td><td>155.52</td></tr><tr><td>1455</td><td>2019-12-01 00:00:00</td><td>232.80</td></tr><tr><td>497</td><td>2019-06-08 00:00:00</td><td>79.52</td></tr><tr><td>1179</td><td>2019-07-25 00:00:00</td><td>188.64</td></tr></table>"
                    },
                    "metadata": {}
                }
            ],
            "execution_count": 11
        },
        {
            "cell_type": "code",
            "source": [
                "SELECT fecha, venta\r\n",
                "FROM ventas\r\n",
                "WHERE ID_local = 2;"
            ],
            "metadata": {
                "azdata_cell_guid": "77126a6f-0fe8-4cd1-9cee-454d6d0d490c",
                "language": "sql"
            },
            "outputs": [
                {
                    "output_type": "display_data",
                    "data": {
                        "text/html": "(3 row(s) affected)"
                    },
                    "metadata": {}
                },
                {
                    "output_type": "display_data",
                    "data": {
                        "text/html": "Total execution time: 00:00:01.012"
                    },
                    "metadata": {}
                },
                {
                    "output_type": "execute_result",
                    "execution_count": 13,
                    "data": {
                        "application/vnd.dataresource+json": {
                            "schema": {
                                "fields": [
                                    {
                                        "name": "fecha"
                                    },
                                    {
                                        "name": "venta"
                                    }
                                ]
                            },
                            "data": [
                                {
                                    "fecha": "2018-11-18 00:00:00",
                                    "venta": "1302"
                                },
                                {
                                    "fecha": "2018-09-17 00:00:00",
                                    "venta": "953"
                                },
                                {
                                    "fecha": "2019-08-14 00:00:00",
                                    "venta": "972"
                                }
                            ]
                        },
                        "text/html": "<table><tr><th>fecha</th><th>venta</th></tr><tr><td>2018-11-18 00:00:00</td><td>1302</td></tr><tr><td>2018-09-17 00:00:00</td><td>953</td></tr><tr><td>2019-08-14 00:00:00</td><td>972</td></tr></table>"
                    },
                    "metadata": {}
                }
            ],
            "execution_count": 13
        },
        {
            "cell_type": "code",
            "source": [
                "SELECT * \r\n",
                "FROM ventas\r\n",
                "WHERE venta <= 1000;"
            ],
            "metadata": {
                "azdata_cell_guid": "a6b2d4bf-4715-406d-af60-6e959f03a2f4",
                "language": "sql"
            },
            "outputs": [
                {
                    "output_type": "display_data",
                    "data": {
                        "text/html": "(11 row(s) affected)"
                    },
                    "metadata": {}
                },
                {
                    "output_type": "display_data",
                    "data": {
                        "text/html": "Total execution time: 00:00:01.009"
                    },
                    "metadata": {}
                },
                {
                    "output_type": "execute_result",
                    "execution_count": 14,
                    "data": {
                        "application/vnd.dataresource+json": {
                            "schema": {
                                "fields": [
                                    {
                                        "name": "ventas_id"
                                    },
                                    {
                                        "name": "Fecha"
                                    },
                                    {
                                        "name": "ID_local"
                                    },
                                    {
                                        "name": "clave_producto"
                                    },
                                    {
                                        "name": "venta"
                                    },
                                    {
                                        "name": "venta_empleado"
                                    }
                                ]
                            },
                            "data": [
                                {
                                    "ventas_id": "14",
                                    "Fecha": "2019-08-27 00:00:00",
                                    "ID_local": "3",
                                    "clave_producto": "clz",
                                    "venta": "303",
                                    "venta_empleado": "3833745"
                                },
                                {
                                    "ventas_id": "11",
                                    "Fecha": "2018-08-22 00:00:00",
                                    "ID_local": "1",
                                    "clave_producto": "brr",
                                    "venta": "404",
                                    "venta_empleado": "3833745"
                                },
                                {
                                    "ventas_id": "8",
                                    "Fecha": "2018-10-05 00:00:00",
                                    "ID_local": "1",
                                    "clave_producto": "pzz",
                                    "venta": "435",
                                    "venta_empleado": "2520477"
                                },
                                {
                                    "ventas_id": "5",
                                    "Fecha": "2018-05-16 00:00:00",
                                    "ID_local": "1",
                                    "clave_producto": "qsd",
                                    "venta": "495",
                                    "venta_empleado": "2520477"
                                },
                                {
                                    "ventas_id": "21",
                                    "Fecha": "2019-06-08 00:00:00",
                                    "ID_local": "4",
                                    "clave_producto": "qsd",
                                    "venta": "497",
                                    "venta_empleado": "5728566"
                                },
                                {
                                    "ventas_id": "6",
                                    "Fecha": "2018-12-15 00:00:00",
                                    "ID_local": "3",
                                    "clave_producto": "pzz",
                                    "venta": "544",
                                    "venta_empleado": "9611338"
                                },
                                {
                                    "ventas_id": "15",
                                    "Fecha": "2019-12-15 00:00:00",
                                    "ID_local": "1",
                                    "clave_producto": "brr",
                                    "venta": "871",
                                    "venta_empleado": "2520477"
                                },
                                {
                                    "ventas_id": "4",
                                    "Fecha": "2018-10-30 00:00:00",
                                    "ID_local": "1",
                                    "clave_producto": "brr",
                                    "venta": "889",
                                    "venta_empleado": "9922377"
                                },
                                {
                                    "ventas_id": "2",
                                    "Fecha": "2018-09-17 00:00:00",
                                    "ID_local": "2",
                                    "clave_producto": "clz",
                                    "venta": "953",
                                    "venta_empleado": "2310967"
                                },
                                {
                                    "ventas_id": "18",
                                    "Fecha": "2019-12-14 00:00:00",
                                    "ID_local": "3",
                                    "clave_producto": "pzz",
                                    "venta": "957",
                                    "venta_empleado": "2310967"
                                },
                                {
                                    "ventas_id": "19",
                                    "Fecha": "2019-08-14 00:00:00",
                                    "ID_local": "2",
                                    "clave_producto": "clz",
                                    "venta": "972",
                                    "venta_empleado": "2310967"
                                }
                            ]
                        },
                        "text/html": "<table><tr><th>ventas_id</th><th>Fecha</th><th>ID_local</th><th>clave_producto</th><th>venta</th><th>venta_empleado</th></tr><tr><td>14</td><td>2019-08-27 00:00:00</td><td>3</td><td>clz</td><td>303</td><td>3833745</td></tr><tr><td>11</td><td>2018-08-22 00:00:00</td><td>1</td><td>brr</td><td>404</td><td>3833745</td></tr><tr><td>8</td><td>2018-10-05 00:00:00</td><td>1</td><td>pzz</td><td>435</td><td>2520477</td></tr><tr><td>5</td><td>2018-05-16 00:00:00</td><td>1</td><td>qsd</td><td>495</td><td>2520477</td></tr><tr><td>21</td><td>2019-06-08 00:00:00</td><td>4</td><td>qsd</td><td>497</td><td>5728566</td></tr><tr><td>6</td><td>2018-12-15 00:00:00</td><td>3</td><td>pzz</td><td>544</td><td>9611338</td></tr><tr><td>15</td><td>2019-12-15 00:00:00</td><td>1</td><td>brr</td><td>871</td><td>2520477</td></tr><tr><td>4</td><td>2018-10-30 00:00:00</td><td>1</td><td>brr</td><td>889</td><td>9922377</td></tr><tr><td>2</td><td>2018-09-17 00:00:00</td><td>2</td><td>clz</td><td>953</td><td>2310967</td></tr><tr><td>18</td><td>2019-12-14 00:00:00</td><td>3</td><td>pzz</td><td>957</td><td>2310967</td></tr><tr><td>19</td><td>2019-08-14 00:00:00</td><td>2</td><td>clz</td><td>972</td><td>2310967</td></tr></table>"
                    },
                    "metadata": {}
                }
            ],
            "execution_count": 14
        },
        {
            "cell_type": "code",
            "source": [
                "SELECT * \r\n",
                "FROM ventas\r\n",
                "WHERE venta < 1000;"
            ],
            "metadata": {
                "azdata_cell_guid": "ae2555fc-7067-4f27-af4d-c1cd41b622e7",
                "language": "sql"
            },
            "outputs": [
                {
                    "output_type": "display_data",
                    "data": {
                        "text/html": "(11 row(s) affected)"
                    },
                    "metadata": {}
                },
                {
                    "output_type": "display_data",
                    "data": {
                        "text/html": "Total execution time: 00:00:01.010"
                    },
                    "metadata": {}
                },
                {
                    "output_type": "execute_result",
                    "execution_count": 15,
                    "data": {
                        "application/vnd.dataresource+json": {
                            "schema": {
                                "fields": [
                                    {
                                        "name": "ventas_id"
                                    },
                                    {
                                        "name": "Fecha"
                                    },
                                    {
                                        "name": "ID_local"
                                    },
                                    {
                                        "name": "clave_producto"
                                    },
                                    {
                                        "name": "venta"
                                    },
                                    {
                                        "name": "venta_empleado"
                                    }
                                ]
                            },
                            "data": [
                                {
                                    "ventas_id": "14",
                                    "Fecha": "2019-08-27 00:00:00",
                                    "ID_local": "3",
                                    "clave_producto": "clz",
                                    "venta": "303",
                                    "venta_empleado": "3833745"
                                },
                                {
                                    "ventas_id": "11",
                                    "Fecha": "2018-08-22 00:00:00",
                                    "ID_local": "1",
                                    "clave_producto": "brr",
                                    "venta": "404",
                                    "venta_empleado": "3833745"
                                },
                                {
                                    "ventas_id": "8",
                                    "Fecha": "2018-10-05 00:00:00",
                                    "ID_local": "1",
                                    "clave_producto": "pzz",
                                    "venta": "435",
                                    "venta_empleado": "2520477"
                                },
                                {
                                    "ventas_id": "5",
                                    "Fecha": "2018-05-16 00:00:00",
                                    "ID_local": "1",
                                    "clave_producto": "qsd",
                                    "venta": "495",
                                    "venta_empleado": "2520477"
                                },
                                {
                                    "ventas_id": "21",
                                    "Fecha": "2019-06-08 00:00:00",
                                    "ID_local": "4",
                                    "clave_producto": "qsd",
                                    "venta": "497",
                                    "venta_empleado": "5728566"
                                },
                                {
                                    "ventas_id": "6",
                                    "Fecha": "2018-12-15 00:00:00",
                                    "ID_local": "3",
                                    "clave_producto": "pzz",
                                    "venta": "544",
                                    "venta_empleado": "9611338"
                                },
                                {
                                    "ventas_id": "15",
                                    "Fecha": "2019-12-15 00:00:00",
                                    "ID_local": "1",
                                    "clave_producto": "brr",
                                    "venta": "871",
                                    "venta_empleado": "2520477"
                                },
                                {
                                    "ventas_id": "4",
                                    "Fecha": "2018-10-30 00:00:00",
                                    "ID_local": "1",
                                    "clave_producto": "brr",
                                    "venta": "889",
                                    "venta_empleado": "9922377"
                                },
                                {
                                    "ventas_id": "2",
                                    "Fecha": "2018-09-17 00:00:00",
                                    "ID_local": "2",
                                    "clave_producto": "clz",
                                    "venta": "953",
                                    "venta_empleado": "2310967"
                                },
                                {
                                    "ventas_id": "18",
                                    "Fecha": "2019-12-14 00:00:00",
                                    "ID_local": "3",
                                    "clave_producto": "pzz",
                                    "venta": "957",
                                    "venta_empleado": "2310967"
                                },
                                {
                                    "ventas_id": "19",
                                    "Fecha": "2019-08-14 00:00:00",
                                    "ID_local": "2",
                                    "clave_producto": "clz",
                                    "venta": "972",
                                    "venta_empleado": "2310967"
                                }
                            ]
                        },
                        "text/html": "<table><tr><th>ventas_id</th><th>Fecha</th><th>ID_local</th><th>clave_producto</th><th>venta</th><th>venta_empleado</th></tr><tr><td>14</td><td>2019-08-27 00:00:00</td><td>3</td><td>clz</td><td>303</td><td>3833745</td></tr><tr><td>11</td><td>2018-08-22 00:00:00</td><td>1</td><td>brr</td><td>404</td><td>3833745</td></tr><tr><td>8</td><td>2018-10-05 00:00:00</td><td>1</td><td>pzz</td><td>435</td><td>2520477</td></tr><tr><td>5</td><td>2018-05-16 00:00:00</td><td>1</td><td>qsd</td><td>495</td><td>2520477</td></tr><tr><td>21</td><td>2019-06-08 00:00:00</td><td>4</td><td>qsd</td><td>497</td><td>5728566</td></tr><tr><td>6</td><td>2018-12-15 00:00:00</td><td>3</td><td>pzz</td><td>544</td><td>9611338</td></tr><tr><td>15</td><td>2019-12-15 00:00:00</td><td>1</td><td>brr</td><td>871</td><td>2520477</td></tr><tr><td>4</td><td>2018-10-30 00:00:00</td><td>1</td><td>brr</td><td>889</td><td>9922377</td></tr><tr><td>2</td><td>2018-09-17 00:00:00</td><td>2</td><td>clz</td><td>953</td><td>2310967</td></tr><tr><td>18</td><td>2019-12-14 00:00:00</td><td>3</td><td>pzz</td><td>957</td><td>2310967</td></tr><tr><td>19</td><td>2019-08-14 00:00:00</td><td>2</td><td>clz</td><td>972</td><td>2310967</td></tr></table>"
                    },
                    "metadata": {}
                }
            ],
            "execution_count": 15
        },
        {
            "cell_type": "markdown",
            "source": [
                "Me quede en la pagina 234"
            ],
            "metadata": {
                "azdata_cell_guid": "e0e42d64-3e8e-4819-b022-db8d4fd0e5b5"
            },
            "attachments": {}
        },
        {
            "cell_type": "code",
            "source": [
                "SELECT * \r\n",
                "FROM datos.ventas\r\n",
                "WHERE ID_local !=2;"
            ],
            "metadata": {
                "azdata_cell_guid": "81f67384-a698-4564-ac94-9c4acd1c2c5e",
                "language": "sql"
            },
            "outputs": [
{
    "output_type": "display_data",
    "data": {
        "text/html": "(19 row(s) affected)"
    },
    "metadata": {}
}, {
    "output_type": "display_data",
    "data": {
        "text/html": "Total execution time: 00:00:01.018"
    },
    "metadata": {}
}, {
    "output_type": "execute_result",
    "metadata": {},
    "execution_count": 13,
    "data": {
        "application/vnd.dataresource+json": {
            "schema": {
                "fields": [
                    {
                        "name": "ventas_id"
                    },
                    {
                        "name": "Fecha"
                    },
                    {
                        "name": "ID_local"
                    },
                    {
                        "name": "clave_producto"
                    },
                    {
                        "name": "venta"
                    },
                    {
                        "name": "venta_empleado"
                    }
                ]
            },
            "data": [
                {
                    "ventas_id": "3",
                    "Fecha": "2018-10-18 00:00:00",
                    "ID_local": "4",
                    "clave_producto": "brr",
                    "venta": "1286",
                    "venta_empleado": "6931035"
                },
                {
                    "ventas_id": "4",
                    "Fecha": "2018-10-30 00:00:00",
                    "ID_local": "1",
                    "clave_producto": "brr",
                    "venta": "889",
                    "venta_empleado": "9922377"
                },
                {
                    "ventas_id": "5",
                    "Fecha": "2018-05-16 00:00:00",
                    "ID_local": "1",
                    "clave_producto": "qsd",
                    "venta": "495",
                    "venta_empleado": "2520477"
                },
                {
                    "ventas_id": "6",
                    "Fecha": "2018-12-15 00:00:00",
                    "ID_local": "3",
                    "clave_producto": "pzz",
                    "venta": "544",
                    "venta_empleado": "9611338"
                },
                {
                    "ventas_id": "7",
                    "Fecha": "2018-07-28 00:00:00",
                    "ID_local": "4",
                    "clave_producto": "pzz",
                    "venta": "1444",
                    "venta_empleado": "6332756"
                },
                {
                    "ventas_id": "8",
                    "Fecha": "2018-10-05 00:00:00",
                    "ID_local": "1",
                    "clave_producto": "pzz",
                    "venta": "435",
                    "venta_empleado": "2520477"
                },
                {
                    "ventas_id": "9",
                    "Fecha": "2018-04-20 00:00:00",
                    "ID_local": "1",
                    "clave_producto": "qsd",
                    "venta": "1203",
                    "venta_empleado": "9922377"
                },
                {
                    "ventas_id": "10",
                    "Fecha": "2018-06-08 00:00:00",
                    "ID_local": "1",
                    "clave_producto": "brr",
                    "venta": "1038",
                    "venta_empleado": "6332756"
                },
                {
                    "ventas_id": "11",
                    "Fecha": "2018-08-22 00:00:00",
                    "ID_local": "1",
                    "clave_producto": "brr",
                    "venta": "404",
                    "venta_empleado": "3833745"
                },
                {
                    "ventas_id": "12",
                    "Fecha": "2019-09-03 00:00:00",
                    "ID_local": "1",
                    "clave_producto": "pzz",
                    "venta": "1362",
                    "venta_empleado": "5728566"
                },
                {
                    "ventas_id": "13",
                    "Fecha": "2019-07-16 00:00:00",
                    "ID_local": "3",
                    "clave_producto": "qsd",
                    "venta": "1054",
                    "venta_empleado": "2310967"
                },
                {
                    "ventas_id": "14",
                    "Fecha": "2019-08-27 00:00:00",
                    "ID_local": "3",
                    "clave_producto": "clz",
                    "venta": "303",
                    "venta_empleado": "3833745"
                },
                {
                    "ventas_id": "15",
                    "Fecha": "2019-12-15 00:00:00",
                    "ID_local": "1",
                    "clave_producto": "brr",
                    "venta": "871",
                    "venta_empleado": "2520477"
                },
                {
                    "ventas_id": "16",
                    "Fecha": "2019-07-30 00:00:00",
                    "ID_local": "3",
                    "clave_producto": "brr",
                    "venta": "1062",
                    "venta_empleado": "5728566"
                },
                {
                    "ventas_id": "17",
                    "Fecha": "2019-10-25 00:00:00",
                    "ID_local": "1",
                    "clave_producto": "pzz",
                    "venta": "1376",
                    "venta_empleado": "6332756"
                },
                {
                    "ventas_id": "18",
                    "Fecha": "2019-12-14 00:00:00",
                    "ID_local": "3",
                    "clave_producto": "pzz",
                    "venta": "957",
                    "venta_empleado": "2310967"
                },
                {
                    "ventas_id": "20",
                    "Fecha": "2019-12-01 00:00:00",
                    "ID_local": "1",
                    "clave_producto": "pzz",
                    "venta": "1455",
                    "venta_empleado": "2310967"
                },
                {
                    "ventas_id": "21",
                    "Fecha": "2019-06-08 00:00:00",
                    "ID_local": "4",
                    "clave_producto": "qsd",
                    "venta": "497",
                    "venta_empleado": "5728566"
                },
                {
                    "ventas_id": "22",
                    "Fecha": "2019-07-25 00:00:00",
                    "ID_local": "3",
                    "clave_producto": "clz",
                    "venta": "1179",
                    "venta_empleado": "2310967"
                }
            ]
        },
        "text/html": [
            "<table>",
            "<tr><th>ventas_id</th><th>Fecha</th><th>ID_local</th><th>clave_producto</th><th>venta</th><th>venta_empleado</th></tr>",
            "<tr><td>3</td><td>2018-10-18 00:00:00</td><td>4</td><td>brr</td><td>1286</td><td>6931035</td></tr>",
            "<tr><td>4</td><td>2018-10-30 00:00:00</td><td>1</td><td>brr</td><td>889</td><td>9922377</td></tr>",
            "<tr><td>5</td><td>2018-05-16 00:00:00</td><td>1</td><td>qsd</td><td>495</td><td>2520477</td></tr>",
            "<tr><td>6</td><td>2018-12-15 00:00:00</td><td>3</td><td>pzz</td><td>544</td><td>9611338</td></tr>",
            "<tr><td>7</td><td>2018-07-28 00:00:00</td><td>4</td><td>pzz</td><td>1444</td><td>6332756</td></tr>",
            "<tr><td>8</td><td>2018-10-05 00:00:00</td><td>1</td><td>pzz</td><td>435</td><td>2520477</td></tr>",
            "<tr><td>9</td><td>2018-04-20 00:00:00</td><td>1</td><td>qsd</td><td>1203</td><td>9922377</td></tr>",
            "<tr><td>10</td><td>2018-06-08 00:00:00</td><td>1</td><td>brr</td><td>1038</td><td>6332756</td></tr>",
            "<tr><td>11</td><td>2018-08-22 00:00:00</td><td>1</td><td>brr</td><td>404</td><td>3833745</td></tr>",
            "<tr><td>12</td><td>2019-09-03 00:00:00</td><td>1</td><td>pzz</td><td>1362</td><td>5728566</td></tr>",
            "<tr><td>13</td><td>2019-07-16 00:00:00</td><td>3</td><td>qsd</td><td>1054</td><td>2310967</td></tr>",
            "<tr><td>14</td><td>2019-08-27 00:00:00</td><td>3</td><td>clz</td><td>303</td><td>3833745</td></tr>",
            "<tr><td>15</td><td>2019-12-15 00:00:00</td><td>1</td><td>brr</td><td>871</td><td>2520477</td></tr>",
            "<tr><td>16</td><td>2019-07-30 00:00:00</td><td>3</td><td>brr</td><td>1062</td><td>5728566</td></tr>",
            "<tr><td>17</td><td>2019-10-25 00:00:00</td><td>1</td><td>pzz</td><td>1376</td><td>6332756</td></tr>",
            "<tr><td>18</td><td>2019-12-14 00:00:00</td><td>3</td><td>pzz</td><td>957</td><td>2310967</td></tr>",
            "<tr><td>20</td><td>2019-12-01 00:00:00</td><td>1</td><td>pzz</td><td>1455</td><td>2310967</td></tr>",
            "<tr><td>21</td><td>2019-06-08 00:00:00</td><td>4</td><td>qsd</td><td>497</td><td>5728566</td></tr>",
            "<tr><td>22</td><td>2019-07-25 00:00:00</td><td>3</td><td>clz</td><td>1179</td><td>2310967</td></tr>",
            "</table>"
        ]
    }
}
],
            "execution_count": 13
        }
    ]
}