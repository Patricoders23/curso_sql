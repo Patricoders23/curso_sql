{
    "metadata": {
        "kernelspec": {
            "name": "SQL",
            "display_name": "SQL",
            "language": "sql"
        },
        "language_info": {
            "name": "sql",
            "version": ""
        }
    },
    "nbformat_minor": 2,
    "nbformat": 4,
    "cells": [
        {
            "cell_type": "markdown",
            "source": [
                "# ANALISIS DE SERIES DE TIEMPO CON SQL"
            ],
            "metadata": {
                "azdata_cell_guid": "09bc564a-fa44-4498-b465-02ca88a57cf4"
            },
            "attachments": {}
        },
        {
            "cell_type": "markdown",
            "source": [
                "### Conversiones de formato de fecha:\n",
                "\n",
                "- Tengo 3 columnas: la columan fecha esta como datetime (YYYY-MM-DD HH:MM:SS)"
            ],
            "metadata": {
                "azdata_cell_guid": "ea82b0fb-b23c-42ba-8775-7db1b840d425"
            },
            "attachments": {}
        },
        {
            "cell_type": "code",
            "source": [
                "USE opep; \r\n",
                "\r\n",
                "SELECT * \r\n",
                "FROM Zonas;"
            ],
            "metadata": {
                "azdata_cell_guid": "51e8bf04-2428-4b39-a896-1b30ecc58d02",
                "language": "sql"
            },
            "outputs": [
                {
                    "output_type": "display_data",
                    "data": {
                        "text/html": "Commands completed successfully"
                    },
                    "metadata": {}
                },
                {
                    "output_type": "display_data",
                    "data": {
                        "text/html": "(4 row(s) affected)"
                    },
                    "metadata": {}
                },
                {
                    "output_type": "display_data",
                    "data": {
                        "text/html": "Total execution time: 00:00:01.003"
                    },
                    "metadata": {}
                },
                {
                    "output_type": "execute_result",
                    "execution_count": 5,
                    "data": {
                        "application/vnd.dataresource+json": {
                            "schema": {
                                "fields": [
                                    {
                                        "name": "ID_Zona"
                                    },
                                    {
                                        "name": "Fecha"
                                    },
                                    {
                                        "name": "Zona"
                                    }
                                ]
                            },
                            "data": [
                                {
                                    "ID_Zona": "1",
                                    "Fecha": "2024-11-19 19:50:21",
                                    "Zona": "Norte"
                                },
                                {
                                    "ID_Zona": "2",
                                    "Fecha": "2024-11-20 07:20:01",
                                    "Zona": "Norte"
                                },
                                {
                                    "ID_Zona": "3",
                                    "Fecha": "2024-11-21 04:11:41",
                                    "Zona": "Este"
                                },
                                {
                                    "ID_Zona": "4",
                                    "Fecha": "2024-11-22 19:08:00",
                                    "Zona": "Oeste"
                                }
                            ]
                        },
                        "text/html": "<table><tr><th>ID_Zona</th><th>Fecha</th><th>Zona</th></tr><tr><td>1</td><td>2024-11-19 19:50:21</td><td>Norte</td></tr><tr><td>2</td><td>2024-11-20 07:20:01</td><td>Norte</td></tr><tr><td>3</td><td>2024-11-21 04:11:41</td><td>Este</td></tr><tr><td>4</td><td>2024-11-22 19:08:00</td><td>Oeste</td></tr></table>"
                    },
                    "metadata": {}
                }
            ],
            "execution_count": 5
        },
        {
            "cell_type": "code",
            "source": [
                "SHOW COLUMNS FROM `opep`.`zonas`;\r\n",
                ""
            ],
            "metadata": {
                "azdata_cell_guid": "fbb72097-b220-4468-a615-945ba0cf5d3c",
                "language": "sql"
            },
            "outputs": [
                {
                    "output_type": "display_data",
                    "data": {
                        "text/html": "(3 row(s) affected)"
                    },
                    "metadata": {}
                },
                {
                    "output_type": "display_data",
                    "data": {
                        "text/html": "Total execution time: 00:00:01.017"
                    },
                    "metadata": {}
                },
                {
                    "output_type": "execute_result",
                    "execution_count": 12,
                    "data": {
                        "application/vnd.dataresource+json": {
                            "schema": {
                                "fields": [
                                    {
                                        "name": "Field"
                                    },
                                    {
                                        "name": "Type"
                                    },
                                    {
                                        "name": "Null"
                                    },
                                    {
                                        "name": "Key"
                                    },
                                    {
                                        "name": "Default"
                                    },
                                    {
                                        "name": "Extra"
                                    }
                                ]
                            },
                            "data": [
                                {
                                    "Field": "ID_Zona",
                                    "Type": "b'int'",
                                    "Null": "NO",
                                    "Key": "PRI",
                                    "Default": "NULL",
                                    "Extra": ""
                                },
                                {
                                    "Field": "Fecha",
                                    "Type": "b'datetime'",
                                    "Null": "YES",
                                    "Key": "",
                                    "Default": "NULL",
                                    "Extra": ""
                                },
                                {
                                    "Field": "Zona",
                                    "Type": "b'varchar(45)'",
                                    "Null": "YES",
                                    "Key": "",
                                    "Default": "NULL",
                                    "Extra": ""
                                }
                            ]
                        },
                        "text/html": "<table><tr><th>Field</th><th>Type</th><th>Null</th><th>Key</th><th>Default</th><th>Extra</th></tr><tr><td>ID_Zona</td><td>b&#39;int&#39;</td><td>NO</td><td>PRI</td><td>NULL</td><td></td></tr><tr><td>Fecha</td><td>b&#39;datetime&#39;</td><td>YES</td><td></td><td>NULL</td><td></td></tr><tr><td>Zona</td><td>b&#39;varchar(45)&#39;</td><td>YES</td><td></td><td>NULL</td><td></td></tr></table>"
                    },
                    "metadata": {}
                }
            ],
            "execution_count": 12
        },
        {
            "cell_type": "markdown",
            "source": [
                "- _<mark>Devolver la **fecha** u **hora actual**</mark>_"
            ],
            "metadata": {
                "azdata_cell_guid": "919b080f-c00c-4089-b188-b6132bc191fc"
            },
            "attachments": {}
        },
        {
            "cell_type": "code",
            "source": [
                "--SELECT CURRENT_DATE; en MySQL para obtener la fecha actual.\r\n",
                "SELECT CURRENT_DATE;\r\n",
                "\r\n",
                ""
            ],
            "metadata": {
                "azdata_cell_guid": "b9e84211-10f8-472c-9866-0240e03bf23e",
                "language": "sql"
            },
            "outputs": [
                {
                    "output_type": "display_data",
                    "data": {
                        "text/html": "(1 row(s) affected)"
                    },
                    "metadata": {}
                },
                {
                    "output_type": "display_data",
                    "data": {
                        "text/html": "Total execution time: 00:00:01.009"
                    },
                    "metadata": {}
                },
                {
                    "output_type": "execute_result",
                    "execution_count": 13,
                    "data": {
                        "application/vnd.dataresource+json": {
                            "schema": {
                                "fields": [
                                    {
                                        "name": "CURRENT_DATE"
                                    }
                                ]
                            },
                            "data": [
                                {
                                    "CURRENT_DATE": "2024-05-17"
                                }
                            ]
                        },
                        "text/html": "<table><tr><th>CURRENT_DATE</th></tr><tr><td>2024-05-17</td></tr></table>"
                    },
                    "metadata": {}
                }
            ],
            "execution_count": 13
        },
        {
            "cell_type": "code",
            "source": [
                "SELECT NOW(); \r\n",
                "--SELECT CURRENT_TIMESTAMP;\r\n",
                "--SELECT LOCALTIMESTAMP;\r\n",
                "--SELECT LOCALTIME;\r\n",
                ""
            ],
            "metadata": {
                "azdata_cell_guid": "36044ae0-d2ca-4121-a269-773812450f79",
                "language": "sql"
            },
            "outputs": [
                {
                    "output_type": "display_data",
                    "data": {
                        "text/html": "(1 row(s) affected)"
                    },
                    "metadata": {}
                },
                {
                    "output_type": "display_data",
                    "data": {
                        "text/html": "Total execution time: 00:00:01.020"
                    },
                    "metadata": {}
                },
                {
                    "output_type": "execute_result",
                    "execution_count": 14,
                    "data": {
                        "application/vnd.dataresource+json": {
                            "schema": {
                                "fields": [
                                    {
                                        "name": "NOW()"
                                    }
                                ]
                            },
                            "data": [
                                {
                                    "NOW()": "2024-05-17 17:10:55"
                                }
                            ]
                        },
                        "text/html": "<table><tr><th>NOW()</th></tr><tr><td>2024-05-17 17:10:55</td></tr></table>"
                    },
                    "metadata": {}
                }
            ],
            "execution_count": 14
        },
        {
            "cell_type": "code",
            "source": [
                "--CURRENT_TIME, Devuelve la hora actual en el formato HH:MM:SS.\r\n",
                "SELECT CURRENT_TIME;\r\n",
                ""
            ],
            "metadata": {
                "azdata_cell_guid": "4e228c66-85f3-4020-bbab-a8eb301092c2",
                "language": "sql"
            },
            "outputs": [
                {
                    "output_type": "display_data",
                    "data": {
                        "text/html": "(1 row(s) affected)"
                    },
                    "metadata": {}
                },
                {
                    "output_type": "display_data",
                    "data": {
                        "text/html": "Total execution time: 00:00:01.010"
                    },
                    "metadata": {}
                },
                {
                    "output_type": "execute_result",
                    "execution_count": 18,
                    "data": {
                        "application/vnd.dataresource+json": {
                            "schema": {
                                "fields": [
                                    {
                                        "name": "CURRENT_TIME"
                                    }
                                ]
                            },
                            "data": [
                                {
                                    "CURRENT_TIME": "17:13:28"
                                }
                            ]
                        },
                        "text/html": "<table><tr><th>CURRENT_TIME</th></tr><tr><td>17:13:28</td></tr></table>"
                    },
                    "metadata": {}
                }
            ],
            "execution_count": 18
        },
        {
            "cell_type": "code",
            "source": [
                "SELECT LOCALTIME;\r\n",
                ""
            ],
            "metadata": {
                "azdata_cell_guid": "664d6224-b18b-4376-bbad-ffc743152c64",
                "language": "sql"
            },
            "outputs": [
                {
                    "output_type": "display_data",
                    "data": {
                        "text/html": "(1 row(s) affected)"
                    },
                    "metadata": {}
                },
                {
                    "output_type": "display_data",
                    "data": {
                        "text/html": "Total execution time: 00:00:01.006"
                    },
                    "metadata": {}
                },
                {
                    "output_type": "execute_result",
                    "execution_count": 19,
                    "data": {
                        "application/vnd.dataresource+json": {
                            "schema": {
                                "fields": [
                                    {
                                        "name": "LOCALTIME"
                                    }
                                ]
                            },
                            "data": [
                                {
                                    "LOCALTIME": "2024-05-17 17:14:30"
                                }
                            ]
                        },
                        "text/html": "<table><tr><th>LOCALTIME</th></tr><tr><td>2024-05-17 17:14:30</td></tr></table>"
                    },
                    "metadata": {}
                }
            ],
            "execution_count": 19
        },
        {
            "cell_type": "code",
            "source": [
                "-- Obtener el día actual\r\n",
                "SELECT DAY(CURRENT_TIMESTAMP) AS Day;\r\n",
                "--SELECT EXTRACT(DAY FROM CURRENT_TIMESTAMP) AS Day;"
            ],
            "metadata": {
                "azdata_cell_guid": "0a11a36d-0177-45d3-9454-30a44ed385ff",
                "language": "sql"
            },
            "outputs": [
                {
                    "output_type": "display_data",
                    "data": {
                        "text/html": "(1 row(s) affected)"
                    },
                    "metadata": {}
                },
                {
                    "output_type": "display_data",
                    "data": {
                        "text/html": "Total execution time: 00:00:01.040"
                    },
                    "metadata": {}
                },
                {
                    "output_type": "execute_result",
                    "execution_count": 39,
                    "data": {
                        "application/vnd.dataresource+json": {
                            "schema": {
                                "fields": [
                                    {
                                        "name": "Day"
                                    }
                                ]
                            },
                            "data": [
                                {
                                    "Day": "17"
                                }
                            ]
                        },
                        "text/html": "<table><tr><th>Day</th></tr><tr><td>17</td></tr></table>"
                    },
                    "metadata": {}
                }
            ],
            "execution_count": 39
        },
        {
            "cell_type": "code",
            "source": [
                "-- Obtener el mes actual\r\n",
                "SELECT MONTH(CURRENT_TIMESTAMP) AS Month;\r\n",
                "--SELECT EXTRACT(MONTH FROM CURRENT_TIMESTAMP) AS Month;"
            ],
            "metadata": {
                "azdata_cell_guid": "fcffa30b-8957-43a4-8b67-cfcc864a25b4",
                "language": "sql"
            },
            "outputs": [
                {
                    "output_type": "display_data",
                    "data": {
                        "text/html": "(1 row(s) affected)"
                    },
                    "metadata": {}
                },
                {
                    "output_type": "display_data",
                    "data": {
                        "text/html": "Total execution time: 00:00:01.005"
                    },
                    "metadata": {}
                },
                {
                    "output_type": "execute_result",
                    "execution_count": 40,
                    "data": {
                        "application/vnd.dataresource+json": {
                            "schema": {
                                "fields": [
                                    {
                                        "name": "Month"
                                    }
                                ]
                            },
                            "data": [
                                {
                                    "Month": "5"
                                }
                            ]
                        },
                        "text/html": "<table><tr><th>Month</th></tr><tr><td>5</td></tr></table>"
                    },
                    "metadata": {}
                }
            ],
            "execution_count": 40
        },
        {
            "cell_type": "code",
            "source": [
                "-- Obtener la hora actual\r\n",
                "SELECT HOUR(CURRENT_TIMESTAMP) AS Hour;\r\n",
                "--SELECT EXTRACT(HOUR FROM CURRENT_TIMESTAMP) AS Hour;"
            ],
            "metadata": {
                "azdata_cell_guid": "6587ae6f-a8b7-41c6-b491-0f6002e3f116",
                "language": "sql"
            },
            "outputs": [
                {
                    "output_type": "display_data",
                    "data": {
                        "text/html": "(1 row(s) affected)"
                    },
                    "metadata": {}
                },
                {
                    "output_type": "display_data",
                    "data": {
                        "text/html": "Total execution time: 00:00:01.042"
                    },
                    "metadata": {}
                },
                {
                    "output_type": "execute_result",
                    "execution_count": 41,
                    "data": {
                        "application/vnd.dataresource+json": {
                            "schema": {
                                "fields": [
                                    {
                                        "name": "Hour"
                                    }
                                ]
                            },
                            "data": [
                                {
                                    "Hour": "17"
                                }
                            ]
                        },
                        "text/html": "<table><tr><th>Hour</th></tr><tr><td>17</td></tr></table>"
                    },
                    "metadata": {}
                }
            ],
            "execution_count": 41
        },
        {
            "cell_type": "code",
            "source": [
                "-- Obtener el día actual\r\n",
                "SELECT EXTRACT(DAY FROM CURRENT_TIMESTAMP) AS Day;"
            ],
            "metadata": {
                "azdata_cell_guid": "7206f56a-f71e-4d0f-9253-a5fe1387345a",
                "language": "sql",
                "tags": []
            },
            "outputs": [
                {
                    "output_type": "display_data",
                    "data": {
                        "text/html": "(1 row(s) affected)"
                    },
                    "metadata": {}
                },
                {
                    "output_type": "display_data",
                    "data": {
                        "text/html": "Total execution time: 00:00:01.002"
                    },
                    "metadata": {}
                },
                {
                    "output_type": "execute_result",
                    "execution_count": 43,
                    "data": {
                        "application/vnd.dataresource+json": {
                            "schema": {
                                "fields": [
                                    {
                                        "name": "Day"
                                    }
                                ]
                            },
                            "data": [
                                {
                                    "Day": "17"
                                }
                            ]
                        },
                        "text/html": "<table><tr><th>Day</th></tr><tr><td>17</td></tr></table>"
                    },
                    "metadata": {}
                }
            ],
            "execution_count": 43
        },
        {
            "cell_type": "code",
            "source": [
                "-- Obtener el día de la semana\r\n",
                "SELECT DATE_FORMAT(CURRENT_DATE, '%W') AS DayOfWeek;\r\n",
                ""
            ],
            "metadata": {
                "azdata_cell_guid": "19320b9d-97cc-43a1-827b-e5eae8128ba0",
                "language": "sql"
            },
            "outputs": [
                {
                    "output_type": "display_data",
                    "data": {
                        "text/html": "(1 row(s) affected)"
                    },
                    "metadata": {}
                },
                {
                    "output_type": "display_data",
                    "data": {
                        "text/html": "Total execution time: 00:00:01.059"
                    },
                    "metadata": {}
                },
                {
                    "output_type": "execute_result",
                    "execution_count": 47,
                    "data": {
                        "application/vnd.dataresource+json": {
                            "schema": {
                                "fields": [
                                    {
                                        "name": "DayOfWeek"
                                    }
                                ]
                            },
                            "data": [
                                {
                                    "DayOfWeek": "Friday"
                                }
                            ]
                        },
                        "text/html": "<table><tr><th>DayOfWeek</th></tr><tr><td>Friday</td></tr></table>"
                    },
                    "metadata": {}
                }
            ],
            "execution_count": 47
        },
        {
            "cell_type": "code",
            "source": [
                "-- Obtener el nombre del mes\r\n",
                "SELECT DATE_FORMAT(CURRENT_DATE, '%M') AS MonthName;"
            ],
            "metadata": {
                "azdata_cell_guid": "4d39ad48-05eb-4dc9-a250-c5e9ae3813b2",
                "language": "sql"
            },
            "outputs": [
                {
                    "output_type": "display_data",
                    "data": {
                        "text/html": "(1 row(s) affected)"
                    },
                    "metadata": {}
                },
                {
                    "output_type": "display_data",
                    "data": {
                        "text/html": "Total execution time: 00:00:01.053"
                    },
                    "metadata": {}
                },
                {
                    "output_type": "execute_result",
                    "execution_count": 48,
                    "data": {
                        "application/vnd.dataresource+json": {
                            "schema": {
                                "fields": [
                                    {
                                        "name": "MonthName"
                                    }
                                ]
                            },
                            "data": [
                                {
                                    "MonthName": "May"
                                }
                            ]
                        },
                        "text/html": "<table><tr><th>MonthName</th></tr><tr><td>May</td></tr></table>"
                    },
                    "metadata": {}
                }
            ],
            "execution_count": 48
        },
        {
            "cell_type": "markdown",
            "source": [
                "## \n",
                "\n",
                "- Truncamiento,  truncar la columna `Fecha` <span style=\"color: rgb(13, 13, 13); font-family: Söhne, ui-sans-serif, system-ui, -apple-system, &quot;Segoe UI&quot;, Roboto, Ubuntu, Cantarell, &quot;Noto Sans&quot;, sans-serif, &quot;Helvetica Neue&quot;, Arial, &quot;Apple Color Emoji&quot;, &quot;Segoe UI Emoji&quot;, &quot;Segoe UI Symbol&quot;, &quot;Noto Color Emoji&quot;; font-size: 16px; white-space-collapse: preserve; background-color: rgb(255, 255, 255);\">a diferentes niveles de granularidad. </span> Ejemplos de truncamiento para diferentes niveles: mes, día, hora y minuto."
            ],
            "metadata": {
                "azdata_cell_guid": "91f1d7b1-1083-4b5d-b24b-093522df273d"
            },
            "attachments": {}
        },
        {
            "cell_type": "code",
            "source": [
                "-- Truncar a mes:\r\n",
                "SELECT ID_Zona, \r\n",
                "       STR_TO_DATE(DATE_FORMAT(Fecha, '%Y-%m-01'), '%Y-%m-%d') AS Fecha_Trunc_Mes, \r\n",
                "       Zona\r\n",
                "FROM Zonas;\r\n",
                ""
            ],
            "metadata": {
                "azdata_cell_guid": "ba722c7f-d80b-4396-81c0-82cdbbdd58d8",
                "language": "sql",
                "tags": []
            },
            "outputs": [
                {
                    "output_type": "display_data",
                    "data": {
                        "text/html": "(4 row(s) affected)"
                    },
                    "metadata": {}
                },
                {
                    "output_type": "display_data",
                    "data": {
                        "text/html": "Total execution time: 00:00:01.012"
                    },
                    "metadata": {}
                },
                {
                    "output_type": "execute_result",
                    "execution_count": 29,
                    "data": {
                        "application/vnd.dataresource+json": {
                            "schema": {
                                "fields": [
                                    {
                                        "name": "ID_Zona"
                                    },
                                    {
                                        "name": "Fecha_Trunc_Mes"
                                    },
                                    {
                                        "name": "Zona"
                                    }
                                ]
                            },
                            "data": [
                                {
                                    "ID_Zona": "1",
                                    "Fecha_Trunc_Mes": "2024-11-01",
                                    "Zona": "Norte"
                                },
                                {
                                    "ID_Zona": "2",
                                    "Fecha_Trunc_Mes": "2024-11-01",
                                    "Zona": "Norte"
                                },
                                {
                                    "ID_Zona": "3",
                                    "Fecha_Trunc_Mes": "2024-11-01",
                                    "Zona": "Este"
                                },
                                {
                                    "ID_Zona": "4",
                                    "Fecha_Trunc_Mes": "2024-11-01",
                                    "Zona": "Oeste"
                                }
                            ]
                        },
                        "text/html": "<table><tr><th>ID_Zona</th><th>Fecha_Trunc_Mes</th><th>Zona</th></tr><tr><td>1</td><td>2024-11-01</td><td>Norte</td></tr><tr><td>2</td><td>2024-11-01</td><td>Norte</td></tr><tr><td>3</td><td>2024-11-01</td><td>Este</td></tr><tr><td>4</td><td>2024-11-01</td><td>Oeste</td></tr></table>"
                    },
                    "metadata": {}
                }
            ],
            "execution_count": 29
        },
        {
            "cell_type": "code",
            "source": [
                "--Truncar a día\r\n",
                "SELECT ID_Zona, \r\n",
                "       DATE_FORMAT(Fecha, '%Y-%m-%d') AS Fecha_Trunc_Dia, \r\n",
                "       Zona\r\n",
                "FROM Zonas;"
            ],
            "metadata": {
                "azdata_cell_guid": "fcd47ee1-f426-4286-95c4-096365481698",
                "language": "sql"
            },
            "outputs": [
                {
                    "output_type": "display_data",
                    "data": {
                        "text/html": "(4 row(s) affected)"
                    },
                    "metadata": {}
                },
                {
                    "output_type": "display_data",
                    "data": {
                        "text/html": "Total execution time: 00:00:01.011"
                    },
                    "metadata": {}
                },
                {
                    "output_type": "execute_result",
                    "execution_count": 31,
                    "data": {
                        "application/vnd.dataresource+json": {
                            "schema": {
                                "fields": [
                                    {
                                        "name": "ID_Zona"
                                    },
                                    {
                                        "name": "Fecha_Trunc_Dia"
                                    },
                                    {
                                        "name": "Zona"
                                    }
                                ]
                            },
                            "data": [
                                {
                                    "ID_Zona": "1",
                                    "Fecha_Trunc_Dia": "2024-11-19",
                                    "Zona": "Norte"
                                },
                                {
                                    "ID_Zona": "2",
                                    "Fecha_Trunc_Dia": "2024-11-20",
                                    "Zona": "Norte"
                                },
                                {
                                    "ID_Zona": "3",
                                    "Fecha_Trunc_Dia": "2024-11-21",
                                    "Zona": "Este"
                                },
                                {
                                    "ID_Zona": "4",
                                    "Fecha_Trunc_Dia": "2024-11-22",
                                    "Zona": "Oeste"
                                }
                            ]
                        },
                        "text/html": "<table><tr><th>ID_Zona</th><th>Fecha_Trunc_Dia</th><th>Zona</th></tr><tr><td>1</td><td>2024-11-19</td><td>Norte</td></tr><tr><td>2</td><td>2024-11-20</td><td>Norte</td></tr><tr><td>3</td><td>2024-11-21</td><td>Este</td></tr><tr><td>4</td><td>2024-11-22</td><td>Oeste</td></tr></table>"
                    },
                    "metadata": {}
                }
            ],
            "execution_count": 31
        },
        {
            "cell_type": "code",
            "source": [
                "--Truncar a hora:\r\n",
                "SELECT ID_Zona, \r\n",
                "       DATE_FORMAT(Fecha, '%Y-%m-%d %H:00:00') AS Fecha_Trunc_Hora, \r\n",
                "       Zona\r\n",
                "FROM Zonas;"
            ],
            "metadata": {
                "azdata_cell_guid": "343ef3c2-8987-4be0-bee5-f618884cf498",
                "language": "sql"
            },
            "outputs": [
                {
                    "output_type": "display_data",
                    "data": {
                        "text/html": "(4 row(s) affected)"
                    },
                    "metadata": {}
                },
                {
                    "output_type": "display_data",
                    "data": {
                        "text/html": "Total execution time: 00:00:01.008"
                    },
                    "metadata": {}
                },
                {
                    "output_type": "execute_result",
                    "execution_count": 33,
                    "data": {
                        "application/vnd.dataresource+json": {
                            "schema": {
                                "fields": [
                                    {
                                        "name": "ID_Zona"
                                    },
                                    {
                                        "name": "Fecha_Trunc_Hora"
                                    },
                                    {
                                        "name": "Zona"
                                    }
                                ]
                            },
                            "data": [
                                {
                                    "ID_Zona": "1",
                                    "Fecha_Trunc_Hora": "2024-11-19 19:00:00",
                                    "Zona": "Norte"
                                },
                                {
                                    "ID_Zona": "2",
                                    "Fecha_Trunc_Hora": "2024-11-20 07:00:00",
                                    "Zona": "Norte"
                                },
                                {
                                    "ID_Zona": "3",
                                    "Fecha_Trunc_Hora": "2024-11-21 04:00:00",
                                    "Zona": "Este"
                                },
                                {
                                    "ID_Zona": "4",
                                    "Fecha_Trunc_Hora": "2024-11-22 19:00:00",
                                    "Zona": "Oeste"
                                }
                            ]
                        },
                        "text/html": "<table><tr><th>ID_Zona</th><th>Fecha_Trunc_Hora</th><th>Zona</th></tr><tr><td>1</td><td>2024-11-19 19:00:00</td><td>Norte</td></tr><tr><td>2</td><td>2024-11-20 07:00:00</td><td>Norte</td></tr><tr><td>3</td><td>2024-11-21 04:00:00</td><td>Este</td></tr><tr><td>4</td><td>2024-11-22 19:00:00</td><td>Oeste</td></tr></table>"
                    },
                    "metadata": {}
                }
            ],
            "execution_count": 33
        },
        {
            "cell_type": "code",
            "source": [
                "-- Truncar a minuto:\r\n",
                "SELECT ID_Zona, \r\n",
                "       DATE_FORMAT(Fecha, '%Y-%m-%d %H:%i:00') AS Fecha_Trunc_Minuto, \r\n",
                "       Zona\r\n",
                "FROM Zonas;\r\n",
                ""
            ],
            "metadata": {
                "azdata_cell_guid": "1081077c-e49c-4f9c-9ba1-8da72bb50d10",
                "language": "sql"
            },
            "outputs": [
                {
                    "output_type": "display_data",
                    "data": {
                        "text/html": "(4 row(s) affected)"
                    },
                    "metadata": {}
                },
                {
                    "output_type": "display_data",
                    "data": {
                        "text/html": "Total execution time: 00:00:01.015"
                    },
                    "metadata": {}
                },
                {
                    "output_type": "execute_result",
                    "execution_count": 35,
                    "data": {
                        "application/vnd.dataresource+json": {
                            "schema": {
                                "fields": [
                                    {
                                        "name": "ID_Zona"
                                    },
                                    {
                                        "name": "Fecha_Trunc_Minuto"
                                    },
                                    {
                                        "name": "Zona"
                                    }
                                ]
                            },
                            "data": [
                                {
                                    "ID_Zona": "1",
                                    "Fecha_Trunc_Minuto": "2024-11-19 19:50:00",
                                    "Zona": "Norte"
                                },
                                {
                                    "ID_Zona": "2",
                                    "Fecha_Trunc_Minuto": "2024-11-20 07:20:00",
                                    "Zona": "Norte"
                                },
                                {
                                    "ID_Zona": "3",
                                    "Fecha_Trunc_Minuto": "2024-11-21 04:11:00",
                                    "Zona": "Este"
                                },
                                {
                                    "ID_Zona": "4",
                                    "Fecha_Trunc_Minuto": "2024-11-22 19:08:00",
                                    "Zona": "Oeste"
                                }
                            ]
                        },
                        "text/html": "<table><tr><th>ID_Zona</th><th>Fecha_Trunc_Minuto</th><th>Zona</th></tr><tr><td>1</td><td>2024-11-19 19:50:00</td><td>Norte</td></tr><tr><td>2</td><td>2024-11-20 07:20:00</td><td>Norte</td></tr><tr><td>3</td><td>2024-11-21 04:11:00</td><td>Este</td></tr><tr><td>4</td><td>2024-11-22 19:08:00</td><td>Oeste</td></tr></table>"
                    },
                    "metadata": {}
                }
            ],
            "execution_count": 35
        },
        {
            "cell_type": "code",
            "source": [
                "-- Truncar a segundo:\r\n",
                "SELECT ID_Zona, \r\n",
                "       DATE_FORMAT(Fecha, '%Y-%m-%d %H:%i:%s') AS Fecha_Trunc_Segundo, \r\n",
                "       Zona\r\n",
                "FROM Zonas;\r\n",
                ""
            ],
            "metadata": {
                "azdata_cell_guid": "41f30ed0-e8da-4682-9ece-030437b5bcc8",
                "language": "sql"
            },
            "outputs": [
                {
                    "output_type": "display_data",
                    "data": {
                        "text/html": "(4 row(s) affected)"
                    },
                    "metadata": {}
                },
                {
                    "output_type": "display_data",
                    "data": {
                        "text/html": "Total execution time: 00:00:01.013"
                    },
                    "metadata": {}
                },
                {
                    "output_type": "execute_result",
                    "execution_count": 37,
                    "data": {
                        "application/vnd.dataresource+json": {
                            "schema": {
                                "fields": [
                                    {
                                        "name": "ID_Zona"
                                    },
                                    {
                                        "name": "Fecha_Trunc_Segundo"
                                    },
                                    {
                                        "name": "Zona"
                                    }
                                ]
                            },
                            "data": [
                                {
                                    "ID_Zona": "1",
                                    "Fecha_Trunc_Segundo": "2024-11-19 19:50:21",
                                    "Zona": "Norte"
                                },
                                {
                                    "ID_Zona": "2",
                                    "Fecha_Trunc_Segundo": "2024-11-20 07:20:01",
                                    "Zona": "Norte"
                                },
                                {
                                    "ID_Zona": "3",
                                    "Fecha_Trunc_Segundo": "2024-11-21 04:11:41",
                                    "Zona": "Este"
                                },
                                {
                                    "ID_Zona": "4",
                                    "Fecha_Trunc_Segundo": "2024-11-22 19:08:00",
                                    "Zona": "Oeste"
                                }
                            ]
                        },
                        "text/html": "<table><tr><th>ID_Zona</th><th>Fecha_Trunc_Segundo</th><th>Zona</th></tr><tr><td>1</td><td>2024-11-19 19:50:21</td><td>Norte</td></tr><tr><td>2</td><td>2024-11-20 07:20:01</td><td>Norte</td></tr><tr><td>3</td><td>2024-11-21 04:11:41</td><td>Este</td></tr><tr><td>4</td><td>2024-11-22 19:08:00</td><td>Oeste</td></tr></table>"
                    },
                    "metadata": {}
                }
            ],
            "execution_count": 37
        },
        {
            "cell_type": "code",
            "source": [
                ""
            ],
            "metadata": {
                "azdata_cell_guid": "01f1f00a-70fc-4e43-8522-23443d81af7f",
                "language": "sql"
            },
            "outputs": [
                {
                    "output_type": "display_data",
                    "data": {
                        "text/html": "(1 row(s) affected)"
                    },
                    "metadata": {}
                },
                {
                    "output_type": "display_data",
                    "data": {
                        "text/html": "Total execution time: 00:00:01.013"
                    },
                    "metadata": {}
                },
                {
                    "output_type": "execute_result",
                    "execution_count": 38,
                    "data": {
                        "application/vnd.dataresource+json": {
                            "schema": {
                                "fields": [
                                    {
                                        "name": "Day"
                                    }
                                ]
                            },
                            "data": [
                                {
                                    "Day": "17"
                                }
                            ]
                        },
                        "text/html": "<table><tr><th>Day</th></tr><tr><td>17</td></tr></table>"
                    },
                    "metadata": {}
                }
            ],
            "execution_count": 38
        },
        {
            "cell_type": "markdown",
            "source": [
                "### \n",
                "\n",
                "- <span style=\"color: rgb(13, 13, 13); font-family: Söhne, ui-sans-serif, system-ui, -apple-system, &quot;Segoe UI&quot;, Roboto, Ubuntu, Cantarell, &quot;Noto Sans&quot;, sans-serif, &quot;Helvetica Neue&quot;, Arial, &quot;Apple Color Emoji&quot;, &quot;Segoe UI Emoji&quot;, &quot;Segoe UI Symbol&quot;, &quot;Noto Color Emoji&quot;; font-size: 16px; white-space-collapse: preserve; background-color: rgb(255, 255, 255);\">En MySQL, puedes usar la función </span> `TIMESTAMPDIFF(unit, start_date, end_date)` <span style=\"color: rgb(13, 13, 13); font-family: Söhne, ui-sans-serif, system-ui, -apple-system, &quot;Segoe UI&quot;, Roboto, Ubuntu, Cantarell, &quot;Noto Sans&quot;, sans-serif, &quot;Helvetica Neue&quot;, Arial, &quot;Apple Color Emoji&quot;, &quot;Segoe UI Emoji&quot;, &quot;Segoe UI Symbol&quot;, &quot;Noto Color Emoji&quot;; font-size: 16px; white-space-collapse: preserve; background-color: rgb(255, 255, 255);\"> para obtener la diferencia entre dos fechas en la unidad especificada.</span>"
            ],
            "metadata": {
                "azdata_cell_guid": "92c12f71-c98f-487f-af03-656ff9df3a36"
            },
            "attachments": {}
        },
        {
            "cell_type": "code",
            "source": [
                "--número de días de un intervalo de 30 días:\r\n",
                "--calculará la diferencia en días entre la fecha actual y la fecha 30 días en el futuro.\r\n",
                "SELECT TIMESTAMPDIFF(DAY, CURRENT_DATE, DATE_ADD(CURRENT_DATE, INTERVAL 30 DAY)) AS Days;\r\n",
                ""
            ],
            "metadata": {
                "azdata_cell_guid": "697dc724-9a48-4df2-89ea-d708c0b90665",
                "language": "sql"
            },
            "outputs": [
                {
                    "output_type": "display_data",
                    "data": {
                        "text/html": "(1 row(s) affected)"
                    },
                    "metadata": {}
                },
                {
                    "output_type": "display_data",
                    "data": {
                        "text/html": "Total execution time: 00:00:01.004"
                    },
                    "metadata": {}
                },
                {
                    "output_type": "execute_result",
                    "execution_count": 44,
                    "data": {
                        "application/vnd.dataresource+json": {
                            "schema": {
                                "fields": [
                                    {
                                        "name": "Days"
                                    }
                                ]
                            },
                            "data": [
                                {
                                    "Days": "30"
                                }
                            ]
                        },
                        "text/html": "<table><tr><th>Days</th></tr><tr><td>30</td></tr></table>"
                    },
                    "metadata": {}
                }
            ],
            "execution_count": 44
        },
        {
            "cell_type": "code",
            "source": [
                "--calcula la diferencia en días entre la fecha actual y la fecha después de 3 meses.\r\n",
                "SELECT DATEDIFF(DATE_ADD(CURRENT_DATE, INTERVAL 3 MONTH), CURRENT_DATE) AS Days;\r\n",
                ""
            ],
            "metadata": {
                "azdata_cell_guid": "30a1c9ca-7dd2-43a6-8ae2-a50ccdd294d0",
                "language": "sql"
            },
            "outputs": [
                {
                    "output_type": "display_data",
                    "data": {
                        "text/html": "(1 row(s) affected)"
                    },
                    "metadata": {}
                },
                {
                    "output_type": "display_data",
                    "data": {
                        "text/html": "Total execution time: 00:00:01.016"
                    },
                    "metadata": {}
                },
                {
                    "output_type": "execute_result",
                    "execution_count": 45,
                    "data": {
                        "application/vnd.dataresource+json": {
                            "schema": {
                                "fields": [
                                    {
                                        "name": "Days"
                                    }
                                ]
                            },
                            "data": [
                                {
                                    "Days": "92"
                                }
                            ]
                        },
                        "text/html": "<table><tr><th>Days</th></tr><tr><td>92</td></tr></table>"
                    },
                    "metadata": {}
                }
            ],
            "execution_count": 45
        },
        {
            "cell_type": "code",
            "source": [
                ""
            ],
            "metadata": {
                "azdata_cell_guid": "4a2d7eea-d226-487d-a7bb-17677dd58b0c",
                "language": "sql"
            },
            "outputs": [
                {
                    "output_type": "display_data",
                    "data": {
                        "text/html": "(1 row(s) affected)"
                    },
                    "metadata": {}
                },
                {
                    "output_type": "display_data",
                    "data": {
                        "text/html": "Total execution time: 00:00:01.021"
                    },
                    "metadata": {}
                },
                {
                    "output_type": "execute_result",
                    "execution_count": 46,
                    "data": {
                        "application/vnd.dataresource+json": {
                            "schema": {
                                "fields": [
                                    {
                                        "name": "DayOfWeek"
                                    }
                                ]
                            },
                            "data": [
                                {
                                    "DayOfWeek": "Friday"
                                }
                            ]
                        },
                        "text/html": "<table><tr><th>DayOfWeek</th></tr><tr><td>Friday</td></tr></table>"
                    },
                    "metadata": {}
                }
            ],
            "execution_count": 46
        },
        {
            "cell_type": "markdown",
            "source": [
                "### \n",
                "\n",
                "- `CONCAT()` <span style=\"color: rgb(13, 13, 13); font-family: Söhne, ui-sans-serif, system-ui, -apple-system, &quot;Segoe UI&quot;, Roboto, Ubuntu, Cantarell, &quot;Noto Sans&quot;, sans-serif, &quot;Helvetica Neue&quot;, Arial, &quot;Apple Color Emoji&quot;, &quot;Segoe UI Emoji&quot;, &quot;Segoe UI Symbol&quot;, &quot;Noto Color Emoji&quot;; font-size: 16px; white-space-collapse: preserve; background-color: rgb(255, 255, 255);\"> para concatenar la fecha y la hora, y luego convertir el resultado a un tipo de datos </span> `DATETIME` <span style=\"color: rgb(13, 13, 13); font-family: Söhne, ui-sans-serif, system-ui, -apple-system, &quot;Segoe UI&quot;, Roboto, Ubuntu, Cantarell, &quot;Noto Sans&quot;, sans-serif, &quot;Helvetica Neue&quot;, Arial, &quot;Apple Color Emoji&quot;, &quot;Segoe UI Emoji&quot;, &quot;Segoe UI Symbol&quot;, &quot;Noto Color Emoji&quot;; font-size: 16px; white-space-collapse: preserve; background-color: rgb(255, 255, 255);\"> o </span> `TIMESTAMP`<span style=\"color: rgb(13, 13, 13); font-family: Söhne, ui-sans-serif, system-ui, -apple-system, &quot;Segoe UI&quot;, Roboto, Ubuntu, Cantarell, &quot;Noto Sans&quot;, sans-serif, &quot;Helvetica Neue&quot;, Arial, &quot;Apple Color Emoji&quot;, &quot;Segoe UI Emoji&quot;, &quot;Segoe UI Symbol&quot;, &quot;Noto Color Emoji&quot;; font-size: 16px; white-space-collapse: preserve; background-color: rgb(255, 255, 255);\">.</span>"
            ],
            "metadata": {
                "azdata_cell_guid": "367dd01e-2c18-4c4b-bf63-538dd498b8c6"
            },
            "attachments": {}
        },
        {
            "cell_type": "code",
            "source": [
                "-- Concatenar la fecha '2020-09-01' y la hora '03:00:00' y convertirlas a marca de tiempo\r\n",
                "SELECT CONCAT('2020-09-01', ' ', '03:00:00') AS timestamp;\r\n",
                ""
            ],
            "metadata": {
                "azdata_cell_guid": "25cc34fe-4673-46af-ba35-50c6d47ad82b",
                "language": "sql"
            },
            "outputs": [
                {
                    "output_type": "display_data",
                    "data": {
                        "text/html": "(1 row(s) affected)"
                    },
                    "metadata": {}
                },
                {
                    "output_type": "display_data",
                    "data": {
                        "text/html": "Total execution time: 00:00:01.003"
                    },
                    "metadata": {}
                },
                {
                    "output_type": "execute_result",
                    "execution_count": 49,
                    "data": {
                        "application/vnd.dataresource+json": {
                            "schema": {
                                "fields": [
                                    {
                                        "name": "timestamp"
                                    }
                                ]
                            },
                            "data": [
                                {
                                    "timestamp": "2020-09-01 03:00:00"
                                }
                            ]
                        },
                        "text/html": "<table><tr><th>timestamp</th></tr><tr><td>2020-09-01 03:00:00</td></tr></table>"
                    },
                    "metadata": {}
                }
            ],
            "execution_count": 49
        },
        {
            "cell_type": "code",
            "source": [
                "-- Convertir la cadena de marca de tiempo a tipo de datos TIMESTAMP\r\n",
                "SELECT STR_TO_DATE(CONCAT('2020-09-01', ' ', '03:00:00'), '%Y-%m-%d %H:%i:%s') AS timestamp;\r\n",
                ""
            ],
            "metadata": {
                "azdata_cell_guid": "a6f2dc77-106a-47a7-8ddd-51bce577940c",
                "language": "sql"
            },
            "outputs": [
                {
                    "output_type": "display_data",
                    "data": {
                        "text/html": "(1 row(s) affected)"
                    },
                    "metadata": {}
                },
                {
                    "output_type": "display_data",
                    "data": {
                        "text/html": "Total execution time: 00:00:01.009"
                    },
                    "metadata": {}
                },
                {
                    "output_type": "execute_result",
                    "execution_count": 50,
                    "data": {
                        "application/vnd.dataresource+json": {
                            "schema": {
                                "fields": [
                                    {
                                        "name": "timestamp"
                                    }
                                ]
                            },
                            "data": [
                                {
                                    "timestamp": "2020-09-01 03:00:00"
                                }
                            ]
                        },
                        "text/html": "<table><tr><th>timestamp</th></tr><tr><td>2020-09-01 03:00:00</td></tr></table>"
                    },
                    "metadata": {}
                }
            ],
            "execution_count": 50
        },
        {
            "cell_type": "code",
            "source": [
                "-- Usando CONCAT() y DATE() para ensamblar una fecha\r\n",
                "SELECT DATE(CONCAT(2020, '-', 9, '-', 1)) AS fecha;\r\n",
                ""
            ],
            "metadata": {
                "azdata_cell_guid": "38880fd3-9d51-41fd-a765-0631ed237a65",
                "language": "sql"
            },
            "outputs": [
                {
                    "output_type": "display_data",
                    "data": {
                        "text/html": "(1 row(s) affected)"
                    },
                    "metadata": {}
                },
                {
                    "output_type": "display_data",
                    "data": {
                        "text/html": "Total execution time: 00:00:01.017"
                    },
                    "metadata": {}
                },
                {
                    "output_type": "execute_result",
                    "execution_count": 51,
                    "data": {
                        "application/vnd.dataresource+json": {
                            "schema": {
                                "fields": [
                                    {
                                        "name": "fecha"
                                    }
                                ]
                            },
                            "data": [
                                {
                                    "fecha": "2020-09-01"
                                }
                            ]
                        },
                        "text/html": "<table><tr><th>fecha</th></tr><tr><td>2020-09-01</td></tr></table>"
                    },
                    "metadata": {}
                }
            ],
            "execution_count": 51
        },
        {
            "cell_type": "code",
            "source": [
                "-- Usando STR_TO_DATE() para ensamblar una fecha\r\n",
                "SELECT STR_TO_DATE(CONCAT(2020, '-', 9, '-', 1), '%Y-%m-%d') AS fecha;\r\n",
                ""
            ],
            "metadata": {
                "azdata_cell_guid": "2e73c0bd-6eea-46a6-89ed-c144cd35e753",
                "language": "sql"
            },
            "outputs": [
                {
                    "output_type": "display_data",
                    "data": {
                        "text/html": "(1 row(s) affected)"
                    },
                    "metadata": {}
                },
                {
                    "output_type": "display_data",
                    "data": {
                        "text/html": "Total execution time: 00:00:01.017"
                    },
                    "metadata": {}
                },
                {
                    "output_type": "execute_result",
                    "execution_count": 52,
                    "data": {
                        "application/vnd.dataresource+json": {
                            "schema": {
                                "fields": [
                                    {
                                        "name": "fecha"
                                    }
                                ]
                            },
                            "data": [
                                {
                                    "fecha": "2020-09-01"
                                }
                            ]
                        },
                        "text/html": "<table><tr><th>fecha</th></tr><tr><td>2020-09-01</td></tr></table>"
                    },
                    "metadata": {}
                }
            ],
            "execution_count": 52
        },
        {
            "cell_type": "markdown",
            "source": [
                "## Matemáticas de fecha"
            ],
            "metadata": {
                "azdata_cell_guid": "a8f0ea02-25b2-425a-bd4a-114095616665"
            },
            "attachments": {}
        },
        {
            "cell_type": "code",
            "source": [
                "-- Usando operador matemático -\r\n",
                "SELECT DATE('2020-06-30') - DATE('2020-05-31') AS days;"
            ],
            "metadata": {
                "azdata_cell_guid": "aaa46462-929c-4a2a-a5cf-dbce48421247",
                "language": "sql"
            },
            "outputs": [
                {
                    "output_type": "display_data",
                    "data": {
                        "text/html": "(1 row(s) affected)"
                    },
                    "metadata": {}
                },
                {
                    "output_type": "display_data",
                    "data": {
                        "text/html": "Total execution time: 00:00:01.016"
                    },
                    "metadata": {}
                },
                {
                    "output_type": "execute_result",
                    "execution_count": 53,
                    "data": {
                        "application/vnd.dataresource+json": {
                            "schema": {
                                "fields": [
                                    {
                                        "name": "days"
                                    }
                                ]
                            },
                            "data": [
                                {
                                    "days": "99"
                                }
                            ]
                        },
                        "text/html": "<table><tr><th>days</th></tr><tr><td>99</td></tr></table>"
                    },
                    "metadata": {}
                }
            ],
            "execution_count": 53
        },
        {
            "cell_type": "code",
            "source": [
                "-- Usando la función datediff()\r\n",
                "SELECT DATEDIFF(DATE('2020-06-30'), DATE('2020-05-31')) AS days;"
            ],
            "metadata": {
                "azdata_cell_guid": "096fbe5a-612a-40a7-bf28-fc595d711d86",
                "language": "sql"
            },
            "outputs": [
                {
                    "output_type": "display_data",
                    "data": {
                        "text/html": "(1 row(s) affected)"
                    },
                    "metadata": {}
                },
                {
                    "output_type": "display_data",
                    "data": {
                        "text/html": "Total execution time: 00:00:01.013"
                    },
                    "metadata": {}
                },
                {
                    "output_type": "execute_result",
                    "execution_count": 54,
                    "data": {
                        "application/vnd.dataresource+json": {
                            "schema": {
                                "fields": [
                                    {
                                        "name": "days"
                                    }
                                ]
                            },
                            "data": [
                                {
                                    "days": "30"
                                }
                            ]
                        },
                        "text/html": "<table><tr><th>days</th></tr><tr><td>30</td></tr></table>"
                    },
                    "metadata": {}
                }
            ],
            "execution_count": 54
        },
        {
            "cell_type": "code",
            "source": [
                "-- Usando la función datediff() con 'month'\r\n",
                "SELECT DATEDIFF('2020-06-30', '2020-01-01') AS months;"
            ],
            "metadata": {
                "azdata_cell_guid": "e4c8e0e6-9fa9-45d6-99c7-950cf5e0d187",
                "language": "sql"
            },
            "outputs": [
                {
                    "output_type": "display_data",
                    "data": {
                        "text/html": "(1 row(s) affected)"
                    },
                    "metadata": {}
                },
                {
                    "output_type": "display_data",
                    "data": {
                        "text/html": "Total execution time: 00:00:01.006"
                    },
                    "metadata": {}
                },
                {
                    "output_type": "execute_result",
                    "execution_count": 55,
                    "data": {
                        "application/vnd.dataresource+json": {
                            "schema": {
                                "fields": [
                                    {
                                        "name": "months"
                                    }
                                ]
                            },
                            "data": [
                                {
                                    "months": "181"
                                }
                            ]
                        },
                        "text/html": "<table><tr><th>months</th></tr><tr><td>181</td></tr></table>"
                    },
                    "metadata": {}
                }
            ],
            "execution_count": 55
        },
        {
            "cell_type": "code",
            "source": [
                "-- Usando interval '7 days'\r\n",
                "SELECT DATE('2020-06-01') + INTERVAL '7' DAY AS new_date;"
            ],
            "metadata": {
                "azdata_cell_guid": "c5ca1f95-d67b-4acc-9c27-87f67d59373e",
                "language": "sql"
            },
            "outputs": [
                {
                    "output_type": "display_data",
                    "data": {
                        "text/html": "(1 row(s) affected)"
                    },
                    "metadata": {}
                },
                {
                    "output_type": "display_data",
                    "data": {
                        "text/html": "Total execution time: 00:00:01.002"
                    },
                    "metadata": {}
                },
                {
                    "output_type": "execute_result",
                    "execution_count": 56,
                    "data": {
                        "application/vnd.dataresource+json": {
                            "schema": {
                                "fields": [
                                    {
                                        "name": "new_date"
                                    }
                                ]
                            },
                            "data": [
                                {
                                    "new_date": "2020-06-08"
                                }
                            ]
                        },
                        "text/html": "<table><tr><th>new_date</th></tr><tr><td>2020-06-08</td></tr></table>"
                    },
                    "metadata": {}
                }
            ],
            "execution_count": 56
        },
        {
            "cell_type": "code",
            "source": [
                "-- O simplemente sumando un número\r\n",
                "SELECT DATE('2020-06-01') + 7 AS new_date;"
            ],
            "metadata": {
                "azdata_cell_guid": "73a5e23d-6e67-4899-9d18-002693b00c42",
                "language": "sql"
            },
            "outputs": [
                {
                    "output_type": "display_data",
                    "data": {
                        "text/html": "(1 row(s) affected)"
                    },
                    "metadata": {}
                },
                {
                    "output_type": "display_data",
                    "data": {
                        "text/html": "Total execution time: 00:00:01.005"
                    },
                    "metadata": {}
                },
                {
                    "output_type": "execute_result",
                    "execution_count": 57,
                    "data": {
                        "application/vnd.dataresource+json": {
                            "schema": {
                                "fields": [
                                    {
                                        "name": "new_date"
                                    }
                                ]
                            },
                            "data": [
                                {
                                    "new_date": "20200608"
                                }
                            ]
                        },
                        "text/html": "<table><tr><th>new_date</th></tr><tr><td>20200608</td></tr></table>"
                    },
                    "metadata": {}
                }
            ],
            "execution_count": 57
        },
        {
            "cell_type": "code",
            "source": [
                "-- También puedes usar interval con meses, años, horas, etc.\r\n",
                "SELECT DATE('2020-06-01') + INTERVAL '1' MONTH AS new_date;"
            ],
            "metadata": {
                "azdata_cell_guid": "8af1c397-41a1-404d-a593-4ca2f5b11fa6",
                "language": "sql"
            },
            "outputs": [
                {
                    "output_type": "display_data",
                    "data": {
                        "text/html": "(1 row(s) affected)"
                    },
                    "metadata": {}
                },
                {
                    "output_type": "display_data",
                    "data": {
                        "text/html": "Total execution time: 00:00:01.013"
                    },
                    "metadata": {}
                },
                {
                    "output_type": "execute_result",
                    "execution_count": 58,
                    "data": {
                        "application/vnd.dataresource+json": {
                            "schema": {
                                "fields": [
                                    {
                                        "name": "new_date"
                                    }
                                ]
                            },
                            "data": [
                                {
                                    "new_date": "2020-07-01"
                                }
                            ]
                        },
                        "text/html": "<table><tr><th>new_date</th></tr><tr><td>2020-07-01</td></tr></table>"
                    },
                    "metadata": {}
                }
            ],
            "execution_count": 58
        },
        {
            "cell_type": "code",
            "source": [
                "--Para agregar un mes a una fecha específica\r\n",
                "SELECT DATE_ADD('2020-06-01', INTERVAL 1 MONTH) AS new_date;"
            ],
            "metadata": {
                "azdata_cell_guid": "8eb85dbe-bb72-4c28-aa8d-41fc0693fb29",
                "language": "sql"
            },
            "outputs": [
                {
                    "output_type": "display_data",
                    "data": {
                        "text/html": "(1 row(s) affected)"
                    },
                    "metadata": {}
                },
                {
                    "output_type": "display_data",
                    "data": {
                        "text/html": "Total execution time: 00:00:01.017"
                    },
                    "metadata": {}
                },
                {
                    "output_type": "execute_result",
                    "execution_count": 59,
                    "data": {
                        "application/vnd.dataresource+json": {
                            "schema": {
                                "fields": [
                                    {
                                        "name": "new_date"
                                    }
                                ]
                            },
                            "data": [
                                {
                                    "new_date": "2020-07-01"
                                }
                            ]
                        },
                        "text/html": "<table><tr><th>new_date</th></tr><tr><td>2020-07-01</td></tr></table>"
                    },
                    "metadata": {}
                }
            ],
            "execution_count": 59
        },
        {
            "cell_type": "code",
            "source": [
                "--Para restar un mes a una fecha específica:\r\n",
                "SELECT DATE_SUB('2020-06-01', INTERVAL 1 MONTH) AS new_date;\r\n",
                ""
            ],
            "metadata": {
                "azdata_cell_guid": "96529278-7d5e-403f-9e6a-b26ed46fca69",
                "language": "sql"
            },
            "outputs": [
                {
                    "output_type": "display_data",
                    "data": {
                        "text/html": "(1 row(s) affected)"
                    },
                    "metadata": {}
                },
                {
                    "output_type": "display_data",
                    "data": {
                        "text/html": "Total execution time: 00:00:01.003"
                    },
                    "metadata": {}
                },
                {
                    "output_type": "execute_result",
                    "execution_count": 60,
                    "data": {
                        "application/vnd.dataresource+json": {
                            "schema": {
                                "fields": [
                                    {
                                        "name": "new_date"
                                    }
                                ]
                            },
                            "data": [
                                {
                                    "new_date": "2020-05-01"
                                }
                            ]
                        },
                        "text/html": "<table><tr><th>new_date</th></tr><tr><td>2020-05-01</td></tr></table>"
                    },
                    "metadata": {}
                }
            ],
            "execution_count": 60
        },
        {
            "cell_type": "code",
            "source": [
                "--Para agregar horas a un tiempo específico:\r\n",
                "SELECT ADDTIME('05:00:00', '03:00:00') AS new_time;\r\n",
                ""
            ],
            "metadata": {
                "azdata_cell_guid": "4e58a01e-98e3-447e-9de5-3ad30f9c47b9",
                "language": "sql"
            },
            "outputs": [
                {
                    "output_type": "display_data",
                    "data": {
                        "text/html": "(1 row(s) affected)"
                    },
                    "metadata": {}
                },
                {
                    "output_type": "display_data",
                    "data": {
                        "text/html": "Total execution time: 00:00:01.006"
                    },
                    "metadata": {}
                },
                {
                    "output_type": "execute_result",
                    "execution_count": 61,
                    "data": {
                        "application/vnd.dataresource+json": {
                            "schema": {
                                "fields": [
                                    {
                                        "name": "new_time"
                                    }
                                ]
                            },
                            "data": [
                                {
                                    "new_time": "08:00:00"
                                }
                            ]
                        },
                        "text/html": "<table><tr><th>new_time</th></tr><tr><td>08:00:00</td></tr></table>"
                    },
                    "metadata": {}
                }
            ],
            "execution_count": 61
        },
        {
            "cell_type": "code",
            "source": [
                "--Para restar horas a un tiempo específico:\r\n",
                "SELECT SUBTIME('05:00:00', '03:00:00') AS new_time;\r\n",
                ""
            ],
            "metadata": {
                "azdata_cell_guid": "b44b61e7-05be-461d-ab12-fa115b72103b",
                "language": "sql"
            },
            "outputs": [
                {
                    "output_type": "display_data",
                    "data": {
                        "text/html": "(1 row(s) affected)"
                    },
                    "metadata": {}
                },
                {
                    "output_type": "display_data",
                    "data": {
                        "text/html": "Total execution time: 00:00:01.012"
                    },
                    "metadata": {}
                },
                {
                    "output_type": "execute_result",
                    "execution_count": 62,
                    "data": {
                        "application/vnd.dataresource+json": {
                            "schema": {
                                "fields": [
                                    {
                                        "name": "new_time"
                                    }
                                ]
                            },
                            "data": [
                                {
                                    "new_time": "02:00:00"
                                }
                            ]
                        },
                        "text/html": "<table><tr><th>new_time</th></tr><tr><td>02:00:00</td></tr></table>"
                    },
                    "metadata": {}
                }
            ],
            "execution_count": 62
        },
        {
            "cell_type": "code",
            "source": [
                "--Para calcular la diferencia entre dos tiempos:\r\n",
                "SELECT TIMEDIFF('05:00:00', '03:00:00') AS time_diff;\r\n",
                ""
            ],
            "metadata": {
                "azdata_cell_guid": "4a4a3fdf-6be0-4d76-b611-2b0a38e61cd8",
                "language": "sql"
            },
            "outputs": [
                {
                    "output_type": "display_data",
                    "data": {
                        "text/html": "(1 row(s) affected)"
                    },
                    "metadata": {}
                },
                {
                    "output_type": "display_data",
                    "data": {
                        "text/html": "Total execution time: 00:00:01.018"
                    },
                    "metadata": {}
                },
                {
                    "output_type": "execute_result",
                    "execution_count": 63,
                    "data": {
                        "application/vnd.dataresource+json": {
                            "schema": {
                                "fields": [
                                    {
                                        "name": "time_diff"
                                    }
                                ]
                            },
                            "data": [
                                {
                                    "time_diff": "2:00:00"
                                }
                            ]
                        },
                        "text/html": "<table><tr><th>time_diff</th></tr><tr><td>2:00:00</td></tr></table>"
                    },
                    "metadata": {}
                }
            ],
            "execution_count": 63
        },
        {
            "cell_type": "code",
            "source": [
                "--Para multiplicar un tiempo por un número:\r\n",
                "\r\n",
                "SELECT MAKETIME(HOUR('05:00:00') * 2, MINUTE('05:00:00') * 2, SECOND('05:00:00') * 2) AS time_multiplied;\r\n",
                ""
            ],
            "metadata": {
                "azdata_cell_guid": "d7a35bbd-a54d-4c2f-b432-082f35a17aae",
                "language": "sql"
            },
            "outputs": [
                {
                    "output_type": "display_data",
                    "data": {
                        "text/html": "(1 row(s) affected)"
                    },
                    "metadata": {}
                },
                {
                    "output_type": "display_data",
                    "data": {
                        "text/html": "Total execution time: 00:00:01.017"
                    },
                    "metadata": {}
                },
                {
                    "output_type": "execute_result",
                    "execution_count": 64,
                    "data": {
                        "application/vnd.dataresource+json": {
                            "schema": {
                                "fields": [
                                    {
                                        "name": "time_multiplied"
                                    }
                                ]
                            },
                            "data": [
                                {
                                    "time_multiplied": "10:00:00"
                                }
                            ]
                        },
                        "text/html": "<table><tr><th>time_multiplied</th></tr><tr><td>10:00:00</td></tr></table>"
                    },
                    "metadata": {}
                }
            ],
            "execution_count": 64
        },
        {
            "cell_type": "markdown",
            "source": [
                "## Tendencia de los datos ( Trending the Data)"
            ],
            "metadata": {
                "azdata_cell_guid": "3943f45f-0fa1-4d70-b5dd-fa2bbbc19b2f"
            },
            "attachments": {}
        },
        {
            "cell_type": "code",
            "source": [
                "SELECT * \r\n",
                "FROM retail_sales;\r\n",
                ""
            ],
            "metadata": {
                "azdata_cell_guid": "14992c3c-2813-4c39-81a6-ab087171382a",
                "language": "sql"
            },
            "outputs": [
                {
                    "output_type": "display_data",
                    "data": {
                        "text/html": "(98 row(s) affected)"
                    },
                    "metadata": {}
                },
                {
                    "output_type": "display_data",
                    "data": {
                        "text/html": "Total execution time: 00:00:01.018"
                    },
                    "metadata": {}
                },
                {
                    "output_type": "execute_result",
                    "execution_count": 69,
                    "data": {
                        "application/vnd.dataresource+json": {
                            "schema": {
                                "fields": [
                                    {
                                        "name": "sales_month"
                                    },
                                    {
                                        "name": "kind_of_business"
                                    },
                                    {
                                        "name": "sales"
                                    }
                                ]
                            },
                            "data": [
                                {
                                    "sales_month": "2019-01-02",
                                    "kind_of_business": "norte",
                                    "sales": "666"
                                },
                                {
                                    "sales_month": "2019-01-03",
                                    "kind_of_business": "este",
                                    "sales": "1505"
                                },
                                {
                                    "sales_month": "2019-01-04",
                                    "kind_of_business": "norte",
                                    "sales": "2145"
                                },
                                {
                                    "sales_month": "2019-01-07",
                                    "kind_of_business": "norte",
                                    "sales": "751"
                                },
                                {
                                    "sales_month": "2019-01-08",
                                    "kind_of_business": "sur",
                                    "sales": "1657"
                                },
                                {
                                    "sales_month": "2019-01-09",
                                    "kind_of_business": "sur",
                                    "sales": "1183"
                                },
                                {
                                    "sales_month": "2019-01-10",
                                    "kind_of_business": "oeste",
                                    "sales": "1418"
                                },
                                {
                                    "sales_month": "2019-01-11",
                                    "kind_of_business": "sur",
                                    "sales": "2311"
                                },
                                {
                                    "sales_month": "2019-01-14",
                                    "kind_of_business": "norte",
                                    "sales": "614"
                                },
                                {
                                    "sales_month": "2019-01-15",
                                    "kind_of_business": "este",
                                    "sales": "1862"
                                },
                                {
                                    "sales_month": "2019-01-16",
                                    "kind_of_business": "este",
                                    "sales": "1794"
                                },
                                {
                                    "sales_month": "2019-01-17",
                                    "kind_of_business": "sur",
                                    "sales": "1497"
                                },
                                {
                                    "sales_month": "2019-01-18",
                                    "kind_of_business": "norte",
                                    "sales": "2478"
                                },
                                {
                                    "sales_month": "2019-01-21",
                                    "kind_of_business": "norte",
                                    "sales": "1632"
                                },
                                {
                                    "sales_month": "2019-01-22",
                                    "kind_of_business": "sur",
                                    "sales": "1723"
                                },
                                {
                                    "sales_month": "2019-01-23",
                                    "kind_of_business": "este",
                                    "sales": "2247"
                                },
                                {
                                    "sales_month": "2019-01-24",
                                    "kind_of_business": "oeste",
                                    "sales": "1536"
                                },
                                {
                                    "sales_month": "2019-01-25",
                                    "kind_of_business": "oeste",
                                    "sales": "2157"
                                },
                                {
                                    "sales_month": "2019-01-28",
                                    "kind_of_business": "norte",
                                    "sales": "1893"
                                },
                                {
                                    "sales_month": "2019-01-29",
                                    "kind_of_business": "este",
                                    "sales": "2028"
                                },
                                {
                                    "sales_month": "2019-01-30",
                                    "kind_of_business": "este",
                                    "sales": "1941"
                                },
                                {
                                    "sales_month": "2019-01-31",
                                    "kind_of_business": "sur",
                                    "sales": "1234"
                                },
                                {
                                    "sales_month": "2019-02-01",
                                    "kind_of_business": "norte",
                                    "sales": "1776"
                                },
                                {
                                    "sales_month": "2019-02-04",
                                    "kind_of_business": "sur",
                                    "sales": "2385"
                                },
                                {
                                    "sales_month": "2019-02-05",
                                    "kind_of_business": "oeste",
                                    "sales": "1629"
                                },
                                {
                                    "sales_month": "2019-02-06",
                                    "kind_of_business": "oeste",
                                    "sales": "1946"
                                },
                                {
                                    "sales_month": "2019-02-07",
                                    "kind_of_business": "este",
                                    "sales": "2054"
                                },
                                {
                                    "sales_month": "2019-02-08",
                                    "kind_of_business": "este",
                                    "sales": "2186"
                                },
                                {
                                    "sales_month": "2019-02-11",
                                    "kind_of_business": "norte",
                                    "sales": "1997"
                                },
                                {
                                    "sales_month": "2019-02-12",
                                    "kind_of_business": "sur",
                                    "sales": "1735"
                                },
                                {
                                    "sales_month": "2019-02-13",
                                    "kind_of_business": "oeste",
                                    "sales": "1540"
                                },
                                {
                                    "sales_month": "2019-02-14",
                                    "kind_of_business": "norte",
                                    "sales": "1842"
                                },
                                {
                                    "sales_month": "2019-02-15",
                                    "kind_of_business": "este",
                                    "sales": "2153"
                                },
                                {
                                    "sales_month": "2019-02-18",
                                    "kind_of_business": "oeste",
                                    "sales": "1672"
                                },
                                {
                                    "sales_month": "2019-02-19",
                                    "kind_of_business": "este",
                                    "sales": "1837"
                                },
                                {
                                    "sales_month": "2019-02-20",
                                    "kind_of_business": "sur",
                                    "sales": "2220"
                                },
                                {
                                    "sales_month": "2019-02-21",
                                    "kind_of_business": "norte",
                                    "sales": "2368"
                                },
                                {
                                    "sales_month": "2019-02-22",
                                    "kind_of_business": "sur",
                                    "sales": "1567"
                                },
                                {
                                    "sales_month": "2019-02-25",
                                    "kind_of_business": "norte",
                                    "sales": "1879"
                                },
                                {
                                    "sales_month": "2019-02-26",
                                    "kind_of_business": "este",
                                    "sales": "1983"
                                },
                                {
                                    "sales_month": "2019-02-27",
                                    "kind_of_business": "este",
                                    "sales": "2112"
                                },
                                {
                                    "sales_month": "2019-02-28",
                                    "kind_of_business": "oeste",
                                    "sales": "1624"
                                },
                                {
                                    "sales_month": "2019-03-01",
                                    "kind_of_business": "norte",
                                    "sales": "1745"
                                },
                                {
                                    "sales_month": "2019-03-04",
                                    "kind_of_business": "este",
                                    "sales": "1912"
                                },
                                {
                                    "sales_month": "2019-03-05",
                                    "kind_of_business": "sur",
                                    "sales": "1526"
                                },
                                {
                                    "sales_month": "2019-03-06",
                                    "kind_of_business": "oeste",
                                    "sales": "2309"
                                },
                                {
                                    "sales_month": "2019-03-07",
                                    "kind_of_business": "norte",
                                    "sales": "2387"
                                },
                                {
                                    "sales_month": "2019-03-08",
                                    "kind_of_business": "sur",
                                    "sales": "1940"
                                },
                                {
                                    "sales_month": "2019-03-11",
                                    "kind_of_business": "este",
                                    "sales": "2075"
                                },
                                {
                                    "sales_month": "2019-03-12",
                                    "kind_of_business": "sur",
                                    "sales": "1658"
                                },
                                {
                                    "sales_month": "2019-03-13",
                                    "kind_of_business": "oeste",
                                    "sales": "1432"
                                },
                                {
                                    "sales_month": "2019-03-14",
                                    "kind_of_business": "norte",
                                    "sales": "1824"
                                },
                                {
                                    "sales_month": "2019-03-15",
                                    "kind_of_business": "este",
                                    "sales": "2196"
                                },
                                {
                                    "sales_month": "2019-03-18",
                                    "kind_of_business": "norte",
                                    "sales": "2310"
                                },
                                {
                                    "sales_month": "2019-03-19",
                                    "kind_of_business": "sur",
                                    "sales": "1765"
                                },
                                {
                                    "sales_month": "2019-03-20",
                                    "kind_of_business": "oeste",
                                    "sales": "1583"
                                },
                                {
                                    "sales_month": "2019-03-21",
                                    "kind_of_business": "norte",
                                    "sales": "2147"
                                },
                                {
                                    "sales_month": "2019-03-22",
                                    "kind_of_business": "sur",
                                    "sales": "1982"
                                },
                                {
                                    "sales_month": "2019-03-25",
                                    "kind_of_business": "este",
                                    "sales": "2249"
                                },
                                {
                                    "sales_month": "2019-03-26",
                                    "kind_of_business": "oeste",
                                    "sales": "1795"
                                },
                                {
                                    "sales_month": "2019-03-27",
                                    "kind_of_business": "sur",
                                    "sales": "1650"
                                },
                                {
                                    "sales_month": "2019-03-28",
                                    "kind_of_business": "norte",
                                    "sales": "1913"
                                },
                                {
                                    "sales_month": "2019-03-29",
                                    "kind_of_business": "este",
                                    "sales": "2024"
                                },
                                {
                                    "sales_month": "2019-04-01",
                                    "kind_of_business": "oeste",
                                    "sales": "1556"
                                },
                                {
                                    "sales_month": "2019-04-02",
                                    "kind_of_business": "norte",
                                    "sales": "1867"
                                },
                                {
                                    "sales_month": "2019-04-03",
                                    "kind_of_business": "sur",
                                    "sales": "1438"
                                },
                                {
                                    "sales_month": "2019-04-04",
                                    "kind_of_business": "este",
                                    "sales": "2115"
                                },
                                {
                                    "sales_month": "2019-04-05",
                                    "kind_of_business": "oeste",
                                    "sales": "1752"
                                },
                                {
                                    "sales_month": "2019-04-08",
                                    "kind_of_business": "norte",
                                    "sales": "2234"
                                },
                                {
                                    "sales_month": "2019-04-09",
                                    "kind_of_business": "sur",
                                    "sales": "1985"
                                },
                                {
                                    "sales_month": "2019-04-10",
                                    "kind_of_business": "este",
                                    "sales": "1679"
                                },
                                {
                                    "sales_month": "2019-04-11",
                                    "kind_of_business": "oeste",
                                    "sales": "1412"
                                },
                                {
                                    "sales_month": "2019-04-12",
                                    "kind_of_business": "norte",
                                    "sales": "1890"
                                },
                                {
                                    "sales_month": "2019-04-15",
                                    "kind_of_business": "sur",
                                    "sales": "2156"
                                },
                                {
                                    "sales_month": "2019-04-16",
                                    "kind_of_business": "este",
                                    "sales": "2087"
                                },
                                {
                                    "sales_month": "2019-04-17",
                                    "kind_of_business": "oeste",
                                    "sales": "1593"
                                },
                                {
                                    "sales_month": "2019-04-18",
                                    "kind_of_business": "norte",
                                    "sales": "1724"
                                },
                                {
                                    "sales_month": "2019-04-22",
                                    "kind_of_business": "este",
                                    "sales": "2251"
                                },
                                {
                                    "sales_month": "2019-04-23",
                                    "kind_of_business": "oeste",
                                    "sales": "1940"
                                },
                                {
                                    "sales_month": "2019-04-24",
                                    "kind_of_business": "norte",
                                    "sales": "1873"
                                },
                                {
                                    "sales_month": "2019-04-25",
                                    "kind_of_business": "sur",
                                    "sales": "1729"
                                },
                                {
                                    "sales_month": "2019-04-26",
                                    "kind_of_business": "este",
                                    "sales": "2113"
                                },
                                {
                                    "sales_month": "2019-04-29",
                                    "kind_of_business": "oeste",
                                    "sales": "1567"
                                },
                                {
                                    "sales_month": "2019-04-30",
                                    "kind_of_business": "norte",
                                    "sales": "1935"
                                },
                                {
                                    "sales_month": "2019-05-01",
                                    "kind_of_business": "sur",
                                    "sales": "1754"
                                },
                                {
                                    "sales_month": "2019-05-02",
                                    "kind_of_business": "este",
                                    "sales": "2228"
                                },
                                {
                                    "sales_month": "2019-05-03",
                                    "kind_of_business": "oeste",
                                    "sales": "1865"
                                },
                                {
                                    "sales_month": "2019-05-06",
                                    "kind_of_business": "norte",
                                    "sales": "2176"
                                },
                                {
                                    "sales_month": "2019-05-07",
                                    "kind_of_business": "sur",
                                    "sales": "1689"
                                },
                                {
                                    "sales_month": "2019-05-08",
                                    "kind_of_business": "este",
                                    "sales": "1550"
                                },
                                {
                                    "sales_month": "2019-05-09",
                                    "kind_of_business": "oeste",
                                    "sales": "1992"
                                },
                                {
                                    "sales_month": "2019-05-10",
                                    "kind_of_business": "norte",
                                    "sales": "1897"
                                },
                                {
                                    "sales_month": "2019-05-13",
                                    "kind_of_business": "sur",
                                    "sales": "2123"
                                },
                                {
                                    "sales_month": "2019-05-14",
                                    "kind_of_business": "este",
                                    "sales": "2345"
                                },
                                {
                                    "sales_month": "2019-05-15",
                                    "kind_of_business": "oeste",
                                    "sales": "1724"
                                },
                                {
                                    "sales_month": "2019-05-16",
                                    "kind_of_business": "norte",
                                    "sales": "1860"
                                },
                                {
                                    "sales_month": "2019-05-17",
                                    "kind_of_business": "sur",
                                    "sales": "1985"
                                },
                                {
                                    "sales_month": "2019-05-20",
                                    "kind_of_business": "este",
                                    "sales": "2134"
                                }
                            ]
                        },
                        "text/html": "<table><tr><th>sales_month</th><th>kind_of_business</th><th>sales</th></tr><tr><td>2019-01-02</td><td>norte</td><td>666</td></tr><tr><td>2019-01-03</td><td>este</td><td>1505</td></tr><tr><td>2019-01-04</td><td>norte</td><td>2145</td></tr><tr><td>2019-01-07</td><td>norte</td><td>751</td></tr><tr><td>2019-01-08</td><td>sur</td><td>1657</td></tr><tr><td>2019-01-09</td><td>sur</td><td>1183</td></tr><tr><td>2019-01-10</td><td>oeste</td><td>1418</td></tr><tr><td>2019-01-11</td><td>sur</td><td>2311</td></tr><tr><td>2019-01-14</td><td>norte</td><td>614</td></tr><tr><td>2019-01-15</td><td>este</td><td>1862</td></tr><tr><td>2019-01-16</td><td>este</td><td>1794</td></tr><tr><td>2019-01-17</td><td>sur</td><td>1497</td></tr><tr><td>2019-01-18</td><td>norte</td><td>2478</td></tr><tr><td>2019-01-21</td><td>norte</td><td>1632</td></tr><tr><td>2019-01-22</td><td>sur</td><td>1723</td></tr><tr><td>2019-01-23</td><td>este</td><td>2247</td></tr><tr><td>2019-01-24</td><td>oeste</td><td>1536</td></tr><tr><td>2019-01-25</td><td>oeste</td><td>2157</td></tr><tr><td>2019-01-28</td><td>norte</td><td>1893</td></tr><tr><td>2019-01-29</td><td>este</td><td>2028</td></tr><tr><td>2019-01-30</td><td>este</td><td>1941</td></tr><tr><td>2019-01-31</td><td>sur</td><td>1234</td></tr><tr><td>2019-02-01</td><td>norte</td><td>1776</td></tr><tr><td>2019-02-04</td><td>sur</td><td>2385</td></tr><tr><td>2019-02-05</td><td>oeste</td><td>1629</td></tr><tr><td>2019-02-06</td><td>oeste</td><td>1946</td></tr><tr><td>2019-02-07</td><td>este</td><td>2054</td></tr><tr><td>2019-02-08</td><td>este</td><td>2186</td></tr><tr><td>2019-02-11</td><td>norte</td><td>1997</td></tr><tr><td>2019-02-12</td><td>sur</td><td>1735</td></tr><tr><td>2019-02-13</td><td>oeste</td><td>1540</td></tr><tr><td>2019-02-14</td><td>norte</td><td>1842</td></tr><tr><td>2019-02-15</td><td>este</td><td>2153</td></tr><tr><td>2019-02-18</td><td>oeste</td><td>1672</td></tr><tr><td>2019-02-19</td><td>este</td><td>1837</td></tr><tr><td>2019-02-20</td><td>sur</td><td>2220</td></tr><tr><td>2019-02-21</td><td>norte</td><td>2368</td></tr><tr><td>2019-02-22</td><td>sur</td><td>1567</td></tr><tr><td>2019-02-25</td><td>norte</td><td>1879</td></tr><tr><td>2019-02-26</td><td>este</td><td>1983</td></tr><tr><td>2019-02-27</td><td>este</td><td>2112</td></tr><tr><td>2019-02-28</td><td>oeste</td><td>1624</td></tr><tr><td>2019-03-01</td><td>norte</td><td>1745</td></tr><tr><td>2019-03-04</td><td>este</td><td>1912</td></tr><tr><td>2019-03-05</td><td>sur</td><td>1526</td></tr><tr><td>2019-03-06</td><td>oeste</td><td>2309</td></tr><tr><td>2019-03-07</td><td>norte</td><td>2387</td></tr><tr><td>2019-03-08</td><td>sur</td><td>1940</td></tr><tr><td>2019-03-11</td><td>este</td><td>2075</td></tr><tr><td>2019-03-12</td><td>sur</td><td>1658</td></tr><tr><td>2019-03-13</td><td>oeste</td><td>1432</td></tr><tr><td>2019-03-14</td><td>norte</td><td>1824</td></tr><tr><td>2019-03-15</td><td>este</td><td>2196</td></tr><tr><td>2019-03-18</td><td>norte</td><td>2310</td></tr><tr><td>2019-03-19</td><td>sur</td><td>1765</td></tr><tr><td>2019-03-20</td><td>oeste</td><td>1583</td></tr><tr><td>2019-03-21</td><td>norte</td><td>2147</td></tr><tr><td>2019-03-22</td><td>sur</td><td>1982</td></tr><tr><td>2019-03-25</td><td>este</td><td>2249</td></tr><tr><td>2019-03-26</td><td>oeste</td><td>1795</td></tr><tr><td>2019-03-27</td><td>sur</td><td>1650</td></tr><tr><td>2019-03-28</td><td>norte</td><td>1913</td></tr><tr><td>2019-03-29</td><td>este</td><td>2024</td></tr><tr><td>2019-04-01</td><td>oeste</td><td>1556</td></tr><tr><td>2019-04-02</td><td>norte</td><td>1867</td></tr><tr><td>2019-04-03</td><td>sur</td><td>1438</td></tr><tr><td>2019-04-04</td><td>este</td><td>2115</td></tr><tr><td>2019-04-05</td><td>oeste</td><td>1752</td></tr><tr><td>2019-04-08</td><td>norte</td><td>2234</td></tr><tr><td>2019-04-09</td><td>sur</td><td>1985</td></tr><tr><td>2019-04-10</td><td>este</td><td>1679</td></tr><tr><td>2019-04-11</td><td>oeste</td><td>1412</td></tr><tr><td>2019-04-12</td><td>norte</td><td>1890</td></tr><tr><td>2019-04-15</td><td>sur</td><td>2156</td></tr><tr><td>2019-04-16</td><td>este</td><td>2087</td></tr><tr><td>2019-04-17</td><td>oeste</td><td>1593</td></tr><tr><td>2019-04-18</td><td>norte</td><td>1724</td></tr><tr><td>2019-04-22</td><td>este</td><td>2251</td></tr><tr><td>2019-04-23</td><td>oeste</td><td>1940</td></tr><tr><td>2019-04-24</td><td>norte</td><td>1873</td></tr><tr><td>2019-04-25</td><td>sur</td><td>1729</td></tr><tr><td>2019-04-26</td><td>este</td><td>2113</td></tr><tr><td>2019-04-29</td><td>oeste</td><td>1567</td></tr><tr><td>2019-04-30</td><td>norte</td><td>1935</td></tr><tr><td>2019-05-01</td><td>sur</td><td>1754</td></tr><tr><td>2019-05-02</td><td>este</td><td>2228</td></tr><tr><td>2019-05-03</td><td>oeste</td><td>1865</td></tr><tr><td>2019-05-06</td><td>norte</td><td>2176</td></tr><tr><td>2019-05-07</td><td>sur</td><td>1689</td></tr><tr><td>2019-05-08</td><td>este</td><td>1550</td></tr><tr><td>2019-05-09</td><td>oeste</td><td>1992</td></tr><tr><td>2019-05-10</td><td>norte</td><td>1897</td></tr><tr><td>2019-05-13</td><td>sur</td><td>2123</td></tr><tr><td>2019-05-14</td><td>este</td><td>2345</td></tr><tr><td>2019-05-15</td><td>oeste</td><td>1724</td></tr><tr><td>2019-05-16</td><td>norte</td><td>1860</td></tr><tr><td>2019-05-17</td><td>sur</td><td>1985</td></tr><tr><td>2019-05-20</td><td>este</td><td>2134</td></tr></table>"
                    },
                    "metadata": {}
                }
            ],
            "execution_count": 69
        },
        {
            "cell_type": "code",
            "source": [
                "--Tendencia de ventas totales por mes:\r\n",
                "SELECT sales_month, SUM(sales) AS total_sales\r\n",
                "FROM retail_sales\r\n",
                "WHERE sales_month BETWEEN '2019-01-04' AND '2019-05-20'\r\n",
                "GROUP BY sales_month;\r\n",
                ""
            ],
            "metadata": {
                "azdata_cell_guid": "458fd81f-025f-4511-ab99-3a0a7813e3fd",
                "language": "sql"
            },
            "outputs": [
                {
                    "output_type": "display_data",
                    "data": {
                        "text/html": "(96 row(s) affected)"
                    },
                    "metadata": {}
                },
                {
                    "output_type": "display_data",
                    "data": {
                        "text/html": "Total execution time: 00:00:01.035"
                    },
                    "metadata": {}
                },
                {
                    "output_type": "execute_result",
                    "execution_count": 71,
                    "data": {
                        "application/vnd.dataresource+json": {
                            "schema": {
                                "fields": [
                                    {
                                        "name": "sales_month"
                                    },
                                    {
                                        "name": "total_sales"
                                    }
                                ]
                            },
                            "data": [
                                {
                                    "sales_month": "2019-01-04",
                                    "total_sales": "2145"
                                },
                                {
                                    "sales_month": "2019-01-07",
                                    "total_sales": "751"
                                },
                                {
                                    "sales_month": "2019-01-08",
                                    "total_sales": "1657"
                                },
                                {
                                    "sales_month": "2019-01-09",
                                    "total_sales": "1183"
                                },
                                {
                                    "sales_month": "2019-01-10",
                                    "total_sales": "1418"
                                },
                                {
                                    "sales_month": "2019-01-11",
                                    "total_sales": "2311"
                                },
                                {
                                    "sales_month": "2019-01-14",
                                    "total_sales": "614"
                                },
                                {
                                    "sales_month": "2019-01-15",
                                    "total_sales": "1862"
                                },
                                {
                                    "sales_month": "2019-01-16",
                                    "total_sales": "1794"
                                },
                                {
                                    "sales_month": "2019-01-17",
                                    "total_sales": "1497"
                                },
                                {
                                    "sales_month": "2019-01-18",
                                    "total_sales": "2478"
                                },
                                {
                                    "sales_month": "2019-01-21",
                                    "total_sales": "1632"
                                },
                                {
                                    "sales_month": "2019-01-22",
                                    "total_sales": "1723"
                                },
                                {
                                    "sales_month": "2019-01-23",
                                    "total_sales": "2247"
                                },
                                {
                                    "sales_month": "2019-01-24",
                                    "total_sales": "1536"
                                },
                                {
                                    "sales_month": "2019-01-25",
                                    "total_sales": "2157"
                                },
                                {
                                    "sales_month": "2019-01-28",
                                    "total_sales": "1893"
                                },
                                {
                                    "sales_month": "2019-01-29",
                                    "total_sales": "2028"
                                },
                                {
                                    "sales_month": "2019-01-30",
                                    "total_sales": "1941"
                                },
                                {
                                    "sales_month": "2019-01-31",
                                    "total_sales": "1234"
                                },
                                {
                                    "sales_month": "2019-02-01",
                                    "total_sales": "1776"
                                },
                                {
                                    "sales_month": "2019-02-04",
                                    "total_sales": "2385"
                                },
                                {
                                    "sales_month": "2019-02-05",
                                    "total_sales": "1629"
                                },
                                {
                                    "sales_month": "2019-02-06",
                                    "total_sales": "1946"
                                },
                                {
                                    "sales_month": "2019-02-07",
                                    "total_sales": "2054"
                                },
                                {
                                    "sales_month": "2019-02-08",
                                    "total_sales": "2186"
                                },
                                {
                                    "sales_month": "2019-02-11",
                                    "total_sales": "1997"
                                },
                                {
                                    "sales_month": "2019-02-12",
                                    "total_sales": "1735"
                                },
                                {
                                    "sales_month": "2019-02-13",
                                    "total_sales": "1540"
                                },
                                {
                                    "sales_month": "2019-02-14",
                                    "total_sales": "1842"
                                },
                                {
                                    "sales_month": "2019-02-15",
                                    "total_sales": "2153"
                                },
                                {
                                    "sales_month": "2019-02-18",
                                    "total_sales": "1672"
                                },
                                {
                                    "sales_month": "2019-02-19",
                                    "total_sales": "1837"
                                },
                                {
                                    "sales_month": "2019-02-20",
                                    "total_sales": "2220"
                                },
                                {
                                    "sales_month": "2019-02-21",
                                    "total_sales": "2368"
                                },
                                {
                                    "sales_month": "2019-02-22",
                                    "total_sales": "1567"
                                },
                                {
                                    "sales_month": "2019-02-25",
                                    "total_sales": "1879"
                                },
                                {
                                    "sales_month": "2019-02-26",
                                    "total_sales": "1983"
                                },
                                {
                                    "sales_month": "2019-02-27",
                                    "total_sales": "2112"
                                },
                                {
                                    "sales_month": "2019-02-28",
                                    "total_sales": "1624"
                                },
                                {
                                    "sales_month": "2019-03-01",
                                    "total_sales": "1745"
                                },
                                {
                                    "sales_month": "2019-03-04",
                                    "total_sales": "1912"
                                },
                                {
                                    "sales_month": "2019-03-05",
                                    "total_sales": "1526"
                                },
                                {
                                    "sales_month": "2019-03-06",
                                    "total_sales": "2309"
                                },
                                {
                                    "sales_month": "2019-03-07",
                                    "total_sales": "2387"
                                },
                                {
                                    "sales_month": "2019-03-08",
                                    "total_sales": "1940"
                                },
                                {
                                    "sales_month": "2019-03-11",
                                    "total_sales": "2075"
                                },
                                {
                                    "sales_month": "2019-03-12",
                                    "total_sales": "1658"
                                },
                                {
                                    "sales_month": "2019-03-13",
                                    "total_sales": "1432"
                                },
                                {
                                    "sales_month": "2019-03-14",
                                    "total_sales": "1824"
                                },
                                {
                                    "sales_month": "2019-03-15",
                                    "total_sales": "2196"
                                },
                                {
                                    "sales_month": "2019-03-18",
                                    "total_sales": "2310"
                                },
                                {
                                    "sales_month": "2019-03-19",
                                    "total_sales": "1765"
                                },
                                {
                                    "sales_month": "2019-03-20",
                                    "total_sales": "1583"
                                },
                                {
                                    "sales_month": "2019-03-21",
                                    "total_sales": "2147"
                                },
                                {
                                    "sales_month": "2019-03-22",
                                    "total_sales": "1982"
                                },
                                {
                                    "sales_month": "2019-03-25",
                                    "total_sales": "2249"
                                },
                                {
                                    "sales_month": "2019-03-26",
                                    "total_sales": "1795"
                                },
                                {
                                    "sales_month": "2019-03-27",
                                    "total_sales": "1650"
                                },
                                {
                                    "sales_month": "2019-03-28",
                                    "total_sales": "1913"
                                },
                                {
                                    "sales_month": "2019-03-29",
                                    "total_sales": "2024"
                                },
                                {
                                    "sales_month": "2019-04-01",
                                    "total_sales": "1556"
                                },
                                {
                                    "sales_month": "2019-04-02",
                                    "total_sales": "1867"
                                },
                                {
                                    "sales_month": "2019-04-03",
                                    "total_sales": "1438"
                                },
                                {
                                    "sales_month": "2019-04-04",
                                    "total_sales": "2115"
                                },
                                {
                                    "sales_month": "2019-04-05",
                                    "total_sales": "1752"
                                },
                                {
                                    "sales_month": "2019-04-08",
                                    "total_sales": "2234"
                                },
                                {
                                    "sales_month": "2019-04-09",
                                    "total_sales": "1985"
                                },
                                {
                                    "sales_month": "2019-04-10",
                                    "total_sales": "1679"
                                },
                                {
                                    "sales_month": "2019-04-11",
                                    "total_sales": "1412"
                                },
                                {
                                    "sales_month": "2019-04-12",
                                    "total_sales": "1890"
                                },
                                {
                                    "sales_month": "2019-04-15",
                                    "total_sales": "2156"
                                },
                                {
                                    "sales_month": "2019-04-16",
                                    "total_sales": "2087"
                                },
                                {
                                    "sales_month": "2019-04-17",
                                    "total_sales": "1593"
                                },
                                {
                                    "sales_month": "2019-04-18",
                                    "total_sales": "1724"
                                },
                                {
                                    "sales_month": "2019-04-22",
                                    "total_sales": "2251"
                                },
                                {
                                    "sales_month": "2019-04-23",
                                    "total_sales": "1940"
                                },
                                {
                                    "sales_month": "2019-04-24",
                                    "total_sales": "1873"
                                },
                                {
                                    "sales_month": "2019-04-25",
                                    "total_sales": "1729"
                                },
                                {
                                    "sales_month": "2019-04-26",
                                    "total_sales": "2113"
                                },
                                {
                                    "sales_month": "2019-04-29",
                                    "total_sales": "1567"
                                },
                                {
                                    "sales_month": "2019-04-30",
                                    "total_sales": "1935"
                                },
                                {
                                    "sales_month": "2019-05-01",
                                    "total_sales": "1754"
                                },
                                {
                                    "sales_month": "2019-05-02",
                                    "total_sales": "2228"
                                },
                                {
                                    "sales_month": "2019-05-03",
                                    "total_sales": "1865"
                                },
                                {
                                    "sales_month": "2019-05-06",
                                    "total_sales": "2176"
                                },
                                {
                                    "sales_month": "2019-05-07",
                                    "total_sales": "1689"
                                },
                                {
                                    "sales_month": "2019-05-08",
                                    "total_sales": "1550"
                                },
                                {
                                    "sales_month": "2019-05-09",
                                    "total_sales": "1992"
                                },
                                {
                                    "sales_month": "2019-05-10",
                                    "total_sales": "1897"
                                },
                                {
                                    "sales_month": "2019-05-13",
                                    "total_sales": "2123"
                                },
                                {
                                    "sales_month": "2019-05-14",
                                    "total_sales": "2345"
                                },
                                {
                                    "sales_month": "2019-05-15",
                                    "total_sales": "1724"
                                },
                                {
                                    "sales_month": "2019-05-16",
                                    "total_sales": "1860"
                                },
                                {
                                    "sales_month": "2019-05-17",
                                    "total_sales": "1985"
                                },
                                {
                                    "sales_month": "2019-05-20",
                                    "total_sales": "2134"
                                }
                            ]
                        },
                        "text/html": "<table><tr><th>sales_month</th><th>total_sales</th></tr><tr><td>2019-01-04</td><td>2145</td></tr><tr><td>2019-01-07</td><td>751</td></tr><tr><td>2019-01-08</td><td>1657</td></tr><tr><td>2019-01-09</td><td>1183</td></tr><tr><td>2019-01-10</td><td>1418</td></tr><tr><td>2019-01-11</td><td>2311</td></tr><tr><td>2019-01-14</td><td>614</td></tr><tr><td>2019-01-15</td><td>1862</td></tr><tr><td>2019-01-16</td><td>1794</td></tr><tr><td>2019-01-17</td><td>1497</td></tr><tr><td>2019-01-18</td><td>2478</td></tr><tr><td>2019-01-21</td><td>1632</td></tr><tr><td>2019-01-22</td><td>1723</td></tr><tr><td>2019-01-23</td><td>2247</td></tr><tr><td>2019-01-24</td><td>1536</td></tr><tr><td>2019-01-25</td><td>2157</td></tr><tr><td>2019-01-28</td><td>1893</td></tr><tr><td>2019-01-29</td><td>2028</td></tr><tr><td>2019-01-30</td><td>1941</td></tr><tr><td>2019-01-31</td><td>1234</td></tr><tr><td>2019-02-01</td><td>1776</td></tr><tr><td>2019-02-04</td><td>2385</td></tr><tr><td>2019-02-05</td><td>1629</td></tr><tr><td>2019-02-06</td><td>1946</td></tr><tr><td>2019-02-07</td><td>2054</td></tr><tr><td>2019-02-08</td><td>2186</td></tr><tr><td>2019-02-11</td><td>1997</td></tr><tr><td>2019-02-12</td><td>1735</td></tr><tr><td>2019-02-13</td><td>1540</td></tr><tr><td>2019-02-14</td><td>1842</td></tr><tr><td>2019-02-15</td><td>2153</td></tr><tr><td>2019-02-18</td><td>1672</td></tr><tr><td>2019-02-19</td><td>1837</td></tr><tr><td>2019-02-20</td><td>2220</td></tr><tr><td>2019-02-21</td><td>2368</td></tr><tr><td>2019-02-22</td><td>1567</td></tr><tr><td>2019-02-25</td><td>1879</td></tr><tr><td>2019-02-26</td><td>1983</td></tr><tr><td>2019-02-27</td><td>2112</td></tr><tr><td>2019-02-28</td><td>1624</td></tr><tr><td>2019-03-01</td><td>1745</td></tr><tr><td>2019-03-04</td><td>1912</td></tr><tr><td>2019-03-05</td><td>1526</td></tr><tr><td>2019-03-06</td><td>2309</td></tr><tr><td>2019-03-07</td><td>2387</td></tr><tr><td>2019-03-08</td><td>1940</td></tr><tr><td>2019-03-11</td><td>2075</td></tr><tr><td>2019-03-12</td><td>1658</td></tr><tr><td>2019-03-13</td><td>1432</td></tr><tr><td>2019-03-14</td><td>1824</td></tr><tr><td>2019-03-15</td><td>2196</td></tr><tr><td>2019-03-18</td><td>2310</td></tr><tr><td>2019-03-19</td><td>1765</td></tr><tr><td>2019-03-20</td><td>1583</td></tr><tr><td>2019-03-21</td><td>2147</td></tr><tr><td>2019-03-22</td><td>1982</td></tr><tr><td>2019-03-25</td><td>2249</td></tr><tr><td>2019-03-26</td><td>1795</td></tr><tr><td>2019-03-27</td><td>1650</td></tr><tr><td>2019-03-28</td><td>1913</td></tr><tr><td>2019-03-29</td><td>2024</td></tr><tr><td>2019-04-01</td><td>1556</td></tr><tr><td>2019-04-02</td><td>1867</td></tr><tr><td>2019-04-03</td><td>1438</td></tr><tr><td>2019-04-04</td><td>2115</td></tr><tr><td>2019-04-05</td><td>1752</td></tr><tr><td>2019-04-08</td><td>2234</td></tr><tr><td>2019-04-09</td><td>1985</td></tr><tr><td>2019-04-10</td><td>1679</td></tr><tr><td>2019-04-11</td><td>1412</td></tr><tr><td>2019-04-12</td><td>1890</td></tr><tr><td>2019-04-15</td><td>2156</td></tr><tr><td>2019-04-16</td><td>2087</td></tr><tr><td>2019-04-17</td><td>1593</td></tr><tr><td>2019-04-18</td><td>1724</td></tr><tr><td>2019-04-22</td><td>2251</td></tr><tr><td>2019-04-23</td><td>1940</td></tr><tr><td>2019-04-24</td><td>1873</td></tr><tr><td>2019-04-25</td><td>1729</td></tr><tr><td>2019-04-26</td><td>2113</td></tr><tr><td>2019-04-29</td><td>1567</td></tr><tr><td>2019-04-30</td><td>1935</td></tr><tr><td>2019-05-01</td><td>1754</td></tr><tr><td>2019-05-02</td><td>2228</td></tr><tr><td>2019-05-03</td><td>1865</td></tr><tr><td>2019-05-06</td><td>2176</td></tr><tr><td>2019-05-07</td><td>1689</td></tr><tr><td>2019-05-08</td><td>1550</td></tr><tr><td>2019-05-09</td><td>1992</td></tr><tr><td>2019-05-10</td><td>1897</td></tr><tr><td>2019-05-13</td><td>2123</td></tr><tr><td>2019-05-14</td><td>2345</td></tr><tr><td>2019-05-15</td><td>1724</td></tr><tr><td>2019-05-16</td><td>1860</td></tr><tr><td>2019-05-17</td><td>1985</td></tr><tr><td>2019-05-20</td><td>2134</td></tr></table>"
                    },
                    "metadata": {}
                }
            ],
            "execution_count": 71
        },
        {
            "cell_type": "code",
            "source": [
                "--Tendencia de ventas totales por año:\r\n",
                "SELECT YEAR(sales_month) AS sales_year, SUM(sales) AS total_sales\r\n",
                "FROM retail_sales\r\n",
                "WHERE sales_month BETWEEN '2019-01-04' AND '2019-05-20'\r\n",
                "GROUP BY sales_year;\r\n",
                ""
            ],
            "metadata": {
                "azdata_cell_guid": "ca00f813-4c1a-4eff-8a86-f4e08503cc61",
                "language": "sql"
            },
            "outputs": [
                {
                    "output_type": "display_data",
                    "data": {
                        "text/html": "(1 row(s) affected)"
                    },
                    "metadata": {}
                },
                {
                    "output_type": "display_data",
                    "data": {
                        "text/html": "Total execution time: 00:00:01.009"
                    },
                    "metadata": {}
                },
                {
                    "output_type": "execute_result",
                    "execution_count": 72,
                    "data": {
                        "application/vnd.dataresource+json": {
                            "schema": {
                                "fields": [
                                    {
                                        "name": "sales_year"
                                    },
                                    {
                                        "name": "total_sales"
                                    }
                                ]
                            },
                            "data": [
                                {
                                    "sales_year": "2019",
                                    "total_sales": "179246"
                                }
                            ]
                        },
                        "text/html": "<table><tr><th>sales_year</th><th>total_sales</th></tr><tr><td>2019</td><td>179246</td></tr></table>"
                    },
                    "metadata": {}
                }
            ],
            "execution_count": 72
        },
        {
            "cell_type": "code",
            "source": [
                "SELECT kind_of_business,\r\n",
                "       SUM(CASE WHEN MONTH(sales_month) = 1 THEN sales ELSE 0 END) AS enero,\r\n",
                "       SUM(CASE WHEN MONTH(sales_month) = 2 THEN sales ELSE 0 END) AS febrero\r\n",
                "FROM retail_sales\r\n",
                "WHERE MONTH(sales_month) IN (1, 2)\r\n",
                "GROUP BY kind_of_business;\r\n",
                "\r\n",
                ""
            ],
            "metadata": {
                "azdata_cell_guid": "e263ada4-33fe-4594-80ee-b38f37c29c5d",
                "language": "sql"
            },
            "outputs": [
                {
                    "output_type": "display_data",
                    "data": {
                        "text/html": "(4 row(s) affected)"
                    },
                    "metadata": {}
                },
                {
                    "output_type": "display_data",
                    "data": {
                        "text/html": "Total execution time: 00:00:01.005"
                    },
                    "metadata": {}
                },
                {
                    "output_type": "execute_result",
                    "execution_count": 79,
                    "data": {
                        "application/vnd.dataresource+json": {
                            "schema": {
                                "fields": [
                                    {
                                        "name": "kind_of_business"
                                    },
                                    {
                                        "name": "enero"
                                    },
                                    {
                                        "name": "febrero"
                                    }
                                ]
                            },
                            "data": [
                                {
                                    "kind_of_business": "norte",
                                    "enero": "10179",
                                    "febrero": "9862"
                                },
                                {
                                    "kind_of_business": "este",
                                    "enero": "11377",
                                    "febrero": "12325"
                                },
                                {
                                    "kind_of_business": "sur",
                                    "enero": "9605",
                                    "febrero": "7907"
                                },
                                {
                                    "kind_of_business": "oeste",
                                    "enero": "5111",
                                    "febrero": "8411"
                                }
                            ]
                        },
                        "text/html": "<table><tr><th>kind_of_business</th><th>enero</th><th>febrero</th></tr><tr><td>norte</td><td>10179</td><td>9862</td></tr><tr><td>este</td><td>11377</td><td>12325</td></tr><tr><td>sur</td><td>9605</td><td>7907</td></tr><tr><td>oeste</td><td>5111</td><td>8411</td></tr></table>"
                    },
                    "metadata": {}
                }
            ],
            "execution_count": 79
        },
        {
            "cell_type": "code",
            "source": [
                "--Comparación de ventas por región:\r\n",
                "SELECT kind_of_business, SUM(sales) AS total_sales\r\n",
                "FROM retail_sales\r\n",
                "GROUP BY kind_of_business;\r\n",
                ""
            ],
            "metadata": {
                "azdata_cell_guid": "e80e6a16-2108-4d41-b38f-df280b9c8381",
                "language": "sql"
            },
            "outputs": [
                {
                    "output_type": "display_data",
                    "data": {
                        "text/html": "(4 row(s) affected)"
                    },
                    "metadata": {}
                },
                {
                    "output_type": "display_data",
                    "data": {
                        "text/html": "Total execution time: 00:00:01.011"
                    },
                    "metadata": {}
                },
                {
                    "output_type": "execute_result",
                    "execution_count": 80,
                    "data": {
                        "application/vnd.dataresource+json": {
                            "schema": {
                                "fields": [
                                    {
                                        "name": "kind_of_business"
                                    },
                                    {
                                        "name": "total_sales"
                                    }
                                ]
                            },
                            "data": [
                                {
                                    "kind_of_business": "norte",
                                    "total_sales": "49823"
                                },
                                {
                                    "kind_of_business": "este",
                                    "total_sales": "52660"
                                },
                                {
                                    "kind_of_business": "sur",
                                    "total_sales": "42892"
                                },
                                {
                                    "kind_of_business": "oeste",
                                    "total_sales": "36042"
                                }
                            ]
                        },
                        "text/html": "<table><tr><th>kind_of_business</th><th>total_sales</th></tr><tr><td>norte</td><td>49823</td></tr><tr><td>este</td><td>52660</td></tr><tr><td>sur</td><td>42892</td></tr><tr><td>oeste</td><td>36042</td></tr></table>"
                    },
                    "metadata": {}
                }
            ],
            "execution_count": 80
        },
        {
            "cell_type": "code",
            "source": [
                "-- Comparación de ventas por tipo de producto:\r\n",
                "SELECT sales_month, kind_of_business, SUM(sales) AS total_sales\r\n",
                "FROM retail_sales\r\n",
                "GROUP BY sales_month, kind_of_business\r\n",
                "ORDER BY sales_month, kind_of_business;\r\n",
                ""
            ],
            "metadata": {
                "azdata_cell_guid": "78134d7a-81bf-41be-b056-44a81e0f6481",
                "language": "sql"
            },
            "outputs": [
                {
                    "output_type": "display_data",
                    "data": {
                        "text/html": "(98 row(s) affected)"
                    },
                    "metadata": {}
                },
                {
                    "output_type": "display_data",
                    "data": {
                        "text/html": "Total execution time: 00:00:01.012"
                    },
                    "metadata": {}
                },
                {
                    "output_type": "execute_result",
                    "execution_count": 81,
                    "data": {
                        "application/vnd.dataresource+json": {
                            "schema": {
                                "fields": [
                                    {
                                        "name": "sales_month"
                                    },
                                    {
                                        "name": "kind_of_business"
                                    },
                                    {
                                        "name": "total_sales"
                                    }
                                ]
                            },
                            "data": [
                                {
                                    "sales_month": "2019-01-02",
                                    "kind_of_business": "norte",
                                    "total_sales": "666"
                                },
                                {
                                    "sales_month": "2019-01-03",
                                    "kind_of_business": "este",
                                    "total_sales": "1505"
                                },
                                {
                                    "sales_month": "2019-01-04",
                                    "kind_of_business": "norte",
                                    "total_sales": "2145"
                                },
                                {
                                    "sales_month": "2019-01-07",
                                    "kind_of_business": "norte",
                                    "total_sales": "751"
                                },
                                {
                                    "sales_month": "2019-01-08",
                                    "kind_of_business": "sur",
                                    "total_sales": "1657"
                                },
                                {
                                    "sales_month": "2019-01-09",
                                    "kind_of_business": "sur",
                                    "total_sales": "1183"
                                },
                                {
                                    "sales_month": "2019-01-10",
                                    "kind_of_business": "oeste",
                                    "total_sales": "1418"
                                },
                                {
                                    "sales_month": "2019-01-11",
                                    "kind_of_business": "sur",
                                    "total_sales": "2311"
                                },
                                {
                                    "sales_month": "2019-01-14",
                                    "kind_of_business": "norte",
                                    "total_sales": "614"
                                },
                                {
                                    "sales_month": "2019-01-15",
                                    "kind_of_business": "este",
                                    "total_sales": "1862"
                                },
                                {
                                    "sales_month": "2019-01-16",
                                    "kind_of_business": "este",
                                    "total_sales": "1794"
                                },
                                {
                                    "sales_month": "2019-01-17",
                                    "kind_of_business": "sur",
                                    "total_sales": "1497"
                                },
                                {
                                    "sales_month": "2019-01-18",
                                    "kind_of_business": "norte",
                                    "total_sales": "2478"
                                },
                                {
                                    "sales_month": "2019-01-21",
                                    "kind_of_business": "norte",
                                    "total_sales": "1632"
                                },
                                {
                                    "sales_month": "2019-01-22",
                                    "kind_of_business": "sur",
                                    "total_sales": "1723"
                                },
                                {
                                    "sales_month": "2019-01-23",
                                    "kind_of_business": "este",
                                    "total_sales": "2247"
                                },
                                {
                                    "sales_month": "2019-01-24",
                                    "kind_of_business": "oeste",
                                    "total_sales": "1536"
                                },
                                {
                                    "sales_month": "2019-01-25",
                                    "kind_of_business": "oeste",
                                    "total_sales": "2157"
                                },
                                {
                                    "sales_month": "2019-01-28",
                                    "kind_of_business": "norte",
                                    "total_sales": "1893"
                                },
                                {
                                    "sales_month": "2019-01-29",
                                    "kind_of_business": "este",
                                    "total_sales": "2028"
                                },
                                {
                                    "sales_month": "2019-01-30",
                                    "kind_of_business": "este",
                                    "total_sales": "1941"
                                },
                                {
                                    "sales_month": "2019-01-31",
                                    "kind_of_business": "sur",
                                    "total_sales": "1234"
                                },
                                {
                                    "sales_month": "2019-02-01",
                                    "kind_of_business": "norte",
                                    "total_sales": "1776"
                                },
                                {
                                    "sales_month": "2019-02-04",
                                    "kind_of_business": "sur",
                                    "total_sales": "2385"
                                },
                                {
                                    "sales_month": "2019-02-05",
                                    "kind_of_business": "oeste",
                                    "total_sales": "1629"
                                },
                                {
                                    "sales_month": "2019-02-06",
                                    "kind_of_business": "oeste",
                                    "total_sales": "1946"
                                },
                                {
                                    "sales_month": "2019-02-07",
                                    "kind_of_business": "este",
                                    "total_sales": "2054"
                                },
                                {
                                    "sales_month": "2019-02-08",
                                    "kind_of_business": "este",
                                    "total_sales": "2186"
                                },
                                {
                                    "sales_month": "2019-02-11",
                                    "kind_of_business": "norte",
                                    "total_sales": "1997"
                                },
                                {
                                    "sales_month": "2019-02-12",
                                    "kind_of_business": "sur",
                                    "total_sales": "1735"
                                },
                                {
                                    "sales_month": "2019-02-13",
                                    "kind_of_business": "oeste",
                                    "total_sales": "1540"
                                },
                                {
                                    "sales_month": "2019-02-14",
                                    "kind_of_business": "norte",
                                    "total_sales": "1842"
                                },
                                {
                                    "sales_month": "2019-02-15",
                                    "kind_of_business": "este",
                                    "total_sales": "2153"
                                },
                                {
                                    "sales_month": "2019-02-18",
                                    "kind_of_business": "oeste",
                                    "total_sales": "1672"
                                },
                                {
                                    "sales_month": "2019-02-19",
                                    "kind_of_business": "este",
                                    "total_sales": "1837"
                                },
                                {
                                    "sales_month": "2019-02-20",
                                    "kind_of_business": "sur",
                                    "total_sales": "2220"
                                },
                                {
                                    "sales_month": "2019-02-21",
                                    "kind_of_business": "norte",
                                    "total_sales": "2368"
                                },
                                {
                                    "sales_month": "2019-02-22",
                                    "kind_of_business": "sur",
                                    "total_sales": "1567"
                                },
                                {
                                    "sales_month": "2019-02-25",
                                    "kind_of_business": "norte",
                                    "total_sales": "1879"
                                },
                                {
                                    "sales_month": "2019-02-26",
                                    "kind_of_business": "este",
                                    "total_sales": "1983"
                                },
                                {
                                    "sales_month": "2019-02-27",
                                    "kind_of_business": "este",
                                    "total_sales": "2112"
                                },
                                {
                                    "sales_month": "2019-02-28",
                                    "kind_of_business": "oeste",
                                    "total_sales": "1624"
                                },
                                {
                                    "sales_month": "2019-03-01",
                                    "kind_of_business": "norte",
                                    "total_sales": "1745"
                                },
                                {
                                    "sales_month": "2019-03-04",
                                    "kind_of_business": "este",
                                    "total_sales": "1912"
                                },
                                {
                                    "sales_month": "2019-03-05",
                                    "kind_of_business": "sur",
                                    "total_sales": "1526"
                                },
                                {
                                    "sales_month": "2019-03-06",
                                    "kind_of_business": "oeste",
                                    "total_sales": "2309"
                                },
                                {
                                    "sales_month": "2019-03-07",
                                    "kind_of_business": "norte",
                                    "total_sales": "2387"
                                },
                                {
                                    "sales_month": "2019-03-08",
                                    "kind_of_business": "sur",
                                    "total_sales": "1940"
                                },
                                {
                                    "sales_month": "2019-03-11",
                                    "kind_of_business": "este",
                                    "total_sales": "2075"
                                },
                                {
                                    "sales_month": "2019-03-12",
                                    "kind_of_business": "sur",
                                    "total_sales": "1658"
                                },
                                {
                                    "sales_month": "2019-03-13",
                                    "kind_of_business": "oeste",
                                    "total_sales": "1432"
                                },
                                {
                                    "sales_month": "2019-03-14",
                                    "kind_of_business": "norte",
                                    "total_sales": "1824"
                                },
                                {
                                    "sales_month": "2019-03-15",
                                    "kind_of_business": "este",
                                    "total_sales": "2196"
                                },
                                {
                                    "sales_month": "2019-03-18",
                                    "kind_of_business": "norte",
                                    "total_sales": "2310"
                                },
                                {
                                    "sales_month": "2019-03-19",
                                    "kind_of_business": "sur",
                                    "total_sales": "1765"
                                },
                                {
                                    "sales_month": "2019-03-20",
                                    "kind_of_business": "oeste",
                                    "total_sales": "1583"
                                },
                                {
                                    "sales_month": "2019-03-21",
                                    "kind_of_business": "norte",
                                    "total_sales": "2147"
                                },
                                {
                                    "sales_month": "2019-03-22",
                                    "kind_of_business": "sur",
                                    "total_sales": "1982"
                                },
                                {
                                    "sales_month": "2019-03-25",
                                    "kind_of_business": "este",
                                    "total_sales": "2249"
                                },
                                {
                                    "sales_month": "2019-03-26",
                                    "kind_of_business": "oeste",
                                    "total_sales": "1795"
                                },
                                {
                                    "sales_month": "2019-03-27",
                                    "kind_of_business": "sur",
                                    "total_sales": "1650"
                                },
                                {
                                    "sales_month": "2019-03-28",
                                    "kind_of_business": "norte",
                                    "total_sales": "1913"
                                },
                                {
                                    "sales_month": "2019-03-29",
                                    "kind_of_business": "este",
                                    "total_sales": "2024"
                                },
                                {
                                    "sales_month": "2019-04-01",
                                    "kind_of_business": "oeste",
                                    "total_sales": "1556"
                                },
                                {
                                    "sales_month": "2019-04-02",
                                    "kind_of_business": "norte",
                                    "total_sales": "1867"
                                },
                                {
                                    "sales_month": "2019-04-03",
                                    "kind_of_business": "sur",
                                    "total_sales": "1438"
                                },
                                {
                                    "sales_month": "2019-04-04",
                                    "kind_of_business": "este",
                                    "total_sales": "2115"
                                },
                                {
                                    "sales_month": "2019-04-05",
                                    "kind_of_business": "oeste",
                                    "total_sales": "1752"
                                },
                                {
                                    "sales_month": "2019-04-08",
                                    "kind_of_business": "norte",
                                    "total_sales": "2234"
                                },
                                {
                                    "sales_month": "2019-04-09",
                                    "kind_of_business": "sur",
                                    "total_sales": "1985"
                                },
                                {
                                    "sales_month": "2019-04-10",
                                    "kind_of_business": "este",
                                    "total_sales": "1679"
                                },
                                {
                                    "sales_month": "2019-04-11",
                                    "kind_of_business": "oeste",
                                    "total_sales": "1412"
                                },
                                {
                                    "sales_month": "2019-04-12",
                                    "kind_of_business": "norte",
                                    "total_sales": "1890"
                                },
                                {
                                    "sales_month": "2019-04-15",
                                    "kind_of_business": "sur",
                                    "total_sales": "2156"
                                },
                                {
                                    "sales_month": "2019-04-16",
                                    "kind_of_business": "este",
                                    "total_sales": "2087"
                                },
                                {
                                    "sales_month": "2019-04-17",
                                    "kind_of_business": "oeste",
                                    "total_sales": "1593"
                                },
                                {
                                    "sales_month": "2019-04-18",
                                    "kind_of_business": "norte",
                                    "total_sales": "1724"
                                },
                                {
                                    "sales_month": "2019-04-22",
                                    "kind_of_business": "este",
                                    "total_sales": "2251"
                                },
                                {
                                    "sales_month": "2019-04-23",
                                    "kind_of_business": "oeste",
                                    "total_sales": "1940"
                                },
                                {
                                    "sales_month": "2019-04-24",
                                    "kind_of_business": "norte",
                                    "total_sales": "1873"
                                },
                                {
                                    "sales_month": "2019-04-25",
                                    "kind_of_business": "sur",
                                    "total_sales": "1729"
                                },
                                {
                                    "sales_month": "2019-04-26",
                                    "kind_of_business": "este",
                                    "total_sales": "2113"
                                },
                                {
                                    "sales_month": "2019-04-29",
                                    "kind_of_business": "oeste",
                                    "total_sales": "1567"
                                },
                                {
                                    "sales_month": "2019-04-30",
                                    "kind_of_business": "norte",
                                    "total_sales": "1935"
                                },
                                {
                                    "sales_month": "2019-05-01",
                                    "kind_of_business": "sur",
                                    "total_sales": "1754"
                                },
                                {
                                    "sales_month": "2019-05-02",
                                    "kind_of_business": "este",
                                    "total_sales": "2228"
                                },
                                {
                                    "sales_month": "2019-05-03",
                                    "kind_of_business": "oeste",
                                    "total_sales": "1865"
                                },
                                {
                                    "sales_month": "2019-05-06",
                                    "kind_of_business": "norte",
                                    "total_sales": "2176"
                                },
                                {
                                    "sales_month": "2019-05-07",
                                    "kind_of_business": "sur",
                                    "total_sales": "1689"
                                },
                                {
                                    "sales_month": "2019-05-08",
                                    "kind_of_business": "este",
                                    "total_sales": "1550"
                                },
                                {
                                    "sales_month": "2019-05-09",
                                    "kind_of_business": "oeste",
                                    "total_sales": "1992"
                                },
                                {
                                    "sales_month": "2019-05-10",
                                    "kind_of_business": "norte",
                                    "total_sales": "1897"
                                },
                                {
                                    "sales_month": "2019-05-13",
                                    "kind_of_business": "sur",
                                    "total_sales": "2123"
                                },
                                {
                                    "sales_month": "2019-05-14",
                                    "kind_of_business": "este",
                                    "total_sales": "2345"
                                },
                                {
                                    "sales_month": "2019-05-15",
                                    "kind_of_business": "oeste",
                                    "total_sales": "1724"
                                },
                                {
                                    "sales_month": "2019-05-16",
                                    "kind_of_business": "norte",
                                    "total_sales": "1860"
                                },
                                {
                                    "sales_month": "2019-05-17",
                                    "kind_of_business": "sur",
                                    "total_sales": "1985"
                                },
                                {
                                    "sales_month": "2019-05-20",
                                    "kind_of_business": "este",
                                    "total_sales": "2134"
                                }
                            ]
                        },
                        "text/html": "<table><tr><th>sales_month</th><th>kind_of_business</th><th>total_sales</th></tr><tr><td>2019-01-02</td><td>norte</td><td>666</td></tr><tr><td>2019-01-03</td><td>este</td><td>1505</td></tr><tr><td>2019-01-04</td><td>norte</td><td>2145</td></tr><tr><td>2019-01-07</td><td>norte</td><td>751</td></tr><tr><td>2019-01-08</td><td>sur</td><td>1657</td></tr><tr><td>2019-01-09</td><td>sur</td><td>1183</td></tr><tr><td>2019-01-10</td><td>oeste</td><td>1418</td></tr><tr><td>2019-01-11</td><td>sur</td><td>2311</td></tr><tr><td>2019-01-14</td><td>norte</td><td>614</td></tr><tr><td>2019-01-15</td><td>este</td><td>1862</td></tr><tr><td>2019-01-16</td><td>este</td><td>1794</td></tr><tr><td>2019-01-17</td><td>sur</td><td>1497</td></tr><tr><td>2019-01-18</td><td>norte</td><td>2478</td></tr><tr><td>2019-01-21</td><td>norte</td><td>1632</td></tr><tr><td>2019-01-22</td><td>sur</td><td>1723</td></tr><tr><td>2019-01-23</td><td>este</td><td>2247</td></tr><tr><td>2019-01-24</td><td>oeste</td><td>1536</td></tr><tr><td>2019-01-25</td><td>oeste</td><td>2157</td></tr><tr><td>2019-01-28</td><td>norte</td><td>1893</td></tr><tr><td>2019-01-29</td><td>este</td><td>2028</td></tr><tr><td>2019-01-30</td><td>este</td><td>1941</td></tr><tr><td>2019-01-31</td><td>sur</td><td>1234</td></tr><tr><td>2019-02-01</td><td>norte</td><td>1776</td></tr><tr><td>2019-02-04</td><td>sur</td><td>2385</td></tr><tr><td>2019-02-05</td><td>oeste</td><td>1629</td></tr><tr><td>2019-02-06</td><td>oeste</td><td>1946</td></tr><tr><td>2019-02-07</td><td>este</td><td>2054</td></tr><tr><td>2019-02-08</td><td>este</td><td>2186</td></tr><tr><td>2019-02-11</td><td>norte</td><td>1997</td></tr><tr><td>2019-02-12</td><td>sur</td><td>1735</td></tr><tr><td>2019-02-13</td><td>oeste</td><td>1540</td></tr><tr><td>2019-02-14</td><td>norte</td><td>1842</td></tr><tr><td>2019-02-15</td><td>este</td><td>2153</td></tr><tr><td>2019-02-18</td><td>oeste</td><td>1672</td></tr><tr><td>2019-02-19</td><td>este</td><td>1837</td></tr><tr><td>2019-02-20</td><td>sur</td><td>2220</td></tr><tr><td>2019-02-21</td><td>norte</td><td>2368</td></tr><tr><td>2019-02-22</td><td>sur</td><td>1567</td></tr><tr><td>2019-02-25</td><td>norte</td><td>1879</td></tr><tr><td>2019-02-26</td><td>este</td><td>1983</td></tr><tr><td>2019-02-27</td><td>este</td><td>2112</td></tr><tr><td>2019-02-28</td><td>oeste</td><td>1624</td></tr><tr><td>2019-03-01</td><td>norte</td><td>1745</td></tr><tr><td>2019-03-04</td><td>este</td><td>1912</td></tr><tr><td>2019-03-05</td><td>sur</td><td>1526</td></tr><tr><td>2019-03-06</td><td>oeste</td><td>2309</td></tr><tr><td>2019-03-07</td><td>norte</td><td>2387</td></tr><tr><td>2019-03-08</td><td>sur</td><td>1940</td></tr><tr><td>2019-03-11</td><td>este</td><td>2075</td></tr><tr><td>2019-03-12</td><td>sur</td><td>1658</td></tr><tr><td>2019-03-13</td><td>oeste</td><td>1432</td></tr><tr><td>2019-03-14</td><td>norte</td><td>1824</td></tr><tr><td>2019-03-15</td><td>este</td><td>2196</td></tr><tr><td>2019-03-18</td><td>norte</td><td>2310</td></tr><tr><td>2019-03-19</td><td>sur</td><td>1765</td></tr><tr><td>2019-03-20</td><td>oeste</td><td>1583</td></tr><tr><td>2019-03-21</td><td>norte</td><td>2147</td></tr><tr><td>2019-03-22</td><td>sur</td><td>1982</td></tr><tr><td>2019-03-25</td><td>este</td><td>2249</td></tr><tr><td>2019-03-26</td><td>oeste</td><td>1795</td></tr><tr><td>2019-03-27</td><td>sur</td><td>1650</td></tr><tr><td>2019-03-28</td><td>norte</td><td>1913</td></tr><tr><td>2019-03-29</td><td>este</td><td>2024</td></tr><tr><td>2019-04-01</td><td>oeste</td><td>1556</td></tr><tr><td>2019-04-02</td><td>norte</td><td>1867</td></tr><tr><td>2019-04-03</td><td>sur</td><td>1438</td></tr><tr><td>2019-04-04</td><td>este</td><td>2115</td></tr><tr><td>2019-04-05</td><td>oeste</td><td>1752</td></tr><tr><td>2019-04-08</td><td>norte</td><td>2234</td></tr><tr><td>2019-04-09</td><td>sur</td><td>1985</td></tr><tr><td>2019-04-10</td><td>este</td><td>1679</td></tr><tr><td>2019-04-11</td><td>oeste</td><td>1412</td></tr><tr><td>2019-04-12</td><td>norte</td><td>1890</td></tr><tr><td>2019-04-15</td><td>sur</td><td>2156</td></tr><tr><td>2019-04-16</td><td>este</td><td>2087</td></tr><tr><td>2019-04-17</td><td>oeste</td><td>1593</td></tr><tr><td>2019-04-18</td><td>norte</td><td>1724</td></tr><tr><td>2019-04-22</td><td>este</td><td>2251</td></tr><tr><td>2019-04-23</td><td>oeste</td><td>1940</td></tr><tr><td>2019-04-24</td><td>norte</td><td>1873</td></tr><tr><td>2019-04-25</td><td>sur</td><td>1729</td></tr><tr><td>2019-04-26</td><td>este</td><td>2113</td></tr><tr><td>2019-04-29</td><td>oeste</td><td>1567</td></tr><tr><td>2019-04-30</td><td>norte</td><td>1935</td></tr><tr><td>2019-05-01</td><td>sur</td><td>1754</td></tr><tr><td>2019-05-02</td><td>este</td><td>2228</td></tr><tr><td>2019-05-03</td><td>oeste</td><td>1865</td></tr><tr><td>2019-05-06</td><td>norte</td><td>2176</td></tr><tr><td>2019-05-07</td><td>sur</td><td>1689</td></tr><tr><td>2019-05-08</td><td>este</td><td>1550</td></tr><tr><td>2019-05-09</td><td>oeste</td><td>1992</td></tr><tr><td>2019-05-10</td><td>norte</td><td>1897</td></tr><tr><td>2019-05-13</td><td>sur</td><td>2123</td></tr><tr><td>2019-05-14</td><td>este</td><td>2345</td></tr><tr><td>2019-05-15</td><td>oeste</td><td>1724</td></tr><tr><td>2019-05-16</td><td>norte</td><td>1860</td></tr><tr><td>2019-05-17</td><td>sur</td><td>1985</td></tr><tr><td>2019-05-20</td><td>este</td><td>2134</td></tr></table>"
                    },
                    "metadata": {}
                }
            ],
            "execution_count": 81
        },
        {
            "cell_type": "code",
            "source": [
                "--Comparación de ventas por temporada:\r\n",
                "SELECT EXTRACT(MONTH FROM sales_month) AS month, SUM(sales) AS total_sales\r\n",
                "FROM retail_sales\r\n",
                "GROUP BY EXTRACT(MONTH FROM sales_month)\r\n",
                "ORDER BY EXTRACT(MONTH FROM sales_month);\r\n",
                ""
            ],
            "metadata": {
                "azdata_cell_guid": "493a7d30-9ec3-4b5b-bcc2-83d349a9135f",
                "language": "sql"
            },
            "outputs": [
                {
                    "output_type": "display_data",
                    "data": {
                        "text/html": "(5 row(s) affected)"
                    },
                    "metadata": {}
                },
                {
                    "output_type": "display_data",
                    "data": {
                        "text/html": "Total execution time: 00:00:01.016"
                    },
                    "metadata": {}
                },
                {
                    "output_type": "execute_result",
                    "execution_count": 82,
                    "data": {
                        "application/vnd.dataresource+json": {
                            "schema": {
                                "fields": [
                                    {
                                        "name": "month"
                                    },
                                    {
                                        "name": "total_sales"
                                    }
                                ]
                            },
                            "data": [
                                {
                                    "month": "1",
                                    "total_sales": "36272"
                                },
                                {
                                    "month": "2",
                                    "total_sales": "38505"
                                },
                                {
                                    "month": "3",
                                    "total_sales": "40422"
                                },
                                {
                                    "month": "4",
                                    "total_sales": "38896"
                                },
                                {
                                    "month": "5",
                                    "total_sales": "27322"
                                }
                            ]
                        },
                        "text/html": "<table><tr><th>month</th><th>total_sales</th></tr><tr><td>1</td><td>36272</td></tr><tr><td>2</td><td>38505</td></tr><tr><td>3</td><td>40422</td></tr><tr><td>4</td><td>38896</td></tr><tr><td>5</td><td>27322</td></tr></table>"
                    },
                    "metadata": {}
                }
            ],
            "execution_count": 82
        },
        {
            "cell_type": "code",
            "source": [
                "--Comparación de ventas por día de la semana\r\n",
                "SELECT DAYNAME(sales_month) AS day_of_week, SUM(sales) AS total_sales\r\n",
                "FROM retail_sales\r\n",
                "GROUP BY DAYNAME(sales_month)\r\n",
                "ORDER BY FIELD(day_of_week, 'Monday', 'Tuesday', 'Wednesday', 'Thursday', 'Friday', 'Saturday', 'Sunday');\r\n",
                ""
            ],
            "metadata": {
                "azdata_cell_guid": "a2e68143-fc5c-4669-865a-c8b62569db30",
                "language": "sql"
            },
            "outputs": [
                {
                    "output_type": "display_data",
                    "data": {
                        "text/html": "(5 row(s) affected)"
                    },
                    "metadata": {}
                },
                {
                    "output_type": "display_data",
                    "data": {
                        "text/html": "Total execution time: 00:00:01.022"
                    },
                    "metadata": {}
                },
                {
                    "output_type": "execute_result",
                    "execution_count": 84,
                    "data": {
                        "application/vnd.dataresource+json": {
                            "schema": {
                                "fields": [
                                    {
                                        "name": "day_of_week"
                                    },
                                    {
                                        "name": "total_sales"
                                    }
                                ]
                            },
                            "data": [
                                {
                                    "day_of_week": "Monday",
                                    "total_sales": "37566"
                                },
                                {
                                    "day_of_week": "Tuesday",
                                    "total_sales": "35046"
                                },
                                {
                                    "day_of_week": "Wednesday",
                                    "total_sales": "34234"
                                },
                                {
                                    "day_of_week": "Thursday",
                                    "total_sales": "36409"
                                },
                                {
                                    "day_of_week": "Friday",
                                    "total_sales": "38162"
                                }
                            ]
                        },
                        "text/html": "<table><tr><th>day_of_week</th><th>total_sales</th></tr><tr><td>Monday</td><td>37566</td></tr><tr><td>Tuesday</td><td>35046</td></tr><tr><td>Wednesday</td><td>34234</td></tr><tr><td>Thursday</td><td>36409</td></tr><tr><td>Friday</td><td>38162</td></tr></table>"
                    },
                    "metadata": {}
                }
            ],
            "execution_count": 84
        },
        {
            "cell_type": "markdown",
            "source": [
                "## \n",
                "\n",
                "- Porcentaje del total de cálculos"
            ],
            "metadata": {
                "azdata_cell_guid": "d45738eb-e9d4-45a9-83db-422221261e4d"
            },
            "attachments": {}
        },
        {
            "cell_type": "code",
            "source": [
                "SELECT \r\n",
                "    sales_month,\r\n",
                "    kind_of_business,\r\n",
                "    sales,\r\n",
                "    sales / (SELECT SUM(sales) FROM retail_sales) * 100 AS percentage_of_total\r\n",
                "FROM \r\n",
                "    retail_sales;\r\n",
                ""
            ],
            "metadata": {
                "azdata_cell_guid": "686dd6e2-0cca-43c5-90be-2b6ededbb725",
                "language": "sql"
            },
            "outputs": [
                {
                    "output_type": "display_data",
                    "data": {
                        "text/html": "(98 row(s) affected)"
                    },
                    "metadata": {}
                },
                {
                    "output_type": "display_data",
                    "data": {
                        "text/html": "Total execution time: 00:00:01.009"
                    },
                    "metadata": {}
                },
                {
                    "output_type": "execute_result",
                    "execution_count": 85,
                    "data": {
                        "application/vnd.dataresource+json": {
                            "schema": {
                                "fields": [
                                    {
                                        "name": "sales_month"
                                    },
                                    {
                                        "name": "kind_of_business"
                                    },
                                    {
                                        "name": "sales"
                                    },
                                    {
                                        "name": "percentage_of_total"
                                    }
                                ]
                            },
                            "data": [
                                {
                                    "sales_month": "2019-01-02",
                                    "kind_of_business": "norte",
                                    "sales": "666",
                                    "percentage_of_total": "0.3671"
                                },
                                {
                                    "sales_month": "2019-01-03",
                                    "kind_of_business": "este",
                                    "sales": "1505",
                                    "percentage_of_total": "0.8296"
                                },
                                {
                                    "sales_month": "2019-01-04",
                                    "kind_of_business": "norte",
                                    "sales": "2145",
                                    "percentage_of_total": "1.1824"
                                },
                                {
                                    "sales_month": "2019-01-07",
                                    "kind_of_business": "norte",
                                    "sales": "751",
                                    "percentage_of_total": "0.4140"
                                },
                                {
                                    "sales_month": "2019-01-08",
                                    "kind_of_business": "sur",
                                    "sales": "1657",
                                    "percentage_of_total": "0.9134"
                                },
                                {
                                    "sales_month": "2019-01-09",
                                    "kind_of_business": "sur",
                                    "sales": "1183",
                                    "percentage_of_total": "0.6521"
                                },
                                {
                                    "sales_month": "2019-01-10",
                                    "kind_of_business": "oeste",
                                    "sales": "1418",
                                    "percentage_of_total": "0.7816"
                                },
                                {
                                    "sales_month": "2019-01-11",
                                    "kind_of_business": "sur",
                                    "sales": "2311",
                                    "percentage_of_total": "1.2739"
                                },
                                {
                                    "sales_month": "2019-01-14",
                                    "kind_of_business": "norte",
                                    "sales": "614",
                                    "percentage_of_total": "0.3384"
                                },
                                {
                                    "sales_month": "2019-01-15",
                                    "kind_of_business": "este",
                                    "sales": "1862",
                                    "percentage_of_total": "1.0264"
                                },
                                {
                                    "sales_month": "2019-01-16",
                                    "kind_of_business": "este",
                                    "sales": "1794",
                                    "percentage_of_total": "0.9889"
                                },
                                {
                                    "sales_month": "2019-01-17",
                                    "kind_of_business": "sur",
                                    "sales": "1497",
                                    "percentage_of_total": "0.8252"
                                },
                                {
                                    "sales_month": "2019-01-18",
                                    "kind_of_business": "norte",
                                    "sales": "2478",
                                    "percentage_of_total": "1.3659"
                                },
                                {
                                    "sales_month": "2019-01-21",
                                    "kind_of_business": "norte",
                                    "sales": "1632",
                                    "percentage_of_total": "0.8996"
                                },
                                {
                                    "sales_month": "2019-01-22",
                                    "kind_of_business": "sur",
                                    "sales": "1723",
                                    "percentage_of_total": "0.9497"
                                },
                                {
                                    "sales_month": "2019-01-23",
                                    "kind_of_business": "este",
                                    "sales": "2247",
                                    "percentage_of_total": "1.2386"
                                },
                                {
                                    "sales_month": "2019-01-24",
                                    "kind_of_business": "oeste",
                                    "sales": "1536",
                                    "percentage_of_total": "0.8467"
                                },
                                {
                                    "sales_month": "2019-01-25",
                                    "kind_of_business": "oeste",
                                    "sales": "2157",
                                    "percentage_of_total": "1.1890"
                                },
                                {
                                    "sales_month": "2019-01-28",
                                    "kind_of_business": "norte",
                                    "sales": "1893",
                                    "percentage_of_total": "1.0435"
                                },
                                {
                                    "sales_month": "2019-01-29",
                                    "kind_of_business": "este",
                                    "sales": "2028",
                                    "percentage_of_total": "1.1179"
                                },
                                {
                                    "sales_month": "2019-01-30",
                                    "kind_of_business": "este",
                                    "sales": "1941",
                                    "percentage_of_total": "1.0699"
                                },
                                {
                                    "sales_month": "2019-01-31",
                                    "kind_of_business": "sur",
                                    "sales": "1234",
                                    "percentage_of_total": "0.6802"
                                },
                                {
                                    "sales_month": "2019-02-01",
                                    "kind_of_business": "norte",
                                    "sales": "1776",
                                    "percentage_of_total": "0.9790"
                                },
                                {
                                    "sales_month": "2019-02-04",
                                    "kind_of_business": "sur",
                                    "sales": "2385",
                                    "percentage_of_total": "1.3147"
                                },
                                {
                                    "sales_month": "2019-02-05",
                                    "kind_of_business": "oeste",
                                    "sales": "1629",
                                    "percentage_of_total": "0.8979"
                                },
                                {
                                    "sales_month": "2019-02-06",
                                    "kind_of_business": "oeste",
                                    "sales": "1946",
                                    "percentage_of_total": "1.0727"
                                },
                                {
                                    "sales_month": "2019-02-07",
                                    "kind_of_business": "este",
                                    "sales": "2054",
                                    "percentage_of_total": "1.1322"
                                },
                                {
                                    "sales_month": "2019-02-08",
                                    "kind_of_business": "este",
                                    "sales": "2186",
                                    "percentage_of_total": "1.2050"
                                },
                                {
                                    "sales_month": "2019-02-11",
                                    "kind_of_business": "norte",
                                    "sales": "1997",
                                    "percentage_of_total": "1.1008"
                                },
                                {
                                    "sales_month": "2019-02-12",
                                    "kind_of_business": "sur",
                                    "sales": "1735",
                                    "percentage_of_total": "0.9564"
                                },
                                {
                                    "sales_month": "2019-02-13",
                                    "kind_of_business": "oeste",
                                    "sales": "1540",
                                    "percentage_of_total": "0.8489"
                                },
                                {
                                    "sales_month": "2019-02-14",
                                    "kind_of_business": "norte",
                                    "sales": "1842",
                                    "percentage_of_total": "1.0153"
                                },
                                {
                                    "sales_month": "2019-02-15",
                                    "kind_of_business": "este",
                                    "sales": "2153",
                                    "percentage_of_total": "1.1868"
                                },
                                {
                                    "sales_month": "2019-02-18",
                                    "kind_of_business": "oeste",
                                    "sales": "1672",
                                    "percentage_of_total": "0.9216"
                                },
                                {
                                    "sales_month": "2019-02-19",
                                    "kind_of_business": "este",
                                    "sales": "1837",
                                    "percentage_of_total": "1.0126"
                                },
                                {
                                    "sales_month": "2019-02-20",
                                    "kind_of_business": "sur",
                                    "sales": "2220",
                                    "percentage_of_total": "1.2237"
                                },
                                {
                                    "sales_month": "2019-02-21",
                                    "kind_of_business": "norte",
                                    "sales": "2368",
                                    "percentage_of_total": "1.3053"
                                },
                                {
                                    "sales_month": "2019-02-22",
                                    "kind_of_business": "sur",
                                    "sales": "1567",
                                    "percentage_of_total": "0.8638"
                                },
                                {
                                    "sales_month": "2019-02-25",
                                    "kind_of_business": "norte",
                                    "sales": "1879",
                                    "percentage_of_total": "1.0357"
                                },
                                {
                                    "sales_month": "2019-02-26",
                                    "kind_of_business": "este",
                                    "sales": "1983",
                                    "percentage_of_total": "1.0931"
                                },
                                {
                                    "sales_month": "2019-02-27",
                                    "kind_of_business": "este",
                                    "sales": "2112",
                                    "percentage_of_total": "1.1642"
                                },
                                {
                                    "sales_month": "2019-02-28",
                                    "kind_of_business": "oeste",
                                    "sales": "1624",
                                    "percentage_of_total": "0.8952"
                                },
                                {
                                    "sales_month": "2019-03-01",
                                    "kind_of_business": "norte",
                                    "sales": "1745",
                                    "percentage_of_total": "0.9619"
                                },
                                {
                                    "sales_month": "2019-03-04",
                                    "kind_of_business": "este",
                                    "sales": "1912",
                                    "percentage_of_total": "1.0539"
                                },
                                {
                                    "sales_month": "2019-03-05",
                                    "kind_of_business": "sur",
                                    "sales": "1526",
                                    "percentage_of_total": "0.8412"
                                },
                                {
                                    "sales_month": "2019-03-06",
                                    "kind_of_business": "oeste",
                                    "sales": "2309",
                                    "percentage_of_total": "1.2728"
                                },
                                {
                                    "sales_month": "2019-03-07",
                                    "kind_of_business": "norte",
                                    "sales": "2387",
                                    "percentage_of_total": "1.3158"
                                },
                                {
                                    "sales_month": "2019-03-08",
                                    "kind_of_business": "sur",
                                    "sales": "1940",
                                    "percentage_of_total": "1.0694"
                                },
                                {
                                    "sales_month": "2019-03-11",
                                    "kind_of_business": "este",
                                    "sales": "2075",
                                    "percentage_of_total": "1.1438"
                                },
                                {
                                    "sales_month": "2019-03-12",
                                    "kind_of_business": "sur",
                                    "sales": "1658",
                                    "percentage_of_total": "0.9139"
                                },
                                {
                                    "sales_month": "2019-03-13",
                                    "kind_of_business": "oeste",
                                    "sales": "1432",
                                    "percentage_of_total": "0.7893"
                                },
                                {
                                    "sales_month": "2019-03-14",
                                    "kind_of_business": "norte",
                                    "sales": "1824",
                                    "percentage_of_total": "1.0054"
                                },
                                {
                                    "sales_month": "2019-03-15",
                                    "kind_of_business": "este",
                                    "sales": "2196",
                                    "percentage_of_total": "1.2105"
                                },
                                {
                                    "sales_month": "2019-03-18",
                                    "kind_of_business": "norte",
                                    "sales": "2310",
                                    "percentage_of_total": "1.2733"
                                },
                                {
                                    "sales_month": "2019-03-19",
                                    "kind_of_business": "sur",
                                    "sales": "1765",
                                    "percentage_of_total": "0.9729"
                                },
                                {
                                    "sales_month": "2019-03-20",
                                    "kind_of_business": "oeste",
                                    "sales": "1583",
                                    "percentage_of_total": "0.8726"
                                },
                                {
                                    "sales_month": "2019-03-21",
                                    "kind_of_business": "norte",
                                    "sales": "2147",
                                    "percentage_of_total": "1.1835"
                                },
                                {
                                    "sales_month": "2019-03-22",
                                    "kind_of_business": "sur",
                                    "sales": "1982",
                                    "percentage_of_total": "1.0925"
                                },
                                {
                                    "sales_month": "2019-03-25",
                                    "kind_of_business": "este",
                                    "sales": "2249",
                                    "percentage_of_total": "1.2397"
                                },
                                {
                                    "sales_month": "2019-03-26",
                                    "kind_of_business": "oeste",
                                    "sales": "1795",
                                    "percentage_of_total": "0.9894"
                                },
                                {
                                    "sales_month": "2019-03-27",
                                    "kind_of_business": "sur",
                                    "sales": "1650",
                                    "percentage_of_total": "0.9095"
                                },
                                {
                                    "sales_month": "2019-03-28",
                                    "kind_of_business": "norte",
                                    "sales": "1913",
                                    "percentage_of_total": "1.0545"
                                },
                                {
                                    "sales_month": "2019-03-29",
                                    "kind_of_business": "este",
                                    "sales": "2024",
                                    "percentage_of_total": "1.1157"
                                },
                                {
                                    "sales_month": "2019-04-01",
                                    "kind_of_business": "oeste",
                                    "sales": "1556",
                                    "percentage_of_total": "0.8577"
                                },
                                {
                                    "sales_month": "2019-04-02",
                                    "kind_of_business": "norte",
                                    "sales": "1867",
                                    "percentage_of_total": "1.0291"
                                },
                                {
                                    "sales_month": "2019-04-03",
                                    "kind_of_business": "sur",
                                    "sales": "1438",
                                    "percentage_of_total": "0.7926"
                                },
                                {
                                    "sales_month": "2019-04-04",
                                    "kind_of_business": "este",
                                    "sales": "2115",
                                    "percentage_of_total": "1.1658"
                                },
                                {
                                    "sales_month": "2019-04-05",
                                    "kind_of_business": "oeste",
                                    "sales": "1752",
                                    "percentage_of_total": "0.9657"
                                },
                                {
                                    "sales_month": "2019-04-08",
                                    "kind_of_business": "norte",
                                    "sales": "2234",
                                    "percentage_of_total": "1.2314"
                                },
                                {
                                    "sales_month": "2019-04-09",
                                    "kind_of_business": "sur",
                                    "sales": "1985",
                                    "percentage_of_total": "1.0942"
                                },
                                {
                                    "sales_month": "2019-04-10",
                                    "kind_of_business": "este",
                                    "sales": "1679",
                                    "percentage_of_total": "0.9255"
                                },
                                {
                                    "sales_month": "2019-04-11",
                                    "kind_of_business": "oeste",
                                    "sales": "1412",
                                    "percentage_of_total": "0.7783"
                                },
                                {
                                    "sales_month": "2019-04-12",
                                    "kind_of_business": "norte",
                                    "sales": "1890",
                                    "percentage_of_total": "1.0418"
                                },
                                {
                                    "sales_month": "2019-04-15",
                                    "kind_of_business": "sur",
                                    "sales": "2156",
                                    "percentage_of_total": "1.1884"
                                },
                                {
                                    "sales_month": "2019-04-16",
                                    "kind_of_business": "este",
                                    "sales": "2087",
                                    "percentage_of_total": "1.1504"
                                },
                                {
                                    "sales_month": "2019-04-17",
                                    "kind_of_business": "oeste",
                                    "sales": "1593",
                                    "percentage_of_total": "0.8781"
                                },
                                {
                                    "sales_month": "2019-04-18",
                                    "kind_of_business": "norte",
                                    "sales": "1724",
                                    "percentage_of_total": "0.9503"
                                },
                                {
                                    "sales_month": "2019-04-22",
                                    "kind_of_business": "este",
                                    "sales": "2251",
                                    "percentage_of_total": "1.2408"
                                },
                                {
                                    "sales_month": "2019-04-23",
                                    "kind_of_business": "oeste",
                                    "sales": "1940",
                                    "percentage_of_total": "1.0694"
                                },
                                {
                                    "sales_month": "2019-04-24",
                                    "kind_of_business": "norte",
                                    "sales": "1873",
                                    "percentage_of_total": "1.0324"
                                },
                                {
                                    "sales_month": "2019-04-25",
                                    "kind_of_business": "sur",
                                    "sales": "1729",
                                    "percentage_of_total": "0.9531"
                                },
                                {
                                    "sales_month": "2019-04-26",
                                    "kind_of_business": "este",
                                    "sales": "2113",
                                    "percentage_of_total": "1.1647"
                                },
                                {
                                    "sales_month": "2019-04-29",
                                    "kind_of_business": "oeste",
                                    "sales": "1567",
                                    "percentage_of_total": "0.8638"
                                },
                                {
                                    "sales_month": "2019-04-30",
                                    "kind_of_business": "norte",
                                    "sales": "1935",
                                    "percentage_of_total": "1.0666"
                                },
                                {
                                    "sales_month": "2019-05-01",
                                    "kind_of_business": "sur",
                                    "sales": "1754",
                                    "percentage_of_total": "0.9668"
                                },
                                {
                                    "sales_month": "2019-05-02",
                                    "kind_of_business": "este",
                                    "sales": "2228",
                                    "percentage_of_total": "1.2281"
                                },
                                {
                                    "sales_month": "2019-05-03",
                                    "kind_of_business": "oeste",
                                    "sales": "1865",
                                    "percentage_of_total": "1.0280"
                                },
                                {
                                    "sales_month": "2019-05-06",
                                    "kind_of_business": "norte",
                                    "sales": "2176",
                                    "percentage_of_total": "1.1994"
                                },
                                {
                                    "sales_month": "2019-05-07",
                                    "kind_of_business": "sur",
                                    "sales": "1689",
                                    "percentage_of_total": "0.9310"
                                },
                                {
                                    "sales_month": "2019-05-08",
                                    "kind_of_business": "este",
                                    "sales": "1550",
                                    "percentage_of_total": "0.8544"
                                },
                                {
                                    "sales_month": "2019-05-09",
                                    "kind_of_business": "oeste",
                                    "sales": "1992",
                                    "percentage_of_total": "1.0980"
                                },
                                {
                                    "sales_month": "2019-05-10",
                                    "kind_of_business": "norte",
                                    "sales": "1897",
                                    "percentage_of_total": "1.0457"
                                },
                                {
                                    "sales_month": "2019-05-13",
                                    "kind_of_business": "sur",
                                    "sales": "2123",
                                    "percentage_of_total": "1.1702"
                                },
                                {
                                    "sales_month": "2019-05-14",
                                    "kind_of_business": "este",
                                    "sales": "2345",
                                    "percentage_of_total": "1.2926"
                                },
                                {
                                    "sales_month": "2019-05-15",
                                    "kind_of_business": "oeste",
                                    "sales": "1724",
                                    "percentage_of_total": "0.9503"
                                },
                                {
                                    "sales_month": "2019-05-16",
                                    "kind_of_business": "norte",
                                    "sales": "1860",
                                    "percentage_of_total": "1.0253"
                                },
                                {
                                    "sales_month": "2019-05-17",
                                    "kind_of_business": "sur",
                                    "sales": "1985",
                                    "percentage_of_total": "1.0942"
                                },
                                {
                                    "sales_month": "2019-05-20",
                                    "kind_of_business": "este",
                                    "sales": "2134",
                                    "percentage_of_total": "1.1763"
                                }
                            ]
                        },
                        "text/html": "<table><tr><th>sales_month</th><th>kind_of_business</th><th>sales</th><th>percentage_of_total</th></tr><tr><td>2019-01-02</td><td>norte</td><td>666</td><td>0.3671</td></tr><tr><td>2019-01-03</td><td>este</td><td>1505</td><td>0.8296</td></tr><tr><td>2019-01-04</td><td>norte</td><td>2145</td><td>1.1824</td></tr><tr><td>2019-01-07</td><td>norte</td><td>751</td><td>0.4140</td></tr><tr><td>2019-01-08</td><td>sur</td><td>1657</td><td>0.9134</td></tr><tr><td>2019-01-09</td><td>sur</td><td>1183</td><td>0.6521</td></tr><tr><td>2019-01-10</td><td>oeste</td><td>1418</td><td>0.7816</td></tr><tr><td>2019-01-11</td><td>sur</td><td>2311</td><td>1.2739</td></tr><tr><td>2019-01-14</td><td>norte</td><td>614</td><td>0.3384</td></tr><tr><td>2019-01-15</td><td>este</td><td>1862</td><td>1.0264</td></tr><tr><td>2019-01-16</td><td>este</td><td>1794</td><td>0.9889</td></tr><tr><td>2019-01-17</td><td>sur</td><td>1497</td><td>0.8252</td></tr><tr><td>2019-01-18</td><td>norte</td><td>2478</td><td>1.3659</td></tr><tr><td>2019-01-21</td><td>norte</td><td>1632</td><td>0.8996</td></tr><tr><td>2019-01-22</td><td>sur</td><td>1723</td><td>0.9497</td></tr><tr><td>2019-01-23</td><td>este</td><td>2247</td><td>1.2386</td></tr><tr><td>2019-01-24</td><td>oeste</td><td>1536</td><td>0.8467</td></tr><tr><td>2019-01-25</td><td>oeste</td><td>2157</td><td>1.1890</td></tr><tr><td>2019-01-28</td><td>norte</td><td>1893</td><td>1.0435</td></tr><tr><td>2019-01-29</td><td>este</td><td>2028</td><td>1.1179</td></tr><tr><td>2019-01-30</td><td>este</td><td>1941</td><td>1.0699</td></tr><tr><td>2019-01-31</td><td>sur</td><td>1234</td><td>0.6802</td></tr><tr><td>2019-02-01</td><td>norte</td><td>1776</td><td>0.9790</td></tr><tr><td>2019-02-04</td><td>sur</td><td>2385</td><td>1.3147</td></tr><tr><td>2019-02-05</td><td>oeste</td><td>1629</td><td>0.8979</td></tr><tr><td>2019-02-06</td><td>oeste</td><td>1946</td><td>1.0727</td></tr><tr><td>2019-02-07</td><td>este</td><td>2054</td><td>1.1322</td></tr><tr><td>2019-02-08</td><td>este</td><td>2186</td><td>1.2050</td></tr><tr><td>2019-02-11</td><td>norte</td><td>1997</td><td>1.1008</td></tr><tr><td>2019-02-12</td><td>sur</td><td>1735</td><td>0.9564</td></tr><tr><td>2019-02-13</td><td>oeste</td><td>1540</td><td>0.8489</td></tr><tr><td>2019-02-14</td><td>norte</td><td>1842</td><td>1.0153</td></tr><tr><td>2019-02-15</td><td>este</td><td>2153</td><td>1.1868</td></tr><tr><td>2019-02-18</td><td>oeste</td><td>1672</td><td>0.9216</td></tr><tr><td>2019-02-19</td><td>este</td><td>1837</td><td>1.0126</td></tr><tr><td>2019-02-20</td><td>sur</td><td>2220</td><td>1.2237</td></tr><tr><td>2019-02-21</td><td>norte</td><td>2368</td><td>1.3053</td></tr><tr><td>2019-02-22</td><td>sur</td><td>1567</td><td>0.8638</td></tr><tr><td>2019-02-25</td><td>norte</td><td>1879</td><td>1.0357</td></tr><tr><td>2019-02-26</td><td>este</td><td>1983</td><td>1.0931</td></tr><tr><td>2019-02-27</td><td>este</td><td>2112</td><td>1.1642</td></tr><tr><td>2019-02-28</td><td>oeste</td><td>1624</td><td>0.8952</td></tr><tr><td>2019-03-01</td><td>norte</td><td>1745</td><td>0.9619</td></tr><tr><td>2019-03-04</td><td>este</td><td>1912</td><td>1.0539</td></tr><tr><td>2019-03-05</td><td>sur</td><td>1526</td><td>0.8412</td></tr><tr><td>2019-03-06</td><td>oeste</td><td>2309</td><td>1.2728</td></tr><tr><td>2019-03-07</td><td>norte</td><td>2387</td><td>1.3158</td></tr><tr><td>2019-03-08</td><td>sur</td><td>1940</td><td>1.0694</td></tr><tr><td>2019-03-11</td><td>este</td><td>2075</td><td>1.1438</td></tr><tr><td>2019-03-12</td><td>sur</td><td>1658</td><td>0.9139</td></tr><tr><td>2019-03-13</td><td>oeste</td><td>1432</td><td>0.7893</td></tr><tr><td>2019-03-14</td><td>norte</td><td>1824</td><td>1.0054</td></tr><tr><td>2019-03-15</td><td>este</td><td>2196</td><td>1.2105</td></tr><tr><td>2019-03-18</td><td>norte</td><td>2310</td><td>1.2733</td></tr><tr><td>2019-03-19</td><td>sur</td><td>1765</td><td>0.9729</td></tr><tr><td>2019-03-20</td><td>oeste</td><td>1583</td><td>0.8726</td></tr><tr><td>2019-03-21</td><td>norte</td><td>2147</td><td>1.1835</td></tr><tr><td>2019-03-22</td><td>sur</td><td>1982</td><td>1.0925</td></tr><tr><td>2019-03-25</td><td>este</td><td>2249</td><td>1.2397</td></tr><tr><td>2019-03-26</td><td>oeste</td><td>1795</td><td>0.9894</td></tr><tr><td>2019-03-27</td><td>sur</td><td>1650</td><td>0.9095</td></tr><tr><td>2019-03-28</td><td>norte</td><td>1913</td><td>1.0545</td></tr><tr><td>2019-03-29</td><td>este</td><td>2024</td><td>1.1157</td></tr><tr><td>2019-04-01</td><td>oeste</td><td>1556</td><td>0.8577</td></tr><tr><td>2019-04-02</td><td>norte</td><td>1867</td><td>1.0291</td></tr><tr><td>2019-04-03</td><td>sur</td><td>1438</td><td>0.7926</td></tr><tr><td>2019-04-04</td><td>este</td><td>2115</td><td>1.1658</td></tr><tr><td>2019-04-05</td><td>oeste</td><td>1752</td><td>0.9657</td></tr><tr><td>2019-04-08</td><td>norte</td><td>2234</td><td>1.2314</td></tr><tr><td>2019-04-09</td><td>sur</td><td>1985</td><td>1.0942</td></tr><tr><td>2019-04-10</td><td>este</td><td>1679</td><td>0.9255</td></tr><tr><td>2019-04-11</td><td>oeste</td><td>1412</td><td>0.7783</td></tr><tr><td>2019-04-12</td><td>norte</td><td>1890</td><td>1.0418</td></tr><tr><td>2019-04-15</td><td>sur</td><td>2156</td><td>1.1884</td></tr><tr><td>2019-04-16</td><td>este</td><td>2087</td><td>1.1504</td></tr><tr><td>2019-04-17</td><td>oeste</td><td>1593</td><td>0.8781</td></tr><tr><td>2019-04-18</td><td>norte</td><td>1724</td><td>0.9503</td></tr><tr><td>2019-04-22</td><td>este</td><td>2251</td><td>1.2408</td></tr><tr><td>2019-04-23</td><td>oeste</td><td>1940</td><td>1.0694</td></tr><tr><td>2019-04-24</td><td>norte</td><td>1873</td><td>1.0324</td></tr><tr><td>2019-04-25</td><td>sur</td><td>1729</td><td>0.9531</td></tr><tr><td>2019-04-26</td><td>este</td><td>2113</td><td>1.1647</td></tr><tr><td>2019-04-29</td><td>oeste</td><td>1567</td><td>0.8638</td></tr><tr><td>2019-04-30</td><td>norte</td><td>1935</td><td>1.0666</td></tr><tr><td>2019-05-01</td><td>sur</td><td>1754</td><td>0.9668</td></tr><tr><td>2019-05-02</td><td>este</td><td>2228</td><td>1.2281</td></tr><tr><td>2019-05-03</td><td>oeste</td><td>1865</td><td>1.0280</td></tr><tr><td>2019-05-06</td><td>norte</td><td>2176</td><td>1.1994</td></tr><tr><td>2019-05-07</td><td>sur</td><td>1689</td><td>0.9310</td></tr><tr><td>2019-05-08</td><td>este</td><td>1550</td><td>0.8544</td></tr><tr><td>2019-05-09</td><td>oeste</td><td>1992</td><td>1.0980</td></tr><tr><td>2019-05-10</td><td>norte</td><td>1897</td><td>1.0457</td></tr><tr><td>2019-05-13</td><td>sur</td><td>2123</td><td>1.1702</td></tr><tr><td>2019-05-14</td><td>este</td><td>2345</td><td>1.2926</td></tr><tr><td>2019-05-15</td><td>oeste</td><td>1724</td><td>0.9503</td></tr><tr><td>2019-05-16</td><td>norte</td><td>1860</td><td>1.0253</td></tr><tr><td>2019-05-17</td><td>sur</td><td>1985</td><td>1.0942</td></tr><tr><td>2019-05-20</td><td>este</td><td>2134</td><td>1.1763</td></tr></table>"
                    },
                    "metadata": {}
                }
            ],
            "execution_count": 85
        },
        {
            "cell_type": "code",
            "source": [
                "--Ventas totales por tipo de negocio:\r\n",
                "SELECT \r\n",
                "    kind_of_business,\r\n",
                "    SUM(sales) AS total_sales,\r\n",
                "    (SUM(sales) / (SELECT SUM(sales) FROM retail_sales)) * 100 AS percentage_of_total\r\n",
                "FROM \r\n",
                "    retail_sales\r\n",
                "GROUP BY \r\n",
                "    kind_of_business;\r\n",
                "\r\n",
                ""
            ],
            "metadata": {
                "azdata_cell_guid": "de6e8a4a-7c98-421d-9c48-83a5863dddc1",
                "language": "sql"
            },
            "outputs": [
                {
                    "output_type": "display_data",
                    "data": {
                        "text/html": "(4 row(s) affected)"
                    },
                    "metadata": {}
                },
                {
                    "output_type": "display_data",
                    "data": {
                        "text/html": "Total execution time: 00:00:01.007"
                    },
                    "metadata": {}
                },
                {
                    "output_type": "execute_result",
                    "execution_count": 87,
                    "data": {
                        "application/vnd.dataresource+json": {
                            "schema": {
                                "fields": [
                                    {
                                        "name": "kind_of_business"
                                    },
                                    {
                                        "name": "total_sales"
                                    },
                                    {
                                        "name": "percentage_of_total"
                                    }
                                ]
                            },
                            "data": [
                                {
                                    "kind_of_business": "norte",
                                    "total_sales": "49823",
                                    "percentage_of_total": "27.4632"
                                },
                                {
                                    "kind_of_business": "este",
                                    "total_sales": "52660",
                                    "percentage_of_total": "29.0270"
                                },
                                {
                                    "kind_of_business": "sur",
                                    "total_sales": "42892",
                                    "percentage_of_total": "23.6428"
                                },
                                {
                                    "kind_of_business": "oeste",
                                    "total_sales": "36042",
                                    "percentage_of_total": "19.8669"
                                }
                            ]
                        },
                        "text/html": "<table><tr><th>kind_of_business</th><th>total_sales</th><th>percentage_of_total</th></tr><tr><td>norte</td><td>49823</td><td>27.4632</td></tr><tr><td>este</td><td>52660</td><td>29.0270</td></tr><tr><td>sur</td><td>42892</td><td>23.6428</td></tr><tr><td>oeste</td><td>36042</td><td>19.8669</td></tr></table>"
                    },
                    "metadata": {}
                }
            ],
            "execution_count": 87
        },
        {
            "cell_type": "code",
            "source": [
                "--Porcentaje de las ventas totales mensual:\r\n",
                "SELECT \r\n",
                "    DATE_FORMAT(sales_month, '%Y-%m') AS sales_month,\r\n",
                "    SUM(sales) AS total_monthly_sales,\r\n",
                "    (SUM(sales) / (SELECT SUM(sales) FROM retail_sales)) * 100 AS percentage_of_total\r\n",
                "FROM \r\n",
                "    retail_sales\r\n",
                "GROUP BY \r\n",
                "    DATE_FORMAT(sales_month, '%Y-%m');\r\n",
                "\r\n",
                "\r\n",
                ""
            ],
            "metadata": {
                "azdata_cell_guid": "aaedd83a-f3f1-45d4-a80d-8634a9d0f148",
                "language": "sql"
            },
            "outputs": [
                {
                    "output_type": "display_data",
                    "data": {
                        "text/html": "(5 row(s) affected)"
                    },
                    "metadata": {}
                },
                {
                    "output_type": "display_data",
                    "data": {
                        "text/html": "Total execution time: 00:00:01.009"
                    },
                    "metadata": {}
                },
                {
                    "output_type": "execute_result",
                    "execution_count": 91,
                    "data": {
                        "application/vnd.dataresource+json": {
                            "schema": {
                                "fields": [
                                    {
                                        "name": "sales_month"
                                    },
                                    {
                                        "name": "total_monthly_sales"
                                    },
                                    {
                                        "name": "percentage_of_total"
                                    }
                                ]
                            },
                            "data": [
                                {
                                    "sales_month": "2019-01",
                                    "total_monthly_sales": "36272",
                                    "percentage_of_total": "19.9937"
                                },
                                {
                                    "sales_month": "2019-02",
                                    "total_monthly_sales": "38505",
                                    "percentage_of_total": "21.2246"
                                },
                                {
                                    "sales_month": "2019-03",
                                    "total_monthly_sales": "40422",
                                    "percentage_of_total": "22.2813"
                                },
                                {
                                    "sales_month": "2019-04",
                                    "total_monthly_sales": "38896",
                                    "percentage_of_total": "21.4401"
                                },
                                {
                                    "sales_month": "2019-05",
                                    "total_monthly_sales": "27322",
                                    "percentage_of_total": "15.0603"
                                }
                            ]
                        },
                        "text/html": "<table><tr><th>sales_month</th><th>total_monthly_sales</th><th>percentage_of_total</th></tr><tr><td>2019-01</td><td>36272</td><td>19.9937</td></tr><tr><td>2019-02</td><td>38505</td><td>21.2246</td></tr><tr><td>2019-03</td><td>40422</td><td>22.2813</td></tr><tr><td>2019-04</td><td>38896</td><td>21.4401</td></tr><tr><td>2019-05</td><td>27322</td><td>15.0603</td></tr></table>"
                    },
                    "metadata": {}
                }
            ],
            "execution_count": 91
        }
    ]
}